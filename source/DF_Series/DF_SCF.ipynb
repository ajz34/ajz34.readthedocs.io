{
 "cells": [
  {
   "cell_type": "markdown",
   "metadata": {},
   "source": [
    "# 简单理解 Density Fitting RHF 自洽场"
   ]
  },
  {
   "cell_type": "markdown",
   "metadata": {},
   "source": [
    "这一篇文章我们简单讨论 PySCF 下的 Density Fitting (DF) 的实现过程。"
   ]
  },
  {
   "cell_type": "code",
   "execution_count": 1,
   "metadata": {},
   "outputs": [],
   "source": [
    "%matplotlib notebook\n",
    "\n",
    "import numpy as np\n",
    "import scipy\n",
    "from functools import partial\n",
    "import matplotlib.pyplot as plt\n",
    "\n",
    "from pyscf import gto, scf, df\n",
    "\n",
    "np.einsum = partial(np.einsum, optimize=[\"greedy\", 1024 ** 3 * 2 / 8])\n",
    "np.set_printoptions(8, linewidth=150, suppress=True)"
   ]
  },
  {
   "cell_type": "markdown",
   "metadata": {},
   "source": [
    "在开始这篇文章前，我们需要定义用于将以向量储存的下三角矩阵转为普通对称矩阵的函数 `tril_to_symm`。若同时传入多个下三角矩阵，那么我们也会同样地传出多个对应的对称矩阵。"
   ]
  },
  {
   "cell_type": "code",
   "execution_count": 2,
   "metadata": {},
   "outputs": [],
   "source": [
    "def tril_to_symm(tril: np.ndarray):\n",
    "    tril = np.asarray(tril)\n",
    "    if len(tril.shape) > 1:\n",
    "        return np.array([tril_to_symm(mat) for mat in tril])\n",
    "    dim = int(np.floor(np.sqrt(tril.size * 2)))\n",
    "    if dim * (dim + 1) / 2 != tril.size:\n",
    "        raise ValueError(\"Size \" + str(tril.size) + \" is probably not a valid lower-triangle matrix.\")\n",
    "    indices_tuple = np.tril_indices(dim)\n",
    "    iterator = zip(*indices_tuple)\n",
    "    symm = np.empty((dim, dim))\n",
    "    for it, (row, col) in enumerate(iterator):\n",
    "        symm[row, col] = tril[it]\n",
    "        symm[col, row] = tril[it]\n",
    "    return symm"
   ]
  },
  {
   "cell_type": "markdown",
   "metadata": {},
   "source": [
    "我们也需要指定我们的分子体系。这里使用一个非常不对称的双氧水作为例子："
   ]
  },
  {
   "cell_type": "code",
   "execution_count": 3,
   "metadata": {},
   "outputs": [
    {
     "data": {
      "text/plain": [
       "<pyscf.gto.mole.Mole at 0x7f660d4fabe0>"
      ]
     },
     "execution_count": 3,
     "metadata": {},
     "output_type": "execute_result"
    }
   ],
   "source": [
    "mol = gto.Mole()\n",
    "mol.atom = \"\"\"\n",
    "O  0.0  0.0  0.0\n",
    "O  0.0  0.0  1.5\n",
    "H  1.0  0.0  0.0\n",
    "H  0.0  0.7  1.0\n",
    "\"\"\"\n",
    "mol.basis = \"def2-tzvp\"\n",
    "mol.verbose = 0\n",
    "mol.build()"
   ]
  },
  {
   "cell_type": "markdown",
   "metadata": {},
   "source": [
    "## PySCF 自洽场"
   ]
  },
  {
   "cell_type": "markdown",
   "metadata": {},
   "source": [
    "### PySCF 普通 RHF"
   ]
  },
  {
   "cell_type": "markdown",
   "metadata": {},
   "source": [
    "在我们跑 DF RHF 前，我们先跑一下普通的 RHF，以作对比。"
   ]
  },
  {
   "cell_type": "code",
   "execution_count": 4,
   "metadata": {},
   "outputs": [
    {
     "data": {
      "text/plain": [
       "-150.73664182977006"
      ]
     },
     "execution_count": 4,
     "metadata": {},
     "output_type": "execute_result"
    }
   ],
   "source": [
    "scf_normal = scf.RHF(mol)\n",
    "scf_normal.run()\n",
    "scf_normal.e_tot"
   ]
  },
  {
   "cell_type": "markdown",
   "metadata": {},
   "source": [
    "### PySCF DF RHF"
   ]
  },
  {
   "cell_type": "markdown",
   "metadata": {},
   "source": [
    "在 PySCF 中，设置 DF 一般至少需要两步：首先需要让 RHF 方法成为 DF 的；其次需要定义 DF 基组。"
   ]
  },
  {
   "cell_type": "code",
   "execution_count": 5,
   "metadata": {},
   "outputs": [
    {
     "data": {
      "text/plain": [
       "-150.73658270520568"
      ]
     },
     "execution_count": 5,
     "metadata": {},
     "output_type": "execute_result"
    }
   ],
   "source": [
    "### PySCF 普通 RHF\n",
    "scf_df = scf.RHF(mol).density_fit()\n",
    "scf_df.with_df.auxbasis = \"def2-tzvp-jkfit\"\n",
    "scf_df.run()\n",
    "scf_df.e_tot"
   ]
  },
  {
   "cell_type": "markdown",
   "metadata": {},
   "source": [
    "我们应当能发现 DF RHF 与普通 RHF 的能量还是有所差别的；尽管差别不大但 $10^{-4}$ 级别的差别在小体系的量化计算中应当认为是不可忽略的。"
   ]
  },
  {
   "cell_type": "code",
   "execution_count": 6,
   "metadata": {},
   "outputs": [
    {
     "data": {
      "text/plain": [
       "5.912456438750269e-05"
      ]
     },
     "execution_count": 6,
     "metadata": {},
     "output_type": "execute_result"
    }
   ],
   "source": [
    "scf_df.e_tot - scf_normal.e_tot"
   ]
  },
  {
   "cell_type": "markdown",
   "metadata": {},
   "source": [
    "## 重现 PySCF DF RHF 能量"
   ]
  },
  {
   "cell_type": "markdown",
   "metadata": {},
   "source": [
    "这里我们会通过上面 DF RHF 已经收敛的结果，来计算上述双氧水体系的总能量。"
   ]
  },
  {
   "cell_type": "markdown",
   "metadata": {},
   "source": [
    "### DF 双电子积分"
   ]
  },
  {
   "cell_type": "markdown",
   "metadata": {},
   "source": [
    "我们需要先定义 DF 基组下的 PySCF 分子类 `auxmol`；它将为我们提供我们所需要的 DF 双电子积分。"
   ]
  },
  {
   "cell_type": "code",
   "execution_count": 7,
   "metadata": {},
   "outputs": [
    {
     "data": {
      "text/plain": [
       "<pyscf.gto.mole.Mole at 0x7f660a96a128>"
      ]
     },
     "execution_count": 7,
     "metadata": {},
     "output_type": "execute_result"
    }
   ],
   "source": [
    "auxmol = mol.copy()\n",
    "auxmol.basis = \"def2-tzvp-jkfit\"\n",
    "auxmol.build()"
   ]
  },
  {
   "cell_type": "markdown",
   "metadata": {},
   "source": [
    "<div class=\"alert alert-info\">\n",
    "\n",
    "**提醒**\n",
    "\n",
    "事实上，PySCF 也提供了 `scf_df.with_df.auxmol` 给出 DF 的双电子积分，并且这才是最合适的用法。但在我的理解范围内，上述的直接定义 `auxmol` 的方法几乎是等价的。\n",
    "\n",
    "</div>"
   ]
  },
  {
   "cell_type": "markdown",
   "metadata": {},
   "source": [
    "在 DF RHF 的过程中，需要使用到 DF 生成的双电子积分的地方只有库伦矩阵 (J 矩阵) 与交换矩阵 (K 矩阵)。我们知道普通 RHF 的计算耗时受制于四中心双电子 (4c2e) ERI 积分，因此计算复杂度为 $O(N^4)$。而 DF RHF 之所以快，就是因为它能将 ERI 积分转化为三中心双电子 (3c2e) 积分与双中心双电子 (2c2e) 积分，从而将计算复杂度转为 $O(N^3)$。"
   ]
  },
  {
   "cell_type": "markdown",
   "metadata": {},
   "source": [
    "<div class=\"alert alert-info\">\n",
    "\n",
    "**记号定义**\n",
    "\n",
    "这里采用我自己习惯的记号，以及 <cite data-cite=\"Sherrill.Note.DF.2010\">Sherrill, Lab-note</cite> 的记号行文。大致但重要的记号定义如下：\n",
    "\n",
    "* $\\mu, \\nu, \\kappa, \\lambda$ 代表原子轨道\n",
    "\n",
    "* $i, j, k, l$ 代表占据轨道\n",
    "\n",
    "* $a, b, c, d$ 代表非占轨道\n",
    "\n",
    "* $p, q, r, s$ 代表任意分子轨道\n",
    "\n",
    "* $P, Q$ 代表 DF 轨道\n",
    "\n",
    "* 在表达轨道函数形式时，原子、分子轨道用 $\\phi$ 表达，而 DF 轨道用 $\\chi$ 表达\n",
    "\n",
    "* $J_{\\mu \\nu} [R_{\\kappa \\lambda}]$ 表示在电子密度为 $R_{\\kappa \\lambda}$ 下的 J 积分。类似地，还有 K 积分 $K_{\\mu \\nu} [R_{\\kappa \\lambda}]$。\n",
    "\n",
    "* $(\\mu \\nu | P)$ 代表 3c2e 积分，$J_{PQ}$ 代表 2c2e 积分。2c2e 积分的符号与 J 积分相同；但通过角标应当可以区分两者，免去歧义。\n",
    "\n",
    "</div>"
   ]
  },
  {
   "cell_type": "markdown",
   "metadata": {},
   "source": [
    "我们先描述 2c2e 积分 $J_{PQ}$ `int2c2e`。2c2e 积分从定义上是\n",
    "\n",
    "$$\n",
    "J_{PQ} = \\iint \\chi_P (\\boldsymbol{r}_1) \\frac{1}{r_{12}} \\chi_Q (\\boldsymbol{r}_2) \\, \\mathrm{d} \\boldsymbol{r}_1 \\, \\mathrm{d} \\boldsymbol{r}_2\n",
    "$$\n",
    "\n",
    "尽管下面的类似于 Dirac 的记号并不严谨，但在简单分析问题时，下述记号仍然是方便的：\n",
    "\n",
    "$$\n",
    "J_{PQ} = ( P | \\frac{1}{r_{12}} | Q )\n",
    "$$\n",
    "\n",
    "之所以说是不严格的，是因为在多轨道下，Dirac 记号在算符左右的部分应当需要在电子坐标上是一一对应的，因此 $( P 1 | r_{12}^{-1} | 1 Q )$ 可能更合理一些。"
   ]
  },
  {
   "cell_type": "markdown",
   "metadata": {},
   "source": [
    "在 PySCF 中，2c2e 积分 `int2c2e` 可以很容易地通过 `intor` 生成；这个函数也可以生成绝大多数普通的 SCF 计算过程中所需要使用的积分。需要注意的是，这里使用的基组是 DF 基组，因此分子类也应当使用的是 `auxmol`："
   ]
  },
  {
   "cell_type": "code",
   "execution_count": 8,
   "metadata": {},
   "outputs": [
    {
     "data": {
      "text/plain": [
       "(190, 190)"
      ]
     },
     "execution_count": 8,
     "metadata": {},
     "output_type": "execute_result"
    }
   ],
   "source": [
    "int2c2e = auxmol.intor(\"int2c2e\")\n",
    "int2c2e.shape"
   ]
  },
  {
   "cell_type": "markdown",
   "metadata": {},
   "source": [
    "对于 3c2e 积分 $(\\mu \\nu | P)$ `int3c2e`，其定义也是类似的：\n",
    "\n",
    "$$\n",
    "(\\mu \\nu | P) = \\iint \\phi_\\mu (\\boldsymbol{r}_1) \\phi_\\nu (\\boldsymbol{r}_1) \\frac{1}{r_{12}} \\chi_P (\\boldsymbol{r}_2) \\, \\mathrm{d} \\boldsymbol{r}_1 \\, \\mathrm{d} \\boldsymbol{r}_2\n",
    "$$"
   ]
  },
  {
   "cell_type": "markdown",
   "metadata": {},
   "source": [
    "但对于 3c2e 积分 `int3c2e` 而言，由于其中混合了普通基组与 DF 基组，因此不能通过简单的 `intor` 来生成积分。我们使用 `df.incore.aux_e2` 来生成 $(\\mu \\nu | P)$："
   ]
  },
  {
   "cell_type": "code",
   "execution_count": 9,
   "metadata": {},
   "outputs": [],
   "source": [
    "int3c2e = df.incore.aux_e2(mol, auxmol)"
   ]
  },
  {
   "cell_type": "markdown",
   "metadata": {},
   "source": [
    "该积分也可以不借助 `pyscf.df` 模块生成，但实现起来稍复杂一些。"
   ]
  },
  {
   "cell_type": "markdown",
   "metadata": {},
   "source": [
    "### DF 积分模拟 4c2e ERI 积分"
   ]
  },
  {
   "cell_type": "markdown",
   "metadata": {},
   "source": [
    "<div class=\"alert alert-info\">\n",
    "\n",
    "**提醒**\n",
    "\n",
    "这篇文档仅在这一段不使用 Einstein Summation Convention。\n",
    "\n",
    "</div>"
   ]
  },
  {
   "cell_type": "markdown",
   "metadata": {},
   "source": [
    "我们指出，这些积分是通过下述过程来模拟 ERI 积分 $(\\mu \\nu | \\kappa \\lambda)$：\n",
    "\n",
    "$$\n",
    "(\\mu \\nu | \\kappa \\lambda) \\simeq (\\mu \\nu | P) (\\mathbf{J}^{-1})_{PQ} (Q | \\kappa \\lambda)\n",
    "$$\n",
    "\n",
    "我们用程序生成 4c2e 的 ERI 积分 $(\\mu \\nu | \\kappa \\lambda)$ `eri` 与 DF 积分生成的 ERI 积分 `df_eri`："
   ]
  },
  {
   "cell_type": "code",
   "execution_count": 10,
   "metadata": {},
   "outputs": [],
   "source": [
    "eri = mol.intor(\"int2e\")\n",
    "df_eri = np.einsum(\"uvP, PQ, klQ -> uvkl\", int3c2e, np.linalg.inv(int2c2e), int3c2e)"
   ]
  },
  {
   "cell_type": "markdown",
   "metadata": {},
   "source": [
    "之所以我们会用上式模拟 4c2e 的 ERI 积分，可以从下面不太严格的公式来看："
   ]
  },
  {
   "cell_type": "markdown",
   "metadata": {},
   "source": [
    "$$\n",
    "\\langle \\mu \\nu | r_{12}^{-1} | \\kappa \\lambda \\rangle \\simeq \\sum_{PQ} \\langle \\mu \\nu | r_{12}^{-1} | P \\rangle \\langle P | r_{12} | Q \\rangle \\langle Q | r_{12}^{-1} | \\kappa \\lambda \\rangle\n",
    "$$"
   ]
  },
  {
   "cell_type": "markdown",
   "metadata": {},
   "source": [
    "上式利用到两次 Resolution of Identity (RI) 关系式\n",
    "\n",
    "$$\n",
    "1 \\simeq \\sum_P | P \\rangle \\langle P |\n",
    "$$"
   ]
  },
  {
   "cell_type": "markdown",
   "metadata": {},
   "source": [
    "我们目前还没有 $\\langle P | r_{12} | Q \\rangle$；但它也可以通过使用了一次 RI 关系式的表达式\n",
    "\n",
    "$$\n",
    "\\delta_{PR} \\simeq \\langle P | R \\rangle = \\sum_{Q} \\langle P | r_{12} | Q \\rangle \\langle Q | r_{12}^{-1} | R \\rangle\n",
    "$$\n",
    "\n",
    "给出。实施上，$J_{QR} = \\langle Q | r_{12}^{-1} | R \\rangle$；若我们定义矩阵 $X_{PQ} = \\langle P | r_{12} | Q \\rangle$，那么上述公式的矩阵表达式将是\n",
    "\n",
    "$$\n",
    "\\mathbf{I} \\simeq \\mathbf{X} \\mathbf{J}\n",
    "$$\n",
    "\n",
    "其中，$\\mathbf{I}$ 表示单位矩阵。因此，$\\mathbf{X} \\simeq \\mathbf{J}^{-1}$。这就完成了近似表达式 $(\\mu \\nu | \\kappa \\lambda) \\simeq (\\mu \\nu | P) (\\mathbf{J}^{-1})_{PQ} (Q | \\kappa \\lambda)$ 的说明了。"
   ]
  },
  {
   "cell_type": "markdown",
   "metadata": {},
   "source": [
    "之所以上面式子中都采用近似相等记号 $\\simeq$，而不采用相等记号 $=$，是因为受计算能力影响，实践中的 RI 展开的函数基是有限的。若 RI 是使用无限函数基展开，原则上等号成立。"
   ]
  },
  {
   "cell_type": "markdown",
   "metadata": {},
   "source": [
    "上面是理论上的推演；现在我们考察在双氧水体系下上述近似的有效性。我们将绘制一幅 ERI 概率分布图来表明这个问题。横坐标的含义是 ERI 积分数值的以 10 为底的对数；纵坐标的意义是 ERI 积分中，处在某一数量级时的概率密度 (PDF)。"
   ]
  },
  {
   "cell_type": "code",
   "execution_count": 11,
   "metadata": {},
   "outputs": [],
   "source": [
    "bins =np.arange(-12, 1., 0.1)\n",
    "histo_eri = np.histogram(np.log10(np.abs(eri).ravel() + 1e-20), bins=bins)\n",
    "histo_df_eri = np.histogram(np.log10(np.abs(df_eri).ravel() + 1e-20), bins=bins)\n",
    "histo_dev = np.histogram(np.log10(np.abs(df_eri - eri).ravel() + 1e-20), bins=bins)"
   ]
  },
  {
   "cell_type": "code",
   "execution_count": 12,
   "metadata": {},
   "outputs": [],
   "source": [
    "prob_eri = histo_eri[0] / eri.size\n",
    "prob_df_eri = histo_df_eri[0] / eri.size\n",
    "prob_dev = histo_dev[0] / eri.size"
   ]
  },
  {
   "cell_type": "code",
   "execution_count": 13,
   "metadata": {},
   "outputs": [
    {
     "data": {
      "application/javascript": [
       "/* Put everything inside the global mpl namespace */\n",
       "window.mpl = {};\n",
       "\n",
       "\n",
       "mpl.get_websocket_type = function() {\n",
       "    if (typeof(WebSocket) !== 'undefined') {\n",
       "        return WebSocket;\n",
       "    } else if (typeof(MozWebSocket) !== 'undefined') {\n",
       "        return MozWebSocket;\n",
       "    } else {\n",
       "        alert('Your browser does not have WebSocket support. ' +\n",
       "              'Please try Chrome, Safari or Firefox ≥ 6. ' +\n",
       "              'Firefox 4 and 5 are also supported but you ' +\n",
       "              'have to enable WebSockets in about:config.');\n",
       "    };\n",
       "}\n",
       "\n",
       "mpl.figure = function(figure_id, websocket, ondownload, parent_element) {\n",
       "    this.id = figure_id;\n",
       "\n",
       "    this.ws = websocket;\n",
       "\n",
       "    this.supports_binary = (this.ws.binaryType != undefined);\n",
       "\n",
       "    if (!this.supports_binary) {\n",
       "        var warnings = document.getElementById(\"mpl-warnings\");\n",
       "        if (warnings) {\n",
       "            warnings.style.display = 'block';\n",
       "            warnings.textContent = (\n",
       "                \"This browser does not support binary websocket messages. \" +\n",
       "                    \"Performance may be slow.\");\n",
       "        }\n",
       "    }\n",
       "\n",
       "    this.imageObj = new Image();\n",
       "\n",
       "    this.context = undefined;\n",
       "    this.message = undefined;\n",
       "    this.canvas = undefined;\n",
       "    this.rubberband_canvas = undefined;\n",
       "    this.rubberband_context = undefined;\n",
       "    this.format_dropdown = undefined;\n",
       "\n",
       "    this.image_mode = 'full';\n",
       "\n",
       "    this.root = $('<div/>');\n",
       "    this._root_extra_style(this.root)\n",
       "    this.root.attr('style', 'display: inline-block');\n",
       "\n",
       "    $(parent_element).append(this.root);\n",
       "\n",
       "    this._init_header(this);\n",
       "    this._init_canvas(this);\n",
       "    this._init_toolbar(this);\n",
       "\n",
       "    var fig = this;\n",
       "\n",
       "    this.waiting = false;\n",
       "\n",
       "    this.ws.onopen =  function () {\n",
       "            fig.send_message(\"supports_binary\", {value: fig.supports_binary});\n",
       "            fig.send_message(\"send_image_mode\", {});\n",
       "            if (mpl.ratio != 1) {\n",
       "                fig.send_message(\"set_dpi_ratio\", {'dpi_ratio': mpl.ratio});\n",
       "            }\n",
       "            fig.send_message(\"refresh\", {});\n",
       "        }\n",
       "\n",
       "    this.imageObj.onload = function() {\n",
       "            if (fig.image_mode == 'full') {\n",
       "                // Full images could contain transparency (where diff images\n",
       "                // almost always do), so we need to clear the canvas so that\n",
       "                // there is no ghosting.\n",
       "                fig.context.clearRect(0, 0, fig.canvas.width, fig.canvas.height);\n",
       "            }\n",
       "            fig.context.drawImage(fig.imageObj, 0, 0);\n",
       "        };\n",
       "\n",
       "    this.imageObj.onunload = function() {\n",
       "        fig.ws.close();\n",
       "    }\n",
       "\n",
       "    this.ws.onmessage = this._make_on_message_function(this);\n",
       "\n",
       "    this.ondownload = ondownload;\n",
       "}\n",
       "\n",
       "mpl.figure.prototype._init_header = function() {\n",
       "    var titlebar = $(\n",
       "        '<div class=\"ui-dialog-titlebar ui-widget-header ui-corner-all ' +\n",
       "        'ui-helper-clearfix\"/>');\n",
       "    var titletext = $(\n",
       "        '<div class=\"ui-dialog-title\" style=\"width: 100%; ' +\n",
       "        'text-align: center; padding: 3px;\"/>');\n",
       "    titlebar.append(titletext)\n",
       "    this.root.append(titlebar);\n",
       "    this.header = titletext[0];\n",
       "}\n",
       "\n",
       "\n",
       "\n",
       "mpl.figure.prototype._canvas_extra_style = function(canvas_div) {\n",
       "\n",
       "}\n",
       "\n",
       "\n",
       "mpl.figure.prototype._root_extra_style = function(canvas_div) {\n",
       "\n",
       "}\n",
       "\n",
       "mpl.figure.prototype._init_canvas = function() {\n",
       "    var fig = this;\n",
       "\n",
       "    var canvas_div = $('<div/>');\n",
       "\n",
       "    canvas_div.attr('style', 'position: relative; clear: both; outline: 0');\n",
       "\n",
       "    function canvas_keyboard_event(event) {\n",
       "        return fig.key_event(event, event['data']);\n",
       "    }\n",
       "\n",
       "    canvas_div.keydown('key_press', canvas_keyboard_event);\n",
       "    canvas_div.keyup('key_release', canvas_keyboard_event);\n",
       "    this.canvas_div = canvas_div\n",
       "    this._canvas_extra_style(canvas_div)\n",
       "    this.root.append(canvas_div);\n",
       "\n",
       "    var canvas = $('<canvas/>');\n",
       "    canvas.addClass('mpl-canvas');\n",
       "    canvas.attr('style', \"left: 0; top: 0; z-index: 0; outline: 0\")\n",
       "\n",
       "    this.canvas = canvas[0];\n",
       "    this.context = canvas[0].getContext(\"2d\");\n",
       "\n",
       "    var backingStore = this.context.backingStorePixelRatio ||\n",
       "\tthis.context.webkitBackingStorePixelRatio ||\n",
       "\tthis.context.mozBackingStorePixelRatio ||\n",
       "\tthis.context.msBackingStorePixelRatio ||\n",
       "\tthis.context.oBackingStorePixelRatio ||\n",
       "\tthis.context.backingStorePixelRatio || 1;\n",
       "\n",
       "    mpl.ratio = (window.devicePixelRatio || 1) / backingStore;\n",
       "\n",
       "    var rubberband = $('<canvas/>');\n",
       "    rubberband.attr('style', \"position: absolute; left: 0; top: 0; z-index: 1;\")\n",
       "\n",
       "    var pass_mouse_events = true;\n",
       "\n",
       "    canvas_div.resizable({\n",
       "        start: function(event, ui) {\n",
       "            pass_mouse_events = false;\n",
       "        },\n",
       "        resize: function(event, ui) {\n",
       "            fig.request_resize(ui.size.width, ui.size.height);\n",
       "        },\n",
       "        stop: function(event, ui) {\n",
       "            pass_mouse_events = true;\n",
       "            fig.request_resize(ui.size.width, ui.size.height);\n",
       "        },\n",
       "    });\n",
       "\n",
       "    function mouse_event_fn(event) {\n",
       "        if (pass_mouse_events)\n",
       "            return fig.mouse_event(event, event['data']);\n",
       "    }\n",
       "\n",
       "    rubberband.mousedown('button_press', mouse_event_fn);\n",
       "    rubberband.mouseup('button_release', mouse_event_fn);\n",
       "    // Throttle sequential mouse events to 1 every 20ms.\n",
       "    rubberband.mousemove('motion_notify', mouse_event_fn);\n",
       "\n",
       "    rubberband.mouseenter('figure_enter', mouse_event_fn);\n",
       "    rubberband.mouseleave('figure_leave', mouse_event_fn);\n",
       "\n",
       "    canvas_div.on(\"wheel\", function (event) {\n",
       "        event = event.originalEvent;\n",
       "        event['data'] = 'scroll'\n",
       "        if (event.deltaY < 0) {\n",
       "            event.step = 1;\n",
       "        } else {\n",
       "            event.step = -1;\n",
       "        }\n",
       "        mouse_event_fn(event);\n",
       "    });\n",
       "\n",
       "    canvas_div.append(canvas);\n",
       "    canvas_div.append(rubberband);\n",
       "\n",
       "    this.rubberband = rubberband;\n",
       "    this.rubberband_canvas = rubberband[0];\n",
       "    this.rubberband_context = rubberband[0].getContext(\"2d\");\n",
       "    this.rubberband_context.strokeStyle = \"#000000\";\n",
       "\n",
       "    this._resize_canvas = function(width, height) {\n",
       "        // Keep the size of the canvas, canvas container, and rubber band\n",
       "        // canvas in synch.\n",
       "        canvas_div.css('width', width)\n",
       "        canvas_div.css('height', height)\n",
       "\n",
       "        canvas.attr('width', width * mpl.ratio);\n",
       "        canvas.attr('height', height * mpl.ratio);\n",
       "        canvas.attr('style', 'width: ' + width + 'px; height: ' + height + 'px;');\n",
       "\n",
       "        rubberband.attr('width', width);\n",
       "        rubberband.attr('height', height);\n",
       "    }\n",
       "\n",
       "    // Set the figure to an initial 600x600px, this will subsequently be updated\n",
       "    // upon first draw.\n",
       "    this._resize_canvas(600, 600);\n",
       "\n",
       "    // Disable right mouse context menu.\n",
       "    $(this.rubberband_canvas).bind(\"contextmenu\",function(e){\n",
       "        return false;\n",
       "    });\n",
       "\n",
       "    function set_focus () {\n",
       "        canvas.focus();\n",
       "        canvas_div.focus();\n",
       "    }\n",
       "\n",
       "    window.setTimeout(set_focus, 100);\n",
       "}\n",
       "\n",
       "mpl.figure.prototype._init_toolbar = function() {\n",
       "    var fig = this;\n",
       "\n",
       "    var nav_element = $('<div/>');\n",
       "    nav_element.attr('style', 'width: 100%');\n",
       "    this.root.append(nav_element);\n",
       "\n",
       "    // Define a callback function for later on.\n",
       "    function toolbar_event(event) {\n",
       "        return fig.toolbar_button_onclick(event['data']);\n",
       "    }\n",
       "    function toolbar_mouse_event(event) {\n",
       "        return fig.toolbar_button_onmouseover(event['data']);\n",
       "    }\n",
       "\n",
       "    for(var toolbar_ind in mpl.toolbar_items) {\n",
       "        var name = mpl.toolbar_items[toolbar_ind][0];\n",
       "        var tooltip = mpl.toolbar_items[toolbar_ind][1];\n",
       "        var image = mpl.toolbar_items[toolbar_ind][2];\n",
       "        var method_name = mpl.toolbar_items[toolbar_ind][3];\n",
       "\n",
       "        if (!name) {\n",
       "            // put a spacer in here.\n",
       "            continue;\n",
       "        }\n",
       "        var button = $('<button/>');\n",
       "        button.addClass('ui-button ui-widget ui-state-default ui-corner-all ' +\n",
       "                        'ui-button-icon-only');\n",
       "        button.attr('role', 'button');\n",
       "        button.attr('aria-disabled', 'false');\n",
       "        button.click(method_name, toolbar_event);\n",
       "        button.mouseover(tooltip, toolbar_mouse_event);\n",
       "\n",
       "        var icon_img = $('<span/>');\n",
       "        icon_img.addClass('ui-button-icon-primary ui-icon');\n",
       "        icon_img.addClass(image);\n",
       "        icon_img.addClass('ui-corner-all');\n",
       "\n",
       "        var tooltip_span = $('<span/>');\n",
       "        tooltip_span.addClass('ui-button-text');\n",
       "        tooltip_span.html(tooltip);\n",
       "\n",
       "        button.append(icon_img);\n",
       "        button.append(tooltip_span);\n",
       "\n",
       "        nav_element.append(button);\n",
       "    }\n",
       "\n",
       "    var fmt_picker_span = $('<span/>');\n",
       "\n",
       "    var fmt_picker = $('<select/>');\n",
       "    fmt_picker.addClass('mpl-toolbar-option ui-widget ui-widget-content');\n",
       "    fmt_picker_span.append(fmt_picker);\n",
       "    nav_element.append(fmt_picker_span);\n",
       "    this.format_dropdown = fmt_picker[0];\n",
       "\n",
       "    for (var ind in mpl.extensions) {\n",
       "        var fmt = mpl.extensions[ind];\n",
       "        var option = $(\n",
       "            '<option/>', {selected: fmt === mpl.default_extension}).html(fmt);\n",
       "        fmt_picker.append(option);\n",
       "    }\n",
       "\n",
       "    // Add hover states to the ui-buttons\n",
       "    $( \".ui-button\" ).hover(\n",
       "        function() { $(this).addClass(\"ui-state-hover\");},\n",
       "        function() { $(this).removeClass(\"ui-state-hover\");}\n",
       "    );\n",
       "\n",
       "    var status_bar = $('<span class=\"mpl-message\"/>');\n",
       "    nav_element.append(status_bar);\n",
       "    this.message = status_bar[0];\n",
       "}\n",
       "\n",
       "mpl.figure.prototype.request_resize = function(x_pixels, y_pixels) {\n",
       "    // Request matplotlib to resize the figure. Matplotlib will then trigger a resize in the client,\n",
       "    // which will in turn request a refresh of the image.\n",
       "    this.send_message('resize', {'width': x_pixels, 'height': y_pixels});\n",
       "}\n",
       "\n",
       "mpl.figure.prototype.send_message = function(type, properties) {\n",
       "    properties['type'] = type;\n",
       "    properties['figure_id'] = this.id;\n",
       "    this.ws.send(JSON.stringify(properties));\n",
       "}\n",
       "\n",
       "mpl.figure.prototype.send_draw_message = function() {\n",
       "    if (!this.waiting) {\n",
       "        this.waiting = true;\n",
       "        this.ws.send(JSON.stringify({type: \"draw\", figure_id: this.id}));\n",
       "    }\n",
       "}\n",
       "\n",
       "\n",
       "mpl.figure.prototype.handle_save = function(fig, msg) {\n",
       "    var format_dropdown = fig.format_dropdown;\n",
       "    var format = format_dropdown.options[format_dropdown.selectedIndex].value;\n",
       "    fig.ondownload(fig, format);\n",
       "}\n",
       "\n",
       "\n",
       "mpl.figure.prototype.handle_resize = function(fig, msg) {\n",
       "    var size = msg['size'];\n",
       "    if (size[0] != fig.canvas.width || size[1] != fig.canvas.height) {\n",
       "        fig._resize_canvas(size[0], size[1]);\n",
       "        fig.send_message(\"refresh\", {});\n",
       "    };\n",
       "}\n",
       "\n",
       "mpl.figure.prototype.handle_rubberband = function(fig, msg) {\n",
       "    var x0 = msg['x0'] / mpl.ratio;\n",
       "    var y0 = (fig.canvas.height - msg['y0']) / mpl.ratio;\n",
       "    var x1 = msg['x1'] / mpl.ratio;\n",
       "    var y1 = (fig.canvas.height - msg['y1']) / mpl.ratio;\n",
       "    x0 = Math.floor(x0) + 0.5;\n",
       "    y0 = Math.floor(y0) + 0.5;\n",
       "    x1 = Math.floor(x1) + 0.5;\n",
       "    y1 = Math.floor(y1) + 0.5;\n",
       "    var min_x = Math.min(x0, x1);\n",
       "    var min_y = Math.min(y0, y1);\n",
       "    var width = Math.abs(x1 - x0);\n",
       "    var height = Math.abs(y1 - y0);\n",
       "\n",
       "    fig.rubberband_context.clearRect(\n",
       "        0, 0, fig.canvas.width, fig.canvas.height);\n",
       "\n",
       "    fig.rubberband_context.strokeRect(min_x, min_y, width, height);\n",
       "}\n",
       "\n",
       "mpl.figure.prototype.handle_figure_label = function(fig, msg) {\n",
       "    // Updates the figure title.\n",
       "    fig.header.textContent = msg['label'];\n",
       "}\n",
       "\n",
       "mpl.figure.prototype.handle_cursor = function(fig, msg) {\n",
       "    var cursor = msg['cursor'];\n",
       "    switch(cursor)\n",
       "    {\n",
       "    case 0:\n",
       "        cursor = 'pointer';\n",
       "        break;\n",
       "    case 1:\n",
       "        cursor = 'default';\n",
       "        break;\n",
       "    case 2:\n",
       "        cursor = 'crosshair';\n",
       "        break;\n",
       "    case 3:\n",
       "        cursor = 'move';\n",
       "        break;\n",
       "    }\n",
       "    fig.rubberband_canvas.style.cursor = cursor;\n",
       "}\n",
       "\n",
       "mpl.figure.prototype.handle_message = function(fig, msg) {\n",
       "    fig.message.textContent = msg['message'];\n",
       "}\n",
       "\n",
       "mpl.figure.prototype.handle_draw = function(fig, msg) {\n",
       "    // Request the server to send over a new figure.\n",
       "    fig.send_draw_message();\n",
       "}\n",
       "\n",
       "mpl.figure.prototype.handle_image_mode = function(fig, msg) {\n",
       "    fig.image_mode = msg['mode'];\n",
       "}\n",
       "\n",
       "mpl.figure.prototype.updated_canvas_event = function() {\n",
       "    // Called whenever the canvas gets updated.\n",
       "    this.send_message(\"ack\", {});\n",
       "}\n",
       "\n",
       "// A function to construct a web socket function for onmessage handling.\n",
       "// Called in the figure constructor.\n",
       "mpl.figure.prototype._make_on_message_function = function(fig) {\n",
       "    return function socket_on_message(evt) {\n",
       "        if (evt.data instanceof Blob) {\n",
       "            /* FIXME: We get \"Resource interpreted as Image but\n",
       "             * transferred with MIME type text/plain:\" errors on\n",
       "             * Chrome.  But how to set the MIME type?  It doesn't seem\n",
       "             * to be part of the websocket stream */\n",
       "            evt.data.type = \"image/png\";\n",
       "\n",
       "            /* Free the memory for the previous frames */\n",
       "            if (fig.imageObj.src) {\n",
       "                (window.URL || window.webkitURL).revokeObjectURL(\n",
       "                    fig.imageObj.src);\n",
       "            }\n",
       "\n",
       "            fig.imageObj.src = (window.URL || window.webkitURL).createObjectURL(\n",
       "                evt.data);\n",
       "            fig.updated_canvas_event();\n",
       "            fig.waiting = false;\n",
       "            return;\n",
       "        }\n",
       "        else if (typeof evt.data === 'string' && evt.data.slice(0, 21) == \"data:image/png;base64\") {\n",
       "            fig.imageObj.src = evt.data;\n",
       "            fig.updated_canvas_event();\n",
       "            fig.waiting = false;\n",
       "            return;\n",
       "        }\n",
       "\n",
       "        var msg = JSON.parse(evt.data);\n",
       "        var msg_type = msg['type'];\n",
       "\n",
       "        // Call the  \"handle_{type}\" callback, which takes\n",
       "        // the figure and JSON message as its only arguments.\n",
       "        try {\n",
       "            var callback = fig[\"handle_\" + msg_type];\n",
       "        } catch (e) {\n",
       "            console.log(\"No handler for the '\" + msg_type + \"' message type: \", msg);\n",
       "            return;\n",
       "        }\n",
       "\n",
       "        if (callback) {\n",
       "            try {\n",
       "                // console.log(\"Handling '\" + msg_type + \"' message: \", msg);\n",
       "                callback(fig, msg);\n",
       "            } catch (e) {\n",
       "                console.log(\"Exception inside the 'handler_\" + msg_type + \"' callback:\", e, e.stack, msg);\n",
       "            }\n",
       "        }\n",
       "    };\n",
       "}\n",
       "\n",
       "// from http://stackoverflow.com/questions/1114465/getting-mouse-location-in-canvas\n",
       "mpl.findpos = function(e) {\n",
       "    //this section is from http://www.quirksmode.org/js/events_properties.html\n",
       "    var targ;\n",
       "    if (!e)\n",
       "        e = window.event;\n",
       "    if (e.target)\n",
       "        targ = e.target;\n",
       "    else if (e.srcElement)\n",
       "        targ = e.srcElement;\n",
       "    if (targ.nodeType == 3) // defeat Safari bug\n",
       "        targ = targ.parentNode;\n",
       "\n",
       "    // jQuery normalizes the pageX and pageY\n",
       "    // pageX,Y are the mouse positions relative to the document\n",
       "    // offset() returns the position of the element relative to the document\n",
       "    var x = e.pageX - $(targ).offset().left;\n",
       "    var y = e.pageY - $(targ).offset().top;\n",
       "\n",
       "    return {\"x\": x, \"y\": y};\n",
       "};\n",
       "\n",
       "/*\n",
       " * return a copy of an object with only non-object keys\n",
       " * we need this to avoid circular references\n",
       " * http://stackoverflow.com/a/24161582/3208463\n",
       " */\n",
       "function simpleKeys (original) {\n",
       "  return Object.keys(original).reduce(function (obj, key) {\n",
       "    if (typeof original[key] !== 'object')\n",
       "        obj[key] = original[key]\n",
       "    return obj;\n",
       "  }, {});\n",
       "}\n",
       "\n",
       "mpl.figure.prototype.mouse_event = function(event, name) {\n",
       "    var canvas_pos = mpl.findpos(event)\n",
       "\n",
       "    if (name === 'button_press')\n",
       "    {\n",
       "        this.canvas.focus();\n",
       "        this.canvas_div.focus();\n",
       "    }\n",
       "\n",
       "    var x = canvas_pos.x * mpl.ratio;\n",
       "    var y = canvas_pos.y * mpl.ratio;\n",
       "\n",
       "    this.send_message(name, {x: x, y: y, button: event.button,\n",
       "                             step: event.step,\n",
       "                             guiEvent: simpleKeys(event)});\n",
       "\n",
       "    /* This prevents the web browser from automatically changing to\n",
       "     * the text insertion cursor when the button is pressed.  We want\n",
       "     * to control all of the cursor setting manually through the\n",
       "     * 'cursor' event from matplotlib */\n",
       "    event.preventDefault();\n",
       "    return false;\n",
       "}\n",
       "\n",
       "mpl.figure.prototype._key_event_extra = function(event, name) {\n",
       "    // Handle any extra behaviour associated with a key event\n",
       "}\n",
       "\n",
       "mpl.figure.prototype.key_event = function(event, name) {\n",
       "\n",
       "    // Prevent repeat events\n",
       "    if (name == 'key_press')\n",
       "    {\n",
       "        if (event.which === this._key)\n",
       "            return;\n",
       "        else\n",
       "            this._key = event.which;\n",
       "    }\n",
       "    if (name == 'key_release')\n",
       "        this._key = null;\n",
       "\n",
       "    var value = '';\n",
       "    if (event.ctrlKey && event.which != 17)\n",
       "        value += \"ctrl+\";\n",
       "    if (event.altKey && event.which != 18)\n",
       "        value += \"alt+\";\n",
       "    if (event.shiftKey && event.which != 16)\n",
       "        value += \"shift+\";\n",
       "\n",
       "    value += 'k';\n",
       "    value += event.which.toString();\n",
       "\n",
       "    this._key_event_extra(event, name);\n",
       "\n",
       "    this.send_message(name, {key: value,\n",
       "                             guiEvent: simpleKeys(event)});\n",
       "    return false;\n",
       "}\n",
       "\n",
       "mpl.figure.prototype.toolbar_button_onclick = function(name) {\n",
       "    if (name == 'download') {\n",
       "        this.handle_save(this, null);\n",
       "    } else {\n",
       "        this.send_message(\"toolbar_button\", {name: name});\n",
       "    }\n",
       "};\n",
       "\n",
       "mpl.figure.prototype.toolbar_button_onmouseover = function(tooltip) {\n",
       "    this.message.textContent = tooltip;\n",
       "};\n",
       "mpl.toolbar_items = [[\"Home\", \"Reset original view\", \"fa fa-home icon-home\", \"home\"], [\"Back\", \"Back to previous view\", \"fa fa-arrow-left icon-arrow-left\", \"back\"], [\"Forward\", \"Forward to next view\", \"fa fa-arrow-right icon-arrow-right\", \"forward\"], [\"\", \"\", \"\", \"\"], [\"Pan\", \"Pan axes with left mouse, zoom with right\", \"fa fa-arrows icon-move\", \"pan\"], [\"Zoom\", \"Zoom to rectangle\", \"fa fa-square-o icon-check-empty\", \"zoom\"], [\"\", \"\", \"\", \"\"], [\"Download\", \"Download plot\", \"fa fa-floppy-o icon-save\", \"download\"]];\n",
       "\n",
       "mpl.extensions = [\"eps\", \"jpeg\", \"pdf\", \"png\", \"ps\", \"raw\", \"svg\", \"tif\"];\n",
       "\n",
       "mpl.default_extension = \"png\";var comm_websocket_adapter = function(comm) {\n",
       "    // Create a \"websocket\"-like object which calls the given IPython comm\n",
       "    // object with the appropriate methods. Currently this is a non binary\n",
       "    // socket, so there is still some room for performance tuning.\n",
       "    var ws = {};\n",
       "\n",
       "    ws.close = function() {\n",
       "        comm.close()\n",
       "    };\n",
       "    ws.send = function(m) {\n",
       "        //console.log('sending', m);\n",
       "        comm.send(m);\n",
       "    };\n",
       "    // Register the callback with on_msg.\n",
       "    comm.on_msg(function(msg) {\n",
       "        //console.log('receiving', msg['content']['data'], msg);\n",
       "        // Pass the mpl event to the overridden (by mpl) onmessage function.\n",
       "        ws.onmessage(msg['content']['data'])\n",
       "    });\n",
       "    return ws;\n",
       "}\n",
       "\n",
       "mpl.mpl_figure_comm = function(comm, msg) {\n",
       "    // This is the function which gets called when the mpl process\n",
       "    // starts-up an IPython Comm through the \"matplotlib\" channel.\n",
       "\n",
       "    var id = msg.content.data.id;\n",
       "    // Get hold of the div created by the display call when the Comm\n",
       "    // socket was opened in Python.\n",
       "    var element = $(\"#\" + id);\n",
       "    var ws_proxy = comm_websocket_adapter(comm)\n",
       "\n",
       "    function ondownload(figure, format) {\n",
       "        window.open(figure.imageObj.src);\n",
       "    }\n",
       "\n",
       "    var fig = new mpl.figure(id, ws_proxy,\n",
       "                           ondownload,\n",
       "                           element.get(0));\n",
       "\n",
       "    // Call onopen now - mpl needs it, as it is assuming we've passed it a real\n",
       "    // web socket which is closed, not our websocket->open comm proxy.\n",
       "    ws_proxy.onopen();\n",
       "\n",
       "    fig.parent_element = element.get(0);\n",
       "    fig.cell_info = mpl.find_output_cell(\"<div id='\" + id + \"'></div>\");\n",
       "    if (!fig.cell_info) {\n",
       "        console.error(\"Failed to find cell for figure\", id, fig);\n",
       "        return;\n",
       "    }\n",
       "\n",
       "    var output_index = fig.cell_info[2]\n",
       "    var cell = fig.cell_info[0];\n",
       "\n",
       "};\n",
       "\n",
       "mpl.figure.prototype.handle_close = function(fig, msg) {\n",
       "    var width = fig.canvas.width/mpl.ratio\n",
       "    fig.root.unbind('remove')\n",
       "\n",
       "    // Update the output cell to use the data from the current canvas.\n",
       "    fig.push_to_output();\n",
       "    var dataURL = fig.canvas.toDataURL();\n",
       "    // Re-enable the keyboard manager in IPython - without this line, in FF,\n",
       "    // the notebook keyboard shortcuts fail.\n",
       "    IPython.keyboard_manager.enable()\n",
       "    $(fig.parent_element).html('<img src=\"' + dataURL + '\" width=\"' + width + '\">');\n",
       "    fig.close_ws(fig, msg);\n",
       "}\n",
       "\n",
       "mpl.figure.prototype.close_ws = function(fig, msg){\n",
       "    fig.send_message('closing', msg);\n",
       "    // fig.ws.close()\n",
       "}\n",
       "\n",
       "mpl.figure.prototype.push_to_output = function(remove_interactive) {\n",
       "    // Turn the data on the canvas into data in the output cell.\n",
       "    var width = this.canvas.width/mpl.ratio\n",
       "    var dataURL = this.canvas.toDataURL();\n",
       "    this.cell_info[1]['text/html'] = '<img src=\"' + dataURL + '\" width=\"' + width + '\">';\n",
       "}\n",
       "\n",
       "mpl.figure.prototype.updated_canvas_event = function() {\n",
       "    // Tell IPython that the notebook contents must change.\n",
       "    IPython.notebook.set_dirty(true);\n",
       "    this.send_message(\"ack\", {});\n",
       "    var fig = this;\n",
       "    // Wait a second, then push the new image to the DOM so\n",
       "    // that it is saved nicely (might be nice to debounce this).\n",
       "    setTimeout(function () { fig.push_to_output() }, 1000);\n",
       "}\n",
       "\n",
       "mpl.figure.prototype._init_toolbar = function() {\n",
       "    var fig = this;\n",
       "\n",
       "    var nav_element = $('<div/>');\n",
       "    nav_element.attr('style', 'width: 100%');\n",
       "    this.root.append(nav_element);\n",
       "\n",
       "    // Define a callback function for later on.\n",
       "    function toolbar_event(event) {\n",
       "        return fig.toolbar_button_onclick(event['data']);\n",
       "    }\n",
       "    function toolbar_mouse_event(event) {\n",
       "        return fig.toolbar_button_onmouseover(event['data']);\n",
       "    }\n",
       "\n",
       "    for(var toolbar_ind in mpl.toolbar_items){\n",
       "        var name = mpl.toolbar_items[toolbar_ind][0];\n",
       "        var tooltip = mpl.toolbar_items[toolbar_ind][1];\n",
       "        var image = mpl.toolbar_items[toolbar_ind][2];\n",
       "        var method_name = mpl.toolbar_items[toolbar_ind][3];\n",
       "\n",
       "        if (!name) { continue; };\n",
       "\n",
       "        var button = $('<button class=\"btn btn-default\" href=\"#\" title=\"' + name + '\"><i class=\"fa ' + image + ' fa-lg\"></i></button>');\n",
       "        button.click(method_name, toolbar_event);\n",
       "        button.mouseover(tooltip, toolbar_mouse_event);\n",
       "        nav_element.append(button);\n",
       "    }\n",
       "\n",
       "    // Add the status bar.\n",
       "    var status_bar = $('<span class=\"mpl-message\" style=\"text-align:right; float: right;\"/>');\n",
       "    nav_element.append(status_bar);\n",
       "    this.message = status_bar[0];\n",
       "\n",
       "    // Add the close button to the window.\n",
       "    var buttongrp = $('<div class=\"btn-group inline pull-right\"></div>');\n",
       "    var button = $('<button class=\"btn btn-mini btn-primary\" href=\"#\" title=\"Stop Interaction\"><i class=\"fa fa-power-off icon-remove icon-large\"></i></button>');\n",
       "    button.click(function (evt) { fig.handle_close(fig, {}); } );\n",
       "    button.mouseover('Stop Interaction', toolbar_mouse_event);\n",
       "    buttongrp.append(button);\n",
       "    var titlebar = this.root.find($('.ui-dialog-titlebar'));\n",
       "    titlebar.prepend(buttongrp);\n",
       "}\n",
       "\n",
       "mpl.figure.prototype._root_extra_style = function(el){\n",
       "    var fig = this\n",
       "    el.on(\"remove\", function(){\n",
       "\tfig.close_ws(fig, {});\n",
       "    });\n",
       "}\n",
       "\n",
       "mpl.figure.prototype._canvas_extra_style = function(el){\n",
       "    // this is important to make the div 'focusable\n",
       "    el.attr('tabindex', 0)\n",
       "    // reach out to IPython and tell the keyboard manager to turn it's self\n",
       "    // off when our div gets focus\n",
       "\n",
       "    // location in version 3\n",
       "    if (IPython.notebook.keyboard_manager) {\n",
       "        IPython.notebook.keyboard_manager.register_events(el);\n",
       "    }\n",
       "    else {\n",
       "        // location in version 2\n",
       "        IPython.keyboard_manager.register_events(el);\n",
       "    }\n",
       "\n",
       "}\n",
       "\n",
       "mpl.figure.prototype._key_event_extra = function(event, name) {\n",
       "    var manager = IPython.notebook.keyboard_manager;\n",
       "    if (!manager)\n",
       "        manager = IPython.keyboard_manager;\n",
       "\n",
       "    // Check for shift+enter\n",
       "    if (event.shiftKey && event.which == 13) {\n",
       "        this.canvas_div.blur();\n",
       "        event.shiftKey = false;\n",
       "        // Send a \"J\" for go to next cell\n",
       "        event.which = 74;\n",
       "        event.keyCode = 74;\n",
       "        manager.command_mode();\n",
       "        manager.handle_keydown(event);\n",
       "    }\n",
       "}\n",
       "\n",
       "mpl.figure.prototype.handle_save = function(fig, msg) {\n",
       "    fig.ondownload(fig, null);\n",
       "}\n",
       "\n",
       "\n",
       "mpl.find_output_cell = function(html_output) {\n",
       "    // Return the cell and output element which can be found *uniquely* in the notebook.\n",
       "    // Note - this is a bit hacky, but it is done because the \"notebook_saving.Notebook\"\n",
       "    // IPython event is triggered only after the cells have been serialised, which for\n",
       "    // our purposes (turning an active figure into a static one), is too late.\n",
       "    var cells = IPython.notebook.get_cells();\n",
       "    var ncells = cells.length;\n",
       "    for (var i=0; i<ncells; i++) {\n",
       "        var cell = cells[i];\n",
       "        if (cell.cell_type === 'code'){\n",
       "            for (var j=0; j<cell.output_area.outputs.length; j++) {\n",
       "                var data = cell.output_area.outputs[j];\n",
       "                if (data.data) {\n",
       "                    // IPython >= 3 moved mimebundle to data attribute of output\n",
       "                    data = data.data;\n",
       "                }\n",
       "                if (data['text/html'] == html_output) {\n",
       "                    return [cell, data, j];\n",
       "                }\n",
       "            }\n",
       "        }\n",
       "    }\n",
       "}\n",
       "\n",
       "// Register the function which deals with the matplotlib target/channel.\n",
       "// The kernel may be null if the page has been refreshed.\n",
       "if (IPython.notebook.kernel != null) {\n",
       "    IPython.notebook.kernel.comm_manager.register_target('matplotlib', mpl.mpl_figure_comm);\n",
       "}\n"
      ],
      "text/plain": [
       "<IPython.core.display.Javascript object>"
      ]
     },
     "metadata": {},
     "output_type": "display_data"
    },
    {
     "data": {
      "text/html": [
       "<img src=\"data:image/png;base64,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\" width=\"640\">"
      ],
      "text/plain": [
       "<IPython.core.display.HTML object>"
      ]
     },
     "metadata": {},
     "output_type": "display_data"
    },
    {
     "data": {
      "text/plain": [
       "<matplotlib.legend.Legend at 0x7f660ad8d4e0>"
      ]
     },
     "execution_count": 13,
     "metadata": {},
     "output_type": "execute_result"
    }
   ],
   "source": [
    "fig, ax = plt.subplots()\n",
    "\n",
    "ax.plot(histo_eri[1][:-1], prob_eri, label=\"Original ERI\")\n",
    "ax.plot(histo_df_eri[1][:-1], prob_df_eri, label=\"DF ERI\")\n",
    "ax.plot(histo_dev[1][:-1], prob_dev, label=\"Deviation\")\n",
    "\n",
    "ax.set_xlabel(\"$\\mathrm{log}_{10} \\mathrm{ERI}$\")\n",
    "ax.set_ylabel(\"Probability Distribution\")\n",
    "ax.set_title(\"ERI Distribution Status\")\n",
    "ax.legend()"
   ]
  },
  {
   "cell_type": "markdown",
   "metadata": {},
   "source": [
    "需要作补充说明的是，事实上不论是 DF ERI 或是 4c2e ERI，它们都有许多值为零，因此上述 PDF 图的积分在 $[-N, +N] \\, (\\forall N \\in \\mathscr{N}^{*})$ 区间的积分面积总小于 1；但这并不影响我们讨论。\n",
    "\n",
    "我们能发现，在 ERI 积分中大于 $10^{-4}$ 大小的数值部分，DF ERI 积分与普通的 4c2e ERI 积分的分布是几乎相同的，意味着 DF ERI 把握住 4c2e ERI 积分的主要部分。但对于小于该数值的次要部分，DF ERI 并不能很好地对 4c2e ERI 积分作出近似。"
   ]
  },
  {
   "cell_type": "markdown",
   "metadata": {},
   "source": [
    "### 重复 DF J 积分"
   ]
  },
  {
   "cell_type": "markdown",
   "metadata": {},
   "source": [
    "首先，我们指出，我们目标的 DF J 积分并不与普通的 J 积分相同："
   ]
  },
  {
   "cell_type": "code",
   "execution_count": 14,
   "metadata": {},
   "outputs": [],
   "source": [
    "X = np.random.randn(mol.nao, mol.nao)\n",
    "X += X.T"
   ]
  },
  {
   "cell_type": "code",
   "execution_count": 15,
   "metadata": {},
   "outputs": [
    {
     "data": {
      "text/plain": [
       "False"
      ]
     },
     "execution_count": 15,
     "metadata": {},
     "output_type": "execute_result"
    }
   ],
   "source": [
    "np.allclose(scf_normal.get_j(dm=X), scf_df.get_j(dm=X))"
   ]
  },
  {
   "cell_type": "markdown",
   "metadata": {},
   "source": [
    "根据 J 积分的定义 $J_{\\mu \\nu} [X_{\\kappa \\lambda}] = (\\mu \\nu | \\kappa \\lambda) X_{\\kappa \\lambda}$，我们应当很容易地给出 DF J 积分的定义：\n",
    "\n",
    "$$\n",
    "J_{\\mu \\nu} [X_{\\kappa \\lambda}] \\simeq (\\mu \\nu | P) (\\mathbf{J}^{-1})_{PQ} (Q | \\kappa \\lambda) X_{\\kappa \\lambda}\n",
    "$$"
   ]
  },
  {
   "cell_type": "code",
   "execution_count": 16,
   "metadata": {},
   "outputs": [
    {
     "data": {
      "text/plain": [
       "True"
      ]
     },
     "execution_count": 16,
     "metadata": {},
     "output_type": "execute_result"
    }
   ],
   "source": [
    "np.allclose(\n",
    "    np.einsum(\"uvP, PQ, klQ, kl -> uv\", int3c2e, np.linalg.inv(int2c2e), int3c2e, X),\n",
    "    scf_df.get_j(dm=X)\n",
    ")"
   ]
  },
  {
   "cell_type": "markdown",
   "metadata": {},
   "source": [
    "但求逆运算一般来说是需要避免的。在 PySCF 默认的 DF 程序实践中，通常是采用 Cholesky 分解与线性方程组求解得到三角标张量 $V_{\\mu \\nu, P}$，随后再进行缩并。具体的过程大致如下：首先通过 Cholesky 分解给出 $(\\mathbf{J}^{1/2})_{PQ}$ `int2c2e_half`："
   ]
  },
  {
   "cell_type": "markdown",
   "metadata": {},
   "source": [
    "$$\n",
    "J_{PQ} = (\\mathbf{J}^{1/2})_{PR} (\\mathbf{J}^{1/2})_{QR}\n",
    "$$"
   ]
  },
  {
   "cell_type": "code",
   "execution_count": 17,
   "metadata": {},
   "outputs": [
    {
     "data": {
      "text/plain": [
       "True"
      ]
     },
     "execution_count": 17,
     "metadata": {},
     "output_type": "execute_result"
    }
   ],
   "source": [
    "int2c2e_half = scipy.linalg.cholesky(int2c2e, lower=True)\n",
    "np.allclose(np.einsum(\"PR, QR -> PQ\", int2c2e_half, int2c2e_half), int2c2e)"
   ]
  },
  {
   "cell_type": "markdown",
   "metadata": {},
   "source": [
    "随后通过求解 $(\\mathbf{J}^{1/2})_{PQ} V_{\\mu \\nu, Q} = (\\mu \\nu | P)$，得到 $V_{\\mu \\nu, Q} = (\\mathbf{J}^{-1/2})_{PQ} (\\mu \\nu | P)$ `V_df`；但注意到 $(\\mu \\nu)$ 一般是用作双下标的，但在求解方程的时候需要转换为同一维度。"
   ]
  },
  {
   "cell_type": "code",
   "execution_count": 18,
   "metadata": {},
   "outputs": [],
   "source": [
    "V_df = scipy.linalg.solve_triangular(int2c2e_half, int3c2e.reshape(-1, auxmol.nao).T, lower=True)\\\n",
    "           .reshape(auxmol.nao, mol.nao, mol.nao).transpose((1, 2, 0))"
   ]
  },
  {
   "cell_type": "markdown",
   "metadata": {},
   "source": [
    "由此，J 积分可以通过下式给出：\n",
    "\n",
    "$$\n",
    "J_{\\mu \\nu} [X_{\\kappa \\lambda}] = V_{\\mu \\nu, P} V_{\\kappa \\lambda, P} X_{\\kappa \\lambda}\n",
    "$$"
   ]
  },
  {
   "cell_type": "code",
   "execution_count": 19,
   "metadata": {},
   "outputs": [
    {
     "data": {
      "text/plain": [
       "True"
      ]
     },
     "execution_count": 19,
     "metadata": {},
     "output_type": "execute_result"
    }
   ],
   "source": [
    "np.allclose(\n",
    "    np.einsum(\"uvP, klP, kl -> uv\", V_df, V_df, X),\n",
    "    scf_df.get_j(dm=X)\n",
    ")"
   ]
  },
  {
   "cell_type": "markdown",
   "metadata": {},
   "source": [
    "K 积分也可以类似地给出。"
   ]
  },
  {
   "cell_type": "markdown",
   "metadata": {},
   "source": [
    "### PySCF 的三角标张量 $V_{\\mu \\nu, P}$"
   ]
  },
  {
   "cell_type": "markdown",
   "metadata": {},
   "source": [
    "事实上，PySCF 会储存三角标张量 $V_{\\mu \\nu, P}$。根据其 [文档](http://pyscf.org/pyscf/df.html#saving-loading-df-integral-tensor)，三角标张量储存于"
   ]
  },
  {
   "cell_type": "code",
   "execution_count": 20,
   "metadata": {},
   "outputs": [
    {
     "data": {
      "text/plain": [
       "(190, 2775)"
      ]
     },
     "execution_count": 20,
     "metadata": {},
     "output_type": "execute_result"
    }
   ],
   "source": [
    "scf_df.with_df._cderi.shape"
   ]
  },
  {
   "cell_type": "markdown",
   "metadata": {},
   "source": [
    "储存下来的张量是两个维度，第一个维度是 DF 基组大小，第二个则是 $(\\mu \\nu)$ 双下标的下三角矩阵所给出的向量。现在我们将其展开为对称张量 `V_df_pyscf`："
   ]
  },
  {
   "cell_type": "code",
   "execution_count": 21,
   "metadata": {},
   "outputs": [],
   "source": [
    "V_df_pyscf = tril_to_symm(scf_df.with_df._cderi).transpose((1, 2, 0))"
   ]
  },
  {
   "cell_type": "markdown",
   "metadata": {},
   "source": [
    "我们可以验证 PySCF 与我们所给出的 $V_{\\mu \\nu, P}$ 是等价的："
   ]
  },
  {
   "cell_type": "code",
   "execution_count": 22,
   "metadata": {},
   "outputs": [
    {
     "data": {
      "text/plain": [
       "True"
      ]
     },
     "execution_count": 22,
     "metadata": {},
     "output_type": "execute_result"
    }
   ],
   "source": [
    "np.allclose(V_df, V_df_pyscf)"
   ]
  },
  {
   "cell_type": "markdown",
   "metadata": {},
   "source": [
    "## DF RHF 自洽场"
   ]
  },
  {
   "cell_type": "markdown",
   "metadata": {},
   "source": [
    "既然我们已经重复出 DF J/K 积分，那么我们就可以写一个简单但完整的 RHF 计算程序。"
   ]
  },
  {
   "cell_type": "markdown",
   "metadata": {},
   "source": [
    "### 体系定义"
   ]
  },
  {
   "cell_type": "code",
   "execution_count": 23,
   "metadata": {},
   "outputs": [
    {
     "data": {
      "text/plain": [
       "<pyscf.gto.mole.Mole at 0x7f660d2729b0>"
      ]
     },
     "execution_count": 23,
     "metadata": {},
     "output_type": "execute_result"
    }
   ],
   "source": [
    "mol = gto.Mole()\n",
    "mol.atom = \"\"\"\n",
    "O  0.0  0.0  0.0\n",
    "O  0.0  0.0  1.5\n",
    "H  1.0  0.0  0.0\n",
    "H  0.0  0.7  1.0\n",
    "\"\"\"\n",
    "mol.basis = \"def2-tzvp\"\n",
    "mol.verbose = 0\n",
    "mol.build()\n",
    "\n",
    "auxmol = mol.copy()\n",
    "auxmol.basis = \"def2-tzvp-jkfit\"\n",
    "auxmol.build()"
   ]
  },
  {
   "cell_type": "code",
   "execution_count": 24,
   "metadata": {},
   "outputs": [],
   "source": [
    "natm = mol.natm\n",
    "nao = nmo = mol.nao\n",
    "nocc = mol.nelec[0]\n",
    "nvir = nmo - nocc\n",
    "so, sv, sa = slice(0, nocc), slice(nocc, nmo), slice(0, nmo)\n",
    "\n",
    "nao_df = auxmol.nao"
   ]
  },
  {
   "cell_type": "markdown",
   "metadata": {},
   "source": [
    "### 积分与能量定义"
   ]
  },
  {
   "cell_type": "code",
   "execution_count": 25,
   "metadata": {},
   "outputs": [],
   "source": [
    "T = mol.intor(\"int1e_kin\")\n",
    "Vnuc = mol.intor(\"int1e_nuc\")\n",
    "H = T + Vnuc\n",
    "S = mol.intor(\"int1e_ovlp\")\n",
    "\n",
    "int2c2e = auxmol.intor(\"int2c2e\")\n",
    "int2c2e.shape\n",
    "int3c2e = df.incore.aux_e2(mol, auxmol)\n",
    "\n",
    "int2c2e_half = scipy.linalg.cholesky(int2c2e, lower=True)\n",
    "V_df = scipy.linalg.solve_triangular(int2c2e_half, int3c2e.reshape(-1, nao_df).T, lower=True)\\\n",
    "           .reshape(nao_df, nao, nao).transpose((1, 2, 0))"
   ]
  },
  {
   "cell_type": "code",
   "execution_count": 26,
   "metadata": {},
   "outputs": [],
   "source": [
    "def gen_J(X):\n",
    "    return np.einsum(\"uvP, klP, kl -> uv\", V_df, V_df, X)\n",
    "    \n",
    "def gen_K(X):\n",
    "    return np.einsum(\"ukP, vlP, kl -> uv\", V_df, V_df, X)\n",
    "    \n",
    "def gen_F(X):\n",
    "    return H + gen_J(X) - 0.5 * gen_K(X)\n",
    "\n",
    "def gen_energy_elec(D):\n",
    "    return ((H + 0.5 * gen_J(D) - 0.25 * gen_K(D)) * D).sum()"
   ]
  },
  {
   "cell_type": "code",
   "execution_count": 27,
   "metadata": {},
   "outputs": [],
   "source": [
    "Z_A = mol.atom_charges()\n",
    "A_t = mol.atom_coords()\n",
    "r_AB = np.linalg.norm(A_t[:, None, :] - A_t[None, :, :], axis=-1)\n",
    "r_AB += np.diag(np.ones(natm) * np.inf)\n",
    "E_nuc = 0.5 * (Z_A[None, :] * Z_A[:, None] / r_AB).sum()"
   ]
  },
  {
   "cell_type": "markdown",
   "metadata": {},
   "source": [
    "### 自洽场循环"
   ]
  },
  {
   "cell_type": "code",
   "execution_count": 28,
   "metadata": {},
   "outputs": [
    {
     "name": "stdout",
     "output_type": "stream",
     "text": [
      "SCF Converged in            130  loops\n",
      "Electronic energy (DF_RHF)  -188.62125711384974  a.u.\n",
      "Total energy      (DF_RHF)  -150.73658270520846  a.u.\n"
     ]
    }
   ],
   "source": [
    "C = e = NotImplemented\n",
    "D = np.zeros((nao, nao))\n",
    "D_old = np.zeros((nao, nao)) + 1e-4\n",
    "count = 0\n",
    "\n",
    "while (not np.allclose(D, D_old, atol=1e-8, rtol=1e-6)):\n",
    "    if count > 500:\n",
    "        raise ValueError(\"SCF not converged!\")\n",
    "    count += 1\n",
    "    D_old = D\n",
    "    F = gen_F(D)\n",
    "    e, C = scipy.linalg.eigh(F, S)  # Solve FC = SCe\n",
    "    D = 2 * C[:, so] @ C[:, so].T\n",
    "    if count > 1:\n",
    "        D = 0.3 * D + 0.7 * D_old             # For convergence\n",
    "\n",
    "E_elec = gen_energy_elec(D)\n",
    "E_tot = E_elec + E_nuc\n",
    "\n",
    "print(\"SCF Converged in           \", count, \" loops\")\n",
    "print(\"Electronic energy (DF_RHF) \", E_elec, \" a.u.\")\n",
    "print(\"Total energy      (DF_RHF) \", E_tot, \" a.u.\")"
   ]
  },
  {
   "cell_type": "markdown",
   "metadata": {},
   "source": [
    "我们可以验证上述 SCF 过程得到的能量与 PySCF DF 所给出的能量几乎完全一样："
   ]
  },
  {
   "cell_type": "code",
   "execution_count": 29,
   "metadata": {},
   "outputs": [
    {
     "data": {
      "text/plain": [
       "-2.7853275241795927e-12"
      ]
     },
     "execution_count": 29,
     "metadata": {},
     "output_type": "execute_result"
    }
   ],
   "source": [
    "E_tot - scf_df.e_tot"
   ]
  },
  {
   "cell_type": "markdown",
   "metadata": {},
   "source": [
    "但该能量与普通自洽场能量多少有些差距："
   ]
  },
  {
   "cell_type": "code",
   "execution_count": 30,
   "metadata": {},
   "outputs": [
    {
     "data": {
      "text/plain": [
       "5.912456160217516e-05"
      ]
     },
     "execution_count": 30,
     "metadata": {},
     "output_type": "execute_result"
    }
   ],
   "source": [
    "E_tot - scf_normal.e_tot"
   ]
  },
  {
   "cell_type": "markdown",
   "metadata": {},
   "source": [
    "## 参考文献"
   ]
  },
  {
   "cell_type": "raw",
   "metadata": {
    "raw_mimetype": "text/restructuredtext"
   },
   "source": [
    ".. bibliography:: assets/DF_SCF.bib\n",
    "    :cited:\n",
    "    :style: alpha"
   ]
  }
 ],
 "metadata": {
  "celltoolbar": "Raw Cell Format",
  "kernelspec": {
   "display_name": "Python 3",
   "language": "python",
   "name": "python3"
  },
  "language_info": {
   "codemirror_mode": {
    "name": "ipython",
    "version": 3
   },
   "file_extension": ".py",
   "mimetype": "text/x-python",
   "name": "python",
   "nbconvert_exporter": "python",
   "pygments_lexer": "ipython3",
   "version": "3.7.3"
  },
  "toc": {
   "base_numbering": 1,
   "nav_menu": {},
   "number_sections": true,
   "sideBar": true,
   "skip_h1_title": false,
   "title_cell": "Table of Contents",
   "title_sidebar": "Contents",
   "toc_cell": false,
   "toc_position": {},
   "toc_section_display": true,
   "toc_window_display": false
  }
 },
 "nbformat": 4,
 "nbformat_minor": 2
}
