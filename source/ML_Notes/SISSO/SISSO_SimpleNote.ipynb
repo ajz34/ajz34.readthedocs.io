{
 "cells": [
  {
   "cell_type": "markdown",
   "metadata": {},
   "source": [
    "# 简单了解 SISSO 特征筛选方法在回归问题下应用"
   ]
  },
  {
   "cell_type": "markdown",
   "metadata": {},
   "source": [
    "这份文档我们会用玩具模型，简单地讨论 SISSO 的使用与输出。我们会尽可能地理解所有程序的输出文件，但对于 (我所认为的) SISSO 的最关键的两个技术问题，即特征自动构造以及高性能筛选 (以及 $L_0$ 惩罚的算子选择算法) 问题，我们不做讨论。"
   ]
  },
  {
   "cell_type": "markdown",
   "metadata": {},
   "source": [
    "SISSO (Sure Independence Screening and Sparsifying Operator) 是 <cite data-cite=\"Ouyang-Ghiringhelli.PRM.2018.2\">Ouyang PRM 2018</cite> <cite data-cite=\"Ouyang-Ghiringhelli.JPM.2019.2\">Ouyang JPM 2019</cite> 提出的算法。针对回归问题，通过用户给定一系列数据的特征 (Feature) 和目标值 (Target or Property)，以及一些 SISSO 特化的设定，可以导出哪些特征、以及特征间的运算所导出的描述子 (Descriptor) (运算包括但不限于四则运算、指数与对数、三角函数等) 会对目标值有最大程度的贡献；从而达到筛选出能最佳地描述目标的描述子的目的。\n",
    "\n",
    "该算法尽管是出于解决材料设计问题而产生的，但它本身完全可以看作一种纯应用数学的方法。同时，该算法的根基应当被认为是传统机器学习 (非深度学习) 的方法。"
   ]
  },
  {
   "cell_type": "markdown",
   "metadata": {},
   "source": [
    "由于 SISSO 并不是 Python 程序，因此这份文档中，我们会在 Jupyter 中使用 bash 命令。为了执行这份文档，读者需要事先编译好 SISSO 程序到当前目录的 `sisso`。"
   ]
  },
  {
   "cell_type": "code",
   "execution_count": 38,
   "metadata": {},
   "outputs": [],
   "source": [
    "%matplotlib notebook\n",
    "\n",
    "import numpy as np\n",
    "from numpy import exp, sqrt, log, sin, cos\n",
    "from sklearn.linear_model import LinearRegression\n",
    "from sklearn.metrics import mean_squared_error, max_error, r2_score\n",
    "from matplotlib import pyplot as plt\n",
    "\n",
    "np.set_printoptions(precision=5, linewidth=150, suppress=True)"
   ]
  },
  {
   "cell_type": "markdown",
   "metadata": {},
   "source": [
    "## 运行前的准备"
   ]
  },
  {
   "cell_type": "markdown",
   "metadata": {},
   "source": [
    "### 数据集 (Dataset)"
   ]
  },
  {
   "cell_type": "markdown",
   "metadata": {},
   "source": [
    "数据集的构造如下。该数据集的样本数量为 5；目标值在第二列，三个初步的特征列在后三列。该数据集除了名称作简化外，其余与 SISSO Github 上的 [train.dat_regression](https://github.com/rouyang2017/SISSO/blob/master/input_template/train.dat_regression) 一致。"
   ]
  },
  {
   "cell_type": "code",
   "execution_count": 39,
   "metadata": {},
   "outputs": [
    {
     "name": "stdout",
     "output_type": "stream",
     "text": [
      "materials  property  F1      F2      F3\r\n",
      "sample1    3.0862    0.8626  0.7043  0.6312\r\n",
      "sample2    2.8854    0.7260  0.7818  0.6119\r\n",
      "sample3    0.6907    0.4943  0.0044  0.4420\r\n",
      "sample4    0.9902    0.0106  0.0399  0.9877\r\n",
      "sample5    0.7242    0.0970  0.3199  0.5504\r\n"
     ]
    }
   ],
   "source": [
    "! cat train.dat"
   ]
  },
  {
   "cell_type": "markdown",
   "metadata": {},
   "source": [
    "我们之后会经常地用到这些数据，因此会使用变量与数学记号存储与表示。其中，\n",
    "\n",
    "- `P` $\\boldsymbol{P}$ (vector length: $n_\\mathrm{Sample}$) 目标值\n",
    "\n",
    "- `F1`, `F2`, `F3` $\\boldsymbol{f}_1$, $\\boldsymbol{f}_2$, $\\boldsymbol{f}_3$ (vector length: $n_\\mathrm{Sample}$) 初始特征\n",
    "\n",
    "这里指出，`train.dat` 中的 `F1`, `F2`, `F3` 可以是其它的字符串。同时，这些特征字符串可以通过 Python 的 `exec` statement 直接执行而不一定需要 Hard Coding；但为了程序可读且易执行，在这篇文档中我们就手动地声明这些变量了。"
   ]
  },
  {
   "cell_type": "code",
   "execution_count": 40,
   "metadata": {},
   "outputs": [
    {
     "data": {
      "text/plain": [
       "array([3.0862, 2.8854, 0.6907, 0.9902, 0.7242])"
      ]
     },
     "execution_count": 40,
     "metadata": {},
     "output_type": "execute_result"
    }
   ],
   "source": [
    "with open(\"train.dat\", \"r\") as f:\n",
    "    dataset = np.array([line.split() for line in f.readlines()])\n",
    "    dataset = np.array(dataset[1:, 1:], dtype=float)\n",
    "P, F1, F2, F3 = dataset.T\n",
    "P"
   ]
  },
  {
   "cell_type": "markdown",
   "metadata": {},
   "source": [
    "### SISSO 参数"
   ]
  },
  {
   "cell_type": "markdown",
   "metadata": {},
   "source": [
    "SISSO 的参数也参考 Github 上的 [SISSO.in_regression](https://github.com/rouyang2017/SISSO/blob/master/input_template/SISSO.in_regression)；但我们对其中一些设置做了更改。一些重要但也许需要额外说明的参数列举如下："
   ]
  },
  {
   "cell_type": "markdown",
   "metadata": {},
   "source": [
    "`desc_dim` 作为最终筛选结果的描述子的维度限制 $n_\\mathrm{Descriptor}$。在这篇文档中，我们将“特征”与“描述子”分开；特征是用户输入的样本描述性信息，而描述子是导出的描述性信息。$n_\\mathrm{Descriptor}$ 会在后文使用。"
   ]
  },
  {
   "cell_type": "code",
   "execution_count": 41,
   "metadata": {},
   "outputs": [
    {
     "name": "stdout",
     "output_type": "stream",
     "text": [
      "desc_dim=3           ! dimension of the descriptor\r\n"
     ]
    }
   ],
   "source": [
    "! grep \"desc_dim=\" SISSO.in"
   ]
  },
  {
   "cell_type": "markdown",
   "metadata": {},
   "source": [
    "`rung` 描述子所需要的构造次数。譬如，描述子\n",
    "\n",
    "- $f_2$ (恰好也是输入特征) 是 Rung 0 级别的；\n",
    "- $f_2 - f_1$, $\\exp(f_1)$ 等是 Rung 1 级别的 (分别使用了减号、指数)；\n",
    "- $\\log(f_3) \\mathrm{abs} (f_2 - f_1)$ 是 Rung 2 级别的 (其中，$\\log(f_3)$ 与 $\\mathrm{abs} (f_2 - f_1)$ 分别是 Rung 1 级别的，它们之间的运算多了一个乘法，因此为 Rung 2 级别的)；\n",
    "- $\\sqrt{\\log(f_3)}$ 也是 Rung 2 级别的。"
   ]
  },
  {
   "cell_type": "code",
   "execution_count": 42,
   "metadata": {},
   "outputs": [
    {
     "name": "stdout",
     "output_type": "stream",
     "text": [
      "rung=2               ! rung of the feature space to be constructed\r\n"
     ]
    }
   ],
   "source": [
    "! grep \"rung=\" SISSO.in"
   ]
  },
  {
   "cell_type": "markdown",
   "metadata": {},
   "source": [
    "`maxcomplexity` 从特征构造描述子时所使用的最多的符号数量。尽管我们设定了最大符号数量为 10，事实上 10 个符号是不可能达到的；因为 Rung 1 最多使用到 1 个符号，Rung 2 最多是两个 Rung 1 描述子的运算即 3 个符号；可以推知 Rung 3 最多使用 7 个符号，Rung $n$ 最多使用 $2^n - 1$ 个符号。"
   ]
  },
  {
   "cell_type": "code",
   "execution_count": 43,
   "metadata": {
    "scrolled": true
   },
   "outputs": [
    {
     "name": "stdout",
     "output_type": "stream",
     "text": [
      "maxcomplexity=10     ! max feature complexity (number of operators in a feature)\r\n"
     ]
    }
   ],
   "source": [
    "! grep \"maxcomplexity=\" SISSO.in"
   ]
  },
  {
   "cell_type": "markdown",
   "metadata": {},
   "source": [
    "`dimclass` 第 1, 2 号特征 $f_1$, $f_2$ 共享相同的物理单位，第 3 号特征 $f_3$ 有独立的物理单位。这会避免构造类似于 $f_1 - f_3$ 等不符合量纲的描述子。"
   ]
  },
  {
   "cell_type": "code",
   "execution_count": 44,
   "metadata": {},
   "outputs": [
    {
     "name": "stdout",
     "output_type": "stream",
     "text": [
      "dimclass=(1:2)(3:3)  ! group features according to their dimension/unit; those not in any () are dimensionless\r\n"
     ]
    }
   ],
   "source": [
    "! grep \"dimclass=\" SISSO.in"
   ]
  },
  {
   "cell_type": "markdown",
   "metadata": {},
   "source": [
    "`subs_sis` 对于每个描述子维度，选取最好的 7 个描述子作为备选 $n_\\mathrm{sub}$。后文会对其作补充说明。"
   ]
  },
  {
   "cell_type": "code",
   "execution_count": 45,
   "metadata": {
    "scrolled": true
   },
   "outputs": [
    {
     "name": "stdout",
     "output_type": "stream",
     "text": [
      "subs_sis=7           ! SAME one size for every SIS-selected subspace. Otherwise, input a size for each dimension seperated by comma\r\n"
     ]
    }
   ],
   "source": [
    "! grep \"subs_sis=\" SISSO.in"
   ]
  },
  {
   "cell_type": "markdown",
   "metadata": {},
   "source": [
    "## SISSO 运行与结果"
   ]
  },
  {
   "cell_type": "markdown",
   "metadata": {},
   "source": [
    "当设置完毕数据集 `train.dat` 与 SISSO 设定 `SISSO.in` 后，就可以执行 SISSO 程序 `sisso` 了。SISSO 可以单核计算，也可以 MPI 多核计算。我们将屏幕输出定向到文件 `SISSO.log`，该文件没有实质性内容。"
   ]
  },
  {
   "cell_type": "code",
   "execution_count": 46,
   "metadata": {
    "scrolled": false
   },
   "outputs": [
    {
     "name": "stdout",
     "output_type": "stream",
     "text": [
      "[DESKTOP-8BRL880:01147] 3 more processes have sent help message help-btl-vader.txt / cma-permission-denied\r\n",
      "[DESKTOP-8BRL880:01147] Set MCA parameter \"orte_base_help_aggregate\" to 0 to see all help / error messages\r\n"
     ]
    }
   ],
   "source": [
    "! mpirun -np 4 ./sisso > SISSO.log"
   ]
  },
  {
   "cell_type": "markdown",
   "metadata": {},
   "source": [
    "但程序会输出大量其他信息。最重要的信息放在 `SISSO.out` 文件中："
   ]
  },
  {
   "cell_type": "code",
   "execution_count": 47,
   "metadata": {},
   "outputs": [
    {
     "name": "stdout",
     "output_type": "stream",
     "text": [
      "Final model/descriptor to report\r\n",
      "================================================================================\r\n",
      "  3D descriptor (model): \r\n",
      "Total RMSE,MaxAE:   0.000083  0.000137\r\n",
      "@@@descriptor: \r\n",
      "                      5:[((F2)^6/log(F1))]\r\n",
      "                     12:[(exp(-F3)/abs(F1-F2))]\r\n",
      "                     16:[((F1)^3/(F1-F2))]\r\n",
      "       coefficients_001:    -0.2813852886E+01    0.2638598223E-01    0.4721473413E-02\r\n",
      "          Intercept_001:     0.6547943803E+00\r\n",
      "         RMSE,MaxAE_001:     0.8272942564E-04    0.1372716760E-03\r\n",
      "================================================================================\r\n"
     ]
    }
   ],
   "source": [
    "! grep -A 10000 \"Final model\" SISSO.out | grep -B 10000 \"====\""
   ]
  },
  {
   "cell_type": "markdown",
   "metadata": {},
   "source": [
    "这就意味着，从 SISSO 中导出的最佳描述子是 `@@@descriptor:` 下的三个描述子；这三行是所有输出中最为关键的信息：\n",
    "\n",
    "$$\n",
    "\\begin{align}\n",
    "D_1 &= f_2^6 \\log(f_1)^{-1} \\\\\n",
    "D_2 &= \\exp(- f_3) |f_1 - f_2|^{-1} \\\\\n",
    "D_3 &= f_1^3 (f_1 - f_2)^{-1} \\\\\n",
    "\\end{align}\n",
    "$$\n",
    "\n",
    "这从这三个描述子出发作 (包含截距 Interception，或者称偏置 Bias 的) 线性拟合：\n",
    "\n",
    "$$\n",
    "\\tilde P = C_1 D_1 + C_2 D_2 + C_3 D_3 + b\n",
    "$$\n",
    "\n",
    "可以得到参数 $C_1, C_2, C_3$、偏置 $b$ 与误差 $\\boldsymbol{\\tilde{P}} - \\boldsymbol{P}$ 向量的 RMSE 值与 MaxAE 值。\n",
    "\n",
    "我们可以用 scikit-learn 来验证上述结果。"
   ]
  },
  {
   "cell_type": "code",
   "execution_count": 48,
   "metadata": {},
   "outputs": [],
   "source": [
    "D1 = ((F2)**6/log(F1))\n",
    "D2 = (exp(-F3)/abs(F1-F2))\n",
    "D3 = ((F1)**3/(F1-F2))"
   ]
  },
  {
   "cell_type": "code",
   "execution_count": 49,
   "metadata": {},
   "outputs": [
    {
     "data": {
      "text/plain": [
       "LinearRegression()"
      ]
     },
     "execution_count": 49,
     "metadata": {},
     "output_type": "execute_result"
    }
   ],
   "source": [
    "reg = LinearRegression()\n",
    "reg.fit(np.array([D1, D2, D3]).T, P)"
   ]
  },
  {
   "cell_type": "markdown",
   "metadata": {},
   "source": [
    "线性拟合参数 $C_1, C_2, C_3$ 与偏置 $b$ 列举为"
   ]
  },
  {
   "cell_type": "code",
   "execution_count": 50,
   "metadata": {},
   "outputs": [
    {
     "data": {
      "text/plain": [
       "(array([-2.81385,  0.02639,  0.00472]), 0.6547943803493903)"
      ]
     },
     "execution_count": 50,
     "metadata": {},
     "output_type": "execute_result"
    }
   ],
   "source": [
    "reg.coef_, reg.intercept_"
   ]
  },
  {
   "cell_type": "markdown",
   "metadata": {},
   "source": [
    "RMSE 误差与 MaxAE 误差分别可以表达为"
   ]
  },
  {
   "cell_type": "code",
   "execution_count": 51,
   "metadata": {},
   "outputs": [
    {
     "data": {
      "text/plain": [
       "(8.272942030223837e-05, 0.0001372716671202978)"
      ]
     },
     "execution_count": 51,
     "metadata": {},
     "output_type": "execute_result"
    }
   ],
   "source": [
    "P_pred = reg.predict(np.array([D1, D2, D3]).T)\n",
    "sqrt(mean_squared_error(P, P_pred)), max_error(P, P_pred)"
   ]
  },
  {
   "cell_type": "markdown",
   "metadata": {},
   "source": [
    "如果用户不关心细节与中间输出，我们就只需要了解到这里即可。"
   ]
  },
  {
   "cell_type": "markdown",
   "metadata": {},
   "source": [
    "## SISSO 第一轮描述子筛选"
   ]
  },
  {
   "cell_type": "markdown",
   "metadata": {},
   "source": [
    "### 描述子表达式及其在数据点上的值"
   ]
  },
  {
   "cell_type": "markdown",
   "metadata": {},
   "source": [
    "SISSO 会经历多次描述子筛选。SISSO 每次都会构建数以万计，甚至亿记的描述子空间，随后依据线性拟合判标筛选出最好的 $n_\\mathrm{sub}$ 个描述子。我们不讨论 SISSO 是如何构建庞大的描述子空间的过程。**一般来说**，`desc_dim` 的数量决定了特征筛选次数 (如果从特征构造出的描述子的空间不够大，筛选次数会变少；SISSO 会对这种情形作警告)。因此，当前的 SISSO 会有三次特征筛选。筛选的结果会储存在 `feature_space` 目录下。"
   ]
  },
  {
   "cell_type": "markdown",
   "metadata": {},
   "source": [
    "我们先拿第一次筛选结果讨论。第一次所选出的描述子储存在下述文件中："
   ]
  },
  {
   "cell_type": "code",
   "execution_count": 52,
   "metadata": {},
   "outputs": [
    {
     "name": "stdout",
     "output_type": "stream",
     "text": [
      "((F1*F2)/log(F3))  corr=      0.9953\r\n",
      "cos((F1*F2))  corr=      0.9949\r\n",
      "((F1*F2))^2  corr=      0.9949\r\n",
      "((F1*F2)*(F1+F2))  corr=      0.9948\r\n",
      "((F2)^6/log(F1))  corr=      0.9947\r\n",
      "((F1)^2*(F2)^3)  corr=      0.9946\r\n",
      "((F1*F2)*sqrt(F1))  corr=      0.9938\r\n"
     ]
    }
   ],
   "source": [
    "! cat feature_space/space_001d.name"
   ]
  },
  {
   "cell_type": "markdown",
   "metadata": {},
   "source": [
    "Python 提供了 `eval` 函数，可以直接将特征的算式读入并作运算。我们使用该功能给出特征运算后得到的描述子矩阵 `d_1D` $\\mathbf{d}_\\mathrm{1D}$ (matrix dim: $(n_\\mathrm{sub}, n_\\mathrm{sample})$)。"
   ]
  },
  {
   "cell_type": "code",
   "execution_count": 53,
   "metadata": {},
   "outputs": [],
   "source": [
    "with open(\"feature_space/space_001d.name\", \"r\") as f:\n",
    "    tokens_1D = [line.split()[0].replace(\"^\", \"**\") for line in f.readlines()]\n",
    "d_1D = np.array([eval(token) for token in tokens_1D])"
   ]
  },
  {
   "cell_type": "code",
   "execution_count": 54,
   "metadata": {},
   "outputs": [
    {
     "data": {
      "text/plain": [
       "array([[-1.32034, -1.15554, -0.00266, -0.03417, -0.05197],\n",
       "       [ 0.82106,  0.8432 ,  1.     ,  1.     ,  0.99952],\n",
       "       [ 0.36909,  0.32215,  0.     ,  0.     ,  0.00096],\n",
       "       [ 0.95194,  0.85581,  0.00108,  0.00002,  0.01294],\n",
       "       [-0.82577, -0.71309, -0.     , -0.     , -0.00046],\n",
       "       [ 0.25995,  0.25186,  0.     ,  0.     ,  0.00031],\n",
       "       [ 0.56425,  0.48362,  0.00153,  0.00004,  0.00966]])"
      ]
     },
     "execution_count": 54,
     "metadata": {},
     "output_type": "execute_result"
    }
   ],
   "source": [
    "d_1D"
   ]
  },
  {
   "cell_type": "markdown",
   "metadata": {},
   "source": [
    "譬如第一行代表在所有 $n_\\mathrm{sample} = 5$ 个数据点下，运算 $f_1 f_2 \\log (f_3)^{-1}$ 的结果："
   ]
  },
  {
   "cell_type": "code",
   "execution_count": 55,
   "metadata": {},
   "outputs": [
    {
     "data": {
      "text/plain": [
       "array([-1.32034, -1.15554, -0.00266, -0.03417, -0.05197])"
      ]
     },
     "execution_count": 55,
     "metadata": {},
     "output_type": "execute_result"
    }
   ],
   "source": [
    "((F1*F2)/log(F3))"
   ]
  },
  {
   "cell_type": "markdown",
   "metadata": {},
   "source": [
    "在 SISSO 原文中，也会用 $\\boldsymbol{S}_1$ 代表第一轮筛选得到的描述子空间。它只是一种符号表示，而不是可以用程序执行的记号。"
   ]
  },
  {
   "cell_type": "markdown",
   "metadata": {},
   "source": [
    "### 相关性"
   ]
  },
  {
   "cell_type": "markdown",
   "metadata": {},
   "source": [
    "我们注意到文件 [feature_space/space_001d.name](feature_space/space_001d.name) 除了包含描述子的具体构造之外，还包括相关性说明。这种相关性实际上是筛选出的描述子与目标值之间的线性相关程度。譬如，对第 0 个描述子，$\\boldsymbol{d}_\\mathrm{1D}^0$ 即所给出的每个数据点对应的值为"
   ]
  },
  {
   "cell_type": "code",
   "execution_count": 56,
   "metadata": {
    "scrolled": true
   },
   "outputs": [
    {
     "data": {
      "text/plain": [
       "array([-1.32034, -1.15554, -0.00266, -0.03417, -0.05197])"
      ]
     },
     "execution_count": 56,
     "metadata": {},
     "output_type": "execute_result"
    }
   ],
   "source": [
    "d_1D[0]"
   ]
  },
  {
   "cell_type": "markdown",
   "metadata": {},
   "source": [
    "这也与文件 [feature_space/space_001d_p001.dat](feature_space/space_001d_p001.dat) 的输出有关。该文件的首列是目标值，随后是描述子在给定数据点上的值："
   ]
  },
  {
   "cell_type": "code",
   "execution_count": 57,
   "metadata": {},
   "outputs": [
    {
     "name": "stdout",
     "output_type": "stream",
     "text": [
      "    0.3086200000E+01   -0.1320335268E+01    0.8210609668E+00    0.3690917046E+00    0.9519374721E+00   -0.8257705126E+00    0.2599512875E+00    0.5642503915E+00\r\n",
      "    0.2885400000E+01   -0.1155542560E+01    0.8432007625E+00    0.3221547755E+00    0.8558073770E+00   -0.7130919424E+00    0.2518606035E+00    0.4836159293E+00\r\n",
      "    0.6907000000E+00   -0.2663889108E-02    0.9999976349E+00    0.4730277006E-05    0.1084632604E-02   -0.1029830186E-13    0.2081321883E-07    0.1529109520E-02\r\n",
      "    0.9902000000E+00   -0.3417345965E-01    0.9999999106E+00    0.1788782436E-06    0.2135847000E-04   -0.8874049547E-09    0.7137241920E-08    0.4354433812E-04\r\n",
      "    0.7242000000E+00   -0.5196747734E-01    0.9995185989E+00    0.9628795181E-03    0.1293653207E-01   -0.4593698157E-03    0.3080251578E-03    0.9664332013E-02\r\n"
     ]
    }
   ],
   "source": [
    "! cat feature_space/space_001d_p001.dat"
   ]
  },
  {
   "cell_type": "markdown",
   "metadata": {},
   "source": [
    "它实际上与目标值有比较好的线性关系："
   ]
  },
  {
   "cell_type": "code",
   "execution_count": 58,
   "metadata": {},
   "outputs": [
    {
     "data": {
      "text/plain": [
       "array([3.0862, 2.8854, 0.6907, 0.9902, 0.7242])"
      ]
     },
     "execution_count": 58,
     "metadata": {},
     "output_type": "execute_result"
    }
   ],
   "source": [
    "P"
   ]
  },
  {
   "cell_type": "markdown",
   "metadata": {},
   "source": [
    "可能光是看这两组向量并不能清楚地把握情况。它们的线性关系可能通过两种方式呈现。一种是 Perason R2 的开方，即线性拟合的拟合优度 R 量标："
   ]
  },
  {
   "cell_type": "code",
   "execution_count": 59,
   "metadata": {},
   "outputs": [
    {
     "data": {
      "text/plain": [
       "0.9952505043650735"
      ]
     },
     "execution_count": 59,
     "metadata": {},
     "output_type": "execute_result"
    }
   ],
   "source": [
    "reg = LinearRegression()\n",
    "reg.fit(d_1D[0].reshape(-1, 1), P)\n",
    "np.sqrt(r2_score(P, reg.predict(d_1D[0].reshape(-1, 1))))"
   ]
  },
  {
   "cell_type": "markdown",
   "metadata": {},
   "source": [
    "上述值与 [feature_space/space_001d.name](feature_space/space_001d.name) 的结果相同。\n",
    "\n",
    "另一种则是绘图呈现。我们不妨将所有 7 个描述子都用绘图呈现："
   ]
  },
  {
   "cell_type": "code",
   "execution_count": 60,
   "metadata": {},
   "outputs": [
    {
     "data": {
      "application/javascript": [
       "/* Put everything inside the global mpl namespace */\n",
       "window.mpl = {};\n",
       "\n",
       "\n",
       "mpl.get_websocket_type = function() {\n",
       "    if (typeof(WebSocket) !== 'undefined') {\n",
       "        return WebSocket;\n",
       "    } else if (typeof(MozWebSocket) !== 'undefined') {\n",
       "        return MozWebSocket;\n",
       "    } else {\n",
       "        alert('Your browser does not have WebSocket support. ' +\n",
       "              'Please try Chrome, Safari or Firefox ≥ 6. ' +\n",
       "              'Firefox 4 and 5 are also supported but you ' +\n",
       "              'have to enable WebSockets in about:config.');\n",
       "    };\n",
       "}\n",
       "\n",
       "mpl.figure = function(figure_id, websocket, ondownload, parent_element) {\n",
       "    this.id = figure_id;\n",
       "\n",
       "    this.ws = websocket;\n",
       "\n",
       "    this.supports_binary = (this.ws.binaryType != undefined);\n",
       "\n",
       "    if (!this.supports_binary) {\n",
       "        var warnings = document.getElementById(\"mpl-warnings\");\n",
       "        if (warnings) {\n",
       "            warnings.style.display = 'block';\n",
       "            warnings.textContent = (\n",
       "                \"This browser does not support binary websocket messages. \" +\n",
       "                    \"Performance may be slow.\");\n",
       "        }\n",
       "    }\n",
       "\n",
       "    this.imageObj = new Image();\n",
       "\n",
       "    this.context = undefined;\n",
       "    this.message = undefined;\n",
       "    this.canvas = undefined;\n",
       "    this.rubberband_canvas = undefined;\n",
       "    this.rubberband_context = undefined;\n",
       "    this.format_dropdown = undefined;\n",
       "\n",
       "    this.image_mode = 'full';\n",
       "\n",
       "    this.root = $('<div/>');\n",
       "    this._root_extra_style(this.root)\n",
       "    this.root.attr('style', 'display: inline-block');\n",
       "\n",
       "    $(parent_element).append(this.root);\n",
       "\n",
       "    this._init_header(this);\n",
       "    this._init_canvas(this);\n",
       "    this._init_toolbar(this);\n",
       "\n",
       "    var fig = this;\n",
       "\n",
       "    this.waiting = false;\n",
       "\n",
       "    this.ws.onopen =  function () {\n",
       "            fig.send_message(\"supports_binary\", {value: fig.supports_binary});\n",
       "            fig.send_message(\"send_image_mode\", {});\n",
       "            if (mpl.ratio != 1) {\n",
       "                fig.send_message(\"set_dpi_ratio\", {'dpi_ratio': mpl.ratio});\n",
       "            }\n",
       "            fig.send_message(\"refresh\", {});\n",
       "        }\n",
       "\n",
       "    this.imageObj.onload = function() {\n",
       "            if (fig.image_mode == 'full') {\n",
       "                // Full images could contain transparency (where diff images\n",
       "                // almost always do), so we need to clear the canvas so that\n",
       "                // there is no ghosting.\n",
       "                fig.context.clearRect(0, 0, fig.canvas.width, fig.canvas.height);\n",
       "            }\n",
       "            fig.context.drawImage(fig.imageObj, 0, 0);\n",
       "        };\n",
       "\n",
       "    this.imageObj.onunload = function() {\n",
       "        fig.ws.close();\n",
       "    }\n",
       "\n",
       "    this.ws.onmessage = this._make_on_message_function(this);\n",
       "\n",
       "    this.ondownload = ondownload;\n",
       "}\n",
       "\n",
       "mpl.figure.prototype._init_header = function() {\n",
       "    var titlebar = $(\n",
       "        '<div class=\"ui-dialog-titlebar ui-widget-header ui-corner-all ' +\n",
       "        'ui-helper-clearfix\"/>');\n",
       "    var titletext = $(\n",
       "        '<div class=\"ui-dialog-title\" style=\"width: 100%; ' +\n",
       "        'text-align: center; padding: 3px;\"/>');\n",
       "    titlebar.append(titletext)\n",
       "    this.root.append(titlebar);\n",
       "    this.header = titletext[0];\n",
       "}\n",
       "\n",
       "\n",
       "\n",
       "mpl.figure.prototype._canvas_extra_style = function(canvas_div) {\n",
       "\n",
       "}\n",
       "\n",
       "\n",
       "mpl.figure.prototype._root_extra_style = function(canvas_div) {\n",
       "\n",
       "}\n",
       "\n",
       "mpl.figure.prototype._init_canvas = function() {\n",
       "    var fig = this;\n",
       "\n",
       "    var canvas_div = $('<div/>');\n",
       "\n",
       "    canvas_div.attr('style', 'position: relative; clear: both; outline: 0');\n",
       "\n",
       "    function canvas_keyboard_event(event) {\n",
       "        return fig.key_event(event, event['data']);\n",
       "    }\n",
       "\n",
       "    canvas_div.keydown('key_press', canvas_keyboard_event);\n",
       "    canvas_div.keyup('key_release', canvas_keyboard_event);\n",
       "    this.canvas_div = canvas_div\n",
       "    this._canvas_extra_style(canvas_div)\n",
       "    this.root.append(canvas_div);\n",
       "\n",
       "    var canvas = $('<canvas/>');\n",
       "    canvas.addClass('mpl-canvas');\n",
       "    canvas.attr('style', \"left: 0; top: 0; z-index: 0; outline: 0\")\n",
       "\n",
       "    this.canvas = canvas[0];\n",
       "    this.context = canvas[0].getContext(\"2d\");\n",
       "\n",
       "    var backingStore = this.context.backingStorePixelRatio ||\n",
       "\tthis.context.webkitBackingStorePixelRatio ||\n",
       "\tthis.context.mozBackingStorePixelRatio ||\n",
       "\tthis.context.msBackingStorePixelRatio ||\n",
       "\tthis.context.oBackingStorePixelRatio ||\n",
       "\tthis.context.backingStorePixelRatio || 1;\n",
       "\n",
       "    mpl.ratio = (window.devicePixelRatio || 1) / backingStore;\n",
       "\n",
       "    var rubberband = $('<canvas/>');\n",
       "    rubberband.attr('style', \"position: absolute; left: 0; top: 0; z-index: 1;\")\n",
       "\n",
       "    var pass_mouse_events = true;\n",
       "\n",
       "    canvas_div.resizable({\n",
       "        start: function(event, ui) {\n",
       "            pass_mouse_events = false;\n",
       "        },\n",
       "        resize: function(event, ui) {\n",
       "            fig.request_resize(ui.size.width, ui.size.height);\n",
       "        },\n",
       "        stop: function(event, ui) {\n",
       "            pass_mouse_events = true;\n",
       "            fig.request_resize(ui.size.width, ui.size.height);\n",
       "        },\n",
       "    });\n",
       "\n",
       "    function mouse_event_fn(event) {\n",
       "        if (pass_mouse_events)\n",
       "            return fig.mouse_event(event, event['data']);\n",
       "    }\n",
       "\n",
       "    rubberband.mousedown('button_press', mouse_event_fn);\n",
       "    rubberband.mouseup('button_release', mouse_event_fn);\n",
       "    // Throttle sequential mouse events to 1 every 20ms.\n",
       "    rubberband.mousemove('motion_notify', mouse_event_fn);\n",
       "\n",
       "    rubberband.mouseenter('figure_enter', mouse_event_fn);\n",
       "    rubberband.mouseleave('figure_leave', mouse_event_fn);\n",
       "\n",
       "    canvas_div.on(\"wheel\", function (event) {\n",
       "        event = event.originalEvent;\n",
       "        event['data'] = 'scroll'\n",
       "        if (event.deltaY < 0) {\n",
       "            event.step = 1;\n",
       "        } else {\n",
       "            event.step = -1;\n",
       "        }\n",
       "        mouse_event_fn(event);\n",
       "    });\n",
       "\n",
       "    canvas_div.append(canvas);\n",
       "    canvas_div.append(rubberband);\n",
       "\n",
       "    this.rubberband = rubberband;\n",
       "    this.rubberband_canvas = rubberband[0];\n",
       "    this.rubberband_context = rubberband[0].getContext(\"2d\");\n",
       "    this.rubberband_context.strokeStyle = \"#000000\";\n",
       "\n",
       "    this._resize_canvas = function(width, height) {\n",
       "        // Keep the size of the canvas, canvas container, and rubber band\n",
       "        // canvas in synch.\n",
       "        canvas_div.css('width', width)\n",
       "        canvas_div.css('height', height)\n",
       "\n",
       "        canvas.attr('width', width * mpl.ratio);\n",
       "        canvas.attr('height', height * mpl.ratio);\n",
       "        canvas.attr('style', 'width: ' + width + 'px; height: ' + height + 'px;');\n",
       "\n",
       "        rubberband.attr('width', width);\n",
       "        rubberband.attr('height', height);\n",
       "    }\n",
       "\n",
       "    // Set the figure to an initial 600x600px, this will subsequently be updated\n",
       "    // upon first draw.\n",
       "    this._resize_canvas(600, 600);\n",
       "\n",
       "    // Disable right mouse context menu.\n",
       "    $(this.rubberband_canvas).bind(\"contextmenu\",function(e){\n",
       "        return false;\n",
       "    });\n",
       "\n",
       "    function set_focus () {\n",
       "        canvas.focus();\n",
       "        canvas_div.focus();\n",
       "    }\n",
       "\n",
       "    window.setTimeout(set_focus, 100);\n",
       "}\n",
       "\n",
       "mpl.figure.prototype._init_toolbar = function() {\n",
       "    var fig = this;\n",
       "\n",
       "    var nav_element = $('<div/>');\n",
       "    nav_element.attr('style', 'width: 100%');\n",
       "    this.root.append(nav_element);\n",
       "\n",
       "    // Define a callback function for later on.\n",
       "    function toolbar_event(event) {\n",
       "        return fig.toolbar_button_onclick(event['data']);\n",
       "    }\n",
       "    function toolbar_mouse_event(event) {\n",
       "        return fig.toolbar_button_onmouseover(event['data']);\n",
       "    }\n",
       "\n",
       "    for(var toolbar_ind in mpl.toolbar_items) {\n",
       "        var name = mpl.toolbar_items[toolbar_ind][0];\n",
       "        var tooltip = mpl.toolbar_items[toolbar_ind][1];\n",
       "        var image = mpl.toolbar_items[toolbar_ind][2];\n",
       "        var method_name = mpl.toolbar_items[toolbar_ind][3];\n",
       "\n",
       "        if (!name) {\n",
       "            // put a spacer in here.\n",
       "            continue;\n",
       "        }\n",
       "        var button = $('<button/>');\n",
       "        button.addClass('ui-button ui-widget ui-state-default ui-corner-all ' +\n",
       "                        'ui-button-icon-only');\n",
       "        button.attr('role', 'button');\n",
       "        button.attr('aria-disabled', 'false');\n",
       "        button.click(method_name, toolbar_event);\n",
       "        button.mouseover(tooltip, toolbar_mouse_event);\n",
       "\n",
       "        var icon_img = $('<span/>');\n",
       "        icon_img.addClass('ui-button-icon-primary ui-icon');\n",
       "        icon_img.addClass(image);\n",
       "        icon_img.addClass('ui-corner-all');\n",
       "\n",
       "        var tooltip_span = $('<span/>');\n",
       "        tooltip_span.addClass('ui-button-text');\n",
       "        tooltip_span.html(tooltip);\n",
       "\n",
       "        button.append(icon_img);\n",
       "        button.append(tooltip_span);\n",
       "\n",
       "        nav_element.append(button);\n",
       "    }\n",
       "\n",
       "    var fmt_picker_span = $('<span/>');\n",
       "\n",
       "    var fmt_picker = $('<select/>');\n",
       "    fmt_picker.addClass('mpl-toolbar-option ui-widget ui-widget-content');\n",
       "    fmt_picker_span.append(fmt_picker);\n",
       "    nav_element.append(fmt_picker_span);\n",
       "    this.format_dropdown = fmt_picker[0];\n",
       "\n",
       "    for (var ind in mpl.extensions) {\n",
       "        var fmt = mpl.extensions[ind];\n",
       "        var option = $(\n",
       "            '<option/>', {selected: fmt === mpl.default_extension}).html(fmt);\n",
       "        fmt_picker.append(option);\n",
       "    }\n",
       "\n",
       "    // Add hover states to the ui-buttons\n",
       "    $( \".ui-button\" ).hover(\n",
       "        function() { $(this).addClass(\"ui-state-hover\");},\n",
       "        function() { $(this).removeClass(\"ui-state-hover\");}\n",
       "    );\n",
       "\n",
       "    var status_bar = $('<span class=\"mpl-message\"/>');\n",
       "    nav_element.append(status_bar);\n",
       "    this.message = status_bar[0];\n",
       "}\n",
       "\n",
       "mpl.figure.prototype.request_resize = function(x_pixels, y_pixels) {\n",
       "    // Request matplotlib to resize the figure. Matplotlib will then trigger a resize in the client,\n",
       "    // which will in turn request a refresh of the image.\n",
       "    this.send_message('resize', {'width': x_pixels, 'height': y_pixels});\n",
       "}\n",
       "\n",
       "mpl.figure.prototype.send_message = function(type, properties) {\n",
       "    properties['type'] = type;\n",
       "    properties['figure_id'] = this.id;\n",
       "    this.ws.send(JSON.stringify(properties));\n",
       "}\n",
       "\n",
       "mpl.figure.prototype.send_draw_message = function() {\n",
       "    if (!this.waiting) {\n",
       "        this.waiting = true;\n",
       "        this.ws.send(JSON.stringify({type: \"draw\", figure_id: this.id}));\n",
       "    }\n",
       "}\n",
       "\n",
       "\n",
       "mpl.figure.prototype.handle_save = function(fig, msg) {\n",
       "    var format_dropdown = fig.format_dropdown;\n",
       "    var format = format_dropdown.options[format_dropdown.selectedIndex].value;\n",
       "    fig.ondownload(fig, format);\n",
       "}\n",
       "\n",
       "\n",
       "mpl.figure.prototype.handle_resize = function(fig, msg) {\n",
       "    var size = msg['size'];\n",
       "    if (size[0] != fig.canvas.width || size[1] != fig.canvas.height) {\n",
       "        fig._resize_canvas(size[0], size[1]);\n",
       "        fig.send_message(\"refresh\", {});\n",
       "    };\n",
       "}\n",
       "\n",
       "mpl.figure.prototype.handle_rubberband = function(fig, msg) {\n",
       "    var x0 = msg['x0'] / mpl.ratio;\n",
       "    var y0 = (fig.canvas.height - msg['y0']) / mpl.ratio;\n",
       "    var x1 = msg['x1'] / mpl.ratio;\n",
       "    var y1 = (fig.canvas.height - msg['y1']) / mpl.ratio;\n",
       "    x0 = Math.floor(x0) + 0.5;\n",
       "    y0 = Math.floor(y0) + 0.5;\n",
       "    x1 = Math.floor(x1) + 0.5;\n",
       "    y1 = Math.floor(y1) + 0.5;\n",
       "    var min_x = Math.min(x0, x1);\n",
       "    var min_y = Math.min(y0, y1);\n",
       "    var width = Math.abs(x1 - x0);\n",
       "    var height = Math.abs(y1 - y0);\n",
       "\n",
       "    fig.rubberband_context.clearRect(\n",
       "        0, 0, fig.canvas.width / mpl.ratio, fig.canvas.height / mpl.ratio);\n",
       "\n",
       "    fig.rubberband_context.strokeRect(min_x, min_y, width, height);\n",
       "}\n",
       "\n",
       "mpl.figure.prototype.handle_figure_label = function(fig, msg) {\n",
       "    // Updates the figure title.\n",
       "    fig.header.textContent = msg['label'];\n",
       "}\n",
       "\n",
       "mpl.figure.prototype.handle_cursor = function(fig, msg) {\n",
       "    var cursor = msg['cursor'];\n",
       "    switch(cursor)\n",
       "    {\n",
       "    case 0:\n",
       "        cursor = 'pointer';\n",
       "        break;\n",
       "    case 1:\n",
       "        cursor = 'default';\n",
       "        break;\n",
       "    case 2:\n",
       "        cursor = 'crosshair';\n",
       "        break;\n",
       "    case 3:\n",
       "        cursor = 'move';\n",
       "        break;\n",
       "    }\n",
       "    fig.rubberband_canvas.style.cursor = cursor;\n",
       "}\n",
       "\n",
       "mpl.figure.prototype.handle_message = function(fig, msg) {\n",
       "    fig.message.textContent = msg['message'];\n",
       "}\n",
       "\n",
       "mpl.figure.prototype.handle_draw = function(fig, msg) {\n",
       "    // Request the server to send over a new figure.\n",
       "    fig.send_draw_message();\n",
       "}\n",
       "\n",
       "mpl.figure.prototype.handle_image_mode = function(fig, msg) {\n",
       "    fig.image_mode = msg['mode'];\n",
       "}\n",
       "\n",
       "mpl.figure.prototype.updated_canvas_event = function() {\n",
       "    // Called whenever the canvas gets updated.\n",
       "    this.send_message(\"ack\", {});\n",
       "}\n",
       "\n",
       "// A function to construct a web socket function for onmessage handling.\n",
       "// Called in the figure constructor.\n",
       "mpl.figure.prototype._make_on_message_function = function(fig) {\n",
       "    return function socket_on_message(evt) {\n",
       "        if (evt.data instanceof Blob) {\n",
       "            /* FIXME: We get \"Resource interpreted as Image but\n",
       "             * transferred with MIME type text/plain:\" errors on\n",
       "             * Chrome.  But how to set the MIME type?  It doesn't seem\n",
       "             * to be part of the websocket stream */\n",
       "            evt.data.type = \"image/png\";\n",
       "\n",
       "            /* Free the memory for the previous frames */\n",
       "            if (fig.imageObj.src) {\n",
       "                (window.URL || window.webkitURL).revokeObjectURL(\n",
       "                    fig.imageObj.src);\n",
       "            }\n",
       "\n",
       "            fig.imageObj.src = (window.URL || window.webkitURL).createObjectURL(\n",
       "                evt.data);\n",
       "            fig.updated_canvas_event();\n",
       "            fig.waiting = false;\n",
       "            return;\n",
       "        }\n",
       "        else if (typeof evt.data === 'string' && evt.data.slice(0, 21) == \"data:image/png;base64\") {\n",
       "            fig.imageObj.src = evt.data;\n",
       "            fig.updated_canvas_event();\n",
       "            fig.waiting = false;\n",
       "            return;\n",
       "        }\n",
       "\n",
       "        var msg = JSON.parse(evt.data);\n",
       "        var msg_type = msg['type'];\n",
       "\n",
       "        // Call the  \"handle_{type}\" callback, which takes\n",
       "        // the figure and JSON message as its only arguments.\n",
       "        try {\n",
       "            var callback = fig[\"handle_\" + msg_type];\n",
       "        } catch (e) {\n",
       "            console.log(\"No handler for the '\" + msg_type + \"' message type: \", msg);\n",
       "            return;\n",
       "        }\n",
       "\n",
       "        if (callback) {\n",
       "            try {\n",
       "                // console.log(\"Handling '\" + msg_type + \"' message: \", msg);\n",
       "                callback(fig, msg);\n",
       "            } catch (e) {\n",
       "                console.log(\"Exception inside the 'handler_\" + msg_type + \"' callback:\", e, e.stack, msg);\n",
       "            }\n",
       "        }\n",
       "    };\n",
       "}\n",
       "\n",
       "// from http://stackoverflow.com/questions/1114465/getting-mouse-location-in-canvas\n",
       "mpl.findpos = function(e) {\n",
       "    //this section is from http://www.quirksmode.org/js/events_properties.html\n",
       "    var targ;\n",
       "    if (!e)\n",
       "        e = window.event;\n",
       "    if (e.target)\n",
       "        targ = e.target;\n",
       "    else if (e.srcElement)\n",
       "        targ = e.srcElement;\n",
       "    if (targ.nodeType == 3) // defeat Safari bug\n",
       "        targ = targ.parentNode;\n",
       "\n",
       "    // jQuery normalizes the pageX and pageY\n",
       "    // pageX,Y are the mouse positions relative to the document\n",
       "    // offset() returns the position of the element relative to the document\n",
       "    var x = e.pageX - $(targ).offset().left;\n",
       "    var y = e.pageY - $(targ).offset().top;\n",
       "\n",
       "    return {\"x\": x, \"y\": y};\n",
       "};\n",
       "\n",
       "/*\n",
       " * return a copy of an object with only non-object keys\n",
       " * we need this to avoid circular references\n",
       " * http://stackoverflow.com/a/24161582/3208463\n",
       " */\n",
       "function simpleKeys (original) {\n",
       "  return Object.keys(original).reduce(function (obj, key) {\n",
       "    if (typeof original[key] !== 'object')\n",
       "        obj[key] = original[key]\n",
       "    return obj;\n",
       "  }, {});\n",
       "}\n",
       "\n",
       "mpl.figure.prototype.mouse_event = function(event, name) {\n",
       "    var canvas_pos = mpl.findpos(event)\n",
       "\n",
       "    if (name === 'button_press')\n",
       "    {\n",
       "        this.canvas.focus();\n",
       "        this.canvas_div.focus();\n",
       "    }\n",
       "\n",
       "    var x = canvas_pos.x * mpl.ratio;\n",
       "    var y = canvas_pos.y * mpl.ratio;\n",
       "\n",
       "    this.send_message(name, {x: x, y: y, button: event.button,\n",
       "                             step: event.step,\n",
       "                             guiEvent: simpleKeys(event)});\n",
       "\n",
       "    /* This prevents the web browser from automatically changing to\n",
       "     * the text insertion cursor when the button is pressed.  We want\n",
       "     * to control all of the cursor setting manually through the\n",
       "     * 'cursor' event from matplotlib */\n",
       "    event.preventDefault();\n",
       "    return false;\n",
       "}\n",
       "\n",
       "mpl.figure.prototype._key_event_extra = function(event, name) {\n",
       "    // Handle any extra behaviour associated with a key event\n",
       "}\n",
       "\n",
       "mpl.figure.prototype.key_event = function(event, name) {\n",
       "\n",
       "    // Prevent repeat events\n",
       "    if (name == 'key_press')\n",
       "    {\n",
       "        if (event.which === this._key)\n",
       "            return;\n",
       "        else\n",
       "            this._key = event.which;\n",
       "    }\n",
       "    if (name == 'key_release')\n",
       "        this._key = null;\n",
       "\n",
       "    var value = '';\n",
       "    if (event.ctrlKey && event.which != 17)\n",
       "        value += \"ctrl+\";\n",
       "    if (event.altKey && event.which != 18)\n",
       "        value += \"alt+\";\n",
       "    if (event.shiftKey && event.which != 16)\n",
       "        value += \"shift+\";\n",
       "\n",
       "    value += 'k';\n",
       "    value += event.which.toString();\n",
       "\n",
       "    this._key_event_extra(event, name);\n",
       "\n",
       "    this.send_message(name, {key: value,\n",
       "                             guiEvent: simpleKeys(event)});\n",
       "    return false;\n",
       "}\n",
       "\n",
       "mpl.figure.prototype.toolbar_button_onclick = function(name) {\n",
       "    if (name == 'download') {\n",
       "        this.handle_save(this, null);\n",
       "    } else {\n",
       "        this.send_message(\"toolbar_button\", {name: name});\n",
       "    }\n",
       "};\n",
       "\n",
       "mpl.figure.prototype.toolbar_button_onmouseover = function(tooltip) {\n",
       "    this.message.textContent = tooltip;\n",
       "};\n",
       "mpl.toolbar_items = [[\"Home\", \"Reset original view\", \"fa fa-home icon-home\", \"home\"], [\"Back\", \"Back to previous view\", \"fa fa-arrow-left icon-arrow-left\", \"back\"], [\"Forward\", \"Forward to next view\", \"fa fa-arrow-right icon-arrow-right\", \"forward\"], [\"\", \"\", \"\", \"\"], [\"Pan\", \"Pan axes with left mouse, zoom with right\", \"fa fa-arrows icon-move\", \"pan\"], [\"Zoom\", \"Zoom to rectangle\", \"fa fa-square-o icon-check-empty\", \"zoom\"], [\"\", \"\", \"\", \"\"], [\"Download\", \"Download plot\", \"fa fa-floppy-o icon-save\", \"download\"]];\n",
       "\n",
       "mpl.extensions = [\"eps\", \"jpeg\", \"pdf\", \"png\", \"ps\", \"raw\", \"svg\", \"tif\"];\n",
       "\n",
       "mpl.default_extension = \"png\";var comm_websocket_adapter = function(comm) {\n",
       "    // Create a \"websocket\"-like object which calls the given IPython comm\n",
       "    // object with the appropriate methods. Currently this is a non binary\n",
       "    // socket, so there is still some room for performance tuning.\n",
       "    var ws = {};\n",
       "\n",
       "    ws.close = function() {\n",
       "        comm.close()\n",
       "    };\n",
       "    ws.send = function(m) {\n",
       "        //console.log('sending', m);\n",
       "        comm.send(m);\n",
       "    };\n",
       "    // Register the callback with on_msg.\n",
       "    comm.on_msg(function(msg) {\n",
       "        //console.log('receiving', msg['content']['data'], msg);\n",
       "        // Pass the mpl event to the overridden (by mpl) onmessage function.\n",
       "        ws.onmessage(msg['content']['data'])\n",
       "    });\n",
       "    return ws;\n",
       "}\n",
       "\n",
       "mpl.mpl_figure_comm = function(comm, msg) {\n",
       "    // This is the function which gets called when the mpl process\n",
       "    // starts-up an IPython Comm through the \"matplotlib\" channel.\n",
       "\n",
       "    var id = msg.content.data.id;\n",
       "    // Get hold of the div created by the display call when the Comm\n",
       "    // socket was opened in Python.\n",
       "    var element = $(\"#\" + id);\n",
       "    var ws_proxy = comm_websocket_adapter(comm)\n",
       "\n",
       "    function ondownload(figure, format) {\n",
       "        window.open(figure.imageObj.src);\n",
       "    }\n",
       "\n",
       "    var fig = new mpl.figure(id, ws_proxy,\n",
       "                           ondownload,\n",
       "                           element.get(0));\n",
       "\n",
       "    // Call onopen now - mpl needs it, as it is assuming we've passed it a real\n",
       "    // web socket which is closed, not our websocket->open comm proxy.\n",
       "    ws_proxy.onopen();\n",
       "\n",
       "    fig.parent_element = element.get(0);\n",
       "    fig.cell_info = mpl.find_output_cell(\"<div id='\" + id + \"'></div>\");\n",
       "    if (!fig.cell_info) {\n",
       "        console.error(\"Failed to find cell for figure\", id, fig);\n",
       "        return;\n",
       "    }\n",
       "\n",
       "    var output_index = fig.cell_info[2]\n",
       "    var cell = fig.cell_info[0];\n",
       "\n",
       "};\n",
       "\n",
       "mpl.figure.prototype.handle_close = function(fig, msg) {\n",
       "    var width = fig.canvas.width/mpl.ratio\n",
       "    fig.root.unbind('remove')\n",
       "\n",
       "    // Update the output cell to use the data from the current canvas.\n",
       "    fig.push_to_output();\n",
       "    var dataURL = fig.canvas.toDataURL();\n",
       "    // Re-enable the keyboard manager in IPython - without this line, in FF,\n",
       "    // the notebook keyboard shortcuts fail.\n",
       "    IPython.keyboard_manager.enable()\n",
       "    $(fig.parent_element).html('<img src=\"' + dataURL + '\" width=\"' + width + '\">');\n",
       "    fig.close_ws(fig, msg);\n",
       "}\n",
       "\n",
       "mpl.figure.prototype.close_ws = function(fig, msg){\n",
       "    fig.send_message('closing', msg);\n",
       "    // fig.ws.close()\n",
       "}\n",
       "\n",
       "mpl.figure.prototype.push_to_output = function(remove_interactive) {\n",
       "    // Turn the data on the canvas into data in the output cell.\n",
       "    var width = this.canvas.width/mpl.ratio\n",
       "    var dataURL = this.canvas.toDataURL();\n",
       "    this.cell_info[1]['text/html'] = '<img src=\"' + dataURL + '\" width=\"' + width + '\">';\n",
       "}\n",
       "\n",
       "mpl.figure.prototype.updated_canvas_event = function() {\n",
       "    // Tell IPython that the notebook contents must change.\n",
       "    IPython.notebook.set_dirty(true);\n",
       "    this.send_message(\"ack\", {});\n",
       "    var fig = this;\n",
       "    // Wait a second, then push the new image to the DOM so\n",
       "    // that it is saved nicely (might be nice to debounce this).\n",
       "    setTimeout(function () { fig.push_to_output() }, 1000);\n",
       "}\n",
       "\n",
       "mpl.figure.prototype._init_toolbar = function() {\n",
       "    var fig = this;\n",
       "\n",
       "    var nav_element = $('<div/>');\n",
       "    nav_element.attr('style', 'width: 100%');\n",
       "    this.root.append(nav_element);\n",
       "\n",
       "    // Define a callback function for later on.\n",
       "    function toolbar_event(event) {\n",
       "        return fig.toolbar_button_onclick(event['data']);\n",
       "    }\n",
       "    function toolbar_mouse_event(event) {\n",
       "        return fig.toolbar_button_onmouseover(event['data']);\n",
       "    }\n",
       "\n",
       "    for(var toolbar_ind in mpl.toolbar_items){\n",
       "        var name = mpl.toolbar_items[toolbar_ind][0];\n",
       "        var tooltip = mpl.toolbar_items[toolbar_ind][1];\n",
       "        var image = mpl.toolbar_items[toolbar_ind][2];\n",
       "        var method_name = mpl.toolbar_items[toolbar_ind][3];\n",
       "\n",
       "        if (!name) { continue; };\n",
       "\n",
       "        var button = $('<button class=\"btn btn-default\" href=\"#\" title=\"' + name + '\"><i class=\"fa ' + image + ' fa-lg\"></i></button>');\n",
       "        button.click(method_name, toolbar_event);\n",
       "        button.mouseover(tooltip, toolbar_mouse_event);\n",
       "        nav_element.append(button);\n",
       "    }\n",
       "\n",
       "    // Add the status bar.\n",
       "    var status_bar = $('<span class=\"mpl-message\" style=\"text-align:right; float: right;\"/>');\n",
       "    nav_element.append(status_bar);\n",
       "    this.message = status_bar[0];\n",
       "\n",
       "    // Add the close button to the window.\n",
       "    var buttongrp = $('<div class=\"btn-group inline pull-right\"></div>');\n",
       "    var button = $('<button class=\"btn btn-mini btn-primary\" href=\"#\" title=\"Stop Interaction\"><i class=\"fa fa-power-off icon-remove icon-large\"></i></button>');\n",
       "    button.click(function (evt) { fig.handle_close(fig, {}); } );\n",
       "    button.mouseover('Stop Interaction', toolbar_mouse_event);\n",
       "    buttongrp.append(button);\n",
       "    var titlebar = this.root.find($('.ui-dialog-titlebar'));\n",
       "    titlebar.prepend(buttongrp);\n",
       "}\n",
       "\n",
       "mpl.figure.prototype._root_extra_style = function(el){\n",
       "    var fig = this\n",
       "    el.on(\"remove\", function(){\n",
       "\tfig.close_ws(fig, {});\n",
       "    });\n",
       "}\n",
       "\n",
       "mpl.figure.prototype._canvas_extra_style = function(el){\n",
       "    // this is important to make the div 'focusable\n",
       "    el.attr('tabindex', 0)\n",
       "    // reach out to IPython and tell the keyboard manager to turn it's self\n",
       "    // off when our div gets focus\n",
       "\n",
       "    // location in version 3\n",
       "    if (IPython.notebook.keyboard_manager) {\n",
       "        IPython.notebook.keyboard_manager.register_events(el);\n",
       "    }\n",
       "    else {\n",
       "        // location in version 2\n",
       "        IPython.keyboard_manager.register_events(el);\n",
       "    }\n",
       "\n",
       "}\n",
       "\n",
       "mpl.figure.prototype._key_event_extra = function(event, name) {\n",
       "    var manager = IPython.notebook.keyboard_manager;\n",
       "    if (!manager)\n",
       "        manager = IPython.keyboard_manager;\n",
       "\n",
       "    // Check for shift+enter\n",
       "    if (event.shiftKey && event.which == 13) {\n",
       "        this.canvas_div.blur();\n",
       "        // select the cell after this one\n",
       "        var index = IPython.notebook.find_cell_index(this.cell_info[0]);\n",
       "        IPython.notebook.select(index + 1);\n",
       "    }\n",
       "}\n",
       "\n",
       "mpl.figure.prototype.handle_save = function(fig, msg) {\n",
       "    fig.ondownload(fig, null);\n",
       "}\n",
       "\n",
       "\n",
       "mpl.find_output_cell = function(html_output) {\n",
       "    // Return the cell and output element which can be found *uniquely* in the notebook.\n",
       "    // Note - this is a bit hacky, but it is done because the \"notebook_saving.Notebook\"\n",
       "    // IPython event is triggered only after the cells have been serialised, which for\n",
       "    // our purposes (turning an active figure into a static one), is too late.\n",
       "    var cells = IPython.notebook.get_cells();\n",
       "    var ncells = cells.length;\n",
       "    for (var i=0; i<ncells; i++) {\n",
       "        var cell = cells[i];\n",
       "        if (cell.cell_type === 'code'){\n",
       "            for (var j=0; j<cell.output_area.outputs.length; j++) {\n",
       "                var data = cell.output_area.outputs[j];\n",
       "                if (data.data) {\n",
       "                    // IPython >= 3 moved mimebundle to data attribute of output\n",
       "                    data = data.data;\n",
       "                }\n",
       "                if (data['text/html'] == html_output) {\n",
       "                    return [cell, data, j];\n",
       "                }\n",
       "            }\n",
       "        }\n",
       "    }\n",
       "}\n",
       "\n",
       "// Register the function which deals with the matplotlib target/channel.\n",
       "// The kernel may be null if the page has been refreshed.\n",
       "if (IPython.notebook.kernel != null) {\n",
       "    IPython.notebook.kernel.comm_manager.register_target('matplotlib', mpl.mpl_figure_comm);\n",
       "}\n"
      ],
      "text/plain": [
       "<IPython.core.display.Javascript object>"
      ]
     },
     "metadata": {},
     "output_type": "display_data"
    },
    {
     "data": {
      "text/html": [
       "<img src=\"data:image/png;base64,iVBORw0KGgoAAAANSUhEUgAAAnEAAAF3CAYAAADKPB24AAAgAElEQVR4XuxdB3RURRf+0nvvoffeEnpRQIogXRQQBARRQCkWREUFFRQBCyDFQu/Vnw4iIErvPbRACJDee93858662d2QkN3Nlrfh3nM4unlT7nzzMvn2zi0WBQUFBWBhBBgBRoARYAQYAUaAETArBCyYxJnVfrGyjAAjwAgwAowAI8AICASYxPGLwAgwAowAI8AIMAKMgBkiwCTODDeNVWYEGAFGgBFgBBgBRoBJHL8DjAAjwAgwAowAI8AImCECTOLMcNNYZUaAEWAEGAFGgBFgBJjE8TvACDACjAAjwAgwAoyAGSLAJM4MN41VZgQYAUaAEWAEGAFGgEkcvwOMACPACDACjAAjwAiYIQJM4sxw01hlRoARYAQYAUaAEWAEmMTxO8AIMAKMACPACDACjIAZIsAkzgw3jVVmBBgBRoARYAQYAUaASRy/A4wAI8AIMAKMACPACJghAkzizHDTWGVGgBFgBBgBRoARYASYxPE7wAgwAowAI8AIMAKMgBkiwCTODDeNVWYEGAFGgBFgBBgBRoBJHL8DjAAjwAgwAowAI8AImCECTOLMcNNYZUaAEWAEGAFGgBFgBJjESfQdiIuLw4EDB1C1alU4ODhIVEtWixFgBKSEQGZmJsLCwtC9e3d4e3tLSTXWhRFgBAyAAJM4A4CqjyHXrVuHYcOG6WMoHoMRYASeMQTWrl2LoUOHPmOr5uUyAs8eAkziJLrnx48fR/v27UGHcb169SSqJavFCDAC2iCQduIEYud9L7o4tGoJ/6lTteleatuQkBDx5e/YsWNo165dqe25ASPACJg3AkziJLp/Fy5cQHBwMM6fP4+goCCJaslqMQKMgDYIFBQU4NHYcbB0dobfp5/A2stLm+6ltuVzo1SIuAEjUK4QYBIn0e3kw1iiG8NqMQIaIpAXH4+EFSvgM3EiLGxtC3vJcnJgqfJZw+E0asbnhkYwcSNGoNwgwCROolvJh7FEN4bVYgQ0QCDj/Hk8HP8OZMnJ8Jk8Cd5jx2rQq+xN+NwoO4Y8AiNgTggwiZPobvFhLNGNYbUYAQ0QyE9ORuhLvZAfFweHoCBUWbsGFpaWGvQsWxM+N8qGH/dmBMwNASZxEt0xPowlujGsFiNQDAIFMtkTJC3lwJ/IjYyA57BhsLC2NgpufG4YBWaehBGQDAJM4iSzFeqK8GEs0Y1htRiBIghkXLiIqBkz4P/lDDg2a2ZSfPjcMCn8PDkjYHQEmMQZHXLNJuTDWDOcuBUjYEoEcsLDEfpiD0Amg12tWqi2bataEIOxdeNzw9iI83yMgGkRYBJnWvxLnJ0PY4luDKvFCBRBIPLzz5G0ZSvcX3kFfh9PhaWTk8kw4nPDZNDzxIyASRBgEmcS2EuflA/j0jHiFoyAsRHIjYyEpYsLrJydC6emIIbsO3fg2Ly5sdV5Yj4+N0y+BawAI2BUBJjEGRVuzSfjw1hzrLglI2BoBAry85G4fgNif/wRbv37w//zzww9pU7j87mhE2zciREwWwSYxEl06woP4zOnEdSipUS1ZLUYgWcDAVl2Nu737YecsDDAwgLV/tgO+7p1Jbd4JnGS2xJWiBEwKAJM4gwKr+6DFx7Gbzkj6LPDQKUWysGirgLJjwG3ioBPXcDKOOkLdF8N92QEzB+B9DNn8GjCRPh+8D7cBw40St43bVFjEqctYtyeETBvBJjEAUhLS8O8efNEndJz584hKioKI0aMwMqVKzXe3WvXruGjjz4ShadJqHj9nDlz0LBhQ43HUG2oJHFOCPruBuBeWfl4/6fAqUXyz1PDAAcP5bPLm4CUR4B7FaDRQJ3m1rkTkcuQ3UBWMmDvBtTrDfjrtn6hg77H03lh3PFZQyD9xAkUyArg3F69iHx+WjqsnE0XuFDaPjCJKw0hfs4IlC8EmMQBCAsLQ7Vq1RAQECCKzu/evVsrEnfnzh20aNECnp6emDBhgnhDFixYgKSkJJw5cwa1atXS+q0pPIznvYKgyevVrW2bXgdCdgK2zsAnj8T1TqGs7gfcOwI4+wEf3lafd/d7QHYqENgMaPOO1jqV2CE+FNjxLhB+4skmrhWBl+YBdXpoPt/TxqvcFuj7M+BVQ/PxuCUjoCECVKCeok2Tt26DtZ8fqu/ZrRbEoOEwJmvGJM5k0PPEjIBJEGASByA7OxtxcXGoUKEC8vLyYGNjoxWJGzhwIPbv34+QkBBUqlRJbOTDhw9Rr1499OjRA1u2bNF6c596GMeEAHG35YSs2TD1sRc2B+LvABWaA2MOqT/7vh6QGgFU7wgM36F8VlAA/NhQbj1r2B94borymUwm7+MSAFhaPbkOIlzLugIZ8U9fIxHHl5eVTr40Gc/RCxh9sPSxtEadOzACQMz8+YhfshSwtESF+T/BtWtXs4GFSZzZbBUrygjoBQEmcUVg1JbE0VWsl5cXBg8ejFWrVqmNRleymzZtEgTRWSUlgSY7p/NhnJMBpDwG8rLVrzJl+cDPLYDkh0DjV4G+/13HkjKZScB3VeRqtRoH9JitVDH5EfBjA8DCCugyHWg3SfksIwFY0ROIDdFkSYAm5Gt5j+ItekVnIIvcqH2azcutGIGnIEDWNwsVazYFMURM/Rheb74Jh4YNzAo7nc8Ns1olK8sIMAIKBJjElZHEnTx5Em3btsWSJUswduxYtdHoZ+PHjwe1ad26tVZvncEOY7Ks5WUBto5KfVKjgD0fAEnhQPNRQPM3lM/CTwHLu8s/914ABI9QPjvzK7BXxWqnyQqfRr7IB25pe01GkbcZe7xsPneaz8QtyyECBbm5iF++Atmhd1FhzpxysUKDnRvlAh1eBCNQ/hBgEldGErdt2zbQderOnTvRu3dvtdHoZ3379sXWrVvx8ssvl/j2REZGgv6pCl3NDhs2TARbBAUFme7NS7gHXFoPkEWu5RigQrBSl3WvAncOaK9bx08BGpeiazt8oCSUR74FjqpYAUsbueMnQMePS2vFz58xBLJu3kTqwb+Qn5oCKxdXuHTrCvs6dZ5AIWLaNCRv2y5+XnHRz3B54QWzR4pJnNlvIS+AEdAKASZxZSRxa9aswfDhw3HgwAF069ZNbbQ///wT3bt3B7UhQlaSzJgxA19++WWxj01O4p72Ov3vHeDSWq1eONHYv5E88tTCEvgsVhm0se9j4PQSzccrevWreU9uWQ4RyHnwAETMMs+df2J1Ds2DEThrFmyr/Oc2QL6wd+7g3oCXYeXqioCvv4JL585mjwqTOLPfQl4AI6AVAkziykjiyr0l7mmvk7aWM8VYXjWBxDDA2R94/7pyBm3HU7XE3f9XHpFL1j3Vq2Ktfh24sbkiQEl4w4a8hvzExBKXYOnmhmqbN6kRudRDh+AYHAwrd3dzXbqa3kziysU28iIYAY0RYBJXRhJndj5xGr8aGjTU1odNMSSRL4qAzUwEnLyVE2k7nsInLj8X+NoHQIE8Wlc1aCM7DTi/Qk7uAoMAD6UlRoMVchMzQSBs2LBiLXBF1bdv3AjVNm82k1VpryaTOO0x4x6MgDkjwCSujCSutOjUjRs3Ij4+3njRqcZ+GzWNJlXV62kBCZqOpxogkfgAmN9YPkNRP7moa8DS/xK2dv9GPT9e9A3g5M9ygtfoFcBb+3x+xoab53sSAfKBu9+vv8bQVNvxv2J95DQeQMINmcRJeHNYNUbAAAgwidOCxOXm5iI0NBRubm4iMbBCKGiBfOJu3ryJihUrih8r8sSRTxxduWorZnMYa5LXTXXxpaUG0WS8oqlKqELEnYPy9ClV2gGVVGrN3toPbBgk1+DV1UD9vkptrm4Fto2Wfx62Haip4th+ZTNwcpGc4BH5U7Xg5WYB1nbqSZa13WBurzcEYhf+jLhFKilzShnZ+9134fOuHpNd620lZR/IbM6Nsi+VR2AEGAEATOL+ew1+/vlnUWFBJpNh+vTpaNasGQYMGCCe9unTB40bNy6s7FC0JNetW7fQsmVLkS9u4sSJog9VbCALHFVsqFNMZFxpb59ZHcZEvLaOBiIvPn1ZmuSJoxH0WbEhN1MeCUvRtZRw2NlXqePpX4H9U4ECGfDOWcCntvLZoa+Af7+Xf34/BHANVD7bNxU4998V7bjjgI2D8lnsLcDSGnCtANjYl7bN/FwPCER98w0SV6/ReCSP4a/D/9NPNW5vTg3N6twwJ2BZV0ZAoggwiftvY6pWrYoHDx4Uu00rVqzAyJEjSyRx1OnKlSuidurx48fFGFQ79bvvvhPkTxcxy8OYrF57P5RbxIqKLuWy6Cr05m55MmIHd6BuL/3nhcvPA1IjARd/wMpGqfXxBcDlDfJnU0LVq1VsHCrXy84N+CRcfaWregP3/wGo3Jhq0IZ4SbbILXgU2OFXX5fXgvsUgwBb4pSgmOW5wW81I8AI6IwAkzidoTNsR7M+jI1BvgwL/9NHP/0L8PA0YGkDDPhFve2CZnLLX6XWwOgiOfTm1gLSY4AaLwCvy/OTCaGyZ1TXlkqbVWkLVOtgytWZ3dzsE8ckzuxeWlaYEdATAkzi9ASkvocxaxKnbzDMabxr24CE+4CTj3p1C/Kjm+UnX0nwSKD3fOWq0uOBudXln9u8C3SfpXxG18Cbh8t984JGqPvtUfUNKhelUjLKnKDSp66aRqdSvriqa3XIbahPZQ04Fp8bBgSXh2YEJIgAkzgJbgqpxIexRDdGV7Wodm3MDSDpofzqtoJKFQ4RQUvlxgqAF78DWquUbws7DqzsKZ+VUqdQChWF0PX11jfkBI9IIVnxFJIWC+SkyX3zrG111dqk/Z5WeSEnPBxRs2bBb8oU2NWsCUr0GzZ4yFPzxFl5eKDqxg1qeeJMukADTM7nhgFA5SEZAQkjwCROopvDh7FEN8ZQauXlAKkRgK0L4OSlnOXe38Dej+R+hkM2ANU7Kp+d+U3ug0gy5rB6SbRjPwJ/zaDYJeDdc4B3TWW/h2fl17pulQC/hoClpaFWpdO4pVVe8Bn/Dh6OG4eC7Gw4BAejyprVsLC0FEROm4oNOikn8U58bkh8g1g9RkDPCDCJ0zOg+hqOD2N9IVlOxiG/OfqnSrhuH/ivri0RvE2AMyU8/k/2fACc/V3+4VMih07KZ9vfAq5skkfRfhajHrRBfSgJMwVfNNA895q+UNak8gJZ1Ozr1UP6iRNwatcOFX78QZTOUkjWrVvy2qkpybBydYNL1y7lNi9cUdz53NDXm8jjMALmgQCTOInuEx/GEt0Yc1GLLHjhp4GMOKDnXHWtV/QEHhwH3CsDk6+qP/vlOSDyMuDbABh/Qv3Z5hHyerdV2wMt/suvp2c8NPVto8oLnq8Ph2uvl2DBPoGFu8Dnhp5fSB6OEZA4AkziJLpBfBhLdGPKg1pUqSIhFKByZQ3luRALZU4NOfGr1R0YqlKeioIoZvkD+dlAw4HAwGXKPhS0Ma+W3P+OgjZUffromjgtWh55a2X9VPT0FmVK5dtCdgOUBNreDajXW/+paST6HvC5IdGNYbUYAQMhwCTOQMCWdVg+jMuKIPfXCQEiZCmP5QmQVcuQUa6+3zrLkya3Hgd0/VI5PCVnXvhfoEanz4DnpyifkVWPrHtkwev1k3rEbkoEQISLAjM8qyN26bKyVV7QZ5JoncAzfSc+N0y/B6wBI2BMBJjEGRNtLebiw1gLsLip8RAgi1x+jno1CiJPB7+QE7z27wEN+in1ubkH2Pia/POgdUC9XspnlzcBf7wl/zx8B6KW7ULitr3io4NPNhy9cpARZ4vMOIqutXhijR4v94T/rP+qauhSrs14qBltJj43jAY1T8QISAIBJnGS2IYnleDDWKIbw2pph0BMCHD9j/8I3vvqUbL/zAMOfy0fb8IFRH7yPpL+uS0++jROgXf9NBHLcfsPP8hyrArn9aidBgfPXNgEBsBx5nl5sMfyHkB4ER++4jQtrXavdquTXGs+NyS3JawQI2BQBJjEGRRe3Qfnw1h37LinmSBASZEjL6Eg6SHizuYj7tffAFmBUD6wTSLcqmSC0uvd2hKgZomr2CEeLhWyUWBpC4svYuVXsiLPnoYy9ni59ZHjc0PDd4CbMQLlBAEmcRLdSD6MJboxrJZBEIj88kskbdhYOLaFlQw2jvmwspchM9ZObc5Kz8XDyT8bFq5+wIe3gSPfAkdna66XfyNg7DFlezL33T0k981zr6SejkXzUSXRks8NSWwDK8EIGA0BJnFGg1q7ifgw1g4vbm3eCOSnpiJ8+GtwdzyH2GsuyM9WXp8WXZmVXT6qdomF7cS9QJU2wL6PgdNLNAegaPqUtBh5dC1Ju0lA16+UY1Hli8sb5ASvUkv5fyUsfG5IeHNYNUbAAAgwiTMAqPoYkg9jfaDIY0gNgYKCAqTs3oPsO3fg+/57aurRM4sVPZFz/TQizrg/YYGjxhTwENgyCbYNWgGj9sn7a2uJq9cHGLRGOffj8/LIW5Ke84CWY5TP7h0FVveRf+63FGg6RPks/BRwfqWc2DV7HfCoYnK4+dww+RawAoyAURFgEmdUuDWfjA9jzbHiluaDQNTXM5G4bp1QuMq6tXAMDlZXXiXKNCvJGqmP7JGfYwkrWxlcKmbB3j0PcPQCRh8EvGrI+5bVJy49Hrh3RB58Uasr4NdAqdPFdcCO8fLPI3YD1Toon53+Bdj3kfzzW0eBwKbKZ6eWApfWyRMq916gXkotJx2wdjBIuTM+N8znd4E1ZQT0gQCTOH2gaIAx+DA2AKg8pMkRyDh/Hg+GDoOFnR38p0+H+4BiSnvpku/NUNGpORlA0gM5wavYAnBwV2J4dC7w97dAQT4w5Z46Uds1GTi/Qt52WhRg46Dst3U0ELJT5MbD+FOAasWJyCvytpQ42dZR6/3ic0NryLgDI2DWCDCJk+j28WEs0Y1htbRCQJaeDksnlbqtABLWrYNzhw6wrVz56WNFXQNu7gYo0TCRp7q9So4qNVWeOAqfTY2Uky5VMkZXvCG7gLwsYOIF9XUu6w48PCUncRMvqj9b0h6Ivgr4NQLGqQRfUKvzq+Q4+NQFfOqo9RNX0RYW4HNDq9eTGzMCZo8AkziJbiEfxhLdGFZLIwSIvMUuWICUA3+i+s4dagXqNRpAl0a6WPB0maesfY79BERfk18L9/hOfbTZleXlwur0BIZsUD4jsjjTD5DlAo0HAQN+RUGeDJlX45B+LgL2uf/ApV46LmQEIrjXSJw/fx5BQf9V0SirvtyfEWAEJIsAkziJbg2TOIluDKulEQLxy5YjZu5c0dZ90CAEfDlDo356aaSNBU8vE+ppEEp1cnUrkBwOeFQFGr6sHDglEvihrvxzhw+AF74QJC7ym9OQZeTB2uIB/GzfwcVKoxE85kcmcXraEh6GEZA6AkziJLpDTOIkujGslkYIyHJycL//ABTk5SJgxgw4tWmjUT9uVDwCuZEpyDp/G84142DhWQXwrScaJu64i/TTkbDHSXjafI9L9d9H8OCPmcTxi8QIPCMIMImT6EYziZPoxrBaTyBQIJMh/dgxOHXoIPyyFJITHg5rX19Y2tszamVAIPWfR0jee1+M4PtOU9hWcikcLT8lG7CyhBVBnBqJCyH3Edy2I5O4MuDNXRkBc0KASZxEd4tJnEQ3htVSQyD7/n1ETvsMmRcuoMKC+XDt1o0RKgMCdEUqy86HlZONkgw/TkPMQnkAhEvHinB7sVqJM/C5UQbwuSsjYIYIMImT6KbxYSzRjWG11ElcaCju9+uPgtxc2Favjuq7d8GCCtKzaIUAkbek3feQcTkWjo294dH/vwoSAESC5AMPYFfLHXbV3GBhqbR2Fp2Ezw2tYOfGjIDZI8AkTqJbyIexRDeG1XoCgdifFyH71k34ffYZbPz8GCEdEYiefwG5kemwsLdG4LRWsLDRngzzuaEj+NyNETBTBExC4rKysrBixQr8888/SEhIgKenJ55//nmMHDkS9uw/I14lPozN9DeqHKudn5SEmPnz4f3WW7AJCChcKfnEsfVNs42XZeWJtCAZV+Pg/Xo9WNgoa8Sm/vsI6eei4RTsB6dWAbC0K7l+bEmz8bmh2T5wK0agvCBgdBKXlpaGdu3aISYmBl27dkVgYCAiIiLw119/wcfHB8eOHYOLi9Jxt7wAre06+DDWFjFub0gEch4+RNjgIciPj4dz586ouOhntSAGQ85dnsZOPfYYybvviSV5DqkDxya+SjKcXwBYUs7gkq9LS8OCz43SEOLnjED5QsDoJO6LL77A6dOnsXXrVjWylpKSgsGDByM4OBhff/11+UJZh9XwYawDaNzFYAiQte3B8OHIPHcedrVqocraNbByczPYfOVh4JyINEBWANuKKtGkaTkitxssLeDWtQpcnq+k16XyuaFXOHkwRkDyCBidxDVr1gwrV65EkyZNngDn8uXLGDFiBC5duiR54AytIB/GhkaYx38aAgV5eaKMlIWV8kovOzQUqX8dgteoN2Bho4yeZCTVESiQFSBm8SXkPkoTwQg+oxupNci6lQDbyq6wdLDWO3R8bugdUh6QEZA0AkYncR4eHkhMTCwRlNKeSxpNPSrHh7EeweShtEIg89p1RH7xOdxffhmeQ4dq1fdZbEyRpRbW6kEIcWtuIOt6PGABBHzSElaudkaBhs8No8DMkzACkkHA6CTOzc0NycnJJQJQ2nPJIGdgRfgwNjDAPHyxCMgyM3G3U2dQEAMVrq++dw9HnJbwruRGpSP138fIvBYHv8lBsPZQJjUma1vmjXg4BvnBtrJLmfzctHlV+dzQBi1uywiYPwJGJ3EODg5YsGCByH1UnEyePBkZGRnmj2wZV8CHcRkB5O46I5C4aTOipk+HW98+8P34Y1h7eOg8VnnuSCQtfvUNsUTX7lXg2qmyyZfL54bJt4AVYASMioDRSVzHjh1L/VZ65MgRo4Igxcn4MJbirpQ/nfJiYyHLyIBtlSqFi6MghszLl+HYrFn5W7AOK5Jl5CLjSiwsrK3g1FyZB68gnwrQn4GVhx1c2leAY1NlpKkO0+ilC58beoGRB2EEzAYBo5M4s0HGxIryYWziDSjn05MlPGnLFsTM+x521aqhyob1nOutmD0nnKK+O4v8pGxYednD/8Pmal9C89Nz1Upkmfq14XPD1DvA8zMCxkWASZxx8dZ4Nj6MNYaKG+qIwKNJk5F64IDoHThvHtx6vaTjSNLqRqk9Mq/HoyArT1Q/cGjoDdsAp1KVJMKW+zgNNoHOaqWtkvbcQ9q/j2Fhawm/iUGw9nYodSxTNeBzw1TI87yMgGkQkBSJy8vLw1tvvYXly5ebBg0JzcqHsYQ2o5yqkhsTg7BXB8Fr9Gh4vDZELZ2IOS45Ly4TCVtvIycs5Qn1bau6wnNg7RIJWFZoEpL+dxd5sZnweasx7Korc+DlxmYg51EaHBp4wdJW+yoKxsSSzw1jos1zMQKmR0BSJC47OxuOjo7Iz883PTIm1oAPYxNvQDmbPuPcOWTdvg3P115TW1lBTg4sbG3NfrW5cZmIXXwJsoy8Etdi6WgN3/FNiyVyudHpiP7xgujr2NxPED5zFD43zHHXWGdGQHcEjE7iRo0aVaK2ZIlbt24dkziunar7G809n0AgdsECxC1eAlhbo9r2bbCvbZ4E5WlbG7P0crEWuKJ9rP0cxdUqXbN69Kup9jhuxTVB8ByD/WAb6GyWbxKTOLPcNlaaEdAZAaOTODs7O7zxxhugpL5FhSxw33//PZM4JnE6v9Dc8UkEUg8fwaPx48UDv08+hueIEeUKJvKBi1lwUas1kX9bwGetJX89qtWi+NzQFi5uzwiYPQJGJ3HNmzfH9OnT0bt37yfAy8rKEtepMpnM7IEt6wL4G3VZEXx2+1OKEAtL9QoCMd9/D+dOneAYFFTugEk++ACph8K1WpdtFVd4vlKyj5xWg0moMZ8bEtoMVoURMAICRidxixYtQoUKFdCvX79iLXEzZ84UJM+YQhbAuXPn4vfff8fDhw9RqVIlvPnmm5gyZQqsVGpHFqfTyJEjsWrVqmLVpbEqVqyo01L4MNYJtme6E9U7TVi7Fsk7d6Lqhg2wtDNOqSdTg560KxRpxyM0VsMxyBeer9bRuL05NeRzw5x2i3VlBMqOgN5JHBGi0ohP2dXW7wjjx4/HkiVLxDVv27ZtceLECaxYsQL0cyKdTxMFiSMiZ1nE+jFgwABhWdRF+DDWBbVnu0/cb78h9vsfBAhe48bCd9Kkcg8IFZtP2ncf6f8+1nitrl0qw7WLMrmxxh3NoCGfG2awSawiI6BHBPRO4sjnrX79+mjSpInaPy8vLz2qrb+hrl69KvScMGEC5s+fXzjwpEmTsHDhQly+fBmNGjUqcUIFicvNzYW1tbXeFOPDWG9QPjMD5ael416vXqD6p+T75l6MtducwCgt31vK3w+RfiYKlvZWyI1I13hpvpOCNMobp/GAEmrI54aENoNVYQSMgIDeSdx7772Ha9eugchRTEyMWIKFhQUCAgLQuHFjNWJXp06dJ6xXRliz2hTTpk3DN998g3v37qFatWqFz+7fv4/q1avj008/xaxZs0olcTk5OcjMzISzs7Ne1sSHsbHfBPObj1KGFI00zbxyBTYVKsBaol+aNEFZ03xv8RtuIvNyrBjSpoKzSNRbmlC+ON+xTUprZrbP+dww261jxRkBnRDQO4lT1SI2NlaQuRkzZuDYsWOCzCkK39P/k9WuQYMGgtiRP5oppHv37sLaFhUV9cT0fn5+aNasGfbv318qiXNxcUFqaiocHBzQo0cPzJkzBzVq1NB5SXwY6wxdue+YFxeH6G9nI2XPHlReuRJOrVuVmzVrk+8tNz4TidvuwLGZLxzqeYpi9LrmiTNnADNyM2BnZQcrSyvwuWHOO8m6MwLaI2BQEkfqkE/Zl19+ibVr16JTp04i8vTUqVNYsGABduzYASI/ROgSEhK0114PPeiq1NbWFufPn39itKCgINA1KRHRkuTjjz8WbdmlTloAACAASURBVIKDgwUppbXRNSyt69y5c6iiUli8pDEiIyNB/1QlJCQEw4YNE3qRHiyMgAIBKk4fNngIUFAA2xo1UH3XznJT91TTfG9kUaPKCiQWlhbiv5pa8MrLm3Qm8gwWXFyA63HXsfaltWjg1YBJXHnZXF4HI6AhAgYncZUrV8Y777yDqVOnPqHSoUOH0L9/f+zcuRMdO3bUUGX9NiNrGVncKJihqFCQA10J3717V6tJDx48iG7dumHEiBFYuXJlqX3JUklEtzhhElcqfM9kg6ivZ4LIXMDXX8G+Xr1ygUHmrQTEr7iu8VpK8m3LiUxH1vU4yDLzYOlgDfsGmtVO1XhiIzdMzErEhZgLCHAKQH2v+oWzn48+j5H7R4rPHzb/ECMajGASZ+S94ekYAVMjYHAS5+TkJNJ3UKRncTJ58mRh6SJCZwopqyWuJJ3JMkfWtYiI0lMfsCXOFDtvHnNSWayE1avhPnAgrNzdC5WWZWXBwsbG7OudKhaUsPkWMi7IfWg1lfIcZVqIS1YCnt/0vPg4qM4gfNb6s0J4svOz0eePPmjo3RB9a/bFcxWfYxKn6cvD7RiBcoKAwUkcWdionBb5xBUnv/32Gz788EMkJyebBNKy+sSVpDSlF9m9ezco4EEXYd8WXVArX31yHz9G+NtvI+duKNxfGYiAr78uFwuktCAkimtQ+v/kA2FIPfJQq/U5twuEe2/d/U61mszAjfeH7ceJxyeEa8mXbdWt8i9tfwnhqeGo6V4Tf/T946ma8Llh4I3i4RkBiSFgcBL3999/o2vXriBSQyW1iia/HTRoEA4fPgwKgjCFUPTpt99+q3N0akk6UyRuYmKiSB6si/BhrAtq5atPQW4u7g94Gdl37sDaxwfV9+yGlaur2S4yPyVbJOXNuBgDj4G1YV9bWXovNzZDBCbkxWZqvD5ztMRRYBcRsiqu6nnqxv01DsceH4ODtQOODzkOG0ubQhx23N0BSwtLBPsFI9A5kEmcxm8IN2QEyj8CBidxBOHmzZsxevRoEQBAlRrIUZ8OM7pCpX/kwF9S1QNDbwFFplIEakl54i5duiRSo5DuoaGhcHNzE+lSSNLT00VuOApoUJVNmzZh8ODBePvtt7F06VKdlsAkTifYzLqTauS2YiGZly4h6Y//wfeD982awNF68uIzETX3nFiaY1MfeA6uq7Zf2tZANbd8b9vvbMf8C/ORkJWAgwMPwt/Jv3D9v1/9XTwja9viFxYjwFl+xmgrfG5oixi3ZwTMGwGjkDiCKCwsTORb++OPPwojUenq4JVXXsGvv/4KVxNaGMaOHYtffvlFVGxo164djh8/Lio2qJIw0p/yyKkGKxDBe+mllwQxrVWrlohyPXnyJNavXy9Kd50+fVoETegifBjrgpr59smNjETUV1/DrXcvuPbsab4LAVCQK0NmSDzyk7Lh8px62bmYJZdBFjmnlgFw7VTpiXVqE50qxXxvubJc3Iy/iXPR59A2sC3qeCrLe/0Z9ic+OPqBWPPsDrPxUvWXCteflJUk/t/dXun3qMtLwOeGLqhxH0bAfBEwGolTQEQpRuiKkaxYlH6DAh9MLeSzR3ndKFfdo0ePxJUv1U796KOPCqswFEfiKLfcBx98gLNnz4oABrLWEXnr3bs3KImwt7e3zkvjw1hn6MyuoywjA3df6IL8xERYeXmhxt49sHJzM7t1KBSOW3kdWTcTAGsLBE5rLSJEFZKflgNLRxs1fzjVhVKakJjFl8w239vNhJt4ZdcrYknjm4zHuKbjCpcXnxmPyUcmo7l/c/So1gO1PWrrfY+LnhtUBjE6OhpZWVkivRNL+UKASj3a29sLY4G5lbssXzthutUYncSZbqnmNTOTOPPar7JqG7f0F8T+9BMcW7RA4HezYRP4dN+nss6nr/50RWrpZANLeyVRSz8bJZLwwgLwGtEADnU9tZpO6vne6Np7yeUlOBN1BlVdq2JG2xlKkirLR4eNHZCam4p2ge2wtKtu7hRaAabSWPXcoCTq4eHhgsDRH3v+I68rqtLtRySdyDkROUrnxXss3b0ylGZM4gyFbBnHVRzGWw8cxcvdnivjaNxdSghQbVOyvqmWxqJUIql//QWXHj1EhKLUhSorJG65jZwHKXDvVxPOrZU+XLKsPKSfjRZ+b1YutjovRdd8b7cSbuFQ+CGk5qTCxdYFL1R+Qe1aUxuFUnJScDfxLoL81BNuv7rrVYQkhIjcbX8O/FNtyANhB+Dn6CeS79pYKQMUtJlX17aqJM7f319E/bu7u4P+3xzeK13X/az2oy8UdCOUlJQk/LUDzeTL37O6X4ZYN5M4Q6CqhzEVh3H1MQuxY/rraFjBfK/X9ABHuRki7dhxRM2YAbsaNVBx6RKz/cMqy85H5MxTwv/NtrILfMc3NfkehaeE4/Pjn4vEuEUlyDcIX7f7GpVdK2us5/fnvseq66tgZWElIkYdbRwL+3535jvsurcLwb7BmP3cbBFVKgVRJXFE3sjFo3bt2mb7nkkBU6nrQETu9u3bsLGxEfW+WZ4tBJjESXS/FYdx109XYPeXw2FrbSlRTVktTREQ6SVGvoGM06dFlwoL5sO1WzdNu5ukHUWMZpyPRl58FrxHNlDTIfGPOyAy5xTkp5YuxBSKPkh5gGF7hyEpWx4gUJy427ljXc91akSOAgqORxwHVT+gigeqqT823NyAb05/I4b6rdtvaB3QunBYqldqb20vUn9ISVRJnCJYrGbNmlJSkXUxAAKKqkK81wYAV+JDMomT6AYpDuO/j53C8+3KT4FzicJtNLWy79/H/ZcHwmPQIPhMeBeWjkrrjtGU0GKihC23BYkj8Xs/GDa+0tR3xL4RxVrgii61qU9TrOm5pvDHxx8fx9i/xorPn7f+HK/WebXw2b3ke1h2dRma+zVHh4od4O2ge6CSFpCXqemZUyfRqk1bUXOZSVyZoDSrzkzizGq79Koskzi9wqm/wUoKbDj/IAF1/F3hbKd0JNffrDySPhHICQtD1u3bT1jb8hITYe2hTHSrzzl1HUuWk4/M6/GwreQCG2/l1WBWaBLifrsKa28HuPevCfsaZUuBoat+T+tHPnADdw3UeOitvbcW+sil56aj7Ya2kBXI8Hr91/FRi480HseUDQtkMiTHxsDJ3R02dvaFqvz61ed4e/pMJnGm3BwTzM0kzgSgS2RKo5C4hIQEUa3hr7/+EgXl161bByouHxcXhwULFojEuPXrKws7SwQbk6pRHIm7HpGMV5aeRGVPRywb2QIV3KXhh2NSoCQ6ecKatYiZOxewtkaN3bskHW1KQQoxCy6gIEcG5+cqwr1ntUJUqURW7uM02FR0NrpflaYBCosvLRbRoppK0dQfVO6qtmdtyVra6BpeNSjh7rnT2PfzPORkZmLgtJmo0ljpj7jlt6V49a1xTOI0fRnKSTsmceVkI3VYhsFJ3OPHj0UCXfovJcS9desWDh48iM6dOwt169SpgxdffBHz58/XQf3y26U4Ejd65VkcuikvEj6zX0MMa61euqf8omF+K0vath2R06YJxb0nToDP+PGSWUR+ei6snJRRkyLCbe455CdkwcrdDv5TWxidsKmCo22AAgUZrA1ZqzG+Q+sOxcetPta4vSkapibE4a/fFyMuPAzBL/VDUI8+hWpE3b2NddPeF587Dn9TPFfI0b/+RMeu3ZnEmWLTTDgnkzgTgm/iqQ1O4qjCwa5du0A1VCn82dfXV1jkFCSOEuru3bsX165dMzEU0pq+OBKXnp2HSRsvIsDNAV/1bWDSP7TSQkt62hAxivjgQ7h0eUEyaUMyLscg9d/HopJCwCetYGGlTGWSfi5KRJo6NPZRI3jGRlaTAAV7K3txHbqw80J42HugrJY4Y69RMR+9Ixf37UTMg/vw8A9Eq/5Kf7ycrEwsHCFPGtywUzd0HzuxUM3c7Czsnj8HPpWroUbzlgioqawK8awFNtDflU6dOhViQ2UQKdUGRWmS8YDKPTZs2NBUW6zVvJTzbe7cuSLpPCXEp8TxlHR+ypQppeZ/YxKnFdTlqrHBSRxlkqbyVV999RXi4+Ph4+OjRuKWLFmCTz75ROS5YVEiUJJPXL6sQNSdtbZSRsUVV3OTsTQOAoR96sGDSN6xExUXzIeFlZVxJtZhlpRD4Ug5+ED09BqpfRJeHabUuoumAQo08E+dfhI54MriE6e1gjp0iH/0ENH37iA7Ix3NXuytNsLvE0YjOSZaELHXZn2v9mzN1EmwtrVFjeat0LKvZj5/zyqJI7LWsWNHkfiWcuNduXIF27ZtE///+eefY8YMZUJmHbbQKF3Gjx8P+ntI5R/J3ejEiROi/CP9fNGiRU/VgUmcUbZIkpMYnMRRJumff/5ZfKMojsSRTxyROCrDxVI6iSsOo58P30F4QgZm9mvEqUiM/BLFr1yJmNnfiVn9Pv0EnsOHG1kD9emIVOaEpyLjQjQcGnirpf7IS8hC9PwLcGjoDZcOFWDjb/qSd6raa0vG3m78Nt5t9q4YQlPyR/niVvVYpfc9ItzTEuMRF/4AVZsEqVnJ//juS9y7cBa2Dg54d/kmWFgqv4D9b+5MhJ4/Dd8q1TFs9k9ltq4bi8TdiEjBgetRSMnKhau9DV5s6I96Aa56x7W0ARWWuN9++038jVEVInCDBg3CgQMHsHz5ckGOpCpXr14FVdiYMGGCmmvRpEmTsHDhQly+fBmNGjUqUX0mcVLdWcPrZXASV7duXeHz9tNPPxVL4l599VXcuXMHFy9eNPxqzWgGTctu7b4SgXfXy7F7sYE/lr4ebEarNH9V8+LiEPpSL1GBwWfiBHiPGWPSReUnZyNy9hmgAHBo6AWvYeoBQwV5MlhIJOdgXGacyM9GkaFUS7Qs16LkRzd071Ct88Tpslm5WVnC4mpto/QrPL55LU5t2yiGG7NoBVy9fQqHPrZxNU7/sVl8fnPh73Dz9S98lpYQDzsnJ7UIU110UvQxNIkLi0vHR1uv4ExYwhNqtqzqiTkDG6Oqt/G+HDyNxJGCROSqVq0qrljv37+vRpJ3794tri8JM7rKbNq0qah5/dJLL6mtbdmyZcISRn+nSCpUqCCsfkuXKkuqUeDJ0KFDxT8a48aNG8J9aOLEiZg8eXKpW0p9vvnmG9y7dw/VqikDi0hnuhr+9NNPMWvWLCZxpSL57DUwOImbPn26iEw9fPgwatSoIa5TDx06JPwYVq1ahVGjRmH27Nni3p9FiYCmJO52dCpGrTyLqOQsrB7VEm1rSj+XlTnvc15CAqw91WuBph09CpuKFUUVBmMKlbciq5t9bfV0JbG/X0X23SQRUUqVFCwspVnGq/cfvRGWEoZqbtWws99OaBugMKzeMExtObUQckVAxP27V1ElyhG2eZbIsZbhgX8GqtVspHXFhqJ7+fDGVRz8dSESoyIx4OMZqNZU+YUp5Njf2LtwnujS76MvUCO4ZWF3uk5NiYuBT+WqcPLwLLO17WnvmCFJ3P24dAxYfByJGbklquDhaIM/xrczGpErjcSRovQ3hq4liVjVq1dP6E63Q2T16tq1K3r27Cn2ZMOGDThz5gzWr18vMiaQrFy5Uljw+vbti+7du4t2RLTIzzskJKQQB/p5gwYNhC/b2LFjBdHbsmULjh07Jv6+TZ2qfE+LA4/GJmsbldAqKuSS1KxZM+zfv59JnDEPWDOZy+AkLjMzE126dMG5c+cQHByM06dPo02bNqC0IxSp2r59e+EjRyVDWLQncdQjLi0bF8OT0LW+H0NoIARkWVmIW7QYCatXo+qmjbCvW9dAM2k2bOrRh0g+GA7IChAwrZVaMELOw1TAygI2AU4GJQyaaHoi4gR2h+7G9fjroPxsqrVEZ5yYgW13tolhjg46io03N6qlCvFIsXmCjCW6KglE0VQhiVEROLBkPh7fvP6EahXqNkD3cZNEAMHTJDM1BWQ5iw0PQ/32ndC0u9IqExN2D2umygMMOrw2Us1PLSk6CpcP7oVPlWqo3LAJnD3Uib4mWOmjjSFJ3KtLTxZrgSuqN1nkNo9to4/llDqGJiTuxx9/xPvvv48dO3agT58+IlMCWbfGjBkjyJxCyBpHvmj0PDw8HJaWlujfv78oaXX9+pPvlKpyihQwFKTXo0cP8YhKnnXo0EH45z169AieRb78qfanq1JbW1sRVVxUgoKCxFh05VqS8HVqqa9KuW1gcBKneJnpOnXjxo24efOmcD6ldCOvvfaa+OWil5dFHQHFYXzu7DkEN9f+ijQzJx/H7sYxsdPTi5V+4gTCR40Wo9k3aiSInKpvk56mKXEYytemalHLuBSDhI23RHv33tXh3K6CoVV46vh0JRqaFApfR1+42Snr/K64tgI/nP9B9F3TYw2a+ipzml2JvYJHqY9EcXl/J//CAAWXdGu0u+IF/0RlElvF5FEeWTjeOB6pTnmCFFKUKkli5GNs+HwKiISVJA4urhgyc54gcrdPHQORMkc3d7X0HXk5OVgwfCAKCmSo/1xn9HhHnsqDJC83F5tmTIVXxcqo06aDmiXOpOCrTG4oEkc+cD0X/KvxMvdN6mAUHzlNSBxFexJhW7t2rbjuJD9s8jU7e/asuGpVlcWLF4NujyhbAlnWyAq3fft2kUGBol1LEiJxlC6L/r6pCln1aM5NmzaBXIdKErqlIosbBTMUFSKWlF9VQdSKG4NJnMavZrlraBQSV+5QM8KCFIfxnzuPomvv57SaUSYrwDvrL2DftShM6FwT73WpDUuJXqlptTATN378/gfIuHgR/l98DheVtAaGUovqkqafjkTGhRg4NveDS3slUaMKC/FrQ+DYyBsOjbxhaW+6Ch6XYy/j3UPvCn+0b9p/g941lBGYRNSopmldz7p4L/g9tAl8uoVmzKZhqLorHva5JUf5ZtnkI6y3F34bpMwNt3H61GItcEX3hixyg7/8Dssnvy2In1/1mhj27U9qzVZ+MB652dmo1bI1Og43rY+jtu+WoUjcjwdvY/4huU+YJjK5Sy1M7lJbk6ZlaqMJiVNY4nbu3InevXuLaE+KAn2akPsPufyQFY6uOsPCwlCxYkXxMxpjwIABamk/iMTRz2kOVSHLWvPmzUu9UmVLXJleg2e6M5M4iW6/pj5xxal/9VEyBiw5jtz8AtT0dcb/3mnHZbq02GeRNmTfPjh36gRLB2VVjPykJFjY2MDSyTiO2wW5+YiYdRoFWfmwCXSC38QgLVah36ZkaSOyRoEIZDXrVb1X4QQJWQl4ftPz4vPLtV7GjLbKdA55sjxk5GXA1VazyMVVn01G3J27pSrvXasmRsyUk6/Iu7ewftoHpfZRNBg+Z6EIQrh9+riwxI1dulrNqkoWN9WgBY0HlkBDQ5G4L3ddx4rjYRqv8I12VTG9dwON2+vaUBMSR9Y08m0jHzYKtCOftV9++UVY2FxcXIqdmq4wFdefWVlZ+PPPP4UvN/2jq1UiZkePHoXjf7WPicTRVS1d2epC4tgnTtc3gPsZnMStXr1aI5SHmzg1g0ZKGrFRcSQuJzMPx7ffRXD3KnBVqW9ZnFqn78Vj2v+uYcXIFqjkKc2i5UaEU+OpcmNiEDF1KjJOnoLXmDfh+4Hm5EDjSYo0pKvS7PvJIhjBtVsVNT+2xO13kHElDo5NvOHeu4bRIkvzZfmwslRaw4jEddjYASk5KWjh3wLLuy9XW8W0Y9MQ4BSA9hXaq12ZaoOJqs+ZJv2IjD28fgV/r/5d5E7UVNoMfA112z0PK2sruPr4mdxvUFO9NWlnKBJnrpY4ik6tUqWKIGQUkEBCgXYffvghTp48idatW2sCq1obSvlBUaeqaUvKep1K0afffvstR6dqvRvcweAkjpxDSxLVeoDkVMqiRKA4End65z2c2xsGSysL9J7QBBXrPt15mhIDWxW5Ri3uZ4y7EgFZejru9e6D3IgIWDo7o+ahv2DlpvTxMgRWyfvvI/XvR2Jo34nNYBvoXDgNlciytLWChU3Jv0f61Gnzrc3YFboLlP5j74C9agRnwuEJ+Pvh3/Cw88CRV4+okTx96HBiyzqc3LpB46GIjJF/2u6fZmvchxpSCatOI9/Sqo+5NDYUiTNHn7iUlBThh0Z54igTgsJQ8ODBA+GTTWlC9uzZ80RQHfmfUWUhEqrv7e2tHvFPEacUsEDpSYgMkjwtsIGiTilY4mmBDdSGIlBLyhN36dIlNG7cuMTXkH3izOU3VP96GpzE0S9MUSHCFhoaKpIa0i8JmbrJzM1SMokjS8PO+Zfw6GYinD3sMPSr1rC20a46wOOkTLy+7DRm9G6A52or81gx7uoIUMoQKmDvP2M6bCtW1Cs8RMqQXwArV2UwT3Z4CmIXXxbzuPWsBpfn9DtncQtIzErEhZgLaBPQBo42SkvtvLPzsOqGPBkukbhKLpUKu1+Puy5yutXzqgdrS/364FGZqa1ffyauRjUVImPNevTBjnlfiyS7mgqRv7avvKZpc7NqZygSRyBIOTpVUbGBzklFxYatW7eK/6dqDVS1QVUo7xsRJvq7Q+lEKKdbREQETp06Ja5LFX+36FrVy8tLZFEgn7jo6GhxFUt/tyjqlAISFCROkWJk3LhxIsXI5s2bRYoRyu9GlrbSRHHNS9e/FERx/PhxkRqFKh6p5qQrbhwmcaWhW36fG5zElQYdOYrSN5AffpBHsLHIESjOEkcH1L1LseJbX/WmShJGP79/OQ5VG3nBUqUclyqWFK3af/Fx3IxKFda5TW+1RvOqpkmDIJU9zk9LQ+yPP8Hlhc5wattWTS3CVNVSXFadZdl5SNh8G1k3E+DcKgDufZQ55YQP3tFHcKjvBRtfw19977m3Bx//Ky8A/0uXX9C2gnLtR8KPYMbJGQj2C8a7Td9FdffqZV26Wv/Ht0IQExYKaxtbNOrcrfBZfl4e5g8bIKJCNRUFGdPlGpZSgZRHMSSJo0S/dIZIMU+cYi+trKzg6uoqUogQ8aIqDiXVTiX/tnnz5om0V1QxiKJDKeHvkCFDxD8SqgRBWRUoWpVKQ1KeUyJYn332mVoFheKS/fr7+4trV8rAoInk5eVhzpw5onYqpSQh0kj6U31xqgn7NGESpwnC5bONyUkc5emZOXNmsUkOyyfkmq1Km8CGB9fjsXvhZXj4O6Lz8Hrwr/7k9R8RhV/+uYfZ+26iSz0//PJ68BNXrZppVj5aUYWF0F69kBcRCZtKlVB95w61IAZ9r5Lwj/7xPPJiMmHpZC0vQG/AygmZeZk4+OCgCERoHdBaVERQCKUC6bejn/g4ptEYTAxSFlcnXzhLC8syEVhZfj4SIyOQEhuNas2aq0FJkZ/xj8LhXbkqRsxV5uiiRssnvyX6aSrkE6cgY9pGp2o6h7m1MySJIyykVrFBKvujIHGUxsQUwiTOFKhLY06TkzgyNdO/jIwMaSAiES20IXHb551H5N1kkUdsyBct4fGUmphHb8eieRUPONnp9zpMIrBppUb0t7ORsGoVbKtWRcUli2GnUu5Gq4FUGuclZSPjYjSyQhLg81ZjNaJGCXqz7ibBMchPpAbRF4kTV0jZyXC3dy/UJCM3A+02tENeQR5erPoi5j4/t/AZtf/m9Ddo5NMILf1bimhTXSUjOQn2Li6wVAmC2LNgLm4ePwora2tMWLVV/FchimeWVtaYuFr9WXpSInb+8C0ibt0oVR1FqhBFQ0r0u+GzDzXOE1fqBGbawNAkTgFLSKS8dmpyZi7cHGzQvYFpaqdKZZuYxEllJ549PUxG4shXgXLxkC8DmbDp/1mUCGhD4jJScnBuX5jI3v/cEHnyU4VkpefC3unp1TAO3ohGwwquCHBTptMob3tRIJOhICsLlv+lBKD1URBDwvr1omi9pZ2dXpZM16LJ++6LsbyG1RPF5hWi7ytaGvfb099if9h+QcQ29dqktoahe4biStwVtApohd+7/a6X9SkGufHvERxdswxE4kb+sAReFZS+c6e2b8LxTWtE0xHzFsG7UpXCuaPvh4IS6tLP7FT2Qh9kTB8VG/QKkgkGMxaJM8HSJD0lkzhJb0+5Vs7gJI6iU0vyLaI/auQYSrl16tdXL9RdrlHXYHHakLiSSEJ6UjbWzTiFWs390LJXNTi5P0lUKBXJsGWn4eFoi2UjWqBRRcNGYmqwdL03ybp9G1FfTBcWt8DZ3+pl/IL8AmSHJsHCzgp2VZQ50PJTshH57RlYOtrA7cWqcGqhu5VLoSjlWguJD8HFmIsYWm+oWlQo+baRjxtdgR4bfAwutsq8V3Rt6mnvCQ979dqqmgKQEPEYJ7euR+yD+2g3+HXUaqFM1Hv37CnsmDdTDNVr8lRRwUAhUaF3EHbpvLgyrdSgcbFk7Wk6lJWMkb53zpxEdnoa7JycUatlm8JrV03Xbq7tmMSZZueYxJkGd54VMDiJo8igoiSOPnt4eIgwbypATM6oLOoI6ELiimJ4ZO1N3Dgm9zHqMrIe6rQOeALm9zddwvaLj8XPfxzUBP2bGT4y0ph7TV8UwgYNRtaVK2LayiuWw6lN2eo6FuTKEDXvHPKTs2Ff1xPeI9WTmlK0qW0FZ1iUEGSi7fqXXl6KRZcWiW6qpabo8//u/g/bbm8TgQjDGwwXpE0bocS2N/45hNgHYfCvUQsNnn+hsDuRqeWT5Kk4Wr88BO1eHVr4LCU2BvuX/CSKutfr0En01bc8y2RMVyyZxOmKnHn3Y584896/smhvcBJXFuWe5b76IHHh1+NxYnsoYAEM+rSFWu1NBbaUN27mnhtwsbPG+93Ur2LLC/6ZV68hbNAguHTrBr9PP4HNfzmgNF2fLDMPlg7qPoRxK6+LSFNYWiDws1bC8lYWic2IxaZbm0QgwvD6w9GpcqfC4c5EnsHoP+V1Wz9u+bGwxmkrVKA99sE9yPJlqNOmfWF3CkJYOOIV5OXmoFartujzvjIVAl1BL37zNTh7eaNhx64IfqmvttNyeyMjwCTOyIBLEfmk1wAAIABJREFUZDomcRLZCBOowSTOBKBrMqU+SBzNQ9UAyGdO9SqVaqvuW3oVtZr7iqtWCogo6q9F5E5WUAAbPVmTNFmzPtrkJSYi5/59OAapl6jKvnsXdjVrajUFVVFI/VsejBAwtQWsXJXX0Vm3EpDzMBWOzXxh7aWdLyFVPaBABNUcbFHpUei6tavQj0gakTWFUKTp2htr0dy/ORp4NYCtlTLHXNEFZaWlISkqAv411etWrp46EbFh9+AZWBFv/LhUrdvaT95D9L07CKxTH0O+mqP2TEbRqipBC1oByI2NjgCTOKNDLokJmcRJYhtMooTeSVx4eLhOC6lcubJO/cprJ32RuOLwCTkRgcOrb4pHrfpUR/OeVZ9oNnP3DYREpWDxa8FwK6OVyVh7lLJ3L6K+lvtpVd+7B9YeuvmCKfTNuBqHhHUh4qM+kvASUR65f6TwbaPyVIu7LFaD5sVtLyItNw39avTDhy3kmeBLErKgkVuChUpFlEPLl+LSgd3iZxNXb1Or/7lv0Q+48c9hWFhYYsLqLbCxVRLS+McP4eDiCkfX8ucPaax3TyrzMImTyk4YVw8mccbFW0qz6Z3EPS2Q4WkL57Jb6ugYksRdPBgOKuFFFrjXv24DR5XqAaTF1vOP8OEWeQWBNtW9sOEt7esLmuIlj//9d8TM+15M7TVuLHwnTdJIjdy4TGRciIa1uz2cWioDEQryZIicfQa2FV3g3C4Q9rU0I4UxGTE4F3UOocmhmNBsgpoOY/4cg1ORp+Bs4ywCEVTrk1I/bwdvEaRQkoSeP4MTm9ch/nE4hn7zo/BJU8iZHVvx7/qV4uPr3y2Ab1Vlot7HN28gLTEBPlWqwsM/UI38aQQSNzILBJjEmcU26V1JJnF6h9RsBtQ7iaMSWrpkuh8xYoTZgGYMRQ1J4kj/1IQsxIanqlV+oJ/fOB4Bh4qOmLz7Om5FpWDTW23QpJIy/5gx1q7rHAW5uXjw+nC4dHkBniNGwMKmdD81ijKN/OYUZOl5sPZ1gN97wWrvb0FuPiyeUt5MUXhd9Z2feWqm8G8joRqjRMwUsunmJlyOvSwCEXrX6F3s1WhqfBzO792BuPAwNO3eCzWbtyrsf+/CWfzx3Zfic893PxBBBQqJvHML148eEkStZos2cHLXjHTqijf3kx4CTOKktyfG0IhJnDFQluYceidx0lym+WllaBJXHCLxEWnY9PUZWFhZoGXf6kBtFwRX0S7a0VhIZ165guRdu0WggiqBImd81StGVX3IskZpQexqe6j1SdoZirQTEbB0tYXfu83U6pqWtJ5bCbew7NoyEYgw97m5CPJT+uDtu78PH/3zkei6sPNCdKzU8YlhyNcs7NIFkb7D3T9QLdggOSYav0+QBzK07PcKOgxRfsFJiYvFtlmfi/Qdjbu8iCqNmhoLcp7HDBBgEmcGm2QAFZnEGQBUMxmSSZxEN8oUJO7E9ru4+Kfcp7HPpKaoVE+dwFF29u0XHmFk26o6WVv1BXXi5s2Imj4DKChA4Nw5cOvdu9ShM6/FIfGPO8Li5jO+CewqK3O75cZmID8pG3Y13J+I4KUyVLcTbwuLWQ13Zb3Ta3HXMGSPvL7ixGYTMabxmEIdqLj8magzwtrmauGE+IfhyM5IR9UmSqJHZHPhG4OQm5WJGs1bod8UZYFusu79/MarsLS2QeMXuquRuFIXyg2eaQSYxD2b288k7tncd1o1kziJ7r0pSByRh3sXY/EwJAEdh9ZVQyY2Ig3v7bmGY6Hx6NMkEHMGNob9U64ZDQlrzsOHuNe7j6jA4PnGG/CbKrd6qQpF5ZLPn0JyItIQs+Ci+OjUOgAe/UqPVKWo0C5buoCiSfvV7Iev231dOB4l4H1u03Oo4lIFA2sPxICa/UHXoK4+vmp6rJ/2ASLv3oK7XwBGL/hN/dlnH4CuQN39AzB6vvqzzLRU2Ds5m5QsG3IPeWzDIMAkzjC4Sn1UJnFS3yHD6WcUEnfkyBHMmTMHZ8+eRVJSkkhnUVQ4sEEdEVOQuJJes9ycfKyadgJRmTk4ZJcD12ou2PhWGzjYGidJsywnB5a26mk1krZth02FQDi1VgZd0HuVcSEGGRdjYO1lD4/+ygS09IwiTW0qusCxqS+sVapXkI/ayYiTSM1JxZQWU9RgGLBzAO4k3hHpQPYO2Kv2LCc/R1joTm7bgLM7tiE3JxsTV22BjZ19YbsDSxfg2pE/xecJq7bA1l6ZjoTInbWtHTwDK8DKunT/PcMdAzxyeUHgWSNxf//9Nzp1UvqFWltbw83NDdWrV0e7du1EWceGDRtKfnvT0tIwb948nD9/HufOnUNUVBTIT5x8zDURJnGaoFQ+2xicxO3fvx+9evVC7dq10bFjRyxduhSvvfYaiLQpym317t0b06dPL58I67gqKZG4Cwce4OQfoWIlDwNt8P57LeDroiQqOi6x1G505Zi0eTPiFi1GlQ3rYVux9GoS0QsuIDciHRb2Vgic1uqJoAQqDO9g7aBm4Zp8ZDIOhR+CjaUNTr52EnZWyvQbG25uQFJ2Emql+SDl32uIC3+Avh9Og191pSXv/J4d+Hu13JI2dNYPajnaHly5hPhHD+BduRoq1K3HZK3UXecGZUHgWSVxRNbo74tMJgPV5b5y5Qq2bdsm/v/zzz8HVQ6SsoSFhaFatWoICAhAcHAwdu/ezSROyhsmId0MTuKee+45pKSkCCsc/UL5+vrir7/+QufOnXHr1i20bt0av/76K1555RUJwWJ6VaRE4ihZ8Lm9Ybh/ORZDpreCrb2yegFdW6bn5sPZTr2igT4QTD1yBI/GjRdDObVvj0q//VpIvnKj05FxMRYunSvBUsUimHrssShA71DPE+59ahQm6P3n0T+g8lU34m9gZ7+dqOyqzEu45sYazDk7B54FLvjYcSQs4tJRu017VG/WonAZYVcuioACku7jJqNhxy6FzyJuh+DMjm0iKpR+7uZb9nqp+sCPx3j2EHhWSdxvv/2GN998U23D6e/NoEGDcODAASxfvhxvvPGGZF+I7OxsxMXFoUKFCsjLy4ONjQ2TOMnulrQUMziJc3FxEd+CPvjgAyQkJMDb21v8UlHNVJJPPvkEf/75pzAjsygRkBKJU2iVl5MP6yJXqJt/uoB/wxPQqnd1DOukzEumj72kK9CHo0cj8/IV+HzwPjwGDxaRp3RdmrDplpjCc3AdcT2qkNikaFyOuoyqftVR00NpLTv68CjePfwuUAB8Wm0iGqO6SHBbPagFqORVbGYsKhR44/d3RomhmvcegOeHyf+fJD0pEcsnvyUsasE9+6B2a2XpKn2slcdgBPSBgNFIXNRVIGQ3kJUM2LsB9XoD/sa/tlRcpxZH4ghPInJVq1YVV6z3799Xs8CTtWvu3LkgzOhmqGnTppg2bRpeeuklta1YtmwZFi1ahDt37oifE9FS3CopGlKE/NChQ8U/GuPGjRsIDAzExIkTMXnyZK22lkmcVnA9842NQuJ++OEHjBkzBvRtw8HBARs2bBDfkEh+//13TJo0Cenp6c/8ZqgCIEUSV3SD7t+Ix94F8qTAd2zyMXBiM7Sv5Y20E9eQeiQEsux8WNpZwaVzfTi3US8SX9xmZ1y8CIdGjWBhrbTq5YQ/giwbsK+lvErNT89F5KzTgKxAlL3yHCSv+fow5SF6/tFT/P+oBqMwuupQZCQlietNCk4YsGMAgnyaIXDlfeRnZqFa02AM+ESec42ESOPiMUORnZaGBh1fQPex6smCi5Ym4xeWEZAaAgYncfGhwI53gfATTy69clug78+AlzKK29D4lEbixFkwahRWrFghiFW9evWESj///DMmTJggjAk9e/YU5I7+Lp05cwbr16/H4MGDRTvySSMLXt++fdG9e3fR7t69e9i1axdCQuTVXEjo5w0aNMDDhw8xduxYQfS2bNmCY8eOYfbs2Zg6darGUDCJ0xgqbmiM6FRyKiWft2+//VYATvf+9HnBggXi8zvvvIOdO3eKl99UQt/C6BsZEUrSo1KlSsI0P2XKFFhZle68f+3aNXz00UfiF5akffv2IpCjLA615kDiIu8mYdeK68iJz8Kjlm7oGnEVlRP94WDj/MRWFmRHwuuNIDg2fjIqND85GdFz5iB523b4TpkCr9GjBKEKmb0fTkkOyJZl4VHWfdg19UK70a9iV+gukdctwysfo14ch7zcbBFMQH06bu6IhKwEDLhUA64ReXDx9sFbi1ao6bNpxsd4FHINzp5eeHvJKrVnCRGPRB/VslSmei95XkZAWwQMSuKIwC3rCmTEl6yWoxcw+qDRiJwmJO7HH3/E+++/L3yw+/Tpg8ePH4vABzIsEJlTCP0daNu2rXhO5SOp+lD//v1x+/ZtXL9+/albochVuXfvXvTo0UO0zc3NRYcOHYR/3qNHj+DpqVnOTSZx2r71z3Z7g1vi6NvOoUOHxLcgki+++ALffPONuO8nJ9S1a9di/PjxmD9/vsl2guZfsmSJ+MZFv8QnTpwQ39zo52RGf5qQib1FixbiF5TWSkIElaJw6VtdrVrKCEltFmgOJI7WI5MVYOVPu9HkYQ787JTXmmHZMlhbABVsLAqvMPJzM+AzosYTRI6K1t/r0RP5SUmwdHRE2nsfw/J8Abzt/WEBZZoQmi82KxJfBa/CXVk4mkX44fmoakiOjsY7yzfCztERW25vgaO1I/L/DMGdI3/Lvygs3yjSdSiEgg0KZPkiYS4RORZGoLwgYFASt7xH8Ra4ouCRRW7UPqNAqgmJoy/nRNjobw1dd9L5TLc/5KdNV62qsnjxYhFkR1/MybJGfxO2b98OImcU7VqSEImrU6cObt6U16RWCFn1aM5Nmzbh1Vdf1QgTJnEawcSN/kPA4CSOvtHQLwv5Gdjb2wunTfoFItM1Wbn69esnCJyjo6NJNuXq1ato0qSJIGCqRJJ0XLhwIS5fvoxGjRqVqNvAgQNBEbhkWicLHglZ88hsT9/IyKSui5gLiTu06g9UueYEeytl6oxsWQH2p+SSoRf+1hZo5ay8Hs3KikTNn5SHmSwzDxlXYpHyVwiyLqxAUrvWcI2shQPep3Db/gFeie2CgqRkhKVeRRPP5+FpF4DfvLfiD58jeC62BqqdpXmAwV/NRYU68qsSknsXz+JRyHVRW7Rm89awsTd8NK0u+8x9GAF9ImAwEkc+cEu18AMde9woPnKakDiFJY5ufOgWSPGl/Wm4Hz58WKQuISscXaNS9GjFihXFz2iMAQMGqN3SEImjn9McqkK+3s2bN9fqSpVJnD5/I8r/WAYncVKHkJxQyTJIfg501asQcoIlk/unn36KWbNmFbsMyu3j5eUl/CdWrVK/liNLI337oogjZ+cnrxdLw8VcSNzFyZvhYx+gtpzDublITC+ANSzg5AB0sVPmQCMLmJX9CXi82hfW9Wrj9tnLcPtfpuif6BuPmDthqOMWjANux/FTwDr4J9jhxdPyaM/mXt1Rw7UpkqxSkZQVh+pvt8CRlb+KYIOgnn3UisGXhi8/ZwTKIwIGI3FHvgWOztYcso6fAB0/1ry9ji01IXFkTSPfNvqiXbduXeGz9ssvvwgLGwXeFSdBQUGF159ZWVki+I5ulOgfXa0SMTt69Gih8YFIHF3V0pUtkzgdN5O76YSAQUgcOXESialfv75OShmzE33LImsbJVcsKn5+fmjWrJmwtBUnJ0+eFNevdBVLB4Oq0M/oGx+1oTQq2oo5kLi9C9agcYT6dQStczGysEuWi2bZVuhpb4P2FnISl5WTjJjwo8h8fAbVA7wRt2AK3vzrbay78w2ccx1wJ+U8MvPTEOTVBRE2MfgxcC0aJVeD3cXbcLJ2Rz23VoLEKeRBrUjhI8fCCDACcgQMRuL2fQycXqI5zK3GAT20IH2aj6zWsjQSR9GpVapUEYSMvqiTfP/99/jwww91PpvphoaiTlXTlvB1qo4byN3KjIBBSBw5hNJLTUkLicyRpYosVlIUuiq1tbUtNsUJfRsj51S6ci1OKJkkXacqzPSqbehnFNG0detWvPzyy09demRkJOifqtC3xmHDhgm9SA8pyp/vLEZ9lyevmvNledienwDYuGEArLHGZzfapDZBnayqSMtNwr7IPaiVFYAOs15Gp3PDUS09EO3OOKAgPRMBDtXxnL96zsBcWTZsLJUJeBVY3E6/hs4Lx0kRGtaJETAJAgYjcWZoiaP8pOSHRimt6KZk+PDhYk8ePHggfJUpTciePXtETjZViYmJEflMSegmhdJiqQoFsFHAAgXDERkkeVpgAxkJKFiCAxtM8itR7ic1CIk7fvw4Vq9eLfzByMGfSBL5xBGho3BuKo0iFalRowbI4kbBDEWFrGz0C60oaVL0+Zo1a8TBQIdEt27d1B6T+Z2sfNSGyNjThPLoffmlMtWFalspk7jD439BbVeltTXFKg2nYncjNSUS1pY26Fv5XRQUyDCq5gz0TOyAVxLkuQH/ityMwHaj0O2tZth9b7eoP+oWD9xccBj1XJppXC80NP0mnl+oLDwvlXeK9WAETIWAwUicxH3iFBUbKEJdUbGBvkDT/9P5SlUbVIUC1sgPmq5XychAOd0iIiJw6tQpcV1KRI+EvkCTAYIyDpBPXHR0tLiKJXJHUaf090NB4hQpRsaNGydSjGzevFlkLCB3HHLLKU0oUpb+XlLAHwVX0C0Q+d6R0FVt48aNSxyCy26Vhm75fW4QEqeAKycnR/gIEKEjokMh3PQLQWW3iPxIwcLEljjtX+5bJ4/h4v5diLx1C30qjYedlQMW+q/HZcfbmHC3L+qjAf6N3oqgxymwt/fC4q5Z4nq0/6OuCE2yhnOuLUbOHgxXL2UwRE5WHv798DfUcdY8YShb4rTfO+5RvhEwGIkj2CQcnarYVQqWc3V1Ff7MRLwoVVRJqZ7Iv43qlZ4+fVrkKaUv85Twd8iQIeIfCSUR3rhxo4hWJYLl4+MjolQ/++wztYC34pL9+vv7i2tXSm+iiVCkrII8Fm1P2RJGjhzJJE4TIJ+xNgYlcapY0jeXdevWCUJ38eJFYW0hnzl6MSkEm154Uwj7xBWPelJ0FG78cwixD8LQqv+r8K9RC3GZcaJQ/OW/9sHhcLjo2Ml/CHwdKmOj134cdjuDX+99IX6eEHcZBSeXwDa/AFadPsQht8r4DtniWXVXCxz6pIeaxe2fDbdw81QYgqzt4WetTEvytHfiSsVw9Hx3qCleG56TEZAkAgYlcRLMEyeVTVCQOEpjYgphS5wpUJfGnEYjcarLpZxxROaI1JEJm749kdXOFEJmbkpEbIjoVPoGFx8fL9no1Py8XETevoWYB/dF3c9K9ZX+bY9uXsem6fIs4y+MGoem3V/C/rD9mHJ0CqrHe2DM/e7w9qyAzNg01HJtgjv24djtcRSjYvrDKd8BFilRyDj8JSw9qsG+2Qjkugbgy4I0nCnIwYIRrdG9gZK0J0VnYMOXp0XOOQeLPHR1tS/1SpXyxR3t1RSTu9Q2xWvDczICkkTAoCSOViyxig1S2QQmcVLZiWdPD5OQOPJToPQbZCImUzb9AtBVqymEnE7J96CkPHGXLl0SvggU4BAaGipq8AUEKFNqUNACXRVTkkfymSBR5IkjKx8FP+gi+oxOzc/LQ2LkY+Tn5sKvurJiQlZaGhaNlpeXadLtJXQZPQ7J2cn46uRXuPzoPHrscoa1rR1aDxgkrHFUY7Tzls6YE/YeGmXWgoWNJW7XiEXFK7awy06HpYu6NTUv+jqsfOvBwsIS8VmROBl3ACsD2mBw9+fUyFdmag7O7r6PK/88xj2LBxjvVEEt71xR/LLyMzE78yYqdX8B03uXXs5LF/y5DyNgjggYnMQpQIm6BtzcDWQmAQ7uQN1eRskLJ9U9YRIn1Z0p/3oZjcQRSdu3b5+wwFHhYaqj6u7uLmqoUsBDq1atTIa2Im8Q5RMifwcKzCCC+fbbb2Pp0qVCL0r2SHnkSFfKOaSQW7duoWXLlsLXj/wfSCgjOFngqGIDZfHWRXQlcVnpaWrVCWju3yeMRnJMNCrWb4hB0+Vh/3myPNxKuIXD02YhJykFgXXqY8hX/2fvOqCjqrruJr1A6L2F3jvSEWmi9PZJURFEFLGAiqgUQQVRQZEO0kSRDkpTQarSiwLSkRBaaKEkpJHGv/bln5AJSaZk3sybmXPWyhKT++49d583b/Y795SvkJSchCZLmyAqIQpPBjyBr5/4Bj6FssPD72Eyys4rO1E+pDDiN4Qhm68nsjfwxJnR7yIgIRlBLT9DNi/jLNKohAj8fWsTLiZFYkOhBrjkWRz9GgenkK8b9+Iwe0cI3m9TATM3nMbkPefRKvoc3vAqpOrPXY5Pxq3EB6jg5wE/j2yqY8P0xGvYnL0MhrQqJ544a24uucZlEbAbiXNZBK3bmJA463CTq7KOgOYkjg8VEjd2aGBcHI9O6aEiGWLGDTNXHS2skM1ep2zPwh539KgxIJb9UA2ZtBmROOrOLCWOJfmjMKD2yy+/zDSbyNSeLSVxfy7+Hse3b1aZTYPm/GR0HLlq/GiEHj6kyN2geUvU31789UUcvnkYNe4Vw1dPf4N8xUvCx/9h14y3t74Nv/BsePlMB2SP8kXubuUQ+MQjL1tyTALiztyBX+W8CJ8yCbfmzlPXHSpVG3mCG8Evmxfik+MQknAFId4JOBJYCme9HzXFNpCvuIQk9PhuL45cuou6JXMrIsf/N0jXyDOokFwJifCBBxLxn8dxrAp6dHz62+CmqFQ4yBSU8ndBwG0QEBLnNqY22qjExLmn3blrTUgc49wY4EnyxnpnTPvmkSSJG5MYDDV43Bd20ztPj8Sx5+e/Wzfi5sVQPPfx5wjMlTtlou0/zsOh9T+r/39t1g/InjuP8rRtvrgZ5/bsRtcCbVE4uBxK1aoDDw9PfLH/C/x08ic1flO3TSgUWCiF+NFeD+4nIWzsXiDxAXxK5USB19JPb0+OjcWpdh2xzrcEFlZ+FjHejzJOM9qlgXxdvhODF+buQ+itGDQumxff96uH5+fsw/7Q2+rSnEnZ0CXaB/mTPbDXNwF/+SemTFkvOA+WD2xoGkgZIQi4EQJC4tzI2Km2KiTOPe2uGYmj94oeIZI1lhMheWN/UhHzEUiPxB3b9gc2zpqsJuk24jMEV6+VMuGRXZtxcstmFAoug7rtu6rG7iRpJGuUeU/PQ73C9VLG/339bxy6fggN4mqi0H+BQEwS8r9iXLj3zpr/kM3TAwG1C8CnSHYkXLmCyE1/IG8/41T35JgY9PzhSAr5ymyXacnXneh4jP/tJEa0rYycAd4IDY9Glxm7cCfmYU/UbA+ASgmeOOeVhPseD2fOHeCNH5+rDd97SShbpwCyeWQzH1gZKQi4MAJC4lzYuJlsTUice9pdMxLHLgYsHcIG8Dw+FbEcgfRI3PWQ/7Bk1FDkKVYCTXv2QaladRESEYIP//wQp++cxqgGo9C9fPeUxeiJ676uO4J8gjC8/nC0K93uMUVuLz2FmMM31e8LvV8XXqlqt6UeHLFhA66OHIUHsbEoPuc7ZG/a1GiutOQrvR2TfP08qDGC8wVmCgjnGrz0Hxy5HPHYOJLAr7pXx8lVIQj55ybyl8iBjoNrwi/QuOq65YjLFYKA8yMgJM75bWjNDoTEWYOaa1yjyXGqa0Dj2F2kJXE3Ym7g4NUD8MnmjValH3WHiIqPQuOljZH8IBntS7fH+KbjUxTn787eOYtyucvhwb0ERdb8K+eFV75HR56MbQuffww+pYKQq11p+BRLvyF03IkTOP+/54CkJOTs0gVFxn/+GEAkX8NWHk3XI2cgX6YIHCf993IEnpu9B+2qF0bRXH6IjEtETn9vVZaEMXBRd+5j0cd7kJSQjKLlc6HTO+Z3eXCsVWV1QUBbBITEaYuvXmcXEqdXy2ivl5A47TG2aoXUD2OWQGFpDxbbrZ6vOn5q9zCWzSBMRAj0DkSz4s3wTPAzj60XfyUKN6b9AzwAcjQvjpxtHjWtf5D8AEl378Mrj5/RdYyLM/QDNPwhfNYseBUshJydO2Vax+3k1UhsPH4NEbEJRuTLHCASkpLR8usduHg7Rg1f0PcJNK/4sI9harl3Ow7714Wg6pPFULDUo+SGxIQkxETGG3WDMGddGSMIuAICQuJcwYqW70FInOWYucoVQuJ0asm0nrihO4ZiY+hGeGXzwu7eu+HvlX4CQXqkjL+79uUBJEXch3fhQBQcXDvTXUf9+SdufjtZHZt65c1rd4T+uXgHA344iA41ilhcB+6fPy5i75pzqPZUMTzRrhR8/fXTp9fuQMqCboeAkDi3M7nasJA497Q7dy0kTqe2T0viDl47qDxxdQrWQf6A/OlqfW/XFUT9dQVIfoBCH9YzCviP+eeGKs7rVzEPsnn9f4ZAOrPc27YNl18fpP4S1L49ik6c4BCErkfGIV92X3hakLRwPzYRP47YjfsxifDL7o0XP2sIHyFxDrGfLOoYBITEOQZ3R68qJM7RFnDc+pqSOHY5YImRPHnypHQzcNxWnWtlS+vEcXcRm0Jxb+sltdF8/avCr9yjEiTm7v5BYiJCe/RE3KlTKgs1/7vvIptHxqTP3HltMW76tv9QoWAOtKpcMN3peAR87u+b2PvLOVRrXgw1WhQ3GkePpGSy2sISModeERASp1fLaKuXkDht8dXz7JqTuICAAEyYMAFDhgzRMw660y0jEvcgMRlxp24j+p8byN6gsBFRSwiPRficfxFQqwAC6xV6LM4tvU3GX74M76JFjWLc4s6cAZKT4Vexom5w+fmfy3hn2RFkywZ81qkqXmhQMkPdkpKS1d88PR+Rz6v/3cX2xafRsHMZlKyW12RvVt1sXBQRBCxAQEicBWC50FAhcS5kTAu3oimJoy4lSpTAO++8o35EzEcgIxKXeCsW1yYcVBP518iPvL2MiZa53qbk+HjcmjMHt2bNRqFPP0VOTbtsAAAgAElEQVSuLp3NV84BI3/YE4oxa4+r49VF/eujfmnzY/XooVs94W9cC3lYsqTXx/WRp0jmZU4csEVZUhDIMgLuRuK2b9+O5s2bp+DGGqXsb126dGnVQrF///6oWrVqlnHVeoKDBw+qAvlbt27F+fPnERgYiCpVquCjjz5Cq1atTC4vJM4kRC47QHMSN2LECNUgfs+ePfD2llpe5t5JhofxzqWb0bhHS6PLbsw6gvgLkSq+LW+fylZ5lRLCwnCuXXtV980zZ06U+WMTPIP03cJqy8nruBeXiM61ipoLoxrHjNVdK//Dib/CUKZ2fjz9iv4f6hZtUAYLAv+PgLuSOJK1p556ShWZj4iIUK0QV61apf49atQojBkzRtf3CGur7tixA926dUPt2rURFRWl+ncfO3YMM2bMwOuvv56p/kLidG1eTZXTnMSx6f0HH3ygWm+9+uqr6g3J3//xzMoWLVpoulFnm9zwMP715bloM7UPPAIeEeD4sCh4BnrDM6dxs3lL93hrwfe4PX8+Co4ciRxPt7aKDFq6pq3Hx8Qn4nZ0PIrlftj3NTO5ez0Gnt4eyJGqnEpcdAIObDiP2m1KIjCLeJpaX/4uCGiNgL1IHAuJb7m4Bffi7yGHTw60LNESFfJU0Hp7j81v8MTNmTNH9btOLSRwPXr0UE6E+fPno1+/fnbXz9wF2Xe7bt268PV99EyPjY1FzZo1cfPmTdy4cSOlj3d6cwqJMxdp1xunOYnzSBMUn7b2mKEeWVJSkuuhm4UdpZC4l+bgyUHtVYybtUKM723cqGLcfIJT1YhLTAR7n3rmSL/Ar7Xr2eu6pOQHeO3HQzh86Q6+61MXtUtYnsixa+VZHN58CV6+nug8pJZRzTl77UPWEQRshYDWJO5i5EWM2jUKf9/4+zGVaxeojc8af4YSQSVstR2T82RG4ngxiVxwcLA6YuUxZervn/Xr16t4bWLG7x8SJp4ctWtn3Nlm3rx5mD59Os6ePav0KVq0qPL6zZo1K0U/zsu+4PzhHCdOnECRIkXw9ttvZyke/L333sM333yDixcvonhx40St1OAIiTN5q7jsAM1J3MKFC80Cj/1VRR4hYHgY71q5FQ07N1M9TK0R9jW98u57iNq+HQENGqDEgvlO6XFLb+8rDl7C+yuPqj/VKJYTv7zR2KK9JSc/wKovD+LGhXvImd8fvcbUN0qGsAZvuUYQcCQCWpK4C5EX8MKvL+Du/bsZbjGXby781PYnuxE5UySOir788svqaJLEqlKlSkr3adOm4a233kLr1q3Rtm1b9dxYsmQJ9u/fj8WLF6Nnz55q3Pfff688eJ06dUKbNm3UuJCQEKxbt05VXjAIf88YtkuXLmHgwIGK6K1YsQI7d+7EF198oU6jrJFevXph5cqVuHv3roqTy0iExFmDrmtcozmJcw2Y7L8La0qMpKclvXCXXn0N0X/9hWze3gheuQJ+Fex/7KEFgiRhX248hVWHruCXNxqZdaSaVg/OcXrvNfjn8EZwtXwpfyZuF0/cRonKeSwihlrsU+YUBMxFQEsS99JvL6XrgUurGz1yC5817+Xd3H1lNM4cEjdp0iS8++67WLNmDTp27IgrV66osJ4BAwYoMmcQeuMaNWqk/k7PF0+RunTpgjNnzuD48eOZqmrw8P3666+qZziFJbaaNm2q4vMuX76sSm1ZIiSJ9A62b99exfdlJkLiLEHWtcYKidOpPW1F4ri9+MtXcO2zT1Hwgw/hW7qUTndsvVqMicsT6GP9BOlcee7vG/j9u2MoUDIHmr9YEfky6Clr00VlMkEgiwhoReIYA9d9XXeztVvZYaVdYuTMIXFz585VhI3ZnzzunDJlCgYPHowDBw6oo9bUwiSC0aNHq4QCetbohVu9ejVIzpjtmpGQxFWoUAGnTp0yGkKvHtdctmwZnnvuObPx4zFww4YNcfXqVRw5ckRVeRASZzZ8bjXQbiTujz/+UG9ChriEUqVKoXPnzmjZ0jjz0q3Qz2Sz1pA4Hp3enD4dXnnyIG///m4L5aXbMRi34SQ+71rNKnJHL9yysQdw60oUPLyy4fkxDRCUL/02Z24LsmxclwhoReJmHJ6BmUdmmr3nQTUG4fWamWdUmj1ZJgPNIXEGT9zatWvRoUMHDBo0CDNnZr4Xlvpg6RJ64XiMGhoaqgrW83eco2vXrvD09EzRjCSOv+caqeXQoUMqYcGSI1UmNHBNkszff/8dzZo1MwmVeOJMQuSyAzQncYmJiejdu7dyB/PLMXv27ApMplDzxmdqNd9WUn8gXBZtCzZmKYkjthd69kLskSPI5uuL0mvXwKdkxgVxLVDFqYZGxCag28zd+O9GFErmDcCKgQ1RIIefxXuIvBWL/evOq/ZdTbqXM7o+Pi4RPn7Sk9ViUOUCzRHQisR9uf9LLDq5yGz9X6j0Aj6oZ10cmNmLADCHxNGbxtg2Hk9WrFhRxazNnj1bedhyZJDUxTIfhuPPuLg4bNq0CVu2bFE/PFolMWNJEBazp/C7jEe1dFRkhcTFx8ereUgiqR+PUs0RIXHmoOSaYzQncZ999plyT/ODw8KFhgwbxgiMHz9evRFxDDN6RB4hYCmJ45UR6zcgbOhQeBcpgiJfT0RArVpuB+md6Hi8+uNBHAi9g2eqFMKM52vDw4L+q2kBM2RPG34fGR6LZWP3o3KTIqjzbDD8AqX2odvdZDresFYkzlk9cTyWLFmypCJkTEigfP311xg6dKiqXdqgQQOLrTl16lSVdZq6bIktjlPp8KBTg0kTP/30U0pyhTkKCokzByXXHKM5iStfvjyqV6+uMmzSE960DPyk21rEfBJHcpF0+za88j7qXMDf3V2+Ajk7tIfH/78huiOm9xOTMHP7Obz2ZBn4+zw68rAFFn/MP44z+6+rqZ55tSrK1C5gi2llDkHAJghoReKcMSYuMjJSxaGxThyrJPTp00dhfOHCBZQrV06VCdmwYcNjRehZk61AgYef6/DwcOTL9yjhib9jxikTFliehGSQklliA2PamCyRWWIDixTzxIqxc999952K4bNEhMRZgpZrjdWcxPn5+eHbb79Vnrj0hJ44tuSiy1rEPBJ3//x5XBs9BkkRESi1coXKOhUxjcCRS3dRrWjOLHnm/jt0A3t+OQf/7N7oNqyOZK6ahl1G2BEBrUgct6Dn7FRDxwa+yBo6NtBxwH+zWwO7NqQW1n1jiREer7KcCGu6hYWFYe/eveq4lESPwmPVvHnzokmTJiom7vr16+ooluSOzocyZcqkkDhDiRF2V2CJkeXLlyvCN27cOAwfPjzTu4DZs4zdY/xb2qLFvJClUAoWLJjhHELi7Pgh09lSmpM4fjj4IWHBwvSEBI5vH/wAiZhH4q6OGoW7Kx56NgsMfQ9501QqFxwfR2D3uXD0mbcfrSoVxKQeNbPkoUtKTEbsvXhkz/0o1i4pKRkbvzumjllLVs0r5E5uQocgoCWJY6Hf5399Xpd14gxgM7Y6KChIlRAh8SIhyqh3KuPbJk6ciH379iE6OlqRJJb0YG02/lDYCWLp0qUqW5W12vLnz6+yVEeOHIlq1aql2Di9Yr+FChVSx64kaKaEXkHG2GUk27ZtU57DjERInCmEXffvmpM4foiY2s0fHp2mFgZu0oX84osvqg+LiHkkLvHOHYS0aw//atVQaPTHKgZOJGME2Nmh9aQdCLkZrQbN71sXLSpm/FZrDZb/br+MP5c+DAl4smd5VHuqmDXTyDWCQJYQ0JLEUTG9dWzIElg2vNhA4vg95wgREucI1PWxpuYkju5nBo+yeCJdz4aK2cwUOnfunAo6ZYBpZq5ifUBlXy0MD+P9f/6JCtHRCHrmGSMFEq5ehVehQuLxMdMsLDvy8vcH0KFGEbzd0jjb1MwpMh22b20IDv1+Ad6+nnhxbENJeLAFqDKHxQhoTeIMCjFGbuvFrYiMj0SQTxBalGhhl7pwFgNipwuExNkJaFnmMQQ0J3FckW5oZqIy64Z14iisE8dWJmxHkitXLjFNGgQMD+Ofa9ZChbg4BC9bCv/q1QWnLCAQfT8RAT6emhHfu9djcPtqNErXzG+k5YldYaobRECQbQsSZwEKudRFEbAXiXNR+KzelpA4q6GTC7OIgF1IXBZ1dMvLDQ/jlSWDUdnPDzmeeQbFvp3kllhouelP1h1HiTwB6NdYm04WNy5EYsX4g/Dy9cSTPcqjUqPCWm5H5nZzBITEOeYGEBLnGNxlVUBzEvfDDz/gySeffKy9iQF8VsL+888/U9K/xSgPETA8jH9/9VXUrl4deQcMgIePeHJseX98v+s8xqw7oaYc3LIc3mld3pbTq7m2LTqFEzsfJu10HVobhcuK19nmIMuEKQgIiXPPm0Fi4tzT7ty15iSO2UI//vijSmBIT5iZyr+x+bDIIwSsKfYr+FmGwOYT1/H20n/w4AFUZ4eqRXNaNoEZo5OTH+D03qu4EXoPzXpXMLoi4maMaudlqDFlxnQyRBDIFAEhce55gwiJc0+724XEeXh4qMzUjEgc26G8+uqrYLsRESFx9r4HjodF4EbkfTSvaN+ivfGxifhx1B4E5fVD4+7lUKSceOjsbXtXXE9InCta1fSehMSZxshVR2jiiWMmKo9JKaxtw5o6rVq1egzDO3fuqISHW7du4ezZs66KsVX7Ek+cVbDZ5KK7MfG4eDsG1YtpR6yYzXrw14efkUZdy6LW0yVsortM4t4ICIlzT/sLiXNPu2vmifvkk0/AH1PHRKyuTWH1bFa5FhFPnKPvgfjEZPSZvw//XLyLb56riXbVtUlEiLwVi/1rzyPsv7voPaY+vLwftQdL26/V0ZjI+s6DgJA457GVLTUVEmdLNJ1rLk08cf/8848KzOeXEY9K2RIlbaNhErzAwEDUqVMHZcuWdS7U7KCteOLsAHI6S2w4ehVvLP5b/aVuydxY/lrDLLXpMrWL+LhE+Ph5pQzjZ2b9tCPIWyQ7aj9TUurNmQJQ/m6EgJA497whhMS5p90188SlhpMeuW7dumXY+sR9oc9850LiHHdnLN53EXP+ClHJDvmy+9pVkdB/w7Fh+lG1Zvn6BdG6XxW7ri+LOTcCQuKc237Wai8kzlrknP86TTxxmcFy8+ZN9Wf2oBPJGAEhcY69O+4nJsHX69ERJ7WxxzHnxeO3sGPJady7fR+9Pq6H3IUCHQuErO5UCAiJcypz2UxZIXE2g9LpJrILiWN7LSY3/Prrr4iKilIgZc+eHW3btsWnn36KcuVs3wbJ6SyRRmEhcfqy4Olr9zB0xRFM7lkTpfNn11S5pMRkXD0XgWIVchutc2zHZWTP44eSVfOajDfVVEGZXLcICInTrWk0VUxInKbw6npyzUkc4+NatGiBe/fuoWXLlqhQ4WGtrNOnT2PLli2KzG3btg21atXSNVD2Vk5InL0Rz3i98Kj76DRtF67cjUVOf2/8Orgpiubyt6uCUXfu46eP9yAxIRkVGhRCq76V7bq+LOYcCAiJcw472VpLIXG2RtR55tOcxDVr1gxsdr9582ZUT9P788iRI6r0SJUqVbB9+3bnQc0OmgqJswPIZi4Rl5CED1YdxZrDYehRtzi+6FbN7p6w0/uuYcvCk3iQ/ACt+lVGhfqFzNRehrkTAu5G4vi90bx58xQTe3l5IWfOnChdujQaN26skuqqVq2q+1uA35GMHz906BCuXr0K1lflHvr27asqN/j6Zh6bKyRO9ybWTEHNSVxAQAA+/PBDfPzxx+lugjful19+iZiYGM026YwTC4nTl9UYD7fy0GV0qlkUPl4eDlHuzrVo1cKLdeWyeWRL0SH88j0EBPkiIEjasjnEMDpa1F1JHMkaa5ImJycjIiICR48exapVq9S/R40ahTFjxujISo+rsmnTJkycOBH169dHsWLFVAejXbt2YcmSJWjXrh3WrVuXqf5C4nRtXk2V05zEFS1aFO+//z6GDBmS7ka+/fZbdfNevnxZ04062+RC4pzDYmzd1aRcPvilqvNmT82Tk5KxdOwBRN2OUyVJ6j4bbM/lZS2dIWAvEhd36hTu/bEZSfci4ZkjCDmebg2//w+VsSckBk/cnDlz8MorrxgtTQLXo0cPbNy4EfPnz0e/fv3sqZpN1nrzzTdVHdVTp06lhCKlN7GQOJvA7ZSTaE7iPvroI/z+++/YvXs3/P2N44jofWvUqJF60xg3bpzDADx27BiGDRuGnTt3Kh2aNGmCr776yiw3PDtTlCpVKl3d+XY4d+5cq/YlJM4q2Ox60cbj1zBw0SHV2WFOnzookMPPrutzsbMHrmPTvONq3arNiqJZL+P+rHZXSBZ0KAJak7j4CxcQNmIEYg8eemyf/nXroMi4cfApWdJuGGRG4qgEiVxwcLA6Yj1//rxRGMT69esxYcIEVdOUnq+aNWtixIgR6vsotcybN08RKUNXITom6PWbNWtWyjDWPX3++efVD+c4ceIEihQpgrfffjtDB4Y5INHBQSfI3r17lZcuIxESZw6arjlGcxJHAkcix6zUAQMGoHz58uqDxDcLEpwcOXKo1lve3t5GCDMZwh7CD+YTTzyBPHny4K233lJLTpkyBXfv3sX+/ftNZs4aSFynTp3QvXt3I5VZxDhtkWNz9yQkzlykHDOOje07Td+Ff69EgCebC1+uh6bl7F82h3qc2nMVh/+4iM7v1jY6Uk24nwQvHw+7x+85xiKyKhHQksTFh4YitFdvJN25kyHYnrlzI3jpErsROVMkjoq+/PLLWLBggSJWlSpVUrpPmzZNPe9bt26tqiTwO4lHl3zmL168GD179lTj2NubHjw+39u0aaPGhYSEqONNxrEZhL9nbPelS5cwcOBAkOitWLFCOQa++OILfPDBB2bdoHRs8Cc6Olrp8sYbb6jvRpK0tE6Q1BMKiTMLXpccpDmJY4BmajG04jK03OLfUrfnMtTi4puRPYTEi0STH8jixYurJflB5If92WefVR/EzMRA4vj2NXbsWJupLCTOZlBqNlFEbAIG/XQIbaoUQp+Gjj3GTK+G3ZYfTuJ2WDQadS2DouWNy5VoBopM7FAEtCRxoS+8kK4HLu2G6ZELXrTILjiYQ+ImTZqEd999F2vWrEHHjh1x5coVlTRApwLJnEH4ncOTIf6d/b/53dWlSxecOXMGx48/9HZnJIbvMJbR4vcGJSEhAU2bNlXxeQwXoqPAlDB2j3HiBqH37bvvvnssKTDtPELiTCHrun/XnMQtXLjQKvReeuklq66z5CJ6B/PmzaveutLqyfWXLVuG8PBwVQYlI0lN4kjkKJm9MZmrn5A4c5Fy7Lik5AfwTJVkQG3S+529tbx1JQrLxu4H2xPnL5ED//uornjk7G0EB6ynFYljDNz5zl3M3lGpNb/YJUbOHBLHEx8StkWLFqnjTp60DB48GAcOHFBHrallxowZGD16NBhiQ88avXCrV69WNU6Z7ZoZiWP5LJ4wpRZ69bgmv0uee+45k/jRy8efW7duYevWrYoA8qSKx7eZiZA4k9C67ADNSZyekduzZ49685o5c6ZygacW/m7QoEHgmMyORA0kjkTPUMiYx6hM5KAr3FoREmctco69jh6xIcsOI3eAD0a2qwQvT8dkst67HYe9a87hzP7r6Di4JopXNO0FcCxysrotENCKxN2cOg3h06ebrWK+N99E/jetf/6Zu5A5JM7giVu7di06dOignut8vmcmJFAsXUIvHI9R+Zxn1ih/xzm6du0KT89HHV3oiePvuUZqYcmQunXrWnSkmvp66s6jWJbjMhwFp6e3kDhz7xjXG+fWJI4p6DxONXy4U5uXv2McxMqVK1Xv14yEbnfGXHTu3BklS5ZEWFiYivU7ePAghg4dqgJnTQnrAvEntfB494UXXlB1g2rXrm1qCvm7ThCYtvUsJm46o7R5sUFJfNbZsTWq7l6PQa6CAUboMIbu9tVo1G5TEn6BxrGoOoFR1LASAa1I3LXPP8edH340W6vcfV5EoeHDzR5v7UBzSBy9aYxt4zO1YsWK6oV99uzZysPGmOz0hM9cw/FnXFwcWAKExen5w6NVErMdO3aAJbQoJHE8quWRrS1J3PXr11GoUCEMHz480+Q/IXHW3kHOf53NSRxJDaVEiRLqv4b/NwWVYbypcRn9nfEHbO9ljvCDx/V+/PFH9OnTR6WgP/3000aX8kPLNzCOIZmyRBhbwcQMBrXyTa5MmTKZXp42DiLtQ0BInCXoO3bssSsR6L/wAOISkvHzoEaat+iydLcJ8UlYNGoPYiLikSOPH174rAE8HOQttFR3GW8aAa1InLN64pidypdrEjIeU1K+/vpr9YJt6pQlI7SnTp2qsk5Tly0hibPFcWraNQ0nPSz4y6PejERInOnPhquOsDmJYzAob2i22SJZMvy/KQCzmsiQWamPtGuziwTf4GzhictoX8xe4psZ3/heffXVTLcvnjhTd4dz/f1aRJxq0VWnpP6SCW6FReHXGUcRGR6H+h1LoW7b9MvjOBfioq0BAa1InDPGxEVGRqo4NL6kM+aZL+yUCxcuqKoDjDPbsGHDY5URbty4gQIFCqixjInOly+f0Q3Gl3MmLPCUhWSQklliA49CmSyRWWJD6jVTL8bSV1yHnsTM4sSFxLnvM8DmJI43G2/oF198URE4cxMbsprIEBsbq9zb5gg/TPXq1VNvYlmNictoPQak1qhRQ7nA6Qq3VCQmzlLE9D3+emQcjly6i6erOL5dVlJiMk7uvqpad3n7PorrIcG7dysOJavmlSQIfd9OGWqnFYnjgnrOTjV0bGBMqqFjA0Nh+G+edLBrQ2ph3TeWGOHxKhPbWNONoTCsx8bjUhI9Ck9BmPzG2qGMiePxJl/MSe74jDecsqQuMUKvGUuMLF++XJ3GmPMdwCxYJjOQWLJKAktckXzy+JZrs784W4plJELinPQDawO1bU7iUuvEI07GIZA08QOgNzGVnbp06VL1wcosOzWjPTHegrF0jI/jA8ZSERJnKWL6HR8Tn4ges/eqmnLDnqmA15uV0SVJWjf1MC4ev42iFXKh3aAaRgRPv+iKZqkR0JLEsdBvaM9euqwTZ8CAyQZBQUGqhAjJD7s4ZNQ7lQSJxXT37dun6rIVLFhQFfzt1auX+qGwEwS/B5itSmKVP39+laU6cuRIVKtWLQX69Ir9MpaNx64sb2JKmL1KBwiJ4c2bN1WvVBJMdpwg2ZTeqaYQdN+/a07ieKRKd3BGbbccDT2JFt94mBpuIJqGOnGMieORq0F47Mk3O759GYoT3759+zE3Ob2C/KDzg884PUP9OUv2KiTOErT0PXbHmZt4+fsDqvRI03L5sKDvEw7LWs0IKSZALP5kHx4kP0CJKnnR4a0a+gZVtEsXAS1JHBfUW8cGvdwGBhLHMiaOEPHEOQJ1faypKYnjFplA8M4776gfPcrp06fV0Spd5nxrorCOED1wrJjNYFWD9O3bVx0Ps32Lob4QU81ZYZtlSEgC6ZLnGAbRsr7Phx9+aNW2hcRZBZtuL/rr7E1M3nwW8/s9gSA/fWaE3rkWjb1rQvBEu1LIV+xRbUR2fuBPQJCPbvEVxR4ioDWJM+Acd/r0w96pkRHwDMqJHK1b2aUunF7tLCROr5Zxfb00J3EsgEtPF+PP0rbW0gu8dGEzgHTXrl1KJbrhv/zyy8eqZKdH4thXj6SNZJBeOR69Mo6CxSSZ2GCtCImzFjn9XpdeV4X7iUnw9XoUl6ZH7Q9sOI9/Nl1EradLoGbrEvD20be+esTQXjrZi8TZaz/Oso6QOGexlOvpqTmJ++2331SxQn6BMUuTsQrpdTSwV69UZzGhkDhnsZT1ev598Q4GLfobk3vWRP3Sea2fSMMrY+/F48eRe5QnLjCnD57/rKGQOA3xzurUQuKyiqB11wuJsw43uSrrCGhO4jLqnWpQ3d69UrMOmX1mEBJnH5wdtcrNe/fx7OQ/ER4VD2/PbNj8bjOUzBvoKHUyXDc5KRmn9lzD/nUhqNehNCo3KWI0Nj3vou424UYKCYlzI2On2qrExLmn3blrzUmcoeSIKYizWmLE1PzO9nchcc5mMcv0JfmZtPkspmw5i9ealcZHz1aybAI7j2aRYE/PbEaFgS+dvI19a0PQqGtZFCmXy84ayXLpISAkzj3vCyFx7ml3u5A494U2azsXEpc1/Jzl6t3nwtGgVF54eGRzFpWVnsxiXfHFQdy8eA/ZsgEvjG2IoLz+TrUHV1RWSJwrWtX0noTEmcbIVUdo7onbvXu3KsL70UcfpYvhF198AXZQaNiwoatibNW+hMRZBZtLXLR430W0rlwQ+XP46nY/8XGJ2LHkNM7sv45KDQujRR99exJ1C6SNFRMSZ2NAnWQ6IXFOYigN1NScxLHWGpsMs3p2esK2KCy6++uvv2qwPeedUkic89ouK5ovP3gJw1YeRdFc/pjf9wlUKJR+g+6srGHLa29eugf/7D7InvsR4YyOuI+j2y6j9tMl4Bugz3IqtsRAT3MJidOTNeyni5A4+2Gtt5U0J3Gsgs3s1IyqVn/77begN+7atWt6w8ah+giJcyj8DlmccXIvLTiAP8/chI+XB5YMqI86JfM4RJesLLpj8Wkc+/MKfAO80GVobeQt8qjmXFbmlWtNIyAkzjRGrjhCSJwrWtW8PWlO4lhO5Ouvv8agQYPS1Yg97N577z3ExcWZp7GbjBIS5yaGTrPN+MRkfLzmGBqWyYtONYs6HQhJCclYOnY/2AEiT5FA9BhZz+ni/ZwO9FQKC4lzZutZr7uQOOuxc/YrNSdxlSpVUo3g2X8uPWHzYT54zpw54+xY2lR/IXE2hdPpJ2P/VRYF9nSCBAgSuWN/XUHuQgEoUflR/TsmQ4SdvYsi5XPpsnes098kduzY4ApYudIehMS5kjUt24vmJO7jjz/GuHHjVCurN954w0i7GTNmqOa+THoYO3asZZq7+GghccfyFsIAACAASURBVC5uYAu2l5iUjFd+OAiPbNkwpVctZPf1suBq/Qw9ve8aNi84gaIVcuGp3hWRq2BApsqFX76HkH9u4n5sInz9vVC6VgGjdmD62Zl+NBFPnH5sYU9NhMTZE219raU5iWNf0aeeegqHDh1SfVSrVq2qEGBz+AsXLqBu3brYvn07AgIyf6DrCzbttRESpz3GzrLC15tOY+rW/5S6XWoVxaQeNZ1F9RQ96YVbNHovIm/GwsvbAy981hCBudLPvr17IwZbfziJq/9FPLbPwmVzqkzYXAXkeZHeTeBuJI7fHc2bN0+BwsvLCzlz5lSdgRo3boz+/funfOc404dm69ataNmypVL57NmzKFu2bKbqC4lzJuvaVlfNSRzVZbzbxIkTsWLFCnVDUsqVK4cePXqoeDhfX/2WUrAt3ObPJiTOfKxcfWTY3Vj0X3gQt6Pv45c3GqNwTuesx3bnWjT2/HwOeQoHokHnMkZmYzFh9mRlLN2qCYcQF5WQoVn9snuj27A6QuTSQchdSRzJGp0FycnJiIiIAPthr1q1Sv171KhRGDNmjNM8JuLj41UI0qVLlxAdHS0kzmks5xhF7ULiHLM1515VSJxz28/W2kfdT8S1iFiULaDvkiPm7JteuWypYvtI7lZ9dQg1WhbHheO3cD0k0uQ09Mh1HVrH5Dh3G+CuJG7OnDl45ZVXjMxNAkdHwcaNGzF//nz069fPKW6H8ePHg1Ubevfurf4rnjinMJvDlHQYieNR6q1bt1CrVi0JcjbxRl27dm2H3SCysH4RCA2PxtZTN9CvcbBTf4Z+m/UvQg7ftBhoZr7mKyblS1IDZy8Sp5d4RcNxanokjriQyAUHB6sj1vPnzxt9TtavX48JEyaoxLqkpCTUrFkTI0aMQLt27YzuxXnz5oFVFAynSEWLFlVev1mzZqWMy5YtG55//nn1wzlOnDiBIkWK4O2338aQIUPMvrf5vVi5cmVMmzZNhRt98sknQuLMRs89B2pO4mbOnIm//voLixcvTkH4zTffBH9PYYwcz//z5n2UxeaepjDetXji5C7IDIGImAR0mbELIeHR6FG3OMZ1qQovTw+nA4218U7uuop960Lg6eWBe7fMLzX0RPtSqNe+lNPtWUuFtSZxeotXNEXiiPXLL7+MBQsWKGLFagkUkiQm1bVu3Rpt27ZV5G7JkiXYv3+/+q5i1QQKe3/Tg9epUyewcD3HhYSEYN26dTh58qQRiatSpYo6Ah04cCBI9Bg+tHPnTlUHlbVSzRGuc+PGDbDTEQmckDhzUHPvMZqTuCeeeAJ16tRJeWvZtWsXmjZtCnZqIIGj65g15PhGJPIIASFxcjdkhsChC3fw0vz94DFr++qFMaVnLaeux8aYuD+Xnsap3eYX/a7eohiaPldebpRUCGhJ4vQYr2gOiZs0aZIqNr9mzRp07NgRV65cUYkPAwYMUGTOIPTGNWrUSP394sWL8PDwQJcuXVT5q+PHj2d6n5HcUdh56Nlnn1X/TkhIUN91jM+7fPky8uTJvHA3PYMkcSSS/M5kHJ+QOPl4m0JAcxKXL18+jB49Wr31UN555x31hmL4kLz//vvqwyV14oxNJSTO1K0rfz997R6mbD2Lr/9XA37enk4PyP51ITiwIdTsfYgn7nGotCRxqyceSjdjOK0W9oxXNIfEzZ07VxG2RYsWqeNOlrsaPHgwDhw4oI5aUwvLXvH7itUT6FmjF2716tWKnDHbNSMhiatQoQJOnTplNIRePa65bNky5bjISGJjY9V69AzOnj1bDRMSZ/ajwK0Hak7iWDqEbzt0aVOqVasGeucYaErhf3m8ylIkIo8QEBInd4O1CNyOjkeeQB9rL3fYdYyzWjb2gNnrS0yc/UicXm1jDokzeOLWrl2LDh06qJMfQzhPRjcbQ3xYuoTOBR6jhoaGolixYup3nKNr167w9Hz04kQSx99zjdTC0loso2XqSHXkyJEggeR6dHwIiTP7MeD2AzUnceXLl1eBovwg0fvGNx/GGfTp00eBz2PUL7/8EuHh4W5vjNQACImT28EaBP46exOv/nAIn3etii61ilkzhUOvMdfbk7OAP/73YV34Bng7VF+9La6VJ06vXlJzSBy9afzOYQxbxYoVVcwavV30sOXIkX62N5PJDMefLJG1adMmbNmyRf3waJXEbMeOHSn1TUnieFTLUyVLSVxYWJg63mUCROoMW3oMp06dqtbk9ybHZCRSJ05vn0T76aM5iWOmDnun8ubct28fTp8+rd5qDB8QupqZ9cM4ABHxxMk9YD0C9MA1m7AN9+ISwRCdTUOeRLmCzlWShIHzLDeSWZ04H39PxMcmwTfQC81fqIgytQpYD5qLXakViftr+Rkc3XrZbLTsFa9oisQxO7VkyZLq+4YJCRR+Hw0dOhR79uxBgwYNzN6TYSCJFbNOU5ctycpx6uHDh1WVhswkMDAQUVFRQuIstpbrX6A5ieNZ/+uvv67czLly5VIfIAaLUvgBYxo24xM+//xz10fbgh2KJ84CsGRoCgKrDl3Gh6uP4p3W5THoqcyrvOsVNlMZkN5+nrh47LZS/38f1UWBkkF63Yrd9dKKxDmjJy4yMlLFobFO3MKFC1NOf1i6g8XmWSZkw4YN8PY29uYyO7RAgYcvBjwhMhxvGozJjFMmLPAUiWSQklliw5EjR1SyREaJDfwe/OOPPx67V5YvX67ix0kaeZTbuXNnIXF2/0Tpf0HNSVxmELC69r1795RLOu0HSf/QaauhkDht8XXl2f+7EYUy+QOdunac+gK9HKXqx92PSVDHpqVr5ld14ZISknHszyuIuBmLJ3saZ6dG3opV488fDnfLnqtakTi9x8QZOjawZI2hY8PKlSvVv5kgwK4NqYV135hsx+NVlhOhM4HHmnv37lXHpSR6FB6rsvxVkyZNFJG6fv26OooluWPWaZkyDzuPkMQZSozQacESIyRhJHzsHT58+HCLHzmS2GAxZG55gUNJnFsibuamhcSZCZQMM4kAv9i+3XxWlSJxtuNVk5tLNeB6aIQ6in2Q/PhV7tJzVSsSR0TNjVd0RHaqweJMNggKClLxYyReDOMx9OtOe1cw1oztIBnmw/ZWBQsWVAV/e/XqpX4oLCK8dOlSla169+5d5M+fX2WpMhGBSXoGSa/Yb6FChdSxK8ubWCNC4qxBzf2usQuJu337tjpG3bx5sypk+NNPP6l6PHybYfAm34RYpVrkEQJC4uRusBUCc/8KwdgNJ5HD1wuz+9RBozIPs99cSVjDbOnY/cpLl5G4Q89VLUmcOfGK7oBxeveXgcSxjIkjRBIbHIG6PtbUnMQxFoBvLvwv4xCY2MDz/xYtWigEWFvnmWeeweTJk/WBiE60EBKnE0M4uRr0wn20+l8sPXAJ2X29sPL1hqhYyPViyPToJXLEraMlieN+TMUrtuhTCbkKBDhi6w5dU0icQ+F368U1J3EvvfSSalHCLCLGHTBglB45A4kbNmyYKqRId7WIeOLkHrA9AiRyM3ecQ6VCQWhe0fUyOfUar2V7S5qeUWsSZ9Ago3hF0xq65gghca5pV2fYleYkjnEGr732Gj799FPV8J4xBalJHIsufvTRRyreQERInNwD9kPgTnQ8fLw8EOjrZb9FNVhJr5mTGmzV5JT2InEmFXGzAULi3MzgOtqu5iTOz89PdWxggGl6JI4xcSRxDCwVERIn94B9ELifmITn5+xDTHwS5vWti8I5/e2zsAar6LWGmQZbNTmlkDiTELnkAImJc0mzmrUpzUkcU7gZ8/btt9+mS+JYx4fFfv/55x+zFHaXQRIT5y6Wdsw+v950GlO3/qcWb1e9MKb3ru0YRWywalY8cf9uv4y8xbKjSNlcNtDE8VMIiXO8DRyhgZA4R6CujzU1J3FsJszMVPaiY00dHqcytZs96FiAkT1V2Vfu/fff1wciOtFCSJxODOGiakTdT8Rbi//G+fBo/DyoMXI7Ya9Vg2msjYmLDI/FT6P3IjnpAezVYUDr20lInNYI63N+IXH6tIs9tNKcxLFjQ6tWrXDw4EHUqVNH1eRp2LAhWHaEmaqs5cMYOSn2a2xuIXH2uP3de43EpGTcio5HwSA/pwfCmuxUeuH+XHpG7f2Z16q6RPsuIXFOfytbtQEhcVbB5hIXaU7iiFJCQoI6TmXRxFOnToGdGlhupHfv3qoQoo+Pj0uAactNCImzJZoyl7kInAiLxPKDlzCiXSV4e3qYe5nDx1lbw+zmxXs4ve8aGncva9Thgt69HHn94evvXEkfQuIcfis6RAEhcQ6BXReL2oXE6WKnTqaEkDgnM5gLqHsjMg6dpu/C1Yg4NC6bF/NeegJ+3p5OszNb1TBLSkzG4jF7Vduu+h1Ko9pTxZwGAyFxTmMqmyoqJM6mcDrVZHYhcTw2ZfIC+6SyJUr58uWVJ04kYwSExMndYW8Ezl6/h5fm70dYRByer18CYztXdcr+q1mtYXb8ryvY/tNpBX/N1iXQuFtZe5vC6vWExFkNnVNfKCTOqc2XJeU1JXFMXPjkk09Smgmn1pS97dgb7vnnn8/SBlz1YiFxrmpZfe/rxr04zPkzBMOeqehUx6m2RJWtu/7dcRnHdlxB9w/rwi/QO2X6xIQkeOnYOykkzpZ3gvPMJSTOeWxla001I3Es7kuSlitXLnTp0kU1C86RI4fyxh05cgS//PILIiMj8dlnn2H48OG23pfTzyckzulN6FIb+O/GPZQtkMOl9mRqM8nJD+Dhkc1o2Ma5xxAXlYBGXcsifwn94SEkzpRVXfPvQuJc067m7EoTEnf8+HHUqFEDTz/9tEpm4BFqWiGBY404lhshqatcubI5+rrNGCFxbmNq3W90w9GreHPJ3xjcspz6YXV6d5TroZFY+cVBtfXCZXOi69A6uoNBSJzuTGIXhYTE2QVmXS6iCYljxukPP/yA8+fPK+9bRkIiV6pUKfTt21fVkhN5hICQOLkb9IBARGwCmnyxFffuJ8LTIxvWv9UElQo//lKmB1211uHu9RjsWvUfQo+Go+v7dVC4TE6tl7R4fncjcezJzZqjBvHy8kLOnDnBcJ3GjRujf//+qFq1qsU42vuC0NBQ9V2YnnAPc+fOzVQlIXH2tph+1tOExNWvXx81a9bE7NmzTe6UfVXZrWH//v0mx7rTACFx7mRtfe91b8gtvPbjIXz4bEX0qldC38raQbtbYVHIWyS70UpMhoi9l4AaLYvD29dxGb3uSuJIdJ566ilVvioiIgJHjx7FqlWr1L9HjRqlQnv0LAYS16lTJ3Tv3t1I1bJly6JBgwZC4vRsQAfqpgmJY1cGfmjeeOMNk1ubPn062NUhPDzc5FgtBmzatAkrV67EoUOH8O+//6qadvQgBgcHm71cUlISJkyYoN6WLl26hOLFi6tesexC4elp3QNdSJzZ8MtAOyBwOzoeeZy4q4OWELEUyaKRexAXnYA8RQLRc2Q9ZEsTS6fl+qnndlcSN2fOHPXMTS0kcD169MDGjRsxf/589OvXz15msHgdA4kbMWIExo4da/H14omzGDKXuUATEsfivfzQvPDCCyaBWrRokWq9FR8fb3KsFgN4lLtkyRKVeHH//n0cO3bMYhI3aNAgzJw5Uz0kGjVqhN27d2PBggXg70lSrREhcdagJtfYCwEG/Y/45V+0q1YETcrls9eyulzn+vlI/DrzKGIi49GoW1nUau04b6W9SNyN0BD8d2AP7kdHwzcwEOXqNUL+kukfB2ppNMNxanokjuuSyPGFnEesfDlPHc+5fv169fJNzPgiztMjkqh27doZqTxv3jz1HGeZLErRokWV12/WrFkp4zgvKy3wh3OcOHECRYoUwdtvv40hQ4aYhCA1ieP1FH9/f5PXGQYIiTMbKpcbqAmJ8/DwAMkZOzKYkp9++gl9+vRRHyJHyJUrV5AvXz74+vpi5MiRGDdunEUkjt47JnG89dZbmDx5csoWBg8ejKlTp6qkDRJES0VInKWIyXh7IjBx42lM2/afipP7tkdNdKhRxJ7L626thPtJ4JFq1WZFjUqQsPNDQlwSCpfNZRedtSZxd66FYePMybhy6vhj+ylasQravD4YuQvZ714wReKoJJ0EfKkmsapUqZLSe9q0aeqZ3bp1a7Rt21aRO77MM6xn8eLF6Nmzpxr3/fffq5dzHnO2adNGjQsJCcG6detw8uRJIxJXpUoVdRIzcOBARfRWrFiBnTt3qt7gH3zwQab2N5C47NmzIyoqSo3lMSoJoDknWkLi7PLx0uUimpE4urZNneMTkT179iivnaNIXGqrWEPi+Nb0+eefqw926sBUvvUxuJblU0gMLRUhcZYiJuPticD0bf9hwsbTyB3gjV/eaIySeQPtubxTrPXgwQP88s0/CDt7F6Vq5EObAVXh6aVtKzMtSdydq1ewZNT7iL0XmSH+/jmC0GvsRLsROXNI3KRJk1R7xzVr1qBjx47gizufzQMGDFBkziD8DuJJCv9+8eJF0BnB8lhnzpwBKy5kJgYP36+//opnn31WDWVoTtOmTVV83uXLl5EnT54Mp+B6JJudO3dGyZIlERYWpsJz2HN86NChymOYmQiJc4pHgiZKakbiLNGWHwBnJXF8O6O37dq1a49tuWDBgqhVqxZ+//13S+BQY4XEWQyZXGBnBFh6pECQL54IzvjLyc4q6Wo59mVd/vkBpVOZWvnxzGuWe+Qt3ZCWJG7p6A/S9cCl1ZEeuZ6ffGmp6laNN4fEkQyRsPF0iMedU6ZMAU9KDhw48Fjs84wZM1SMNsNq6FmjF2716tUgOWO2a0bC77AKFSqo3uCphV49rrls2TJVUssS4XdiixYtlDePRLJMmTIZXi4kzhJkXWusJiRux44dFqPUrFkzi6+x9QXWeOJ4VMoYQCZGpJXatWurtzEeuWYmV69eBX9SC131jCnkvJxHRBBwBgSuRsQiG7KhUE4/Z1BXcx1vXIjEvjUhaNqjPHIVDEhZLz4uEQ8eAL7+XjbVQSsSxxi4Hz9422xd+3w11S4xcuaQOIMnbu3atejQoYOKVWYMc2aydetWVbqE5Ikv6jzuLFasmPod5+jatatR0hpJHH/PNVILn99169Y160g1PX14bEvvISs9vPrqq0LizL4D3WegJiTOEfCRLJ07d86spQMCAlCixOPBx9aQOL4d0ePGZIa0Qtf8jRs3YHhLykg5ZvKyPVl6IiTOLJPKIB0gEH0/Ed1n7cGd6HjM61sXVYror46aDmBSKuz5+T+c2HkVddsGqzg6Wx2zakXidq/4CXtWLjEbvobde6PR/0zHRJs9YQYDzSFx9KYxto0vxhUrVlQxayRF9LBlVMeUL86G48+4uDiwigEL0/OHR6skZnRW8LuEQhJHssUjW1uSOB7FMuaaITmZdTYST1xW7yTnvd5lSFxmxRLTmodeP37404o1JE48cc5784vmtkVg6paz+PqPM2rS9tULY1pv8SCnh3DUnTgs+ngv2KM1KJ8feo9uAE9v28TKaUXitn3/Hf7+zdjLlNndU/vZjmjeN2PPka3uPFMkjtmpjDEjIWPcMoWF5Rlnxnhsc+K20+rKhDVmnaYuW6LFcSrXJdHs1q2bio9jLbyMREicre4o55vHZUhcbGysejMyR/iBrlevnk1InMTEmYO4jHEHBBKTkvHp+hM4GHoHKwY2RKCvbY8KXQXDxIQkHNtxBQd/C8WTPcqjfL1CKVtjMkRW2pppReKc0RNnaO3IOnELFy5UVRAoFy5cQLly5VSZkA0bNsDb29vo1uLpSYECBdTvWL+U1QtSC2PUmLDAZAOSQUpmiQ2MmWayRGaJDbdv337s7/xOYxwe4/N4ysT6o0LiXOUpYLt9uAyJswUk1nji6OIeP368ZKfawgAyh0sgwGNVIXCmTXk/JgE+fl5GhYHPH7mJf7dfRsMuZZG/RMYtCzOaXSsSp/eYOEPHBpJgQ8cGFnHnvxmuwq4NqYV131hihMerLCfCmm7MCN27d686LiXRo/BYNW/evGjSpImKibt+/bo6iiW541GnIdmAJM5QYuT1119XJUaWL1+ukhJMHYVyHcbYxcTEKM8g16EuJJ70HvL75cMPP8z0hhJPnOnPm6uOEBKXyrKmSByTD/hQ4AfX8PbGtyxmoGZUJ+7w4cOoXr26xfePZKdaDJlcoFMEDoTexuwd5/BNj5oI8jP2euhUZYeolZyUjKWf7cedazHw8MqGlz5vjIAgH4t00YrEUQk9Z6caQGKHnKCgIFVChMSLpa4y6p3K+LaJEydi3759iI6OVrHNLPjbq1cv9UNhEeGlS5cqb9jdu3fBbkT0jvG7InX9z/SK/RYqVEgdu7K8iSlhQWGSttOnT4NeOdaLI4FkFi1j7UyJkDhTCLnu392exPFtypBRtHnzZnUk+9577yFXrlzq580330yxPrs78IOWti2XIVCWAbT8gO/atUsVl2Rf2NRVvS25jYTEWYKWjNUrAhduRaPz9F24E5OAcgWyY+2bTeDvY10rOr3u0VZ6xUUlYMsPJxF6NBzVmhXFk70qWDy1liSOhX6XjByqqzpxFgOk0QUGEscyJo4QIXGOQF0fa7o9iTNU5E7PHAyIZcKEQTIicYmJifjqq69U8CmLOtIdzjfAYcOGwcvLurggIXH6+ICIFllD4EZkHF754SCOXo7Am83LYmgby4lJ1jRwvqtZHJjlSFJ74e7djsOZ/ddQvUVxeGdCgrUkcURSbx0b9GJdIXF6sYT76eH2JE6vJhcSp1fLiF6WIhAbn4TF+y+iX6NgeDioMbylOutt/JbvT+DU3msIzOmDru/XQVC+9Ptqak3iDLjcvHAeZ/ezd2oUfAOzo1y9hnapC6c3uxj0ERKnV8u4vl5C4nRqYyFxOjWMqGUzBHaeDUfjsnmzlI1pM2V0PBELAy8evRfREfEq2eF/H9Y1SoZIrbq9SJyO4XKIakLiHAK7LMrM6AdM5xHRHQJC4nRnElHIhggs3ncRw3/+F11qFcUX3arB10vi5DKDl0TuyJZLKFI2F4pWyJ0ylMkQNy9GoWCpIPU7IXE2vEmdaCqJiXMiY9lYVSFxNgbUVtMJibMVkjKP3hCIup+IZl9tw63oePh6eeDnQY1RuchDEpJaToRFYuPxa4iMS1BZrc9ULYRKhR8fp7f92VOfY39ewY7Fp1GqRj7V2uts6AnUqVNHtetjlialbNmy9lRJ1nIAAkLiHAC6TpYUEqcTQ6RVQ0icTg0jatkEgXM3o9D/+wN4v01FtKte2GjO0PBoDFt5FPtDbz+2Vr3gPPiqe3UE5wu0iR7OPElSYjJ+GLEbMRHx8PbzxItjG+LkmWNC4pzZqFbqLiTOSuBc4DIhcTo1opA4nRpG1LIZAvcTkx47Rg25GYVuM3erkiQZSe4Ab+W9EyIHXA+NVH1Yi1XIo/qwynGqzW5Pp5pISJxTmcumygqJsymctptMSJztsJSZnAOBhKRk1B27GRGxGRM4w07okVs+sKFzbExjLRnWzMhmZv4KidMYbJ1OLyROp4axg1pC4uwAsjVLCImzBjW5xpkReOOnv7Hh36tmb+G3wU0lRi4NWkLizL59XGqgkDiXMqdFmxESZxFc9hssJM5+WMtK+kDg9UWH8Nuxa2YrM6RVOQxpVd7s8e4wUEicO1j58T0KiXNPu3PXQuJ0anshcTo1jKilGQKfrDuOBbsedUgxtVC/xsEY3aGKqWFu9XchcW5l7pTNColzT7sLidOx3YXE6dg4opomCEz64wwmbzlr9tziiXscKiFxZt8+LjVQSJxLmdOizYgnziK47DdYSJz9sJaV9IEA68K1nfKX2cpITJyQOLNvFhcfKCTOxQ2cyfaExOnU9kLidGoYUUtTBJ6btSfd+nBpF5Xs1PTN4G6euO3bt6N58+YpYHh5eSFnzpwoXbo0GjdujP79+6Nq1aqa3rO2nPzq1av49NNPsWHDBly/fh158+ZFvXr1MHv2bBQsWDDDpYTE2dIKzjWXkDid2ktInE4NI2ppigAL/XaZsUvqxFmJsruSOJK1p556CsnJyYiIiMDRo0exatUq9e9Ro0ZhzJgxViJqv8vOnj2LJ598Ev7+/ujbty+KFSuGmzdvYs+ePZgwYQLKlSsnJM5+5nCalYTE6dRUQuJ0ahhRS3MEzO3YkJT8AJ4e2TTXx5kWsBeJiw+LQuzxW3gQl4hsfl7wr5oPPoXt30XD4ImbM2cOXnnlFSNTkcD16NEDGzduxPz589GvXz/dmpK1/urXr4+kpCTs2LED2bNnt0hX8cRZBJdLDRYSp1NzConTqWFELbshcPLqw96pLP6b098bbao86p267dQNfLXxNL57sQ6K5wmwm056X0hrEpcYHovbK88gPjTyMSh8goOQp3t5eOXztxtMmZE4KkEiFxwcrI5Yz58/j2zZHpH+9evXKw8XMSN5qlmzJkaMGIF27doZ6T9v3jxMnz4d9JRRihYtqrx+s2bNShnHeZ9//nn1wzlOnDiBIkWK4O2338aQIUNM4rF161a0bNkS69atQ/v27REXFwcPDw/4+PiYvJYDhMSZBZNLDhISp1OzConTqWFELYcjcPb6PXSevgvR8UkokMMXW4c+hey+Xg7XSw8KaEniEsJjcXPGYSTHJGa4VY8ALxQYVNNuRM4UiaOiL7/8MhYsWKCIVaVKlZTu06ZNw1tvvYXWrVujbdu2itwtWbIE+/fvx+LFi9GzZ0817vvvv1cevE6dOqFNmzZqXEhIiCJbJ0+eNCJxVapUwaVLlzBw4EBF9FasWIGdO3fiiy++wAcffJDp7TFs2DBFKLmf4cOHY/fu3Woteue++eYbNGyYeXcSIXF6+PQ5RgchcY7B3eSqQuJMQiQD3BSBmPhEDFl6GJtOXMfIdpXwStPSborE49vWksTdmHUkXQ9cWi3okSswsIZdbGIOiZs0aRLeffddrFmzBh07nTAGzQAAGkxJREFUdsSVK1dU4sOAAQMUmTMIvXGNGjVSf7948aLyhHXp0gVnzpzB8ePHM92PwcP366+/4tlnn1VjExIS0LRpUxWfd/nyZeTJkyfDOTp37qz0y5cvn7qmV69eCAsLU0kOMTExilxWq1Ytw+uFxNnldtPlIkLidGkWGPVArF27tk61FLUEAccgkJz8AJtOXFNHrKmPyByjjX5W1YrEMQbuxpR/zN5ogcG17RIjZw6Jmzt3riJsixYtUsedU6ZMweDBg3HgwAF11JpaZsyYgdGjR+PYsWOgZ41euNWrV4PkjNmuGQnvwQoVKuDUqVNGQ+jV45rLli3Dc889l+H1rVq1wpYtW9SR6ubNm1PG/fXXXyrZ4X//+x+WL18uJM7sO9B9BgqJ06mtxROnU8OIWrpFgMHhKw5dRqeaReDr5albPbVUTCsSF/HHBdzbctFs1YNalUBQq5Jmj7d2oDkkzuCJW7t2LTp06IBBgwZh5syZmS7JGDWWLqEXjseooaGhKluUv+McXbt2hafno3uMJI6/5xqp5dChQ6hbt67JI1Veyxg9Ht++9NJLRnOQaMbGxqqSIxmJeOKsvYOc/zohcTq1oZA4nRpG1NItAjO3n8OXv59C1SJBaFQ2HxKSkhHk541nqj5KiNCt8jZSTCsSd3fdOUTtCjNby+yNiyBXhzJmj7d2oDkkjt40kiPGsFWsWFHFrLHuGj1sOXLkSHdpnn4Yjj+ZZLBp0yblKeMPj1ZJzJhFGhDwMKmGJI5HtTwStYbEGXT67bff8MwzzxjN0aBBA3UyEx8fLyTO2hvFha8TEqdT4wqJ06lhRC1dIhAbn4SW32xH2N24dPVjceCvuldHcD77l8GwJ2BakThn9cQxO7VkyZKKkDEhgfL1119j6NChqv4aCZKlMnXqVJV1mrpsSVaPU5kByxIp6ZVKoQeQwri6jEQ8cZZa0XXGC4nTqS2FxOnUMKKWLhE4Hx6NztN3IiI248zJ3AHe+HlQY5cmclqROGeMiYuMjFRxaKwTt3DhQvTp00fduxcuXFCFc1kmhJ0RvL29je7pGzduoECBAup34eHhKtkgtTDjlMkHzCYlGaRklthw5MgRlSyRWWID1yHZZPLCrl27Uo5qecTKo1YWM2Zsn5A4XT5+HKqUkDiHwp/x4kLidGoYUUuXCEi7rodm0YrEcW49Z6caOjYwLtLQsWHlypXq3+zWwK4NqYV131hihMerLCfCmm7MBt27d686LiXRo/BYla2vmjRpomLiGJfGo1iSLmadlinz8MiYJM5QYuT1119XJUaYiEDCN27cOFU2xJRMnjxZ1ZQjQST5JPFjEkZgYCAYW1e8eHEhcaZAdMO/C4nTqdGFxOnUMKKW7hA4ERaJtlP+Mluv3wY3RaXCQWaPd6aBWpI4Fvq9odM6cQYbMdkgKChIlRAh8eIRZUa9UxnfNnHiROzbtw/R0dGqNykL/rK8B38oPN5cunSpyla9e/cu8ufPr7JUR44caVTyI71iv4UKFVLHrixvYq4wg5Z14VjTjvF2rGM3fvx4tZ/MRI5TzUXY9cYJidOpTYXE6dQwopbuEJj0xxlM3vKwmr45MqRVOQxpVd6coU43RksSRzD01rFBLwYykDiSMEeIkDhHoK6PNYXE6cMOj2khJE6nhhG1dIfAJ+uOY8GuULP16tc4GKM7VDF7vDMN1JrEGbCIvxqNuOPhSI5NhIe/F/yqOKZ3ql5sIyROL5ZwPz2ExOnU5kLidGoYUUt3CIgn7pFJ7EXidHcTOFghIXEONoAbLy8kTqfGFxKnU8OIWrpDwJqYuKTkB7gZdR/NKzzMQnQVERLnGEsKiXMM7rIqICROp3eBkDidGkbU0iUClmSnTu5VE52n78LNe/fxcfvK6Nu4lC73ZI1SQuKsQc35r5GYOOe3obU7EBJnLXIaXyckTmOAZXqXQiA0PBpdZuzCnZiEDPdlqBP3z6U7eHf5ETx4APRtFIwxHV0nPk5InEvd1mZvRkic2VC53EAhcTo1qZA4nRpG1NItAiRyw1Yexf7Q24/pmLZjwx8nruOXw1cwpWcteHpk0+2eLFVMSJyliLnGeCFxrmFHa3YhJM4a1OxwjZA4O4AsS7gkAievRmLj8WuIiE1ATn9vtKlifu/UqPuJyO7r5bS4pH5u5MqVC4mJiShf3jXLqTitkTRQ/MyZM/Dy8jJZT06DpWVKByMgJM7BBshoeSFxOjWMqOWyCKw5fAVjN5zEnD51UbN4LqfcZ+rnBttFsYht2bJlH2st5ZSbE6XTRSAhIQH0xLGzQ4kSJQQlN0NASJxODS4kTqeGEbVcEoHT1+6hw9SdiE9KRg5fL+z8oAVyBhj31HSGjad+brDK/9WrV1UHg8KFC8PDw8MZtiA6WoBAcnKysjH7xNLG9L6KuBcCQuJ0am8hcTo1jKjlkgiw5MgXv53EnL/O46vu1fFc3Yz7VOoZgNTPjVq1aiE0NBRxcXGKwLEllYhrIZCUlAQSOT8/PwQHB6seriLuhYCQOJ3aW0icTg0jark0Aocv3XXao1QaJu1zgzFxt2/fRlRUlPqyF3EtBEjOs2fPjjx58qiYOBH3Q0BInE5tLiROp4YRtdwKgeTkB5i27T/0aVgSuQJ8dL93eW7o3kSioCBgUwTcnsRt2rQJK1euxKFDh/Dvv/+CQaLnz59XrmlzhMcVpUqlXyy0f//+mDt3rjnTPDZGHsZWwSYXCQI2RWD8bycxe0cISuULxIK+TyA4X6BN57f1ZPLcsDWiMp8goG8E3J7E9e3bF0uWLEG1atVw//59HDt2zCoS16lTJ3Tv3t3I2swKa9CggVV3gDyMrYJNLhIEbIbA/cQk9J6zD4cu3EG+7D74eVBjFM8TYLP5tZhInhtaoCpzCgL6RcDtSdyVK1fAVHxfX1+MHDkS48aNs4rEjRgxAmPHjrWZpeVhbDMoZSJBwGoE4hKSMPKXY+hdvwRql8ht9Tz2ulCeG/ZCWtYRBPSBgNuTuNRmyCqJI5Gj+Pv7Z9m68jDOMoQygSCgGQJ3ouNVIWEPnXV7kOeGZiaXiQUBXSIgJC6VWbJC4pghxAwwCo9RhwwZgjfeeMNqo8vD2Gro5EJBQFMEIuMS0H3mbpQrkANfP1cDft76Kd0hzw1NTS+TCwK6Q0BIXBZJ3MWLF/Hyyy+jc+fOKFmyJMLCwlQyw8GDBzF06FBMmDDBpNFZrJE/qeXw4cNgYsSiRYtQqVIlk3PIAEFAELAPAhM2nsL20zfVYs/VLYaXGqWf2GQfbYxXOXnyJF544QXs3LkTjRs3doQKsqYgIAjYEQGXIXHMKj137pxZ0AUEBKTbnsQaT1x6C7IAY4sWLdSDlD3typQpk6leY8aMwSeffGKW7jJIEBAEBAFTCEydOhVvvvmmqWHyd0FAEHByBFyGxGVW6iOtjZo1a4bt27c/ZjpbkThOvG7dOnTs2BGzZ8/Gq6++multkp4nbt++fRg0aBDmzZuHmjVrOvltljX1Dd4F8Uo+xFHweHQ/CRbGny2DB3/z5s1o2bJl1j54crUgIAjoHgGXIXGxsbHYsWOHWYCzunW9evU0JXFHjx5FjRo1VLbr8OHDzdIr9SCJbXmEhmBhfPsIHnJvZPRAkXvD4ketXCAIODUCLkPibGEFW3riVq9ejW7duqn4OMa2WSryMJYvavmiNv2pkc+JEHzTd4mMEARcFwEhcalsa4rE8dgzIiJCxbh5e3urK9mXkJ691EKvIIOKWTiYcXrFi1veTFu+nITECYkz/eCVz4mQONN3iYwQBFwXAbcncTz2XLt2rbIw40h4JPvee+8hV65c6id1cDC7OyxcuNCoGHDXrl0RExOjOjMUK1ZMZadyTEhICMaPH48PP/zQqrtHvpyExAmJM/3Rkc+JkDjTd4mMEARcFwG3J3Hff/89+vXrl66FWTKECRMGSY/EMfGApO306dPKK8d6cbVr18bgwYNVYoO1Qq8fkyJee+01FC5c2NppXOI6wcLYjILHIzwEC7k3XOIhJ5sQBKxEwO1JnJW4yWWCgCAgCAgCgoAgIAg4FAEhcQ6FXxYXBAQBQUAQEAQEAUHAOgSExFmHm1wlCAgCgoAgIAgIAoKAQxEQEudQ+GVxQUAQEAQEAUFAEBAErENASJx1uMlVgoAgIAgIAoKAICAIOBQBIXEOhV8WFwQEAUFAEBAEBAFBwDoEhMRZh5tcJQgIAoKAICAICAKCgEMREBLnUPiNF09KSsKECRNUq65Lly6pTg+vvPIK3n//fXh6eupIU+1ViYqKwsSJE3Ho0CEcPHgQ165dw0svvQTW9XM34f4XLVqErVu3qkLTgYGBqFKlCj766CO0atXK3eAAm95/8skn6t5gnTgPDw+ULl0arOP4+uuvw9fX1+0wSb1h3ictW7ZUvzp79izKli3r1njI5gUBV0ZASJyOrDto0CDMnDlTFR9u1KgRdu/ejQULFoC/nz59uo401V4VFlkuVaqUKnRcp04drF+/3m1JXPfu3VUnEfbiZSFpElzeF2zrNmPGDEVc3Ek2bdqkCH79+vVVlxS+/OzatQtLlixBu3btsG7dOneCw2iv8fHxqFGjhnoJjI6OFhLntneCbNxdEBASpxNL//vvv+rh+9Zbb2Hy5MkpWrHzw9SpU3HkyBFUq1ZNJ9pqr8b9+/cRHh6OokWLIjExUfWqdVdPHAlK3bp1jTxM7M9bs2ZN3Lx5Ezdu3ICXl5f2RtH5CmyRx5edU6dOoUKFCjrXVhv12Orv22+/Re/evdV/xROnDc4yqyCgFwSExOnEEiNGjMDnn3+ueq7SA2UQHp/xqGj48OEYN26cTrS1rxruTuIyQps9fr/55htcvHhRHb27u9A7x9CDvXv3Ki+du8mFCxdQuXJlTJs2Dfw3j5yFxLnbXSD7dTcEhMTpxOJt2rRR3jbGfqWVggULolatWvj99991oq191RASlz7evXr1wsqVK3H37l0VJ+duEhMTA/7w2HD//v144403lMf2v//+g7+/v7vBgU6dOimvLMMwSOCExLndLSAbdkMEhMTpxOg8KvXx8VHB2mmFcVAJCQngkas7ipC4x63O4H4ep7Zv3x6rVq1yx9sCY8aMUUTFIPS+fffdd6hevbrb4cGYUZI4klnGkBqwEU+c290KsmE3Q0BInE4MXqZMGdDjxrfotMIkB75h08PgjiIkztjqERERaNiwocrMpPe2RIkS7nhbqNAD/ty6dUtl7h49ehSMCXvqqafcCg/GRzJbuXXr1pg9e7bau5A4t7oFZLNujICQOJ0YXzxxGRtCSNwjbPiFzaP3AwcOqOP1Zs2a6eQOdrwakyZNwgcffKCIbaVKlRyvkJ00GDlypMpSPnPmDPLlyyckzk64yzKCgB4QEBKnBysA6otZYuLSN4aQuIe4sHxEx44dlddp9erV6ihV5BEC169fR6FChdwqCSgsLEwlPg0ZMkTVlDTIlClTVFb7li1bEBwcrMaICAKCgOshICROJzZl9imPgiQ79XGDCImDKrPCenGsgfbTTz+hZ8+eOrlz9aOGobYg6+bRM+UOcvjwYZX0lJkw6YW1BUUEAUHA9RAQEqcTm9ILx4dxRnXi+LB2x4BtmsfdSVxycrKq+7Vs2TIVuD9gwACd3LWOUYPxoQUKFHhs8WHDhqmOJ+zqwZqC7iCMj/zjjz8e2+ry5cuxYsUK5Y1jQeTOnTu7AxyyR0HA7RAQEqcjkw8cOFAFJrNjQ+PGjVUVelbmf+211zBr1iwdaWofVVjviuUzSGJGjx6tSG7Xrl3V4jxWdBdS++6774LxXox/S31kZrACA9qZFOMu0qVLF5XMwAQG1sfjPbJx40Z1dNikSRNs27bN7YsfS2KDu3waZJ/ujoCQOB3dAfQ4ffXVV6p36uXLl9UbNL+06WFwx4r8jOVh0dL0hOSWvTLdQUhW2HYrIyFpcaeMTHok6W1jNio7VrBXasWKFdGjRw/lyXb33qm8T4TEucOTQfYoCABC4uQuEAQEAUFAEBAEBAFBwAkREBLnhEYTlQUBQUAQEAQEAUFAEBASJ/eAICAICAKCgCAgCAgCToiAkDgnNJqoLAgIAoKAICAICAKCgJA4uQcEAUFAEBAEBAFBQBBwQgSExDmh0URlQUAQEAQEAUFAEBAEhMTJPSAICAKCgCAgCAgCgoATIiAkzgmNJioLAoKAICAICAKCgCAgJE7uAUFAEBAEBAFBQBAQBJwQASFxTmg0UVkQEAQEAUFAEBAEBAEhcXIPCAKCgCAgCAgCgoAg4IQICIlzQqOJyoKAICAICAKCgCAgCAiJk3tAEDCBQLZs2czCqFmzZti+fbtZYx016O+//8batWvRt29fBAcHm6XGyZMnUblyZaOx+fLlQ+3atTFu3DjUrVvXrHlkkCAgCAgCgoBtERASZ1s8ZTYXRGDRokVGu1q9ejV+/vlnTJw4EQULFkz5G//dunVrXSMwd+5cDBgwANu2bcNTTz1llq5LlixB79698c477yjilpycjKNHj2Lq1KkIDAzEiRMnUKhQIbPmkkGCgCAgCAgCtkNASJztsJSZ3ASBMWPG4JNPPsHZs2dRtmxZm+46Pj5ezefj42PTeQ2TWUPihg0bhgkTJjy23w8++ABfffUVSPJ69uypib4yqSAgCAgCgkDGCAiJk7tDELAQgcxI3IULF5SHbuvWreC/KbVq1cLw4cPx7LPPGq30/fffo1+/ftiwYQN27dqFH374AWFhYTh06BBq1qyJc+fOKe8X5/L29kabNm3w7bffonDhwhg9ejSoh0FiYmLw5ZdfYunSpQgNDUXOnDnxzDPP4PPPP0exYsXUMIPeabe7YMECdbyakTz99NM4cOAAbt++jdRHy5MnT8aQIUPw3XffKe+eiCAgCAgCgoB9ERASZ1+8ZTUXQCAzErdy5UqMHDkSnTp1QunSpREZGYkff/wRx44dwx9//IGWLVumIGAgcVWrVlUk7fnnn1ckqXv37ggICED16tVx584dvPXWWyhZsiR+//13XLlyBf/8848RiaP3rnnz5ur3/fv3R7Vq1XDx4kVMnz4dOXLkAOPgGMPGI9ApU6Zg3rx5ilRWqlRJ6dKoUSOla0ZSoEABNeeWLVuMhrRv314RUK5L0ikiCAgCgoAgYF8EhMTZF29ZzQUQyIzE0SNGApZa7t+/r0hOiRIlsHHjxsdIHJMG6H3z8/NL+dv777+vPHokSW3btk35PWPTeHyZ2hPHo06Ssj///BMNGzZMGXv48GGVdMC5xo8fr35v6XHq5cuXUbx4cbzxxhvKk8d4uEuXLinvG3+ee+45LFu2zAWsKlsQBAQBQcD5EBAS53w2E40djIC5MXFxcXGIjo7GgwcPMGrUKEV2eCRpEIMnbtKkSepYMrVUrFhR/e+pU6eMfs9jzXr16hmROCYbMIZu/fr1jyHTtGlTZM+eXR2HWkPiOGeHDh0em5fHta+//roidr6+vg62iCwvCAgCgoB7IiAkzj3tLrvOAgKZkbiEhAR89tlnKr7NEBNnWIpHpfRkpSVxLPmRlijRK8dYNP4ttURERCBXrlxGJI6ev9jY2Ax3RA+gQRdLPXHcy8cffwxm6DL71svLC3nz5lVHsfy3iCAgCAgCgoDjEBAS5zjsZWUnRSAzEsdjx5kzZyovVZMmTZAnTx54enqCyQOLFy9WXrm0JI6xcq1atTJCIyMSxxg7esFSH6dyLL1xn376abqI8u/UxRpPXLdu3fDbb78hKioKHh4eTmoxUVsQEAQEAddEQEica9pVdqUhApmRuNy5c6ukBh6VppZevXqpzFFzSZwlx6lMOqAHMO3Ra3oQMKnhlVdeMbtOHBMe6HkzHMdqCKtMLQgIAoKAIGAhAkLiLARMhgsCmZE4ZoG2a9cOCxcuTAHq9OnTKrGBMXLmkrihQ4fi66+/NiuxgUkLTGxIr1QI1wsPD0f+/PmVPiSSJJQsWNylS5dMjWk4umX5Ec4tIggIAoKAIKAvBITE6cseoo0TIJAZiaOXi4TntddeU/XhQkJC1PEqPVosxWEuibtx4wZq1KgBEqk333xTtcjisSbryLFkCHXgkSqF2a/sFPHXX3+p8iQ8OmXJkvPnz2PNmjUqg3Ts2LFqLAsUly9fHk888YQ68vX390f9+vVRqlSpx5DfsWOH6upAMvnuu+86gWVERUFAEBAE3AsBIXHuZW/ZrQ0QyIzEMXbso48+Up4uZqLyWPTDDz8E+4+yy4O5JM5AuFjsly2ymH3KYsFMNGCXCBb2ZScFg5DIsRAw4+7OnDmjSByL/LZo0QIDBw4Ea9EZhPXjvvm/9u4YtWEgAKLoPdz6vr6JKp/PEEYQSBHShA8Cva3NWPvUDJJ29/U6Fzt8Pp9fn+Dtt8vb/29blC2yMAgQIEDgWgJK3LXuh6sh8KfA9pPb3m8ra3stahAgQIDAfQWUuPveezO/uMC2Ddnrzu+xp3g7o/Q4jvNEhsfjcfEZuDwCBAgQKAWUuFJXNoF/COxbta083bd1K3Tv9/s8lWEbA2+DYIMAAQIE7i2gxN37/pv9hQX2/dtWk+6p27YQeT6f59mo+07t50H0F56CSyNAgACBUECJC3FFEyBAgAABAgQqASWukpVLgAABAgQIEAgFlLgQVzQBAgQIECBAoBJQ4ipZuQQIECBAgACBUECJC3FFEyBAgAABAgQqASWukpVLgAABAgQIEAgFlLgQVzQBAgQIECBAoBJQ4ipZuQQIECBAgACBUECJC3FFEyBAgAABAgQqASWukpVLgAABAgQIEAgFlLgQVzQBAgQIECBAoBJQ4ipZuQQIECBAgACBUECJC3FFEyBAgAABAgQqASWukpVLgAABAgQIEAgFlLgQVzQBAgQIECBAoBJQ4ipZuQQIECBAgACBUECJC3FFEyBAgAABAgQqASWukpVLgAABAgQIEAgFlLgQVzQBAgQIECBAoBJQ4ipZuQQIECBAgACBUECJC3FFEyBAgAABAgQqgS9BWpPT1St3ggAAAABJRU5ErkJggg==\" width=\"500\">"
      ],
      "text/plain": [
       "<IPython.core.display.HTML object>"
      ]
     },
     "metadata": {},
     "output_type": "display_data"
    }
   ],
   "source": [
    "fig, ax = plt.subplots(figsize=(5, 3))\n",
    "for i, d in zip(range(7), d_1D):\n",
    "    ax.scatter(P, d, label=\"Desp {:}\".format(i))\n",
    "    reg = LinearRegression()\n",
    "    reg.fit(d.reshape(-1, 1), P)\n",
    "    ax.plot(reg.predict([[-1.5], [1.5]]), [-1.5, 1.5], linestyle=\":\")\n",
    "ax.set_xlim(0, 4)\n",
    "ax.set_ylim(-1.5, 1.2)\n",
    "ax.set_xlabel(\"Target $P$\")\n",
    "ax.set_ylabel(\"Descriptor Value $d_\\mathrm{1D}$\")\n",
    "ax.legend(loc='lower right', bbox_to_anchor=(1, 0., 0.5, 0.5))\n",
    "fig.tight_layout()"
   ]
  },
  {
   "cell_type": "markdown",
   "metadata": {},
   "source": [
    "### 残差与后一轮描述子筛选准备"
   ]
  },
  {
   "cell_type": "markdown",
   "metadata": {},
   "source": [
    "第一轮描述子筛选已经结束了；我们需要对第二轮描述子筛选作准备。\n",
    "\n",
    "第一轮筛选的依据是描述子与目标值 $\\boldsymbol{P}$ 相关性。但我们知道，多个描述子之间一般不应当具有较强的相关性，否则这些描述子会被认为是接近线性相关的。\n",
    "\n",
    "为了尽可能保证第二轮所选取的描述子与第一轮线性无关，第二轮筛选的依据是第一轮描述子中，对目标 $\\boldsymbol{P}$ 作线性拟合得到的最低残差 `Delta_1D` $\\boldsymbol{\\Delta}_\\mathrm{1D}$ (vector len: $n_\\mathrm{sample}$) (或者说第一轮第 0 个描述子的拟合残差)：\n",
    "\n",
    "$$\n",
    "\\boldsymbol{\\Delta}_\\mathrm{1D} = \\boldsymbol{P} - \\boldsymbol{\\tilde{P}} (\\boldsymbol{d}_\\mathrm{1D}^0)\n",
    "$$"
   ]
  },
  {
   "cell_type": "code",
   "execution_count": 61,
   "metadata": {},
   "outputs": [
    {
     "data": {
      "text/plain": [
       "LinearRegression()"
      ]
     },
     "execution_count": 61,
     "metadata": {},
     "output_type": "execute_result"
    }
   ],
   "source": [
    "reg = LinearRegression()\n",
    "reg.fit(d_1D[0].reshape(-1, 1), P)"
   ]
  },
  {
   "cell_type": "code",
   "execution_count": 62,
   "metadata": {
    "scrolled": true
   },
   "outputs": [
    {
     "data": {
      "text/plain": [
       "array([-0.04482,  0.05149, -0.06466,  0.17803, -0.12005])"
      ]
     },
     "execution_count": 62,
     "metadata": {},
     "output_type": "execute_result"
    }
   ],
   "source": [
    "Delta_1D = P - reg.predict(d_1D[0].reshape(-1, 1)).reshape(-1)\n",
    "Delta_1D"
   ]
  },
  {
   "cell_type": "markdown",
   "metadata": {},
   "source": [
    "这与文件 [residual/res_001d_p001.dat](residual/res_001d_p001.dat) 的结果一致："
   ]
  },
  {
   "cell_type": "code",
   "execution_count": 63,
   "metadata": {},
   "outputs": [
    {
     "name": "stdout",
     "output_type": "stream",
     "text": [
      "   -0.4481707500E-01\r\n",
      "    0.5149135000E-01\r\n",
      "   -0.6465814650E-01\r\n",
      "    0.1780325505E+00\r\n",
      "   -0.1200486783E+00\r\n"
     ]
    }
   ],
   "source": [
    "! cat residual/res_001d_p001.dat"
   ]
  },
  {
   "cell_type": "markdown",
   "metadata": {},
   "source": [
    "由于拟合过程中使用到了偏置 (Bias)，因此原文中出现的类似于 $\\boldsymbol{\\Delta}_\\mathrm{1D} = \\boldsymbol{P} - \\boldsymbol{c}_\\mathrm{1D}^{0, \\mathrm{T}} \\boldsymbol{d}_\\mathrm{1D}^0$ 的公式表述会在实现中会有些不同。"
   ]
  },
  {
   "cell_type": "markdown",
   "metadata": {},
   "source": [
    "## SISSO 第二轮描述子筛选"
   ]
  },
  {
   "cell_type": "markdown",
   "metadata": {},
   "source": [
    "### 描述子的表达与相关性"
   ]
  },
  {
   "cell_type": "markdown",
   "metadata": {},
   "source": [
    "第二轮描述子筛选与第一轮过程几乎是相同的；但唯一不同的是筛选描述子的判标从 $\\boldsymbol{P}$ 更换到 $\\boldsymbol{\\Delta}_\\mathrm{1D}$。因此，第二轮所选出的描述子几乎都与第一轮的第 0 号描述子某种程度上线性无关；或者说，这些描述子并不是希望能与最终目标值 $\\boldsymbol{P}$ 有很好的契合，但其实是契合最终目标与第一轮最好的描述子之间的误差。但第二轮描述子之间又比较线性相关，因为它们都需要较好地线性拟合到相同的 $\\boldsymbol{\\Delta}_\\mathrm{1D}$。"
   ]
  },
  {
   "cell_type": "markdown",
   "metadata": {},
   "source": [
    "第二轮筛选得到的描述子和相关性列举如下："
   ]
  },
  {
   "cell_type": "code",
   "execution_count": 64,
   "metadata": {},
   "outputs": [
    {
     "name": "stdout",
     "output_type": "stream",
     "text": [
      "(abs(F1-F2))^-1  corr=      0.9693\r\n",
      "(sqrt(F3)/abs(F1-F2))  corr=      0.9612\r\n",
      "(sin(F3)/abs(F1-F2))  corr=      0.9540\r\n",
      "(exp(F3)/abs(F1-F2))  corr=      0.9534\r\n",
      "(exp(-F3)/abs(F1-F2))  corr=      0.9486\r\n",
      "(F3/abs(F1-F2))  corr=      0.9474\r\n",
      "(cos(F2)/abs(F1-F2))  corr=      0.9468\r\n"
     ]
    }
   ],
   "source": [
    "! cat feature_space/space_002d.name"
   ]
  },
  {
   "cell_type": "markdown",
   "metadata": {},
   "source": [
    "可以将所有第二轮描述子在所有数据点上的值储存到矩阵 `d_2D` $\\mathbf{d}_\\mathrm{2D}$："
   ]
  },
  {
   "cell_type": "code",
   "execution_count": 65,
   "metadata": {},
   "outputs": [],
   "source": [
    "with open(\"feature_space/space_002d.name\", \"r\") as f:\n",
    "    tokens_2D = [line.split()[0].replace(\"^\", \"**\") for line in f.readlines()]\n",
    "d_2D = np.array([eval(token) for token in tokens_2D])"
   ]
  },
  {
   "cell_type": "markdown",
   "metadata": {},
   "source": [
    "与第一轮描述子相同地，第二轮描述子空间会记为 $\\boldsymbol{S}_2$。"
   ]
  },
  {
   "cell_type": "markdown",
   "metadata": {},
   "source": [
    "对于第二轮第 0 个描述子，其相对于 $\\boldsymbol{\\Delta}_\\mathrm{1D}$ 所拟合的相关性可以用下述程序给出："
   ]
  },
  {
   "cell_type": "code",
   "execution_count": 66,
   "metadata": {},
   "outputs": [
    {
     "data": {
      "text/plain": [
       "0.9692849978551799"
      ]
     },
     "execution_count": 66,
     "metadata": {},
     "output_type": "execute_result"
    }
   ],
   "source": [
    "reg = LinearRegression()\n",
    "reg.fit(d_2D[0].reshape(-1, 1), Delta_1D)\n",
    "np.sqrt(r2_score(Delta_1D, reg.predict(d_2D[0].reshape(-1, 1))))"
   ]
  },
  {
   "cell_type": "markdown",
   "metadata": {},
   "source": [
    "这与上述文件的首行信息相同。"
   ]
  },
  {
   "cell_type": "markdown",
   "metadata": {},
   "source": [
    "### 残差与后一轮描述子筛选准备"
   ]
  },
  {
   "cell_type": "markdown",
   "metadata": {},
   "source": [
    "从第二轮描述子筛选开始，残差的表达式会较为不同。"
   ]
  },
  {
   "cell_type": "markdown",
   "metadata": {},
   "source": [
    "我们现在已经筛选出 $2 n_\\mathrm{sub} = 2 \\times 7 = 14$ 个描述子，我们会记两轮描述子的并空间为 $\\boldsymbol{S}_1 \\cup \\boldsymbol{S}_2$。\n",
    "\n",
    "如果描述子空间是 $\\boldsymbol{S}_1$ 且我们只需要挑出一个描述子来线性拟合最终目标 $\\boldsymbol{P}$，那么这个被挑出的最好的描述子就是第一轮中第 0 个描述子。但如果描述子空间是 $\\boldsymbol{S}_1 \\cup \\boldsymbol{S}_2$，并且要挑出两个描述子来线性拟合最终目标 $\\boldsymbol{P}$，那就不一定是第一轮第 0 个与第二轮第 0 个描述子了。这种情况下，我们有必要将所有描述子成对地考察一遍。\n",
    "\n",
    "现在该空间有 14 个描述子；如果允许一对相同的描述子，那么总共有 $14 \\times 14 = 196$ 对可能的描述子。我们需要对这 196 种所有可能的情况都作考察；最终判断哪一对描述子是最优秀的。"
   ]
  },
  {
   "cell_type": "markdown",
   "metadata": {},
   "source": [
    "我们开一个 $(14, 14)$ 大小的矩阵 `rmse_2D`，以 RMSE 为判标，判断一对描述子能否比较好地拟合最终目标 $\\boldsymbol{P}$。`dunion_2D` 表示两轮描述子在数据点上数值的矩阵并 $[\\mathbf{d}_\\mathrm{1D}, \\mathbf{d}_\\mathrm{2D}]$："
   ]
  },
  {
   "cell_type": "code",
   "execution_count": 67,
   "metadata": {},
   "outputs": [],
   "source": [
    "rmse_2D = np.zeros((14, 14))\n",
    "dunion_2D = np.concatenate([d_1D, d_2D])\n",
    "for i in range(14):\n",
    "    for j in range(14):\n",
    "        reg = LinearRegression()\n",
    "        reg.fit(np.array([dunion_2D[i], dunion_2D[j]]).T, P)\n",
    "        P_pred = reg.predict(np.array([dunion_2D[i], dunion_2D[j]]).T)\n",
    "        rmse_2D[i, j] = np.sqrt(mean_squared_error(P, P_pred))"
   ]
  },
  {
   "cell_type": "markdown",
   "metadata": {},
   "source": [
    "我们对上述 `rmse_2D` 作热区图 (heatmap)："
   ]
  },
  {
   "cell_type": "code",
   "execution_count": 68,
   "metadata": {
    "scrolled": false
   },
   "outputs": [
    {
     "data": {
      "application/javascript": [
       "/* Put everything inside the global mpl namespace */\n",
       "window.mpl = {};\n",
       "\n",
       "\n",
       "mpl.get_websocket_type = function() {\n",
       "    if (typeof(WebSocket) !== 'undefined') {\n",
       "        return WebSocket;\n",
       "    } else if (typeof(MozWebSocket) !== 'undefined') {\n",
       "        return MozWebSocket;\n",
       "    } else {\n",
       "        alert('Your browser does not have WebSocket support. ' +\n",
       "              'Please try Chrome, Safari or Firefox ≥ 6. ' +\n",
       "              'Firefox 4 and 5 are also supported but you ' +\n",
       "              'have to enable WebSockets in about:config.');\n",
       "    };\n",
       "}\n",
       "\n",
       "mpl.figure = function(figure_id, websocket, ondownload, parent_element) {\n",
       "    this.id = figure_id;\n",
       "\n",
       "    this.ws = websocket;\n",
       "\n",
       "    this.supports_binary = (this.ws.binaryType != undefined);\n",
       "\n",
       "    if (!this.supports_binary) {\n",
       "        var warnings = document.getElementById(\"mpl-warnings\");\n",
       "        if (warnings) {\n",
       "            warnings.style.display = 'block';\n",
       "            warnings.textContent = (\n",
       "                \"This browser does not support binary websocket messages. \" +\n",
       "                    \"Performance may be slow.\");\n",
       "        }\n",
       "    }\n",
       "\n",
       "    this.imageObj = new Image();\n",
       "\n",
       "    this.context = undefined;\n",
       "    this.message = undefined;\n",
       "    this.canvas = undefined;\n",
       "    this.rubberband_canvas = undefined;\n",
       "    this.rubberband_context = undefined;\n",
       "    this.format_dropdown = undefined;\n",
       "\n",
       "    this.image_mode = 'full';\n",
       "\n",
       "    this.root = $('<div/>');\n",
       "    this._root_extra_style(this.root)\n",
       "    this.root.attr('style', 'display: inline-block');\n",
       "\n",
       "    $(parent_element).append(this.root);\n",
       "\n",
       "    this._init_header(this);\n",
       "    this._init_canvas(this);\n",
       "    this._init_toolbar(this);\n",
       "\n",
       "    var fig = this;\n",
       "\n",
       "    this.waiting = false;\n",
       "\n",
       "    this.ws.onopen =  function () {\n",
       "            fig.send_message(\"supports_binary\", {value: fig.supports_binary});\n",
       "            fig.send_message(\"send_image_mode\", {});\n",
       "            if (mpl.ratio != 1) {\n",
       "                fig.send_message(\"set_dpi_ratio\", {'dpi_ratio': mpl.ratio});\n",
       "            }\n",
       "            fig.send_message(\"refresh\", {});\n",
       "        }\n",
       "\n",
       "    this.imageObj.onload = function() {\n",
       "            if (fig.image_mode == 'full') {\n",
       "                // Full images could contain transparency (where diff images\n",
       "                // almost always do), so we need to clear the canvas so that\n",
       "                // there is no ghosting.\n",
       "                fig.context.clearRect(0, 0, fig.canvas.width, fig.canvas.height);\n",
       "            }\n",
       "            fig.context.drawImage(fig.imageObj, 0, 0);\n",
       "        };\n",
       "\n",
       "    this.imageObj.onunload = function() {\n",
       "        fig.ws.close();\n",
       "    }\n",
       "\n",
       "    this.ws.onmessage = this._make_on_message_function(this);\n",
       "\n",
       "    this.ondownload = ondownload;\n",
       "}\n",
       "\n",
       "mpl.figure.prototype._init_header = function() {\n",
       "    var titlebar = $(\n",
       "        '<div class=\"ui-dialog-titlebar ui-widget-header ui-corner-all ' +\n",
       "        'ui-helper-clearfix\"/>');\n",
       "    var titletext = $(\n",
       "        '<div class=\"ui-dialog-title\" style=\"width: 100%; ' +\n",
       "        'text-align: center; padding: 3px;\"/>');\n",
       "    titlebar.append(titletext)\n",
       "    this.root.append(titlebar);\n",
       "    this.header = titletext[0];\n",
       "}\n",
       "\n",
       "\n",
       "\n",
       "mpl.figure.prototype._canvas_extra_style = function(canvas_div) {\n",
       "\n",
       "}\n",
       "\n",
       "\n",
       "mpl.figure.prototype._root_extra_style = function(canvas_div) {\n",
       "\n",
       "}\n",
       "\n",
       "mpl.figure.prototype._init_canvas = function() {\n",
       "    var fig = this;\n",
       "\n",
       "    var canvas_div = $('<div/>');\n",
       "\n",
       "    canvas_div.attr('style', 'position: relative; clear: both; outline: 0');\n",
       "\n",
       "    function canvas_keyboard_event(event) {\n",
       "        return fig.key_event(event, event['data']);\n",
       "    }\n",
       "\n",
       "    canvas_div.keydown('key_press', canvas_keyboard_event);\n",
       "    canvas_div.keyup('key_release', canvas_keyboard_event);\n",
       "    this.canvas_div = canvas_div\n",
       "    this._canvas_extra_style(canvas_div)\n",
       "    this.root.append(canvas_div);\n",
       "\n",
       "    var canvas = $('<canvas/>');\n",
       "    canvas.addClass('mpl-canvas');\n",
       "    canvas.attr('style', \"left: 0; top: 0; z-index: 0; outline: 0\")\n",
       "\n",
       "    this.canvas = canvas[0];\n",
       "    this.context = canvas[0].getContext(\"2d\");\n",
       "\n",
       "    var backingStore = this.context.backingStorePixelRatio ||\n",
       "\tthis.context.webkitBackingStorePixelRatio ||\n",
       "\tthis.context.mozBackingStorePixelRatio ||\n",
       "\tthis.context.msBackingStorePixelRatio ||\n",
       "\tthis.context.oBackingStorePixelRatio ||\n",
       "\tthis.context.backingStorePixelRatio || 1;\n",
       "\n",
       "    mpl.ratio = (window.devicePixelRatio || 1) / backingStore;\n",
       "\n",
       "    var rubberband = $('<canvas/>');\n",
       "    rubberband.attr('style', \"position: absolute; left: 0; top: 0; z-index: 1;\")\n",
       "\n",
       "    var pass_mouse_events = true;\n",
       "\n",
       "    canvas_div.resizable({\n",
       "        start: function(event, ui) {\n",
       "            pass_mouse_events = false;\n",
       "        },\n",
       "        resize: function(event, ui) {\n",
       "            fig.request_resize(ui.size.width, ui.size.height);\n",
       "        },\n",
       "        stop: function(event, ui) {\n",
       "            pass_mouse_events = true;\n",
       "            fig.request_resize(ui.size.width, ui.size.height);\n",
       "        },\n",
       "    });\n",
       "\n",
       "    function mouse_event_fn(event) {\n",
       "        if (pass_mouse_events)\n",
       "            return fig.mouse_event(event, event['data']);\n",
       "    }\n",
       "\n",
       "    rubberband.mousedown('button_press', mouse_event_fn);\n",
       "    rubberband.mouseup('button_release', mouse_event_fn);\n",
       "    // Throttle sequential mouse events to 1 every 20ms.\n",
       "    rubberband.mousemove('motion_notify', mouse_event_fn);\n",
       "\n",
       "    rubberband.mouseenter('figure_enter', mouse_event_fn);\n",
       "    rubberband.mouseleave('figure_leave', mouse_event_fn);\n",
       "\n",
       "    canvas_div.on(\"wheel\", function (event) {\n",
       "        event = event.originalEvent;\n",
       "        event['data'] = 'scroll'\n",
       "        if (event.deltaY < 0) {\n",
       "            event.step = 1;\n",
       "        } else {\n",
       "            event.step = -1;\n",
       "        }\n",
       "        mouse_event_fn(event);\n",
       "    });\n",
       "\n",
       "    canvas_div.append(canvas);\n",
       "    canvas_div.append(rubberband);\n",
       "\n",
       "    this.rubberband = rubberband;\n",
       "    this.rubberband_canvas = rubberband[0];\n",
       "    this.rubberband_context = rubberband[0].getContext(\"2d\");\n",
       "    this.rubberband_context.strokeStyle = \"#000000\";\n",
       "\n",
       "    this._resize_canvas = function(width, height) {\n",
       "        // Keep the size of the canvas, canvas container, and rubber band\n",
       "        // canvas in synch.\n",
       "        canvas_div.css('width', width)\n",
       "        canvas_div.css('height', height)\n",
       "\n",
       "        canvas.attr('width', width * mpl.ratio);\n",
       "        canvas.attr('height', height * mpl.ratio);\n",
       "        canvas.attr('style', 'width: ' + width + 'px; height: ' + height + 'px;');\n",
       "\n",
       "        rubberband.attr('width', width);\n",
       "        rubberband.attr('height', height);\n",
       "    }\n",
       "\n",
       "    // Set the figure to an initial 600x600px, this will subsequently be updated\n",
       "    // upon first draw.\n",
       "    this._resize_canvas(600, 600);\n",
       "\n",
       "    // Disable right mouse context menu.\n",
       "    $(this.rubberband_canvas).bind(\"contextmenu\",function(e){\n",
       "        return false;\n",
       "    });\n",
       "\n",
       "    function set_focus () {\n",
       "        canvas.focus();\n",
       "        canvas_div.focus();\n",
       "    }\n",
       "\n",
       "    window.setTimeout(set_focus, 100);\n",
       "}\n",
       "\n",
       "mpl.figure.prototype._init_toolbar = function() {\n",
       "    var fig = this;\n",
       "\n",
       "    var nav_element = $('<div/>');\n",
       "    nav_element.attr('style', 'width: 100%');\n",
       "    this.root.append(nav_element);\n",
       "\n",
       "    // Define a callback function for later on.\n",
       "    function toolbar_event(event) {\n",
       "        return fig.toolbar_button_onclick(event['data']);\n",
       "    }\n",
       "    function toolbar_mouse_event(event) {\n",
       "        return fig.toolbar_button_onmouseover(event['data']);\n",
       "    }\n",
       "\n",
       "    for(var toolbar_ind in mpl.toolbar_items) {\n",
       "        var name = mpl.toolbar_items[toolbar_ind][0];\n",
       "        var tooltip = mpl.toolbar_items[toolbar_ind][1];\n",
       "        var image = mpl.toolbar_items[toolbar_ind][2];\n",
       "        var method_name = mpl.toolbar_items[toolbar_ind][3];\n",
       "\n",
       "        if (!name) {\n",
       "            // put a spacer in here.\n",
       "            continue;\n",
       "        }\n",
       "        var button = $('<button/>');\n",
       "        button.addClass('ui-button ui-widget ui-state-default ui-corner-all ' +\n",
       "                        'ui-button-icon-only');\n",
       "        button.attr('role', 'button');\n",
       "        button.attr('aria-disabled', 'false');\n",
       "        button.click(method_name, toolbar_event);\n",
       "        button.mouseover(tooltip, toolbar_mouse_event);\n",
       "\n",
       "        var icon_img = $('<span/>');\n",
       "        icon_img.addClass('ui-button-icon-primary ui-icon');\n",
       "        icon_img.addClass(image);\n",
       "        icon_img.addClass('ui-corner-all');\n",
       "\n",
       "        var tooltip_span = $('<span/>');\n",
       "        tooltip_span.addClass('ui-button-text');\n",
       "        tooltip_span.html(tooltip);\n",
       "\n",
       "        button.append(icon_img);\n",
       "        button.append(tooltip_span);\n",
       "\n",
       "        nav_element.append(button);\n",
       "    }\n",
       "\n",
       "    var fmt_picker_span = $('<span/>');\n",
       "\n",
       "    var fmt_picker = $('<select/>');\n",
       "    fmt_picker.addClass('mpl-toolbar-option ui-widget ui-widget-content');\n",
       "    fmt_picker_span.append(fmt_picker);\n",
       "    nav_element.append(fmt_picker_span);\n",
       "    this.format_dropdown = fmt_picker[0];\n",
       "\n",
       "    for (var ind in mpl.extensions) {\n",
       "        var fmt = mpl.extensions[ind];\n",
       "        var option = $(\n",
       "            '<option/>', {selected: fmt === mpl.default_extension}).html(fmt);\n",
       "        fmt_picker.append(option);\n",
       "    }\n",
       "\n",
       "    // Add hover states to the ui-buttons\n",
       "    $( \".ui-button\" ).hover(\n",
       "        function() { $(this).addClass(\"ui-state-hover\");},\n",
       "        function() { $(this).removeClass(\"ui-state-hover\");}\n",
       "    );\n",
       "\n",
       "    var status_bar = $('<span class=\"mpl-message\"/>');\n",
       "    nav_element.append(status_bar);\n",
       "    this.message = status_bar[0];\n",
       "}\n",
       "\n",
       "mpl.figure.prototype.request_resize = function(x_pixels, y_pixels) {\n",
       "    // Request matplotlib to resize the figure. Matplotlib will then trigger a resize in the client,\n",
       "    // which will in turn request a refresh of the image.\n",
       "    this.send_message('resize', {'width': x_pixels, 'height': y_pixels});\n",
       "}\n",
       "\n",
       "mpl.figure.prototype.send_message = function(type, properties) {\n",
       "    properties['type'] = type;\n",
       "    properties['figure_id'] = this.id;\n",
       "    this.ws.send(JSON.stringify(properties));\n",
       "}\n",
       "\n",
       "mpl.figure.prototype.send_draw_message = function() {\n",
       "    if (!this.waiting) {\n",
       "        this.waiting = true;\n",
       "        this.ws.send(JSON.stringify({type: \"draw\", figure_id: this.id}));\n",
       "    }\n",
       "}\n",
       "\n",
       "\n",
       "mpl.figure.prototype.handle_save = function(fig, msg) {\n",
       "    var format_dropdown = fig.format_dropdown;\n",
       "    var format = format_dropdown.options[format_dropdown.selectedIndex].value;\n",
       "    fig.ondownload(fig, format);\n",
       "}\n",
       "\n",
       "\n",
       "mpl.figure.prototype.handle_resize = function(fig, msg) {\n",
       "    var size = msg['size'];\n",
       "    if (size[0] != fig.canvas.width || size[1] != fig.canvas.height) {\n",
       "        fig._resize_canvas(size[0], size[1]);\n",
       "        fig.send_message(\"refresh\", {});\n",
       "    };\n",
       "}\n",
       "\n",
       "mpl.figure.prototype.handle_rubberband = function(fig, msg) {\n",
       "    var x0 = msg['x0'] / mpl.ratio;\n",
       "    var y0 = (fig.canvas.height - msg['y0']) / mpl.ratio;\n",
       "    var x1 = msg['x1'] / mpl.ratio;\n",
       "    var y1 = (fig.canvas.height - msg['y1']) / mpl.ratio;\n",
       "    x0 = Math.floor(x0) + 0.5;\n",
       "    y0 = Math.floor(y0) + 0.5;\n",
       "    x1 = Math.floor(x1) + 0.5;\n",
       "    y1 = Math.floor(y1) + 0.5;\n",
       "    var min_x = Math.min(x0, x1);\n",
       "    var min_y = Math.min(y0, y1);\n",
       "    var width = Math.abs(x1 - x0);\n",
       "    var height = Math.abs(y1 - y0);\n",
       "\n",
       "    fig.rubberband_context.clearRect(\n",
       "        0, 0, fig.canvas.width / mpl.ratio, fig.canvas.height / mpl.ratio);\n",
       "\n",
       "    fig.rubberband_context.strokeRect(min_x, min_y, width, height);\n",
       "}\n",
       "\n",
       "mpl.figure.prototype.handle_figure_label = function(fig, msg) {\n",
       "    // Updates the figure title.\n",
       "    fig.header.textContent = msg['label'];\n",
       "}\n",
       "\n",
       "mpl.figure.prototype.handle_cursor = function(fig, msg) {\n",
       "    var cursor = msg['cursor'];\n",
       "    switch(cursor)\n",
       "    {\n",
       "    case 0:\n",
       "        cursor = 'pointer';\n",
       "        break;\n",
       "    case 1:\n",
       "        cursor = 'default';\n",
       "        break;\n",
       "    case 2:\n",
       "        cursor = 'crosshair';\n",
       "        break;\n",
       "    case 3:\n",
       "        cursor = 'move';\n",
       "        break;\n",
       "    }\n",
       "    fig.rubberband_canvas.style.cursor = cursor;\n",
       "}\n",
       "\n",
       "mpl.figure.prototype.handle_message = function(fig, msg) {\n",
       "    fig.message.textContent = msg['message'];\n",
       "}\n",
       "\n",
       "mpl.figure.prototype.handle_draw = function(fig, msg) {\n",
       "    // Request the server to send over a new figure.\n",
       "    fig.send_draw_message();\n",
       "}\n",
       "\n",
       "mpl.figure.prototype.handle_image_mode = function(fig, msg) {\n",
       "    fig.image_mode = msg['mode'];\n",
       "}\n",
       "\n",
       "mpl.figure.prototype.updated_canvas_event = function() {\n",
       "    // Called whenever the canvas gets updated.\n",
       "    this.send_message(\"ack\", {});\n",
       "}\n",
       "\n",
       "// A function to construct a web socket function for onmessage handling.\n",
       "// Called in the figure constructor.\n",
       "mpl.figure.prototype._make_on_message_function = function(fig) {\n",
       "    return function socket_on_message(evt) {\n",
       "        if (evt.data instanceof Blob) {\n",
       "            /* FIXME: We get \"Resource interpreted as Image but\n",
       "             * transferred with MIME type text/plain:\" errors on\n",
       "             * Chrome.  But how to set the MIME type?  It doesn't seem\n",
       "             * to be part of the websocket stream */\n",
       "            evt.data.type = \"image/png\";\n",
       "\n",
       "            /* Free the memory for the previous frames */\n",
       "            if (fig.imageObj.src) {\n",
       "                (window.URL || window.webkitURL).revokeObjectURL(\n",
       "                    fig.imageObj.src);\n",
       "            }\n",
       "\n",
       "            fig.imageObj.src = (window.URL || window.webkitURL).createObjectURL(\n",
       "                evt.data);\n",
       "            fig.updated_canvas_event();\n",
       "            fig.waiting = false;\n",
       "            return;\n",
       "        }\n",
       "        else if (typeof evt.data === 'string' && evt.data.slice(0, 21) == \"data:image/png;base64\") {\n",
       "            fig.imageObj.src = evt.data;\n",
       "            fig.updated_canvas_event();\n",
       "            fig.waiting = false;\n",
       "            return;\n",
       "        }\n",
       "\n",
       "        var msg = JSON.parse(evt.data);\n",
       "        var msg_type = msg['type'];\n",
       "\n",
       "        // Call the  \"handle_{type}\" callback, which takes\n",
       "        // the figure and JSON message as its only arguments.\n",
       "        try {\n",
       "            var callback = fig[\"handle_\" + msg_type];\n",
       "        } catch (e) {\n",
       "            console.log(\"No handler for the '\" + msg_type + \"' message type: \", msg);\n",
       "            return;\n",
       "        }\n",
       "\n",
       "        if (callback) {\n",
       "            try {\n",
       "                // console.log(\"Handling '\" + msg_type + \"' message: \", msg);\n",
       "                callback(fig, msg);\n",
       "            } catch (e) {\n",
       "                console.log(\"Exception inside the 'handler_\" + msg_type + \"' callback:\", e, e.stack, msg);\n",
       "            }\n",
       "        }\n",
       "    };\n",
       "}\n",
       "\n",
       "// from http://stackoverflow.com/questions/1114465/getting-mouse-location-in-canvas\n",
       "mpl.findpos = function(e) {\n",
       "    //this section is from http://www.quirksmode.org/js/events_properties.html\n",
       "    var targ;\n",
       "    if (!e)\n",
       "        e = window.event;\n",
       "    if (e.target)\n",
       "        targ = e.target;\n",
       "    else if (e.srcElement)\n",
       "        targ = e.srcElement;\n",
       "    if (targ.nodeType == 3) // defeat Safari bug\n",
       "        targ = targ.parentNode;\n",
       "\n",
       "    // jQuery normalizes the pageX and pageY\n",
       "    // pageX,Y are the mouse positions relative to the document\n",
       "    // offset() returns the position of the element relative to the document\n",
       "    var x = e.pageX - $(targ).offset().left;\n",
       "    var y = e.pageY - $(targ).offset().top;\n",
       "\n",
       "    return {\"x\": x, \"y\": y};\n",
       "};\n",
       "\n",
       "/*\n",
       " * return a copy of an object with only non-object keys\n",
       " * we need this to avoid circular references\n",
       " * http://stackoverflow.com/a/24161582/3208463\n",
       " */\n",
       "function simpleKeys (original) {\n",
       "  return Object.keys(original).reduce(function (obj, key) {\n",
       "    if (typeof original[key] !== 'object')\n",
       "        obj[key] = original[key]\n",
       "    return obj;\n",
       "  }, {});\n",
       "}\n",
       "\n",
       "mpl.figure.prototype.mouse_event = function(event, name) {\n",
       "    var canvas_pos = mpl.findpos(event)\n",
       "\n",
       "    if (name === 'button_press')\n",
       "    {\n",
       "        this.canvas.focus();\n",
       "        this.canvas_div.focus();\n",
       "    }\n",
       "\n",
       "    var x = canvas_pos.x * mpl.ratio;\n",
       "    var y = canvas_pos.y * mpl.ratio;\n",
       "\n",
       "    this.send_message(name, {x: x, y: y, button: event.button,\n",
       "                             step: event.step,\n",
       "                             guiEvent: simpleKeys(event)});\n",
       "\n",
       "    /* This prevents the web browser from automatically changing to\n",
       "     * the text insertion cursor when the button is pressed.  We want\n",
       "     * to control all of the cursor setting manually through the\n",
       "     * 'cursor' event from matplotlib */\n",
       "    event.preventDefault();\n",
       "    return false;\n",
       "}\n",
       "\n",
       "mpl.figure.prototype._key_event_extra = function(event, name) {\n",
       "    // Handle any extra behaviour associated with a key event\n",
       "}\n",
       "\n",
       "mpl.figure.prototype.key_event = function(event, name) {\n",
       "\n",
       "    // Prevent repeat events\n",
       "    if (name == 'key_press')\n",
       "    {\n",
       "        if (event.which === this._key)\n",
       "            return;\n",
       "        else\n",
       "            this._key = event.which;\n",
       "    }\n",
       "    if (name == 'key_release')\n",
       "        this._key = null;\n",
       "\n",
       "    var value = '';\n",
       "    if (event.ctrlKey && event.which != 17)\n",
       "        value += \"ctrl+\";\n",
       "    if (event.altKey && event.which != 18)\n",
       "        value += \"alt+\";\n",
       "    if (event.shiftKey && event.which != 16)\n",
       "        value += \"shift+\";\n",
       "\n",
       "    value += 'k';\n",
       "    value += event.which.toString();\n",
       "\n",
       "    this._key_event_extra(event, name);\n",
       "\n",
       "    this.send_message(name, {key: value,\n",
       "                             guiEvent: simpleKeys(event)});\n",
       "    return false;\n",
       "}\n",
       "\n",
       "mpl.figure.prototype.toolbar_button_onclick = function(name) {\n",
       "    if (name == 'download') {\n",
       "        this.handle_save(this, null);\n",
       "    } else {\n",
       "        this.send_message(\"toolbar_button\", {name: name});\n",
       "    }\n",
       "};\n",
       "\n",
       "mpl.figure.prototype.toolbar_button_onmouseover = function(tooltip) {\n",
       "    this.message.textContent = tooltip;\n",
       "};\n",
       "mpl.toolbar_items = [[\"Home\", \"Reset original view\", \"fa fa-home icon-home\", \"home\"], [\"Back\", \"Back to previous view\", \"fa fa-arrow-left icon-arrow-left\", \"back\"], [\"Forward\", \"Forward to next view\", \"fa fa-arrow-right icon-arrow-right\", \"forward\"], [\"\", \"\", \"\", \"\"], [\"Pan\", \"Pan axes with left mouse, zoom with right\", \"fa fa-arrows icon-move\", \"pan\"], [\"Zoom\", \"Zoom to rectangle\", \"fa fa-square-o icon-check-empty\", \"zoom\"], [\"\", \"\", \"\", \"\"], [\"Download\", \"Download plot\", \"fa fa-floppy-o icon-save\", \"download\"]];\n",
       "\n",
       "mpl.extensions = [\"eps\", \"jpeg\", \"pdf\", \"png\", \"ps\", \"raw\", \"svg\", \"tif\"];\n",
       "\n",
       "mpl.default_extension = \"png\";var comm_websocket_adapter = function(comm) {\n",
       "    // Create a \"websocket\"-like object which calls the given IPython comm\n",
       "    // object with the appropriate methods. Currently this is a non binary\n",
       "    // socket, so there is still some room for performance tuning.\n",
       "    var ws = {};\n",
       "\n",
       "    ws.close = function() {\n",
       "        comm.close()\n",
       "    };\n",
       "    ws.send = function(m) {\n",
       "        //console.log('sending', m);\n",
       "        comm.send(m);\n",
       "    };\n",
       "    // Register the callback with on_msg.\n",
       "    comm.on_msg(function(msg) {\n",
       "        //console.log('receiving', msg['content']['data'], msg);\n",
       "        // Pass the mpl event to the overridden (by mpl) onmessage function.\n",
       "        ws.onmessage(msg['content']['data'])\n",
       "    });\n",
       "    return ws;\n",
       "}\n",
       "\n",
       "mpl.mpl_figure_comm = function(comm, msg) {\n",
       "    // This is the function which gets called when the mpl process\n",
       "    // starts-up an IPython Comm through the \"matplotlib\" channel.\n",
       "\n",
       "    var id = msg.content.data.id;\n",
       "    // Get hold of the div created by the display call when the Comm\n",
       "    // socket was opened in Python.\n",
       "    var element = $(\"#\" + id);\n",
       "    var ws_proxy = comm_websocket_adapter(comm)\n",
       "\n",
       "    function ondownload(figure, format) {\n",
       "        window.open(figure.imageObj.src);\n",
       "    }\n",
       "\n",
       "    var fig = new mpl.figure(id, ws_proxy,\n",
       "                           ondownload,\n",
       "                           element.get(0));\n",
       "\n",
       "    // Call onopen now - mpl needs it, as it is assuming we've passed it a real\n",
       "    // web socket which is closed, not our websocket->open comm proxy.\n",
       "    ws_proxy.onopen();\n",
       "\n",
       "    fig.parent_element = element.get(0);\n",
       "    fig.cell_info = mpl.find_output_cell(\"<div id='\" + id + \"'></div>\");\n",
       "    if (!fig.cell_info) {\n",
       "        console.error(\"Failed to find cell for figure\", id, fig);\n",
       "        return;\n",
       "    }\n",
       "\n",
       "    var output_index = fig.cell_info[2]\n",
       "    var cell = fig.cell_info[0];\n",
       "\n",
       "};\n",
       "\n",
       "mpl.figure.prototype.handle_close = function(fig, msg) {\n",
       "    var width = fig.canvas.width/mpl.ratio\n",
       "    fig.root.unbind('remove')\n",
       "\n",
       "    // Update the output cell to use the data from the current canvas.\n",
       "    fig.push_to_output();\n",
       "    var dataURL = fig.canvas.toDataURL();\n",
       "    // Re-enable the keyboard manager in IPython - without this line, in FF,\n",
       "    // the notebook keyboard shortcuts fail.\n",
       "    IPython.keyboard_manager.enable()\n",
       "    $(fig.parent_element).html('<img src=\"' + dataURL + '\" width=\"' + width + '\">');\n",
       "    fig.close_ws(fig, msg);\n",
       "}\n",
       "\n",
       "mpl.figure.prototype.close_ws = function(fig, msg){\n",
       "    fig.send_message('closing', msg);\n",
       "    // fig.ws.close()\n",
       "}\n",
       "\n",
       "mpl.figure.prototype.push_to_output = function(remove_interactive) {\n",
       "    // Turn the data on the canvas into data in the output cell.\n",
       "    var width = this.canvas.width/mpl.ratio\n",
       "    var dataURL = this.canvas.toDataURL();\n",
       "    this.cell_info[1]['text/html'] = '<img src=\"' + dataURL + '\" width=\"' + width + '\">';\n",
       "}\n",
       "\n",
       "mpl.figure.prototype.updated_canvas_event = function() {\n",
       "    // Tell IPython that the notebook contents must change.\n",
       "    IPython.notebook.set_dirty(true);\n",
       "    this.send_message(\"ack\", {});\n",
       "    var fig = this;\n",
       "    // Wait a second, then push the new image to the DOM so\n",
       "    // that it is saved nicely (might be nice to debounce this).\n",
       "    setTimeout(function () { fig.push_to_output() }, 1000);\n",
       "}\n",
       "\n",
       "mpl.figure.prototype._init_toolbar = function() {\n",
       "    var fig = this;\n",
       "\n",
       "    var nav_element = $('<div/>');\n",
       "    nav_element.attr('style', 'width: 100%');\n",
       "    this.root.append(nav_element);\n",
       "\n",
       "    // Define a callback function for later on.\n",
       "    function toolbar_event(event) {\n",
       "        return fig.toolbar_button_onclick(event['data']);\n",
       "    }\n",
       "    function toolbar_mouse_event(event) {\n",
       "        return fig.toolbar_button_onmouseover(event['data']);\n",
       "    }\n",
       "\n",
       "    for(var toolbar_ind in mpl.toolbar_items){\n",
       "        var name = mpl.toolbar_items[toolbar_ind][0];\n",
       "        var tooltip = mpl.toolbar_items[toolbar_ind][1];\n",
       "        var image = mpl.toolbar_items[toolbar_ind][2];\n",
       "        var method_name = mpl.toolbar_items[toolbar_ind][3];\n",
       "\n",
       "        if (!name) { continue; };\n",
       "\n",
       "        var button = $('<button class=\"btn btn-default\" href=\"#\" title=\"' + name + '\"><i class=\"fa ' + image + ' fa-lg\"></i></button>');\n",
       "        button.click(method_name, toolbar_event);\n",
       "        button.mouseover(tooltip, toolbar_mouse_event);\n",
       "        nav_element.append(button);\n",
       "    }\n",
       "\n",
       "    // Add the status bar.\n",
       "    var status_bar = $('<span class=\"mpl-message\" style=\"text-align:right; float: right;\"/>');\n",
       "    nav_element.append(status_bar);\n",
       "    this.message = status_bar[0];\n",
       "\n",
       "    // Add the close button to the window.\n",
       "    var buttongrp = $('<div class=\"btn-group inline pull-right\"></div>');\n",
       "    var button = $('<button class=\"btn btn-mini btn-primary\" href=\"#\" title=\"Stop Interaction\"><i class=\"fa fa-power-off icon-remove icon-large\"></i></button>');\n",
       "    button.click(function (evt) { fig.handle_close(fig, {}); } );\n",
       "    button.mouseover('Stop Interaction', toolbar_mouse_event);\n",
       "    buttongrp.append(button);\n",
       "    var titlebar = this.root.find($('.ui-dialog-titlebar'));\n",
       "    titlebar.prepend(buttongrp);\n",
       "}\n",
       "\n",
       "mpl.figure.prototype._root_extra_style = function(el){\n",
       "    var fig = this\n",
       "    el.on(\"remove\", function(){\n",
       "\tfig.close_ws(fig, {});\n",
       "    });\n",
       "}\n",
       "\n",
       "mpl.figure.prototype._canvas_extra_style = function(el){\n",
       "    // this is important to make the div 'focusable\n",
       "    el.attr('tabindex', 0)\n",
       "    // reach out to IPython and tell the keyboard manager to turn it's self\n",
       "    // off when our div gets focus\n",
       "\n",
       "    // location in version 3\n",
       "    if (IPython.notebook.keyboard_manager) {\n",
       "        IPython.notebook.keyboard_manager.register_events(el);\n",
       "    }\n",
       "    else {\n",
       "        // location in version 2\n",
       "        IPython.keyboard_manager.register_events(el);\n",
       "    }\n",
       "\n",
       "}\n",
       "\n",
       "mpl.figure.prototype._key_event_extra = function(event, name) {\n",
       "    var manager = IPython.notebook.keyboard_manager;\n",
       "    if (!manager)\n",
       "        manager = IPython.keyboard_manager;\n",
       "\n",
       "    // Check for shift+enter\n",
       "    if (event.shiftKey && event.which == 13) {\n",
       "        this.canvas_div.blur();\n",
       "        // select the cell after this one\n",
       "        var index = IPython.notebook.find_cell_index(this.cell_info[0]);\n",
       "        IPython.notebook.select(index + 1);\n",
       "    }\n",
       "}\n",
       "\n",
       "mpl.figure.prototype.handle_save = function(fig, msg) {\n",
       "    fig.ondownload(fig, null);\n",
       "}\n",
       "\n",
       "\n",
       "mpl.find_output_cell = function(html_output) {\n",
       "    // Return the cell and output element which can be found *uniquely* in the notebook.\n",
       "    // Note - this is a bit hacky, but it is done because the \"notebook_saving.Notebook\"\n",
       "    // IPython event is triggered only after the cells have been serialised, which for\n",
       "    // our purposes (turning an active figure into a static one), is too late.\n",
       "    var cells = IPython.notebook.get_cells();\n",
       "    var ncells = cells.length;\n",
       "    for (var i=0; i<ncells; i++) {\n",
       "        var cell = cells[i];\n",
       "        if (cell.cell_type === 'code'){\n",
       "            for (var j=0; j<cell.output_area.outputs.length; j++) {\n",
       "                var data = cell.output_area.outputs[j];\n",
       "                if (data.data) {\n",
       "                    // IPython >= 3 moved mimebundle to data attribute of output\n",
       "                    data = data.data;\n",
       "                }\n",
       "                if (data['text/html'] == html_output) {\n",
       "                    return [cell, data, j];\n",
       "                }\n",
       "            }\n",
       "        }\n",
       "    }\n",
       "}\n",
       "\n",
       "// Register the function which deals with the matplotlib target/channel.\n",
       "// The kernel may be null if the page has been refreshed.\n",
       "if (IPython.notebook.kernel != null) {\n",
       "    IPython.notebook.kernel.comm_manager.register_target('matplotlib', mpl.mpl_figure_comm);\n",
       "}\n"
      ],
      "text/plain": [
       "<IPython.core.display.Javascript object>"
      ]
     },
     "metadata": {},
     "output_type": "display_data"
    },
    {
     "data": {
      "text/html": [
       "<img src=\"data:image/png;base64,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\" width=\"400\">"
      ],
      "text/plain": [
       "<IPython.core.display.HTML object>"
      ]
     },
     "metadata": {},
     "output_type": "display_data"
    }
   ],
   "source": [
    "fig, ax = plt.subplots(figsize=(4, 3))\n",
    "img = ax.imshow(np.log(rmse_2D), cmap=\"PuOr\")\n",
    "cbar = ax.figure.colorbar(img, ax=ax)\n",
    "cbar.ax.set_ylabel(\"Logscale of RMSE\", rotation=-90, va=\"bottom\")\n",
    "fig.tight_layout()"
   ]
  },
  {
   "cell_type": "markdown",
   "metadata": {},
   "source": [
    "从上图中，我们可以看出，大多数情况下，当一个描述子处在 $\\boldsymbol{S}_1$ 空间，另一个描述子处在 $\\boldsymbol{S}_2$ 时 (即上述矩阵的非对角块，棕黄色部分)，拟合的结果通常会比较好。这与描述子的筛选过程有着直接的关系。尽管绝大多数情况下，描述子要处于不同的空间中才能得到好的结果；但还可能有极少量例外。"
   ]
  },
  {
   "cell_type": "markdown",
   "metadata": {},
   "source": [
    "经过简单的查找后，应当能知道当选取 $\\boldsymbol{S}_1$ 的第 2 个描述子，$\\boldsymbol{S}_2$ 的第 0 个描述子时，给出的线性拟合结果是最佳的。其残差 `Delta_2D` $\\boldsymbol{\\Delta}_\\mathrm{2D}$ 写为"
   ]
  },
  {
   "cell_type": "code",
   "execution_count": 69,
   "metadata": {},
   "outputs": [
    {
     "data": {
      "text/plain": [
       "array([ 0.00406, -0.00466, -0.00297,  0.00161,  0.00196])"
      ]
     },
     "execution_count": 69,
     "metadata": {},
     "output_type": "execute_result"
    }
   ],
   "source": [
    "reg = LinearRegression()\n",
    "reg.fit(np.array([d_1D[2], d_2D[0]]).T, P)\n",
    "Delta_2D = P - reg.predict(np.array([d_1D[2], d_2D[0]]).T)\n",
    "Delta_2D"
   ]
  },
  {
   "cell_type": "markdown",
   "metadata": {},
   "source": [
    "这与文件 [residual/res_002d_p001.dat](residual/res_002d_p001.dat) 的结果一致："
   ]
  },
  {
   "cell_type": "code",
   "execution_count": 70,
   "metadata": {},
   "outputs": [
    {
     "name": "stdout",
     "output_type": "stream",
     "text": [
      "    0.4058658000E-02\r\n",
      "   -0.4655793000E-02\r\n",
      "   -0.2972292700E-02\r\n",
      "    0.1614245300E-02\r\n",
      "    0.1955182100E-02\r\n"
     ]
    }
   ],
   "source": [
    "! cat residual/res_002d_p001.dat"
   ]
  },
  {
   "cell_type": "markdown",
   "metadata": {},
   "source": [
    "残差 `Delta_2D` $\\boldsymbol{\\Delta}_\\mathrm{2D}$ 就将会作为第三轮描述子筛选过程的指标了。"
   ]
  },
  {
   "cell_type": "markdown",
   "metadata": {},
   "source": [
    "同时，上述拟合过程给出的 RMSE 值也与 [models/top0091_002d](models/top0091_002d) 文件一致。其中，SISSO 输出的 `Feature_ID` 一栏给出的是 1-index 的 $\\boldsymbol{S}_1 \\cup \\boldsymbol{S}_2$ 的序号。"
   ]
  },
  {
   "cell_type": "code",
   "execution_count": 71,
   "metadata": {
    "scrolled": true
   },
   "outputs": [
    {
     "name": "stdout",
     "output_type": "stream",
     "text": [
      "        Rank        RMSE       MaxAE  Feature_ID\r\n",
      "           1    0.003268    0.004656  (       3       8)\r\n",
      "           2    0.004235    0.005166  (       2       9)\r\n",
      "           3    0.005273    0.006898  (       5       8)\r\n",
      "           4    0.005682    0.008797  (       2       8)\r\n"
     ]
    }
   ],
   "source": [
    "! cat models/top0091_002d | head -n 5"
   ]
  },
  {
   "cell_type": "markdown",
   "metadata": {},
   "source": [
    "事实上，第三轮描述子筛选的过程与第二轮过程是非常类似的。我们之后就不再对第三轮进行说明。"
   ]
  },
  {
   "cell_type": "markdown",
   "metadata": {},
   "source": [
    "## 最终模型与备选模型"
   ]
  },
  {
   "cell_type": "markdown",
   "metadata": {},
   "source": [
    "作为用户，尽管中间过程与中间输出非常重要，也确实地能加深对 SISSO 算法的了解；但我们所最关心的是最终的结果。我们前面已经提及了从输出文件 [SISSO.out](SISSO.out) 查看最佳模型；但 SISSO 的输出中，还包含众多拟合效果也尚可的各种备选模型。"
   ]
  },
  {
   "cell_type": "markdown",
   "metadata": {},
   "source": [
    "由于我们在设置中选择了 `desc_dim` 为 3，即最终描述子数量为 3；因此在查看模型时，我们也要找到 `model` 文件夹下末尾为 `003d` 为名的文件。我们打出前 6 行："
   ]
  },
  {
   "cell_type": "code",
   "execution_count": 72,
   "metadata": {},
   "outputs": [
    {
     "name": "stdout",
     "output_type": "stream",
     "text": [
      "        Rank        RMSE       MaxAE  Feature_ID\r\n",
      "           1    0.000083    0.000137  (       5      12      16)\r\n",
      "           2    0.000097    0.000147  (       4       5      11)\r\n",
      "           3    0.000100    0.000165  (       5      12      20)\r\n",
      "           4    0.000107    0.000178  (       6      12      17)\r\n",
      "           5    0.000109    0.000182  (       6      12      18)\r\n"
     ]
    }
   ],
   "source": [
    "! cat models/top0100_003d | head -n 6"
   ]
  },
  {
   "cell_type": "markdown",
   "metadata": {},
   "source": [
    "上述的排名是通过 RMSE 为量标给出的。我们会发现，排名第一的模型就是 [SISSO.out](SISSO.out) 所给出的模型 (回见 [上文](#SISSO-运行与结果))。线性拟合的参数在下述文件："
   ]
  },
  {
   "cell_type": "code",
   "execution_count": 73,
   "metadata": {},
   "outputs": [
    {
     "name": "stdout",
     "output_type": "stream",
     "text": [
      "Model_ID, [(c_i,i=0,n)_j,j=1,ntask]\r\n",
      "           1    0.6547943803E+00   -0.2813852886E+01    0.2638598223E-01    0.4721473413E-02\r\n",
      "           2    0.6781322860E+00    0.1483762489E+01   -0.1156767698E+01    0.3405072802E-02\r\n",
      "           3    0.6563705862E+00   -0.2822110944E+01    0.2627937583E-01    0.3542080508E-02\r\n",
      "           4    0.6562623115E+00    0.8694024465E+01    0.2629715431E-01    0.2124739537E-01\r\n",
      "           5    0.6560493168E+00    0.8311600413E+01    0.2628677203E-01    0.9378780197E+01\r\n"
     ]
    }
   ],
   "source": [
    "! cat models/top0100_003d_coeff | head -n 6"
   ]
  },
  {
   "cell_type": "markdown",
   "metadata": {},
   "source": [
    "描述子的编号 (`Feature_ID`) 储存在下述文件中。但需要注意，该文件中的 `corr=` 以后所表现的相关性并不是统一的，因此不具有意义；有意义的部分只有描述子表达式。"
   ]
  },
  {
   "cell_type": "code",
   "execution_count": 74,
   "metadata": {},
   "outputs": [
    {
     "name": "stdout",
     "output_type": "stream",
     "text": [
      "     1\t((F1*F2)/log(F3))  corr=      0.9953\r\n",
      "     2\tcos((F1*F2))  corr=      0.9949\r\n",
      "     3\t((F1*F2))^2  corr=      0.9949\r\n",
      "     4\t((F1*F2)*(F1+F2))  corr=      0.9948\r\n",
      "     5\t((F2)^6/log(F1))  corr=      0.9947\r\n",
      "     6\t((F1)^2*(F2)^3)  corr=      0.9946\r\n",
      "     7\t((F1*F2)*sqrt(F1))  corr=      0.9938\r\n",
      "     8\t(abs(F1-F2))^-1  corr=      0.9693\r\n",
      "     9\t(sqrt(F3)/abs(F1-F2))  corr=      0.9612\r\n",
      "    10\t(sin(F3)/abs(F1-F2))  corr=      0.9540\r\n",
      "    11\t(exp(F3)/abs(F1-F2))  corr=      0.9534\r\n",
      "    12\t(exp(-F3)/abs(F1-F2))  corr=      0.9486\r\n",
      "    13\t(F3/abs(F1-F2))  corr=      0.9474\r\n",
      "    14\t(cos(F2)/abs(F1-F2))  corr=      0.9468\r\n",
      "    15\t((F1)^6/(F1-F2))  corr=      0.8401\r\n",
      "    16\t((F1)^3/(F1-F2))  corr=      0.8265\r\n",
      "    17\t((F1*F2)/(F1-F2))  corr=      0.8177\r\n",
      "    18\t((F2)^6*(F1-F2))  corr=      0.8177\r\n",
      "    19\t((F1)^2/(F1-F2))  corr=      0.8100\r\n",
      "    20\t((F2)^2/(F1-F2))  corr=      0.7965\r\n",
      "    21\t((F2)^3/(F1-F2))  corr=      0.7951\r\n"
     ]
    }
   ],
   "source": [
    "! cat -n feature_space/Uspace.name"
   ]
  },
  {
   "cell_type": "markdown",
   "metadata": {},
   "source": [
    "其中一些简单的结论会是：\n",
    "\n",
    "- 在较少描述子下结果良好的模型，并不意味着更多描述子下也会有更好的表现。譬如，1 号描述子在单描述子下表现最好，3, 8 号描述子在双描述子下表现最好；但这些描述子都没有在最终的三描述子模型的前五名中出现。\n",
    "\n",
    "- 一般来说，比较好的模型中，三个描述子分别会出现在三个描述子集 $\\boldsymbol{S}_1, \\boldsymbol{S}_2, \\boldsymbol{S}_3$ 中。但排名第 2 的模型是例外：两个描述子出现在 $\\boldsymbol{S}_1$，而一个描述子出现在 $\\boldsymbol{S}_2$ 中。\n",
    "\n",
    "- 最好的若干个模型的线性拟合 RMSE 误差并不能说相差很大。\n",
    "\n",
    "- 抛开偏置项 (Bias，即文件 [models/top0100_003d_coeff](models/top0100_003d_coeff) 的首列) 看，越靠前的描述子对预测值的贡献越大；但三个描述子分配不均的排名第 2 模型的情况会是例外，并且也存在排名第 5 的例外情况。"
   ]
  },
  {
   "cell_type": "markdown",
   "metadata": {},
   "source": [
    "实际上，SISSO 给出了许多可供替代的模型。最佳和稍次的模型的表现未必相差很大；若表现稍次的模型所使用的描述子可能更符合物理直觉，那么这些描述子也不应被忽视。所以，从这个角度上讲，SISSO 不只是推荐一个具体的模型，而可以是推荐一系列表现相近的模型与描述子。譬如就上面的例子而言，用户一定会发现到描述子子结构 $f_1 f_2, \\mathrm{abs} (f_1 - f_2)^{-1}, (f_1 - f_2)^{-1}$ 的重要性。因此，SISSO 可以启发用户使用这些描述子描述物理或材料问题的目的，或者从这些描述子出发进行下一步的机器学习过程。"
   ]
  },
  {
   "cell_type": "markdown",
   "metadata": {},
   "source": [
    "## 参考文献"
   ]
  },
  {
   "cell_type": "raw",
   "metadata": {
    "raw_mimetype": "text/restructuredtext"
   },
   "source": [
    ".. bibliography:: SISSO_SimpleNote.bib\n",
    "    :cited:\n",
    "    :style: alpha"
   ]
  }
 ],
 "metadata": {
  "celltoolbar": "Raw Cell Format",
  "kernelspec": {
   "display_name": "Python 3",
   "language": "python",
   "name": "python3"
  },
  "language_info": {
   "codemirror_mode": {
    "name": "ipython",
    "version": 3
   },
   "file_extension": ".py",
   "mimetype": "text/x-python",
   "name": "python",
   "nbconvert_exporter": "python",
   "pygments_lexer": "ipython3",
   "version": "3.8.1"
  },
  "toc": {
   "base_numbering": 1,
   "nav_menu": {},
   "number_sections": true,
   "sideBar": true,
   "skip_h1_title": false,
   "title_cell": "Table of Contents",
   "title_sidebar": "Contents",
   "toc_cell": false,
   "toc_position": {},
   "toc_section_display": true,
   "toc_window_display": false
  }
 },
 "nbformat": 4,
 "nbformat_minor": 4
}
