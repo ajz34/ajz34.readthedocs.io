{
 "cells": [
  {
   "cell_type": "markdown",
   "metadata": {},
   "source": [
    "# Autograd (4)：PyTorch 高阶自动导数"
   ]
  },
  {
   "cell_type": "markdown",
   "metadata": {},
   "source": [
    "PyTorch 的 Autograd 不仅可以作为一阶导数的计算工具，还可以对任意阶的高阶导数作计算。这篇文档我们简单地讨论这个问题。\n",
    "\n",
    "这篇文档若没有 [Stackoverflow 回答](https://stackoverflow.com/questions/50322833/higher-order-gradients-in-pytorch)，恐怕是不会写出来了。"
   ]
  },
  {
   "cell_type": "code",
   "execution_count": 1,
   "metadata": {},
   "outputs": [],
   "source": [
    "%matplotlib notebook\n",
    "\n",
    "import torch\n",
    "from torch.autograd import grad\n",
    "import numpy as np\n",
    "import scipy\n",
    "import scipy.linalg\n",
    "from matplotlib import pyplot as plt\n",
    "\n",
    "torch.set_printoptions(precision=5, sci_mode=False, linewidth=120)"
   ]
  },
  {
   "cell_type": "markdown",
   "metadata": {},
   "source": [
    "## 一元函数的高阶导数"
   ]
  },
  {
   "cell_type": "markdown",
   "metadata": {},
   "source": [
    "我们仍然拿以下的函数\n",
    "\n",
    "$$\n",
    "y (b) = x^3 + 10 \\exp \\left( - \\frac{x^2}{10} \\right)\n",
    "$$\n",
    "\n",
    "其中，当 $x = 3$ 时，$y \\simeq 31.07$。"
   ]
  },
  {
   "cell_type": "code",
   "execution_count": 2,
   "metadata": {},
   "outputs": [
    {
     "data": {
      "text/plain": [
       "31.065696716308594"
      ]
     },
     "execution_count": 2,
     "metadata": {},
     "output_type": "execute_result"
    }
   ],
   "source": [
    "x = torch.tensor(3., requires_grad=True)\n",
    "y = x**3 + 10 * torch.exp(-x**2 / 10)\n",
    "float(y)"
   ]
  },
  {
   "cell_type": "markdown",
   "metadata": {},
   "source": [
    "根据 [Stackoverflow 回答](https://stackoverflow.com/questions/50322833/higher-order-gradients-in-pytorch)，定义如下高阶求导函数 `nth_derivative`："
   ]
  },
  {
   "cell_type": "code",
   "execution_count": 3,
   "metadata": {},
   "outputs": [],
   "source": [
    "def nth_derivative(f, wrt, n):\n",
    "    for i in range(n):\n",
    "        if not f.requires_grad:\n",
    "            return torch.zeros_like(wrt)\n",
    "        grads = grad(f, wrt, create_graph=True)[0]\n",
    "        f = grads.sum()\n",
    "    return grads"
   ]
  },
  {
   "cell_type": "markdown",
   "metadata": {},
   "source": [
    "其中输入的三个参数分别是 `y` 因变量，`wrt` 自变量，`n` 不小于零的导数阶数。"
   ]
  },
  {
   "cell_type": "markdown",
   "metadata": {},
   "source": [
    "我们可以很容易地验证其一阶导数结果确实是如文档 [Autograd (1)](./Autograd_TensorContract.ipynb) 所述的那样。\n",
    "\n",
    "$$\n",
    "\\frac{\\partial y}{\\partial x} = 3 x^2 - 2 x \\exp \\left( - \\frac{x^2}{10} \\right)\n",
    "$$"
   ]
  },
  {
   "cell_type": "code",
   "execution_count": 4,
   "metadata": {},
   "outputs": [
    {
     "data": {
      "text/plain": [
       "24.56058120727539"
      ]
     },
     "execution_count": 4,
     "metadata": {},
     "output_type": "execute_result"
    }
   ],
   "source": [
    "float(nth_derivative(y, x, 1))"
   ]
  },
  {
   "cell_type": "code",
   "execution_count": 5,
   "metadata": {},
   "outputs": [
    {
     "data": {
      "text/plain": [
       "24.56058120727539"
      ]
     },
     "execution_count": 5,
     "metadata": {},
     "output_type": "execute_result"
    }
   ],
   "source": [
    "float(3 * x**2 - 2 * x * torch.exp(-x**2 / 10))"
   ]
  },
  {
   "cell_type": "markdown",
   "metadata": {},
   "source": [
    "但不仅如此，我们还可以求出其二阶导数：\n",
    "\n",
    "$$\n",
    "\\begin{align}\n",
    "u &= \\exp \\left( - \\frac{x^2}{10} \\right) \\\\\n",
    "\\frac{\\partial^2 y}{\\partial x^2} &= \\frac{2}{5} u x^2 + 6 x - 2 u\n",
    "\\end{align}\n",
    "$$"
   ]
  },
  {
   "cell_type": "code",
   "execution_count": 6,
   "metadata": {},
   "outputs": [
    {
     "data": {
      "text/plain": [
       "18.6505126953125"
      ]
     },
     "execution_count": 6,
     "metadata": {},
     "output_type": "execute_result"
    }
   ],
   "source": [
    "float(nth_derivative(y, x, 2))"
   ]
  },
  {
   "cell_type": "code",
   "execution_count": 7,
   "metadata": {},
   "outputs": [
    {
     "data": {
      "text/plain": [
       "18.650510787963867"
      ]
     },
     "execution_count": 7,
     "metadata": {},
     "output_type": "execute_result"
    }
   ],
   "source": [
    "u = torch.exp(-x**2 / 10)\n",
    "float(2 / 5 * u * x**2 + 6 * x - 2 * u)"
   ]
  },
  {
   "cell_type": "markdown",
   "metadata": {},
   "source": [
    "甚至是三阶导数：\n",
    "\n",
    "$$\n",
    "\\frac{\\partial^3 y}{\\partial x^3} = - \\frac{2}{25} u x^3 + \\frac{6}{5} u x + 6\n",
    "$$"
   ]
  },
  {
   "cell_type": "code",
   "execution_count": 8,
   "metadata": {},
   "outputs": [
    {
     "data": {
      "text/plain": [
       "6.585460186004639"
      ]
     },
     "execution_count": 8,
     "metadata": {},
     "output_type": "execute_result"
    }
   ],
   "source": [
    "float(nth_derivative(y, x, 3))"
   ]
  },
  {
   "cell_type": "code",
   "execution_count": 9,
   "metadata": {},
   "outputs": [
    {
     "data": {
      "text/plain": [
       "6.585460186004639"
      ]
     },
     "execution_count": 9,
     "metadata": {},
     "output_type": "execute_result"
    }
   ],
   "source": [
    "float(-2 / 25 * u * x**3 + 6 / 5 * u * x + 6)"
   ]
  },
  {
   "cell_type": "markdown",
   "metadata": {},
   "source": [
    "## 向量二阶自动求导：Newton 法解极值点"
   ]
  },
  {
   "cell_type": "markdown",
   "metadata": {},
   "source": [
    "### 问题的定义"
   ]
  },
  {
   "cell_type": "markdown",
   "metadata": {},
   "source": [
    "下面我们以 Newton 法解极小值点为例，来讨论与向量的二阶自动求导有关的问题。"
   ]
  },
  {
   "cell_type": "markdown",
   "metadata": {},
   "source": [
    "首先，我们的目标是求取下述标量 $y$ 关于向量 $x_i$ 函数的极小值：\n",
    "\n",
    "$$\n",
    "y = \\sum_i A_i x_i + \\sum_{ij} B_{ij} x_i x_j + \\sum_{ijk} C_{ijk} x_i x_j x_k\n",
    "$$"
   ]
  },
  {
   "cell_type": "markdown",
   "metadata": {},
   "source": [
    "其中，`d` $\\dim(i) = \\dim(j) = \\dim(k) = 2$。"
   ]
  },
  {
   "cell_type": "code",
   "execution_count": 10,
   "metadata": {},
   "outputs": [],
   "source": [
    "d = 2"
   ]
  },
  {
   "cell_type": "markdown",
   "metadata": {},
   "source": [
    "为了让极小值基本上确实存在，我们不能随意构造矩阵 $B_{ij}$，并且让关于 $i, j$ 角标的矩阵 $B_{ij} + B_{ji}$ 为正定矩阵。一种构建非对称的 `B` $B_{ij}$ 或写作 $\\mathbf{B}$ 的方式是\n",
    "\n",
    "$$\n",
    "\\mathbf{B} = \\exp(-\\mathbf{K}) \\mathbf{\\Lambda} \\exp(\\mathbf{K}) + \\mathbf{K}\n",
    "$$\n",
    "\n",
    "其中，\n",
    "\n",
    "- `K` $\\mathbf{K}$ 为反对称矩阵；\n",
    "\n",
    "- `eK` $\\exp(-\\mathbf{K})$ 为正交矩阵，具有性质 $\\exp(-\\mathbf{K})^{-1} = \\exp(-\\mathbf{K})^\\mathrm{T}$；\n",
    "\n",
    "- `eig` $\\mathbf{\\Lambda}$ 为对角矩阵，其每个对角元的值是正值。"
   ]
  },
  {
   "cell_type": "markdown",
   "metadata": {},
   "source": [
    "上述的向量 `x` $x_i$，向量 `A` $A_i$，反对称矩阵 `K` $K_{ij}$，对角矩阵 `eig` $\\Lambda_{ij} \\delta_{ij}$，张量 `C` $C_{ijk}$ 的取法都是有条件地任意的。"
   ]
  },
  {
   "cell_type": "markdown",
   "metadata": {},
   "source": [
    "矩阵 `B` $B_{ij}$ 的构造过程如下："
   ]
  },
  {
   "cell_type": "code",
   "execution_count": 11,
   "metadata": {},
   "outputs": [],
   "source": [
    "np.random.seed(0)\n",
    "K = np.random.randn(d, d)\n",
    "K -= K.T\n",
    "eK = scipy.linalg.expm(K)\n",
    "eig = np.abs(np.random.randn(d))\n",
    "B = eK.T @ np.diag(eig) @ eK + K"
   ]
  },
  {
   "cell_type": "markdown",
   "metadata": {},
   "source": [
    "其余量的构造过程如下 (其中 `C` 取了较小的值)："
   ]
  },
  {
   "cell_type": "code",
   "execution_count": 12,
   "metadata": {},
   "outputs": [],
   "source": [
    "torch.random.manual_seed(0)\n",
    "A = torch.randn(d)\n",
    "B = torch.tensor(B, dtype=torch.float)\n",
    "C = torch.randn(d, d, d) / 25"
   ]
  },
  {
   "cell_type": "code",
   "execution_count": 13,
   "metadata": {},
   "outputs": [
    {
     "data": {
      "text/plain": [
       "tensor([ 1.54100, -0.29343])"
      ]
     },
     "execution_count": 13,
     "metadata": {},
     "output_type": "execute_result"
    }
   ],
   "source": [
    "A"
   ]
  },
  {
   "cell_type": "code",
   "execution_count": 14,
   "metadata": {},
   "outputs": [
    {
     "data": {
      "text/plain": [
       "tensor([[ 1.60134, -0.98618],\n",
       "        [ 0.17098,  1.24350]])"
      ]
     },
     "execution_count": 14,
     "metadata": {},
     "output_type": "execute_result"
    }
   ],
   "source": [
    "B"
   ]
  },
  {
   "cell_type": "code",
   "execution_count": 15,
   "metadata": {
    "scrolled": false
   },
   "outputs": [
    {
     "data": {
      "text/plain": [
       "tensor([[[-0.08715,  0.02274],\n",
       "         [-0.04338, -0.05594]],\n",
       "\n",
       "        [[ 0.01613,  0.03352],\n",
       "         [-0.02877, -0.01613]]])"
      ]
     },
     "execution_count": 15,
     "metadata": {},
     "output_type": "execute_result"
    }
   ],
   "source": [
    "C"
   ]
  },
  {
   "cell_type": "markdown",
   "metadata": {},
   "source": [
    "这里我们指出，极值点问题的解分别为 `xmin_0`；同时存在鞍点 `xmin_1`。该问题可以表示如下："
   ]
  },
  {
   "cell_type": "code",
   "execution_count": 16,
   "metadata": {},
   "outputs": [],
   "source": [
    "xmin_0 = np.array([-0.4719677, -0.0355982])\n",
    "xmin_1 = np.array([ 9.3234644,  6.9193769])"
   ]
  },
  {
   "cell_type": "code",
   "execution_count": 17,
   "metadata": {},
   "outputs": [],
   "source": [
    "y_func = lambda x: A @ x + B @ x @ x + C @ x @ x @ x\n",
    "x_list = x_list = torch.arange(-5, 15, 0.05)\n",
    "y_list = [[y_func(torch.tensor([x0, x1]))\n",
    "           for x0 in x_list]\n",
    "           for x1 in x_list]\n",
    "x_list = x_list.numpy()\n",
    "y_list = torch.tensor(y_list).detach().numpy()"
   ]
  },
  {
   "cell_type": "code",
   "execution_count": 18,
   "metadata": {
    "scrolled": false
   },
   "outputs": [
    {
     "data": {
      "application/javascript": [
       "/* Put everything inside the global mpl namespace */\n",
       "window.mpl = {};\n",
       "\n",
       "\n",
       "mpl.get_websocket_type = function() {\n",
       "    if (typeof(WebSocket) !== 'undefined') {\n",
       "        return WebSocket;\n",
       "    } else if (typeof(MozWebSocket) !== 'undefined') {\n",
       "        return MozWebSocket;\n",
       "    } else {\n",
       "        alert('Your browser does not have WebSocket support. ' +\n",
       "              'Please try Chrome, Safari or Firefox ≥ 6. ' +\n",
       "              'Firefox 4 and 5 are also supported but you ' +\n",
       "              'have to enable WebSockets in about:config.');\n",
       "    };\n",
       "}\n",
       "\n",
       "mpl.figure = function(figure_id, websocket, ondownload, parent_element) {\n",
       "    this.id = figure_id;\n",
       "\n",
       "    this.ws = websocket;\n",
       "\n",
       "    this.supports_binary = (this.ws.binaryType != undefined);\n",
       "\n",
       "    if (!this.supports_binary) {\n",
       "        var warnings = document.getElementById(\"mpl-warnings\");\n",
       "        if (warnings) {\n",
       "            warnings.style.display = 'block';\n",
       "            warnings.textContent = (\n",
       "                \"This browser does not support binary websocket messages. \" +\n",
       "                    \"Performance may be slow.\");\n",
       "        }\n",
       "    }\n",
       "\n",
       "    this.imageObj = new Image();\n",
       "\n",
       "    this.context = undefined;\n",
       "    this.message = undefined;\n",
       "    this.canvas = undefined;\n",
       "    this.rubberband_canvas = undefined;\n",
       "    this.rubberband_context = undefined;\n",
       "    this.format_dropdown = undefined;\n",
       "\n",
       "    this.image_mode = 'full';\n",
       "\n",
       "    this.root = $('<div/>');\n",
       "    this._root_extra_style(this.root)\n",
       "    this.root.attr('style', 'display: inline-block');\n",
       "\n",
       "    $(parent_element).append(this.root);\n",
       "\n",
       "    this._init_header(this);\n",
       "    this._init_canvas(this);\n",
       "    this._init_toolbar(this);\n",
       "\n",
       "    var fig = this;\n",
       "\n",
       "    this.waiting = false;\n",
       "\n",
       "    this.ws.onopen =  function () {\n",
       "            fig.send_message(\"supports_binary\", {value: fig.supports_binary});\n",
       "            fig.send_message(\"send_image_mode\", {});\n",
       "            if (mpl.ratio != 1) {\n",
       "                fig.send_message(\"set_dpi_ratio\", {'dpi_ratio': mpl.ratio});\n",
       "            }\n",
       "            fig.send_message(\"refresh\", {});\n",
       "        }\n",
       "\n",
       "    this.imageObj.onload = function() {\n",
       "            if (fig.image_mode == 'full') {\n",
       "                // Full images could contain transparency (where diff images\n",
       "                // almost always do), so we need to clear the canvas so that\n",
       "                // there is no ghosting.\n",
       "                fig.context.clearRect(0, 0, fig.canvas.width, fig.canvas.height);\n",
       "            }\n",
       "            fig.context.drawImage(fig.imageObj, 0, 0);\n",
       "        };\n",
       "\n",
       "    this.imageObj.onunload = function() {\n",
       "        fig.ws.close();\n",
       "    }\n",
       "\n",
       "    this.ws.onmessage = this._make_on_message_function(this);\n",
       "\n",
       "    this.ondownload = ondownload;\n",
       "}\n",
       "\n",
       "mpl.figure.prototype._init_header = function() {\n",
       "    var titlebar = $(\n",
       "        '<div class=\"ui-dialog-titlebar ui-widget-header ui-corner-all ' +\n",
       "        'ui-helper-clearfix\"/>');\n",
       "    var titletext = $(\n",
       "        '<div class=\"ui-dialog-title\" style=\"width: 100%; ' +\n",
       "        'text-align: center; padding: 3px;\"/>');\n",
       "    titlebar.append(titletext)\n",
       "    this.root.append(titlebar);\n",
       "    this.header = titletext[0];\n",
       "}\n",
       "\n",
       "\n",
       "\n",
       "mpl.figure.prototype._canvas_extra_style = function(canvas_div) {\n",
       "\n",
       "}\n",
       "\n",
       "\n",
       "mpl.figure.prototype._root_extra_style = function(canvas_div) {\n",
       "\n",
       "}\n",
       "\n",
       "mpl.figure.prototype._init_canvas = function() {\n",
       "    var fig = this;\n",
       "\n",
       "    var canvas_div = $('<div/>');\n",
       "\n",
       "    canvas_div.attr('style', 'position: relative; clear: both; outline: 0');\n",
       "\n",
       "    function canvas_keyboard_event(event) {\n",
       "        return fig.key_event(event, event['data']);\n",
       "    }\n",
       "\n",
       "    canvas_div.keydown('key_press', canvas_keyboard_event);\n",
       "    canvas_div.keyup('key_release', canvas_keyboard_event);\n",
       "    this.canvas_div = canvas_div\n",
       "    this._canvas_extra_style(canvas_div)\n",
       "    this.root.append(canvas_div);\n",
       "\n",
       "    var canvas = $('<canvas/>');\n",
       "    canvas.addClass('mpl-canvas');\n",
       "    canvas.attr('style', \"left: 0; top: 0; z-index: 0; outline: 0\")\n",
       "\n",
       "    this.canvas = canvas[0];\n",
       "    this.context = canvas[0].getContext(\"2d\");\n",
       "\n",
       "    var backingStore = this.context.backingStorePixelRatio ||\n",
       "\tthis.context.webkitBackingStorePixelRatio ||\n",
       "\tthis.context.mozBackingStorePixelRatio ||\n",
       "\tthis.context.msBackingStorePixelRatio ||\n",
       "\tthis.context.oBackingStorePixelRatio ||\n",
       "\tthis.context.backingStorePixelRatio || 1;\n",
       "\n",
       "    mpl.ratio = (window.devicePixelRatio || 1) / backingStore;\n",
       "\n",
       "    var rubberband = $('<canvas/>');\n",
       "    rubberband.attr('style', \"position: absolute; left: 0; top: 0; z-index: 1;\")\n",
       "\n",
       "    var pass_mouse_events = true;\n",
       "\n",
       "    canvas_div.resizable({\n",
       "        start: function(event, ui) {\n",
       "            pass_mouse_events = false;\n",
       "        },\n",
       "        resize: function(event, ui) {\n",
       "            fig.request_resize(ui.size.width, ui.size.height);\n",
       "        },\n",
       "        stop: function(event, ui) {\n",
       "            pass_mouse_events = true;\n",
       "            fig.request_resize(ui.size.width, ui.size.height);\n",
       "        },\n",
       "    });\n",
       "\n",
       "    function mouse_event_fn(event) {\n",
       "        if (pass_mouse_events)\n",
       "            return fig.mouse_event(event, event['data']);\n",
       "    }\n",
       "\n",
       "    rubberband.mousedown('button_press', mouse_event_fn);\n",
       "    rubberband.mouseup('button_release', mouse_event_fn);\n",
       "    // Throttle sequential mouse events to 1 every 20ms.\n",
       "    rubberband.mousemove('motion_notify', mouse_event_fn);\n",
       "\n",
       "    rubberband.mouseenter('figure_enter', mouse_event_fn);\n",
       "    rubberband.mouseleave('figure_leave', mouse_event_fn);\n",
       "\n",
       "    canvas_div.on(\"wheel\", function (event) {\n",
       "        event = event.originalEvent;\n",
       "        event['data'] = 'scroll'\n",
       "        if (event.deltaY < 0) {\n",
       "            event.step = 1;\n",
       "        } else {\n",
       "            event.step = -1;\n",
       "        }\n",
       "        mouse_event_fn(event);\n",
       "    });\n",
       "\n",
       "    canvas_div.append(canvas);\n",
       "    canvas_div.append(rubberband);\n",
       "\n",
       "    this.rubberband = rubberband;\n",
       "    this.rubberband_canvas = rubberband[0];\n",
       "    this.rubberband_context = rubberband[0].getContext(\"2d\");\n",
       "    this.rubberband_context.strokeStyle = \"#000000\";\n",
       "\n",
       "    this._resize_canvas = function(width, height) {\n",
       "        // Keep the size of the canvas, canvas container, and rubber band\n",
       "        // canvas in synch.\n",
       "        canvas_div.css('width', width)\n",
       "        canvas_div.css('height', height)\n",
       "\n",
       "        canvas.attr('width', width * mpl.ratio);\n",
       "        canvas.attr('height', height * mpl.ratio);\n",
       "        canvas.attr('style', 'width: ' + width + 'px; height: ' + height + 'px;');\n",
       "\n",
       "        rubberband.attr('width', width);\n",
       "        rubberband.attr('height', height);\n",
       "    }\n",
       "\n",
       "    // Set the figure to an initial 600x600px, this will subsequently be updated\n",
       "    // upon first draw.\n",
       "    this._resize_canvas(600, 600);\n",
       "\n",
       "    // Disable right mouse context menu.\n",
       "    $(this.rubberband_canvas).bind(\"contextmenu\",function(e){\n",
       "        return false;\n",
       "    });\n",
       "\n",
       "    function set_focus () {\n",
       "        canvas.focus();\n",
       "        canvas_div.focus();\n",
       "    }\n",
       "\n",
       "    window.setTimeout(set_focus, 100);\n",
       "}\n",
       "\n",
       "mpl.figure.prototype._init_toolbar = function() {\n",
       "    var fig = this;\n",
       "\n",
       "    var nav_element = $('<div/>');\n",
       "    nav_element.attr('style', 'width: 100%');\n",
       "    this.root.append(nav_element);\n",
       "\n",
       "    // Define a callback function for later on.\n",
       "    function toolbar_event(event) {\n",
       "        return fig.toolbar_button_onclick(event['data']);\n",
       "    }\n",
       "    function toolbar_mouse_event(event) {\n",
       "        return fig.toolbar_button_onmouseover(event['data']);\n",
       "    }\n",
       "\n",
       "    for(var toolbar_ind in mpl.toolbar_items) {\n",
       "        var name = mpl.toolbar_items[toolbar_ind][0];\n",
       "        var tooltip = mpl.toolbar_items[toolbar_ind][1];\n",
       "        var image = mpl.toolbar_items[toolbar_ind][2];\n",
       "        var method_name = mpl.toolbar_items[toolbar_ind][3];\n",
       "\n",
       "        if (!name) {\n",
       "            // put a spacer in here.\n",
       "            continue;\n",
       "        }\n",
       "        var button = $('<button/>');\n",
       "        button.addClass('ui-button ui-widget ui-state-default ui-corner-all ' +\n",
       "                        'ui-button-icon-only');\n",
       "        button.attr('role', 'button');\n",
       "        button.attr('aria-disabled', 'false');\n",
       "        button.click(method_name, toolbar_event);\n",
       "        button.mouseover(tooltip, toolbar_mouse_event);\n",
       "\n",
       "        var icon_img = $('<span/>');\n",
       "        icon_img.addClass('ui-button-icon-primary ui-icon');\n",
       "        icon_img.addClass(image);\n",
       "        icon_img.addClass('ui-corner-all');\n",
       "\n",
       "        var tooltip_span = $('<span/>');\n",
       "        tooltip_span.addClass('ui-button-text');\n",
       "        tooltip_span.html(tooltip);\n",
       "\n",
       "        button.append(icon_img);\n",
       "        button.append(tooltip_span);\n",
       "\n",
       "        nav_element.append(button);\n",
       "    }\n",
       "\n",
       "    var fmt_picker_span = $('<span/>');\n",
       "\n",
       "    var fmt_picker = $('<select/>');\n",
       "    fmt_picker.addClass('mpl-toolbar-option ui-widget ui-widget-content');\n",
       "    fmt_picker_span.append(fmt_picker);\n",
       "    nav_element.append(fmt_picker_span);\n",
       "    this.format_dropdown = fmt_picker[0];\n",
       "\n",
       "    for (var ind in mpl.extensions) {\n",
       "        var fmt = mpl.extensions[ind];\n",
       "        var option = $(\n",
       "            '<option/>', {selected: fmt === mpl.default_extension}).html(fmt);\n",
       "        fmt_picker.append(option);\n",
       "    }\n",
       "\n",
       "    // Add hover states to the ui-buttons\n",
       "    $( \".ui-button\" ).hover(\n",
       "        function() { $(this).addClass(\"ui-state-hover\");},\n",
       "        function() { $(this).removeClass(\"ui-state-hover\");}\n",
       "    );\n",
       "\n",
       "    var status_bar = $('<span class=\"mpl-message\"/>');\n",
       "    nav_element.append(status_bar);\n",
       "    this.message = status_bar[0];\n",
       "}\n",
       "\n",
       "mpl.figure.prototype.request_resize = function(x_pixels, y_pixels) {\n",
       "    // Request matplotlib to resize the figure. Matplotlib will then trigger a resize in the client,\n",
       "    // which will in turn request a refresh of the image.\n",
       "    this.send_message('resize', {'width': x_pixels, 'height': y_pixels});\n",
       "}\n",
       "\n",
       "mpl.figure.prototype.send_message = function(type, properties) {\n",
       "    properties['type'] = type;\n",
       "    properties['figure_id'] = this.id;\n",
       "    this.ws.send(JSON.stringify(properties));\n",
       "}\n",
       "\n",
       "mpl.figure.prototype.send_draw_message = function() {\n",
       "    if (!this.waiting) {\n",
       "        this.waiting = true;\n",
       "        this.ws.send(JSON.stringify({type: \"draw\", figure_id: this.id}));\n",
       "    }\n",
       "}\n",
       "\n",
       "\n",
       "mpl.figure.prototype.handle_save = function(fig, msg) {\n",
       "    var format_dropdown = fig.format_dropdown;\n",
       "    var format = format_dropdown.options[format_dropdown.selectedIndex].value;\n",
       "    fig.ondownload(fig, format);\n",
       "}\n",
       "\n",
       "\n",
       "mpl.figure.prototype.handle_resize = function(fig, msg) {\n",
       "    var size = msg['size'];\n",
       "    if (size[0] != fig.canvas.width || size[1] != fig.canvas.height) {\n",
       "        fig._resize_canvas(size[0], size[1]);\n",
       "        fig.send_message(\"refresh\", {});\n",
       "    };\n",
       "}\n",
       "\n",
       "mpl.figure.prototype.handle_rubberband = function(fig, msg) {\n",
       "    var x0 = msg['x0'] / mpl.ratio;\n",
       "    var y0 = (fig.canvas.height - msg['y0']) / mpl.ratio;\n",
       "    var x1 = msg['x1'] / mpl.ratio;\n",
       "    var y1 = (fig.canvas.height - msg['y1']) / mpl.ratio;\n",
       "    x0 = Math.floor(x0) + 0.5;\n",
       "    y0 = Math.floor(y0) + 0.5;\n",
       "    x1 = Math.floor(x1) + 0.5;\n",
       "    y1 = Math.floor(y1) + 0.5;\n",
       "    var min_x = Math.min(x0, x1);\n",
       "    var min_y = Math.min(y0, y1);\n",
       "    var width = Math.abs(x1 - x0);\n",
       "    var height = Math.abs(y1 - y0);\n",
       "\n",
       "    fig.rubberband_context.clearRect(\n",
       "        0, 0, fig.canvas.width, fig.canvas.height);\n",
       "\n",
       "    fig.rubberband_context.strokeRect(min_x, min_y, width, height);\n",
       "}\n",
       "\n",
       "mpl.figure.prototype.handle_figure_label = function(fig, msg) {\n",
       "    // Updates the figure title.\n",
       "    fig.header.textContent = msg['label'];\n",
       "}\n",
       "\n",
       "mpl.figure.prototype.handle_cursor = function(fig, msg) {\n",
       "    var cursor = msg['cursor'];\n",
       "    switch(cursor)\n",
       "    {\n",
       "    case 0:\n",
       "        cursor = 'pointer';\n",
       "        break;\n",
       "    case 1:\n",
       "        cursor = 'default';\n",
       "        break;\n",
       "    case 2:\n",
       "        cursor = 'crosshair';\n",
       "        break;\n",
       "    case 3:\n",
       "        cursor = 'move';\n",
       "        break;\n",
       "    }\n",
       "    fig.rubberband_canvas.style.cursor = cursor;\n",
       "}\n",
       "\n",
       "mpl.figure.prototype.handle_message = function(fig, msg) {\n",
       "    fig.message.textContent = msg['message'];\n",
       "}\n",
       "\n",
       "mpl.figure.prototype.handle_draw = function(fig, msg) {\n",
       "    // Request the server to send over a new figure.\n",
       "    fig.send_draw_message();\n",
       "}\n",
       "\n",
       "mpl.figure.prototype.handle_image_mode = function(fig, msg) {\n",
       "    fig.image_mode = msg['mode'];\n",
       "}\n",
       "\n",
       "mpl.figure.prototype.updated_canvas_event = function() {\n",
       "    // Called whenever the canvas gets updated.\n",
       "    this.send_message(\"ack\", {});\n",
       "}\n",
       "\n",
       "// A function to construct a web socket function for onmessage handling.\n",
       "// Called in the figure constructor.\n",
       "mpl.figure.prototype._make_on_message_function = function(fig) {\n",
       "    return function socket_on_message(evt) {\n",
       "        if (evt.data instanceof Blob) {\n",
       "            /* FIXME: We get \"Resource interpreted as Image but\n",
       "             * transferred with MIME type text/plain:\" errors on\n",
       "             * Chrome.  But how to set the MIME type?  It doesn't seem\n",
       "             * to be part of the websocket stream */\n",
       "            evt.data.type = \"image/png\";\n",
       "\n",
       "            /* Free the memory for the previous frames */\n",
       "            if (fig.imageObj.src) {\n",
       "                (window.URL || window.webkitURL).revokeObjectURL(\n",
       "                    fig.imageObj.src);\n",
       "            }\n",
       "\n",
       "            fig.imageObj.src = (window.URL || window.webkitURL).createObjectURL(\n",
       "                evt.data);\n",
       "            fig.updated_canvas_event();\n",
       "            fig.waiting = false;\n",
       "            return;\n",
       "        }\n",
       "        else if (typeof evt.data === 'string' && evt.data.slice(0, 21) == \"data:image/png;base64\") {\n",
       "            fig.imageObj.src = evt.data;\n",
       "            fig.updated_canvas_event();\n",
       "            fig.waiting = false;\n",
       "            return;\n",
       "        }\n",
       "\n",
       "        var msg = JSON.parse(evt.data);\n",
       "        var msg_type = msg['type'];\n",
       "\n",
       "        // Call the  \"handle_{type}\" callback, which takes\n",
       "        // the figure and JSON message as its only arguments.\n",
       "        try {\n",
       "            var callback = fig[\"handle_\" + msg_type];\n",
       "        } catch (e) {\n",
       "            console.log(\"No handler for the '\" + msg_type + \"' message type: \", msg);\n",
       "            return;\n",
       "        }\n",
       "\n",
       "        if (callback) {\n",
       "            try {\n",
       "                // console.log(\"Handling '\" + msg_type + \"' message: \", msg);\n",
       "                callback(fig, msg);\n",
       "            } catch (e) {\n",
       "                console.log(\"Exception inside the 'handler_\" + msg_type + \"' callback:\", e, e.stack, msg);\n",
       "            }\n",
       "        }\n",
       "    };\n",
       "}\n",
       "\n",
       "// from http://stackoverflow.com/questions/1114465/getting-mouse-location-in-canvas\n",
       "mpl.findpos = function(e) {\n",
       "    //this section is from http://www.quirksmode.org/js/events_properties.html\n",
       "    var targ;\n",
       "    if (!e)\n",
       "        e = window.event;\n",
       "    if (e.target)\n",
       "        targ = e.target;\n",
       "    else if (e.srcElement)\n",
       "        targ = e.srcElement;\n",
       "    if (targ.nodeType == 3) // defeat Safari bug\n",
       "        targ = targ.parentNode;\n",
       "\n",
       "    // jQuery normalizes the pageX and pageY\n",
       "    // pageX,Y are the mouse positions relative to the document\n",
       "    // offset() returns the position of the element relative to the document\n",
       "    var x = e.pageX - $(targ).offset().left;\n",
       "    var y = e.pageY - $(targ).offset().top;\n",
       "\n",
       "    return {\"x\": x, \"y\": y};\n",
       "};\n",
       "\n",
       "/*\n",
       " * return a copy of an object with only non-object keys\n",
       " * we need this to avoid circular references\n",
       " * http://stackoverflow.com/a/24161582/3208463\n",
       " */\n",
       "function simpleKeys (original) {\n",
       "  return Object.keys(original).reduce(function (obj, key) {\n",
       "    if (typeof original[key] !== 'object')\n",
       "        obj[key] = original[key]\n",
       "    return obj;\n",
       "  }, {});\n",
       "}\n",
       "\n",
       "mpl.figure.prototype.mouse_event = function(event, name) {\n",
       "    var canvas_pos = mpl.findpos(event)\n",
       "\n",
       "    if (name === 'button_press')\n",
       "    {\n",
       "        this.canvas.focus();\n",
       "        this.canvas_div.focus();\n",
       "    }\n",
       "\n",
       "    var x = canvas_pos.x * mpl.ratio;\n",
       "    var y = canvas_pos.y * mpl.ratio;\n",
       "\n",
       "    this.send_message(name, {x: x, y: y, button: event.button,\n",
       "                             step: event.step,\n",
       "                             guiEvent: simpleKeys(event)});\n",
       "\n",
       "    /* This prevents the web browser from automatically changing to\n",
       "     * the text insertion cursor when the button is pressed.  We want\n",
       "     * to control all of the cursor setting manually through the\n",
       "     * 'cursor' event from matplotlib */\n",
       "    event.preventDefault();\n",
       "    return false;\n",
       "}\n",
       "\n",
       "mpl.figure.prototype._key_event_extra = function(event, name) {\n",
       "    // Handle any extra behaviour associated with a key event\n",
       "}\n",
       "\n",
       "mpl.figure.prototype.key_event = function(event, name) {\n",
       "\n",
       "    // Prevent repeat events\n",
       "    if (name == 'key_press')\n",
       "    {\n",
       "        if (event.which === this._key)\n",
       "            return;\n",
       "        else\n",
       "            this._key = event.which;\n",
       "    }\n",
       "    if (name == 'key_release')\n",
       "        this._key = null;\n",
       "\n",
       "    var value = '';\n",
       "    if (event.ctrlKey && event.which != 17)\n",
       "        value += \"ctrl+\";\n",
       "    if (event.altKey && event.which != 18)\n",
       "        value += \"alt+\";\n",
       "    if (event.shiftKey && event.which != 16)\n",
       "        value += \"shift+\";\n",
       "\n",
       "    value += 'k';\n",
       "    value += event.which.toString();\n",
       "\n",
       "    this._key_event_extra(event, name);\n",
       "\n",
       "    this.send_message(name, {key: value,\n",
       "                             guiEvent: simpleKeys(event)});\n",
       "    return false;\n",
       "}\n",
       "\n",
       "mpl.figure.prototype.toolbar_button_onclick = function(name) {\n",
       "    if (name == 'download') {\n",
       "        this.handle_save(this, null);\n",
       "    } else {\n",
       "        this.send_message(\"toolbar_button\", {name: name});\n",
       "    }\n",
       "};\n",
       "\n",
       "mpl.figure.prototype.toolbar_button_onmouseover = function(tooltip) {\n",
       "    this.message.textContent = tooltip;\n",
       "};\n",
       "mpl.toolbar_items = [[\"Home\", \"Reset original view\", \"fa fa-home icon-home\", \"home\"], [\"Back\", \"Back to previous view\", \"fa fa-arrow-left icon-arrow-left\", \"back\"], [\"Forward\", \"Forward to next view\", \"fa fa-arrow-right icon-arrow-right\", \"forward\"], [\"\", \"\", \"\", \"\"], [\"Pan\", \"Pan axes with left mouse, zoom with right\", \"fa fa-arrows icon-move\", \"pan\"], [\"Zoom\", \"Zoom to rectangle\", \"fa fa-square-o icon-check-empty\", \"zoom\"], [\"\", \"\", \"\", \"\"], [\"Download\", \"Download plot\", \"fa fa-floppy-o icon-save\", \"download\"]];\n",
       "\n",
       "mpl.extensions = [\"eps\", \"jpeg\", \"pdf\", \"png\", \"ps\", \"raw\", \"svg\", \"tif\"];\n",
       "\n",
       "mpl.default_extension = \"png\";var comm_websocket_adapter = function(comm) {\n",
       "    // Create a \"websocket\"-like object which calls the given IPython comm\n",
       "    // object with the appropriate methods. Currently this is a non binary\n",
       "    // socket, so there is still some room for performance tuning.\n",
       "    var ws = {};\n",
       "\n",
       "    ws.close = function() {\n",
       "        comm.close()\n",
       "    };\n",
       "    ws.send = function(m) {\n",
       "        //console.log('sending', m);\n",
       "        comm.send(m);\n",
       "    };\n",
       "    // Register the callback with on_msg.\n",
       "    comm.on_msg(function(msg) {\n",
       "        //console.log('receiving', msg['content']['data'], msg);\n",
       "        // Pass the mpl event to the overridden (by mpl) onmessage function.\n",
       "        ws.onmessage(msg['content']['data'])\n",
       "    });\n",
       "    return ws;\n",
       "}\n",
       "\n",
       "mpl.mpl_figure_comm = function(comm, msg) {\n",
       "    // This is the function which gets called when the mpl process\n",
       "    // starts-up an IPython Comm through the \"matplotlib\" channel.\n",
       "\n",
       "    var id = msg.content.data.id;\n",
       "    // Get hold of the div created by the display call when the Comm\n",
       "    // socket was opened in Python.\n",
       "    var element = $(\"#\" + id);\n",
       "    var ws_proxy = comm_websocket_adapter(comm)\n",
       "\n",
       "    function ondownload(figure, format) {\n",
       "        window.open(figure.imageObj.src);\n",
       "    }\n",
       "\n",
       "    var fig = new mpl.figure(id, ws_proxy,\n",
       "                           ondownload,\n",
       "                           element.get(0));\n",
       "\n",
       "    // Call onopen now - mpl needs it, as it is assuming we've passed it a real\n",
       "    // web socket which is closed, not our websocket->open comm proxy.\n",
       "    ws_proxy.onopen();\n",
       "\n",
       "    fig.parent_element = element.get(0);\n",
       "    fig.cell_info = mpl.find_output_cell(\"<div id='\" + id + \"'></div>\");\n",
       "    if (!fig.cell_info) {\n",
       "        console.error(\"Failed to find cell for figure\", id, fig);\n",
       "        return;\n",
       "    }\n",
       "\n",
       "    var output_index = fig.cell_info[2]\n",
       "    var cell = fig.cell_info[0];\n",
       "\n",
       "};\n",
       "\n",
       "mpl.figure.prototype.handle_close = function(fig, msg) {\n",
       "    var width = fig.canvas.width/mpl.ratio\n",
       "    fig.root.unbind('remove')\n",
       "\n",
       "    // Update the output cell to use the data from the current canvas.\n",
       "    fig.push_to_output();\n",
       "    var dataURL = fig.canvas.toDataURL();\n",
       "    // Re-enable the keyboard manager in IPython - without this line, in FF,\n",
       "    // the notebook keyboard shortcuts fail.\n",
       "    IPython.keyboard_manager.enable()\n",
       "    $(fig.parent_element).html('<img src=\"' + dataURL + '\" width=\"' + width + '\">');\n",
       "    fig.close_ws(fig, msg);\n",
       "}\n",
       "\n",
       "mpl.figure.prototype.close_ws = function(fig, msg){\n",
       "    fig.send_message('closing', msg);\n",
       "    // fig.ws.close()\n",
       "}\n",
       "\n",
       "mpl.figure.prototype.push_to_output = function(remove_interactive) {\n",
       "    // Turn the data on the canvas into data in the output cell.\n",
       "    var width = this.canvas.width/mpl.ratio\n",
       "    var dataURL = this.canvas.toDataURL();\n",
       "    this.cell_info[1]['text/html'] = '<img src=\"' + dataURL + '\" width=\"' + width + '\">';\n",
       "}\n",
       "\n",
       "mpl.figure.prototype.updated_canvas_event = function() {\n",
       "    // Tell IPython that the notebook contents must change.\n",
       "    IPython.notebook.set_dirty(true);\n",
       "    this.send_message(\"ack\", {});\n",
       "    var fig = this;\n",
       "    // Wait a second, then push the new image to the DOM so\n",
       "    // that it is saved nicely (might be nice to debounce this).\n",
       "    setTimeout(function () { fig.push_to_output() }, 1000);\n",
       "}\n",
       "\n",
       "mpl.figure.prototype._init_toolbar = function() {\n",
       "    var fig = this;\n",
       "\n",
       "    var nav_element = $('<div/>');\n",
       "    nav_element.attr('style', 'width: 100%');\n",
       "    this.root.append(nav_element);\n",
       "\n",
       "    // Define a callback function for later on.\n",
       "    function toolbar_event(event) {\n",
       "        return fig.toolbar_button_onclick(event['data']);\n",
       "    }\n",
       "    function toolbar_mouse_event(event) {\n",
       "        return fig.toolbar_button_onmouseover(event['data']);\n",
       "    }\n",
       "\n",
       "    for(var toolbar_ind in mpl.toolbar_items){\n",
       "        var name = mpl.toolbar_items[toolbar_ind][0];\n",
       "        var tooltip = mpl.toolbar_items[toolbar_ind][1];\n",
       "        var image = mpl.toolbar_items[toolbar_ind][2];\n",
       "        var method_name = mpl.toolbar_items[toolbar_ind][3];\n",
       "\n",
       "        if (!name) { continue; };\n",
       "\n",
       "        var button = $('<button class=\"btn btn-default\" href=\"#\" title=\"' + name + '\"><i class=\"fa ' + image + ' fa-lg\"></i></button>');\n",
       "        button.click(method_name, toolbar_event);\n",
       "        button.mouseover(tooltip, toolbar_mouse_event);\n",
       "        nav_element.append(button);\n",
       "    }\n",
       "\n",
       "    // Add the status bar.\n",
       "    var status_bar = $('<span class=\"mpl-message\" style=\"text-align:right; float: right;\"/>');\n",
       "    nav_element.append(status_bar);\n",
       "    this.message = status_bar[0];\n",
       "\n",
       "    // Add the close button to the window.\n",
       "    var buttongrp = $('<div class=\"btn-group inline pull-right\"></div>');\n",
       "    var button = $('<button class=\"btn btn-mini btn-primary\" href=\"#\" title=\"Stop Interaction\"><i class=\"fa fa-power-off icon-remove icon-large\"></i></button>');\n",
       "    button.click(function (evt) { fig.handle_close(fig, {}); } );\n",
       "    button.mouseover('Stop Interaction', toolbar_mouse_event);\n",
       "    buttongrp.append(button);\n",
       "    var titlebar = this.root.find($('.ui-dialog-titlebar'));\n",
       "    titlebar.prepend(buttongrp);\n",
       "}\n",
       "\n",
       "mpl.figure.prototype._root_extra_style = function(el){\n",
       "    var fig = this\n",
       "    el.on(\"remove\", function(){\n",
       "\tfig.close_ws(fig, {});\n",
       "    });\n",
       "}\n",
       "\n",
       "mpl.figure.prototype._canvas_extra_style = function(el){\n",
       "    // this is important to make the div 'focusable\n",
       "    el.attr('tabindex', 0)\n",
       "    // reach out to IPython and tell the keyboard manager to turn it's self\n",
       "    // off when our div gets focus\n",
       "\n",
       "    // location in version 3\n",
       "    if (IPython.notebook.keyboard_manager) {\n",
       "        IPython.notebook.keyboard_manager.register_events(el);\n",
       "    }\n",
       "    else {\n",
       "        // location in version 2\n",
       "        IPython.keyboard_manager.register_events(el);\n",
       "    }\n",
       "\n",
       "}\n",
       "\n",
       "mpl.figure.prototype._key_event_extra = function(event, name) {\n",
       "    var manager = IPython.notebook.keyboard_manager;\n",
       "    if (!manager)\n",
       "        manager = IPython.keyboard_manager;\n",
       "\n",
       "    // Check for shift+enter\n",
       "    if (event.shiftKey && event.which == 13) {\n",
       "        this.canvas_div.blur();\n",
       "        event.shiftKey = false;\n",
       "        // Send a \"J\" for go to next cell\n",
       "        event.which = 74;\n",
       "        event.keyCode = 74;\n",
       "        manager.command_mode();\n",
       "        manager.handle_keydown(event);\n",
       "    }\n",
       "}\n",
       "\n",
       "mpl.figure.prototype.handle_save = function(fig, msg) {\n",
       "    fig.ondownload(fig, null);\n",
       "}\n",
       "\n",
       "\n",
       "mpl.find_output_cell = function(html_output) {\n",
       "    // Return the cell and output element which can be found *uniquely* in the notebook.\n",
       "    // Note - this is a bit hacky, but it is done because the \"notebook_saving.Notebook\"\n",
       "    // IPython event is triggered only after the cells have been serialised, which for\n",
       "    // our purposes (turning an active figure into a static one), is too late.\n",
       "    var cells = IPython.notebook.get_cells();\n",
       "    var ncells = cells.length;\n",
       "    for (var i=0; i<ncells; i++) {\n",
       "        var cell = cells[i];\n",
       "        if (cell.cell_type === 'code'){\n",
       "            for (var j=0; j<cell.output_area.outputs.length; j++) {\n",
       "                var data = cell.output_area.outputs[j];\n",
       "                if (data.data) {\n",
       "                    // IPython >= 3 moved mimebundle to data attribute of output\n",
       "                    data = data.data;\n",
       "                }\n",
       "                if (data['text/html'] == html_output) {\n",
       "                    return [cell, data, j];\n",
       "                }\n",
       "            }\n",
       "        }\n",
       "    }\n",
       "}\n",
       "\n",
       "// Register the function which deals with the matplotlib target/channel.\n",
       "// The kernel may be null if the page has been refreshed.\n",
       "if (IPython.notebook.kernel != null) {\n",
       "    IPython.notebook.kernel.comm_manager.register_target('matplotlib', mpl.mpl_figure_comm);\n",
       "}\n"
      ],
      "text/plain": [
       "<IPython.core.display.Javascript object>"
      ]
     },
     "metadata": {},
     "output_type": "display_data"
    },
    {
     "data": {
      "text/html": [
       "<img src=\"data:image/png;base64,iVBORw0KGgoAAAANSUhEUgAAAyAAAAJYCAYAAACadoJwAAAgAElEQVR4XuydCbQWxZmwX3ZZlFFQRNnRKC6gYNzAZaKIDuJuBEMCRgyIEgwGXPgzgCMQgYFBZA0Z4ASToKgngiNqBIkCLjABYUQjm4KALIqssv+ninyXu3xLL9Xd1d1Pn8NJvLe6uvp53+7ve+5b1V3u6NGjR4UNAhCAAAQgAAEIQAACEIBACATKISAhUOYQEIAABCAAAQhAAAIQgIAmgICQCBCAAAQgAAEIQAACEIBAaAQQkNBQcyAIQAACEIAABCAAAQhAAAEhByAAAQhAAAIQgAAEIACB0AggIKGh5kAQgAAEIAABCEAAAhCAAAJCDkAAAhCAAAQgAAEIQAACoRFAQEJDzYEgAAEIQAACEIAABCAAAQSEHIAABCAAAQhAAAIQgAAEQiOAgISGmgNBAAIQgAAEIAABCEAAAggIOQABCEAAAhCAAAQgAAEIhEYAAQkNNQeCAAQgAAEIQAACEIAABBAQcgACEIAABCAAAQhAAAIQCI0AAhIaag4EAQhAAAIQgAAEIAABCCAg5AAEIAABCEAAAhCAAAQgEBoBBCQ01BwIAhCAAAQgAAEIQAACEEBAyAEIQAACEIAABCAAAQhAIDQCCEhoqDkQBCAAAQhAAAIQgAAEIICAkAMQgAAEIAABCEAAAhCAQGgEEJDQUHMgCEAAAhCAAAQgAAEIQAABIQcgAAEIQAACEIAABCAAgdAIICChoeZAEIAABCAAAQhAAAIQgAACQg5AAAIQgAAEIAABCEAAAqERQEBCQ82BIAABCEAAAhCAAAQgAAEEhByAAAQgAAEIQAACEIAABEIjgICEhpoDQQACEIAABCAAAQhAAAIICDkAAQhAAAIQgAAEIAABCIRGAAEJDTUHggAEIAABCEAAAhCAAAQQEHIAAhCAAAQgAAEIQAACEAiNAAISGmoOBAEIQAACEIAABCAAAQggIOQABCAAAQhAAAIQgAAEIBAaAQQkNNQcCAIQgAAEIAABCEAAAhBAQMgBCEAAAhCAAAQgAAEIQCA0AghIaKg5EAQgAAEIQAACEIAABCCAgJADEIAABCAAAQhAAAIQgEBoBBCQ0FBzIAhAAAIQgAAEIAABCEAAASEHIAABCEAAAhCAAAQgAIHQCCAgoaHmQBCAAAQgAAEIQAACEIAAAkIOQAACEIAABCAAAQhAAAKhEUBAQkPNgSAAAQhAAAIQgAAEIAABBIQcgAAEIAABCEAAAhCAAARCI4CAhIaaA0EAAhCAAAQgAAEIQAACCAg5AAEIQAACEIAABCAAAQiERgABCQ01B4IABCAAAQhAAAIQgAAEEBByAAIQgAAEIAABCEAAAhAIjQACEhpqDgQBCEAAAhCAAAQgAAEIICDkAAQgAAEIQAACEIAABCAQGgEEJDTUHAgCEIAABCAAAQhAAAIQQEDIAQhAAAIQgAAEIAABCEAgNAIISGioORAEIAABCEAAAhCAAAQggICQAxCAAAQgAAEIQAACEIBAaAQQkNBQcyAIQAACEIAABCAAAQhAAAEhByAAAQhAAAIQgAAEIACB0AggIKGh5kAQgAAEIAABCEAAAhCAAAJCDkAAAhCAAAQgAAEIQAACoRFAQEJDzYEgAAEIQAACEIAABCAAAQSEHIAABCAAAQhAAAIQgAAEQiOAgISGmgNBAAIQgAAEIAABCEAAAggIOQABCEAAAhCAAAQgAAEIhEYAAQkNNQeCAAQgAAEIQAACEIAABBAQcgACEIAABCAAAQhAAAIQCI0AAhIaag4EAQhAAAIQgAAEIAABCCAg5AAEIAABCEAAAhCAAAQgEBoBBCQ01BwIAhCAAAQgAAEIQAACEEBAyAEIQAACEIAABCAAAQhAIDQCCEhoqDkQBCAAAQhAAAIQgAAEIICAkAMQgAAEIAABCEAAAhCAQGgEEJDQUHMgCEAAAhCAAAQgAAEIQAABIQcgAAEIQAACEIAABCAAgdAIICChoeZAEIAABCAAAQhAAAIQgAACQg5AAAIQgAAEIAABCEAAAqERQEBCQ134QNu2bZM33nhDGjVqJFWrVi28Ay0gAAEIQAACEIicwL59+2TdunXSrl07qV27dujj+fLLL0V9hwhiU+fToEGDILqmzxQTQEAsCv7zzz8vnTt3tmhEDAUCEIAABCAAAacEpk+fLj/5yU+cNjfSTslHs3Mbyd59R430V7qTatWqycqVK5GQQOimt1MExKLYL1iwQNq0aSO/G3OK/ODsSgVHtunwkYJtijfYdKimq/aq8WYP+2QOsvmg++Nl9t22v4brsZbeYfv+6r77yHSw43vzFak931c2Nr5sHR3cVziHjA1gb3ljXXnpqML30R6/9Jgr7ivn5TQC36fCvsAP4foAFb93vUsgO1TcG8yXt3yDrbTX3T3c64lXDPA4Ffcc8DqsrPuV322ov917fI3r6M5drvbfc+Q7WX5oobz33nvSunVrV/v6bfy///u/0qpVK8ffHdwc7x+fH5QHen0jS5YskZYtW7rZlbYQyEsAAbEoQTI3kflz6shFF+b/cvqFS/lYd/AU12e6/mAt1/tkdvhyv/d9N33vXVwyx9+870TPYy+947a95kQm0/euvScYG1+2jg7sCVZuShxzd4VAz6VQ5xUilp/i46u0x07xUGOsuLsQyfB/X2lv+MfMdsRKu8OXDzWOyrvDEZBKuw4HBrrSzv1G+66w05CRfudOIEqfxJFvdrg6r51Htsv7B16P5Iu6m+8Ork5KRJYuPyDX3Ph1JOfldqy0jxcBBMSieDm9idgsH37EQ4Ui6fKRKPFQAYtQPmwSD4UC+XB/M0VAEJDSWYOAuL+OnH53cN8zAuKFGfs4I4CAOOMUSisnNxHkI38oTFU+qHoUSPkIxUONDPlwfkuysfKhhc2S6oceCxUQ5wlVqmVSKyDqNN1UQaiAeE4hdkwpAQTEosAXEhDkA/nIRYApV9FdyFQ+3LNHPo4xYwpW2dwxVgFRXYc4DQsBcX8fYI90E0BALIp/PgFBPnIHylTVQx0hbpWPUMVDAYqw8kHVw93NytbKB9WP43FEQLLntDEJQUDc3TSytGYNiG+EdJCDAAJiUWrkEhDkI57ykaj1HhGKh4o+8uHuRoV8OOcV1fSrpFRAtFAmdCG6Ojen07CogDi/5mgJAUUAAbEoD7IJSFLlg8Xm/hIv1MpHhPJhm3joL1sWP+lKjQ/5cH5tRSkfCEjuONlSAUFAWITu/G5CS7cEEBC3xAJsX1pAkI/gKx9MucqT0BGKh41VD+TD/83PprUfOp4RLT7PkEzCFCyrKyBqcCFNw6IC4v/+QA/pIoCAWBTv4gJy8nkVXY0szPd8+HnUrk2VD+QD+XB6kdle9bC98qG/pFr01KtM3KMUkLDko+hcY/QuEP0HCEveB+K0CoKAOL2b0g4CxwggIBZlQkZA/vzaqXJegRcRFh828uE+iKblg/Ue7mOQbQ+mXHnjaPO0K+Qje0wRkPy5joA4vxcUeoKm857KtmQRuh967JuPAAJiUX54ERDkw30A4yQfaVnrof/iadEbzYv+asx6D/cXWJY9qH6UhYKAICBGLi4RQUBMkaSfMAkgIGHSLnAstwKSFvmw+TG7QVY+0iIfiIe3m5DtVY8iibNw6pWuyqRk/UdRHNI6BUsBCGEdCFOwvN3H2Cu9BBAQi2LvRkCQD3eBM131UEdPhHyw0LxMIrHew921la+1jZUPG+RDjSFJFRDN1NZH8RoQENVFocfxIiDm7hv0lA4CCIhFcQ5SQNYfrOXpTKNccG6q8mFaPhIhHiobIpQPqh6eLke9U1wqH/pLKdWPnIFGQApfA3FaB4KAlI3nypUrZdCgQbJkyRLZtGmTlC9fXpo0aSJdu3aVBx98UKpUqVJiJ9Xmqaeektdee02+/vprqVWrllx66aUyceJEqVOnTlHbw4cPy/Dhw2Xy5Mmyfv16qV+/vnTr1k369u0rFSpUKJxYtLCCAAJiRRiODcKpgLitfiAf5oKMfPhniXx4Z4h8eGdXfM+op19RAXEWR2MCYqAKQgVkibRs2dJZ4P7Z6s0335QRI0bIZZddJvXq1RMlDgsWLJA//elP0r59e5k1a1ZRf59//rlcffXVUrVqVS0oqv3WrVtl0aJFWjbOPvvsorY9e/aU8ePHy3333SdXXnmlLFy4UKZMmSLq52PHjnU1RhpHRwABiY59mSM7ERDkw3nAqHxkYUXVowyUOEy5UoNGPpxf+/la2iAfCIizWNokIGrE+SSECoizmKpWDz/8sBaFTz/9VM455xw5evSolhQlKPPnz5caNWrk7Gz58uXSokUL6dWrl4wePbqoXe/evWXMmDGybNkyufDCC50PhpaREUBAIkNf9sCFBAT5cB6suMgHC82dx9R0y7iIB/JhNvIIiFmemd5MrwFR/SIgzmIVt6dgqaqImi71/vvva/GYO3euXHfddboicvPNN8v333+vp2tVrly5DID+/fvLkCFDZM2aNdK4ceOi369du1ZP73ryySdl8ODBzsDRKlICCEik+EsePJ+AIB/OAhUX8VBnE5p8RFj10F8ieLyus+TN0ipOVQ81fFvXfBRHa4OAhL3+Q8cmwKdg6f4NL0LPxMyYhPh8EpYaDxUQd1OwMjHcu3evqH979uyRDz/8UB566CGpVKmSrFq1Sk+56tevn55m9c4772iBUFOqypUrp+Vk5MiRcsUVVxRdwu3atdNVjs2bN5e5Y6p1IhdffLHMmTPH8z2XHcMjgICEx7rgkXIJiO3y4fft5iw2L5ga3htEKB+Ih/ewqT3jJh9xEBAb5ENxSqKABCUhxgREDTBACUn6FKzp06dLs2bNStzU6tatK+pfoW3gwIF6MXpmU2IxadIkad68uf7RbbfdJn/5y1+kdu3actVVV0mnTp1k48aNekG6EhclLZlpVep/VWVELWwvvak1KgcPHhQ1TYvNfgIIiEUxyiYgyIezAMWl8hFa1UNhQz5KJA9TrpxdS15bUf1wTg4Bcc4KASnMqtD07cI95G7xyfID0rH91qwNBgwYIEouCm1qupT6t337dj3d6uOPP5ahQ4fKtddeq3e9/vrr5e2339bTsP76178Wdffuu+/qhel33323vPDCC/rnTZs21U/EUlWS0ptakL5lyxZdWWGznwACYlGMSt9EkA9nwUE+SnFCPGIrHmrgVD6cXfduW9lS/VDjRkCcRw8BKcwqDAHxUwEpfQajRo2Sxx57TE+lUlWVDh06yOzZs2Xq1KnSpUuXEs0bNWok+/bt04/lVRsVkML5EJcWCIhFkSp+E6l27umuRhb2o3aTOO0qEY/YRT5iKx9xFA8FOw6VDz3OiN98XjwxERBXH29WLUbPtQ7EhilYf37tVDnvwrILt93RLtk6UwFRU57cPoY313GVTJx++ulFC8Z79Oih3/Xx+uuvy4033lhit8svv1y/ouDAgQP656wB8RNNu/ZFQCyKR0ZARv3lLGl6QVXHI0ujfFD1oOqR7wKJ03SruFY94iQfCEjwi9A1Y9sXoqtBBrQOBAFx/JVF1q1bp59gpV5GOG7cOPn973+vXyT4u9/9Tv9v8U29D0RtGzZs0P+rFqmr6Vs8Bcs5b1tbIiAWRSZMAfH6hnMbKh/IB/KBfER/44pL5cM2+VDjoQLiLn/jMA0LASkbU7Ue47TTTivzi8xTrzJTrrZt2yYNGzbU06vUiwozbzNX07LU9Kz7779fv/VcbWralnrSVa73gCxdurRocbu7LKN12AQQkLCJ5zmeFwHxUv1APo4HIahpV6EsNme6VYmriapHuDczBMQ776QKSFBVEAQkf66FsQbEyxSs22+/XS88V4vN69evLzt27JA33nhDLzhv06aNzJs3TypWrKhPTr1U8JFHHtFPwfrxj38sX331lTz77LNSvXp1/cQrtX9my0zZUm9Cb926tZYW9Sb07t27y4QJE7xfmOwZKgEEJFTczm4iTqdgIR/egxdr8VCnjXwgH97T3/eeyIc/hFEIiJaDgN8FEpSAqH5tlxAqIGWviRkzZuiF5eqpV1u3bpUqVarIueeeK/fcc4+uYKj/Lr6phe7qvR+ffPKJVKtWTdq2baunW6kXDBbfDh06JMOGDdNVETU1S03TUlO3VGUlIzT+rlD2DoMAAhIGZYfHcFMBQT4cQs3SDPnwxo73enjjVnqvuC42z5xHnORDfyG2aPG5Gk9U8oGAFLsSA1gHgoCYuT/SS3oIICAWxdqpgCAf3oMWa/mg6lEi8Ey58n4deN0T+fBK7vh+CIg3hlRAcnOzdQqWt0izV1oIICAWRdqJgMRFPmx8u3kQ8hHKWg+VoxHJB1UPMzeIuFc99F/P95phEWYvtlU/qIB4j75RAVHDMFwFoQLiPbbsmU4CCIhFcS8kIGmSD5NPugpCPFTahCIfEYmHOj/b5CNuFQ/FMAnigXyY/ZBIegVE50sKH8eLgJi9Tugt+QQQEItinE9AkA9vgUI+3HOzTTz0F5o95dyfSMR7IB/RBsDG6kcaKiAIiLkX9jm9gpiC5ZQU7WwigIBYFI1cAoJ8eAtSEPIRStVDnW4ElQ/Ew1ueld4rKeIR18pHJh4ISNl8DuMpWGkSEHWumTejUwExc/+kl/QQQEAsinU2AUE+vAUotvIRgXgowsiHtzxDPsxwM92LrfJBBcRfpG1eB4KA+Iste6ePAAJiUcxLCwjy4S04yIdzboiHc1b5Wiap6hH3yocev2WP3i2eO6wB8XfNGZUQgwvRERB/cWXv9BFAQCyKeXEBqXxOPdcji+IN5yaedmVqwXkQ4qGCEPi0K6oeOtfjuM5DjRv5cH2rCnQH5CM33rhPwdLV2p3fm8sfAwKiBqOmYSEg5sJCT+kggIBYFOeMgDz2UitpcP6JrkYWR/kwJR4KVBDyEbh4qIFHIB9UPVxdWjkbJ008klD5oPqRP7fDEhAdhzg8CUsN1ICEICBm7qn0ki4CCIhF8fYqIMjHCcajGLh8RCAe+q+He8sbZ+WnQ6oefuiZ2zeO7/jIdvY2Vz/UeKOcfqWlYNdhc0lToCcEJDTUwlOwwmPNkcwRQEDMsfTdkxcBQT6QDyeJZ5t46C9DPFrXSegCb4N8BI646AAIiBnWNk7D2rFttbx/4HVZsoTH8JqJMr0knQACYlGE3QpImuWDKVfOE9c2+YijeCjaTLlynnNRtLS9+kEFxFxWICAlWVIBMZdb9BQeAQQkPNYFj+RGQJCPgjhdNUjilCvEw1UK5GycRPHQFai9ZvjY0Esc5MMGAdFxD2kaVlBTsNQ5GBUQ1aGBdSBUQGy4EzCGOBFAQCyKllMBQT7MBg35MMszW29xrHokVTySJh/6fCx+7G7x6yHqKVhhCog+VooWon93YIss2vZCpFOwRv3lLGl6QVWjN/TVK/bJr25dFcl5GT0ROrOOAAJiUUicCEjY8pH0x+wGKh8RLDSn6mHmgkY+zHAMoxfkwx3lsCogQQqI8SqIgQoIAuIuD2kNAQTEohwoJCDIh7lgBSoeapgpl484VjxU2BAPc9dYWD0hIO5IIyA5ePmUEATEXR7SGgIIiEU5kE9AkA9zgUqafFD18J8bSRYP/ZfoBK33KB7tuMiHGrMN0690LoS0BiRWFRA1WAQk642UKVj+P1/oITsBBMSizMglIHGTD1MvGIzdk66oelh0NTkfCvLhnJVNLeMkHwiI+cyxbSE6FRDzMabHZBNAQCyKbzYBQT7MBIiqhxmO2XphulVwbP30nNSqR4YJAuItO8KsgKSpCoKAeMtH9kovAQTEotiXFhDkw0xwkA8zHJMiH0mveOgvfQmdchVX+UhrBQQBCe7eW7znzHcHnoIVDm+OYoYAAmKGo5FeiguInNXIU5+bvq/paT+/T7uyddpVoPIR8pQrm9Z6xLHqkQbxSIN86HOMyWN3i9+M07gGBAHx9HHseicExDUydrCAAAJiQRAyQ/ArIMhHyWAiH+aTG/Ewz9RUj0mvelD9MJMpTMEqwNHjYnSmYJnJT3pJD4FECcju3btlxIgR+oU5ixcvls2bN0uXLl1k6tSpJSKqfjd9+nSZO3eurF27VqpXry7nn3++PPHEE3L99dc7in7Xrl1l2rRpWduuX79e6tWr56if4o0yAtLlzz+S05ud7Gr/OMuH6cXmiIer1HHUOI7ioU6Mqoej8MamURwrHwquLdUPXZEI8SlYQVdAVP+2LEZHQGJzG2GglhBIlICsW7dOGjduLHXr1pVWrVrJ7NmzswrIXXfdJfPnz5c777xTWrZsKUpcpkyZIitWrJBx48bJgw8+WDA8GQFRElK+fPkS7e+44w6pVq1awT5KN/AqIMjHcZJJkQ+mW7m+fErsgHj442fr3giI/8iELSBBSwgCIsIULP/XBT2ETyBRArJ//37Ztm2bnHnmmXLo0CGpVKlSVgFZsGCBXHLJJVKlSpUi4vv27ZOLLrpItm7dKlu2bJGKFSvmjUZGQA4ePFiwrdOwehEQ5AP5cJpfbtvFseqRFvHQX+oSvtC8dL7GVT5sq4AkrQqCgCAgbj/baG8HgUQJSHGk+QQkF/pHH31URo4cKV9++aXUr1/fkYAcOHBAlLzUqFGjTCXEbYjdCgjyEYJ8hLjQ3JaqB+Lh9soNt33axEN/YY7hovPiWWHTFKykCYg6HxskhClY4d4HOVr8CSAgxWLYqVMnmTlzpuzYsUOvC8m3ZSogJ554ouzatUuqVq0qN910kwwbNkyaNm3qKTPcCAjycQwxU648pVrOneImH2mqeKSx6pEE+aACIlJp536zN6pSvSEg/6unnfMY3kDTjM4NE0BA/gl05cqVegrWzTffLC+99FJBzI8//rio6VfqoldTud5//30ZM2aMKCFRi9wbNmyYt49NmzaJ+ld8U2Po3LmzFFqEjnwkRz6oehS81HI2SJN8pLHqkQk81Q/v10iuPcNeB4KAmI9h8R5ZAxIsX3oPhgACIiLfffedXHHFFVoIli1bJg0aNPBE+6233pIbbrgh67qT0h0OHDhQBg0alPU4+QQkCvmw8R0fgVU+UjblKm4VD3XBIB6ebk+x3Cnu8mFj9UNXlUJ+EpY+ZoBVEOMVEDVgl4/jZQpWLG8xDDpCAqkXELV+o127dvLRRx/JnDlz5JprrvEVDlURUSKzceNG4xWQuMpHbB6zi3z4yv2gd06TeOgvbClbZF46f5IgHwjI8agGKSDqKMYlBAHRwVu9Yp/86tZV+vUG6qmhbBAwRSDVAqIWkN9yyy36fSAvv/yynn7ld1OP4FWP/1V9u93yrQFBPpKx3sOGKVdxq3ogHm7vJPFvnxT5QEAQkDCuRqZghUGZY5gmkFoBUU/JUu8DmTVrljz//PPSsWNHI2ybN28u3377raiXEbrdcgkI8hGgfKSo6oF4uL0iw22f9opHcdoISLC5l7QpWIFUQFSnLqogTMEKNmfpPXkEUikgR44ckXvvvVdmzJghkyZNkgceeCBnZNVC89WrV0vNmjX1Cw7VtmfPHv3uj+LvEVE/V/0pkenevbtMmDDBdbZkExDkI/7yQdXD3aVAxcMdr6S1TpJ8UAEpmZ1JnoaFgCTtTsT5BE0gcQLy3HPP6cfoKskYMGCAXHzxxaKmRalNTbdSFYo+ffrIqFGj9HqPbt26lWHctm1bqVOnjv555u3qXbp0kalTp+qfLV26VNq3by+33XabnH322VK5cmVZtGiR/PGPf9TvD/nggw+K9ncTwNICgnwgH27yJ1vbOFU90iYeKl5UPUp9QY35+z5KX4O2vf8jM74oKiA63wNciK76j3IdCALi99OK/dNGIHEC0qhRI/niiy+yxnHKlCmi3t9x7bXXyvz583PGet68ebpNLgHZvHmzqJcWqoXrarG5qpIo8ejQoYP0799fateu7SmPigvI0caNPPWxed+JnvZTO5l42pXJBeeBPOkqpClXUVc9EA/Pl0EoOyIeZTEnrfKhztBWAdEykLAnYQUiIKpTh9OwbBCQx15qJQ3O9/4dINvN78v/2yXP3LmEReihfDKk6yCJE5A4hy8jIO2n3SK1znUvMUmRj0DEQyUG8mHV5UHFw6pwRDqYJMoHApJFMuNWAUFABAGJ9NaY6IMjIBaF14+AIB8FAhmCfFD1cHYxIR7OOKWlVVLlAwHJnsFJnYZFBSQtdyzO0xQBBMQUSQP9eBWQKOWDKVfHAh+lfDDdysDFF1AXTLXKDzbJ8oGAJERAHFZBEJCAbqJ0m1gCCIhFofUiIMhHngBS9bAmu9NW9UA8Cqde0uUDAUFACl8FZlpkvjuwBsQMT3oJhwACEg5nR0dxKyDIR3rlIy5VD8TD0aWfukbIR/Qhj2IRujrroKdg6Yr0zu/NAnawEJ0KiFnk9JZ8AgiIRTF2IyDIR3TywXSrwhcN4lGYUVpbpEE+bK9+aBGI4ClYsRUQNfACEoKApPWOxnl7JYCAeCUXwH5OBSQJ8hHIk64SPuUqDlUPxCOAG0OCukyLfCAg+ZM26CqI8QoIAsJjeBN0H7blVBAQWyIhIk4EBPnIEbAEywfiYdFF+s+hsMbDfUzSJB8ISLQCoo5uXEKogEjLli3dX/jsAYEcBBAQi1KjkIAgH9HIB1Oucl8kVDwsuoFYPJS0yUccBERPh2IalrurJo+EMAXLHUpaQwABsSgH8gkI8pElUFQ9IstexCMy9LE7MPJhb8gQEJexQUBcAqM5BHITQEAsyo5cAoJ8hC8fUVU9bJ9ulSbxYJqV/5tjGuUjLtWPKCsg+tgJeys6FRD/9wt6SBcBBMSieGcTEOQD+bAhRREPG6IQrzGkVT4QEGd5GrSAqFEYXweiOs1RBUFAnMWdVhDIEEBALMoFkwKybW91X2dm4g3ncXzSVRSVD5urHoiHr8solTunWTwyAa+8+0gsYh/VFKwwKiAIiJkU/PL/dskzdy7hKVhmcNJLMQIIiEXpUFpAvFY/EikfAa/3iEI89Jj/WIsAACAASURBVIfwnnIWZeDxoSAeVobF+kEhH8dChIAUTlUqIIUZOW3Bm9CdkqKdTQQQEIuiUVxADjZs7GlkyId7bFHIh63ioeilQT5Y3+H+Oim0B/IRL/nQfwCJ6ClYmVxKkoQwBavsHWLlypUyaNAgXT3ZtGmTlC9fXpo0aSJdu3aVBx98UKpUqVK00+HDh2X48OEyefJkWb9+vdSvX1+6desmffv2lQoVKpTo3E3bQvctfh8dAQQkOvZljpwRkMsndZKTfnCa65EhH+6QIR4leSEe7vKH1scIIB4lMyEu1Q8ExMcVnGUdCAJSluebb74pI0aMkMsuu0zq1asnShwWLFggf/rTn6R9+/Yya9asop169uwp48ePl/vuu0+uvPJKWbhwoUyZMkXUz8eOHVuiczdtfUSZXQMmgIAEDNhN934ExI98mFjvoc7T+JqPAKddIR/HMxPxcHOV0rY4AeSjbD7ESUCilhAqIGbuJ3GbgvXwww9rqfj000/lnHPOkeXLl0uLFi2kV69eMnr06CIovXv3ljFjxsiyZcvkwgsv1D9309YMXXoJigACEhRZD/16FRDkwx3ssOXD1ulWiIe7vKF1SQLIR/aMQEDcXSlJkRAqIM7jrqoiamrV+++/r6sj/fv3lyFDhsiaNWukcePj08/Xrl2rp2w9+eSTMnjwYH0AN22dj4iWURBAQKKgnuOYXgQkcfJB1SPwjEy6eLC+I9gUQjzy80VA3OUfAuKOV7bWtldA9u7dK+rfnj175MMPP5SHHnpIKlWqJKtWrZKqVatKu3btdJVj8+bNZU6vTp06cvHFF8ucOXP079y09U+WHoIkgIAESddl324FBPlwDpiqR/IXlyMezq8Hry2Rj2TJhzobFqJ7vRpKvhMk6RWQ6dOnS7NmzUrAqlu3rqh/hbaBAwfqxeiZTVU9Jk2aJM2bN9c/UtOrKleurBerl95atmwpBw8e1FOv3LYtNC5+Hy0BBCRa/iWO7kZAopYP1nvkThzbplxR8bDoIo/pUBAPZ4GLW/UjLQKizjPolxLaICBd/vwjOb3Zyc6S1WGrzSu/lWkd52ZtPWDAAFFyUWhTU6vUv+3bt8vcuXPl448/lqFDh8q1116rd23atKmoSodaeF56UwvSt2zZoqslbtsWGhe/j5YAAhItf08Cgnw4C1raqx5JFg+qHc6uAb+tEA93BBEQd7wyrZMwDSvpAuKnAlI6K0aNGiWPPfaYnnalqipUQLxdN3HfCwGxKIJOKiCJko8Erfeg6hHOhYR4hMNZ/2V899HwDpaQIyEg3gIZWwFRp/vPR/ImXUDU9Cg1HcrE9vXXX8vpp59etLjczboON21NjJU+giOAgATH1nXPhQQE+XCGNMzKB+LhLCZ+WiEdfui53xfxcM9M7RFH+SiqQKTghYTqXIOchoWAOL9u1q1bp592pV5GOG7cOC0iakqWk6dguWnrfES0jIIAAhIF9RzHzCcgyEfhQIUpHvovxHvKFR5USC2SON0K8Qgpef55GMTDH28ExDu/MCogCIi3+GTWgHipgKi1G6edVvalyv369dNvPZ86dap06dJFT8VST7rK9R6QpUuXFi1Yd9PW2xmzV1gEEJCwSDs4Ti4BQT4KwwtTPhCPwvHw0wLx8EPP/b6Ih3tm2fZAQPxxDENCAqmAqNP+bpdQASkb/9tvv10vPFeLzevXry87duyQN954Q95++21p06aNzJs3TypWrKh37NGjh0ycOFG/Cb1169b6jenqTejdu3eXCRMmlOjcTVt/WcneQRJAQIKk67LvbAKCfBSGmEb5SFrFA+konOemWyAeZokiIP54hiEgQVZBEJCy8Z8xY4aucqinXm3dulWqVKki5557rtxzzz262qH+O7MdOnRIhg0bJpMnT5YNGzZIvXr1pFu3bqKqJRlJ8dLWX1ayd5AEEJAg6brsu7SAIB/5AaZRPBSRJMkH4uHyJmGgOeJhAGKpLuIsH+pUon4XiB7Dzv3mA5Olx0CqIFRAQokdB0kWAQTEongWF5AD9Rp7HtmuvSd43jezo7H3fAT0pKs0ygfi4TutU90B4hFc+BEQM2zDkJBABETNwtq6WhZte0G/TM/U06KcUs18dwjyPSBRnJfT86ddPAkgIBbFLXMTOffZn0u1s073NDLkwxO2rDvZstYjKeJBtcNcbrrpCfFwQ8tb27gLCFUQb3EvvhcC4p8hPaSLAAJiUbz9CgjyYS6YNsgH4mEunmnrCekIN+IIiBneYVRA1EiDqIJ8t2+zLFo3hQqImVSglxQQQEAsCrIfAUm6fIQ15coG8VApmQT5oOIR/s0F8QifeRLkw5YKiB5HCGtBEBDn14mfx/A6Pwot00gAAbEo6l4FBPkwE0Qb5CPu4oF0mMlFN70gHW5omW+LgJhlGoaABFEFoQJiNg/oLfkEEBCLYuxFQPzKh7HF5opjAAvOw6h8IB7+LwLEwz9Dtz0gHm6JBdMeATHLFQFxz5NF6O6ZsUf0BBCQ6GNQNAK3AoJ8+A9e1PJBxcN/DNPUA9JhX7STIiCKbJoex2u6CkIFxL5rkxHZTQABsSg+bgTEGvmg6uE5g+IsH1Q8PIfd9Y5Ih2tkoe2QJPmwRUD0OEJYB4KAOLtMWAPijBOt3BNAQNwzC2wPpwKCfPgLAVUPb/yQDm/cvOyFdHihFv4+CEgwzBEQd1yZguWOF63tIICA2BEHPQonAoJ8+AtYlPIR14oH4uEv55zujXQ4JWVPOwQkmFiEJSAmqyBMwQomF+g1uQQQEItiG7SAGFtwHsNpV1GKh0qxOMoH4hH8zQHpCJ5xUEdImnwoTjasAcnEKywJMfVIXgQkqCuNfpNKAAGxKLKFBMRP9cNW+Uj6U64QD4suMEuGgnRYEgifw0iigNgkIQiI8wRlCpZzVrS0hwACYk8s8k7BQj68BSqqygfi4S1eSd0L6UheZBGQYGMaloCYmoZFBSTYfKD35BFAQCyKaa4KCPLhPkhRiUfcplsxzcp9bjnZA+FwQim+bZIqHzZVQPRYYvQ0LBsEpP20W6TWubWNXljbP90mr3V5VZYsWSItW7Y02jedpZsAAmJR/LMJCPLhPkBRyUecqh6Ih/u8KrQH0lGIUHJ+j4CEE0sExBnnzHcHBMQZL1rZQQABsSMOehSlBQT5cBecqMQjTlUPxMNdThVqjXQUIpTM3yMg4cQ1LAFRZ+N3MToVkHBygqMkhwACYlEsiwvI4TMaeR6ZjQvOg15sHpV8xKXqgXh4vpxK7IhwmOEY516SLB+ZuPA0LPcZioC4Z8Ye6SaQKAHZvXu3jBgxQs9VXLx4sWzevFm6dOkiU6dOLRPlw4cPy/Dhw2Xy5Mmyfv16qV+/vnTr1k369u0rFSpUcJQVK1askH79+sl7772n27dp00aGDRsmF1xwgaP9SzfKCEj9YT3khCZneOoD+fCEzfVOiIdrZLHdAemIbegCGTgCEgjWnJ3GpQqCgISbFxwt/gQSJSDr1q2Txo0bS926daVVq1Yye/bsnALSs2dPGT9+vNx3331y5ZVXysKFC2XKlCmifj527NiCkf3888/lhz/8oZxyyinSq1cv3f7ZZ5+VHTt2yIcffihnn312wT5MC4gR+TD8jo8gKx9UPXKnGBUP15df0Q4Ih3d2adgTAQk3yghIYd6sASnMiBb2EUiUgOzfv1+2bdsmZ555phw6dEgqVaqUVUCWL18uLVq00OIwevTooqj07t1bxowZI8uWLZMLL7wwb7TuuusumTNnjqxcuVJXT9SmKinNmjWTm266SV588UXX0fZTAUE+XON2vUMcqh6Ih+uw6h2QDm/c0rZXGuRDXw+7DlsV2rAkxM86ECogVqUMg4kBgUQJSHHe+QSkf//+MmTIEFmzZo2umGS2tWvXSpMmTeTJJ5+UwYMH5wyfmupVq1Yt6dixo0ybNq1EOzXla8aMGVqEatSo4SoFvAoI8uEKs6fGtssH4uEurAiHO160PkYgLQJim4SEJSDqvL1KCALCXQIC7gikUkDatWunqxxqjUjprU6dOnLxxRfr6kaubdGiRXralprC1aNHjxLN1M/UNC7V5vLLL3cVDS8Cgny4Quy6MeLhGpm1OyAd1oYmNgNDQKIJFQKSnztTsKLJS47qj0AqBURNr6pcubJerF56Uy/aOXjwoKhpWrm2l156SdQUrFdffVU6dOhQopn62a233iozZ86UO++8M2cfmzZtEvWv+Kamc3Xu3FmcLkJPk3xEsd7DZvmg4lH4xodwFGZEC+cE0iQfikpap2Gpc/dSBaEC4vxaoiUEFIFUCkjTpk1FVTrUwvPSm6psbNmyRVatWpUzQ/7whz/Iz372M3njjTfkhhtuKNHuzTffFFVhUW2UTOTaBg4cKIMGDcr669AExOCC8yQtNkc84ntzRDriGzvbR46ARBsh26sgCEi0+cHR40cglQKShAqI7+oH8pH1arVVPqh4ZL+5Ihzx+9CJ64jTJiBproJQATl+lW7/dJu81uVVPWNEzRBhg4ApAqkUkLivAUmDfIQ95QrxMHVLCb4fpCN4xhyhJIE0ykeaBUSdu1sJoQLCXQMC7gikUkDUU66GDh0a2FOw/vznP8v27dsDeQoW8uEuwZ20tlE+qHiUjBzS4SSTaRMUAQQkKLLu+rV5GhYC4i6WtIZAKgVEPQFLPekq13tAli5dKs2bN9fZoRakr169WmrWrKlfcJjZ1AJztQbk008/lXr16ukfZ94DoiosaqG6263QU7CQD7dE87dHPMzyNNkbwmGSJn35IZBW+bCxAqLHtHO/n3C62tdNFQQBcYWWxhBI3iL05557Tr+N/MiRIzJgwAAtGnfccYcO9S233FIkFurxuRMnTtRvQm/durUsWLBAvwm9e/fuMmHChKLUyLxdXb3fY+rUqUU//+yzz+TSSy/V7wP55S9/qX+u3oSuKh/qTejnnHOO6/TKJyDIh2uceXewTT6oePAyQLMZTm+mCKRZQGyUEASkbGbzGF5TVzv9hEkgcRWQRo0ayRdffJGVoRKMrl276t+pFxUOGzZMJk+eLBs2bNBVjG7dukm/fv2kYsWKBQVENfj44491eyUvamvTpo0888wzRZLjNpC5BCTp8hHmeg/Ew21WBtueSkewfOndH4G0ywcC8r3jBKIC4hgVDSGgCSROQOIc12wCgnyYiyjyYY6ln56QDj/02DdMAgiIfe8D0VJk4TQsBCTMK5NjJYEAAmJRFEsLCPJhJjiIhxmOfnpBOvzQY9+oCCAgCIjTdSAISFRXKceNKwEExKLIFReQ8nUa+RuZofd8BPWCwbCmXdkkH2lb54F0+LuE2TtaAsjHcf62vRXdxioIAhLt9crR40cAAbEoZhkBOX1QL6nS6EzvI0M+NDtb5CNN4oF0eL9s2dMuAggIApIh4KQKgoDYdf0yGvsJICAWxciIgFgsH1Q9LEo2g0NBOgzCpCsrCCAfJcNABaTwYnQbBOTySZ3kpB+cZvQa2vmPLfL+L/7Em9CNUqUzRQABsSgPfAsI8kHVI6R8RjpCAs1hQieAfGRHjoTklxAEJPRLlQPGnAACYlEAfQlIyuWD6VbBJzLSETxjjhA9AQQEAclGoNA0LAQk+muXEcSLAAJiUbw8CwjyEXkUk7rOA+mIPLUYQIgEkI/csG2sgKjR2vJIXgQkxAuVQyWCAAJiURg9CQjyEXkEkygfiEfkacUAIiCAgOSHbqOEICAime8OrAGJ4KbBIT0TQEA8ozO/o2sBSbF82DDlKmnigXSYv6bpMT4EkI/CsUJAcq8DoQJSOH9oAYHiBBAQi/LBlYBYKh9hPOkqavlIknggHRbdABhKpAQQkML4bRQQW6ZhISCF84cWEEBALM2BsAXE9EsGkQ9LEyvLsBCP+MSKkQZPAPlwzthGCbFhGhYC4jyHaAkBRYAKiEV54FhADFQ/4iYfVD38JyrS4Z8hPSSPAPLhLqY2CogNVRAExF0e0RoCCIhFOeBIQJCPUCOWhOlWiEeoKcPBYkQA+XAfLAREJNsjeREQ97nEHukmgIBYFP+CAoJ8hBqtuMsH4hFqunCwGBJAQLwFzUYJCXMalqJWWkIQEG+5xF7pJYCAWBT7vAKCfIQWqTiLB9IRWppwoJgTQD68B9BGAYl6GhYC4j2f2DOdBBAQi+KeU0BSJh9RrveIq3wgHhZdyAzFegLIh78QISBUQPxlEHtDgEXoVuVAVgFBPkKJEeIRCmYOAoHICSAfZkKAhJSUECogZvKKXtJDgAqIRbEuIyCWyUfQj9mNqvIRN/mg2mHRRctQYkUA+TAXLgQEATGXTfSURgIIiEVRLyEgtRv4HpnJR+0mUT4QD98pRgcQiA0B5MNsqGwVEHWWYS5IzyxGpwJSNr8WL14s06dPl7lz58ratWulevXqcv7558sTTzwh119/fc6EVO2vu+46/fvPP/9czjrrrBJtDx8+LMOHD5fJkyfL+vXrpX79+tKtWzfp27evVKhQwWyi01tgBBCQwNC677hIQB7rLVUa1HPfQbE94iIfVD0Kh5mKR2FGtIBAPgLIRzD5YauEICDm4r3zH1vk/V/8SZYsWSItW7Z01fFdd90l8+fPlzvvvFPvu3v3bpkyZYqsWLFCxo0bJw8++GCZ/g4cOCAtWrTQYrFnz56sAtKzZ08ZP3683HfffXLllVfKwoULdb/q52PHjnU1RhpHRwABiY59mSObEhDkI3dQ41T1QDwsujgZSmwJIB/BhQ4BOcZWVUGogJTNswULFsgll1wiVapUKfrlvn375KKLLpKtW7fKli1bpGLFiiV2HDp0qPzXf/2X3Hvvvfp/S1dAli9frgWlV69eMnr06KJ9e/fuLWPGjJFly5bJhRdeGFzS07MxAgiIMZT+OzIhIMhH/OUD8fB/LdEDBBCPcHIACUFA3Gbao48+KiNHjpQvv/xST5/KbF988YWcd9558txzz4n6/4MGDSojIP3795chQ4bImjVrpHHjxkX7qileTZo0kSeffFIGDx7sdki0j4AAAhIB9FyH9CsgyEd2snGpeiAeFl2MDCXWBJCP8MKHgBxjvfvrdbJo3RRPU5X8Rivz3eHySZ3kpB+c5re7Evv7mYKVayCdOnWSmTNnyo4dO/S6kMx266236qqImlKl5CObgLRr105XOTZv3lym+zp16sjFF18sc+bMMcqAzoIhgIAEw9VTr34EJA7yEcV6jzjIB+Lh6XJhJwiUIYB4hJ8UtgqIIhHmWpCkC4haTN6sWbMSCVa3bl1R/9xsK1eu1FOwbr75ZnnppZeKdp09e7YoAfnwww+lVatWMnDgwKwCoqZXVa5cWYte6U2tMzl48KCoaVps9hNAQCyKkVcBQT7KBhHxsCixGQoEAiaAeAQMuED3tkpI2gTk3Gd/LtXOOt1oMuxdtVk+/eV/Z+1zwIABWhScbt99951cccUVsmnTJl3FaNDg2NM+1boQ9XSstm3bysSJE/XPcglI06ZNRVU6VJWk9KYWpKsKyqpVq5wOiXYREkBAIoRf+tBeBAT5iJ98UPGw6KJjKLEmgHjYET5bBUTRCUtCdu7ZKB+smBjpFKwgBcRvBURJhpo+9dFHH+kpUtdcc01R8v6///f/9FOx/vGPf0jt2rXzCggVEDuueROjQEBMUDTUh1sBQT5Kgre96oF4GLpQ6CbVBJAOO8Nvq4QgIP7yJVMB8fIY3syR1aN1b7nlFv0+kJdffllPv8psGzdu1IvHH3nkEf0uj8z27LPP6qdavf3229KoUSPdRm2sAfEXT5v2RkAsioYbAUE+4iMfiIdFF5nhoQT1ZfhAjfKGRxrf7oJiHF8ido7cVgEJqwqS9AqIVwE5dOiQqPeBzJo1S55//nnp2LFjiQReunSpXjieb1ML1dU7RNSmnnKlHtXLU7DsvA+4GRUC4oZWwG2jEJCg3nAe5oJzWysfiEfAF4zH7vlCK2Kr4BAbj0ltyW62SkgYVRAEpGwSHjlyRL/PY8aMGTJp0iR54IEHyjRS60LeeuutMj9/4YUX5MUXX9RVkHr16sltt92m26i1I0pYcr0HRAlN8+bNLbkiGEY+AgiIRfnhVEBMVT+CkA/EQwTxiOai4strNNw5KgQyBGwVkDCqIAhI2eugT58+MmrUKL3eo/j0qkxLtehcLSjPtuVahK7a9ujRQy9WV29Cb926tagXHqo3oXfv3l0mTJjABRkTAgiIRYFyIiDIx7GA2Vj1QDyCvZgQjGD50jsETBCwVUKCroIgIGWz59prr5X58+fnTKt58+aJauNWQNS0rmHDhsnkyZNlw4YNukKiBKdfv35l3qxuIqfpIxgCCEgwXD31WkhAkA875QPx8JTuWXdCMsyxpCcIREHAVgHRf7jauT8wJAhIYGjpOKEEEBCLAptPQJAPqh4WpaqRoSAbRjDSCQSsIoCALBH1Qrwwt8x3hyAfw+t1EXqYHDhWvAggIBbFK5eAIB/2yQdVD+cXDqLhnBUtIZAEArZKCBUQ99ll4jG87o/KHmkggIBYFOVsAoJ82CUfiEfhCwbhKMyIFhBIMgFbBUQxD0pCmIKV5Izm3IIggIAEQdVjn6UFJO3yYdNCc8Qje1IjGx4vdnaDQMIJ2CohCIi7xKMC4o4XrZ0TQECcswq8ZXEBqVa7gZHjxfVRu8iHkfAb7wThMI6UDiGQSAK2CkhQVRAqIIlMY04qQAIISIBw3XadEZAze/9KqtSr53b3Mu2RD38IqXqIIBz+coi9IZBmArZKSBBVEAQkzZnOuXshgIB4oRbQPiYFBPnwHqS0iwfS4T132BMCEDhOwFYBCaIKgoCQ+RBwRwABcccr0NamBMS0fITxdnNbplylUT4QjkAvazqHQKoJ2CohpqsgCEiq05yT90AAAfEALahdTAgI8uEtOmkTD6TDW56wFwQg4I6ArQJiugqCgLjLC1pDAAGxKAf8Cgjy4S2YaZEPpMNbfrAXBCDgj4CtEmKyCoKA+MsR9k4fAQTEopj7ERDkw30g0yAeSIf7vGAPCEDALAFbBcRkFQQBMZsz9JZ8AgiIRTH2KiBxk4+o13skXTyQDosuaoYCAQhoArZKiKkqCAJCokPAHYHUCkjXrl1l2rRpOWk9/fTT0r9//5y/z7f/+vXrpZ6Hx+jaICBBLzhHPtxdoE5bIx1OSdEOAhCIgoCtAmKqCoKARJFVHDPOBFIrIIsWLZLVq1eXid3o0aNl8eLFsmTJEmnZsmVBAVESU758+RLt7rjjDqlWrZrrvPAiICarH0mWjyRWPZAO15cYO0AAAhESSLKE2CAg9Yf1kBOanGE0wt+v2Sjr+00o+J3I6EHpLBUEUisg2aK7d+9eOf3006VRo0by8ccf502ATAXk4MGDUrFiRSPJ4lZAkA9n2JMmH4iHs7jTCgIQsI+ArRLidyoWAmJfrjEiuwkgIMXi8/zzz0vnzp1lxIgR8uijjzoSkAMHDsi+ffukRo0aZSohbkPvRkCQj8J0kyQeSEfheNMCAhCwn4CtAqLI+ZEQBMT+3GOEdhFAQIrF44YbbpB58+bJhg0bpE6dOo4E5MQTT5Rdu3ZJ1apV5aabbpJhw4ZJ06ZNPUXZqYAgH4XxJkU+EI/CsaYFBCAQLwK2SggCUjaPmIIVr2srTqNFQP4Zra+++koaNGigJWL27NkFY/j444+Lmn7VqlUrqVKlirz//vsyZswYUUKi1pA0bNgwbx+bNm0S9a/4tnLlSl2BObP3r6RKjkXscZGPKBebx10+kI6Clx8NIACBGBOwVUD8VEGogMQ4IRl6JAQQkH9i/+1vfytPPPGEvPjii3LXXXd5CsZbb70lqorSpUsXmTp1at4+Bg4cKIMGDcraJpeAIB/5w4J4eEpbdoIABCAQOgFbJcRrFQQBCT2FOGDMCSAg/wzgeeedJ5s3b9ZVCVXR8LqpiojqY+PGjUYrIMhHcuWDiofXq439IACBuBKwVUC8VkEQkLhmIuOOigACIiIfffSRXHrppdKzZ08ZO3asr1ioR/CqKVxqcbrbLdcaEOQjN8m4Vj2QDrdXB+0hAIGkEbBVQrxUQRCQpGUn5xM0AQRERB5++GEtHh988IEWET9b8+bN5dtvvxX1MkK3W9ACEuR7PqJY8xFH+UA83F4VtIcABJJMICkSgoAkOUs5tyAIpF5AVKXijDPOkNNOO00++eSTMozVQnP1wsKaNWtK3bp19e/37Nmj3/1ReqrWjBkzpGPHjtK9e3eZMGGC63hlExBT1Q/kw3U4jO6AeBjFSWcQCJzAracskVoVd8v2QzXkL9+0Cvx4aT0AAuI/8pnvDryI0D9LegiPQOoF5OWXX5Y777xT1CL0xx57rAz5devWSePGjUssLF+6dKm0b99ebrvtNjn77LOlcuXKot6s/sc//lHq16+vKymFHuObLcSlBQT5KEspblUPxCO8mxlHgoBJAr8/63dyTtXN8tm+0+X+VQ+Y7Jq+ShFIgoRQASGtIeCOQOQCoqYqrV27Vq6++mp3IzfU+tZbb9VrNtQ4VCWk9JZNQNRidfWiQrV2RC02V1USJR4dOnSQ/v37S+3atT2NrriA1Di5vqc+su0UVPUj7GlXcZIPxMNY+tIRBCIhgICEhx0B8ceaCog/fuwdDYHIBWTw4MHy7//+73L48OFoCFh01MxNpOEv+sgJZ9QzMjLkwwhGx50gHo5R0RACVhNAQMINT9wlhApIuPnC0eJPAAGxKIamBSQJ8hGXqgfiYdGFxFAgYIAAAmIAossubJQQp0/EQkBcBpvmqScQiIA89dRTjsHOnz9f3nnnHSogImJSQIKQD6ZclU1rxMPxpU5DCMSKAAISfrhsFBBFwYmEICDh5wtHjDeBQASkfPnyUq5cOTl69KgjOqotU7DMCQjy4SjtfDVCPHzhY2cIWE8AAYkmRHGVEAQkmnzhqPElEIiAqEXYl1xyiaOX+qn3b4wePRoBMVQBSZ7euQAAIABJREFUQT6CvRgRj2D50jsEbCGAgEQXCRslpFAVBAGJLl84cjwJBCIg7dq1k88//1zWrFlTkAqL0I8j8jsFK+7yYfN6D8Sj4KVMAwjEioB6z8ctp/xvzjGrR/BmNvUo3lzbq9+05D0hhiNvo4CoU8wnIQiI4SSgu8QTCERAnnzySf1ejW3btskpp5ySF+LTTz+tn4J15MiRxMMudIJ+BAT5KETX+++RD+/s2BMCthL4+Wnz5ed1/uZ7eP/99dXy31uu8d0PHZQkYKOEICAtSVMIGCMQiICo92R89tlnehpW9erVjQ026R15FRDkI5jMQDyC4UqvELCBABUQG6KQeww2Cki+KggVELvzidHZRyAQAbHvNOMxIi8CgnyYjy3iYZ4pPUIgbgRYAxJ9xGyUkFxVEAQk+nxhBPEigIBYFC8bBCSsR+3aut4D+bDogmAoEIiQAAISIfxih46LhNggIKcP6iVVGp1pNHD7130lmweMkSVLlkjLlkzBMgo35Z0hIBYlgFsBMV39SLN8IB4WXQgMBQIWEEBALAiCWvi967AdAyk1itKVEATEyjAxKIsJICAWBceNgCAfZgKHeJjhSC8QSBoBBMSeiNooIQiIPfnBSOJJAAGxKG5OBQT5MBM05MMMR3qBQBIJICB2RdV2CaECYle+MBr7CSAgFsXIiYAgH/4Dhnj4Z0gPEEg6AQTErggjILnjkfnuwBoQu3KW0eQngIBYlCGFBMS0fKhTD2Pdh00LzpEPixKeoUDAYgIIiH3BsVlCqIDYly+MyG4CCIhF8cknIMiHv0AhHv74sTcE0kZAvSekVsXdsv1QDd50blHwbZOQzFoQBMSiJGEosSAQioDMmzdPJk6cKKtXr5ZvvvlGjh49WgJOuXLl9O/SvoUpIEFXPqh6JDebw/wCcPDECskFyZlBAAKuCYR5/3E6OCUhCIhTWrSDwDECgQvIc889J71795ZTTz1VLr/8cjn55JOzsp8yZUrqY5JLQExXP9IiH1Q9vF1SNn7A5zoTBMVbjNkLAnEmYOM9at+mtfLBiomRvC+DNSBxzub0jj1wAWnUqJGof2+++aZUrlw5vaQdnHk2AUE+HIDL0gT5KMzNxg/xwqMu3AIpKcyIFhCIOwHb7l8ISNwzivGHTSBwAalWrZqMHDlSevToEfa5xe54pQUE+XAfQsQjOzPbPqzdR9b7HgiJd3bsCQGbCdh0X9u18ytZ8kE0bwynAmJzljK2XAQCFxA17apt27byH//xH0ShAIHiAlLjpHpGeaVh2hXycSxlbPpQNprEhjpDSAyBpBsIREzApnsdAhJxMnD42BEIXED+9re/yd133y2vv/66tGzZMnaAwhxwUAKSdPlIu3jY9CEc5vVi4ljIiAmK9AGB6AjYcv9DQKLLAY4cTwKBC8jPfvYzWbZsmfzf//2fXHbZZXo9SIUKJZ9so56CNW3atHgSNDjqjIA0+WkfqVrHTAUE+TAYIIu6suVD1yIkvoeCjPhGSAcQiISADfdDBCSS0HPQGBMIXEDKly9fEI8SkMOHDxdsl/QGpgUE+UhWxtjwIZssornPBhlJS6Q5zyQQsOHeiIAkIZM4hzAJBC4gYZ5M3I9lUkCSLB9pmXJlw4dq3K8pv+NHRPwSZH8IhEMg6vslAlI2zrt375YRI0boRxMvXrxYNm/eLF26dJGpU6eWabx+/Xp56qmn5O2335ZNmzZJnTp15JprrpH+/fvLD37wgxLt1R+shw8fLpMnTxa1X/369aVbt27St2/fMjNswsk+juKFAALihVpA+8RFQKJ8yWAa5CPqD9KA0jv23SIjsQ8hJ5BwAlHeOxGQssm1bt06ady4sdStW1datWols2fPziog27dvlwsuuEAOHDggDz74oN5n1apVMn78eFEzZJYvXy716h2flt6zZ0/9u/vuu0+uvPJKWbhwoah3yamfjx07NuFZnpzTC01Ajhw5IuoL9tq1a3VCqQRTi9LV/2c7RsCUgARZ/UA+gsnWKD84gzmj5PaKiCQ3tpxZ/AlEdS9FQMrmzv79+2Xbtm1y5plnyqFDh6RSpUpZBWTcuHHy0EMPyauvviodOnQo6uill16Su+66S0aNGiWPPPKI/rmSkRYtWkivXr1k9OjRRW3VC6/HjBmj1xxfeOGF8U/kFJxBKAKikkoly4YNGzTSo0ePavFQZTOVMMUTLgXMc56iCQFJonwkteoR1Qdlmq8xk+eOiJikSV8QMEMgqvsqApI/fvkE5Le//a088cQT8tFHH8kll1xS1NGiRYt0hWPixInyi1/8Qv9cTckaMmSIrFmzRv8hO7OpP243adJEnnzySRk8eLCZZKKXQAkELiBz586VG264QU4//XTp3r27nHfeefqEPvnkE51UX3/9tX5L+r/+678GeqJx6NyvgCAfcYgy7+mIR5ScjxIRcc6KlhAIg0AUEoKAeBcQJR6XXnqpqPfGqTUj6mmpagpWnz59RK0jUb8/6aST9AHatWunqxxqPUnpTa0bufjii2XOnDlhpBnH8EkgcAG59tprdaIokz355JNLDHfHjh064dT8wHnz5vk8lfjv7kdAkA+74x/FB6LdRJI1OiQkWfHkbOJPIOx7btIFZPr06dKsWbMSiaG+u6l/TrZ8FRC1/6RJk3T1Qq0HyWxXX321vPzyy1KrVq2in6npVZUrV9YL20tvalr/wYMH9TQtNvsJBC4gJ554ovzmN7+Rfv36ZaXxzDPPyNNPPy27du2yn1bAI/QqIMhHwIHx0X3YH4I+hsquBgggIgYg0gUEDBEI8/5rhYA81luqNDDzDrFMCPZ/uUE2P3N8rUXx0AwYMEAGDhzoKFqFBOSVV16RCRMm6ArHWWedpSVCPelKLU5/4403pHr16vo4TZs21U/IUgvPS29qutaWLVt09YTNfgKRC4hKMPXoNQTE2yL0pMlHUtZ7hPnBZ/9tJl0jRELSFW/O1l4CYd6Hky4gQVZAVJXjnnvu0Q/iKb6AXE3PV0Ki/lCd+SM2FRB7rze3IwtcQNRznNU6jw8//LBoDl9mkDt37tTz/tT6kHfeecft2BPX3ksFJCgBieJpV3GXjzA/7BKX/Ak8IUQkgUHllGJHIKz7ctIFRE15UlOcvG75KiDqe+LWrVv12uDSm1r7oaZiqUf4qo01IF4jYN9+gQvIW2+9JTfddJOcccYZ0qNHj6I5hJlF6OqFM6+//rpcf/319tEJeURuBQT5CDlAOQ4X1gecHWfLKNwQQELc0KItBIIhEMY9GgHJH7t8AnLOOefonT/77LMSnagnpqpp/G3atClaWK7WiQwdOpSnYAVzqYTaa+ACos5GPctZPaN548aNRe/9UImlng2tnuN8xx13hHrSth7MjYAgH9FHMYwPtejPkhGYIICImKBIHxDwTiDo+zUC4l1Abr31Vpk1a5YsWLBArrjiiqKOZs6cKXfffbd+9K5aK6w29QQs9aSrXO8BWbp0qTRv3tx7orBnaARCERB1NocPH9ZPLVDPalaben6zejNmhQoVQjtZ2w/kVECQj2gjGfQHWbRnx9GDIoCEBEWWfiFQmEDQ920EJHsMnnvuOVFPPFUvo1aL1pU8ZP7ofMstt2hZUAvK1RNTq1Spot9mrhaaq0Xo6slYp5xyivz973/XU/Uzm5pNo17joN6E3rp1ay0u6k3o6lUPaiE7WzwIhCYg8cAR7SidCAjyEV2Mgv4Ai+7MOHJYBJCQsEhzHAiUJRDkPRwByZ5x6p0eX3zxRdZfKmno2rWr/t3HH3+sH0i0ePFiPVtGiUfbtm115aNhw4Yl9lfTuYYNGyaTJ0/WL7iuV6+edOvWTS9Ur1ixIqkfEwIIiEWBikpAwl5wHsfF5kF+cFmUggwlBAJISAiQOQQEchAI6l6OgJByEHBHwLiAlC9fXtQ/9YSratWq6f9frly5vKNSv1dGm/atkIAEUf1APvJnXVAfVmnPdc5fBBEhCyAQDYEg7usISDSx5KjxJWBcQNRLaZRQqEVDqhSW+e9CiNTcwLRv+QQkCPlQvMMUkDhVPoL4gEp7fnP+ZQkgIWQFBMInEMT9HQEJP44cMd4EjAtIvHFEO/pcAoJ8hBeXID6Ywhs9R4ojASQkjlFjzHEnYPpej4DEPSMYf9gEEJCwiec5XpgCQuWjZCBMfxhZlFYMJQYEkJAYBIkhJo6Ayfs+ApK49OCEAiYQuICoN5yrL9Z9+vQpOpU//elPol4ms337dvnpT38qY8aM0WtF0r5lE5Agqh/IB/KR9mvNxvNHQmyMCmNKOgFTEoKAJD1TOD/TBAIXEPWG85NPPllefPFFPfbVq1fL+eefL/Xr1xf1eLa5c+fqlxE+/PDDps8tdv2VFhDkI9gQmvrgCXaU9J4WAghIWiLNedpEwNTnAAJiU1QZSxwIBC4gdevW1dWPvn37ah7qmc7q+c3r16+XmjVryk9+8hNZuXKlrpKEua1bt06/DDHbdv/99+vnSxfaVqxYoZ87/d577+mmbdq00ed2wQUXFNo16++LC8hJJ9bz1Ee+nah8HKdj6kPHeJDoMNUEkJBUh5+Tj4iAic8DBCSi4HHY2BIIXEBOOOEE/WbKzMtmrrrqKjn11FPl5Zdf1tB+97vfaTlRb8oMc8sIyK233ip33XVXiUOfddZZcvnll+cdzueffy4//OEP9ctyevXqpds+++yz+jw+/PBDOfvss12fTpACgnwcC4eJDxrXgWUHCLgggIS4gJWApgdqeJt+HKenCsYhTH4/GxCQOESZMdpEIHABUVOtHnjgAfn3f/932bVrl9SuXVueeeYZeeSRRzQHtf5DPbJXvTckzC0jIOrYqirjdlPSMmfOHF29UeeoNlXVadasmdx0001FU87c9JsRkB/c3UeqnWq2AhKWgNj8oej3A8ZNLGkLAT8EkBA/9Oze16twODkrm++/TsYfdRs/nxEISNTR4/hxIxC4gKhF5m+//bYWjf/5n/+RadOmyWeffSZNmzbVrNTaD/V79UU+zK24gCgJUVvVqlUdDWH37t1Sq1Yt6dixoz6f4luXLl1kxowZsm3bNqlRo4aj/jKNghKQtMuHnw8VVwGkMQQMEkBCDMKMuKsgpSPXqSEj7oPu57MCAXHPmz3STSBwAfniiy+kbdu2smrVKk368ccflyFDhuj/r95+rqoHahqUmqYV5pYRECUJSijUpqZeqcrMQw89lHcoixYtkiuvvFLGjx8vPXr0KNFW/axnz56i2hSaxlX6IEEICPJxOMy04lgQMEYAATGGMrKOohCPbCeLjDhPAa8SgoA4Z0xLCCgCgQtIRjQ++eQTvei8YcOGReTVtKt58+ZJixYt9BOxwty+/PJL+fnPfy633XabHtPGjRv1wvPFixfLr3/9axk+fHjO4bz00kt63cirr74qHTp0KNFO/UwJ1cyZM+XOO+/M2cemTZtE/Su+qSpQ586dxdQUrDTLh9cPkTBzkGNBoBABJKQQIXt/b4t8lCaEjBTOGS+fHwhIYa60gEBxAqEISFyQHz58WH70ox/pp1r94x//KJomVnr8f/jDH+RnP/uZvPHGG3LDDTeU+PWbb74p7dq1E9VGyUSubeDAgTJo0KCsvzYhIMhHXLKOcUIgPwEkJF4ZYqt4ZKOIjOTOLbcSgoDE6zpltNETCE1A1DQnNR3rm2++kaNHj5Y586uvvjp6GiIya9YsueWWW2TixInyi1/8IuuY4lABCUNAbPvwcvuBYUXCMQgIOCCAhDiAZEGTOMlHcVy23cstCKUegpvPFBsE5Mzev5Iq9cw+wGb/hg3y1ehRsmTJEmnZsqUtoWEcCSAQuIB899138stf/lLU289VhaH0pmSkXLlyWX8XBd+PP/5YTwkbPHiwflt7ts32NSDIRxSZwzEhEBwBBCQ4tiZ6jqt4lD53RKQkEQREBAExcYegj2wEAhcQ9aQoVTFQT7u65ppr9FvRs23qdzZs6v0kau2GWg+iXkiYbSv0FKw///nPsn379kiegoV82JBFjAEC5gkgIeaZmugxKfKBjGTPBqcSQgXExNVEH2kiELiAnHTSSfqL/KhRo6ziqqaCqZcIFt/27dsnrVu3FvWG89WrV+sndB08eFD/f7WAXr3VPbMpSVFrQD799FOp98+SZ+Y9IGoNiJIut5vfp2ClTT6cfjC4jQPtIWAjAQTEvqgkVT6Kk6Yq4mwqFgJi3/XJiOwmELiAqC/5Q4cOle7du1tF4o477pC9e/fqR+UqgVBPwVLv9FizZo0er3pcsNoyj+tV7/eYOnVq0Tmod5lceuml+n0gaoqZ2tSb0FXlQ70J/ZxzznF9vn4EBPlwjZsdIBA7AkiIPSFLg3wgIscJFPqDFwJiz7XJSOJBIHAB6dq1q/6i/8ILL1hF5Pe//33RSxFVNUS9D0QtsOrdu7dehJ7ZcgmI+r1aL9KvXz9ZsGCBbt6mTRv9lvfmzZt7OlebBcSmv4IV+iDwBJ+dIBADAgiIHUFKm3wgIscI5PvsQUDsuDYZRXwIBC4gW7dulfbt2+sX96kX/Kn3fVSoUKEMofLly8eHWkAj9SogQVc/kI+AAk63EPBAAAnxAM3gLmmWjwxGmz4TDIa2YFcICE/BKpgkNHBMIHABUWKhnnKVb1O/V29FT/vmRUDSIh9UPdJ+dXD+GQIISHS5gHyUZJ9GEcn1WUQFJLrrkiPHk0DgAqKmYBUSEIVuypQp8SRocNRuBSRo+VCnZsMHDPJhMMnoKhEEkJDww4h85GZuw+dEmBmR7TMJAQkzAhwrCQQCF5AkQArrHGwTEBs+VJCPsLKP48SJAAISfrQQkMLMbfjMKDxKMy1KfzYhIGa40kt6CCAgFsXajYAEXf2w4YME+bAoORmKdQSQkPBCgny4Y23D54e7EbtvjYC4Z8YeEChOIBQBUe/SUI+w/etf/ypbtmyR//zP/9RPnPr222/llVdekbZt2+p3bqR9cyogyEfaM4Xzh4AIAhJOFiAf3jinTUKogHjLE/ZKL4HABeS7776T6667TtSX6+rVq+tH8r711lvyox/9SI4cOSINGzaUzp0763dvpH1zIiDIR9qzhPOHwHECSEiw2YB8+OebdBHJVEIQEP+5Qg/pIhC4gPTq1UvUOzdmzpypX9x32mmn6UqIEhC1qZf4vfvuu/L3v/89XeSznG3UAhL1BwVTrsxeApV27s/Z4cGTqpg9GL1FQgABCRY7AmKGb9SfLWbOIncv6rMLAQmaMv0njUDgAqLeMt6xY0cZMWKEfkv4qaeeWkJAxowZIwMHDtS/S/tWSECCrH5E/QGBfDjP/nxi4bwXZy0RFWecomqFgARHHvkwzzbqzxnzZ3S8x++/+lKWfDBGlixZoqeYh7llvjuc2ftXUqVePaOH3r9hg3w1elQk52X0ROjMOgKBC0iVKlVk7Nix0q1bt6wCMm7cOPn1r3+tp2alfcsnIEHKh+Ie5QcD8pHnL2t5qhhRXC8ISRTU8x8TCTEfE+TDPNPiPUb5eRPUmSEgQZGl36QSCFxAGjduLJ06dZIhQ4ZkFZD7779fFi5cKCtXrkwqY8fnFZWARPlhgHwcT48wKxuOk7JAQ4TEFEnv/SAg3tnl2hMBMc+0dI9Rfu4EcXa7v90gy+aNjqRSQAUkiIjSZ9AEAheQRx55RKZPny6LFy+WE088scQUrHnz5smNN94offv2laeffjroc7W+/1wCEmT1I8oPAeRDJI7SketCQkaiucUgIGa5Ix9meRbqLcrPoEJjc/N7BMQNLdpCQCRwAfnmm2/k8ssvl61bt0q7du3kxRdflNtuu0327dsnb775ppxzzjny/vvvazlJ+5ZNQJCPZGVFkoQjX2SQkXDzFgkxwxv5MMPRbS9JkBAExG3UaZ92AoELiAK8Y8cO6d+/v7zwwgtFi81r1qwp99xzj3787sknn5z2OOjzD1NAorzhp7HykRbxKH0hIyLh3NoQEDOcERAzHL32EuXnktcxZ/ZDQPwSZP+0EQhFQIpDVZUQ9f4P9TSs8uXLp4133vMtLSBJrH6kST7SKh3ZkhwRCfZWh4D454t8+Gdoooe4SggCYiL69JEmAqELSJrguj3X4gJSs+qZbnd33D6qG3wa5APpyJ+GiIjjy9RVQwTEFa4yjZEPf/xM7x3VZ5Sf87BBQBr+oo+ccIbZx/B+v3GDfDFpZCSL6/3Eg33tJxCagKxevVpWrVolak3I0aNHy5C599577acV8AjDEJCobuxJlw/Ew93FgYi44+WkNRLihFL2NgiId3ZB7hnV55WXc0JAvFBjnzQTCFxANmzYIF27dhX1xCu1ZZOPcuXKyeHDh9McB33uGQE5r/2vpHots3/FUP1HdTNPsnwgHv4uW0TEH7/ieyMg3lgiH964hbVXVJ9bbs8PAXFLjPZpJxC4gKgnX82dO1cefPBBad26tfzLv/xLVuaqXdq3JApIUuUD8TB3tSIhZlgiIN44IiDeuIW9l+0igoCEnREcL+4EAheQatWqSa9eveSZZ56JO6vAxx+kgERx806ifCAewVwGSIh/rgiIe4bIh3tmUe4RxeeY0/NFQJySoh0EjhEIXEAaNGggjz32mDz00EMwL0AgKAGJ4qadNPlAPMK5fBER75wREHfskA93vGxpHcXnmZNzR0CcUKINBI4TCFxABgwYIPPnz9drQNRaD7bcBIIQkChu1kmSD8Qj/CsWCfHOHAlxzg4Bcc7KxpZRfLbl44CA2JgljMlmAoELiHrnx8MPPyzLly+XBx54QOrXry8VKlQow+Tqq6+2mVMoY0uCgCRFPhCPUFI+50GQEG/8ERBn3JAPZ5xsb2WThCAgtmcL47ONQOACsnPnTvn5z38ur7zyStZzV0/F4ilYx9CYFpAobs5xFxDEw55bFBLiPhYIiDNmCIgzTnFoFcXnXDYuCEgcsoUx2kQgcAG55557ZObMmXL77bfLFVdckfMpWPfff79NXCIZi0kBieKmjHxEkjaJPigS4i68CEhhXshHYUZxbBHFZ15xTghIHLOGMUdJIHABqVmzpnTu3FnGjh0b5XnG4thxFpA4ywdVD7svDyTEeXwQkMKsEJDCjOLaIkoJQUDimjWMOyoCgQtInTp1ZODAgfo9IGz5CZgSkLBvwsgHmR00ASTEGWEEJD8n5MNZHsW5VdiffxlWCEics4axR0EgcAFRC9DXrVsns2fPjuL8YnVMEwIS9s03rvJB1SNWl4YeLBJSOGYISG5GyEfh/ElSi7A/CxGQJGUP5xIGgcAF5OOPP5b77rtPmjRpIt27d5eGDRtmfQqW+n3at7gJCPKR9owN//yRkMLMkZDsjBCQwrmTtBZhSggCkrTs4XyCJhC4gJQvX14/5SrztKtcJ3T48OGgz9X6/v0KSJg3WwUzbgJC1cP6S8DRAJGQ/JgQkLJ8kA9Hl1YiG4X1uYiAJDJ9OKkACQQuIGr9h5MXEKoXFqZ98yMgYd1kMzFCPtKerdGePxKSmz8CgoBEe3Xad/QwPh8RkLJx3717t4wYMUKWLFkiixcvls2bN0uXLl1k6tSpJRqr302fPl3mzp0ra9eulerVq8v5558vTzzxhFx//fVlOlZ/sB4+fLhMnjxZ1q9fr98v161bN+nbt2/WGTb2ZSQjUgQCFxAwOycQFwGJk3xQ9XCef3FriYRkjxgCUpIL1Y+4XdnBjTdIEUFAysZNrf9t3Lix1K1bV1q1aqXXAmcTkLvuukvmz58vd955p7Rs2VKUuEyZMkVWrFgh48aNK/MQo549e8r48eP19P4rr7xSFi5cqNurn/PE1eCuH9M9IyCmifroz6uABHlTLX06yIePALOrUQIICALiJKEQECeU0tMmqM9LBKRsDu3fv1+2bdsmZ555phw6dEgqVaqUVUAWLFggl1xyiVSpUqWok3379slFF10kW7dulS1btkjFihX175YvXy4tWrSQXr16yejRo4va9+7dW8aMGSPLli2TCy+8MD0JHeMzNS4gf/vb3zSOq666Sk+9yvx3IUZXX311oSaJ/70XAQnqZpoNNvKR+BSM3QkiIWVDRgXkOBPkI3aXdCgDDuJzEwHJH7p8ApJrz0cffVRGjhwpX375pZ5mpbb+/fvLkCFDZM2aNbq6ktnU1C31MKMnn3xSBg8eHEoecRB/BIwLSGbR+a5du6RatWqS+e9cw8wsTmcRuggC4i+ZM3sz7coMx7j0goSUjBQCgoDE5dqNcpymJQQBMS8gnTp1kpkzZ8qOHTv0uhC1tWvXTlc51HqS0pt679zFF18sc+bMiTK1OLZDAsYFRM3jU5uqaKgKSOa/C43nmmuuKdQk8b93KyCmb6D5AMeh+oF4JP4SyXqCCAgCki0xqH6k837g5qxNfoYmXUDUIvFmzZqVwKvWdqh/Tja3FZCVK1fqKVg333yzvPTSS0WHUNOrKleurBe2l97U+pGDBw/qaVps9hMwLiD2n7K9I7RVQJAPe3OGkR0jgIQczwQqIMdYICDcHZwSMCEiNghIk5/2kap16jk9bUft9n29Qdb8YWTWturppepJp042NwLy3XffyRVXXCGbNm3S1Y4GDRoUHaJp06aiKh1q4XnpTS1IV+tFVq1a5WRItImYAAIScQCKH96NgJi4YTo5deTDCSXaRE0AAUFAiucg8hH1FRm/4/v9TE26gIRVAVGLz9U0q48++khPpSo9O4YKSPyurVwjNi4gTz31lGs6aqrWb37zG9f7JW0HpwLi90bphpvtAsK0KzfRTHZbJORYfKmAUP1I9pUe3Nn5+WxNuoCoKU9qipPXzUkF5MCBA3LLLbfo94G8/PLLevpV6Y01IF4jYN9+xgVELTovvWVeRKgWnBffir8hnUXozheh+7lJuklB5MMNLdpGTQABQUAUAaofUV+J8T6+189XBCR/3AsJiPq9eh/IrFmz5Pnnn5eOHTtm7VA95Wro0KE8BSvel5kevXEBKc1uROo1AAAgAElEQVREzce76aab9OPRfv3rXxctYvrkk0/0GzLVo9NUme3UU09NAE5/p+CkAuL15uh2ZMiHW2K0t4EAEkIFBAGx4UqM9xi8fM4iIN4F5MiRI3LvvffKjBkzZNKkSfLAAw/k7EytCVFPusr1HpClS5dK8+bN452AKRl94ALyk5/8RD9C7bXXXsuK9N/+7d/klFNOETW/MO2bLQKCfKQ9E+N7/ghIugUE+YjvtWvbyN1KCAKSPYLPPfec/g6oJEMtWlfycMcdd+jGarqVkoU+ffrIqFGj9HqPbt26lemobdu2euF5ZuvRo4dMnDhRvwm9devWol5kqN6E3r17d5kwYYJtqcR4chAIXECUXDz99NPSs2fPrEMYN26cXv+xffv21AepkIC4vSF6BWqzgLDmw2tU07Nf2iUkrWtAkI/0XONhnambz1wEJHtUGjVqJF988UXWXypp6Nq1q1x77bV5X9kwb9483Sazqelaw4YNk8mTJ8uGDRukXr16Wlz69etX9Mb0sHKE43gnELiAnHTSSaJsVSVLtq1v377aZHfu3On9LBKyZz4BcXMj9IMD+fBDj31tIICAVLAhDKGPAQEJHXlqDujk8xcBSU06cKKGCAQuILfffru88cYbem5fhw4dSgz71VdflXvuuUduvPFGeeWVVwydUny7iVpAkI/45g4jL0kgzRKSxgoI8sEdIGgChSQEAQk6AvSfNAKBC8iXX34pbdq0ka+++krOOussOffcc/Ub0tVbLtXLYs4880x59913pWHDhqGyXbx4sV53oh73phbCV69eXc4//3x54okn5Prrry84FlU2nDZtWtZ269ev1yVBt1suASl043N7nFztbRUQpl2ZinB6+kFA0hNrdaYISLriHdXZ5vssRkCiigrHjSuBwAVEgVELkH7729+KqnioL/tqa9y4sV6ApObsqXUiYW/qcW/z58+XO++8Uz/bevfu3XoR04oVK0StS3nwwQfzDikjIEpCSj96WC2wqlatmutTilJAkA/X4WIHiwkgIBYHx/DQkA/DQOkuL4FcEoKAkDgQcEcgFAFxN6RwWqunJlxyySVSpUqVogOqN3BedNFFsnXrVlGPD65YsWLOwWQE5ODBg8YWPWUTkDCqH8hHODnHUcIlkEYJYfpVuDnG0dJJINvnMgKSzlzgrL0TSK2A5EL26KOPysiRI0VNHatfv35BAVFv7lTiUqNGjTKVELdhQUCOE2PaldvsoX1pAghI8nOC6kfyY2zrGZaWEATE1kgxLlsJICClItOpUyeZOXOmnjam1oXk2jIVkBNPPFF27dolVatW1S9cVE/7atq0qad4lxaQtFY/kA9P6cNOpQggIMlPCQQk+TG2+QyLf0YjIDZHirHZSAABKRYVtTBeTcG6+eab5aWXXsobr8cff1zU9KtWrVrpaVzvv/++jBkzRpSQqAXuhRbVb9q0SdS/4ps6fufOneW89r+S6rXqSRoFBPmw8TYR3zGlTULSNAUL+YjvdZmkkWc+pxGQJEWVcwmDAALyT8rfffedXHHFFVoKli1bJg0aNHDN/6233pIbbrhBunTpIlOnTs27/8CBA2XQoEFZ2ygBObnKGa6P73YH29Z+IB9uI0j7QgQQkEKE4vt7BCS+sUvayJWEICBJiyrnEzQBBEREr+Fo166dfPTRRzJnzhy55pprPHNXFRElMRs3bszbR6EKSNACgnx4DjE7xogAAhKjYLkYKvLhAhZNQyGwZ/sG+eS1UbJkyRL9ZM0wt8z07SY/7SNV67h/BUC+se77eoOs+cPISM4rTIYcK3wCqRcQtYhcPQ5YvQ/k5Zdf1tOv/GzqEbyzZ88W1a/bLXMTafGvvaXGyWZvIqXHYpOAUPlwmym0d0oAAXFKKl7tEJB4xSsNo0VA0hBlztEkgVQLyKFDh0S9D2TWrFny/PPPS8eOHX2zbd68uXz77beiXkbodgtLQGySD8UIAXGbKbR3QyBNEpKGNSDIh5vsp21YBBCQsEhznKQQSK2AHDlyRO69916ZMWOGTJo0SR544IGsMVULzVevXi01a9aUunXr6jZ79uzR7/4o/g4R9XPVl5KY7t27y4QJE1znSBoFBPlwnSbs4JIAAuISmOXNERDLA5TS4SEgKQ08p+2ZQGoFpE+fPjJq1Ci93qNbt25lALZt21bq1Kkj69at029tL76wfOnSpdK+fXu57bbb5Oyzz5bKlSvLokWL5I9//KN+d8gHH3yg93W7hSEgNlU/kA+3GUJ7LwTSIiBUP7xkB/tAwAwBBMQMR3pJD4HUCsi1114r8+fPzxnpefPmiWqTTUA2b94s6oWFatG6WmyuqiRKPDp06CD9+/eX2rVre8qgNAkI8uEpRdjJAwEExAM0S3eh+mFpYBiW2CAgP7i7j1Q71ez60b1bN8g/XmQROilunkBqBcQ8Sv89Bi0gVD/8x4ge4kcAAYlfzLKNGPlIRhyTehYISFIjy3kFRQABCYqsh36DFBDkw0NA2CUxBNIgIUmfgoWAJOZyTOSJICCJDCsnFSABBCRAuG67ToOAMPXKbVbQ3gQBBMQExej6QD6iY8+RnRFAQJxxohUEMgQQEItyISgBsaX6gXxYlGwpGwoCEu+AIyDxjl8aRo+ApCHKnKNJAgiISZo++0JAfAJkdwjkIJB0AUny9Cvkg8s6DgQQkDhEiTHaRAABsSgaQQgI1Q+LAsxQIiOAgESG3veBERDfCOkgBAIISAiQOUSiCCAgFoUzqQLC1CuLkiylQ0FA4hl45CPcuB2sUc7YASvtPmqsrzh0hIDEIUqM0SYCCIhF0TAtIFQ/LAouQ4mUAAISKX7PB0dAPKPLu6NJ0XA7wqSKCQLiNhNon3YCCIhFGZBEAaH6YVGCpXgoCEj8go98mItZlMLh5CySICUIiJNI0wYCxwkgIBZlg0kBsaH6gXxYlFwpH0qSBSSJC9CRD/8XrO3SkesM4yojCIj/nKWHdBFAQCyKNwJiUTAYSqIIICDxCicC4i1ecZWOfGcbFyFBQLzlLHullwACYlHsTQkI1Q+LgspQrCCAgFgRBkeDQD4cYSrRKInikY2CzTKCgLjPW/ZINwEExKL4J0VAmHplUVIxFE0AAYlPIiAgzmKVFumIi4ggIM7yllYQyBBAQCzKBRMCQvXDooAyFGsIJFVAkrb+A/kofMmkWTxslhEEpHDu0gICxQkgIBblQxIEhOqHRQnFUIoIICDxSAYEJHecEI/8ORz19CwEJB73GEZpDwEExJ5YCAJiUTAYSqIIICD2hxP5yB4jxMN97kYhIwiI+zixR7oJICAWxd+vgEQ9/Yrqh0XJxFBKEEBA7E8IBKRsjJAPf3kbpoggIP5ixd7pI4CAWBRzBMSiYDCURBFIooAkaf0H8lHyckM8zN5+whARBMRszOgt+QQQEIti7EdAqH5YFEiGYh0BBMS6kJQYEAJyDAfiEWyeBikiCEiwsaP35BFAQCyKaVwFhKlXFiURQ8lKAAGxNzGQD+Qj7OwMQkQQkLCjyPHiTgABsSiCCIhFwWAoiSKAgNgbzrQLCFWP6HLTpIjYICDntf+VVK9VzyjQKM/L6InQmXUEEBCLQuJVQKKcfkX1w6IEYig5CSRNQJKy/gP5KMdVGzEBUxIS5Rf1zHcHBCTiZOLwrgggIK5wBdsYAQmWL72nlwACYmfs0yogVD3sy0e/IoKA2BdTRmQ3AQTEovh4EZAoqx8KHRUQixKIoVABiVEOIB8xClaKhupVRBCQFCUJp2qEAAJiBKOZTuImIMiHmbjTS/AEklQBScL0K+Qj+JznCP4IuBURBMQfb/ZOHwEExKKYIyAWBYOhJIoAAmJXONMmIEy5siv/nI7GjYQgIE6p0g4CxwggIBZlglsBiXL6FdUPixKHoRQkgIAURBRaA+QjNNQcyBABJyKCgBiCTTepIYCAWBRqBMSiYDCUxBBAPuwKZZoEhMqHXbnnZzSFJAQB8UOXfdNIAAGxKOpxERCqHxYlDUMpSAABKYgotAbIR2ioOVBABHKJCAISEHC6TSwBBMSi0LoREKZfWRQ4hmI1AQTEnvCkQUCoetiTb0GNJJuEICBB0abfpBJAQCyKbBwEhOqHRQnDUBwRSIqAxP3pV8iHo3SlUYwIFBcRBCRGgWOoVhBAQKwIw7FBICAWBYOhJIYAAmJHKJMuIFQ+7MizsEeRkRAEJGzyHC/uBBAQiyLoVECYfmVR0BiK9QQQkOhDhHxEHwNGECyBA1+sl09eGyVLliyRli1bBnuwUr1nvjuc1/5XUr1WPaPHjlKsjJ4InVlHAAGxKCS2CwjTryxKFobiiADy4QhToI2Qj0Dx0rklBPZu3SD/eHEkAmJJPBiG/QQQEItihIBYFAyGkggCCEj0YUyygDDtKvr8smUECIgtkWAccSGAgFgUKScCEtX0K6ofFiUKQ3FMAAFxjCqQhshHIFjp1EICCEjuoGzatEmeeuopee211+Trr7+WWrVqyaWXXioTJ06UOnXq6B0PHz4sw4cPl8mTJ8v69eulfv360q1bN+nbt69UqFDBwogzJL8EEBC/BA3uj4AYhElXEBCRJAhInJ9+lVQBofLB7aU0AQQke058/vnncvXVV0vVqlWla9euUq9ePdm6dassWrRIC8fZZ5+td+zZs6eMHz9e7rvvPrnyyitl4cKFMmXKFP3zsWPHknAJJICAWBRUBMSiYDCU2BNIgnyoIMRVQJCP2F9CnIALAghIWVhHjx6Vyy67TFc35s+fLzVq1MhKdPny5dKiRQvp1auXjB49uqhN7969ZcyYMbJs2TK58MILXUSDpnEggIBYFKVCAsL0K4uCxVCsJ5AEAYmrfKjkSJqAUPWw/pKPdIAISFn8c+fOleuuu05mzZolN998s3z//fdSvnx5qVy5conG/fv3lyFDhsiaNWukcePGRb9bu3atNGnSRJ588kkZPHhwpPHl4OYJICDmmXruEQHxjI4dIVCGAAISXVIgH9Gx58jREEBAynLv16+fnmb1zjvvaIlQ06rKlSunqyIjR46UK664Qu/Url07XeXYvHlzmU7UGpGLL75Y5syZE01gOWpgBBCQwNC67xgBcc/Mtj0q7Pw+75AOn3SCbUNO7HgQkGhCi3xEw52jRksg6QIyffp0adasWQnIdevWFfUv13bbbbfJX/7yF6ldu7ZcddVV0qlTJ9m4caNekL5371758MMP9dQq9U9VRdQ7VEpv6p0qBw8eFDVNiy1ZBBAQi+KJgFgUDJdDKSQexbtDQlzC9dAc+fAAzdAuSRIQpl0ZSooUdGODgLT4195S42SzLyLc/e0GWTbv+LqM4qEcMGCADBw4MGd0r7/+enn77bf1NKy//vWvRe3effddvTD97rvvlhdeeEGaNm2qn4alKiSlN7UgfcuWLbJq1aoUZFG6ThEBsSje+QSE9R8WBarYUNyIBxISXgwRkPBYFz8S8hENd44aPYGkC4iXCkiHDh1k9uzZMnXqVOnSpUuJIDVq1Ej27dunH8tLBST6/I1iBAhIFNRzHBMBsSgYDoaSTT6+bVhHDp1QWSp+f0BO/uLrvL1QCXEA2WOTuAtIXBefJ0VAqHx4vPBSvFvSBURNj1LTodxsPXr00O/6eP311+XGG28ssevll18u6jvPgQMHWAPiBmqC2iIgFgUTAbEoGAWGkqvysfbqFvL9v9SQE3bslsZ/W4aARBRSBCR88MhH+Mw5oj0EEJCysfj973+vXyb4u9/9Tv9v8U29D0RtGzZs0AvUhw4dylOw7EnnUEaSWgHx+9bNFStWiHrCw3vvvacD1aZNGxk2bJhccMEFngNnm4Dw9vPsocw37cqNgKjeqYJ4vlxy7hh3+VAnFrcKCPJhPo/pMV4EEJCy8dq2bZs0bNhQT7FasGBB0RvN1bQsNT3r/vvv128+V0/AUk+6yvUekKVLl0rz5s3jlRCMtiCB1AqIn7duqjd7/vCHP5RTTjlFXzBqe/bZZ2XHjh36qQ6ZN3sWpF+qQS4BYf2HW5LBtkdAguXrt/e4C0jc5EPFCwHxm7XsH3cCCEj2CKoXCz7yyCP6KVg//vGP5auvvtLfl6pXr66felW/fn29Y2a6lnoTeuvWrbWwqDehd+/eXSZMmBD39GD8WQikUkD8vnXzrrvu0s+kXrlyZdHFs379ev2IuptuuklefPFFT8mGgHjCFupOhRadUwEJNRxZD4aAhBsD5CNc3hzNTgIISO64qAXs6r0fn3zyiVSrVk3atm2rp1yplwxmtkOHDulZJKoioqZlqSlaatqWmmlSsWJFO4POqHwRSKWA+Hnr5u7du6VWrVrSsWNHmTZtWgn46ikPM2bMEFV2rFHj/7d3LvBaTfn//+qm0kVlJLqoeCVKOpGo5JrJraaMcWkSRQ2SQWl4mTSD5DpN0oXcagjVmKJ/ZVBuCWdUMoruUk0KXZRu/F+f5beP5zzneZ5933utvT/r9eo145y11l77/V37Ofv9rFs114GhgLhGFmkBO/lAYyggkYakzMUoH9HzT4KAcNF59P0maVekgCQtoryfsAmkUkD8nLo5f/58wb7UY8aMUUOGmQk/w9Qu5MEOD26TTgLC9R9lo0cBcdujo89PAYmWOeUjWt68mr4EKCD6xoYt05NAKgXEz57TU6dOFUzBmj59ulpElZnws65du8qUKVOkR48eBSO+YcMGwb/MhCldPXv2lOzDhOJYA0IBKR0+J/LBEZD4P+RMFhDT1n5QPuLv72yBPgQoIPrEgi0xg0AqBcTPqZsTJ06UXr16yezZs6Vz586lojxnzhy1nzXyQCQKJZweOmzYsJxZMgUkDvlAoygguQUE53x81+iwvKHFFrxWwla8+dLBazaqc0K4C1ZwH5QmywcoUECC6wtOauK0KyeUmMcpAQqIU1LMRwI/E0ilgJg0AkIB0eNRtUZAvm7WQDY3a+i7UYcsWyu1N3ztux5W8AsBkwWE8hFtT6Z8hMN7b9Vg6q24M5h6oqyFAhIlbV4rCQRSKSAmrQGhgOjxmFkCEuQISI1vt+pxcwlpBQUkukCaPP2K8uGvnwQlGV5boaucUEC8RpTl0koglQLi59RNu12wJk+eLFu2bAlsF6w4BITTr0p/HDhd/4FSbnbB4vSr4D52KR/BsbSrifJhRyg5v49bNpyS1EFKKCBOo8V8JPAzgVQKiNNTN/fu3SsrVqyQmjVrSr169Ur6DBaYYw3I0qVL1V7VSNY5IBhdwUJ1LynXLlgUEC8kgy0ThoBQPoKNEQUkWJ75aqN8RMM5rquYIhx2fOIQEgqIXVT4exIoTSCVAgIETk7dXL16tTRu3FhwvsfTTz9dQm7ZsmXStm1bdR7IjTfeqH6Okz0x8oGT0Js1a+apn1FAPGELvRAFJHTEvi5gsnzgxk1a/2GqgHDaVf5HLCnSUehDJAohoYD4+hhn4RQSSK2AODl1M5+AoJ8sXrxYndD57rvvqm7ToUMHGTFihBx//PGeu1G2gMQx+oHGcwpW2RA6lRAnU7A4+uH5EclZ0GQBoXwE2xdy1Ub5KEslDdKRr2eFJSMUkPCfZV4hWQRSKyA6hpEComNUfm5TUAJC+Qg+xhSQ4JnmqtHE0Q/Kxy+RTLN0RCEjFJBoPod4leQQoIBoFEsKiEbByGpKEAJC+Qg+vpSP4JkmRT5wHxQQEYqH/TMSxKgIBcSeM3OQQCYBCohG/UEHAeH0q/wdwomE5JuCRfkI50GjgITDNbNWE0c+0i4flA7vz4VXGaGAeGfOkukkQAHRKO4UEI2CkacpdhKCc0L2Va4kFX7Yo046R6J8hBNXykc4XLNrNVFA0jryQfEI7plwKyIUkODYs6Z0EKCAaBRnCohGwSjQFDsJsYpSPMKNJwUkXL6onfIRPuMgrkDxCIJi/jqcyIgOAtLm5AFSvcYRgcLYvu0rKV4wSoqLi6WoqCjQullZuglQQDSKPwVEo2DYNKWQhFA8wo8j5SN8xpSP8Bn7vQLFwy9Bd+ULiQgFxB1L5iYBCohGfSBTQGpV+OXgwyibyDUgUdLmtbwSMFVAuO2u14jbl0vTtCuKh31/CDNHLhGhgIRJnHUnkQAFRKOoUkA0Cgaboi0BU+UDQE0RENNGP9IiHxQPvT6WMkWEAqJXbNga/QlQQDSKEQVEo2CwKdoSMFVAKB/hdKk0yAfFI5y+E1StEBEKSFA0WU9aCFBANIo0BUSjYLApWhIwVT44+hFOd6J8hMOVtbonsOt/62TlxIdjWaxtvTtwEbr7uLFEfAQoIPGxL3NlCohGwWBTtCRgqoBw9COc7pRkAeGoRzh9JqxaKSBhkWW9SSVAAdEoshQQjYLBpmhHwFT5MGX0g+s+9OjyFA894uC2FRQQt8SYP+0EKCAa9QAKiEbBYFO0I2CqgHD0I/iulNSRD8pH8H0lqhopIFGR5nWSQoAColEkKSAaBYNN0YqAqfLB0Y/gu1ES5YPiEXw/ibpGCkjUxHk90wlQQDSKIAVEo2CwKVoRMFVATBj9MGnqFeVDq8eSjckgQAFhdyABdwQoIO54hZqbAhIqXlZuKAHKR7iBM0VAkiYfHPUIt19HXTsFJGrivJ7pBCggGkWQAqJRMNgUbQhQQMILBeUjPLaFaqZ8xMM9zKtSQMKky7qTSIAColFUKSAaBYNN0YIA5SO8MFA+wmObr2aKR/TMo7oiBSQq0rxOUghQQDSKJAVEo2CwKbETMFU+AI5rP4LrPkmZekX5CK5P6FgTBUTHqLBNOhOggGgUHQqIRsFgU2InYKqAUD6C6zpJkA+KR3D9QeeaKCA6R4dt05EABUSjqFBANAoGmxIrAVPlw4TRD069iq5rUz6iYx33lSggcUeA1zeNAAVEo4hRQDQKBpsSKwFTBYSjH8F0G458BMORtURHgAISHWteKRkEKCAaxZEColEw2JTYCFA+wkNvwuiH6fLBUY/w+q/ONVNAdI4O26YjAQqIRlGhgGgUDDYlFgKmygenXgXTXSgfwXBkLdEToIBEz5xXNJsABUSj+FFANAoGmxILAVMFhFOv/HcXyod/hqwhPgIUkPjY88pmEqCAaBQ3CohGwWBTIidA+QgPOadehcdWjX5VDbd+1q4/AR0E5OQW/aTGQYcHCmvb9+tlwZJxUlxcLEVFRYHWzcrSTYAColH8dRAQ4Ki4bbdGVNiUNBAwVT7Uy2f18lqHiPIRXngoHuGxNa1mCohpEWN74yZAAYk7AhnXp4BoFAw2JVICpgoI5cN/NzF16hXlw3/sk1QDBSRJ0eS9REGAAhIFZYfXoIA4BMVsiSJA+QgvnLqPflA+wos9a46WAAUkWt68mvkEKCAaxZAColEw2JRICJgqH4DD0Q9/XYTy4Y8fS+tFgAKiVzzYGv0JUEA0ihEFRKNgsCmREDBVQCgf/rqHifLBKVf+Yp700hSQpEeY9xc0AQpI0ER91EcB8QGPRY0jQPkIL2Q6T72ifIQXd11r3lct3JZV2BFu/U5qp4A4ocQ8JPALAQqIRr1BFwEBEu6EpVHHSGBTTJUPhIKjH/46pGkCwpEPZ/EOWzKctaJsrqjkhALiNUIsl1YCFBCNIk8B0SgYbEpoBCgfoaEVnUc+lLxVOyC8mw+hZspHbqi6yobTLhCGlFBAnNJnPhL4mQAFRKOeQAHRKBhsSmgETBUQjnz46xKUD3/84ixtunDYsQtCSCggdpT5exIoTYAColGPyBSQarXqS8Xt+2NrHadgxYY+0Rc2VT7Ut/c8cNBz3zRJPjjq8XOYky4dhTqzFyGhgHj+eGDBlBKggGgUeAqIRsFgUwInQPkIHGlJhTpPvaJ8hBf3oGtOs3TkY+lURiggQfdG1pd0AhQQjSKsk4AAC0dBNOochjeF8hFeACkfwbBN68gHpcN5/ykkIxQQ5xyZkwRAgAKiUT+ggGgUDDYlUAKmCginXXnvBhz58M4u7JKUDv+Es2WEAuKfKWtIFwEKiEbxpoBoFAw2JTACpsoHAFBAvHUDyoc3bmGXongET9gSEQpI8GxZY7IJUEA0iq9uAgI0nIalUQcxsCmUj/CCxqlX/tmmYdoVpcN/P3FSw94V62TlxIeluLhYioqKnBQJLI/17nByi35S46DDA6sXFW37fr0sWDLO033t379fHnjgAXniiSfkyy+/lAYNGkjfvn1l0KBBUr58+UDbycrMI0AB0ShmFBCNgsGm+CZA+fCNMG8FlA9/bCke/vixdFkCP6xfJ2vGU0AyyVx33XUyZswYueqqq+TUU0+V9957T5566inBz0ePHs1ulHICFBCNOkC2gKgRiBi34uUIiEadw7CmmCwfQK3z1CvKh7+HIenywREPf/3Da2kKSGlyn3zyibRq1UoGDBggI0eOLPnlwIEDZdSoUbJo0SJp2bKlV9wslwACFBCNgqijgFBCNOoghjSF8hFeoCgf/tgmWT4oHv76ht/SFJDSBO+44w659957ZeXKldK4ceOSX65atUqaNGkit99+u9xzzz1+sbO8wQQoIBoFjwKiUTDYFE8EKB+esDkupKuAmLDoPKnyQfFw/PiEmpECUhrvueeeq0Y5Nm7cWIZ73bp1pXXr1jJr1qxQY8LK9SaQSgHZuXOnPPvsszJ9+nTBMOGWLVvkyCOPlAsuuEBZ+cEHH2wbtdWrV5ey+swCffr0UYuu3CYKiFtizK8bAZMFROdpV4gz5cN7b0+ifFA8vPeHMEomXUAmTZokzZs3L4WuXr16gn+5EqZXVapUSS1ez05YpL937171/sWUXgKpFJAlS5bI8ccfLx07dhRY+qGHHqoeEkgDRAT/v0aNGgV7hSUgXbt2lYsvvrhU3qOOOkratWvnulfpKiC4Ee6G5TqcqStA+Qgv5JQP72yTJh8UD+99IcySOgjIKUdeJTWrHBbobW7dtVHmr34qZ51Dhw6Vu+66K+fvmjZtKhjpwMLz7IQF6Zs2bZLly5cH2lZWZhaBVE1qMSoAACAASURBVArI5s2bZf369UpCMtOTTz4pGL146KGH5Oabb3YkIJjnePfddwcS9VwCol7+Y16ITgEJJLyJrsRk+UBgdB79oHx4f3SSJB8UD+/9IIqSSRcQjoBE0YvSdY1UCki+EG/btk1q1qwpV199tUyYMMGxgEBCkKpUqeKr9+gsIJQQX6FNdGHKR7jh1VFAuOYj3Jhn1k7xiI61nyslXUDcnm/CNSB+elM6ylJAMuK8bNkyOeaYY2TIkCEyfPhwRwJSrVo12bFjh8qLqVc33XSTXH/99Z56DwXEEzYWipEA5SNc+DrKhxoxqnZAuDfus/YkjHxQPHx2goiLU0BKA8d6WrxHcResiDuiQZejgGQEq1evXoJhxo8//ljtX10orV27Vo2UdOvWTRo1aqSmdGENyUcffSS33nqrOv2zUNqwYYPgX2b67LPPpGfPntLqjIFSrVb9kl/pMAXLagzXghj0dIfcVMpHuIApH974Uj68cWMpfwQoIKX5YQcs7HSV7xyQhQsXlpkG7y8CLG0aAeMFBDsprFixwhH3qlWrSsOGDXPmHT9+vPTr10+t/cAaEC9p//79cuaZZ8o777wjn3/+uWARVr6EhVvDhg3L+etsAUEmXSSEAuKlZySvDOUj3JhSPtzzpXi4Z8YSwRGggJRl2b9/fxk3bpw6Cb19+/by7rvvqpPQ8a41duzY4OCzJiMJGC8ghbbDzY5Ip06dZO7cuWUC9fLLL6udrM477zyZNm2aVKhQwXMwZ8yYIRdddJF66K699tq89bgZAdFJQFRbtu32zIcFzSdgunwgAlx07r4f6jztynT54HQr9/1RtxIUkLIR2bdvn9x///1qdsi6deukfv360rdvXxk8eLCv9yzdYs/2eCNgvIDs2rVL5s2b5+jua9euLW3bti2Vd86cOUoYsC3czJkzpXLlyo7qypdp8eLFavoWTvjEHEg3Kd8aEAqIG4rMGyYBykeYdHnWhxe6lA8v1FgmaAIUkKCJsr6kEzBeQPwECOLSpUsXwYE5r7/+umBBud+EEZQePXoo48eWvm6SKQKihIijIG5Cm4i8lI/ww6jj1CuOfIQTd456hMM1rlopIHGR53VNJZBaAVmwYIGcffbZ6jRziEitWrXyxhDTpbZu3arWdFSsWFHl++abbwQjKpkJozGY54iDDrEupUGDBq76RSEBUS/9GpwHYt0QBcRVaI3OnATxQAB0nnaF9lE+3D0mpo58UDzcxdmU3BQQUyLFdupCIJUCsmbNGrU7w/bt2+W+++5Tp3VmJvz3OeecU/Kj3r17yzPPPCOrVq1SJ6Ujde/eXXbu3KlOPMe8RuyChTzYcg5bz2ErX7fJJAFRQsRRELchNi4/5SOakFE+3HGmfLjjxdzhE6CAhM+YV0gWgVQKCBain3HGGXkjmb1YPZeA4KBCCAfODsFoCKZvFRUVycCBA9WaEi/JNAGhhHiJsjllKB/RxIry4Y6zifLBUQ93MTYxNwXExKixzXESSKWAxAm80LXtBES98Gs0DYsComtP8t8uyod/hk5qoHw4ofRLHsqHO17MHR0BCkh0rHmlZBCggGgURxMFhBKiUQcKqCmUj4BA2lSjo3ygybouOjdNPjjqEc1zpMtVKCC6RILtMIUABUSjSJkqIJQQjTqRz6YkRT7Ui3T18j5phFec8uGOLeXDHS/mjp4ABSR65ryi2QQoIBrFz4mAqJd9zaZhUUA06kQem5Ik8dBdPtA+HQWEIx8eH56MYhz18M/Q1BooIKZGju2OiwAFJC7yOa5rsoBQQjTqSC6bQvlwCcxndsqHc4AmjXxQPpzHNVfOvQf95K+CjNIVvz8gsLqcVkQBcUqK+UjgZwIUEI16gukCQgnRqDM5bArlwyGogLJRPpyBpHg442RSriAFw+99hyEoFBC/UWH5tBGggGgUcacCol70NZyGZaHk+SAadao8TUmaeOA2dV7zgfZRPpw9F5QPZ5x0zaWTaLhl5EdMKCBuaTN/2glQQDTqAUkREI6EaNSpcjSF8hF9fCgfzphTPpxx0imXycJhx9GNkFBA7Gjy9yRQmgAFRKMe4UZAOAqiUeAMagrlI/pgUT6cMTdFPtK+1iPJwmHXUwsJCQXEjh5/TwIUEG37QJIEhKMgenWzJIoHCHPalft+puNuV5QP93GMqkSahcOOcaaQaCEgh1wiNSsdatdsV7/fumeTzN/8ohQXF0tRUZGrssxMAoUIcAREo/6RNAGhhOjRuSgf8cSBIx/OuJsgH2kb9aB0OOu7mbn2f/GVrBn/cCwv6ta7wykUEPeBY4nYCFBAYkNf9sJuBUS94Gu8GD3zDrkwPfqOllTx4MiHt77EkQ9v3NIiH5QOb/3DKrV73Tr5auQjFBB/GFk6RQQoIBoFO8kCwtGQ6DpaksWD8uGtH1E+vHFLunxQOrz1i1ylKCDBsWRN6SBAAdEozl4ExKRREEpI+J2N8hE+40JX4LQrZ/x1n3ZF8XAWR+b6hQAFhL2BBNwRoIC44xVq7jQICCUknC6UdPHgyIe3fsORD/fckiofHO1w3xfclKCAuKHFvCTAk9C16gNeBcS0URBKSHDdLg3iQfnw1l8oH+65JVE+KB7u+4GXEhQQL9RYJs0EOAKiUfTTJCAWdi5O99YB0yIeJsgH2qjb1CvKh7vnKmniQelwF/8gclNAgqDIOtJEgAKiUbT9CIiJoyCUEPedL03iQflw3z8Us2oHeCsYYimd13wkST4oHiF2YpuqKSDxseeVzSRAAdEobmkVEIqIfSekeNgziiMHRz7sqVM+7Bn5zUHx8EvQf3kKiH+GrCFdBCggGsXbr4CYPApCCcndEdMmHqaMeqCdlI/CH54Uj/D/uFA8wmfs9AoUEKekmI8EfiZAAdGoJwQhIEmQEHUP23ZrFJnom5JG8aB8eO9nuk27onx4j6WTkhQPJ5SizUMBiZY3r2Y+AQqIRjGkgJQNRppEJK3SYUV9b/XyGj2N+ZvCkQ+OfMTVUSkecZG3vy4FxJ4Rc5BAJgEKiEb9ISgBScooSGZokiwiaRcPjnx4/xDiyIdzdiYvNqd4OI9zXDkpIHGR53VNJUAB0ShyFBBnwUiCjFA6fok1Rz6c9fvsXJQPZ9woHs44MZc/AhQQf/xYOn0EKCAaxTxIAUniKEiuUJkkI5SOshGkfHj7AKJ8OONmqnxwxMNZfHXKRQHRKRpsiwkEKCAaRSloAUmLhFgh1E1GKBz5Hy6Kh/cPHsqHM3YmygfFw1lsdcxFAdExKmyTzgQoIBpFhwISbDCiFBLKhvPYUT6cs8rOSfmwZ0fxsGfEHMEToIAEz5Q1JpsABUSj+IYhIGkbBXEaTi9yQslwSpcjH/5Jla2B8mFPlfJhz4g5wiFAAQmHK2tNLgEKiEaxDUtAKCEaBTnFTeHIh/fgUz7s2ZkmH5xuZR9Tk3JQQEyKFtuqAwEKiA5R+L82hCkglBCNAp2yppgiHgiLbmd8oE2UD/sHxiT5oHjYx9PEHBQQE6PGNsdJgAISJ/2sa1NANAoGmxIIAcqHP4w6yYeOp5tTPPz1L5YOjoAOAtKuUhepUa5OcDclItt+3CLv7/l/UlxcLEVFRYHWzcrSTYAColH8wxYQjoJoFOwUNIXy4S/IlI/C/Cgf/voXSwdLgAISLE/WlnwCFBCNYhyFgFBCNAp4QptiknggBJx2VbgjcuTD+4PK6Vbu2O2v+qO7Ah5yl99ZzkMp+yIUEHtGzEECmQQoIBr1h6gEhBKiUdAT1hTKh/+AcuTD/JEPikf+GEYhGX6eQq+CQgHxQ51l00iAAqJR1KMUEEqIRoFPSFMoH/4DSfnIz9CUKVeUj59jqLtouHlanUgJBcQNUeYlAREKiEa9IGoBoYRoFHyDm2KaeAA1p10V7nC6TbsyQT7SLB5Jkg2nH8XZUkIBcUqO+UjgZwIUEI16QhwCQgnRqAMY2BTT5ENH8UDYOfJh9shH2uQjjcJh9/G87/P18tXIR2LZLcp6d+AuWHZR4u91IkAB0SgaFBCNgsGmFCRgmnhw1MNZh+bIhzNOVq40iQelo3Df2L12nWwcMZIC4u4RYu4UE6CAaBT8uASEoyAadQIDmkL5CCZIOo16qFGYqsHcVxC16D7lKg3iQeFw15MpIO54MTcJUEA06gNxCoiFoeL2/RoRYVN0ImCieHDkw74H6SQeaC3lwz5mYeWgdHgnSwHxzo4l00mAAqJR3HUQEI6GaNQhNGoK5SO4YOg08kH5cB7XpI56UDqc94FCOSkgwXBkLekhQAHRKNa6CAglRKNOEXNTKB7BBoDykZ+nziMfSZQPikewzzYFJFierC35BCggGsVYJwGhhGjUMWJoiqniAVTc6cq+w+g08kHxsI9XUDkoHUGRLFsPBSQ8tqw5mQQoIBrFVTcBoYRo1DkibArlI3jYHPnIzZTyEXxfy66R0hE+Y1yBAhINZ14lOQQoIBrF0hKQY8//o9Q68HBtWsaF6dqEItSGmCweHPlw1jU48mHPKSnTrSge9rEOMgcFJEiarCsNBFIrIL1795ZnnnkmZ4y//PJLqV+/vm389+/fLw888IA88cQTgjINGjSQvn37yqBBg6R8+fK25bMzZArIQXXqS6UdP7quI6wClJCwyMZfL8UjnBjoNOqBO6R82Mc5CfJB8bCPcxg5KCDBU508ebI8+uijsnjxYvnpp5+kadOm8oc//EH69etX6mJLliyRwYMHyzvvvKN+3qFDB7n//vulRYsWwTeKNQZGIPUCAgkpV65cKaDdu3eXqlXtN8W/7rrrZMyYMXLVVVfJqaeeKu+995489dRTgp+PHj3adZCyBQQV6CQhaA9FxHVYtS1gungALNd72HcviocDRgf9ZJ9J4xyUjviDQwEJNgY333yzjBw5Ui655BLp1KmTEpAvvvhCKleuLPfee2/JxfCzk046SWrXri0DBgxQP//73/8u3333nXzwwQdy9NFHB9sw1hYYgdQLyN69e6VChQqugX7yySfSqlUr1eHxkFhp4MCBMmrUKFm0aJG0bNnSVb0mCAglxFVItcycBPGgfDjrWpQPe04mj3pQPOzjG1UOCkhwpF999VW54IIL5LnnnpPLLrusYMUXX3yxzJo1Sz777DM1CwUJM1KaN28uXbp0kZdeeim4hrGmQAmkXkD27Nkju3btkmrVqpUZCSlE+o477lAWvnLlSmncuHFJ1lWrVkmTJk3k9ttvl3vuucdVsHIJCCrQbRTEuimOhrgKb+yZkyIelA9nXYnyUZgTxcNZP2IuZwQoIM44Ocl12mmnyc6dO+Wjjz5SIx87duyQ6tWrlymKn9epU0cuvfTSMlPqr7zySnnhhRdk8+bN6v2OST8CqRcQdOrt27dLlSpVlC1j3iDmGdqlc889V41ybNy4sUzWunXrSuvWrZWVu0n5BIQS4oYi82YToHhE0yd0WvNB+UimfHDEI5pn2ctVKCBeqJUtA6moWbOmWutxyCGHqOlU3377rdSqVUv69OmjvvitWLGiKjh//nw1/R1T4fv371+qMvwM0+GRp127dsE0jrUESiC1AjJkyBDB9Ks2bdrIgQceKO+//76aOgUhgXU3atSoIGhMr6pUqZIUFxeXyVdUVKTqxjStfGnDhg2Cf5lp4cKF6gFr3OFyqVKzbpmiFXfqsyg9u3EVNG5boE+MQZXtq1p6bZNBTc/Z1L0a38++qgdog3dfZT2asr+KHu3IbMW+Kmau9dhfWd/Pfv2iHE+L9m7cJFueeV4thG7fvn2kjbC+vGxZsb0cdECNQK/9/U/b5JO978qkSZPUtKbMVK9ePcG/IBPeg/AFLuTjxx9/lDvvvFNtCvT888/LtGnT5IorrlBtQZo6dapgCtb06dPlwgsvLNUM/Kxr164yZcoU6dGjR5BNZF0BETBeQPCiv2LFCkc4sLC8YcOGefO+9tpr0rlzZ8HQ3dNPP12wToySYKQDC8+zE4x806ZNsnz58rx13HXXXTJs2DBH7WYmEiABEiABEiAB/Qng5RgvyVGmtWvXKjnAtKUwEkYc8K6VnYYOHSp4l8mXvLyfQeA6duyoqnzrrbdK/j/++6yzzpI33nhDPv30Uzn22GNl4sSJ0qtXL5k9e7Z6d8tMc+bMEcxUQZ6ePXuGgYV1+iRgvICsXr261BqMQjywk8LcuXMLIsOICEYm1q9fXzBfGCMgCxYsUEOGEyZMkBNOOMFnaM0pjsVj+IDI9Q2LOXfhvqW877LfqLmnaFYJxjxdMWe80xNvrCXF+wheevHtfdQJEoL1DmEkHDmQ62gBuxEQL+9nmFVy4oknypFHHilYU5uZ8MUwdh197LHH1BQtjoCEEe3o6jReQPDQz5s3zxExbNPWtm3bgnmxBe8rr7wiWJxeKIW5BgQPIKZxpSVZw8e873REPK3xRnTTeu+8b36mp+PTjXeZScDL+xnW1UJsTj75ZDU1PjNhXS3W6mKDH2z0wzUgZvc34wUkaPzHH3+8WvCEbdwKJXT+4cOHh7ILFl/Eg46qnvXxpSxdL2UUkDZqzRy/XNHz8yjIVqX1sy1IhmmuK3M73UwOOPT5mmuukccff1wd+my3CxYOMtyyZQt3wdK0M6VSQL7//nt19gcWn2cmbNmG7dxwyubYsWNLfoUpWVu3blW7Y1m7L2AHLCyUyncOCBZSQWbcpLR+aPO++VLm5jkxOS/7Ovu6yf3XadvT2s+d8mG+wgRuu+02tSPpjBkz1HkgSJgGhvW1+BID62sxRQsJC8yxBmTp0qVqsTqSdQ4IZqpgmhaTngRSKSCQg/PPP1+6deumTsnEblYYysOhNzBvrMXAAnMr9e7dW+0xjfmIVqfH77Dt27hx49ScROx68e6776qT0LMFxmno0/qhzfvmS5nTZ8T0fOzr7Oum92En7U9rP3fChnnsCWAWCtaB4MtfHO58xBFHyIsvvihvv/22YAdTzD6x0rJly9TUepwHcuONN6ofY+tejHzgJPRmzZrZX5A5YiGQSgHBHMNbbrlFPvzwQ7XYHDs1QDywjRsOGMxeQJZPQPbt26csHcOC69atU/aNYcHBgwd7Ol0dDxuEBgIT9NZ2sfQuhxflfTPeDruK8dnY19nXje/EDm4grf3cARpmcUgAfehPf/qTzJw5U81AOeqoo+SGG25Qi8+z0+LFi9V7F74ERurQoYOMGDHC9SwUh01jtoAIpFJAAmLHakiABEiABEiABEiABEiABFwSoIC4BMbsJEACJEACJEACJEACJEAC3glQQLyzY0kSIAESIAESIAESIAESIAGXBCggLoExOwmQAAmQAAmQAAmQAAmQgHcCFBDv7FiSBEiABEiABEiABEiABEjAJQEKiEtgzE4CJEACJEACJEACJEACJOCdAAXEOzvfJa3tfXNVhIN0rEN1Cl0Ih/M88MADaitglMF2wtgKeNCgQVK+fHnfbQy6gp07d8qzzz4r06dPl08++UTt1Y2zVXDYEE6XP/jgg20vuXr1amncuHHOfH369FEs4kx+Y7JkyRK1peA777yjbgNbCmK75xYtWsR5WwWv/dFHH8mkSZPkjTfeUOflHHTQQXLcccepbRTPPvts23YH8SzYXiSEDEH0RRPjXShewHz33XerLc3zJVPijZOWH3zwQXX4Gfo4tnC/8sor5emnny5za36fe1SoS19wet9+n3vcsyl9IYSPD1ZJAqkmQAGJMfzWBy8OOSxXrlyplnTv3l2qVq1q27rrrrtOxowZow5DxCmh7733njoMET8fPXq0bfmoM+APLE6I79ixo+CU0kMPPVT9cYc0QETw/2vUqFGwWdZLX9euXeXiiy8ulRd7hbdr1y7q2yp1PT8x+eKLL+Skk06S2rVry4ABA1S9OFTpu+++U4cq4eBMHRPiMG/ePHUqbVFRkeAFBv0Q8X7sscdy7t2eeR9BPAtxcPHbF02NNw5uXbFiRRnkI0eOVC/qeI7RD+wExM9nXxTxtuKLc5natGkjr7zySl4B8fPc41506gtO79vvc58pILr3hSj6G69BAmkiQAGJMdrWSxcOQqxQoYLrlmAEoVWrVupFFX/4rYSTQ0eNGiWLFi2Sli1buq43zAKbN29Whz9CQjLTk08+KRi9eOihh+Tmm292JCD4hhXftOqU/MYEf9BnzZoln332mRrNQsLIVvPmzaVLly7y0ksv6XS7JW3BAVA4ufbAAw8s+dmuXbvkhBNOkK+//lo2bdpUsI/7fRbigmK9qHnti6bGOxdvjG4edthh6osEHAxWKJkS7927dws+s3ASMw6erVixYk4B8fvcg5VOfcHpfft97jMFxOvfwbiefV6XBEjAHwEKiD9+vkpbf4T37NkjeFmrVq1amZGQQhfAS8+9994rK1euLDUlCVNgmjRpoqY03XPPPb7aGFXhbdu2Sc2aNeXqq6+WCRMmOBYQa5pHlSpVompqwev4iQlGDerUqSOXXnqp4NvAzIRpHy+88IJ6GUI/MSXdcsst8vDDD8vatWtLhCpX2/0+C3HxyBQQt30xafH+xz/+IT179lRTlhB3JwLi9bMvjngXEhA/zz3uRee+UOi+88XB6XOfKSAm9YU4+h+vSQJJI0ABiTGi1ktX9erVZfv27YKXaHzLjfn+TZs2tW0ZpjBhlAPzkrNT3bp1pXXr1urbdBPSsmXL5JhjjpEhQ4bI8OHDHQkIXsTxhxsJU69uuukmuf7662O9XT8xwbQWTKPDlLr+/fuXug/8DFM8kCfuKWZuAF922WUyZcoUNYUM60LyJb/Pgps2BZnXEhAvfTFp8e7cubO8+eabsm7dOsHnjxMB8frZF2QMndZV6EXcz3OP6+vcF7wIiNPnPlNATOoLTvsM85EACeQnQAGJsXfgZRvDzphbjKkr77//vpo6hQ9izKNu1KhRwdZhelWlSpXUfOvshPnXqBtTA0xIvXr1UouYP/74YzWtrFDCt+kYKenWrZtihCldWEMCZrfeeqtalB9X8hOTqVOnqmkYWKB/4YUXlroF/AxrXvAyj3UWJiRMI8MULGwwgHsrlPw+C3Hx8NMXkxTvr776Sho2bKi+QME6CbtkYrwLvYj7ee7BSue+4FZA3Dz3uHcT+4Jd/+bvSYAE7AlQQOwZ2ebAi36uBZm5CmJhOf5Q50uvvfaa4JvEfDutZJbDKAm+acTC8+yEb9Ix73758uW27feaIaj7Hj9+vPTr10+t/cAaEC8JO9CceeaZaueozz//3NEIkpfr2JXxE5OJEycKRGz27NmqD2SmOXPmqEX7yINpLrqnrVu3yimnnCIbNmxQo3SF+nwQz4JOPJz2xSTF+7777lM7nmGNUvbGEE5j4+azz2mdQeYr9CLu57lHG3XuC24EJIjnHjx07wtB9ivWRQJpJUABCSDyhbbizK6+U6dOMnfu3IJXxYgIXtzwzX6h5PdbN7+3HsR9v/zyy+qF5bzzzpNp06Z5Woxv3ceMGTPkoosuknHjxsm1117r9/Y8lfcTE52/BXUDA+uZIEsffvihmgKIPu81OX0WvNYfVjknfTEp8QbDY489Vk0FxedW5kYEbvnqHG+OgOTeftiKcZDPPerUuS+47dfMTwIkUJYABSSAXoEPXmxB6iRhe9W2bdsWzIoteDGNAYvyCiW/846dtLdQHr/3jW/1IQwYrZk5c6ZUrlzZV5Ow8w6mb2HhPRbgx5H8xETneeBOWaLPIqY4DwRCielXfpLTZ8HPNcIo66QvJiHeYAfRxGdaEFt/6xxvrgHJLyBBP/foVzr3hTA+M1gnCaSNAAVEw4hji9pvv/1Wbb9aKOElGwu2TdwFC8KG+eIYMXj99dcD2dkJL7xYH4H1INjSN47kJyZ2O+FMnjxZHdyo6y5YeEHDaBa+/ceOSNjNy29y+iz4vU7Q5Z30RdPjbTG74YYb1JlDCxYssP1yxY6zzvEuJCB+nnsw0bkv2E3BCuO5BxOd+4JdP+bvSYAE7AlQQOwZhZLj+++/V9ONsqcrYKtVvLhhTcTYsWNLro2pDZhfi7nG2IseCXPrsdNVvnNAFi5cWOa8jVBuxmWleFHB6dg4zRwiUqtWrbw15Lrvb775Rh3Ul5kwGtO+fXt18B3W41hnaLhsmu/sTmNirZ/B1sM45MxKECisAVm6dKnUr19f/dg6BwSjK3aLuX3fgMcKfvzxR7n88svVVsFY03PNNdfkrCnXfbt9Fjw2MZRiTvti0uJtwcQ334cffrg6UPS///1vGcZJinehF3Gnzz0AmdYXCt230+c+332b/OyH8oHCSkkgRQQoIDEFG3Jw/vnnq52ccLo1drPClIznnntOvTzjJT1zK0trm1Kc8YGDvqyE7Vqx5gEnoeMFHAdD4QTqbIGJ6TbLXHbNmjVKmrDtMBauZm/Xif8+55xzSsrlum8MzePQM2xHi5d0rJXBuRkYCcKIEHZViTM5iYm1fiZ7swFsR4zpLDgP5MYbb1S3gZPQMfKBk9CbNWsW563lvTY2EHjkkUfUeo++ffuWyYeYIra57tvts6ATAKd9MWnxtmJgjfTgWb7tttvKhCYJ8X700UfVNtJ42R46dKj6/ELckTDd0DpU1clzjzKm9AUn9+30uc933yY/+zp9DrEtJGAiAQpITFHDgk0c1oT503iBxrdiEA9sv4pDrQ455JBSLcsnIPh2CueGYNoR9t/HCzleAAcPHuxrQXdYWLAA/4wzzshbffYi/Vz3jYMKIRx4Wcc30JiShG2HcQI8XgjiTk5iku8lBG3H+gHEDzKJ1KFDBxkxYoSWo1kW69NPP73gOiicD4E8ue7b7bMQd3wzr++0LyYt3hYDbA2N9WoYpcNISHZKQrzxhQ++OMmV8GUPPqOQnDz3hQREt2ffyX07fe7z3bfJz75On0NsCwmYSIACYmLU2GYSIAESIAESIAESIAESMJQABcTQwLHZJEACJEACJEACJEACJGAiAQqIiVFjm0mABEiABEiAvedyDwAACe9JREFUBEiABEjAUAIUEEMDx2aTAAmQAAmQAAmQAAmQgIkEKCAmRo1tJgESIAESIAESIAESIAFDCVBADA0cm00CJEACJEACJEACJEACJhKggJgYNbaZBEiABEiABEiABEiABAwlQAExNHBsNgmQAAmQAAmQAAmQAAmYSIACYmLU2GYSIAESIAESIAESIAESMJQABcTQwLHZJEACJEACJEACJEACJGAiAQqIiVFjm0mABEiABEiABEiABEjAUAIUEEMDx2aTQNoJHHDAATJ06FC56667FIq5c+fKGWecIW+++aacfvrpicCDexs2bJj89NNPibgf3gQJkAAJkAAJgAAFhP2ABEjASAIUkGjCtmvXLiV5zz33nHz99ddy1FFHycCBA+Waa66JpgG8CgmQAAmQQOIIUEASF1LeEAmkg0C2gOzfv1/wslylShUpX758IiDs2bNH8K9atWqx3c/5558vc+bMkRtuuEGOPfZYefXVV+Vf//qX3H///TJo0KDY2sULkwAJkAAJmEuAAmJu7NhyEkg1gWwBSTWMkG7+lVdekQsvvFAefvhh+eMf/1hyla5du8prr70ma9askV/96lchXZ3VkgAJkAAJJJUABSSpkeV9kUBCCOAl96abbpJ///vfUqFCBfn1r38tf/vb3+Swww6zXQNiraFYuHChPP744/Liiy/KDz/8oOoYP368VK9eXf7yl7/Ik08+KZs3b5aOHTvKhAkTpEGDBqXobdmyRf7617/Kyy+/LOvXr1cv3b/5zW/k7rvvloMPPrgkb+/eveWZZ56R//3vfzJ48GA1UrBv3z4577zzZOzYsVKrVq2SvKtXr5Y777xTrVnB1Cb87rjjjpM77rhDzjzzTJUv3xoQvPzj2sXFxSpfmzZt5M9//rOcddZZpdoNSbviiivUdCm0Z/HixXLooYfKrbfeKgMGDLDtISg7bdo0+eabb9TIkpXQZrQRDDkVyxYjM5AACZAACWQRoICwS5AACWhL4Ntvv5VWrVrJpk2b5Prrr5fGjRurKUB4wf/4448dC0jr1q2VsGA60ZIlS5QMdO/eXb2Mf/rpp/Lb3/5W1q5dK4888oicdtpp8sYbb5QwQRtOPvlkJSjXXnutNGnSRJYuXSpjxoyR5s2by/z58+XAAw9U+S0BOfHEE6VRo0ZKCJB39OjRctlll8nEiRNVvr179yrZ2LZtm/Tv318aNmyoJOSDDz6QU045RQlCPgGZOnWqXHLJJdK0aVO5+uqrVT4I1IoVKwS/69atW0nbISAtW7aUDRs2qLYfccQRMnnyZHn77beV0GULS3ZHaNasmRKj999/v9SvMNWtatWq0q9fP8WSiQRIgARIgATcEKCAuKHFvCRAApESGDJkiIwYMUL++c9/lrxYY0coCANetu12wbJGEDBagW/yrdSjRw9VJ17233rrrZI1IxgVePTRR+Xzzz+Xo48+WmWH+EyaNEn+85//qJd+K1nTk/ACjhfxTAHBeolRo0aV5MUIDurFSEKNGjVk0aJFcsIJJ8gLL7ygZCJfyh4BwWjKkUceqXbFgkhZIyqoF6JRrlw5WbVqlRopQoKA4N+CBQvkpJNOUj/bvXu3Ep5OnTqpEaFCCSNEnTt3VqyzU+3ataV9+/YyY8aMSPsEL0YCJEACJGA+AQqI+THkHZBAYglghAEv3V988UWpe8Q38pAHpwIye/Zs9SJtpQcffFAtoMbIwVVXXVXyc4wOYKRi5syZ0qVLF/Wij+lWmG702GOPleEMGUC+l156qZSAYNQDowdWguxgxAVToCAKmH6F0RyMmIwcOVJJSa6ULSAQiXbt2qlpY5i+lZnwM/BAnrZt25YICPJjlCYzYQ3HunXrSqZw5etAWMz/u9/9Tu2AlZ0OP/xwtSgdIylMJEACJEACJOCGAAXEDS3mJQESiJRA5cqV5ZxzzinzLfvWrVvV2gunApItBE888YRau5A9DWnWrFlKKDDigfUPmPpVt27dgveMKVvz5s0rJSBYZ2JNy8IvrDNK8L8YeUDC6A52ksJoBYTh3HPPVfKDbW6tlC0gliBNmTJFMIqTmfAzjAwhD6QBCaMfl156qTz//POl8kJ80GaMlhRKHAGJtLvzYiRAAiSQGgIUkNSEmjdKAuYRgIBg5GL69OmlGu9WQDCCkvlibwlI9qGFloBgrUbPnj1l48aNUq9ePTX9C1OxciWIENZ8IFlrQLDGw5oGlSkg2ddDuzCFCdPAIEMoh1EZyA+SFwHJnNZlLUKHUGUmtBMyhJGYQolrQMx7ZthiEiABEjCBAAXEhCixjSSQUgJBTcHyKiA4W6ROnTpq2hPkxC65FZDM+rDYHes0ICHY+SuXgBSagoVdurATFhayW+s9/ArI5ZdfrtbKcBcsu8jz9yRAAiRAAm4IUEDc0GJeEiCBSAncdtttapqS30XoXgUEN4sF5tjCFyMU1va4FgQICkZjsCAbyamAoAx2kapYsWIpnmeffbbacWrHjh05BcRahI5fYhG6tQXwd999Jy1atFBTrjCqYR3E6FdAMDpz0UUX5T0HBNfCTmJMJEACJEACJOCGAAXEDS3mJQESiJQAzt/AblHYohY7S2HhNnafwtQonO3hdA2IHwHBt//Y7Wn58uXy+9//Xp25AfHAf2NnLUyT6tu3rysBwXki2H4X6zgwzQlTzbAmA4u9M7e2zXUOiLUNL6aU9enTRy2Ux7QttCfXNryYzuV1ChZuCmemvP766+rcECw6B3+cbzJ8+HC1joWJBEiABEiABNwSoIC4Jcb8JEACkRLAQmlsY4uXYIwYeDmI0I+A4GYxYoHtgPGCj+lROJQPW9li4TjWhuDMDySnIyC4J7zAQzq++uortX0uzhfBjlyoz1o/ku8gwjlz5uQ8iBAjKJnJ7wgI6tq5c6cSPSxkhwhiK+KBAweWbD0caWfgxUiABEiABBJBgAKSiDDyJkiABEiABEiABEiABEjADAIUEDPixFaSAAmQAAmQAAmQAAmQQCIIUEASEUbeBAmQAAmQAAmQAAmQAAmYQYACYkac2EoSIAESIAESIAESIAESSAQBCkgiwsibIAESIAESIAESIAESIAEzCFBAzIgTW0kCJEACJEACJEACJEACiSBAAUlEGHkTJEACJEACJEACJEACJGAGAQqIGXFiK0mABEiABEiABEiABEggEQQoIIkII2+CBEiABEiABEiABEiABMwgQAExI05sJQmQAAmQAAmQAAmQAAkkggAFJBFh5E2QAAmQAAmQAAmQAAmQgBkEKCBmxImtJAESIAESIAESIAESIIFEEKCAJCKMvAkSIAESIAESIAESIAESMIMABcSMOLGVJEACJEACJEACJEACJJAIAhSQRISRN0ECJEACJEACJEACJEACZhD4//zw1+O5nxKpAAAAAElFTkSuQmCC\" width=\"640\">"
      ],
      "text/plain": [
       "<IPython.core.display.HTML object>"
      ]
     },
     "metadata": {},
     "output_type": "display_data"
    }
   ],
   "source": [
    "fig, ax = plt.subplots()\n",
    "cont = ax.contourf(x_list, x_list, y_list, 25)\n",
    "plt.scatter(*xmin_0, s=100, marker=\"+\")\n",
    "plt.scatter(*xmin_1, s=100, marker=\"+\")\n",
    "ax.set_xlabel(\"dimension 0\")\n",
    "ax.set_ylabel(\"dimension 1\")\n",
    "ax = fig.colorbar(cont)"
   ]
  },
  {
   "cell_type": "markdown",
   "metadata": {},
   "source": [
    "### 二阶自动求导：程序"
   ]
  },
  {
   "cell_type": "markdown",
   "metadata": {},
   "source": [
    "事实上，上述函数 $y$ 并没有下界，这也能从上图中右上角的趋势中看出；因此简单的梯度下降法在初猜偏离极值点附近时，很可能会在学习率 `lr` 设置得较大时出现这种不收敛的情况："
   ]
  },
  {
   "cell_type": "code",
   "execution_count": 19,
   "metadata": {
    "scrolled": true
   },
   "outputs": [
    {
     "name": "stdout",
     "output_type": "stream",
     "text": [
      "Initial x: tensor([-10.,  10.], requires_grad=True)\n",
      "465.36041259765625\n",
      "-69.391845703125\n",
      "-13590.681640625\n",
      "-7374935.0\n",
      "-1465419038720.0\n",
      "-5.513727300032158e+22\n",
      "nan\n"
     ]
    }
   ],
   "source": [
    "x = torch.tensor([-10., 10.], requires_grad=True)\n",
    "print(\"Initial x:\", x)\n",
    "\n",
    "lr = 0.5\n",
    "for epoch in range(7):\n",
    "    y = A @ x + B @ x @ x + C @ x @ x @ x\n",
    "    print(float(y))\n",
    "    g = grad(y, x)[0]\n",
    "    x = x - g * lr\n",
    "    x = x.detach().clone().requires_grad_()"
   ]
  },
  {
   "cell_type": "markdown",
   "metadata": {},
   "source": [
    "事实上以上述初猜，即使调变学习率也很难出现任何收敛的趋势。但对于下述使用了 Newton 二阶收敛的做法，一般来说只要学习率 `lr` 不超过 1，可以迅速收到极值点 (但也可能收到鞍点)："
   ]
  },
  {
   "cell_type": "code",
   "execution_count": 20,
   "metadata": {},
   "outputs": [
    {
     "name": "stdout",
     "output_type": "stream",
     "text": [
      "Initial x: tensor([-10.,  10.], grad_fn=<MulBackward0>)\n",
      "465.36041259765625\n",
      "23.22213363647461\n",
      "0.332691490650177\n",
      "-0.36113929748535156\n",
      "-0.3630421757698059\n",
      "-0.3630422055721283\n",
      "-0.3630422055721283\n",
      "Optimized x: tensor([-0.47197, -0.03560], requires_grad=True)\n"
     ]
    }
   ],
   "source": [
    "x = torch.tensor([-1., 1.], requires_grad=True) * 10\n",
    "print(\"Initial x:\", x)\n",
    "\n",
    "lr = 1\n",
    "for epoch in range(7):\n",
    "    y = A @ x + B @ x @ x + C @ x @ x @ x\n",
    "    print(float(y))\n",
    "    g = grad(y, x, create_graph=True)[0]\n",
    "    H = torch.stack([grad(g, x, grad_outputs=arr, create_graph=True)[0] for arr in torch.eye(d)]).detach()\n",
    "    g = g.detach()\n",
    "    x = x - torch.inverse(H) @ g * lr\n",
    "    x = x.detach().clone().requires_grad_()\n",
    "print(\"Optimized x:\", x)"
   ]
  },
  {
   "cell_type": "markdown",
   "metadata": {},
   "source": [
    "### $y$ 的一阶导数"
   ]
  },
  {
   "cell_type": "markdown",
   "metadata": {},
   "source": [
    "我们现在对一个任意确定的 `x` $x_i$ 来分析函数 `y` $y$ 求导的问题。\n",
    "\n",
    "$$\n",
    "y = \\sum_i A_i x_i + \\sum_{ij} B_{ij} x_i x_j + \\sum_{ijk} C_{ijk} x_i x_j x_k\n",
    "$$"
   ]
  },
  {
   "cell_type": "code",
   "execution_count": 21,
   "metadata": {},
   "outputs": [],
   "source": [
    "torch.random.manual_seed(0)\n",
    "x = torch.randn(d, requires_grad=True)\n",
    "y = A @ x + B @ x @ x + C @ x @ x @ x"
   ]
  },
  {
   "cell_type": "markdown",
   "metadata": {},
   "source": [
    "任何优化问题需要求取一阶导数。一阶导数的求取我们应该已经比较熟悉了：\n",
    "\n",
    "$$\n",
    "\\frac{\\partial y}{\\partial x_i} = A_i + \\sum_j (B_{ij} + B_{ji}) x_j + \\sum_{jk} (C_{ijk} + C_{jik} + C_{kji}) x_j x_k\n",
    "$$\n",
    "\n",
    "上述推导过程中需要利用到 $i, j, k$ 角标等价的技巧。"
   ]
  },
  {
   "cell_type": "code",
   "execution_count": 22,
   "metadata": {},
   "outputs": [
    {
     "data": {
      "text/plain": [
       "tensor([ 6.09431, -2.24798], grad_fn=<AddBackward0>)"
      ]
     },
     "execution_count": 22,
     "metadata": {},
     "output_type": "execute_result"
    }
   ],
   "source": [
    "A + (B + B.T) @ x + (C + C.transpose(0, 1) + C.transpose(0, 2)) @ x @ x "
   ]
  },
  {
   "cell_type": "markdown",
   "metadata": {},
   "source": [
    "PyTorch 的自动求导程序可以通过如下方式求取一阶导数 `g`："
   ]
  },
  {
   "cell_type": "code",
   "execution_count": 23,
   "metadata": {},
   "outputs": [
    {
     "data": {
      "text/plain": [
       "tensor([ 6.09431, -2.24798], grad_fn=<AddBackward0>)"
      ]
     },
     "execution_count": 23,
     "metadata": {},
     "output_type": "execute_result"
    }
   ],
   "source": [
    "g = grad(y, x, create_graph=True)[0]\n",
    "g"
   ]
  },
  {
   "cell_type": "markdown",
   "metadata": {},
   "source": [
    "### $y$ 的二阶导数"
   ]
  },
  {
   "cell_type": "markdown",
   "metadata": {},
   "source": [
    "二阶导数通常也称为 Hessian 矩阵。\n",
    "\n",
    "$$\n",
    "\\frac{\\partial^2 y}{\\partial x_i \\partial x_j} = (B_{ij} + B_{ji}) + \\sum_{k} (C_{ijk} + C_{ikj} + C_{jik} + C_{jki} + C_{kji} + C_{kij}) x_k\n",
    "$$\n",
    "\n",
    "上式仍然利用了 $j, k$ 角标等价的技巧。我们用 `Cp2` 表示六个 $\\mathbf{C}$ 的转置张量之和："
   ]
  },
  {
   "cell_type": "code",
   "execution_count": 24,
   "metadata": {},
   "outputs": [],
   "source": [
    "Cp2 = (\n",
    "    C.permute(0, 1, 2) + C.permute(0, 2, 1)\n",
    "  + C.permute(1, 0, 2) + C.permute(1, 2, 0)\n",
    "  + C.permute(2, 0, 1) + C.permute(2, 1, 0)\n",
    ")"
   ]
  },
  {
   "cell_type": "markdown",
   "metadata": {},
   "source": [
    "那么 Hessian 矩阵可以写为"
   ]
  },
  {
   "cell_type": "code",
   "execution_count": 25,
   "metadata": {},
   "outputs": [
    {
     "data": {
      "text/plain": [
       "tensor([[ 2.39952, -0.79906],\n",
       "        [-0.79906,  2.35762]], grad_fn=<AddBackward0>)"
      ]
     },
     "execution_count": 25,
     "metadata": {},
     "output_type": "execute_result"
    }
   ],
   "source": [
    "B + B.T + Cp2 @ x"
   ]
  },
  {
   "cell_type": "markdown",
   "metadata": {},
   "source": [
    "我们 [曾经](./Autograd_TensorContract.ipynb#矩阵-向量乘积的自动求导) 指出过，在 PyTorch 中，真正的二阶梯度 `H` 是可以获得的，但需要依赖矩阵 $\\delta_{ii_0}$ `torch.eye(d)`。获得二阶梯度的前提是一阶梯度 `g` 已经被求出，并且一阶梯度的导数图 (`create_graph=True` 选项) 已经被绘制。"
   ]
  },
  {
   "cell_type": "code",
   "execution_count": 26,
   "metadata": {},
   "outputs": [
    {
     "data": {
      "text/plain": [
       "tensor([[ 2.39952, -0.79906],\n",
       "        [-0.79906,  2.35762]])"
      ]
     },
     "execution_count": 26,
     "metadata": {},
     "output_type": "execute_result"
    }
   ],
   "source": [
    "H = torch.stack([grad(g, x, grad_outputs=arr, retain_graph=True)[0] for arr in torch.eye(d)])\n",
    "H"
   ]
  }
 ],
 "metadata": {
  "kernelspec": {
   "display_name": "Python 3",
   "language": "python",
   "name": "python3"
  },
  "language_info": {
   "codemirror_mode": {
    "name": "ipython",
    "version": 3
   },
   "file_extension": ".py",
   "mimetype": "text/x-python",
   "name": "python",
   "nbconvert_exporter": "python",
   "pygments_lexer": "ipython3",
   "version": "3.7.3"
  },
  "toc": {
   "base_numbering": 1,
   "nav_menu": {},
   "number_sections": true,
   "sideBar": true,
   "skip_h1_title": false,
   "title_cell": "Table of Contents",
   "title_sidebar": "Contents",
   "toc_cell": false,
   "toc_position": {},
   "toc_section_display": true,
   "toc_window_display": false
  }
 },
 "nbformat": 4,
 "nbformat_minor": 2
}
