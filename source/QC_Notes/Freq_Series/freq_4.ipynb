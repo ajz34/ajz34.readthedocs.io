{
 "cells": [
  {
   "cell_type": "markdown",
   "id": "ba4dadd5",
   "metadata": {},
   "source": [
    "# 频率分析 (4)：非谐性频率矫正 VPT2"
   ]
  },
  {
   "cell_type": "markdown",
   "id": "85539b2b",
   "metadata": {},
   "source": [
    "在本文档中，我们将会讨论非谐性频率矫正模型 VPT2。\n",
    "\n",
    "在量化计算中，通常分子振动的频率通过 Hessian 矩阵给出。但我们也知道，Hessian 矩阵是能量对原子核坐标的两次导数；以这种方式求得的频率，相当于求取抛物线势函数的频率。但真实的势函数并非抛物线 (譬如 Morse、L-J 势函数等)，因此真实的频率会与 Hessian 矩阵所得到的值有少许区别。这也会影响到热力学矫正中，频率配分函数所产生的贡献值。\n",
    "\n",
    "为了获得更真实的分子振动信息，那么就需要求解 Hamiltonian 受分子振动微扰后的本征波函数，并进而进行分析。近似的做法可以是微扰理论的矫正。这篇文档是其中一种近似方法，称为 Vibrational Perturbation Theory to the Second-Order (VPT2)。\n",
    "\n",
    "我们主要会依据 V. Barone [^Barone.JCP.2005] 所提供的算法与公式进行实现。我们不对公式与其正确性作推演与检查。我们主要与 Gaussian 16 rev. B01 的结果作参照，但不会完全相同。"
   ]
  },
  {
   "cell_type": "markdown",
   "id": "7f3aef06",
   "metadata": {},
   "source": [
    ":::{note}\n",
    "\n",
    "在 4 Core CPU 上完整执行本文档需要大约 5-10 分钟。\n",
    "\n",
    ":::"
   ]
  },
  {
   "cell_type": "markdown",
   "id": "5fbf2b6c",
   "metadata": {
    "raw_mimetype": "myST"
   },
   "source": [
    "::: {warning}\n",
    "\n",
    "我们在本文档中使用处于非平衡构型的非对称的氨分子。\n",
    "\n",
    "- **频率分析没有物理意义**：频率分析原则上一定要处于平衡构型；特殊的情况会是过渡态。除此之外的情况，频率分析都没有物理意义。需要先优化到稳定的构型再进行分析。\n",
    "- **不考察对称性**：对于对称的分子，有可能会产生简并的频率。在一些情况下，简并会产生数值上的奇点。非简并的分子不太容易产生奇点，分析相对容易。\n",
    "- **非线性分子**：很多时候，线性与非线性分子需要分别使用不同的方法分析。我们只考虑非线性分子，即 $3N-6$ 型分子。\n",
    "\n",
    ":::"
   ]
  },
  {
   "cell_type": "markdown",
   "id": "1f6f47e3",
   "metadata": {},
   "source": [
    ":::{danger}\n",
    "\n",
    "若本文档有幸 (或不幸) 能帮助到读者，读者也需要知道**这份文档的程序实现未必正确！**\n",
    "\n",
    "本文档所用于计算的体系比较特别 (有虚频的氨、能量最低结构的乙醛)，**无法保证可以应用到其它的分子**。\n",
    "\n",
    "同时，**Gaussian 的不同版本有不同的 bug 和使用技巧** (当然完全可能是我的错误，但这应由读者去判断与负责)。我们会在具体的位置，给出各个版本存在潜在问题的情况；并且可能的话，会给出如何重复出 Gaussian 的结果。对于输入卡 {download}`anharm.gjf` 我们所考察的 Gaussian 版本有 16 rev. B01 {download}`anharm-G16B01.log`, 09 rev. D01 {download}`anharm-G09D01.log`, 09 rev. C01 {download}`anharm-G09C01.log`。\n",
    "\n",
    "读者特别需要注意在作性质计算时，**大多数时候我们采用 Eckart Orientation**。\n",
    "\n",
    "由于当前的 VPT2 理论本身就不适合用于小分子以外的计算 (容易由于频率共振而给出非常离谱的非谐矫正值)，因此即使看起来这里给出的做法似乎适合大分子，并且程序也看起来不会报错，但**必须要慎用当前文档所实现的 VPT2**。VPT2 有不止一种应用方式；Gaussian 也实现了一些变种，可以一定程度上解决共振效应，这是本文档我完全无法处理的。\n",
    "\n",
    ":::"
   ]
  },
  {
   "cell_type": "markdown",
   "id": "8c8f1daf",
   "metadata": {},
   "source": [
    "VPT2 分析会稍微复杂一些。我们在这里尽管会与 Gaussian 16 的结果作对照，但所有量化计算都会在 PySCF 进行。为此我们需要对 Hessian 矩阵作基础的 [频率分析](freq_1.ipynb)，并且需要进行 [数值导数](https://py-xdh.readthedocs.io/zh_CN/latest/numdiff/nuc_grad.html)；这两个功能分别实现在 {download}`freqanal.py` 与 {download}`deriv_numerical.py` 中。"
   ]
  },
  {
   "cell_type": "code",
   "execution_count": 1,
   "id": "a2dbc955",
   "metadata": {},
   "outputs": [],
   "source": [
    "%matplotlib notebook\n",
    "\n",
    "from freqanal import FreqAnal\n",
    "from deriv_numerical import NumericDiff, NucCoordDerivGenerator\n",
    "\n",
    "import itertools\n",
    "import numpy as np\n",
    "from matplotlib import pyplot as plt\n",
    "from opt_einsum import contract as einsum\n",
    "from pyscf import gto, scf, hessian, lib, data\n",
    "\n",
    "np.set_printoptions(6, linewidth=150, suppress=True)"
   ]
  },
  {
   "cell_type": "markdown",
   "id": "e8290ec4",
   "metadata": {},
   "source": [
    "我们也需要进行单位换算。这在先前的若干文档中已经有所使用。"
   ]
  },
  {
   "cell_type": "code",
   "execution_count": 2,
   "id": "94ee144f",
   "metadata": {},
   "outputs": [],
   "source": [
    "from scipy.constants import physical_constants\n",
    "# https://docs.scipy.org/doc/scipy/reference/constants.html\n",
    "E_h = physical_constants[\"Hartree energy\"][0]\n",
    "a_0 = physical_constants[\"Bohr radius\"][0]\n",
    "N_A = physical_constants[\"Avogadro constant\"][0]\n",
    "c_0 = physical_constants[\"speed of light in vacuum\"][0]\n",
    "e_c = physical_constants[\"elementary charge\"][0]\n",
    "e_0 = physical_constants[\"electric constant\"][0]\n",
    "F = physical_constants[\"Faraday constant\"][0]\n",
    "k_B = physical_constants[\"Boltzmann constant\"][0]\n",
    "R = physical_constants[\"molar gas constant\"][0]\n",
    "h = physical_constants[\"Planck constant\"][0]\n",
    "hbar = physical_constants[\"reduced Planck constant\"][0]\n",
    "amu = physical_constants[\"atomic mass constant\"][0]"
   ]
  },
  {
   "cell_type": "markdown",
   "id": "f8f1d201",
   "metadata": {},
   "source": [
    "除了文末的红外光谱绘制，我们使用的分子是不具有对称性的氨分子，基组 STO-3G。"
   ]
  },
  {
   "cell_type": "code",
   "execution_count": 3,
   "id": "52cc252a",
   "metadata": {},
   "outputs": [],
   "source": [
    "mol = gto.Mole(atom=\"\"\"\n",
    "N  0.000000    0.000000    0.000000\n",
    "H  0.000000    0.000000    0.940000\n",
    "H  1.006874    0.000000   -0.260395\n",
    "H -1.037114   -0.277894   -0.640054\n",
    "\"\"\", basis=\"STO-3G\", verbose=0).build()"
   ]
  },
  {
   "cell_type": "markdown",
   "id": "ed25144d",
   "metadata": {},
   "source": [
    "## 数值三阶与四阶核坐标导数"
   ]
  },
  {
   "cell_type": "markdown",
   "id": "477e43ae",
   "metadata": {},
   "source": [
    "### 二阶导数回顾与频率数值"
   ]
  },
  {
   "cell_type": "markdown",
   "id": "231f9cc5",
   "metadata": {},
   "source": [
    ":::{admonition} 记号定义\n",
    "\n",
    "**角标定义**\n",
    "\n",
    "- $A, B$：原子核标号；\n",
    "- $\\alpha, \\beta, \\gamma$：三维坐标的取向 (即可以取 $x, y, z$，也可能取转动惯量主轴，本文档多数时间选择后者)；\n",
    "- $i, j, k$：简振模式的编号。\n",
    "\n",
    "**物理量定义**\n",
    "\n",
    "- $A_\\alpha$：原子核 $A$ 的坐标三维分量 $\\alpha$；\n",
    "- $Q_i$：一单位的简振模式 $i$；\n",
    "- $Q_{A_\\alpha, i}$：简振模式转换矩阵，即 $i$ 在原子坐标分量 $A_\\alpha$ 的分量值。\n",
    "\n",
    "需要注意到，这些记号的定义与量化程序中的定义，也与之前文档的定义是冲突或不同的。读者需要注意记号的差别。\n",
    "\n",
    ":::"
   ]
  },
  {
   "cell_type": "markdown",
   "id": "b51c2285",
   "metadata": {},
   "source": [
    "我们知道，Hessian 矩阵是频率分析的必要矩阵，它即是二阶核坐标导数，及\n",
    "\n",
    "$$\n",
    "\\Phi_{A_\\alpha B_\\beta} = \\frac{\\partial^2 E}{\\partial A_t \\partial B_s}\n",
    "$$\n",
    "\n",
    "在原子坐标分量表示下，这应当是一个 $(A_\\alpha, B_\\beta): (3 n_\\mathrm{atm}, 3 n_\\mathrm{atm})$ 的矩阵。尽管依据程序不同，也可能是张量——在 PySCF 中，Hessian 的默认输出是 $(A, B, \\alpha, \\beta): (n_\\mathrm{atm}, n_\\mathrm{atm}, 3, 3)$ 维度的张量，但张量的大小与 $(A_\\alpha, B_\\beta)$ 实际上一致，经过转置两者就能相同。"
   ]
  },
  {
   "cell_type": "code",
   "execution_count": 4,
   "id": "5728540b",
   "metadata": {},
   "outputs": [],
   "source": [
    "natm = mol.natm\n",
    "nhess = natm * 3\n",
    "\n",
    "mf = scf.RHF(mol).run()\n",
    "mf_hess = mf.Hessian().run()"
   ]
  },
  {
   "cell_type": "markdown",
   "id": "fad4ab80",
   "metadata": {},
   "source": [
    "我们也需要定义频率分析的实例 `fa`，其变量名是 `FreqAnal` 的首字母，与♂fa 乐器♂无关。下面的 code cell 输出的是以 $\\mathrm{cm^{-1}}$ 为简振振动频率 $\\omega_i$。\n",
    "\n",
    "如果要与 Gaussian 的结果有更好的印证，原子质量需要取与 Gaussian 相同的值，而不太适合用整数值。因此，这里没有用 PySCF 自带的 `mol.atom_mass_list`，而是使用一个函数 `get_atom_mass_list` 来解决问题。"
   ]
  },
  {
   "cell_type": "code",
   "execution_count": 5,
   "id": "b9427fd4",
   "metadata": {},
   "outputs": [],
   "source": [
    "def get_atom_mass_list(mol):\n",
    "    d = {1: 1.00782504, 6: 12., 7: 14.0030740, 8: 15.9949146}\n",
    "    return np.array([d[m] for m in mol.atom_charges()])"
   ]
  },
  {
   "cell_type": "code",
   "execution_count": 6,
   "id": "b4fd98e1",
   "metadata": {},
   "outputs": [
    {
     "data": {
      "text/plain": [
       "array([-969.746082, 1680.3876  , 1931.786797, 2059.643873, 3874.822068, 5095.777567])"
      ]
     },
     "execution_count": 6,
     "metadata": {},
     "output_type": "execute_result"
    }
   ],
   "source": [
    "fa = FreqAnal()\n",
    "fa.mol_weights = get_atom_mass_list(mol)\n",
    "fa.mol_coords = mol.atom_coords()\n",
    "fa.natm = mol.natm\n",
    "fa.mol_hess = mf_hess.de.swapaxes(1, 2)\n",
    "nvib = fa.freq.size\n",
    "fa.freq"
   ]
  },
  {
   "cell_type": "markdown",
   "id": "31c1492f",
   "metadata": {},
   "source": [
    ":::{admonition} 记号定义\n",
    "\n",
    "我们之后会经常作单位换算与量纲分析，因此这里尽量将目前与将来需要的物理量与量纲列出：\n",
    "\n",
    "- $Q_i$ 简振模式，单位 $\\mathrm{Bohr \\ amu^{1/2}}$；\n",
    "- $Q_{A_\\alpha i}$ 简振模量到分子坐标表象的转换矩阵，单位 $\\mathrm{amu^{-1/2}}$，程序调用 `fa.q`；\n",
    "- $Q_{A_\\alpha i}^\\mathrm{norm}$ 归一化的简振模量转换矩阵，无量纲，程序调用 `fa.qnorm`；\n",
    "- $\\omega_i$ 简振振动频率，单位 $\\mathrm{cm^{-1}}$，程序调用 `fa.freq`；\n",
    "- $\\nu_i$ 非谐振动频率，单位 $\\mathrm{cm^{-1}}$；\n",
    "- $\\lambda_i$ 二阶力常数，单位 $\\mathrm{\\mathit{E}_h \\ Bohr^{-2} \\ amu^{-1}}$；\n",
    "- $\\Phi_{A_\\alpha B_\\beta}$ 坐标表示的 Hessian 矩阵，单位 $\\mathrm{\\mathit{E}_h \\ Bohr^{-2}}$；\n",
    "- $\\Phi_{ij}$ 简振表示的 Hessian 矩阵，单位 $\\mathrm{\\mathit{E}_h \\ Bohr^{-2} \\ amu^{-1}}$；\n",
    "- $\\Phi_{ijk}$ 简振表示的三阶导数，单位 $\\mathrm{\\mathit{E}_h \\ Bohr^{-3} \\ amu^{-3/2}}$；\n",
    "- $\\Phi_{ijkl}$ 简振表示的四阶导数，单位 $\\mathrm{\\mathit{E}_h \\ Bohr^{-4} \\ amu^{-2}}$；\n",
    "- $I_\\alpha$ 转动惯量，单位 $\\mathrm{amu \\ Bohr^{2}}$；\n",
    "- $\\varpi_\\alpha$ 转动常数，单位 $\\mathrm{cm^{-1}}$；\n",
    "- $\\zeta_{ij}^\\alpha$ Coriolis 耦合常数，无量纲；\n",
    "- $\\theta_i (T)$ 温度矫正系数，无量纲；\n",
    "- $\\boldsymbol{\\mu}$ 偶极矩，单位 $\\mathrm{Debye}$；\n",
    "\n",
    ":::"
   ]
  },
  {
   "cell_type": "markdown",
   "id": "214efd00",
   "metadata": {},
   "source": [
    "为了后文的便利，我们也会经常使用在简振模式表示下的 Hessian 矩阵：\n",
    "\n",
    "$$\n",
    "\\Phi_{ij} = \\frac{\\partial^2 E}{\\partial Q_i \\partial Q_j}\n",
    "$$\n",
    "\n",
    "从定义上，简振模式是分子振动的 Hessian 矩阵的本征模式，因此 $\\Phi_{ij}$ 实际上是对角矩阵 $\\lambda_i \\delta_{ij}$。其中，$\\lambda_i$ 是简振模式 $i$ 的振动强度。坐标表示与简振表示的换算关系是\n",
    "\n",
    "$$\n",
    "\\Phi_{ij} = \\sum_{A_\\alpha B_\\beta} Q_{A_\\alpha i} \\Phi_{A_\\alpha B_\\beta} Q_{B_\\beta j}\n",
    "$$\n",
    "\n",
    "我们用 `deriv_2` 表示 $\\Phi_{ij}$。"
   ]
  },
  {
   "cell_type": "code",
   "execution_count": 7,
   "id": "7be4a977",
   "metadata": {},
   "outputs": [
    {
     "data": {
      "text/plain": [
       "array([[-0.035588, -0.      ,  0.      ,  0.      , -0.      , -0.      ],\n",
       "       [-0.      ,  0.106859,  0.      , -0.      ,  0.      ,  0.      ],\n",
       "       [ 0.      ,  0.      ,  0.141224, -0.      ,  0.      ,  0.      ],\n",
       "       [ 0.      , -0.      , -0.      ,  0.160537, -0.      , -0.      ],\n",
       "       [ 0.      ,  0.      , -0.      , -0.      ,  0.568192, -0.      ],\n",
       "       [-0.      , -0.      , -0.      , -0.      , -0.      ,  0.982681]])"
      ]
     },
     "execution_count": 7,
     "metadata": {},
     "output_type": "execute_result"
    }
   ],
   "source": [
    "deriv_2 = einsum(\"Pi, PQ, Qj -> ij\", fa.q, fa.mol_hess.reshape(nhess, nhess), fa.q)\n",
    "deriv_2"
   ]
  },
  {
   "cell_type": "markdown",
   "id": "b3f2c342",
   "metadata": {},
   "source": [
    "我们注意到这是一个对称矩阵。实际上，简振模式从定义上就是在 Hessian 矩阵去除了平动、转动贡献之后的本征振动模式；因此，在简振模式表示下的 Hessian 矩阵自然应当是对角化的。其对角元我们之后也经常用到，因此以 `lambd` $\\lambda_i = \\Phi_{ij} \\delta_{ij}$ 表示，物理量上称为力常数。"
   ]
  },
  {
   "cell_type": "code",
   "execution_count": 8,
   "id": "3052659c",
   "metadata": {},
   "outputs": [
    {
     "data": {
      "text/plain": [
       "array([-0.035588,  0.106859,  0.141224,  0.160537,  0.568192,  0.982681])"
      ]
     },
     "execution_count": 8,
     "metadata": {},
     "output_type": "execute_result"
    }
   ],
   "source": [
    "lambd = deriv_2.diagonal()\n",
    "lambd"
   ]
  },
  {
   "cell_type": "markdown",
   "id": "42b4bfee",
   "metadata": {},
   "source": [
    "力常数 $\\lambda_i$ 它与频率 $\\omega_i$ 之间的关系是\n",
    "\n",
    "$$\n",
    "\\omega_i = \\frac{\\sqrt{\\lambda_i}}{2 \\pi c_0} = \\frac{1}{2 \\pi c_0} \\sqrt{\\frac{k_i}{m}}, \\quad \\lambda = (2 \\pi c_0 \\omega_i)^2\n",
    "$$\n",
    "\n",
    "它与我们经常看到的另一个力常数 $k_i$ 不同。从量纲上，$\\lambda_i$ 是 $\\mathrm{[T]^{-2}}$。如果考虑到一些比较麻烦的单位换算，我们可以通过频率 $\\omega_i$ 给出力常数 $\\lambda_i$。"
   ]
  },
  {
   "cell_type": "markdown",
   "id": "6f72424d",
   "metadata": {},
   "source": [
    "单位换算的原则如下。我们发现，对于等式左边的待求量完全是原子单位，但右边则完全是经过变动的 SI 单位制 (波数以 $\\mathrm{cm^{-1}}$ 而非以 $\\mathrm{m^{-1}}$ 表示)。我们以 SI 单位制作为中间单位，\n",
    "- 对等式左边，$\\lambda_i$ 的单位是 $\\mathrm{\\mathit{E}_h \\ Bohr^{-2} \\ amu^{-1}}$，我们要对应地除以这部分单位的 SI 转换；\n",
    "- 对等式右边，$\\omega_i$ 的单位是 $\\mathrm{cm^{-1}}$，我们要乘以这部分的 SI 转换 ($100$)。"
   ]
  },
  {
   "cell_type": "code",
   "execution_count": 9,
   "id": "e8ea6546",
   "metadata": {},
   "outputs": [
    {
     "data": {
      "text/plain": [
       "array([0.035588, 0.106859, 0.141224, 0.160537, 0.568192, 0.982681])"
      ]
     },
     "execution_count": 9,
     "metadata": {},
     "output_type": "execute_result"
    }
   ],
   "source": [
    "(\n",
    "    (2 * np.pi * c_0 * fa.freq)**2        # equation\n",
    "    / (E_h * a_0**-2 * amu**-1) * 100**2  # unit conversion\n",
    ")"
   ]
  },
  {
   "cell_type": "markdown",
   "id": "3e305c0b",
   "metadata": {},
   "source": [
    "我们最后讨论一下简振模量矩阵 $Q_{A_\\alpha i}$ 与其归一化形式 $Q_{A_\\alpha i}^\\mathrm{norm}$ 之间的关系。在 Gaussian 的输出中，我们一般只会看到 $Q_{A_\\alpha i}^\\mathrm{norm}$，它具有下述限制：\n",
    "\n",
    "$$\n",
    "\\sum_{A_\\alpha} (Q_{A_\\alpha i}^\\mathrm{norm})^2 = 1 , \\ \\forall i\n",
    "$$"
   ]
  },
  {
   "cell_type": "markdown",
   "id": "3be695fe",
   "metadata": {},
   "source": [
    "正因为这种归一化条件，$Q_{A_\\alpha i}^\\mathrm{norm}$ 实际上是没有量纲的。但我们以后一直要遇到与处理的简振模量，是所谓分子质量折合过的模量，其量纲是 $\\mathrm{[M]^{-1/2}}$。它也可以从归一化的简振模量导出，其中 $m_\\mathrm{A}$ 是 $A$ 原子的质量：\n",
    "\n",
    "$$\n",
    "Q_{A_\\alpha i} = Q_{A_\\alpha i}^\\mathrm{norm} \\left( \\sum_{A_\\alpha} \\big( Q_{A_\\alpha i}^\\mathrm{norm} \\sqrt{m_\\mathrm{A}} \\big)^2 \\right)^{-1/2}\n",
    "$$"
   ]
  },
  {
   "cell_type": "code",
   "execution_count": 10,
   "id": "868a61c2",
   "metadata": {},
   "outputs": [
    {
     "data": {
      "text/plain": [
       "True"
      ]
     },
     "execution_count": 10,
     "metadata": {},
     "output_type": "execute_result"
    }
   ],
   "source": [
    "np.allclose(fa.qnorm / np.linalg.norm(fa.qnorm * np.sqrt(np.repeat(get_atom_mass_list(mol), 3))[:, None], axis=0), fa.q)"
   ]
  },
  {
   "cell_type": "markdown",
   "id": "a520b3cb",
   "metadata": {},
   "source": [
    "### 数值三阶导数"
   ]
  },
  {
   "cell_type": "markdown",
   "id": "2ab7f7e8",
   "metadata": {},
   "source": [
    "我们以后一直会使用简振坐标表示下的能量导数；并且我们注意到简振模式的数量是 $3N-6$，比原子坐标分量的 $3N$ 数量要少一些。因此，在求取数值导数时，我们会希望使用简振模式作为实际被求导量。\n",
    "\n",
    "我们需要的三阶导数量是\n",
    "\n",
    "$$\n",
    "\\Phi_{ijk} = \\frac{\\partial^3 E}{\\partial Q_i \\partial Q_j \\partial Q_k}\n",
    "$$\n",
    "\n",
    "但在求取数值导数时，我们可以选择一个量作为数值偏移量，譬如 $Q_k$；而剩下的量则是解析地计算。但我们也注意到，程序上默认给出的是原子坐标表示的 $\\Phi_{A_\\alpha B_\\beta}$，还需要我们作转换得到 $\\Phi_{ij}$。因此，数值导数的求取方法是\n",
    "\n",
    "$$\n",
    "\\Phi_{ijk} = \\sum_{A_\\alpha B_\\beta} Q_{A_\\alpha i} Q_{B_\\beta j} \\Phi_{A_\\alpha B_\\beta k} = \\sum_{A_\\alpha B_\\beta} Q_{A_\\alpha i} Q_{B_\\beta j} \\frac{\\Phi_{A_\\alpha B_\\beta} (\\delta Q_k) - \\Phi_{A_\\alpha B_\\beta} (-\\delta Q_k)}{2 \\delta Q_k} \n",
    "$$\n",
    "\n",
    "下面的程序就是以 $0.01 \\ \\mathrm{\\mathring{A}} \\ \\mathrm{amu}^{1/2}$ 为偏移大小，求取对简振坐标导数的程序："
   ]
  },
  {
   "cell_type": "code",
   "execution_count": 11,
   "id": "91ded136",
   "metadata": {},
   "outputs": [],
   "source": [
    "class ModeDerivGenerator(NucCoordDerivGenerator):\n",
    "\n",
    "    def __init__(self, mol, mf_func, q, interval=3e-3):\n",
    "        self.q = q\n",
    "        super(ModeDerivGenerator, self).__init__(mol, mf_func, stencil=3, interval=interval)\n",
    "    \n",
    "    def init_objects(self):\n",
    "        nmode = self.q.shape[1]\n",
    "        self.objects = np.empty((nmode, 2), dtype=object)\n",
    "    \n",
    "    def perform_mf(self):\n",
    "        natm = self.mol.natm\n",
    "        nmode = self.q.shape[1]\n",
    "        for nq, norm in enumerate(self.q.T):\n",
    "            norm = norm.reshape(natm, 3)\n",
    "            movelist = [(A, t, norm[A, t]) for A in range(natm) for t in range(3)]\n",
    "            self.objects[nq, 1] = self.mf_func(self.move_mol(movelist))\n",
    "            movelist = [(A, t, - norm[A, t]) for A in range(natm) for t in range(3)]\n",
    "            self.objects[nq, 0] = self.mf_func(self.move_mol(movelist))"
   ]
  },
  {
   "cell_type": "markdown",
   "id": "997597f2",
   "metadata": {},
   "source": [
    "我们将 Hessian 对简振坐标的导数实例定为 `num_hess`："
   ]
  },
  {
   "cell_type": "code",
   "execution_count": 12,
   "id": "3db7bc7d",
   "metadata": {},
   "outputs": [],
   "source": [
    "num_hess = ModeDerivGenerator(mol, lambda mol: scf.RHF(mol).run().Hessian().run(), fa.q, interval=0.01)"
   ]
  },
  {
   "cell_type": "markdown",
   "id": "5ce5b066",
   "metadata": {},
   "source": [
    "使用 `NumericDiff` 直接求导的结果是 $\\Phi_{A_\\alpha B_\\beta k}$。我们需要再对其进行转换再得到 $\\Phi_{ijk}$ `deriv_3`："
   ]
  },
  {
   "cell_type": "code",
   "execution_count": 13,
   "id": "7ad857d5",
   "metadata": {},
   "outputs": [],
   "source": [
    "tmp_3 = NumericDiff(num_hess, lambda mf: mf.de.swapaxes(1, 2).reshape(nhess, nhess)).derivative\n",
    "deriv_3 = einsum(\"Ai, Bj, kAB -> ijk\", fa.q, fa.q, tmp_3)"
   ]
  },
  {
   "cell_type": "markdown",
   "id": "7168979e",
   "metadata": {},
   "source": [
    "严格地来说，$\\Phi_{ijk}$ 应当是具有六重对称性的张量。因此，我们还可以对其进行对称化，使得结果定性上更正确："
   ]
  },
  {
   "cell_type": "code",
   "execution_count": 14,
   "id": "91f4a16d",
   "metadata": {},
   "outputs": [],
   "source": [
    "deriv_3 = 1/3 * (deriv_3 + deriv_3.transpose(1, 2, 0) + deriv_3.transpose(2, 0, 1))"
   ]
  },
  {
   "cell_type": "markdown",
   "id": "6f3c2530",
   "metadata": {},
   "source": [
    "### 数值四阶导数"
   ]
  },
  {
   "cell_type": "markdown",
   "id": "39cbf24e",
   "metadata": {},
   "source": [
    "我们通过三点差分的方法，给出了三阶导数。尽管我们无法求出全部的四阶导数，但利用刚才求取三阶导数的数据，我们可以求取 $\\Phi_{ijkk}$ 形式的四阶导数：\n",
    "\n",
    "$$\n",
    "\\Phi_{ijkk} = \\frac{\\partial^2}{\\partial Q_k^2} \\frac{\\partial^2 E}{\\partial Q_i \\partial Q_j} = \\frac{\\Phi_{ij} (\\delta Q_k) - 2 \\Phi_{ij} (0) + \\Phi_{ij} (-\\delta Q_k)}{(\\delta Q_k)^2}\n",
    "$$\n",
    "\n",
    "注意到利用现有的数据，我们只能求取 $\\Phi_{ijkk}$，而不能求取更一般的 $\\Phi_{ijkl}$。该张量也具有对称性；我们可以对 $i, j$ 角标进行对称化。我们将会用 `deriv_4` 表示 $\\Phi_{ijkk}$，维度是 $(i, j, k)$"
   ]
  },
  {
   "cell_type": "code",
   "execution_count": 15,
   "id": "99354a7c",
   "metadata": {},
   "outputs": [],
   "source": [
    "hess_gathered = np.array([[mf.de.swapaxes(1, 2).reshape(nhess, nhess) for mf in l] for l in num_hess.objects])\n",
    "tmp_4 = einsum(\"ksAB, Ai, Bj -> skij\", hess_gathered, fa.q, fa.q)\n",
    "deriv_4 = (tmp_4[0] + tmp_4[1] - 2 * deriv_2) / (num_hess.interval**2)  # finite diff\n",
    "deriv_4 = (deriv_4 + deriv_4.swapaxes(-1, -2)) / 2                      # symmetrize\n",
    "deriv_4 = einsum(\"kij -> ijk\", deriv_4)                                 # subscript transform"
   ]
  },
  {
   "cell_type": "markdown",
   "id": "f427af03",
   "metadata": {},
   "source": [
    "## 非谐频率矫正"
   ]
  },
  {
   "cell_type": "markdown",
   "id": "46084b6f",
   "metadata": {},
   "source": [
    "在求取频率矫正前，我们需要先获得矩阵 $\\xi_{ij}$ `xmat`。该矩阵与频率相同单位，即 $\\mathrm{cm}^{-1}$。这里的公式主要参考 Barone eq. (36-38)，但在与一些系数有关的问题上不太相同。该矩阵对非谐矫正后的频率至关重要。"
   ]
  },
  {
   "cell_type": "markdown",
   "id": "3460b1b0",
   "metadata": {},
   "source": [
    "### 四阶导数对 $\\xi_{ij}$ 的贡献"
   ]
  },
  {
   "cell_type": "markdown",
   "id": "9b72cf91",
   "metadata": {},
   "source": [
    "若除开单位换算，四阶导数对矩阵 $\\xi_{ij}$ 的贡献是\n",
    "\n",
    "$$\n",
    "\\begin{align}\n",
    "\\xi_{ii} &\\leftarrow \\frac{\\hbar}{2 \\pi c_0} \\frac{1}{16 \\lambda_i} \\Phi_{iiii} \\\\\n",
    "\\xi_{ij} &\\leftarrow \\frac{\\hbar}{2 \\pi c_0} \\frac{1}{4 \\sqrt{|\\lambda_i \\lambda_j|}} \\Phi_{iijj} \\quad (i \\neq j)\n",
    "\\end{align}\n",
    "$$\n",
    "\n",
    "之所以表达式中需要引入绝对值，是因为我们同时处理实频与虚频。虚频下，$\\lambda_i$ 小于零，无法开根号。依据 Miller, et al. [^Miller.CPL.1990] 的表达式，实际上对于有且仅有一个虚频的 $Q_i$，其对应的 $\\xi_{ij}$ 也应当是虚数。当前的分子也恰好是有且仅有一个虚频，并且实际上虚数的 $\\xi_{ij}$ 可以与虚数的 $\\omega_i$ 相加得到非谐频率 $\\nu_i$；因此就这种过渡态情形，在程序实现上，可以对虚频与实频一视同仁。"
   ]
  },
  {
   "cell_type": "code",
   "execution_count": 16,
   "id": "5bced766",
   "metadata": {},
   "outputs": [
    {
     "data": {
      "text/plain": [
       "array([[ -59.929105,   17.359227,    2.022484,  -26.747814,  -89.778445, -133.911891],\n",
       "       [  17.360842,   11.4939  ,   18.955104,   -6.407765,   -6.83072 , -112.008037],\n",
       "       [   2.024055,   18.952477,    4.4002  ,   42.205352,  -50.906768,  -38.849444],\n",
       "       [ -26.737152,   -6.40661 ,   42.197109,   45.874797,  -16.574222,   -5.321896],\n",
       "       [ -89.725547,   -6.828563,  -50.876096,  -16.565645,   62.64625 ,    1.480829],\n",
       "       [-133.825551, -111.932215,  -38.826908,   -5.319965,    1.480938,   70.703952]])"
      ]
     },
     "execution_count": 16,
     "metadata": {},
     "output_type": "execute_result"
    }
   ],
   "source": [
    "xmat_4 = np.zeros((nvib, nvib))\n",
    "for i in range(nvib):\n",
    "    xmat_4[i, i] = deriv_4[i,i,i] / (16 * lambd[i])\n",
    "    for j in range(nvib):\n",
    "        if i == j: continue\n",
    "        xmat_4[i, j] = deriv_4[i,i,j] / (4 * np.sqrt(np.abs(lambd[i] * lambd[j])))\n",
    "xmat_4 *= (hbar / (2 * np.pi * c_0)) * (a_0**-2 * amu**-1) / (100)\n",
    "xmat_4"
   ]
  },
  {
   "cell_type": "markdown",
   "id": "067d3512",
   "metadata": {},
   "source": [
    "### 三阶导数对 $\\xi_{ij}$ 的贡献"
   ]
  },
  {
   "cell_type": "markdown",
   "id": "7ac01e6a",
   "metadata": {},
   "source": [
    "三阶导数对 $\\xi_{ij}$ 的贡献核算相对复杂。我们首先处理对角线的贡献：\n",
    "\n",
    "$$\n",
    "\\xi_{ii} \\leftarrow - \\frac{\\hbar}{2 \\pi c_0} \\frac{1}{16 \\lambda_i} \\left( \\frac{5}{3 \\lambda_i} \\Phi_{iii}^2 + \\frac{8 \\lambda_i - 3 \\lambda_j}{\\lambda_j (4 \\lambda_i - \\lambda_j)} \\Phi_{iij}^2 \\right)\n",
    "$$"
   ]
  },
  {
   "cell_type": "code",
   "execution_count": 17,
   "id": "81315833",
   "metadata": {},
   "outputs": [],
   "source": [
    "xmat_3 = np.zeros((nvib, nvib))"
   ]
  },
  {
   "cell_type": "code",
   "execution_count": 18,
   "id": "9e51f0e0",
   "metadata": {},
   "outputs": [],
   "source": [
    "for i in range(nvib):\n",
    "    xmat_3[i, i] -= deriv_3[i,i,i]**2 * 5 / (3 * lambd[i])\n",
    "    for j in range(nvib):\n",
    "        if i == j: continue\n",
    "        xmat_3[i, i] -= deriv_3[i,i,j]**2 * (8 * lambd[i] - 3 * lambd[j]) / (lambd[j] * (4 * lambd[i] - lambd[j]))\n",
    "    xmat_3[i, i] /= 16 * lambd[i]"
   ]
  },
  {
   "cell_type": "markdown",
   "id": "c8924660",
   "metadata": {},
   "source": [
    "随后处理非对角线的贡献 ($i \\neq j$)：\n",
    "\n",
    "$$\n",
    "\\begin{align}\n",
    "\\xi_{ij} &\\leftarrow - \\frac{\\hbar}{2 \\pi c_0} \\frac{1}{4 \\sqrt{|\\lambda_i \\lambda_j|}} \\left( \\frac{2}{4 \\lambda_i - \\lambda_j} \\Phi_{iij}^2 + \\frac{2}{4 \\lambda_j - \\lambda_i} \\Phi_{ijj}^2 + \\frac{\\Phi_{iii} \\Phi_{ijj}}{\\lambda_i} + \\frac{\\Phi_{jjj} \\Phi_{iij}}{\\lambda_j} \\right) \\\\\n",
    "&\\quad + \\frac{\\hbar}{2 \\pi c_0} \\frac{1}{4 \\sqrt{|\\lambda_i \\lambda_j|}} \\sum_{k \\notin \\{i, j\\}} \\left[ \\frac{2 (\\lambda_i + \\lambda_j - \\lambda_k)}{\\Delta_{ijk}} \\Phi_{ijk}^2 - \\frac{\\Phi_{iik} \\Phi_{jjk}}{\\lambda_k} \\right]\n",
    "\\end{align}\n",
    "$$"
   ]
  },
  {
   "cell_type": "code",
   "execution_count": 19,
   "id": "32515fcd",
   "metadata": {},
   "outputs": [],
   "source": [
    "for i in range(nvib):\n",
    "    for j in range(nvib):\n",
    "        if i == j: continue\n",
    "        xmat_3[i, j] -= deriv_3[i,i,j]**2 * 2 / (4 * lambd[i] - lambd[j])\n",
    "        xmat_3[i, j] -= deriv_3[i,j,j]**2 * 2 / (4 * lambd[j] - lambd[i])\n",
    "        xmat_3[i, j] -= deriv_3[i,i,i] * deriv_3[i,j,j] / lambd[i]\n",
    "        xmat_3[i, j] -= deriv_3[j,j,j] * deriv_3[i,i,j] / lambd[j]\n",
    "        for k in range(nvib):\n",
    "            if len(set([i, j, k])) != 3: continue\n",
    "            delta_ijk = lambd[i]**2 + lambd[j]**2 + lambd[k]**2 - 2 * (lambd[i]*lambd[j] + lambd[j]*lambd[k] + lambd[k]*lambd[i])\n",
    "            xmat_3[i, j] += deriv_3[i,j,k]**2 * 2 * (lambd[i] + lambd[j] - lambd[k]) / delta_ijk\n",
    "            xmat_3[i, j] -= deriv_3[i,i,k] * deriv_3[j,j,k] / lambd[k]\n",
    "        xmat_3[i, j] /= 4 * np.sqrt(np.abs(lambd[i] * lambd[j]))"
   ]
  },
  {
   "cell_type": "code",
   "execution_count": 20,
   "id": "20540b58",
   "metadata": {
    "scrolled": false
   },
   "outputs": [
    {
     "data": {
      "text/plain": [
       "array([[   6.436059,  -17.659895,  -12.843587,  -17.730696,   49.859864,   86.717056],\n",
       "       [ -17.659895,  -18.294258,  -35.959998,  -46.395273,    2.625465,   94.139235],\n",
       "       [ -12.843587,  -35.959998,  -65.430162, -108.220206,  228.295265,   26.274758],\n",
       "       [ -17.730696,  -46.395273, -108.220206, -115.728507,  -19.13443 ,   -3.494852],\n",
       "       [  49.859864,    2.625465,  228.295265,  -19.13443 , -111.055075,  -10.265471],\n",
       "       [  86.717056,   94.139235,   26.274758,   -3.494852,  -10.265471, -112.711441]])"
      ]
     },
     "execution_count": 20,
     "metadata": {},
     "output_type": "execute_result"
    }
   ],
   "source": [
    "xmat_3 *= (hbar / (2 * np.pi * c_0)) * (a_0**-2 * amu**-1) / (100)\n",
    "xmat_3"
   ]
  },
  {
   "cell_type": "markdown",
   "id": "d2f91e7e",
   "metadata": {},
   "source": [
    "### Coriolis 矫正对 $\\xi_{ij}$ 的贡献"
   ]
  },
  {
   "cell_type": "markdown",
   "id": "66ec8101",
   "metadata": {},
   "source": [
    "Coriolis 矫正的贡献方式是 (允许 $i = j$)\n",
    "\n",
    "$$\n",
    "\\xi_{ij} \\leftarrow \\sum_\\alpha \\frac{\\lambda_i + \\lambda_j}{\\sqrt{|\\lambda_i \\lambda_j|}} \\varpi_\\alpha (\\zeta_{ij}^\\alpha)^2\n",
    "$$"
   ]
  },
  {
   "cell_type": "markdown",
   "id": "4174f2c7",
   "metadata": {},
   "source": [
    "这里引入了一些特殊的记号。被求和的角标 $\\alpha$ 尽管是 $x, y, z$ 三个取向之一，但在求取 Coriolis 矫正贡献时，它必须是转动惯量主轴。\n",
    "\n",
    "我们在通过 Hessian 矩阵得到分子振动频率时，需要去除转动的三个自由度贡献。那时我们已经计算过与转动有关的各种中间变量。$\\varpi_\\alpha$ `rot_wavenum` 是以 $\\mathrm{cm^{-1}}$ 为单位的转动常数：\n",
    "\n",
    "$$\n",
    "\\varpi_\\alpha = \\frac{h}{8 \\pi^2 c_0 I_\\alpha}\n",
    "$$"
   ]
  },
  {
   "cell_type": "code",
   "execution_count": 21,
   "id": "54332c49",
   "metadata": {},
   "outputs": [
    {
     "data": {
      "text/plain": [
       "array([13.875725,  7.153573,  4.775983])"
      ]
     },
     "execution_count": 21,
     "metadata": {},
     "output_type": "execute_result"
    }
   ],
   "source": [
    "rot_wavenum = h / (8 * np.pi**2 * c_0 * fa.rot_eig) * (a_0**-2 * amu**-1) / (100)\n",
    "rot_wavenum"
   ]
  },
  {
   "cell_type": "markdown",
   "id": "7a27a729",
   "metadata": {},
   "source": [
    "而 $\\zeta_{ij}^\\alpha$ `zeta` Coriolis 耦合常数通过下式进行计算 (Barone, eq (11)，维度 $(\\alpha, i, j)$，无量纲)：\n",
    "\n",
    "$$\n",
    "\\begin{align}\n",
    "\\zeta_{ij}^\\alpha &= \\sum_k (L_{A_\\beta i} L_{A_\\gamma j} - L_{A_\\gamma i} L_{A_\\beta j}) \\\\\n",
    "L_{A_\\alpha i} &= \\sum_\\beta Q_{A_\\beta i} R_{\\beta \\alpha} \\sqrt{m_A}\n",
    "\\end{align}\n",
    "$$"
   ]
  },
  {
   "cell_type": "markdown",
   "id": "2ed28d47",
   "metadata": {},
   "source": [
    "其中，$R_{\\beta \\alpha}$ 转动的本征向量，无量纲。其本征值是转动惯量，这在 [频率分析 (1)](freq_1.ipynb) 中有所提及。同时，求取 $\\zeta_{ij}^\\alpha$ 时，其表达式的分量 $\\alpha, \\beta, \\gamma$ 必须按照右手坐标系排序。"
   ]
  },
  {
   "cell_type": "code",
   "execution_count": 22,
   "id": "c3d10d01",
   "metadata": {},
   "outputs": [],
   "source": [
    "q_ = einsum(\"Aβi, βα, A -> Aαi\", fa.q.reshape(natm, 3, nvib), fa.rot_vec, np.sqrt(get_atom_mass_list(mol)))\n",
    "zeta_x = einsum(\"Ai, Aj -> ij\", q_[:, 1, :], q_[:, 2, :]) - einsum(\"Ai, Aj -> ij\", q_[:, 2, :], q_[:, 1, :])\n",
    "zeta_y = einsum(\"Ai, Aj -> ij\", q_[:, 2, :], q_[:, 0, :]) - einsum(\"Ai, Aj -> ij\", q_[:, 0, :], q_[:, 2, :])\n",
    "zeta_z = einsum(\"Ai, Aj -> ij\", q_[:, 0, :], q_[:, 1, :]) - einsum(\"Ai, Aj -> ij\", q_[:, 1, :], q_[:, 0, :])\n",
    "zeta = np.array([zeta_x, zeta_y, zeta_z])"
   ]
  },
  {
   "cell_type": "markdown",
   "id": "3d2519df",
   "metadata": {},
   "source": [
    "同时，转动本征向量还可以用来将分子旋转到转动主轴坐标系，且该坐标系的 $I_x < I_y < I_z$。该坐标系在 Gaussian 中称为 Eckart Orientation。我们可以输出该坐标系下以 Angstrom 为单位的分子构型。"
   ]
  },
  {
   "cell_type": "code",
   "execution_count": 23,
   "id": "1b52ceca",
   "metadata": {},
   "outputs": [
    {
     "data": {
      "text/plain": [
       "array([[ 0.003095, -0.002241, -0.016268],\n",
       "       [ 0.384988,  0.851931,  0.073996],\n",
       "       [ 0.805212, -0.657419,  0.078348],\n",
       "       [-1.233207, -0.163374,  0.07369 ]])"
      ]
     },
     "execution_count": 23,
     "metadata": {},
     "output_type": "execute_result"
    }
   ],
   "source": [
    "fa.centered_coord @ fa.rot_vec * a_0 * 1e10"
   ]
  },
  {
   "cell_type": "markdown",
   "id": "0df9a2c0",
   "metadata": {},
   "source": [
    "至此，我们就可以将 Coriolis 矫正的贡献计算出来。\n",
    "\n",
    "$$\n",
    "\\xi_{ij} \\leftarrow \\sum_\\alpha \\frac{\\lambda_i + \\lambda_j}{\\sqrt{|\\lambda_i \\lambda_j|}} \\varpi_\\alpha (\\zeta_{ij}^\\alpha)^2\n",
    "$$"
   ]
  },
  {
   "cell_type": "code",
   "execution_count": 24,
   "id": "ac21f6d9",
   "metadata": {
    "scrolled": true
   },
   "outputs": [
    {
     "data": {
      "text/plain": [
       "array([[-0.      ,  6.485503,  2.854787,  7.462297, 14.215879, 25.469408],\n",
       "       [ 6.485503,  0.      ,  0.862218,  2.938909,  0.906227,  8.749904],\n",
       "       [ 2.854787,  0.862218,  0.      ,  0.883756,  5.835533,  3.491808],\n",
       "       [ 7.462297,  2.938909,  0.883756,  0.      ,  1.970819,  0.474133],\n",
       "       [14.215879,  0.906227,  5.835533,  1.970819,  0.      ,  0.009302],\n",
       "       [25.469408,  8.749904,  3.491808,  0.474133,  0.009302,  0.      ]])"
      ]
     },
     "execution_count": 24,
     "metadata": {},
     "output_type": "execute_result"
    }
   ],
   "source": [
    "xmat_coriol = np.zeros((nvib, nvib))\n",
    "for i in range(nvib):\n",
    "    for j in range(nvib):\n",
    "        for ixyz in range(3):\n",
    "            xmat_coriol[i, j] += zeta[ixyz, i, j]**2 * rot_wavenum[ixyz]\n",
    "        xmat_coriol[i, j] *= (lambd[i] + lambd[j]) / np.sqrt(np.abs(lambd[i] * lambd[j]))\n",
    "xmat_coriol"
   ]
  },
  {
   "cell_type": "markdown",
   "id": "ee4bbe5a",
   "metadata": {},
   "source": [
    ":::{danger}\n",
    "\n",
    "对于 Gaussian 09 rev. D01 及 C01，其输出的 Coriolis 贡献是错误的。其原因在于没有将分子坐标预先转置到 Eckart Orientation 下，而仍然在输入坐标下进行计算。将这种坐标与转动惯量主轴的转动频率作乘积没有意义。也因此，该版本的 Gaussian 实际上无法正确地输出频率的矫正；除非输入坐标与 Eckart Orientation 一致。\n",
    "\n",
    "如果要重复该版本的结果，**对于当前的分子**，可以使用后面一个被折叠的 code cell 代码。\n",
    "\n",
    "我们之前号称正确的实现方式，与 Gaussian 16 rev. B01 的结果应当一致。\n",
    "\n",
    ":::"
   ]
  },
  {
   "cell_type": "code",
   "execution_count": 25,
   "id": "f4f06ea1",
   "metadata": {
    "tags": [
     "hide-cell"
    ]
   },
   "outputs": [
    {
     "data": {
      "text/plain": [
       "array([[ 0.      ,  4.90998 ,  3.505416,  9.864751, 10.909095, 26.892735],\n",
       "       [ 4.90998 ,  0.      ,  0.933722,  3.050355,  0.933074,  9.206211],\n",
       "       [ 3.505416,  0.933722,  0.      ,  0.902214,  5.887021,  3.409958],\n",
       "       [ 9.864751,  3.050355,  0.902214,  0.      ,  1.987215,  0.43257 ],\n",
       "       [10.909095,  0.933074,  5.887021,  1.987215,  0.      ,  0.009969],\n",
       "       [26.892735,  9.206211,  3.409958,  0.43257 ,  0.009969,  0.      ]])"
      ]
     },
     "execution_count": 25,
     "metadata": {},
     "output_type": "execute_result"
    }
   ],
   "source": [
    "def xmat_coriol_G09():\n",
    "    # -- What makes different --\n",
    "    q_ = einsum(\"Aαi, A -> Aαi\", fa.q.reshape(natm, 3, nvib), np.sqrt(get_atom_mass_list(mol)))\n",
    "    rot_in_G09 = rot_wavenum[0], rot_wavenum[2], rot_wavenum[1]\n",
    "    # -- The rest are merely the same --\n",
    "    zeta = np.zeros((3, nvib, nvib))\n",
    "    for α, β, γ in [(0, 1, 2), (1, 2, 0), (2, 0, 1)]:\n",
    "        zeta[α] = einsum(\"Ai, Aj -> ij\", q_[:, β, :], q_[:, γ, :]) - einsum(\"Ai, Aj -> ij\", q_[:, γ, :], q_[:, β, :])\n",
    "    xmat_coriol = einsum(\"αij, α, ij -> ij\", zeta**2, rot_in_G09, (lambd[:, None] + lambd[None, :]) / np.sqrt(np.abs(lambd[:, None] * lambd[None, :])))\n",
    "    return xmat_coriol\n",
    "xmat_coriol_G09()"
   ]
  },
  {
   "cell_type": "code",
   "execution_count": 26,
   "id": "ab2893b3",
   "metadata": {
    "tags": [
     "hide-cell"
    ]
   },
   "outputs": [
    {
     "name": "stdout",
     "output_type": "stream",
     "text": [
      " Coriolis contributions to Xmat \r\n",
      "                1             2             3             4             5 \r\n",
      "      1  0.000000D+00\r\n",
      "      2  0.268927D+02  0.000000D+00\r\n",
      "      3  0.109091D+02  0.996906D-02  0.000000D+00\r\n",
      "      4  0.986475D+01  0.432572D+00  0.198722D+01  0.000000D+00\r\n",
      "      5  0.350541D+01  0.340996D+01  0.588702D+01  0.902213D+00  0.000000D+00\r\n",
      "      6  0.490997D+01  0.920621D+01  0.933076D+00  0.305035D+01  0.933724D+00\r\n",
      "                6 \r\n",
      "      6  0.000000D+00\r\n"
     ]
    }
   ],
   "source": [
    "! head -n 9725 anharm-G09C01.log | tail -n 10"
   ]
  },
  {
   "cell_type": "markdown",
   "id": "98825016",
   "metadata": {},
   "source": [
    "### 总 $\\xi_{ij}$ 矩阵与非谐频率的导出"
   ]
  },
  {
   "cell_type": "markdown",
   "id": "46fb5e42",
   "metadata": {},
   "source": [
    "我们首先将四阶导数、三阶导数、Coriolis 的贡献相加，得到总 $\\xi_{ij}$ 矩阵。"
   ]
  },
  {
   "cell_type": "code",
   "execution_count": 27,
   "id": "a14acd7d",
   "metadata": {},
   "outputs": [
    {
     "data": {
      "text/plain": [
       "array([[-53.493046,   6.184835,  -7.966316, -37.016213, -25.702702, -21.725427],\n",
       "       [  6.18645 ,  -6.800358, -16.142676, -49.864129,  -3.299028,  -9.118898],\n",
       "       [ -7.964745, -16.145302, -61.029962, -65.131098, 183.22403 ,  -9.082879],\n",
       "       [-37.005551, -49.862974, -65.139341, -69.85371 , -33.737833,  -8.342616],\n",
       "       [-25.649804,  -3.296871, 183.254702, -33.729256, -48.408825,  -8.77534 ],\n",
       "       [-21.639087,  -9.043076,  -9.060343,  -8.340685,  -8.775231, -42.007489]])"
      ]
     },
     "execution_count": 27,
     "metadata": {},
     "output_type": "execute_result"
    }
   ],
   "source": [
    "xmat = xmat_4 + xmat_3 + xmat_coriol\n",
    "xmat"
   ]
  },
  {
   "cell_type": "markdown",
   "id": "0e3491ff",
   "metadata": {},
   "source": [
    "这可以与 Gaussian 的输出作比对。需要注意，**我们的结果与 Gaussian 并不完全一致**，且不仅是由于简振模式的排序不同所产生。这是由于 Fermi 共振所致，我们后面会提及。**我们的程序无法处理 Fermi 共振**，但 Gaussian 会有一些办法。"
   ]
  },
  {
   "cell_type": "code",
   "execution_count": 28,
   "id": "5c425681",
   "metadata": {
    "scrolled": true
   },
   "outputs": [
    {
     "name": "stdout",
     "output_type": "stream",
     "text": [
      " Total Anharmonic X Matrix (in cm^-1)\r\n",
      " ------------------------------------\r\n",
      "                1             2             3             4             5\r\n",
      "      1 -0.534804D+02\r\n",
      "      2 -0.216582D+02 -0.420071D+02\r\n",
      "      3 -0.256619D+02 -0.877403D+01 -0.484077D+02\r\n",
      "      4 -0.370099D+02 -0.834034D+01 -0.337307D+02 -0.698507D+02\r\n",
      "      5 -0.797061D+01 -0.906609D+01 -0.296660D+02 -0.651376D+02 -0.780405D+01\r\n",
      "      6  0.617458D+01 -0.905380D+01 -0.329760D+01 -0.498632D+02 -0.161479D+02\r\n",
      "                6\r\n",
      "      6 -0.680891D+01\r\n"
     ]
    }
   ],
   "source": [
    "! head -n 14013 anharm-G16B01.log | tail -n 11"
   ]
  },
  {
   "cell_type": "markdown",
   "id": "53fd4c20",
   "metadata": {},
   "source": [
    "依据 Barone eq. (43)，非谐频率很容易地通过下式给出 (单位 $\\mathrm{cm^{-1}}$)：\n",
    "\n",
    "$$\n",
    "\\nu_i = \\omega_i + 2 \\xi_{ii} + \\frac{1}{2} \\sum_{j \\neq i} \\xi_{ij} = \\omega_i + \\frac{3}{2} \\xi_{ii} + \\frac{1}{2} \\sum_j \\xi_{ij}\n",
    "$$"
   ]
  },
  {
   "cell_type": "code",
   "execution_count": 29,
   "id": "422e4a79",
   "metadata": {},
   "outputs": [
    {
     "data": {
      "text/plain": [
       "array([-1119.845085,  1630.667744,  1852.176877,  1822.892296,  3833.906134,  4983.333379])"
      ]
     },
     "execution_count": 29,
     "metadata": {},
     "output_type": "execute_result"
    }
   ],
   "source": [
    "fa.freq + 1.5 * xmat.diagonal() + 0.5 * xmat.sum(axis=-1)"
   ]
  },
  {
   "cell_type": "markdown",
   "id": "59493bc0",
   "metadata": {},
   "source": [
    "当我们与 Gaussian 的非谐频率进行比对时，会发现我们 $\\mathrm{3834 \\ cm^{-1}}$ 波数的结果与 Gaussian 的 $\\mathrm{3748 \\ cm^{-1}}$ 相差很大。"
   ]
  },
  {
   "cell_type": "code",
   "execution_count": 30,
   "id": "b52cd071",
   "metadata": {},
   "outputs": [
    {
     "name": "stdout",
     "output_type": "stream",
     "text": [
      " Fundamental Bands\r\n",
      " -----------------\r\n",
      "     Mode(n)      Status      E(harm)  E(anharm)     Aa(x)      Ba(y)      Ca(z)\r\n",
      "        1(1)      active      -969.747 -1119.771  14.263374   7.063101   4.568200\r\n",
      "        2(1)      active      5095.778  4983.317  14.043335   6.985596   4.575906\r\n",
      " H      3(1)      active      3874.822  3747.756  14.108724   6.929780   4.566570\r\n",
      "        4(1)      active      2059.644  1822.902  14.182793   6.771150   4.581152\r\n",
      "        5(1)      active      1931.787  1852.185  14.252150   7.053448   4.510857\r\n",
      "        6(1)      active      1680.388  1630.676  14.460822   7.057768   4.466441\r\n"
     ]
    }
   ],
   "source": [
    "! head -n 14193 anharm-G16B01.log | tail -n 9"
   ]
  },
  {
   "cell_type": "markdown",
   "id": "34aae2d8",
   "metadata": {},
   "source": [
    "这是源于 Gaussian 有对近简并倍频振动模式 (Fermi 共振) 的处理。在我们的问题中，$\\omega_4 - 2 \\omega_2 = 3834 - 2 \\times 1852 = 11 (\\mathrm{cm^{-1}})$ 被认为是倍频近简并的："
   ]
  },
  {
   "cell_type": "code",
   "execution_count": 31,
   "id": "ff983441",
   "metadata": {},
   "outputs": [
    {
     "data": {
      "text/plain": [
       "11.248473679877407"
      ]
     },
     "execution_count": 31,
     "metadata": {},
     "output_type": "execute_result"
    }
   ],
   "source": [
    "fa.freq[4] - 2 * fa.freq[2]"
   ]
  },
  {
   "cell_type": "code",
   "execution_count": 32,
   "id": "16c9b5b7",
   "metadata": {},
   "outputs": [
    {
     "name": "stdout",
     "output_type": "stream",
     "text": [
      " Fermi resonances\r\n",
      " ----------------\r\n",
      "\r\n",
      "     I      J  +   K   Freq. Diff.  Red. Cubic Const.  PT2-Variat.Diff.\r\n",
      "      3      5      5       11.248         138.473           1009.207\r\n"
     ]
    }
   ],
   "source": [
    "! head -n 13948 anharm-G16B01.log | tail -n 5"
   ]
  },
  {
   "cell_type": "markdown",
   "id": "68d2e3c0",
   "metadata": {},
   "source": [
    "它对下述三阶导数贡献项 $\\xi_{42} = \\xi_{24}$ 会有非常大的贡献 (注意到 $\\lambda_i \\propto \\omega_i^2$，因此下式中分母有 $\\omega_4 - 2 \\omega_2$ 的因式)：\n",
    "\n",
    "$$\n",
    "\\xi_{24} \\leftarrow - \\frac{\\hbar}{2 \\pi c_0} \\frac{1}{4 \\sqrt{|\\lambda_2 \\lambda_4|}} \\frac{2}{4 \\lambda_2 - \\lambda_4} \\Phi_{224}^2 \n",
    "$$"
   ]
  },
  {
   "cell_type": "markdown",
   "id": "6e2fd07a",
   "metadata": {},
   "source": [
    "这类表达式可以拆分为共振项与非共振项：\n",
    "\n",
    "$$\n",
    "\\frac{1}{4 \\lambda_i - \\lambda_j} = \\frac{1}{(2 \\pi c_0)^2} \\left( \\underset{\\text{non-resonant}}{\\frac{1}{4 \\omega_i (2 \\omega_i + \\omega_j)}} + \\underset{\\text{resonant}}{\\frac{1}{4 \\omega_i (2 \\omega_i - \\omega_j)}} \\right)\n",
    "$$"
   ]
  },
  {
   "cell_type": "markdown",
   "id": "ffd8665d",
   "metadata": {},
   "source": [
    "在 Gaussian 中，当被判断为 Fermi 共振时，就会直接排除共振项，而只保留非共振项，以避免频率矫正的奇点。同时会在非谐频率输出的部分用记号 `H` 表示这种 Fermi 共振效应。"
   ]
  },
  {
   "cell_type": "markdown",
   "id": "87fd4d8c",
   "metadata": {},
   "source": [
    "## 简振坐标平均偏移"
   ]
  },
  {
   "cell_type": "markdown",
   "id": "36471d33",
   "metadata": {},
   "source": [
    "为了计算分子的各种性质 (譬如偶极、红外等光谱性质) 的非谐矫正矫正，我们需要给出简振坐标的平均偏移量 $\\langle Q_i \\rangle$ 与二阶平均偏移量 $\\langle Q_i Q_j \\rangle$。\n",
    "\n",
    "我们在这一节中，为了与 Gaussian 的结果作比对，暂时不考虑转动矫正效应。"
   ]
  },
  {
   "cell_type": "markdown",
   "id": "dd6ea709",
   "metadata": {},
   "source": [
    "### 温度矫正效应"
   ]
  },
  {
   "cell_type": "markdown",
   "id": "443c9603",
   "metadata": {},
   "source": [
    "我们现在要考虑温度对分子振动的影响。一般来说，温度越高，分子的振动会越剧烈，其各种谱学性质与 $0 \\ K$ 下的结果会偏差越大。这种温度效应是通过近似的配分函数所给出 (类似于 softmax 的效果)。虚频被认为不参与配分，因此其值置为零。该配分函数是 (Barone, eq. (59))\n",
    "\n",
    "$$\n",
    "\\theta_i (T) = \\left\\{\n",
    "\\begin{alignat}{3}\n",
    "& \\cot \\left( \\frac{h \\omega_i c_0}{2 k_\\mathrm{B} T} \\right) \\quad &&\\omega_i \\in \\mathbb{R} \\\\\n",
    "& 0 && \\omega_i \\in \\mathbb{I}\n",
    "\\end{alignat}\n",
    "\\right.\n",
    "$$\n",
    "\n",
    "在后续的文档中，我们始终会使用 $T_{2500} = 2500 \\ \\mathrm{K}$。"
   ]
  },
  {
   "cell_type": "code",
   "execution_count": 33,
   "id": "3be15c44",
   "metadata": {},
   "outputs": [],
   "source": [
    "def get_coef_temp(T, calc_imag=False):\n",
    "    coef_temp = np.tanh(h * fa.freq * 100 * c_0 / (2 * k_B * T))**-1\n",
    "    if not calc_imag: coef_temp[coef_temp < 0] = 0\n",
    "    else: coef_temp = np.abs(coef_temp)\n",
    "    return coef_temp"
   ]
  },
  {
   "cell_type": "markdown",
   "id": "570a0c11",
   "metadata": {},
   "source": [
    "显然，在 $0 \\ \\mathrm{K}$ 时，实数频率的 $\\theta_i (0) = 1$。在 $2500 \\ \\mathrm{K}$ 时，温度对简振坐标平均偏移的矫正比例 `coef_temp` 是"
   ]
  },
  {
   "cell_type": "code",
   "execution_count": 34,
   "id": "a05b9aaf",
   "metadata": {},
   "outputs": [
    {
     "data": {
      "text/plain": [
       "array([0.      , 2.226801, 1.980529, 1.88035 , 1.240967, 1.1125  ])"
      ]
     },
     "execution_count": 34,
     "metadata": {},
     "output_type": "execute_result"
    }
   ],
   "source": [
    "T = 2500\n",
    "coef_temp = get_coef_temp(T)\n",
    "coef_temp"
   ]
  },
  {
   "cell_type": "markdown",
   "id": "e5fb88d6",
   "metadata": {},
   "source": [
    "### 一阶简振坐标平均偏移的振动贡献"
   ]
  },
  {
   "cell_type": "markdown",
   "id": "ea2d3571",
   "metadata": {},
   "source": [
    "我们假定虚频对谱学性质的计算不产生贡献。对于实数的简振模式 $i$，一阶的简振坐标平均偏移 $\\langle Q_i \\rangle^\\mathrm{vib}$ 为 (Barone, eq. (56))：\n",
    "\n",
    "$$\n",
    "\\langle Q_i \\rangle^\\mathrm{vib} (T) = - \\frac{\\hbar}{4 \\lambda_i} \\sum_j \\frac{\\Phi_{ijj}}{\\sqrt{|\\lambda_j|}} \\theta_j (T)\n",
    "$$\n",
    "\n",
    "我们将常用的转换系数置于变量 `Q_scale`，并令 $\\langle Q_i \\rangle^\\mathrm{vib} (0)$ 为 `Q_1`，$\\langle Q_i \\rangle^\\mathrm{vib} (T_{2500})$ 为 `QT_1`。"
   ]
  },
  {
   "cell_type": "code",
   "execution_count": 35,
   "id": "cbe1a4a3",
   "metadata": {},
   "outputs": [],
   "source": [
    "Q_scale = hbar / np.sqrt(E_h * a_0**2 * amu)"
   ]
  },
  {
   "cell_type": "code",
   "execution_count": 36,
   "id": "fa5fc3f0",
   "metadata": {},
   "outputs": [
    {
     "name": "stdout",
     "output_type": "stream",
     "text": [
      "<Q> (0 K)    [ 0.        0.014627 -0.03185  -0.059824  0.01557   0.00532 ]\n",
      "<Q> (2500 K) [ 0.        0.026619 -0.055617 -0.11182   0.022404  0.005395]\n"
     ]
    }
   ],
   "source": [
    "Q_1, QT_1 = np.zeros(nvib), np.zeros(nvib)\n",
    "for i in range(nvib):\n",
    "    if fa.freq[i] <= 0: continue\n",
    "    for j in range(nvib):\n",
    "        val = - deriv_3[i,j,j] / (4 * lambd[i] * np.sqrt(np.abs(lambd[j]))) * Q_scale\n",
    "        Q_1[i] += val\n",
    "        QT_1[i] += val * coef_temp[j]\n",
    "print(\"<Q> (0 K)   \", Q_1)\n",
    "print(\"<Q> (2500 K)\", QT_1)"
   ]
  },
  {
   "cell_type": "markdown",
   "id": "d0573c61",
   "metadata": {},
   "source": [
    "Gaussian 的结果显式如下。之所以会有正负号的差异，是因为我们的简振坐标方向会与 Gaussian 有些微区别。"
   ]
  },
  {
   "cell_type": "code",
   "execution_count": 37,
   "id": "20e5d957",
   "metadata": {},
   "outputs": [
    {
     "name": "stdout",
     "output_type": "stream",
     "text": [
      " Average Normal Coordinates (in amu^1/2.bohr)\r\n",
      " --------------------------------------------\r\n",
      "   Mode    <Q> (0)       <Q> (******)\r\n",
      "      2     0.005318        0.005392\r\n",
      "      3     0.015568        0.022402\r\n",
      "      4    -0.059824       -0.111821\r\n",
      "      5     0.031847        0.055613\r\n",
      "      6    -0.014626       -0.026617\r\n"
     ]
    }
   ],
   "source": [
    "! head -n 13347 anharm-G16B01.log | tail -n 8"
   ]
  },
  {
   "cell_type": "markdown",
   "id": "acd19f13",
   "metadata": {},
   "source": [
    ":::{danger}\n",
    "\n",
    "对于这里的实现，关于如何处理虚频，Gaussian 09 rev. D01 与 Gaussian 16 rev. B01 应是一致的，但与 Gaussian 09 rev. C01 不一致。两边似乎都有不合理之处。\n",
    "\n",
    "我们之前采用的是与 Gaussian 16 rev. B01 相似的做法。\n",
    "\n",
    "- 对于 Gaussian 09 rev. C01，它在计算温度矫正系数时，并没有排除虚频部分。同时，该版本还只能计算室温的温度效应。使用后一个被折叠的 code cell 即可给出该版本的结果。\n",
    "\n",
    "- 对于 Gaussian 16 rev. B01，尽管在 $2500 \\ \\mathrm{K}$ 时排除了虚频的贡献，但在 $0 \\ \\mathrm{K}$ 下仍然考虑了虚频；因此尽管说 $T_{2500}$ 是很高的温度，但 $\\langle Q_i \\rangle^\\mathrm{vib} (0)$ 与 $\\langle Q_i \\rangle^\\mathrm{vib} (T_{2500})$，甚至极端一些 $\\langle Q_i \\rangle^\\mathrm{vib} (1 \\ \\mathrm{K})$ 的差距还是会非常大。这种做法似乎也不合理。\n",
    "\n",
    ":::"
   ]
  },
  {
   "cell_type": "code",
   "execution_count": 38,
   "id": "d6a0db21",
   "metadata": {
    "tags": [
     "hide-cell"
    ]
   },
   "outputs": [
    {
     "name": "stdout",
     "output_type": "stream",
     "text": [
      "<Q> (0 K)    [ 0.        0.014627 -0.03185  -0.059824  0.01557   0.00532 ]\n",
      "<Q> (298 K)  [ 0.        0.014657 -0.031826 -0.059851  0.015479  0.005218]\n"
     ]
    }
   ],
   "source": [
    "def print_Q_1_G09C01():\n",
    "    coef_temp_G09C01 = np.abs(get_coef_temp(298, calc_imag=True))\n",
    "    Q_1, QT_1 = np.zeros(nvib), np.zeros(nvib)\n",
    "    for i in range(nvib):\n",
    "        if fa.freq[i] <= 0: continue\n",
    "        for j in range(nvib):\n",
    "            val = - deriv_3[i,j,j] / (4 * lambd[i] * np.sqrt(np.abs(lambd[j]))) * Q_scale\n",
    "            Q_1[i] += val\n",
    "            QT_1[i] += val * coef_temp_G09C01[j]\n",
    "    print(\"<Q> (0 K)   \", Q_1)\n",
    "    print(\"<Q> (298 K) \", QT_1)\n",
    "print_Q_1_G09C01()"
   ]
  },
  {
   "cell_type": "markdown",
   "id": "8f45634a",
   "metadata": {},
   "source": [
    "### 二阶简振坐标平均偏移的振动贡献"
   ]
  },
  {
   "cell_type": "markdown",
   "id": "ff4d9f60",
   "metadata": {},
   "source": [
    "对于实数的简振模式 $i$，一阶的简振坐标平均偏移 $\\langle Q_i Q_j \\rangle$ 只有在 $i = j$ 时非零。因此，我们只需要考虑 $\\langle Q_i^2 \\rangle (T)$ (Barone, eq. (56))：\n",
    "\n",
    "$$\n",
    "\\langle Q_i^2 \\rangle (T) = \\frac{\\hbar}{2 \\sqrt{\\lambda_i}}\n",
    "$$\n",
    "\n",
    "我们令 $\\langle Q_i^2 \\rangle (0)$ 为 `Q_2`，$\\langle Q_i^2 \\rangle (T_{2500})$ 为 `QT_2`。"
   ]
  },
  {
   "cell_type": "code",
   "execution_count": 39,
   "id": "3e60457a",
   "metadata": {
    "scrolled": false
   },
   "outputs": [
    {
     "name": "stdout",
     "output_type": "stream",
     "text": [
      "[0.       0.035825 0.031163 0.029228 0.015536 0.011814]\n",
      "[0.       0.079775 0.061719 0.054959 0.01928  0.013143]\n"
     ]
    }
   ],
   "source": [
    "Q_2, QT_2 = np.zeros(nvib), np.zeros(nvib)\n",
    "for i in range(nvib):\n",
    "    if fa.freq[i] <= 0: continue\n",
    "    val = 1 / (2 * np.sqrt(lambd[i])) * Q_scale\n",
    "    Q_2[i] += val\n",
    "    QT_2[i] += val * coef_temp[i]\n",
    "print(Q_2)\n",
    "print(QT_2)"
   ]
  },
  {
   "cell_type": "markdown",
   "id": "f709fabc",
   "metadata": {},
   "source": [
    "Gaussian 的结果显式如下。"
   ]
  },
  {
   "cell_type": "code",
   "execution_count": 40,
   "id": "9321c45c",
   "metadata": {},
   "outputs": [
    {
     "name": "stdout",
     "output_type": "stream",
     "text": [
      " Mean Square Amplitudes of Normal Coordinates (in amu.bohr^2)\r\n",
      " -----------------------------------------------------------\r\n",
      " Mode    <Q^2> (0)    <Q^2> (******)    <Q^2> (******) class.\r\n",
      "    2     0.011814       0.013143          0.318060\r\n",
      "    3     0.015536       0.019280          0.550081\r\n",
      "    4     0.029228       0.054959          1.946911\r\n",
      "    5     0.031163       0.061719          2.213156\r\n",
      "    6     0.035825       0.079775          2.924904\r\n"
     ]
    }
   ],
   "source": [
    "! head -n 13338 anharm-G16B01.log | tail -n 8"
   ]
  },
  {
   "cell_type": "markdown",
   "id": "4e32b59a",
   "metadata": {},
   "source": [
    ":::{danger}\n",
    "\n",
    "Barone 文章的 eq. (57) 公式很有可能差了一个正负号。因此上面的实现方式与 Barone 原文并不完全一致。在 Harding et al. [^Gauss.JCP.2008] 的 eq. (3) 中，就没有出现负号；因此多半与 Gaussian 的实现是一致的。在作这部分 Double Check 后，决定在这篇文档的程序实现中去除负号。\n",
    "\n",
    ":::"
   ]
  },
  {
   "cell_type": "markdown",
   "id": "26cd3727",
   "metadata": {},
   "source": [
    "## 非谐谱学性质：偶极矩"
   ]
  },
  {
   "cell_type": "markdown",
   "id": "6b9ab954",
   "metadata": {},
   "source": [
    "现在我们考虑在非谐近似下，相对来说最简单的光谱性质，即偶极矩强度。\n",
    "\n",
    "我们在获得了简振坐标平均偏移量 $\\langle Q_i \\rangle$ 与 $\\langle Q_i^2 \\rangle$，且得到平衡构型下目标性质 $P$ 对简振坐标的导数后，就可以求取特定温度非谐近似下的目标性质的值：\n",
    "\n",
    "$$\n",
    "\\langle P \\rangle^\\mathrm{anharm} (T) \\simeq P + \\sum_i \\frac{\\partial P}{\\partial Q_i} \\cdot \\langle Q_i \\rangle (T) + \\frac{1}{2} \\sum_{i} \\frac{\\partial^2 P}{\\partial Q_i^2} \\cdot \\langle Q_i^2 \\rangle (T)\n",
    "$$\n",
    "\n",
    "尽管求取的方式并不复杂，但在获取程序输出时，仍然必须要格外当心。"
   ]
  },
  {
   "cell_type": "markdown",
   "id": "ecacd6b0",
   "metadata": {},
   "source": [
    "### 偶极矩的高阶导数"
   ]
  },
  {
   "cell_type": "markdown",
   "id": "a913c8aa",
   "metadata": {},
   "source": [
    "我们知道，为获得红外光谱数据，我们需要计算偶极在原子坐标下的导数 $\\partial \\boldsymbol{\\mu} / \\partial A_\\alpha$。在 Gaussian 中，只要进行频率分析 (求取能量的二阶导数)，就可以获得偶极矩的原子坐标导数。\n",
    "\n",
    "在 PySCF 中，尽管没有特定的函数去完成偶极矩的原子坐标导数的功能；但对于开壳层的自洽场计算方法，如果我们有了 Hessian 计算的实例，那么其求取实际上只需要 15 行代码左右。下述 `get_dipderiv` 通过带入闭壳层 Hessian 计算实例，给出偶极在原子坐标下的导数 $\\partial \\boldsymbol{\\mu} / \\partial A_\\alpha$ (维度：$(A, \\alpha, \\gamma)$，其中 $A_\\alpha$ 是原子坐标，$\\gamma$ 是偶极方向)。"
   ]
  },
  {
   "cell_type": "code",
   "execution_count": 41,
   "id": "793db7c7",
   "metadata": {},
   "outputs": [],
   "source": [
    "def get_dipderiv(mf_hess):\n",
    "    mf, mol = mf_hess.base, mf_hess.mol\n",
    "    natm, nao, nocc = mol.natm, mol.nao, mol.nelec[0]\n",
    "    H_2_ao = np.zeros((3, natm, 3, nao, nao))\n",
    "    int1e_irp = mol.intor(\"int1e_irp\").reshape((3, 3, nao, nao))\n",
    "    for A in range(natm):\n",
    "        _, _, p0, p1 = mol.aoslice_by_atom()[A]\n",
    "        H_2_ao[:, A, :, :, p0:p1] = int1e_irp[:, :, :, p0:p1]\n",
    "    H_2_ao += H_2_ao.swapaxes(-1, -2)\n",
    "    dipderiv_skeleton = einsum(\"rAtuv, uv -> rAt\", H_2_ao, mf.make_rdm1())\n",
    "    dipderiv_nuc = einsum(\"rt, A -> rAt\", np.eye(3), mol.atom_charges())\n",
    "    h1ao = mf_hess.make_h1(mf.mo_coeff, mf.mo_occ)\n",
    "    mo1 = np.array(mf_hess.solve_mo1(mf.mo_energy, mf.mo_coeff, mf.mo_occ, h1ao)[0])\n",
    "    dipderiv_U = 4 * einsum(\"Atui, ruv, vi -> rAt\", mo1, - mol.intor(\"int1e_r\"), mf.mo_coeff[:, :nocc])\n",
    "    return (dipderiv_skeleton + dipderiv_nuc + dipderiv_U).reshape(3, 3 * natm).T"
   ]
  },
  {
   "cell_type": "markdown",
   "id": "4d3c477e",
   "metadata": {},
   "source": [
    "在可以解析地计算偶极的核坐标导数之后，仿照先前求取能量对简振模量的高阶导数，我们很容易地给出偶极矩对简振坐标的数值二阶导数、以及一部分数值三阶导数。程序计算所使用的单位是偶极使用 $\\mathrm{Debye}$，简振坐标使用原子单位 $\\mathrm{Bohr \\ amu^{1/2}}$，所有偶极取向均变换到 Eckart Orientation。需要注意到我们无法求取完整的三阶导数，因此三阶导数量的维度与二阶相同。\n",
    "\n",
    "- `dip_0`：$\\mu_\\gamma$\n",
    "- `dip_1`：$\\partial \\mu_\\gamma / \\partial Q_i$，维度 $(i, \\gamma)$\n",
    "- `dip_2`：$\\partial^2 \\mu_\\gamma / \\partial Q_i \\partial Q_j$，维度 $(i, j, \\gamma)$\n",
    "- `dip_3`：$\\partial^3 \\mu_\\gamma / \\partial Q_i^2 \\partial Q_j$，维度 $(i, j, \\gamma)$\n",
    "\n",
    "这部分的结果可以与 Gaussian 16 rev. B01 作核验。"
   ]
  },
  {
   "cell_type": "code",
   "execution_count": 42,
   "id": "daead030",
   "metadata": {
    "scrolled": true
   },
   "outputs": [
    {
     "name": "stdout",
     "output_type": "stream",
     "text": [
      "Dipole moment(X, Y, Z, Debye): -0.01359, -0.52278,  0.07319\n"
     ]
    }
   ],
   "source": [
    "dip_0 = mf.dip_moment() @ fa.rot_vec\n",
    "dip_1 = einsum(\"Aα, αγ, Ai -> iγ\", get_dipderiv(mf_hess), fa.rot_vec, fa.q) * data.nist.AU2DEBYE\n",
    "dip_tmp_2 = NumericDiff(num_hess, lambda mf_hess: get_dipderiv(mf_hess)).derivative * data.nist.AU2DEBYE\n",
    "dip_2 = einsum(\"iAα, αγ, Aj -> ijγ\", dip_tmp_2, fa.rot_vec, fa.q)\n",
    "dipderiv_gathered = np.array([[get_dipderiv(mf_hess) for mf_hess in l] for l in num_hess.objects]) * data.nist.AU2DEBYE\n",
    "dip_tmp_3 = einsum(\"iσAα, αγ, Aj -> σijγ\", dipderiv_gathered, fa.rot_vec, fa.q)\n",
    "dip_3 = (dip_tmp_3[0] + dip_tmp_3[1] - 2 * dip_1) / (num_hess.interval**2)"
   ]
  },
  {
   "cell_type": "markdown",
   "id": "7ab9cbde",
   "metadata": {},
   "source": [
    ":::{warning}\n",
    "\n",
    "Gaussian 09 rev. D01 版本中，偶极矩的取向对应输入分子所使用的坐标系；但 Gaussian 16 rev. B01 版本中，偶极的取向对应 Eckart Orientation。本文档使用后者；读者需要小心地处理坐标系取向。\n",
    "\n",
    ":::"
   ]
  },
  {
   "cell_type": "markdown",
   "id": "669879f4",
   "metadata": {},
   "source": [
    "### 二阶非谐效应的偶极贡献"
   ]
  },
  {
   "cell_type": "markdown",
   "id": "e1d26877",
   "metadata": {},
   "source": [
    "矫正项 $\\partial^2 \\mu_\\gamma / \\partial Q_i^2 \\cdot \\langle Q_i^2 \\rangle (T)$ 以维度为 $(i, \\alpha)$ 的矩阵表示如下：\n",
    "\n",
    "- `dip_anharm_2`：$T = 0$ 的情形\n",
    "- `dipT_anharm_2`：$T = T_{2500}$ 的情形"
   ]
  },
  {
   "cell_type": "code",
   "execution_count": 43,
   "id": "5a8f75da",
   "metadata": {},
   "outputs": [
    {
     "data": {
      "text/plain": [
       "array([[ 0.      ,  0.      , -0.      ],\n",
       "       [ 0.002213, -0.001139, -0.000712],\n",
       "       [-0.004645,  0.001438,  0.000898],\n",
       "       [ 0.008767,  0.001811, -0.000082],\n",
       "       [-0.003475,  0.002666,  0.000128],\n",
       "       [-0.002509, -0.005047, -0.000059]])"
      ]
     },
     "execution_count": 43,
     "metadata": {},
     "output_type": "execute_result"
    }
   ],
   "source": [
    "dip_anharm_2 = 0.5 * dip_2.diagonal(0, 0, 1).T * Q_2[:, None]\n",
    "dip_anharm_2"
   ]
  },
  {
   "cell_type": "code",
   "execution_count": 44,
   "id": "7d6626be",
   "metadata": {},
   "outputs": [
    {
     "data": {
      "text/plain": [
       "array([[ 0.      ,  0.      , -0.      ],\n",
       "       [ 0.004927, -0.002536, -0.001586],\n",
       "       [-0.0092  ,  0.002849,  0.001778],\n",
       "       [ 0.016485,  0.003405, -0.000155],\n",
       "       [-0.004312,  0.003309,  0.000159],\n",
       "       [-0.002791, -0.005614, -0.000066]])"
      ]
     },
     "execution_count": 44,
     "metadata": {},
     "output_type": "execute_result"
    }
   ],
   "source": [
    "dipT_anharm_2 = 0.5 * dip_2.diagonal(0, 0, 1).T * QT_2[:, None]\n",
    "dipT_anharm_2"
   ]
  },
  {
   "cell_type": "markdown",
   "id": "b9d830e3",
   "metadata": {},
   "source": [
    "### 一阶振动非谐效应的偶极贡献"
   ]
  },
  {
   "cell_type": "markdown",
   "id": "a9c0c891",
   "metadata": {},
   "source": [
    "矫正项 $\\partial \\mu_\\gamma / \\partial Q_i \\cdot \\langle Q_i \\rangle^\\mathrm{vib} (T)$ 以维度为 $(i, \\alpha)$ 的矩阵表示如下：\n",
    "\n",
    "- `dip_anharm_1`：$T = 0$ 的情形\n",
    "- `dipT_anharm_1`：$T = T_{2500}$ 的情形"
   ]
  },
  {
   "cell_type": "code",
   "execution_count": 45,
   "id": "7d9d1f20",
   "metadata": {},
   "outputs": [
    {
     "data": {
      "text/plain": [
       "array([[-0.      , -0.      , -0.      ],\n",
       "       [-0.000133,  0.004004, -0.000545],\n",
       "       [-0.004411,  0.005262,  0.000769],\n",
       "       [-0.013259, -0.008027, -0.000521],\n",
       "       [ 0.002164, -0.000338,  0.000207],\n",
       "       [ 0.000337,  0.000047,  0.000094]])"
      ]
     },
     "execution_count": 45,
     "metadata": {},
     "output_type": "execute_result"
    }
   ],
   "source": [
    "dip_anharm_1 = dip_1 * Q_1[:, None]\n",
    "dip_anharm_1"
   ]
  },
  {
   "cell_type": "code",
   "execution_count": 46,
   "id": "ce21ed1f",
   "metadata": {},
   "outputs": [
    {
     "data": {
      "text/plain": [
       "array([[-0.      , -0.      , -0.      ],\n",
       "       [-0.000242,  0.007286, -0.000992],\n",
       "       [-0.007703,  0.009188,  0.001343],\n",
       "       [-0.024782, -0.015004, -0.000973],\n",
       "       [ 0.003114, -0.000487,  0.000299],\n",
       "       [ 0.000342,  0.000048,  0.000095]])"
      ]
     },
     "execution_count": 46,
     "metadata": {},
     "output_type": "execute_result"
    }
   ],
   "source": [
    "dipT_anharm_1 = dip_1 * QT_1[:, None]\n",
    "dipT_anharm_1"
   ]
  },
  {
   "cell_type": "markdown",
   "id": "13249c54",
   "metadata": {},
   "source": [
    ":::{danger}\n",
    "\n",
    "Gaussian 16 rev. B01 与 Gaussian 09 rev. D01 在一阶振动计算上都存在问题，且问题均为计算性质时所用的 $\\langle Q_i \\rangle^\\mathrm{vib} (T)$ 与先前计算的结果不同。\n",
    "\n",
    "我们回顾到，对于实数频率，\n",
    "\n",
    "$$\n",
    "\\langle Q_i \\rangle^\\mathrm{vib} (T) = - \\frac{\\hbar}{4 \\lambda_i} \\sum_j \\frac{\\Phi_{ijj}}{\\sqrt{|\\lambda_j|}} \\theta_j (T)\n",
    "$$\n",
    "\n",
    "但在 Gaussian 中的实现，很有可能是\n",
    "\n",
    "$$\n",
    "\\langle Q_i \\rangle^\\mathrm{vib} (T) = - \\frac{\\hbar}{4 \\lambda_i} \\sum_j \\frac{\\Phi_{ijj}}{\\sqrt{|\\lambda_j|}} \\theta_j (298.15 \\ \\mathrm{K}) \\theta_j (T)\n",
    "$$\n",
    "\n",
    "我认为这显然有些问题哈。\n",
    "\n",
    "下面被折叠的 code cell 可以复现 Gaussian 输出的结果。\n",
    "\n",
    ":::"
   ]
  },
  {
   "cell_type": "code",
   "execution_count": 47,
   "id": "66e5b7e7",
   "metadata": {
    "tags": [
     "hide-cell"
    ]
   },
   "outputs": [
    {
     "name": "stdout",
     "output_type": "stream",
     "text": [
      "Gaussian 16 rev. B01\n",
      "Temperature: 0 K\n",
      "[[-0.       -0.       -0.      ]\n",
      " [-0.000119  0.003575 -0.000487]\n",
      " [-0.004617  0.005507  0.000805]\n",
      " [-0.013046 -0.007899 -0.000512]\n",
      " [ 0.002838 -0.000443  0.000272]\n",
      " [ 0.000674  0.000094  0.000188]]\n",
      "Temperature: 2500 K\n",
      "[[-0.       -0.       -0.      ]\n",
      " [-0.000242  0.007287 -0.000993]\n",
      " [-0.007704  0.009189  0.001343]\n",
      " [-0.024786 -0.015006 -0.000973]\n",
      " [ 0.003113 -0.000487  0.000299]\n",
      " [ 0.000341  0.000048  0.000095]]\n",
      "=====\n",
      "Gaussian 09 rev. D01\n",
      "Temperature: 0 K\n",
      "[[ 0.        0.        0.      ]\n",
      " [-0.001651  0.000601  0.003154]\n",
      " [-0.006357 -0.001267  0.003206]\n",
      " [-0.008541 -0.001726 -0.012527]\n",
      " [ 0.002775  0.000134  0.000776]\n",
      " [ 0.000591 -0.000082  0.000378]]\n",
      "Temperature: 2500 K\n",
      "[[ 0.        0.        0.      ]\n",
      " [-0.003365  0.001224  0.006428]\n",
      " [-0.010607 -0.002114  0.00535 ]\n",
      " [-0.016227 -0.003279 -0.0238  ]\n",
      " [ 0.003045  0.000147  0.000851]\n",
      " [ 0.000299 -0.000042  0.000191]]\n"
     ]
    }
   ],
   "source": [
    "def dip_anharm_1_Gaussian():\n",
    "    Q_1, QT_1, QTT_1 = np.zeros(nvib), np.zeros(nvib), np.zeros(nvib)\n",
    "    for i in range(nvib):\n",
    "        if fa.freq[i] <= 0: continue\n",
    "        for j in range(nvib):\n",
    "            val = - deriv_3[i,j,j] / (4 * lambd[i] * np.sqrt(np.abs(lambd[j]))) * Q_scale\n",
    "            Q_1[i] += val\n",
    "            QT_1[i] += val * get_coef_temp(298.15)[j]\n",
    "            QTT_1[i] += val * get_coef_temp(298.15)[j] * get_coef_temp(T)[j]\n",
    "    print(\"Gaussian 16 rev. B01\")\n",
    "    print(\"Temperature: 0 K\")\n",
    "    print(dip_1 * QT_1[:, None])\n",
    "    print(\"Temperature: 2500 K\")\n",
    "    print(dip_1 * QTT_1[:, None])\n",
    "    print(\"=====\")\n",
    "    print(\"Gaussian 09 rev. D01\")\n",
    "    print(\"Temperature: 0 K\")\n",
    "    print(dip_1 * QT_1[:, None] @ fa.rot_vec.T)\n",
    "    print(\"Temperature: 2500 K\")\n",
    "    print(dip_1 * QTT_1[:, None] @ fa.rot_vec.T)\n",
    "dip_anharm_1_Gaussian()"
   ]
  },
  {
   "cell_type": "code",
   "execution_count": 48,
   "id": "c1f3abef",
   "metadata": {
    "tags": [
     "hide-cell"
    ]
   },
   "outputs": [
    {
     "name": "stdout",
     "output_type": "stream",
     "text": [
      "   ## Vibrational contributions to averages at    0K (Unit: Debye) ##\r\n",
      " ---------------------------------------------------------------------------\r\n",
      "          Mode |   P1(diag)     P1(vib)    P1(rot)        P2     |  P1(tot)+P2\r\n",
      " ---------------------------------------------------------------------------\r\n",
      " X           2 |   0.111D-02   0.674D-03   0.000D+00  -0.251D-02 |  -0.183D-02\r\n",
      " X           3 |   0.316D-02   0.284D-02   0.000D+00  -0.348D-02 |  -0.637D-03\r\n",
      " X           4 |  -0.898D-02  -0.130D-01   0.000D+00   0.877D-02 |  -0.428D-02\r\n",
      " X           5 |   0.664D-05  -0.462D-02   0.000D+00  -0.465D-02 |  -0.926D-02\r\n",
      " X           6 |   0.226D-04  -0.119D-03   0.000D+00   0.221D-02 |   0.209D-02\r\n",
      " Y           2 |   0.156D-03   0.944D-04   0.000D+00  -0.505D-02 |  -0.495D-02\r\n",
      " Y           3 |  -0.494D-03  -0.443D-03   0.000D+00   0.267D-02 |   0.222D-02\r\n",
      " Y           4 |  -0.544D-02  -0.790D-02   0.000D+00   0.181D-02 |  -0.609D-02\r\n",
      " Y           5 |  -0.793D-05   0.551D-02   0.000D+00   0.144D-02 |   0.694D-02\r\n",
      " Y           6 |  -0.681D-03   0.357D-02   0.000D+00  -0.114D-02 |   0.244D-02\r\n",
      " Z           2 |   0.310D-03   0.188D-03   0.000D+00  -0.591D-04 |   0.129D-03\r\n",
      " Z           3 |   0.303D-03   0.272D-03   0.000D+00   0.128D-03 |   0.400D-03\r\n",
      " Z           4 |  -0.352D-03  -0.512D-03   0.000D+00  -0.824D-04 |  -0.595D-03\r\n",
      " Z           5 |  -0.116D-05   0.805D-03   0.000D+00   0.898D-03 |   0.170D-02\r\n",
      " Z           6 |   0.927D-04  -0.487D-03   0.000D+00  -0.712D-03 |  -0.120D-02\r\n",
      " ---------------------------------------------------------------------------\r\n"
     ]
    }
   ],
   "source": [
    "! head -n 13449 anharm-G16B01.log | tail -n 20"
   ]
  },
  {
   "cell_type": "code",
   "execution_count": 49,
   "id": "1ab6fc74",
   "metadata": {
    "tags": [
     "hide-cell"
    ]
   },
   "outputs": [
    {
     "name": "stdout",
     "output_type": "stream",
     "text": [
      "   ## Vibrational contributions to averages at 2500K (Unit: Debye) ##\r\n",
      " ---------------------------------------------------------------------------\r\n",
      "          Mode |   P1(diag)     P1(vib)    P1(rot)        P2     |  P1(tot)+P2\r\n",
      " ---------------------------------------------------------------------------\r\n",
      " X           2 |   0.111D-02   0.342D-03  -0.696D-05  -0.279D-02 |  -0.246D-02\r\n",
      " X           3 |   0.316D-02   0.311D-02   0.252D-04  -0.431D-02 |  -0.117D-02\r\n",
      " X           4 |  -0.898D-02  -0.248D-01  -0.115D-03   0.165D-01 |  -0.841D-02\r\n",
      " X           5 |   0.664D-05  -0.770D-02   0.656D-03  -0.920D-02 |  -0.162D-01\r\n",
      " X           6 |   0.226D-04  -0.242D-03   0.104D-04   0.493D-02 |   0.470D-02\r\n",
      " Y           2 |   0.156D-03   0.478D-04  -0.974D-06  -0.561D-02 |  -0.557D-02\r\n",
      " Y           3 |  -0.494D-03  -0.487D-03  -0.394D-05   0.331D-02 |   0.282D-02\r\n",
      " Y           4 |  -0.544D-02  -0.150D-01  -0.698D-04   0.340D-02 |  -0.117D-01\r\n",
      " Y           5 |  -0.793D-05   0.919D-02  -0.782D-03   0.285D-02 |   0.113D-01\r\n",
      " Y           6 |  -0.681D-03   0.729D-02  -0.167D-03  -0.254D-02 |   0.458D-02\r\n",
      " Z           2 |   0.310D-03   0.950D-04  -0.194D-05  -0.658D-04 |   0.273D-04\r\n",
      " Z           3 |   0.303D-03   0.299D-03   0.242D-05   0.159D-03 |   0.460D-03\r\n",
      " Z           4 |  -0.352D-03  -0.973D-03  -0.452D-05  -0.155D-03 |  -0.113D-02\r\n",
      " Z           5 |  -0.116D-05   0.134D-02  -0.114D-03   0.178D-02 |   0.301D-02\r\n",
      " Z           6 |   0.927D-04  -0.992D-03   0.228D-04  -0.159D-02 |  -0.256D-02\r\n",
      " ---------------------------------------------------------------------------\r\n"
     ]
    }
   ],
   "source": [
    "! head -n 13479 anharm-G16B01.log | tail -n 20"
   ]
  },
  {
   "cell_type": "markdown",
   "id": "50fdfdb8",
   "metadata": {},
   "source": [
    "### 一阶转动非谐效应的偶极贡献"
   ]
  },
  {
   "cell_type": "markdown",
   "id": "0496e06a",
   "metadata": {},
   "source": [
    "我们现在考虑一阶转动的非谐效应。实际上，依据 Harding et al. [^Gauss.JCP.2008] eq. (4)，一阶简谐模量的平均偏移不止有振动的贡献，也还有转动的贡献：\n",
    "\n",
    "$$\n",
    "\\langle Q_i \\rangle (T) = \\langle Q_i \\rangle^\\mathrm{vib} (T) + \\langle Q_i \\rangle^\\mathrm{rot} (T) = - \\frac{\\hbar}{4 \\lambda_i} \\sum_j \\frac{\\Phi_{ijj}}{\\sqrt{|\\lambda_j|}} \\theta_j (T) + \\frac{k_\\mathrm{B} T}{2 \\lambda_i} \\sum_\\alpha \\frac{\\partial I_{\\alpha \\alpha}}{\\partial Q_i} \\frac{1}{I_{\\alpha \\alpha}}\n",
    "$$\n",
    "\n",
    "为此，我们还需要求取转动惯量 $I_{\\alpha \\beta}$ 在简振坐标下的导数 $\\partial I_{\\alpha \\beta}$ `deriv_inertia` (维度：$(i, \\alpha, \\beta)$)。需要注意的是，尽管我们已经将分子转动到 Eckart Orientation 以使得转动惯量矩阵是对角矩阵 $I_{\\alpha \\beta} = \\delta_{\\alpha \\beta} I_{\\alpha \\alpha}$，但这不意味着其简振坐标下的导数还是对角的。"
   ]
  },
  {
   "cell_type": "code",
   "execution_count": 50,
   "id": "a2b3c435",
   "metadata": {},
   "outputs": [],
   "source": [
    "def get_fa(mf_hess):\n",
    "    mol = mf_hess.mol\n",
    "    fa = FreqAnal()\n",
    "    fa.mol_weights = get_atom_mass_list(mol)\n",
    "    fa.mol_coords = mol.atom_coords()\n",
    "    fa.natm = mol.natm\n",
    "    fa.mol_hess = mf_hess.de.swapaxes(1, 2)\n",
    "    return fa"
   ]
  },
  {
   "cell_type": "code",
   "execution_count": 51,
   "id": "ac4b84e0",
   "metadata": {},
   "outputs": [],
   "source": [
    "deriv_inertia = NumericDiff(num_hess, lambda mf_hess: get_fa(mf_hess).mom_inertia).derivative\n",
    "deriv_inertia = einsum(\"Aγδ, γα, δβ -> Aαβ\", deriv_inertia, fa.rot_vec, fa.rot_vec)"
   ]
  },
  {
   "cell_type": "markdown",
   "id": "b9a62d3e",
   "metadata": {},
   "source": [
    "依据这个导数，在合理的单位转换下，我们能给出 $\\langle Q_i \\rangle^\\mathrm{vib} (T_{2500})$ `QTrot_1`。同时，我们也能看到，显然地 $\\langle Q_i \\rangle^\\mathrm{vib} (0)$ `Qrot_1` 为零，因此在 $0 \\ \\mathrm{K}$ 下，分子旋转对非谐效应不产生贡献。"
   ]
  },
  {
   "cell_type": "code",
   "execution_count": 52,
   "id": "b0fccef6",
   "metadata": {},
   "outputs": [
    {
     "data": {
      "text/plain": [
       "array([ 0.      ,  0.005706, -0.006855, -0.025615,  0.006727,  0.003773])"
      ]
     },
     "execution_count": 52,
     "metadata": {},
     "output_type": "execute_result"
    }
   ],
   "source": [
    "QTrot_1 = (1/2 * T * k_B / lambd * (deriv_inertia.diagonal(0, -1, -2) / (fa.rot_eig)).sum(axis=-1)) * E_h**-1\n",
    "QTrot_1[lambd < 0] = 0\n",
    "Qrot_1 = np.zeros_like(QTrot_1)\n",
    "QTrot_1"
   ]
  },
  {
   "cell_type": "markdown",
   "id": "75896a27",
   "metadata": {},
   "source": [
    "矫正项 $\\partial \\mu_\\gamma / \\partial Q_i \\cdot \\langle Q_i \\rangle^\\mathrm{rot} (T)$ 以维度为 $(i, \\alpha)$ 的矩阵表示如下：\n",
    "\n",
    "- `dip_anharm_rot`：$T = 0$ 的情形 (实际上 $0 \\ \\mathrm{K}$ 不产生贡献)\n",
    "- `dipT_anharm_rot`：$T = T_{2500}$ 的情形"
   ]
  },
  {
   "cell_type": "code",
   "execution_count": 53,
   "id": "d1e4e88c",
   "metadata": {},
   "outputs": [
    {
     "data": {
      "text/plain": [
       "array([[-0.      , -0.      , -0.      ],\n",
       "       [-0.000052,  0.001562, -0.000213],\n",
       "       [-0.000949,  0.001132,  0.000166],\n",
       "       [-0.005677, -0.003437, -0.000223],\n",
       "       [ 0.000935, -0.000146,  0.00009 ],\n",
       "       [ 0.000239,  0.000033,  0.000066]])"
      ]
     },
     "execution_count": 53,
     "metadata": {},
     "output_type": "execute_result"
    }
   ],
   "source": [
    "dipT_anharm_rot = QTrot_1[:, None] * dip_1\n",
    "dip_anharm_rot = np.zeros_like(dipT_anharm_rot)\n",
    "dipT_anharm_rot"
   ]
  },
  {
   "cell_type": "markdown",
   "id": "112a8f8f",
   "metadata": {},
   "source": [
    "旋转的贡献一般来说总是比振动小不少。在 Gaussian 09 版本中，实际上就没有考虑转动的贡献；尽管不太精确，但作这种忽略也应认为是合理的。"
   ]
  },
  {
   "cell_type": "markdown",
   "id": "5be20434",
   "metadata": {},
   "source": [
    ":::{danger}\n",
    "\n",
    "Gaussian 16 rev. B01 的转动贡献计算很可能是错误的。该错误不容易重现。\n",
    "\n",
    ":::"
   ]
  },
  {
   "cell_type": "markdown",
   "id": "31d8987c",
   "metadata": {},
   "source": [
    "### 统合所有贡献"
   ]
  },
  {
   "cell_type": "markdown",
   "id": "aaa11d59",
   "metadata": {},
   "source": [
    "回顾到非谐性质在简振坐标下的展开式\n",
    "\n",
    "$$\n",
    "\\langle P \\rangle^\\mathrm{anharm} (T) \\simeq P + \\sum_i \\frac{\\partial P}{\\partial Q_i} \\cdot \\langle Q_i \\rangle (T) + \\frac{1}{2} \\sum_{i} \\frac{\\partial^2 P}{\\partial Q_i^2} \\cdot \\langle Q_i^2 \\rangle (T)\n",
    "$$\n",
    "\n",
    "在所有贡献量都已经求得的情况下，我们很容易地给出 $0 \\ \\mathrm{K}$ 与 $T_{2500} = 2500 \\ \\mathrm{K}$ 的非谐矫正下的偶极矩。"
   ]
  },
  {
   "cell_type": "markdown",
   "id": "87e964c2",
   "metadata": {},
   "source": [
    "未矫正的偶极矩："
   ]
  },
  {
   "cell_type": "code",
   "execution_count": 54,
   "id": "ef1e9c5b",
   "metadata": {},
   "outputs": [
    {
     "name": "stdout",
     "output_type": "stream",
     "text": [
      "Dipole/Debye (Uncorrected, Eckart Orientation):  [-0.059826  0.052123  0.522057]\n",
      "Dipole/Debye (Uncorrected, Input  Orientation):  [-0.013591 -0.522779  0.07319 ]\n"
     ]
    }
   ],
   "source": [
    "print(\"Dipole/Debye (Uncorrected, Eckart Orientation): \", dip_0)\n",
    "print(\"Dipole/Debye (Uncorrected, Input  Orientation): \", dip_0 @ fa.rot_vec.T)"
   ]
  },
  {
   "cell_type": "markdown",
   "id": "3702c3d9",
   "metadata": {},
   "source": [
    "$0 \\ \\mathrm{K}$ 的非谐矫正偶极矩："
   ]
  },
  {
   "cell_type": "code",
   "execution_count": 55,
   "id": "6e9fccc1",
   "metadata": {},
   "outputs": [
    {
     "name": "stdout",
     "output_type": "stream",
     "text": [
      "Dipole/Debye (0 K, Eckart Orientation):  [-0.074777  0.052801  0.522232]\n",
      "Dipole/Debye (0 K, Input  Orientation):  [-0.027333 -0.525138  0.067748]\n"
     ]
    }
   ],
   "source": [
    "dip_anharm = dip_0 + (dip_anharm_1 + dip_anharm_rot + dip_anharm_2).sum(axis=0)\n",
    "print(\"Dipole/Debye (0 K, Eckart Orientation): \", dip_anharm)\n",
    "print(\"Dipole/Debye (0 K, Input  Orientation): \", dip_anharm @ fa.rot_vec.T)"
   ]
  },
  {
   "cell_type": "markdown",
   "id": "031e449f",
   "metadata": {},
   "source": [
    "$T_{2500} = 2500 \\ \\mathrm{K}$ 的非谐矫正偶极矩："
   ]
  },
  {
   "cell_type": "code",
   "execution_count": 56,
   "id": "b3295ef7",
   "metadata": {},
   "outputs": [
    {
     "name": "stdout",
     "output_type": "stream",
     "text": [
      "Dipole/Debye (0 K, Eckart Orientation):  [-0.089493  0.053711  0.521843]\n",
      "Dipole/Debye (0 K, Input  Orientation):  [-0.041028 -0.526894  0.062559]\n"
     ]
    }
   ],
   "source": [
    "dipT_anharm = dip_0 + (dipT_anharm_1 + dipT_anharm_rot + dipT_anharm_2).sum(axis=0)\n",
    "print(\"Dipole/Debye (0 K, Eckart Orientation): \", dipT_anharm)\n",
    "print(\"Dipole/Debye (0 K, Input  Orientation): \", dipT_anharm @ fa.rot_vec.T)"
   ]
  },
  {
   "cell_type": "markdown",
   "id": "caa5fb91",
   "metadata": {},
   "source": [
    "## 非谐谱学性质：红外光谱"
   ]
  },
  {
   "cell_type": "markdown",
   "id": "85348fb5",
   "metadata": {},
   "source": [
    "如果上面用于计算偶极矩的计算方法也可以用于计算偶极矩的坐标导数，那么红外光谱也可以通过类似的方法实现。"
   ]
  },
  {
   "cell_type": "markdown",
   "id": "7874907e",
   "metadata": {},
   "source": [
    ":::{danger}\n",
    "\n",
    "这只是依葫芦画瓢，用计算非谐偶极的方法套用到红外光谱中。很显然这未必是正确的，而且事实上，不仅是非谐振动频率 (因为 Fermi 或 Darling-Dennsion 共振)，**下述代码的 IR 峰强度结果也与 Gaussian 的输出非常不同**。\n",
    "\n",
    "因此，各位看官就当看个热闹哈 (｀・ω・´)\n",
    "\n",
    "想要了解更多信息，请参考 Bloino 作为第一作者的文章 ([^Bloino.JCP.2012], [^Bloino.JPCA.2015])。红外光谱应当需要作更严格的 RSPT 二阶展开，并且考虑一部分非基频振动间的相互跃迁偶极矩导数。这部分工作应当已经实现在 Gaussian 16 rev. B01 中，因此我们能获得非谐红外信息。\n",
    "\n",
    "在上面对 Gaussian 程序的实现结果作讨论之后，我其实觉得务实看待 Gaussian 输出的态度应当是保留地接受它。它所给出的分子振动频率还是相对准确的，特别是相比与本文档而言，对频率共振的处理多少让结果变好一些 (尽管对于 Fermi 共振，如果不应用 DCPT2 或其它简并微扰理论而完全去除共振项，任意性其实太强；这在 Gaussian 中或许实现了，但我还不清楚)。但在偶极矩 (或可能地，磁矩等) 的非谐处理上，大概还有需改进之处。\n",
    "\n",
    ":::"
   ]
  },
  {
   "cell_type": "markdown",
   "id": "1dc02bc5",
   "metadata": {},
   "source": [
    "我们这里选择使用相对来说较为真实的乙醛分子 (CH<sub>3</sub>CHO) 分子，作为绘制红外光谱的分子。计算方法仍然是 STO-3G。由于我们需要重新写一遍近乎完整的代码来绘制红外光谱，因此这里将大部分代码进行了折叠。其输入卡 {download}`CH3CHO.gjf`，输出文件 {download}`CH3CHO.log`。绘制红外光谱时，使用 Lorentzian 展宽，半峰宽 $30 \\ \\mathrm{cm^{-1}}$。"
   ]
  },
  {
   "cell_type": "markdown",
   "id": "91c0d877",
   "metadata": {},
   "source": [
    "### 分子定义与原子核高阶导数"
   ]
  },
  {
   "cell_type": "code",
   "execution_count": 57,
   "id": "aee8c371",
   "metadata": {},
   "outputs": [],
   "source": [
    "mol = gto.Mole(atom=\"\"\"\n",
    "C   -0.852693    0.499814   -0.000294\n",
    "C    0.685096    0.670458    0.000342\n",
    "O    1.340323   -0.602319   -0.000432\n",
    "O   -1.349649   -0.611839    0.000139\n",
    "H   -1.450829    1.425645   -0.001000\n",
    "H    0.974215    1.253523    0.883979\n",
    "H    0.975003    1.254674   -0.882236\n",
    "H    0.581799   -1.242205    0.001322\n",
    "\"\"\", basis=\"STO-3G\", verbose=0).build()"
   ]
  },
  {
   "cell_type": "code",
   "execution_count": 58,
   "id": "77ea3533",
   "metadata": {
    "tags": [
     "hide-cell"
    ]
   },
   "outputs": [],
   "source": [
    "natm = mol.natm\n",
    "nhess = natm * 3\n",
    "mf = scf.RHF(mol).run()\n",
    "mf_hess = mf.Hessian().run()"
   ]
  },
  {
   "cell_type": "code",
   "execution_count": 59,
   "id": "b2e15cde",
   "metadata": {
    "tags": [
     "hide-cell"
    ]
   },
   "outputs": [],
   "source": [
    "fa = FreqAnal()\n",
    "fa.mol_weights = get_atom_mass_list(mol)\n",
    "fa.mol_coords = mol.atom_coords()\n",
    "fa.natm = mol.natm\n",
    "fa.mol_hess = mf_hess.de.swapaxes(1, 2)\n",
    "nvib = fa.freq.size"
   ]
  },
  {
   "cell_type": "code",
   "execution_count": 60,
   "id": "f7f80101",
   "metadata": {
    "tags": [
     "hide-cell"
    ]
   },
   "outputs": [],
   "source": [
    "deriv_2 = einsum(\"Pi, PQ, Qj -> ij\", fa.q, fa.mol_hess.reshape(nhess, nhess), fa.q)\n",
    "lambd = deriv_2.diagonal()"
   ]
  },
  {
   "cell_type": "code",
   "execution_count": 61,
   "id": "0b5454c6",
   "metadata": {
    "tags": [
     "hide-cell"
    ]
   },
   "outputs": [],
   "source": [
    "num_hess = ModeDerivGenerator(mol, lambda mol: scf.RHF(mol).run().Hessian().run(), fa.q, interval=0.01)\n",
    "tmp_3 = NumericDiff(num_hess, lambda mf: mf.de.swapaxes(1, 2).reshape(nhess, nhess)).derivative\n",
    "deriv_3 = einsum(\"Ai, Bj, kAB -> ijk\", fa.q, fa.q, tmp_3)\n",
    "deriv_3 = 1/3 * (deriv_3 + deriv_3.transpose(1, 2, 0) + deriv_3.transpose(2, 0, 1))"
   ]
  },
  {
   "cell_type": "code",
   "execution_count": 62,
   "id": "132fa4b0",
   "metadata": {
    "tags": [
     "hide-cell"
    ]
   },
   "outputs": [],
   "source": [
    "hess_gathered = np.array([[mf.de.swapaxes(1, 2).reshape(nhess, nhess) for mf in l] for l in num_hess.objects])\n",
    "tmp_4 = einsum(\"ksAB, Ai, Bj -> skij\", hess_gathered, fa.q, fa.q)\n",
    "deriv_4 = (tmp_4[0] + tmp_4[1] - 2 * deriv_2) / (num_hess.interval**2)  # finite diff\n",
    "deriv_4 = (deriv_4 + deriv_4.swapaxes(-1, -2)) / 2                      # symmetrize\n",
    "deriv_4 = einsum(\"kij -> ijk\", deriv_4)                                 # subscript transform"
   ]
  },
  {
   "cell_type": "markdown",
   "id": "8453936f",
   "metadata": {},
   "source": [
    "### $\\xi_{ij}$ 矩阵生成与非谐频率计算"
   ]
  },
  {
   "cell_type": "code",
   "execution_count": 63,
   "id": "a3c4d6a7",
   "metadata": {
    "tags": [
     "hide-cell"
    ]
   },
   "outputs": [],
   "source": [
    "xmat_4 = np.zeros((nvib, nvib))\n",
    "for i in range(nvib):\n",
    "    xmat_4[i, i] = deriv_4[i,i,i] / (16 * lambd[i])\n",
    "    for j in range(nvib):\n",
    "        if i == j: continue\n",
    "        xmat_4[i, j] = deriv_4[i,i,j] / (4 * np.sqrt(np.abs(lambd[i] * lambd[j])))\n",
    "xmat_4 *= (hbar / (2 * np.pi * c_0)) * (a_0**-2 * amu**-1) / (100)"
   ]
  },
  {
   "cell_type": "code",
   "execution_count": 64,
   "id": "d4f59bf5",
   "metadata": {
    "tags": [
     "hide-cell"
    ]
   },
   "outputs": [],
   "source": [
    "xmat_3 = np.zeros((nvib, nvib))\n",
    "for i in range(nvib):\n",
    "    xmat_3[i, i] -= deriv_3[i,i,i]**2 * 5 / (3 * lambd[i])\n",
    "    for j in range(nvib):\n",
    "        if i == j: continue\n",
    "        xmat_3[i, i] -= deriv_3[i,i,j]**2 * (8 * lambd[i] - 3 * lambd[j]) / (lambd[j] * (4 * lambd[i] - lambd[j]))\n",
    "    xmat_3[i, i] /= 16 * lambd[i]\n",
    "for i in range(nvib):\n",
    "    for j in range(nvib):\n",
    "        if i == j: continue\n",
    "        xmat_3[i, j] -= deriv_3[i,i,j]**2 * 2 / (4 * lambd[i] - lambd[j])\n",
    "        xmat_3[i, j] -= deriv_3[i,j,j]**2 * 2 / (4 * lambd[j] - lambd[i])\n",
    "        xmat_3[i, j] -= deriv_3[i,i,i] * deriv_3[i,j,j] / lambd[i]\n",
    "        xmat_3[i, j] -= deriv_3[j,j,j] * deriv_3[i,i,j] / lambd[j]\n",
    "        for k in range(nvib):\n",
    "            if len(set([i, j, k])) != 3: continue\n",
    "            delta_ijk = lambd[i]**2 + lambd[j]**2 + lambd[k]**2 - 2 * (lambd[i]*lambd[j] + lambd[j]*lambd[k] + lambd[k]*lambd[i])\n",
    "            xmat_3[i, j] += deriv_3[i,j,k]**2 * 2 * (lambd[i] + lambd[j] - lambd[k]) / delta_ijk\n",
    "            xmat_3[i, j] -= deriv_3[i,i,k] * deriv_3[j,j,k] / lambd[k]\n",
    "        xmat_3[i, j] /= 4 * np.sqrt(np.abs(lambd[i] * lambd[j]))\n",
    "xmat_3 *= (hbar / (2 * np.pi * c_0)) * (a_0**-2 * amu**-1) / (100)"
   ]
  },
  {
   "cell_type": "code",
   "execution_count": 65,
   "id": "80a561a3",
   "metadata": {
    "tags": [
     "hide-cell"
    ]
   },
   "outputs": [],
   "source": [
    "rot_wavenum = h / (8 * np.pi**2 * c_0 * fa.rot_eig) * (a_0**-2 * amu**-1) / (100)\n",
    "q_ = einsum(\"Aβi, βα, A -> Aαi\", fa.q.reshape(natm, 3, nvib), fa.rot_vec, np.sqrt(get_atom_mass_list(mol)))\n",
    "zeta_x = einsum(\"Ai, Aj -> ij\", q_[:, 1, :], q_[:, 2, :]) - einsum(\"Ai, Aj -> ij\", q_[:, 2, :], q_[:, 1, :])\n",
    "zeta_y = einsum(\"Ai, Aj -> ij\", q_[:, 2, :], q_[:, 0, :]) - einsum(\"Ai, Aj -> ij\", q_[:, 0, :], q_[:, 2, :])\n",
    "zeta_z = einsum(\"Ai, Aj -> ij\", q_[:, 0, :], q_[:, 1, :]) - einsum(\"Ai, Aj -> ij\", q_[:, 1, :], q_[:, 0, :])\n",
    "zeta = np.array([zeta_x, zeta_y, zeta_z])\n",
    "\n",
    "xmat_coriol = np.zeros((nvib, nvib))\n",
    "for i in range(nvib):\n",
    "    for j in range(nvib):\n",
    "        for ixyz in range(3):\n",
    "            xmat_coriol[i, j] += zeta[ixyz, i, j]**2 * rot_wavenum[ixyz]\n",
    "        xmat_coriol[i, j] *= (lambd[i] + lambd[j]) / np.sqrt(np.abs(lambd[i] * lambd[j]))"
   ]
  },
  {
   "cell_type": "code",
   "execution_count": 66,
   "id": "80d9febd",
   "metadata": {
    "tags": [
     "hide-cell"
    ]
   },
   "outputs": [],
   "source": [
    "xmat = xmat_4 + xmat_3 + xmat_coriol\n",
    "freq_anharm = fa.freq + 1.5 * xmat.diagonal() + 0.5 * xmat.sum(axis=-1)"
   ]
  },
  {
   "cell_type": "markdown",
   "id": "9aaccd33",
   "metadata": {},
   "source": [
    "### 温度效应矫正系数计算 (2500 K)"
   ]
  },
  {
   "cell_type": "code",
   "execution_count": 67,
   "id": "8f3d1a9c",
   "metadata": {
    "tags": [
     "hide-cell"
    ]
   },
   "outputs": [],
   "source": [
    "T = 2500\n",
    "coef_temp = get_coef_temp(T)\n",
    "Q_scale = hbar / np.sqrt(E_h * a_0**2 * amu)"
   ]
  },
  {
   "cell_type": "code",
   "execution_count": 68,
   "id": "d9eb69c1",
   "metadata": {
    "tags": [
     "hide-cell"
    ]
   },
   "outputs": [],
   "source": [
    "Q_1, QT_1 = np.zeros(nvib), np.zeros(nvib)\n",
    "for i in range(nvib):\n",
    "    if fa.freq[i] <= 0: continue\n",
    "    for j in range(nvib):\n",
    "        val = - deriv_3[i,j,j] / (4 * lambd[i] * np.sqrt(np.abs(lambd[j]))) * Q_scale\n",
    "        Q_1[i] += val\n",
    "        QT_1[i] += val * coef_temp[j]"
   ]
  },
  {
   "cell_type": "code",
   "execution_count": 69,
   "id": "effb8187",
   "metadata": {
    "tags": [
     "hide-cell"
    ]
   },
   "outputs": [],
   "source": [
    "Q_2, QT_2 = np.zeros(nvib), np.zeros(nvib)\n",
    "for i in range(nvib):\n",
    "    if fa.freq[i] <= 0: continue\n",
    "    val = 1 / (2 * np.sqrt(lambd[i])) * Q_scale\n",
    "    Q_2[i] += val\n",
    "    QT_2[i] += val * coef_temp[i]"
   ]
  },
  {
   "cell_type": "code",
   "execution_count": 70,
   "id": "b95c3c22",
   "metadata": {
    "tags": [
     "hide-cell"
    ]
   },
   "outputs": [],
   "source": [
    "deriv_inertia = NumericDiff(num_hess, lambda mf_hess: get_fa(mf_hess).mom_inertia).derivative\n",
    "deriv_inertia = einsum(\"Aγδ, γα, δβ -> Aαβ\", deriv_inertia, fa.rot_vec, fa.rot_vec)\n",
    "QTrot_1 = (1/2 * T * k_B / lambd * (deriv_inertia.diagonal(0, -1, -2) / (fa.rot_eig)).sum(axis=-1)) * E_h**-1\n",
    "QTrot_1[lambd < 0] = 0\n",
    "Qrot_1 = np.zeros_like(QTrot_1)"
   ]
  },
  {
   "cell_type": "markdown",
   "id": "ca03ac9c",
   "metadata": {},
   "source": [
    "### 偶极矩导数与红外强度计算"
   ]
  },
  {
   "cell_type": "code",
   "execution_count": 71,
   "id": "f5342f10",
   "metadata": {
    "tags": [
     "hide-cell"
    ]
   },
   "outputs": [
    {
     "name": "stdout",
     "output_type": "stream",
     "text": [
      "Dipole moment(X, Y, Z, Debye): -0.85484,  1.70251,  0.00242\n"
     ]
    }
   ],
   "source": [
    "dip_0 = mf.dip_moment() @ fa.rot_vec\n",
    "dip_1 = einsum(\"Aα, αγ, Ai -> iγ\", get_dipderiv(mf_hess), fa.rot_vec, fa.q) * data.nist.AU2DEBYE\n",
    "dip_tmp_2 = NumericDiff(num_hess, lambda mf_hess: get_dipderiv(mf_hess)).derivative * data.nist.AU2DEBYE\n",
    "dip_2 = einsum(\"iAα, αγ, Aj -> ijγ\", dip_tmp_2, fa.rot_vec, fa.q)\n",
    "dipderiv_gathered = np.array([[get_dipderiv(mf_hess) for mf_hess in l] for l in num_hess.objects]) * data.nist.AU2DEBYE\n",
    "dip_tmp_3 = einsum(\"iσAα, αγ, Aj -> σijγ\", dipderiv_gathered, fa.rot_vec, fa.q)\n",
    "dip_3 = (dip_tmp_3[0] + dip_tmp_3[1] - 2 * dip_1) / (num_hess.interval**2)"
   ]
  },
  {
   "cell_type": "code",
   "execution_count": 72,
   "id": "c405c884",
   "metadata": {
    "tags": [
     "hide-cell"
    ]
   },
   "outputs": [],
   "source": [
    "IR_scale = 1/3 * np.pi * F**2 * data.nist.AU2DEBYE**-2 * 1e-7\n",
    "IR_inten = (dip_1**2).sum(axis=-1) * IR_scale"
   ]
  },
  {
   "cell_type": "code",
   "execution_count": 73,
   "id": "bbe8853f",
   "metadata": {
    "tags": [
     "hide-cell"
    ]
   },
   "outputs": [],
   "source": [
    "dip_1_anharm = einsum(\"ijγ, j -> jγ\", dip_2, Q_1 + Qrot_1) + 0.5 * einsum(\"ijγ, j -> jγ\", dip_3, Q_2)\n",
    "IR_anharm = ((dip_1 + dip_1_anharm)**2).sum(axis=-1) * IR_scale"
   ]
  },
  {
   "cell_type": "code",
   "execution_count": 74,
   "id": "c08b6c0e",
   "metadata": {
    "tags": [
     "hide-cell"
    ]
   },
   "outputs": [],
   "source": [
    "dip_1T_anharm = einsum(\"ijγ, j -> jγ\", dip_2, QT_1 + QTrot_1) + 0.5 * einsum(\"ijγ, j -> jγ\", dip_3, QT_2)\n",
    "IRT_anharm = ((dip_1 + dip_1T_anharm)**2).sum(axis=-1) * IR_scale"
   ]
  },
  {
   "cell_type": "markdown",
   "id": "c3d5a21b",
   "metadata": {
    "tags": [
     "hide-cell"
    ]
   },
   "source": [
    "### 红外光谱绘制"
   ]
  },
  {
   "cell_type": "code",
   "execution_count": 75,
   "id": "e302752e",
   "metadata": {
    "tags": [
     "hide-cell"
    ]
   },
   "outputs": [],
   "source": [
    "def lorentzian_freq(omega, omega_n, gamma):\n",
    "    return 100 * 0.5 / np.pi * gamma / ((omega - omega_n)**2 + 0.25 * gamma**2)"
   ]
  },
  {
   "cell_type": "code",
   "execution_count": 76,
   "id": "27d6f96a",
   "metadata": {
    "tags": [
     "hide-cell"
    ]
   },
   "outputs": [],
   "source": [
    "def ir_plot(omega, gamma, freq, ir):\n",
    "    val = 0\n",
    "    assert(len(freq) == len(ir))\n",
    "    for i in range(len(freq)):\n",
    "        val += lorentzian_freq(omega, freq[i], gamma) * ir[i]\n",
    "    return val"
   ]
  },
  {
   "cell_type": "code",
   "execution_count": 77,
   "id": "5a1a482d",
   "metadata": {
    "tags": [
     "hide-cell"
    ]
   },
   "outputs": [],
   "source": [
    "freq_anharm_gau = [4098.800, 3570.604, 3446.746, 3471.841, 2088.048, 1787.600, 1725.346, 1593.897, 1530.767, 1407.142, 1297.110, 1206.649, 1019.526, 878.962, 795.699, 185.138, 258.388, 69.977]\n",
    "IR_anharm_gau = [2.37219675, 1.54485433, 9.30810815, 7.71760501, 22.32308331, 0.91999625, 21.74763306, 0.33568248, 39.89748639, 0.34998748, 8.84110221, 1.90263087, 8.44102685, 0.12421802, 12.58976516, 36.74388344, 9.13647155, 24.14833335]"
   ]
  },
  {
   "cell_type": "code",
   "execution_count": 78,
   "id": "4f6ed397",
   "metadata": {
    "tags": [
     "hide-input"
    ]
   },
   "outputs": [
    {
     "data": {
      "application/javascript": [
       "/* Put everything inside the global mpl namespace */\n",
       "/* global mpl */\n",
       "window.mpl = {};\n",
       "\n",
       "mpl.get_websocket_type = function () {\n",
       "    if (typeof WebSocket !== 'undefined') {\n",
       "        return WebSocket;\n",
       "    } else if (typeof MozWebSocket !== 'undefined') {\n",
       "        return MozWebSocket;\n",
       "    } else {\n",
       "        alert(\n",
       "            'Your browser does not have WebSocket support. ' +\n",
       "                'Please try Chrome, Safari or Firefox ≥ 6. ' +\n",
       "                'Firefox 4 and 5 are also supported but you ' +\n",
       "                'have to enable WebSockets in about:config.'\n",
       "        );\n",
       "    }\n",
       "};\n",
       "\n",
       "mpl.figure = function (figure_id, websocket, ondownload, parent_element) {\n",
       "    this.id = figure_id;\n",
       "\n",
       "    this.ws = websocket;\n",
       "\n",
       "    this.supports_binary = this.ws.binaryType !== undefined;\n",
       "\n",
       "    if (!this.supports_binary) {\n",
       "        var warnings = document.getElementById('mpl-warnings');\n",
       "        if (warnings) {\n",
       "            warnings.style.display = 'block';\n",
       "            warnings.textContent =\n",
       "                'This browser does not support binary websocket messages. ' +\n",
       "                'Performance may be slow.';\n",
       "        }\n",
       "    }\n",
       "\n",
       "    this.imageObj = new Image();\n",
       "\n",
       "    this.context = undefined;\n",
       "    this.message = undefined;\n",
       "    this.canvas = undefined;\n",
       "    this.rubberband_canvas = undefined;\n",
       "    this.rubberband_context = undefined;\n",
       "    this.format_dropdown = undefined;\n",
       "\n",
       "    this.image_mode = 'full';\n",
       "\n",
       "    this.root = document.createElement('div');\n",
       "    this.root.setAttribute('style', 'display: inline-block');\n",
       "    this._root_extra_style(this.root);\n",
       "\n",
       "    parent_element.appendChild(this.root);\n",
       "\n",
       "    this._init_header(this);\n",
       "    this._init_canvas(this);\n",
       "    this._init_toolbar(this);\n",
       "\n",
       "    var fig = this;\n",
       "\n",
       "    this.waiting = false;\n",
       "\n",
       "    this.ws.onopen = function () {\n",
       "        fig.send_message('supports_binary', { value: fig.supports_binary });\n",
       "        fig.send_message('send_image_mode', {});\n",
       "        if (fig.ratio !== 1) {\n",
       "            fig.send_message('set_dpi_ratio', { dpi_ratio: fig.ratio });\n",
       "        }\n",
       "        fig.send_message('refresh', {});\n",
       "    };\n",
       "\n",
       "    this.imageObj.onload = function () {\n",
       "        if (fig.image_mode === 'full') {\n",
       "            // Full images could contain transparency (where diff images\n",
       "            // almost always do), so we need to clear the canvas so that\n",
       "            // there is no ghosting.\n",
       "            fig.context.clearRect(0, 0, fig.canvas.width, fig.canvas.height);\n",
       "        }\n",
       "        fig.context.drawImage(fig.imageObj, 0, 0);\n",
       "    };\n",
       "\n",
       "    this.imageObj.onunload = function () {\n",
       "        fig.ws.close();\n",
       "    };\n",
       "\n",
       "    this.ws.onmessage = this._make_on_message_function(this);\n",
       "\n",
       "    this.ondownload = ondownload;\n",
       "};\n",
       "\n",
       "mpl.figure.prototype._init_header = function () {\n",
       "    var titlebar = document.createElement('div');\n",
       "    titlebar.classList =\n",
       "        'ui-dialog-titlebar ui-widget-header ui-corner-all ui-helper-clearfix';\n",
       "    var titletext = document.createElement('div');\n",
       "    titletext.classList = 'ui-dialog-title';\n",
       "    titletext.setAttribute(\n",
       "        'style',\n",
       "        'width: 100%; text-align: center; padding: 3px;'\n",
       "    );\n",
       "    titlebar.appendChild(titletext);\n",
       "    this.root.appendChild(titlebar);\n",
       "    this.header = titletext;\n",
       "};\n",
       "\n",
       "mpl.figure.prototype._canvas_extra_style = function (_canvas_div) {};\n",
       "\n",
       "mpl.figure.prototype._root_extra_style = function (_canvas_div) {};\n",
       "\n",
       "mpl.figure.prototype._init_canvas = function () {\n",
       "    var fig = this;\n",
       "\n",
       "    var canvas_div = (this.canvas_div = document.createElement('div'));\n",
       "    canvas_div.setAttribute(\n",
       "        'style',\n",
       "        'border: 1px solid #ddd;' +\n",
       "            'box-sizing: content-box;' +\n",
       "            'clear: both;' +\n",
       "            'min-height: 1px;' +\n",
       "            'min-width: 1px;' +\n",
       "            'outline: 0;' +\n",
       "            'overflow: hidden;' +\n",
       "            'position: relative;' +\n",
       "            'resize: both;'\n",
       "    );\n",
       "\n",
       "    function on_keyboard_event_closure(name) {\n",
       "        return function (event) {\n",
       "            return fig.key_event(event, name);\n",
       "        };\n",
       "    }\n",
       "\n",
       "    canvas_div.addEventListener(\n",
       "        'keydown',\n",
       "        on_keyboard_event_closure('key_press')\n",
       "    );\n",
       "    canvas_div.addEventListener(\n",
       "        'keyup',\n",
       "        on_keyboard_event_closure('key_release')\n",
       "    );\n",
       "\n",
       "    this._canvas_extra_style(canvas_div);\n",
       "    this.root.appendChild(canvas_div);\n",
       "\n",
       "    var canvas = (this.canvas = document.createElement('canvas'));\n",
       "    canvas.classList.add('mpl-canvas');\n",
       "    canvas.setAttribute('style', 'box-sizing: content-box;');\n",
       "\n",
       "    this.context = canvas.getContext('2d');\n",
       "\n",
       "    var backingStore =\n",
       "        this.context.backingStorePixelRatio ||\n",
       "        this.context.webkitBackingStorePixelRatio ||\n",
       "        this.context.mozBackingStorePixelRatio ||\n",
       "        this.context.msBackingStorePixelRatio ||\n",
       "        this.context.oBackingStorePixelRatio ||\n",
       "        this.context.backingStorePixelRatio ||\n",
       "        1;\n",
       "\n",
       "    this.ratio = (window.devicePixelRatio || 1) / backingStore;\n",
       "\n",
       "    var rubberband_canvas = (this.rubberband_canvas = document.createElement(\n",
       "        'canvas'\n",
       "    ));\n",
       "    rubberband_canvas.setAttribute(\n",
       "        'style',\n",
       "        'box-sizing: content-box; position: absolute; left: 0; top: 0; z-index: 1;'\n",
       "    );\n",
       "\n",
       "    // Apply a ponyfill if ResizeObserver is not implemented by browser.\n",
       "    if (this.ResizeObserver === undefined) {\n",
       "        if (window.ResizeObserver !== undefined) {\n",
       "            this.ResizeObserver = window.ResizeObserver;\n",
       "        } else {\n",
       "            var obs = _JSXTOOLS_RESIZE_OBSERVER({});\n",
       "            this.ResizeObserver = obs.ResizeObserver;\n",
       "        }\n",
       "    }\n",
       "\n",
       "    this.resizeObserverInstance = new this.ResizeObserver(function (entries) {\n",
       "        var nentries = entries.length;\n",
       "        for (var i = 0; i < nentries; i++) {\n",
       "            var entry = entries[i];\n",
       "            var width, height;\n",
       "            if (entry.contentBoxSize) {\n",
       "                if (entry.contentBoxSize instanceof Array) {\n",
       "                    // Chrome 84 implements new version of spec.\n",
       "                    width = entry.contentBoxSize[0].inlineSize;\n",
       "                    height = entry.contentBoxSize[0].blockSize;\n",
       "                } else {\n",
       "                    // Firefox implements old version of spec.\n",
       "                    width = entry.contentBoxSize.inlineSize;\n",
       "                    height = entry.contentBoxSize.blockSize;\n",
       "                }\n",
       "            } else {\n",
       "                // Chrome <84 implements even older version of spec.\n",
       "                width = entry.contentRect.width;\n",
       "                height = entry.contentRect.height;\n",
       "            }\n",
       "\n",
       "            // Keep the size of the canvas and rubber band canvas in sync with\n",
       "            // the canvas container.\n",
       "            if (entry.devicePixelContentBoxSize) {\n",
       "                // Chrome 84 implements new version of spec.\n",
       "                canvas.setAttribute(\n",
       "                    'width',\n",
       "                    entry.devicePixelContentBoxSize[0].inlineSize\n",
       "                );\n",
       "                canvas.setAttribute(\n",
       "                    'height',\n",
       "                    entry.devicePixelContentBoxSize[0].blockSize\n",
       "                );\n",
       "            } else {\n",
       "                canvas.setAttribute('width', width * fig.ratio);\n",
       "                canvas.setAttribute('height', height * fig.ratio);\n",
       "            }\n",
       "            canvas.setAttribute(\n",
       "                'style',\n",
       "                'width: ' + width + 'px; height: ' + height + 'px;'\n",
       "            );\n",
       "\n",
       "            rubberband_canvas.setAttribute('width', width);\n",
       "            rubberband_canvas.setAttribute('height', height);\n",
       "\n",
       "            // And update the size in Python. We ignore the initial 0/0 size\n",
       "            // that occurs as the element is placed into the DOM, which should\n",
       "            // otherwise not happen due to the minimum size styling.\n",
       "            if (fig.ws.readyState == 1 && width != 0 && height != 0) {\n",
       "                fig.request_resize(width, height);\n",
       "            }\n",
       "        }\n",
       "    });\n",
       "    this.resizeObserverInstance.observe(canvas_div);\n",
       "\n",
       "    function on_mouse_event_closure(name) {\n",
       "        return function (event) {\n",
       "            return fig.mouse_event(event, name);\n",
       "        };\n",
       "    }\n",
       "\n",
       "    rubberband_canvas.addEventListener(\n",
       "        'mousedown',\n",
       "        on_mouse_event_closure('button_press')\n",
       "    );\n",
       "    rubberband_canvas.addEventListener(\n",
       "        'mouseup',\n",
       "        on_mouse_event_closure('button_release')\n",
       "    );\n",
       "    // Throttle sequential mouse events to 1 every 20ms.\n",
       "    rubberband_canvas.addEventListener(\n",
       "        'mousemove',\n",
       "        on_mouse_event_closure('motion_notify')\n",
       "    );\n",
       "\n",
       "    rubberband_canvas.addEventListener(\n",
       "        'mouseenter',\n",
       "        on_mouse_event_closure('figure_enter')\n",
       "    );\n",
       "    rubberband_canvas.addEventListener(\n",
       "        'mouseleave',\n",
       "        on_mouse_event_closure('figure_leave')\n",
       "    );\n",
       "\n",
       "    canvas_div.addEventListener('wheel', function (event) {\n",
       "        if (event.deltaY < 0) {\n",
       "            event.step = 1;\n",
       "        } else {\n",
       "            event.step = -1;\n",
       "        }\n",
       "        on_mouse_event_closure('scroll')(event);\n",
       "    });\n",
       "\n",
       "    canvas_div.appendChild(canvas);\n",
       "    canvas_div.appendChild(rubberband_canvas);\n",
       "\n",
       "    this.rubberband_context = rubberband_canvas.getContext('2d');\n",
       "    this.rubberband_context.strokeStyle = '#000000';\n",
       "\n",
       "    this._resize_canvas = function (width, height, forward) {\n",
       "        if (forward) {\n",
       "            canvas_div.style.width = width + 'px';\n",
       "            canvas_div.style.height = height + 'px';\n",
       "        }\n",
       "    };\n",
       "\n",
       "    // Disable right mouse context menu.\n",
       "    this.rubberband_canvas.addEventListener('contextmenu', function (_e) {\n",
       "        event.preventDefault();\n",
       "        return false;\n",
       "    });\n",
       "\n",
       "    function set_focus() {\n",
       "        canvas.focus();\n",
       "        canvas_div.focus();\n",
       "    }\n",
       "\n",
       "    window.setTimeout(set_focus, 100);\n",
       "};\n",
       "\n",
       "mpl.figure.prototype._init_toolbar = function () {\n",
       "    var fig = this;\n",
       "\n",
       "    var toolbar = document.createElement('div');\n",
       "    toolbar.classList = 'mpl-toolbar';\n",
       "    this.root.appendChild(toolbar);\n",
       "\n",
       "    function on_click_closure(name) {\n",
       "        return function (_event) {\n",
       "            return fig.toolbar_button_onclick(name);\n",
       "        };\n",
       "    }\n",
       "\n",
       "    function on_mouseover_closure(tooltip) {\n",
       "        return function (event) {\n",
       "            if (!event.currentTarget.disabled) {\n",
       "                return fig.toolbar_button_onmouseover(tooltip);\n",
       "            }\n",
       "        };\n",
       "    }\n",
       "\n",
       "    fig.buttons = {};\n",
       "    var buttonGroup = document.createElement('div');\n",
       "    buttonGroup.classList = 'mpl-button-group';\n",
       "    for (var toolbar_ind in mpl.toolbar_items) {\n",
       "        var name = mpl.toolbar_items[toolbar_ind][0];\n",
       "        var tooltip = mpl.toolbar_items[toolbar_ind][1];\n",
       "        var image = mpl.toolbar_items[toolbar_ind][2];\n",
       "        var method_name = mpl.toolbar_items[toolbar_ind][3];\n",
       "\n",
       "        if (!name) {\n",
       "            /* Instead of a spacer, we start a new button group. */\n",
       "            if (buttonGroup.hasChildNodes()) {\n",
       "                toolbar.appendChild(buttonGroup);\n",
       "            }\n",
       "            buttonGroup = document.createElement('div');\n",
       "            buttonGroup.classList = 'mpl-button-group';\n",
       "            continue;\n",
       "        }\n",
       "\n",
       "        var button = (fig.buttons[name] = document.createElement('button'));\n",
       "        button.classList = 'mpl-widget';\n",
       "        button.setAttribute('role', 'button');\n",
       "        button.setAttribute('aria-disabled', 'false');\n",
       "        button.addEventListener('click', on_click_closure(method_name));\n",
       "        button.addEventListener('mouseover', on_mouseover_closure(tooltip));\n",
       "\n",
       "        var icon_img = document.createElement('img');\n",
       "        icon_img.src = '_images/' + image + '.png';\n",
       "        icon_img.srcset = '_images/' + image + '_large.png 2x';\n",
       "        icon_img.alt = tooltip;\n",
       "        button.appendChild(icon_img);\n",
       "\n",
       "        buttonGroup.appendChild(button);\n",
       "    }\n",
       "\n",
       "    if (buttonGroup.hasChildNodes()) {\n",
       "        toolbar.appendChild(buttonGroup);\n",
       "    }\n",
       "\n",
       "    var fmt_picker = document.createElement('select');\n",
       "    fmt_picker.classList = 'mpl-widget';\n",
       "    toolbar.appendChild(fmt_picker);\n",
       "    this.format_dropdown = fmt_picker;\n",
       "\n",
       "    for (var ind in mpl.extensions) {\n",
       "        var fmt = mpl.extensions[ind];\n",
       "        var option = document.createElement('option');\n",
       "        option.selected = fmt === mpl.default_extension;\n",
       "        option.innerHTML = fmt;\n",
       "        fmt_picker.appendChild(option);\n",
       "    }\n",
       "\n",
       "    var status_bar = document.createElement('span');\n",
       "    status_bar.classList = 'mpl-message';\n",
       "    toolbar.appendChild(status_bar);\n",
       "    this.message = status_bar;\n",
       "};\n",
       "\n",
       "mpl.figure.prototype.request_resize = function (x_pixels, y_pixels) {\n",
       "    // Request matplotlib to resize the figure. Matplotlib will then trigger a resize in the client,\n",
       "    // which will in turn request a refresh of the image.\n",
       "    this.send_message('resize', { width: x_pixels, height: y_pixels });\n",
       "};\n",
       "\n",
       "mpl.figure.prototype.send_message = function (type, properties) {\n",
       "    properties['type'] = type;\n",
       "    properties['figure_id'] = this.id;\n",
       "    this.ws.send(JSON.stringify(properties));\n",
       "};\n",
       "\n",
       "mpl.figure.prototype.send_draw_message = function () {\n",
       "    if (!this.waiting) {\n",
       "        this.waiting = true;\n",
       "        this.ws.send(JSON.stringify({ type: 'draw', figure_id: this.id }));\n",
       "    }\n",
       "};\n",
       "\n",
       "mpl.figure.prototype.handle_save = function (fig, _msg) {\n",
       "    var format_dropdown = fig.format_dropdown;\n",
       "    var format = format_dropdown.options[format_dropdown.selectedIndex].value;\n",
       "    fig.ondownload(fig, format);\n",
       "};\n",
       "\n",
       "mpl.figure.prototype.handle_resize = function (fig, msg) {\n",
       "    var size = msg['size'];\n",
       "    if (size[0] !== fig.canvas.width || size[1] !== fig.canvas.height) {\n",
       "        fig._resize_canvas(size[0], size[1], msg['forward']);\n",
       "        fig.send_message('refresh', {});\n",
       "    }\n",
       "};\n",
       "\n",
       "mpl.figure.prototype.handle_rubberband = function (fig, msg) {\n",
       "    var x0 = msg['x0'] / fig.ratio;\n",
       "    var y0 = (fig.canvas.height - msg['y0']) / fig.ratio;\n",
       "    var x1 = msg['x1'] / fig.ratio;\n",
       "    var y1 = (fig.canvas.height - msg['y1']) / fig.ratio;\n",
       "    x0 = Math.floor(x0) + 0.5;\n",
       "    y0 = Math.floor(y0) + 0.5;\n",
       "    x1 = Math.floor(x1) + 0.5;\n",
       "    y1 = Math.floor(y1) + 0.5;\n",
       "    var min_x = Math.min(x0, x1);\n",
       "    var min_y = Math.min(y0, y1);\n",
       "    var width = Math.abs(x1 - x0);\n",
       "    var height = Math.abs(y1 - y0);\n",
       "\n",
       "    fig.rubberband_context.clearRect(\n",
       "        0,\n",
       "        0,\n",
       "        fig.canvas.width / fig.ratio,\n",
       "        fig.canvas.height / fig.ratio\n",
       "    );\n",
       "\n",
       "    fig.rubberband_context.strokeRect(min_x, min_y, width, height);\n",
       "};\n",
       "\n",
       "mpl.figure.prototype.handle_figure_label = function (fig, msg) {\n",
       "    // Updates the figure title.\n",
       "    fig.header.textContent = msg['label'];\n",
       "};\n",
       "\n",
       "mpl.figure.prototype.handle_cursor = function (fig, msg) {\n",
       "    var cursor = msg['cursor'];\n",
       "    switch (cursor) {\n",
       "        case 0:\n",
       "            cursor = 'pointer';\n",
       "            break;\n",
       "        case 1:\n",
       "            cursor = 'default';\n",
       "            break;\n",
       "        case 2:\n",
       "            cursor = 'crosshair';\n",
       "            break;\n",
       "        case 3:\n",
       "            cursor = 'move';\n",
       "            break;\n",
       "    }\n",
       "    fig.rubberband_canvas.style.cursor = cursor;\n",
       "};\n",
       "\n",
       "mpl.figure.prototype.handle_message = function (fig, msg) {\n",
       "    fig.message.textContent = msg['message'];\n",
       "};\n",
       "\n",
       "mpl.figure.prototype.handle_draw = function (fig, _msg) {\n",
       "    // Request the server to send over a new figure.\n",
       "    fig.send_draw_message();\n",
       "};\n",
       "\n",
       "mpl.figure.prototype.handle_image_mode = function (fig, msg) {\n",
       "    fig.image_mode = msg['mode'];\n",
       "};\n",
       "\n",
       "mpl.figure.prototype.handle_history_buttons = function (fig, msg) {\n",
       "    for (var key in msg) {\n",
       "        if (!(key in fig.buttons)) {\n",
       "            continue;\n",
       "        }\n",
       "        fig.buttons[key].disabled = !msg[key];\n",
       "        fig.buttons[key].setAttribute('aria-disabled', !msg[key]);\n",
       "    }\n",
       "};\n",
       "\n",
       "mpl.figure.prototype.handle_navigate_mode = function (fig, msg) {\n",
       "    if (msg['mode'] === 'PAN') {\n",
       "        fig.buttons['Pan'].classList.add('active');\n",
       "        fig.buttons['Zoom'].classList.remove('active');\n",
       "    } else if (msg['mode'] === 'ZOOM') {\n",
       "        fig.buttons['Pan'].classList.remove('active');\n",
       "        fig.buttons['Zoom'].classList.add('active');\n",
       "    } else {\n",
       "        fig.buttons['Pan'].classList.remove('active');\n",
       "        fig.buttons['Zoom'].classList.remove('active');\n",
       "    }\n",
       "};\n",
       "\n",
       "mpl.figure.prototype.updated_canvas_event = function () {\n",
       "    // Called whenever the canvas gets updated.\n",
       "    this.send_message('ack', {});\n",
       "};\n",
       "\n",
       "// A function to construct a web socket function for onmessage handling.\n",
       "// Called in the figure constructor.\n",
       "mpl.figure.prototype._make_on_message_function = function (fig) {\n",
       "    return function socket_on_message(evt) {\n",
       "        if (evt.data instanceof Blob) {\n",
       "            /* FIXME: We get \"Resource interpreted as Image but\n",
       "             * transferred with MIME type text/plain:\" errors on\n",
       "             * Chrome.  But how to set the MIME type?  It doesn't seem\n",
       "             * to be part of the websocket stream */\n",
       "            evt.data.type = 'image/png';\n",
       "\n",
       "            /* Free the memory for the previous frames */\n",
       "            if (fig.imageObj.src) {\n",
       "                (window.URL || window.webkitURL).revokeObjectURL(\n",
       "                    fig.imageObj.src\n",
       "                );\n",
       "            }\n",
       "\n",
       "            fig.imageObj.src = (window.URL || window.webkitURL).createObjectURL(\n",
       "                evt.data\n",
       "            );\n",
       "            fig.updated_canvas_event();\n",
       "            fig.waiting = false;\n",
       "            return;\n",
       "        } else if (\n",
       "            typeof evt.data === 'string' &&\n",
       "            evt.data.slice(0, 21) === 'data:image/png;base64'\n",
       "        ) {\n",
       "            fig.imageObj.src = evt.data;\n",
       "            fig.updated_canvas_event();\n",
       "            fig.waiting = false;\n",
       "            return;\n",
       "        }\n",
       "\n",
       "        var msg = JSON.parse(evt.data);\n",
       "        var msg_type = msg['type'];\n",
       "\n",
       "        // Call the  \"handle_{type}\" callback, which takes\n",
       "        // the figure and JSON message as its only arguments.\n",
       "        try {\n",
       "            var callback = fig['handle_' + msg_type];\n",
       "        } catch (e) {\n",
       "            console.log(\n",
       "                \"No handler for the '\" + msg_type + \"' message type: \",\n",
       "                msg\n",
       "            );\n",
       "            return;\n",
       "        }\n",
       "\n",
       "        if (callback) {\n",
       "            try {\n",
       "                // console.log(\"Handling '\" + msg_type + \"' message: \", msg);\n",
       "                callback(fig, msg);\n",
       "            } catch (e) {\n",
       "                console.log(\n",
       "                    \"Exception inside the 'handler_\" + msg_type + \"' callback:\",\n",
       "                    e,\n",
       "                    e.stack,\n",
       "                    msg\n",
       "                );\n",
       "            }\n",
       "        }\n",
       "    };\n",
       "};\n",
       "\n",
       "// from http://stackoverflow.com/questions/1114465/getting-mouse-location-in-canvas\n",
       "mpl.findpos = function (e) {\n",
       "    //this section is from http://www.quirksmode.org/js/events_properties.html\n",
       "    var targ;\n",
       "    if (!e) {\n",
       "        e = window.event;\n",
       "    }\n",
       "    if (e.target) {\n",
       "        targ = e.target;\n",
       "    } else if (e.srcElement) {\n",
       "        targ = e.srcElement;\n",
       "    }\n",
       "    if (targ.nodeType === 3) {\n",
       "        // defeat Safari bug\n",
       "        targ = targ.parentNode;\n",
       "    }\n",
       "\n",
       "    // pageX,Y are the mouse positions relative to the document\n",
       "    var boundingRect = targ.getBoundingClientRect();\n",
       "    var x = e.pageX - (boundingRect.left + document.body.scrollLeft);\n",
       "    var y = e.pageY - (boundingRect.top + document.body.scrollTop);\n",
       "\n",
       "    return { x: x, y: y };\n",
       "};\n",
       "\n",
       "/*\n",
       " * return a copy of an object with only non-object keys\n",
       " * we need this to avoid circular references\n",
       " * http://stackoverflow.com/a/24161582/3208463\n",
       " */\n",
       "function simpleKeys(original) {\n",
       "    return Object.keys(original).reduce(function (obj, key) {\n",
       "        if (typeof original[key] !== 'object') {\n",
       "            obj[key] = original[key];\n",
       "        }\n",
       "        return obj;\n",
       "    }, {});\n",
       "}\n",
       "\n",
       "mpl.figure.prototype.mouse_event = function (event, name) {\n",
       "    var canvas_pos = mpl.findpos(event);\n",
       "\n",
       "    if (name === 'button_press') {\n",
       "        this.canvas.focus();\n",
       "        this.canvas_div.focus();\n",
       "    }\n",
       "\n",
       "    var x = canvas_pos.x * this.ratio;\n",
       "    var y = canvas_pos.y * this.ratio;\n",
       "\n",
       "    this.send_message(name, {\n",
       "        x: x,\n",
       "        y: y,\n",
       "        button: event.button,\n",
       "        step: event.step,\n",
       "        guiEvent: simpleKeys(event),\n",
       "    });\n",
       "\n",
       "    /* This prevents the web browser from automatically changing to\n",
       "     * the text insertion cursor when the button is pressed.  We want\n",
       "     * to control all of the cursor setting manually through the\n",
       "     * 'cursor' event from matplotlib */\n",
       "    event.preventDefault();\n",
       "    return false;\n",
       "};\n",
       "\n",
       "mpl.figure.prototype._key_event_extra = function (_event, _name) {\n",
       "    // Handle any extra behaviour associated with a key event\n",
       "};\n",
       "\n",
       "mpl.figure.prototype.key_event = function (event, name) {\n",
       "    // Prevent repeat events\n",
       "    if (name === 'key_press') {\n",
       "        if (event.which === this._key) {\n",
       "            return;\n",
       "        } else {\n",
       "            this._key = event.which;\n",
       "        }\n",
       "    }\n",
       "    if (name === 'key_release') {\n",
       "        this._key = null;\n",
       "    }\n",
       "\n",
       "    var value = '';\n",
       "    if (event.ctrlKey && event.which !== 17) {\n",
       "        value += 'ctrl+';\n",
       "    }\n",
       "    if (event.altKey && event.which !== 18) {\n",
       "        value += 'alt+';\n",
       "    }\n",
       "    if (event.shiftKey && event.which !== 16) {\n",
       "        value += 'shift+';\n",
       "    }\n",
       "\n",
       "    value += 'k';\n",
       "    value += event.which.toString();\n",
       "\n",
       "    this._key_event_extra(event, name);\n",
       "\n",
       "    this.send_message(name, { key: value, guiEvent: simpleKeys(event) });\n",
       "    return false;\n",
       "};\n",
       "\n",
       "mpl.figure.prototype.toolbar_button_onclick = function (name) {\n",
       "    if (name === 'download') {\n",
       "        this.handle_save(this, null);\n",
       "    } else {\n",
       "        this.send_message('toolbar_button', { name: name });\n",
       "    }\n",
       "};\n",
       "\n",
       "mpl.figure.prototype.toolbar_button_onmouseover = function (tooltip) {\n",
       "    this.message.textContent = tooltip;\n",
       "};\n",
       "\n",
       "///////////////// REMAINING CONTENT GENERATED BY embed_js.py /////////////////\n",
       "// prettier-ignore\n",
       "var _JSXTOOLS_RESIZE_OBSERVER=function(A){var t,i=new WeakMap,n=new WeakMap,a=new WeakMap,r=new WeakMap,o=new Set;function s(e){if(!(this instanceof s))throw new TypeError(\"Constructor requires 'new' operator\");i.set(this,e)}function h(){throw new TypeError(\"Function is not a constructor\")}function c(e,t,i,n){e=0 in arguments?Number(arguments[0]):0,t=1 in arguments?Number(arguments[1]):0,i=2 in arguments?Number(arguments[2]):0,n=3 in arguments?Number(arguments[3]):0,this.right=(this.x=this.left=e)+(this.width=i),this.bottom=(this.y=this.top=t)+(this.height=n),Object.freeze(this)}function d(){t=requestAnimationFrame(d);var s=new WeakMap,p=new Set;o.forEach((function(t){r.get(t).forEach((function(i){var r=t instanceof window.SVGElement,o=a.get(t),d=r?0:parseFloat(o.paddingTop),f=r?0:parseFloat(o.paddingRight),l=r?0:parseFloat(o.paddingBottom),u=r?0:parseFloat(o.paddingLeft),g=r?0:parseFloat(o.borderTopWidth),m=r?0:parseFloat(o.borderRightWidth),w=r?0:parseFloat(o.borderBottomWidth),b=u+f,F=d+l,v=(r?0:parseFloat(o.borderLeftWidth))+m,W=g+w,y=r?0:t.offsetHeight-W-t.clientHeight,E=r?0:t.offsetWidth-v-t.clientWidth,R=b+v,z=F+W,M=r?t.width:parseFloat(o.width)-R-E,O=r?t.height:parseFloat(o.height)-z-y;if(n.has(t)){var k=n.get(t);if(k[0]===M&&k[1]===O)return}n.set(t,[M,O]);var S=Object.create(h.prototype);S.target=t,S.contentRect=new c(u,d,M,O),s.has(i)||(s.set(i,[]),p.add(i)),s.get(i).push(S)}))})),p.forEach((function(e){i.get(e).call(e,s.get(e),e)}))}return s.prototype.observe=function(i){if(i instanceof window.Element){r.has(i)||(r.set(i,new Set),o.add(i),a.set(i,window.getComputedStyle(i)));var n=r.get(i);n.has(this)||n.add(this),cancelAnimationFrame(t),t=requestAnimationFrame(d)}},s.prototype.unobserve=function(i){if(i instanceof window.Element&&r.has(i)){var n=r.get(i);n.has(this)&&(n.delete(this),n.size||(r.delete(i),o.delete(i))),n.size||r.delete(i),o.size||cancelAnimationFrame(t)}},A.DOMRectReadOnly=c,A.ResizeObserver=s,A.ResizeObserverEntry=h,A}; // eslint-disable-line\n",
       "mpl.toolbar_items = [[\"Home\", \"Reset original view\", \"fa fa-home icon-home\", \"home\"], [\"Back\", \"Back to previous view\", \"fa fa-arrow-left icon-arrow-left\", \"back\"], [\"Forward\", \"Forward to next view\", \"fa fa-arrow-right icon-arrow-right\", \"forward\"], [\"\", \"\", \"\", \"\"], [\"Pan\", \"Left button pans, Right button zooms\\nx/y fixes axis, CTRL fixes aspect\", \"fa fa-arrows icon-move\", \"pan\"], [\"Zoom\", \"Zoom to rectangle\\nx/y fixes axis, CTRL fixes aspect\", \"fa fa-square-o icon-check-empty\", \"zoom\"], [\"\", \"\", \"\", \"\"], [\"Download\", \"Download plot\", \"fa fa-floppy-o icon-save\", \"download\"]];\n",
       "\n",
       "mpl.extensions = [\"eps\", \"jpeg\", \"pdf\", \"png\", \"ps\", \"raw\", \"svg\", \"tif\"];\n",
       "\n",
       "mpl.default_extension = \"png\";/* global mpl */\n",
       "\n",
       "var comm_websocket_adapter = function (comm) {\n",
       "    // Create a \"websocket\"-like object which calls the given IPython comm\n",
       "    // object with the appropriate methods. Currently this is a non binary\n",
       "    // socket, so there is still some room for performance tuning.\n",
       "    var ws = {};\n",
       "\n",
       "    ws.close = function () {\n",
       "        comm.close();\n",
       "    };\n",
       "    ws.send = function (m) {\n",
       "        //console.log('sending', m);\n",
       "        comm.send(m);\n",
       "    };\n",
       "    // Register the callback with on_msg.\n",
       "    comm.on_msg(function (msg) {\n",
       "        //console.log('receiving', msg['content']['data'], msg);\n",
       "        // Pass the mpl event to the overridden (by mpl) onmessage function.\n",
       "        ws.onmessage(msg['content']['data']);\n",
       "    });\n",
       "    return ws;\n",
       "};\n",
       "\n",
       "mpl.mpl_figure_comm = function (comm, msg) {\n",
       "    // This is the function which gets called when the mpl process\n",
       "    // starts-up an IPython Comm through the \"matplotlib\" channel.\n",
       "\n",
       "    var id = msg.content.data.id;\n",
       "    // Get hold of the div created by the display call when the Comm\n",
       "    // socket was opened in Python.\n",
       "    var element = document.getElementById(id);\n",
       "    var ws_proxy = comm_websocket_adapter(comm);\n",
       "\n",
       "    function ondownload(figure, _format) {\n",
       "        window.open(figure.canvas.toDataURL());\n",
       "    }\n",
       "\n",
       "    var fig = new mpl.figure(id, ws_proxy, ondownload, element);\n",
       "\n",
       "    // Call onopen now - mpl needs it, as it is assuming we've passed it a real\n",
       "    // web socket which is closed, not our websocket->open comm proxy.\n",
       "    ws_proxy.onopen();\n",
       "\n",
       "    fig.parent_element = element;\n",
       "    fig.cell_info = mpl.find_output_cell(\"<div id='\" + id + \"'></div>\");\n",
       "    if (!fig.cell_info) {\n",
       "        console.error('Failed to find cell for figure', id, fig);\n",
       "        return;\n",
       "    }\n",
       "    fig.cell_info[0].output_area.element.on(\n",
       "        'cleared',\n",
       "        { fig: fig },\n",
       "        fig._remove_fig_handler\n",
       "    );\n",
       "};\n",
       "\n",
       "mpl.figure.prototype.handle_close = function (fig, msg) {\n",
       "    var width = fig.canvas.width / fig.ratio;\n",
       "    fig.cell_info[0].output_area.element.off(\n",
       "        'cleared',\n",
       "        fig._remove_fig_handler\n",
       "    );\n",
       "    fig.resizeObserverInstance.unobserve(fig.canvas_div);\n",
       "\n",
       "    // Update the output cell to use the data from the current canvas.\n",
       "    fig.push_to_output();\n",
       "    var dataURL = fig.canvas.toDataURL();\n",
       "    // Re-enable the keyboard manager in IPython - without this line, in FF,\n",
       "    // the notebook keyboard shortcuts fail.\n",
       "    IPython.keyboard_manager.enable();\n",
       "    fig.parent_element.innerHTML =\n",
       "        '<img src=\"' + dataURL + '\" width=\"' + width + '\">';\n",
       "    fig.close_ws(fig, msg);\n",
       "};\n",
       "\n",
       "mpl.figure.prototype.close_ws = function (fig, msg) {\n",
       "    fig.send_message('closing', msg);\n",
       "    // fig.ws.close()\n",
       "};\n",
       "\n",
       "mpl.figure.prototype.push_to_output = function (_remove_interactive) {\n",
       "    // Turn the data on the canvas into data in the output cell.\n",
       "    var width = this.canvas.width / this.ratio;\n",
       "    var dataURL = this.canvas.toDataURL();\n",
       "    this.cell_info[1]['text/html'] =\n",
       "        '<img src=\"' + dataURL + '\" width=\"' + width + '\">';\n",
       "};\n",
       "\n",
       "mpl.figure.prototype.updated_canvas_event = function () {\n",
       "    // Tell IPython that the notebook contents must change.\n",
       "    IPython.notebook.set_dirty(true);\n",
       "    this.send_message('ack', {});\n",
       "    var fig = this;\n",
       "    // Wait a second, then push the new image to the DOM so\n",
       "    // that it is saved nicely (might be nice to debounce this).\n",
       "    setTimeout(function () {\n",
       "        fig.push_to_output();\n",
       "    }, 1000);\n",
       "};\n",
       "\n",
       "mpl.figure.prototype._init_toolbar = function () {\n",
       "    var fig = this;\n",
       "\n",
       "    var toolbar = document.createElement('div');\n",
       "    toolbar.classList = 'btn-toolbar';\n",
       "    this.root.appendChild(toolbar);\n",
       "\n",
       "    function on_click_closure(name) {\n",
       "        return function (_event) {\n",
       "            return fig.toolbar_button_onclick(name);\n",
       "        };\n",
       "    }\n",
       "\n",
       "    function on_mouseover_closure(tooltip) {\n",
       "        return function (event) {\n",
       "            if (!event.currentTarget.disabled) {\n",
       "                return fig.toolbar_button_onmouseover(tooltip);\n",
       "            }\n",
       "        };\n",
       "    }\n",
       "\n",
       "    fig.buttons = {};\n",
       "    var buttonGroup = document.createElement('div');\n",
       "    buttonGroup.classList = 'btn-group';\n",
       "    var button;\n",
       "    for (var toolbar_ind in mpl.toolbar_items) {\n",
       "        var name = mpl.toolbar_items[toolbar_ind][0];\n",
       "        var tooltip = mpl.toolbar_items[toolbar_ind][1];\n",
       "        var image = mpl.toolbar_items[toolbar_ind][2];\n",
       "        var method_name = mpl.toolbar_items[toolbar_ind][3];\n",
       "\n",
       "        if (!name) {\n",
       "            /* Instead of a spacer, we start a new button group. */\n",
       "            if (buttonGroup.hasChildNodes()) {\n",
       "                toolbar.appendChild(buttonGroup);\n",
       "            }\n",
       "            buttonGroup = document.createElement('div');\n",
       "            buttonGroup.classList = 'btn-group';\n",
       "            continue;\n",
       "        }\n",
       "\n",
       "        button = fig.buttons[name] = document.createElement('button');\n",
       "        button.classList = 'btn btn-default';\n",
       "        button.href = '#';\n",
       "        button.title = name;\n",
       "        button.innerHTML = '<i class=\"fa ' + image + ' fa-lg\"></i>';\n",
       "        button.addEventListener('click', on_click_closure(method_name));\n",
       "        button.addEventListener('mouseover', on_mouseover_closure(tooltip));\n",
       "        buttonGroup.appendChild(button);\n",
       "    }\n",
       "\n",
       "    if (buttonGroup.hasChildNodes()) {\n",
       "        toolbar.appendChild(buttonGroup);\n",
       "    }\n",
       "\n",
       "    // Add the status bar.\n",
       "    var status_bar = document.createElement('span');\n",
       "    status_bar.classList = 'mpl-message pull-right';\n",
       "    toolbar.appendChild(status_bar);\n",
       "    this.message = status_bar;\n",
       "\n",
       "    // Add the close button to the window.\n",
       "    var buttongrp = document.createElement('div');\n",
       "    buttongrp.classList = 'btn-group inline pull-right';\n",
       "    button = document.createElement('button');\n",
       "    button.classList = 'btn btn-mini btn-primary';\n",
       "    button.href = '#';\n",
       "    button.title = 'Stop Interaction';\n",
       "    button.innerHTML = '<i class=\"fa fa-power-off icon-remove icon-large\"></i>';\n",
       "    button.addEventListener('click', function (_evt) {\n",
       "        fig.handle_close(fig, {});\n",
       "    });\n",
       "    button.addEventListener(\n",
       "        'mouseover',\n",
       "        on_mouseover_closure('Stop Interaction')\n",
       "    );\n",
       "    buttongrp.appendChild(button);\n",
       "    var titlebar = this.root.querySelector('.ui-dialog-titlebar');\n",
       "    titlebar.insertBefore(buttongrp, titlebar.firstChild);\n",
       "};\n",
       "\n",
       "mpl.figure.prototype._remove_fig_handler = function (event) {\n",
       "    var fig = event.data.fig;\n",
       "    if (event.target !== this) {\n",
       "        // Ignore bubbled events from children.\n",
       "        return;\n",
       "    }\n",
       "    fig.close_ws(fig, {});\n",
       "};\n",
       "\n",
       "mpl.figure.prototype._root_extra_style = function (el) {\n",
       "    el.style.boxSizing = 'content-box'; // override notebook setting of border-box.\n",
       "};\n",
       "\n",
       "mpl.figure.prototype._canvas_extra_style = function (el) {\n",
       "    // this is important to make the div 'focusable\n",
       "    el.setAttribute('tabindex', 0);\n",
       "    // reach out to IPython and tell the keyboard manager to turn it's self\n",
       "    // off when our div gets focus\n",
       "\n",
       "    // location in version 3\n",
       "    if (IPython.notebook.keyboard_manager) {\n",
       "        IPython.notebook.keyboard_manager.register_events(el);\n",
       "    } else {\n",
       "        // location in version 2\n",
       "        IPython.keyboard_manager.register_events(el);\n",
       "    }\n",
       "};\n",
       "\n",
       "mpl.figure.prototype._key_event_extra = function (event, _name) {\n",
       "    var manager = IPython.notebook.keyboard_manager;\n",
       "    if (!manager) {\n",
       "        manager = IPython.keyboard_manager;\n",
       "    }\n",
       "\n",
       "    // Check for shift+enter\n",
       "    if (event.shiftKey && event.which === 13) {\n",
       "        this.canvas_div.blur();\n",
       "        // select the cell after this one\n",
       "        var index = IPython.notebook.find_cell_index(this.cell_info[0]);\n",
       "        IPython.notebook.select(index + 1);\n",
       "    }\n",
       "};\n",
       "\n",
       "mpl.figure.prototype.handle_save = function (fig, _msg) {\n",
       "    fig.ondownload(fig, null);\n",
       "};\n",
       "\n",
       "mpl.find_output_cell = function (html_output) {\n",
       "    // Return the cell and output element which can be found *uniquely* in the notebook.\n",
       "    // Note - this is a bit hacky, but it is done because the \"notebook_saving.Notebook\"\n",
       "    // IPython event is triggered only after the cells have been serialised, which for\n",
       "    // our purposes (turning an active figure into a static one), is too late.\n",
       "    var cells = IPython.notebook.get_cells();\n",
       "    var ncells = cells.length;\n",
       "    for (var i = 0; i < ncells; i++) {\n",
       "        var cell = cells[i];\n",
       "        if (cell.cell_type === 'code') {\n",
       "            for (var j = 0; j < cell.output_area.outputs.length; j++) {\n",
       "                var data = cell.output_area.outputs[j];\n",
       "                if (data.data) {\n",
       "                    // IPython >= 3 moved mimebundle to data attribute of output\n",
       "                    data = data.data;\n",
       "                }\n",
       "                if (data['text/html'] === html_output) {\n",
       "                    return [cell, data, j];\n",
       "                }\n",
       "            }\n",
       "        }\n",
       "    }\n",
       "};\n",
       "\n",
       "// Register the function which deals with the matplotlib target/channel.\n",
       "// The kernel may be null if the page has been refreshed.\n",
       "if (IPython.notebook.kernel !== null) {\n",
       "    IPython.notebook.kernel.comm_manager.register_target(\n",
       "        'matplotlib',\n",
       "        mpl.mpl_figure_comm\n",
       "    );\n",
       "}\n"
      ],
      "text/plain": [
       "<IPython.core.display.Javascript object>"
      ]
     },
     "metadata": {},
     "output_type": "display_data"
    },
    {
     "data": {
      "text/html": [
       "<img src=\"data:image/png;base64,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\" width=\"700\">"
      ],
      "text/plain": [
       "<IPython.core.display.HTML object>"
      ]
     },
     "metadata": {},
     "output_type": "display_data"
    },
    {
     "data": {
      "text/plain": [
       "<matplotlib.legend.Legend at 0x7f5974689ee0>"
      ]
     },
     "execution_count": 78,
     "metadata": {},
     "output_type": "execute_result"
    }
   ],
   "source": [
    "fig, ax = plt.subplots(figsize=(7, 4))\n",
    "ax.grid()\n",
    "\n",
    "x = np.arange(0, 4500, 1)\n",
    "ax.set_xlim(0, 4500)\n",
    "ax.set_ylim(-10, 180)\n",
    "ax.plot(x, ir_plot(x, 30, fa.freq, IR_inten), label=\"Harmonic\")\n",
    "ax.plot(x, ir_plot(x, 30, freq_anharm, IR_anharm), label=\"Anharmonic (0 K)\")\n",
    "# ax.plot(x, ir_plot(x, 30, freq_anharm, IRT_anharm), label=\"Anharmonic (2500 K)\")\n",
    "ax.plot(x, ir_plot(x, 30, freq_anharm_gau, IR_anharm_gau), label=\"Anharmonic (Gaussian)\")\n",
    "ax.set_ylabel(\"Molar Absorption Coefficient (L mol$^{-1}$ cm$^{-1}$)\")\n",
    "ax.set_xlabel(\"Vibration Wavenumber (cm$^{-1}$)\")\n",
    "ax.set_title(\"Acetaldehyde ($\\mathsf{CH_3CHO}$) Infared Spectrum (HF/STO-3G)\")\n",
    "ax.legend(loc=\"upper right\")\n",
    "\n",
    "ax.set_ylabel(\"IR Intensity (km mol$^{-1}$)\")\n",
    "ax.legend(loc=\"upper right\")"
   ]
  },
  {
   "cell_type": "markdown",
   "id": "c837dba5",
   "metadata": {},
   "source": [
    "## 文档补充信息"
   ]
  },
  {
   "cell_type": "markdown",
   "id": "c34f6996",
   "metadata": {},
   "source": [
    "这份文档的一部分内容与颜文杰有较多讨论，与申同昊有一部分讨论。我也算是对非谐矫正有些好奇，于是尝试搞了一下。"
   ]
  },
  {
   "cell_type": "markdown",
   "id": "c21939d0",
   "metadata": {},
   "source": [
    "[^Barone.JCP.2005]: Anharmonic Vibrational Properties by a fully automated second-order perturbative approach, V. Barone, *J. Chem. Phys.* **2005**, *122*, 014108, doi: [10.1063/1.1824881](https://doi.org/10.1063/1.1824881).\n",
    "\n",
    "[^Miller.CPL.1990]: Ab initio calculation of anharmonic constants for a transition state, with application to semiclassical transition state tunneling probabilities, W. H. Miller, R. Hernandez, N. C. Handy, D. Jayatilaka, A. Willetts, *Chem. Phys. Lett.* **1990**, *172*, 62-68, doi: [10.1016/0009-2614(90)87217-F](https://doi.org/10.1016/0009-2614(90)87217-F).\n",
    "\n",
    "[^Gauss.JCP.2008]: Quantitative prediction of gas-phase <sup>19</sup>F nuclear magnetic shielding constants, M. E. Harding, M. Lenhart, A. A. Auer, J. Gauss, *J. Chem. Phys.* **2008**, *128*, 244111, doi: [10.1063/1.2943145](https://doi.org/10.1063/1.2943145).\n",
    "\n",
    "[^Bloino.JCP.2012]: A second-order perturbation theory route to vibrational averages and transition properties of molecules: General formulation and application to infrared and vibrational circular dichroism spectroscopies, J. Bloino, V. Barone, *J. Chem. Phys.* **2012**, *136*, 124108, doi: [10.1063/1.3695210](https://doi.org/10.1063/1.3695210).\n",
    "\n",
    "[^Bloino.JPCA.2015]: A VPT2 Route to Near-Infrared Spectroscopy: The Role of Mechanical and Electrical Anharmonicity, *J. Phys. Chem. A* **2015**, *119*, 5269-5287, doi: [10.1021/jp509985u](https://doi.org/10.1021/jp509985u)."
   ]
  }
 ],
 "metadata": {
  "celltoolbar": "编辑元数据",
  "kernelspec": {
   "display_name": "Python 3",
   "language": "python",
   "name": "python3"
  },
  "language_info": {
   "codemirror_mode": {
    "name": "ipython",
    "version": 3
   },
   "file_extension": ".py",
   "mimetype": "text/x-python",
   "name": "python",
   "nbconvert_exporter": "python",
   "pygments_lexer": "ipython3",
   "version": "3.8.10"
  },
  "toc": {
   "base_numbering": 1,
   "nav_menu": {},
   "number_sections": true,
   "sideBar": true,
   "skip_h1_title": false,
   "title_cell": "Table of Contents",
   "title_sidebar": "Contents",
   "toc_cell": false,
   "toc_position": {},
   "toc_section_display": true,
   "toc_window_display": false
  }
 },
 "nbformat": 4,
 "nbformat_minor": 5
}
