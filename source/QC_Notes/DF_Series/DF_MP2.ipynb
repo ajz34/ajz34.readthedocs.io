{
 "cells": [
  {
   "cell_type": "markdown",
   "metadata": {},
   "source": [
    "# 简单理解 Density Fitting RMP2"
   ]
  },
  {
   "cell_type": "markdown",
   "metadata": {},
   "source": [
    "> 创建时间：2019-10-16"
   ]
  },
  {
   "cell_type": "markdown",
   "metadata": {},
   "source": [
    "这一节的内容承接上一节对 DF RHF 的理解，只是简单地近一步得到 RMP2 的能量。"
   ]
  },
  {
   "cell_type": "code",
   "execution_count": 1,
   "metadata": {},
   "outputs": [],
   "source": [
    "%matplotlib notebook\n",
    "\n",
    "import numpy as np\n",
    "import scipy\n",
    "from functools import partial\n",
    "import matplotlib.pyplot as plt\n",
    "\n",
    "from pyscf import gto, scf, mp, df\n",
    "\n",
    "np.einsum = partial(np.einsum, optimize=[\"greedy\", 1024 ** 3 * 2 / 8])\n",
    "np.set_printoptions(8, linewidth=150, suppress=True)"
   ]
  },
  {
   "cell_type": "markdown",
   "metadata": {},
   "source": [
    "我们使用的体系仍然是不对称的双氧水分子："
   ]
  },
  {
   "cell_type": "code",
   "execution_count": 2,
   "metadata": {},
   "outputs": [],
   "source": [
    "mol = gto.Mole()\n",
    "mol.atom = \"\"\"\n",
    "O  0.0  0.0  0.0\n",
    "O  0.0  0.0  1.5\n",
    "H  1.0  0.0  0.0\n",
    "H  0.0  0.7  1.0\n",
    "\"\"\"\n",
    "mol.basis = \"def2-tzvp\"\n",
    "mol.verbose = 0\n",
    "mol.build()\n",
    "\n",
    "natm = mol.natm\n",
    "nao = nmo = mol.nao\n",
    "nocc = mol.nelec[0]\n",
    "nvir = nmo - nocc\n",
    "so, sv, sa = slice(0, nocc), slice(nocc, nmo), slice(0, nmo)"
   ]
  },
  {
   "cell_type": "markdown",
   "metadata": {},
   "source": [
    "## PySCF RMP2"
   ]
  },
  {
   "cell_type": "markdown",
   "metadata": {},
   "source": [
    "### PySCF 普通 RMP2"
   ]
  },
  {
   "cell_type": "markdown",
   "metadata": {},
   "source": [
    "在我们跑 DF RMP2 前，我们先跑一下普通的 RMP2，以作对比。"
   ]
  },
  {
   "cell_type": "code",
   "execution_count": 3,
   "metadata": {},
   "outputs": [
    {
     "data": {
      "text/plain": [
       "-0.5378068680460026"
      ]
     },
     "execution_count": 3,
     "metadata": {},
     "output_type": "execute_result"
    }
   ],
   "source": [
    "scf_normal = scf.RHF(mol).run()\n",
    "mp2_normal = mp.MP2(scf_normal).run()\n",
    "mp2_normal.e_corr"
   ]
  },
  {
   "cell_type": "markdown",
   "metadata": {},
   "source": [
    "### PySCF DF RHF"
   ]
  },
  {
   "cell_type": "markdown",
   "metadata": {},
   "source": [
    "在 PySCF 中，即使自洽场已经经过 DF 优化过，也不需要特别地对 MP2 的代码作改变："
   ]
  },
  {
   "cell_type": "code",
   "execution_count": 4,
   "metadata": {},
   "outputs": [
    {
     "data": {
      "text/plain": [
       "-0.5370249637959694"
      ]
     },
     "execution_count": 4,
     "metadata": {},
     "output_type": "execute_result"
    }
   ],
   "source": [
    "scf_df = scf.RHF(mol).density_fit().run()\n",
    "mp2_df = mp.MP2(scf_df).run()\n",
    "mp2_df.e_corr"
   ]
  },
  {
   "cell_type": "markdown",
   "metadata": {},
   "source": [
    "在相关能上，两者的结果还是稍有差距的。"
   ]
  },
  {
   "cell_type": "code",
   "execution_count": 5,
   "metadata": {},
   "outputs": [
    {
     "data": {
      "text/plain": [
       "0.0007819042500332163"
      ]
     },
     "execution_count": 5,
     "metadata": {},
     "output_type": "execute_result"
    }
   ],
   "source": [
    "mp2_df.e_corr - mp2_normal.e_corr"
   ]
  },
  {
   "cell_type": "markdown",
   "metadata": {},
   "source": [
    "对于 PySCF 而言，一种更好的做法是，在自洽场过程中使用对 J/K 积分优化较好的 `jkfit` 型 DF 基组，而在 MP2 或后自洽场中使用对 MP2 优化较好的 `ri` 型 DF 基组："
   ]
  },
  {
   "cell_type": "code",
   "execution_count": 6,
   "metadata": {},
   "outputs": [
    {
     "data": {
      "text/plain": [
       "-0.5377072684090778"
      ]
     },
     "execution_count": 6,
     "metadata": {},
     "output_type": "execute_result"
    }
   ],
   "source": [
    "scf_df = scf.RHF(mol).density_fit(auxbasis=\"def2-tzvp-jkfit\").run()\n",
    "mp2_df = mp.MP2(scf_df).density_fit(auxbasis=\"def2-tzvp-ri\").run()\n",
    "mp2_df.e_corr"
   ]
  },
  {
   "cell_type": "markdown",
   "metadata": {},
   "source": [
    "现在相关能的误差就相对来说小了不少。"
   ]
  },
  {
   "cell_type": "code",
   "execution_count": 7,
   "metadata": {},
   "outputs": [
    {
     "data": {
      "text/plain": [
       "9.959963692485196e-05"
      ]
     },
     "execution_count": 7,
     "metadata": {},
     "output_type": "execute_result"
    }
   ],
   "source": [
    "mp2_df.e_corr - mp2_normal.e_corr"
   ]
  },
  {
   "cell_type": "markdown",
   "metadata": {},
   "source": [
    "## 重现 PySCF DF RMP2 相关能"
   ]
  },
  {
   "cell_type": "markdown",
   "metadata": {},
   "source": [
    "### DF 基组定义与必要张量"
   ]
  },
  {
   "cell_type": "markdown",
   "metadata": {},
   "source": [
    "我们首先生成计算 DF RMP2 所需要的张量：\n",
    "\n",
    "* `V_df_mp2` $V_{\\mu \\nu, P}^\\mathrm{MP2}$：经过 Cholesky 处理的三中心双电子张量\n",
    "\n",
    "* `C`, `Co`, `Cv` $C_{\\mu p}$：分子轨道系数 `C`，以及其在占据轨道 (`Co`)、非占轨道 (`Cv`) 的分割\n",
    "\n",
    "* `D_iajb` $D_{ij}^{ab}$：即 $\\varepsilon_i - \\varepsilon_a + \\varepsilon_j - \\varepsilon_b$"
   ]
  },
  {
   "cell_type": "markdown",
   "metadata": {},
   "source": [
    "我们指出，这里计算的 `V_df_mp2` $V_{\\mu \\nu, P}^\\mathrm{MP2}$ 是由 RI 基组 `def2-tzvp-ri` 产生；与上一篇文档提到的由 `def2-tzvp-jkfit` 所生成的 $V_{\\mu \\nu, P}$ 是不同的。因此，我们需要使用对应的 `def2-tzvp-ri` 基组来产生 DF 分子类 `auxmol`。"
   ]
  },
  {
   "cell_type": "code",
   "execution_count": 8,
   "metadata": {},
   "outputs": [],
   "source": [
    "auxmol = mol.copy()\n",
    "auxmol.basis = \"def2-tzvp-ri\"\n",
    "auxmol.build()\n",
    "\n",
    "nao_df = auxmol.nao"
   ]
  },
  {
   "cell_type": "code",
   "execution_count": 9,
   "metadata": {},
   "outputs": [],
   "source": [
    "int2c2e = auxmol.intor(\"int2c2e\")\n",
    "int2c2e.shape\n",
    "int3c2e = df.incore.aux_e2(mol, auxmol)\n",
    "\n",
    "int2c2e_half = scipy.linalg.cholesky(int2c2e, lower=True)\n",
    "V_df_mp2 = scipy.linalg.solve_triangular(int2c2e_half, int3c2e.reshape(-1, nao_df).T, lower=True)\\\n",
    "               .reshape(nao_df, nao, nao).transpose((1, 2, 0))"
   ]
  },
  {
   "cell_type": "code",
   "execution_count": 10,
   "metadata": {},
   "outputs": [],
   "source": [
    "C, e = scf_df.mo_coeff, scf_df.mo_energy\n",
    "Co, Cv = C[:, so], C[:, sv]\n",
    "eo, ev = e[so], e[sv]\n",
    "D_iajb = eo[:, None, None, None] - ev[None, :, None, None] + eo[None, None, :, None] - ev[None, None, None, :]"
   ]
  },
  {
   "cell_type": "markdown",
   "metadata": {},
   "source": [
    "### ERI 积分转换"
   ]
  },
  {
   "cell_type": "markdown",
   "metadata": {},
   "source": [
    "MP2 中最为耗时的一步是原子轨道 4c2e 的 ERI 积分 $(\\mu \\nu | \\kappa \\lambda)$ 转换为分子轨道 $(ia|jb)$ 的过程。我们在 DF MP2 中仍然没有避开生成 $(ia|jb)$，但我们避开了直接生成 $(\\mu \\nu | \\kappa \\lambda)$；恰恰是这一步成为 DF MP2 的优势。其具体的过程大致如下。"
   ]
  },
  {
   "cell_type": "markdown",
   "metadata": {},
   "source": [
    "首先，我们生成分子轨道下的三中心积分 $V_{ia, P}^\\mathrm{MP2}$ `V_df_ia` ($O(N^4)$ 复杂度)：\n",
    "\n",
    "$$\n",
    "V_{ia, P}^\\mathrm{MP2} = V_{\\mu \\nu, P}^\\mathrm{MP2} C_{\\mu i} C_{\\nu p}\n",
    "$$"
   ]
  },
  {
   "cell_type": "code",
   "execution_count": 11,
   "metadata": {},
   "outputs": [],
   "source": [
    "V_df_ia = np.einsum(\"uvP, ui, va -> iaP\", V_df_mp2, Co, Cv)"
   ]
  },
  {
   "cell_type": "markdown",
   "metadata": {},
   "source": [
    "尽管我们使用了与 `jkfit` 不同的基组，但我们仍然认为 $(\\mu \\nu | \\kappa \\lambda) \\simeq V_{\\mu \\nu, P}^\\mathrm{MP2} V_{\\kappa \\lambda, P}^\\mathrm{MP2}$ 近似成立。因此，我们可以很容易地给出 ($O(N^5)$ 复杂度)\n",
    "\n",
    "$$\n",
    "\\begin{align*}\n",
    "(ia|jb) &= C_{\\mu i} C_{\\nu a} (\\mu \\nu | \\kappa \\lambda) C_{\\kappa j} C_{\\lambda b} \\\\\n",
    "&\\simeq C_{\\mu i} C_{\\nu a} V_{\\mu \\nu, P}^\\mathrm{MP2} V_{\\kappa \\lambda, P}^\\mathrm{MP2} C_{\\kappa j} C_{\\lambda b} \\\\\n",
    "&\\simeq V_{ia, P}^\\mathrm{MP2} V_{jb, P}^\\mathrm{MP2}\n",
    "\\end{align*}\n",
    "$$"
   ]
  },
  {
   "cell_type": "code",
   "execution_count": 12,
   "metadata": {},
   "outputs": [],
   "source": [
    "eri_df_iajb = np.einsum(\"iaP, jbP -> iajb\", V_df_ia, V_df_ia)"
   ]
  },
  {
   "cell_type": "markdown",
   "metadata": {},
   "source": [
    "当然，我们也可以使用下述代码，一次性地从 $V_{\\mu \\nu, P}^\\mathrm{MP2}$ 生成 DF 近似的 $(ia|jb)$ `eri_df_iajb`，而结果和效率没有任何影响："
   ]
  },
  {
   "cell_type": "code",
   "execution_count": 13,
   "metadata": {},
   "outputs": [
    {
     "data": {
      "text/plain": [
       "True"
      ]
     },
     "execution_count": 13,
     "metadata": {},
     "output_type": "execute_result"
    }
   ],
   "source": [
    "np.allclose(\n",
    "    np.einsum(\"ui, va, uvP, klP, kj, lb -> iajb\", Co, Cv, V_df_mp2, V_df_mp2, Co, Cv),\n",
    "    eri_df_iajb\n",
    ")"
   ]
  },
  {
   "cell_type": "markdown",
   "metadata": {},
   "source": [
    "最后，我们通过图像指出，DF 近似的转换后的分子轨道 ERI 与普通的分子轨道 ERI 非常接近。"
   ]
  },
  {
   "cell_type": "code",
   "execution_count": 14,
   "metadata": {},
   "outputs": [],
   "source": [
    "eri = mol.intor(\"int2e\")\n",
    "eri_iajb = np.einsum(\"ui, va, uvkl, kj, lb -> iajb\", Co, Cv, eri, Co, Cv)"
   ]
  },
  {
   "cell_type": "code",
   "execution_count": 15,
   "metadata": {},
   "outputs": [],
   "source": [
    "bins =np.arange(-12, 1., 0.1)\n",
    "histo_eri = np.histogram(np.log10(np.abs(eri_iajb).ravel() + 1e-20), bins=bins)\n",
    "histo_df_eri = np.histogram(np.log10(np.abs(eri_df_iajb).ravel() + 1e-20), bins=bins)\n",
    "histo_dev = np.histogram(np.log10(np.abs(eri_df_iajb - eri_iajb).ravel() + 1e-20), bins=bins)\n",
    "\n",
    "prob_eri = histo_eri[0] / eri_iajb.size\n",
    "prob_df_eri = histo_df_eri[0] / eri_iajb.size\n",
    "prob_dev = histo_dev[0] / eri_iajb.size"
   ]
  },
  {
   "cell_type": "code",
   "execution_count": 16,
   "metadata": {},
   "outputs": [
    {
     "data": {
      "application/javascript": [
       "/* Put everything inside the global mpl namespace */\n",
       "window.mpl = {};\n",
       "\n",
       "\n",
       "mpl.get_websocket_type = function() {\n",
       "    if (typeof(WebSocket) !== 'undefined') {\n",
       "        return WebSocket;\n",
       "    } else if (typeof(MozWebSocket) !== 'undefined') {\n",
       "        return MozWebSocket;\n",
       "    } else {\n",
       "        alert('Your browser does not have WebSocket support. ' +\n",
       "              'Please try Chrome, Safari or Firefox ≥ 6. ' +\n",
       "              'Firefox 4 and 5 are also supported but you ' +\n",
       "              'have to enable WebSockets in about:config.');\n",
       "    };\n",
       "}\n",
       "\n",
       "mpl.figure = function(figure_id, websocket, ondownload, parent_element) {\n",
       "    this.id = figure_id;\n",
       "\n",
       "    this.ws = websocket;\n",
       "\n",
       "    this.supports_binary = (this.ws.binaryType != undefined);\n",
       "\n",
       "    if (!this.supports_binary) {\n",
       "        var warnings = document.getElementById(\"mpl-warnings\");\n",
       "        if (warnings) {\n",
       "            warnings.style.display = 'block';\n",
       "            warnings.textContent = (\n",
       "                \"This browser does not support binary websocket messages. \" +\n",
       "                    \"Performance may be slow.\");\n",
       "        }\n",
       "    }\n",
       "\n",
       "    this.imageObj = new Image();\n",
       "\n",
       "    this.context = undefined;\n",
       "    this.message = undefined;\n",
       "    this.canvas = undefined;\n",
       "    this.rubberband_canvas = undefined;\n",
       "    this.rubberband_context = undefined;\n",
       "    this.format_dropdown = undefined;\n",
       "\n",
       "    this.image_mode = 'full';\n",
       "\n",
       "    this.root = $('<div/>');\n",
       "    this._root_extra_style(this.root)\n",
       "    this.root.attr('style', 'display: inline-block');\n",
       "\n",
       "    $(parent_element).append(this.root);\n",
       "\n",
       "    this._init_header(this);\n",
       "    this._init_canvas(this);\n",
       "    this._init_toolbar(this);\n",
       "\n",
       "    var fig = this;\n",
       "\n",
       "    this.waiting = false;\n",
       "\n",
       "    this.ws.onopen =  function () {\n",
       "            fig.send_message(\"supports_binary\", {value: fig.supports_binary});\n",
       "            fig.send_message(\"send_image_mode\", {});\n",
       "            if (mpl.ratio != 1) {\n",
       "                fig.send_message(\"set_dpi_ratio\", {'dpi_ratio': mpl.ratio});\n",
       "            }\n",
       "            fig.send_message(\"refresh\", {});\n",
       "        }\n",
       "\n",
       "    this.imageObj.onload = function() {\n",
       "            if (fig.image_mode == 'full') {\n",
       "                // Full images could contain transparency (where diff images\n",
       "                // almost always do), so we need to clear the canvas so that\n",
       "                // there is no ghosting.\n",
       "                fig.context.clearRect(0, 0, fig.canvas.width, fig.canvas.height);\n",
       "            }\n",
       "            fig.context.drawImage(fig.imageObj, 0, 0);\n",
       "        };\n",
       "\n",
       "    this.imageObj.onunload = function() {\n",
       "        fig.ws.close();\n",
       "    }\n",
       "\n",
       "    this.ws.onmessage = this._make_on_message_function(this);\n",
       "\n",
       "    this.ondownload = ondownload;\n",
       "}\n",
       "\n",
       "mpl.figure.prototype._init_header = function() {\n",
       "    var titlebar = $(\n",
       "        '<div class=\"ui-dialog-titlebar ui-widget-header ui-corner-all ' +\n",
       "        'ui-helper-clearfix\"/>');\n",
       "    var titletext = $(\n",
       "        '<div class=\"ui-dialog-title\" style=\"width: 100%; ' +\n",
       "        'text-align: center; padding: 3px;\"/>');\n",
       "    titlebar.append(titletext)\n",
       "    this.root.append(titlebar);\n",
       "    this.header = titletext[0];\n",
       "}\n",
       "\n",
       "\n",
       "\n",
       "mpl.figure.prototype._canvas_extra_style = function(canvas_div) {\n",
       "\n",
       "}\n",
       "\n",
       "\n",
       "mpl.figure.prototype._root_extra_style = function(canvas_div) {\n",
       "\n",
       "}\n",
       "\n",
       "mpl.figure.prototype._init_canvas = function() {\n",
       "    var fig = this;\n",
       "\n",
       "    var canvas_div = $('<div/>');\n",
       "\n",
       "    canvas_div.attr('style', 'position: relative; clear: both; outline: 0');\n",
       "\n",
       "    function canvas_keyboard_event(event) {\n",
       "        return fig.key_event(event, event['data']);\n",
       "    }\n",
       "\n",
       "    canvas_div.keydown('key_press', canvas_keyboard_event);\n",
       "    canvas_div.keyup('key_release', canvas_keyboard_event);\n",
       "    this.canvas_div = canvas_div\n",
       "    this._canvas_extra_style(canvas_div)\n",
       "    this.root.append(canvas_div);\n",
       "\n",
       "    var canvas = $('<canvas/>');\n",
       "    canvas.addClass('mpl-canvas');\n",
       "    canvas.attr('style', \"left: 0; top: 0; z-index: 0; outline: 0\")\n",
       "\n",
       "    this.canvas = canvas[0];\n",
       "    this.context = canvas[0].getContext(\"2d\");\n",
       "\n",
       "    var backingStore = this.context.backingStorePixelRatio ||\n",
       "\tthis.context.webkitBackingStorePixelRatio ||\n",
       "\tthis.context.mozBackingStorePixelRatio ||\n",
       "\tthis.context.msBackingStorePixelRatio ||\n",
       "\tthis.context.oBackingStorePixelRatio ||\n",
       "\tthis.context.backingStorePixelRatio || 1;\n",
       "\n",
       "    mpl.ratio = (window.devicePixelRatio || 1) / backingStore;\n",
       "\n",
       "    var rubberband = $('<canvas/>');\n",
       "    rubberband.attr('style', \"position: absolute; left: 0; top: 0; z-index: 1;\")\n",
       "\n",
       "    var pass_mouse_events = true;\n",
       "\n",
       "    canvas_div.resizable({\n",
       "        start: function(event, ui) {\n",
       "            pass_mouse_events = false;\n",
       "        },\n",
       "        resize: function(event, ui) {\n",
       "            fig.request_resize(ui.size.width, ui.size.height);\n",
       "        },\n",
       "        stop: function(event, ui) {\n",
       "            pass_mouse_events = true;\n",
       "            fig.request_resize(ui.size.width, ui.size.height);\n",
       "        },\n",
       "    });\n",
       "\n",
       "    function mouse_event_fn(event) {\n",
       "        if (pass_mouse_events)\n",
       "            return fig.mouse_event(event, event['data']);\n",
       "    }\n",
       "\n",
       "    rubberband.mousedown('button_press', mouse_event_fn);\n",
       "    rubberband.mouseup('button_release', mouse_event_fn);\n",
       "    // Throttle sequential mouse events to 1 every 20ms.\n",
       "    rubberband.mousemove('motion_notify', mouse_event_fn);\n",
       "\n",
       "    rubberband.mouseenter('figure_enter', mouse_event_fn);\n",
       "    rubberband.mouseleave('figure_leave', mouse_event_fn);\n",
       "\n",
       "    canvas_div.on(\"wheel\", function (event) {\n",
       "        event = event.originalEvent;\n",
       "        event['data'] = 'scroll'\n",
       "        if (event.deltaY < 0) {\n",
       "            event.step = 1;\n",
       "        } else {\n",
       "            event.step = -1;\n",
       "        }\n",
       "        mouse_event_fn(event);\n",
       "    });\n",
       "\n",
       "    canvas_div.append(canvas);\n",
       "    canvas_div.append(rubberband);\n",
       "\n",
       "    this.rubberband = rubberband;\n",
       "    this.rubberband_canvas = rubberband[0];\n",
       "    this.rubberband_context = rubberband[0].getContext(\"2d\");\n",
       "    this.rubberband_context.strokeStyle = \"#000000\";\n",
       "\n",
       "    this._resize_canvas = function(width, height) {\n",
       "        // Keep the size of the canvas, canvas container, and rubber band\n",
       "        // canvas in synch.\n",
       "        canvas_div.css('width', width)\n",
       "        canvas_div.css('height', height)\n",
       "\n",
       "        canvas.attr('width', width * mpl.ratio);\n",
       "        canvas.attr('height', height * mpl.ratio);\n",
       "        canvas.attr('style', 'width: ' + width + 'px; height: ' + height + 'px;');\n",
       "\n",
       "        rubberband.attr('width', width);\n",
       "        rubberband.attr('height', height);\n",
       "    }\n",
       "\n",
       "    // Set the figure to an initial 600x600px, this will subsequently be updated\n",
       "    // upon first draw.\n",
       "    this._resize_canvas(600, 600);\n",
       "\n",
       "    // Disable right mouse context menu.\n",
       "    $(this.rubberband_canvas).bind(\"contextmenu\",function(e){\n",
       "        return false;\n",
       "    });\n",
       "\n",
       "    function set_focus () {\n",
       "        canvas.focus();\n",
       "        canvas_div.focus();\n",
       "    }\n",
       "\n",
       "    window.setTimeout(set_focus, 100);\n",
       "}\n",
       "\n",
       "mpl.figure.prototype._init_toolbar = function() {\n",
       "    var fig = this;\n",
       "\n",
       "    var nav_element = $('<div/>');\n",
       "    nav_element.attr('style', 'width: 100%');\n",
       "    this.root.append(nav_element);\n",
       "\n",
       "    // Define a callback function for later on.\n",
       "    function toolbar_event(event) {\n",
       "        return fig.toolbar_button_onclick(event['data']);\n",
       "    }\n",
       "    function toolbar_mouse_event(event) {\n",
       "        return fig.toolbar_button_onmouseover(event['data']);\n",
       "    }\n",
       "\n",
       "    for(var toolbar_ind in mpl.toolbar_items) {\n",
       "        var name = mpl.toolbar_items[toolbar_ind][0];\n",
       "        var tooltip = mpl.toolbar_items[toolbar_ind][1];\n",
       "        var image = mpl.toolbar_items[toolbar_ind][2];\n",
       "        var method_name = mpl.toolbar_items[toolbar_ind][3];\n",
       "\n",
       "        if (!name) {\n",
       "            // put a spacer in here.\n",
       "            continue;\n",
       "        }\n",
       "        var button = $('<button/>');\n",
       "        button.addClass('ui-button ui-widget ui-state-default ui-corner-all ' +\n",
       "                        'ui-button-icon-only');\n",
       "        button.attr('role', 'button');\n",
       "        button.attr('aria-disabled', 'false');\n",
       "        button.click(method_name, toolbar_event);\n",
       "        button.mouseover(tooltip, toolbar_mouse_event);\n",
       "\n",
       "        var icon_img = $('<span/>');\n",
       "        icon_img.addClass('ui-button-icon-primary ui-icon');\n",
       "        icon_img.addClass(image);\n",
       "        icon_img.addClass('ui-corner-all');\n",
       "\n",
       "        var tooltip_span = $('<span/>');\n",
       "        tooltip_span.addClass('ui-button-text');\n",
       "        tooltip_span.html(tooltip);\n",
       "\n",
       "        button.append(icon_img);\n",
       "        button.append(tooltip_span);\n",
       "\n",
       "        nav_element.append(button);\n",
       "    }\n",
       "\n",
       "    var fmt_picker_span = $('<span/>');\n",
       "\n",
       "    var fmt_picker = $('<select/>');\n",
       "    fmt_picker.addClass('mpl-toolbar-option ui-widget ui-widget-content');\n",
       "    fmt_picker_span.append(fmt_picker);\n",
       "    nav_element.append(fmt_picker_span);\n",
       "    this.format_dropdown = fmt_picker[0];\n",
       "\n",
       "    for (var ind in mpl.extensions) {\n",
       "        var fmt = mpl.extensions[ind];\n",
       "        var option = $(\n",
       "            '<option/>', {selected: fmt === mpl.default_extension}).html(fmt);\n",
       "        fmt_picker.append(option);\n",
       "    }\n",
       "\n",
       "    // Add hover states to the ui-buttons\n",
       "    $( \".ui-button\" ).hover(\n",
       "        function() { $(this).addClass(\"ui-state-hover\");},\n",
       "        function() { $(this).removeClass(\"ui-state-hover\");}\n",
       "    );\n",
       "\n",
       "    var status_bar = $('<span class=\"mpl-message\"/>');\n",
       "    nav_element.append(status_bar);\n",
       "    this.message = status_bar[0];\n",
       "}\n",
       "\n",
       "mpl.figure.prototype.request_resize = function(x_pixels, y_pixels) {\n",
       "    // Request matplotlib to resize the figure. Matplotlib will then trigger a resize in the client,\n",
       "    // which will in turn request a refresh of the image.\n",
       "    this.send_message('resize', {'width': x_pixels, 'height': y_pixels});\n",
       "}\n",
       "\n",
       "mpl.figure.prototype.send_message = function(type, properties) {\n",
       "    properties['type'] = type;\n",
       "    properties['figure_id'] = this.id;\n",
       "    this.ws.send(JSON.stringify(properties));\n",
       "}\n",
       "\n",
       "mpl.figure.prototype.send_draw_message = function() {\n",
       "    if (!this.waiting) {\n",
       "        this.waiting = true;\n",
       "        this.ws.send(JSON.stringify({type: \"draw\", figure_id: this.id}));\n",
       "    }\n",
       "}\n",
       "\n",
       "\n",
       "mpl.figure.prototype.handle_save = function(fig, msg) {\n",
       "    var format_dropdown = fig.format_dropdown;\n",
       "    var format = format_dropdown.options[format_dropdown.selectedIndex].value;\n",
       "    fig.ondownload(fig, format);\n",
       "}\n",
       "\n",
       "\n",
       "mpl.figure.prototype.handle_resize = function(fig, msg) {\n",
       "    var size = msg['size'];\n",
       "    if (size[0] != fig.canvas.width || size[1] != fig.canvas.height) {\n",
       "        fig._resize_canvas(size[0], size[1]);\n",
       "        fig.send_message(\"refresh\", {});\n",
       "    };\n",
       "}\n",
       "\n",
       "mpl.figure.prototype.handle_rubberband = function(fig, msg) {\n",
       "    var x0 = msg['x0'] / mpl.ratio;\n",
       "    var y0 = (fig.canvas.height - msg['y0']) / mpl.ratio;\n",
       "    var x1 = msg['x1'] / mpl.ratio;\n",
       "    var y1 = (fig.canvas.height - msg['y1']) / mpl.ratio;\n",
       "    x0 = Math.floor(x0) + 0.5;\n",
       "    y0 = Math.floor(y0) + 0.5;\n",
       "    x1 = Math.floor(x1) + 0.5;\n",
       "    y1 = Math.floor(y1) + 0.5;\n",
       "    var min_x = Math.min(x0, x1);\n",
       "    var min_y = Math.min(y0, y1);\n",
       "    var width = Math.abs(x1 - x0);\n",
       "    var height = Math.abs(y1 - y0);\n",
       "\n",
       "    fig.rubberband_context.clearRect(\n",
       "        0, 0, fig.canvas.width, fig.canvas.height);\n",
       "\n",
       "    fig.rubberband_context.strokeRect(min_x, min_y, width, height);\n",
       "}\n",
       "\n",
       "mpl.figure.prototype.handle_figure_label = function(fig, msg) {\n",
       "    // Updates the figure title.\n",
       "    fig.header.textContent = msg['label'];\n",
       "}\n",
       "\n",
       "mpl.figure.prototype.handle_cursor = function(fig, msg) {\n",
       "    var cursor = msg['cursor'];\n",
       "    switch(cursor)\n",
       "    {\n",
       "    case 0:\n",
       "        cursor = 'pointer';\n",
       "        break;\n",
       "    case 1:\n",
       "        cursor = 'default';\n",
       "        break;\n",
       "    case 2:\n",
       "        cursor = 'crosshair';\n",
       "        break;\n",
       "    case 3:\n",
       "        cursor = 'move';\n",
       "        break;\n",
       "    }\n",
       "    fig.rubberband_canvas.style.cursor = cursor;\n",
       "}\n",
       "\n",
       "mpl.figure.prototype.handle_message = function(fig, msg) {\n",
       "    fig.message.textContent = msg['message'];\n",
       "}\n",
       "\n",
       "mpl.figure.prototype.handle_draw = function(fig, msg) {\n",
       "    // Request the server to send over a new figure.\n",
       "    fig.send_draw_message();\n",
       "}\n",
       "\n",
       "mpl.figure.prototype.handle_image_mode = function(fig, msg) {\n",
       "    fig.image_mode = msg['mode'];\n",
       "}\n",
       "\n",
       "mpl.figure.prototype.updated_canvas_event = function() {\n",
       "    // Called whenever the canvas gets updated.\n",
       "    this.send_message(\"ack\", {});\n",
       "}\n",
       "\n",
       "// A function to construct a web socket function for onmessage handling.\n",
       "// Called in the figure constructor.\n",
       "mpl.figure.prototype._make_on_message_function = function(fig) {\n",
       "    return function socket_on_message(evt) {\n",
       "        if (evt.data instanceof Blob) {\n",
       "            /* FIXME: We get \"Resource interpreted as Image but\n",
       "             * transferred with MIME type text/plain:\" errors on\n",
       "             * Chrome.  But how to set the MIME type?  It doesn't seem\n",
       "             * to be part of the websocket stream */\n",
       "            evt.data.type = \"image/png\";\n",
       "\n",
       "            /* Free the memory for the previous frames */\n",
       "            if (fig.imageObj.src) {\n",
       "                (window.URL || window.webkitURL).revokeObjectURL(\n",
       "                    fig.imageObj.src);\n",
       "            }\n",
       "\n",
       "            fig.imageObj.src = (window.URL || window.webkitURL).createObjectURL(\n",
       "                evt.data);\n",
       "            fig.updated_canvas_event();\n",
       "            fig.waiting = false;\n",
       "            return;\n",
       "        }\n",
       "        else if (typeof evt.data === 'string' && evt.data.slice(0, 21) == \"data:image/png;base64\") {\n",
       "            fig.imageObj.src = evt.data;\n",
       "            fig.updated_canvas_event();\n",
       "            fig.waiting = false;\n",
       "            return;\n",
       "        }\n",
       "\n",
       "        var msg = JSON.parse(evt.data);\n",
       "        var msg_type = msg['type'];\n",
       "\n",
       "        // Call the  \"handle_{type}\" callback, which takes\n",
       "        // the figure and JSON message as its only arguments.\n",
       "        try {\n",
       "            var callback = fig[\"handle_\" + msg_type];\n",
       "        } catch (e) {\n",
       "            console.log(\"No handler for the '\" + msg_type + \"' message type: \", msg);\n",
       "            return;\n",
       "        }\n",
       "\n",
       "        if (callback) {\n",
       "            try {\n",
       "                // console.log(\"Handling '\" + msg_type + \"' message: \", msg);\n",
       "                callback(fig, msg);\n",
       "            } catch (e) {\n",
       "                console.log(\"Exception inside the 'handler_\" + msg_type + \"' callback:\", e, e.stack, msg);\n",
       "            }\n",
       "        }\n",
       "    };\n",
       "}\n",
       "\n",
       "// from http://stackoverflow.com/questions/1114465/getting-mouse-location-in-canvas\n",
       "mpl.findpos = function(e) {\n",
       "    //this section is from http://www.quirksmode.org/js/events_properties.html\n",
       "    var targ;\n",
       "    if (!e)\n",
       "        e = window.event;\n",
       "    if (e.target)\n",
       "        targ = e.target;\n",
       "    else if (e.srcElement)\n",
       "        targ = e.srcElement;\n",
       "    if (targ.nodeType == 3) // defeat Safari bug\n",
       "        targ = targ.parentNode;\n",
       "\n",
       "    // jQuery normalizes the pageX and pageY\n",
       "    // pageX,Y are the mouse positions relative to the document\n",
       "    // offset() returns the position of the element relative to the document\n",
       "    var x = e.pageX - $(targ).offset().left;\n",
       "    var y = e.pageY - $(targ).offset().top;\n",
       "\n",
       "    return {\"x\": x, \"y\": y};\n",
       "};\n",
       "\n",
       "/*\n",
       " * return a copy of an object with only non-object keys\n",
       " * we need this to avoid circular references\n",
       " * http://stackoverflow.com/a/24161582/3208463\n",
       " */\n",
       "function simpleKeys (original) {\n",
       "  return Object.keys(original).reduce(function (obj, key) {\n",
       "    if (typeof original[key] !== 'object')\n",
       "        obj[key] = original[key]\n",
       "    return obj;\n",
       "  }, {});\n",
       "}\n",
       "\n",
       "mpl.figure.prototype.mouse_event = function(event, name) {\n",
       "    var canvas_pos = mpl.findpos(event)\n",
       "\n",
       "    if (name === 'button_press')\n",
       "    {\n",
       "        this.canvas.focus();\n",
       "        this.canvas_div.focus();\n",
       "    }\n",
       "\n",
       "    var x = canvas_pos.x * mpl.ratio;\n",
       "    var y = canvas_pos.y * mpl.ratio;\n",
       "\n",
       "    this.send_message(name, {x: x, y: y, button: event.button,\n",
       "                             step: event.step,\n",
       "                             guiEvent: simpleKeys(event)});\n",
       "\n",
       "    /* This prevents the web browser from automatically changing to\n",
       "     * the text insertion cursor when the button is pressed.  We want\n",
       "     * to control all of the cursor setting manually through the\n",
       "     * 'cursor' event from matplotlib */\n",
       "    event.preventDefault();\n",
       "    return false;\n",
       "}\n",
       "\n",
       "mpl.figure.prototype._key_event_extra = function(event, name) {\n",
       "    // Handle any extra behaviour associated with a key event\n",
       "}\n",
       "\n",
       "mpl.figure.prototype.key_event = function(event, name) {\n",
       "\n",
       "    // Prevent repeat events\n",
       "    if (name == 'key_press')\n",
       "    {\n",
       "        if (event.which === this._key)\n",
       "            return;\n",
       "        else\n",
       "            this._key = event.which;\n",
       "    }\n",
       "    if (name == 'key_release')\n",
       "        this._key = null;\n",
       "\n",
       "    var value = '';\n",
       "    if (event.ctrlKey && event.which != 17)\n",
       "        value += \"ctrl+\";\n",
       "    if (event.altKey && event.which != 18)\n",
       "        value += \"alt+\";\n",
       "    if (event.shiftKey && event.which != 16)\n",
       "        value += \"shift+\";\n",
       "\n",
       "    value += 'k';\n",
       "    value += event.which.toString();\n",
       "\n",
       "    this._key_event_extra(event, name);\n",
       "\n",
       "    this.send_message(name, {key: value,\n",
       "                             guiEvent: simpleKeys(event)});\n",
       "    return false;\n",
       "}\n",
       "\n",
       "mpl.figure.prototype.toolbar_button_onclick = function(name) {\n",
       "    if (name == 'download') {\n",
       "        this.handle_save(this, null);\n",
       "    } else {\n",
       "        this.send_message(\"toolbar_button\", {name: name});\n",
       "    }\n",
       "};\n",
       "\n",
       "mpl.figure.prototype.toolbar_button_onmouseover = function(tooltip) {\n",
       "    this.message.textContent = tooltip;\n",
       "};\n",
       "mpl.toolbar_items = [[\"Home\", \"Reset original view\", \"fa fa-home icon-home\", \"home\"], [\"Back\", \"Back to previous view\", \"fa fa-arrow-left icon-arrow-left\", \"back\"], [\"Forward\", \"Forward to next view\", \"fa fa-arrow-right icon-arrow-right\", \"forward\"], [\"\", \"\", \"\", \"\"], [\"Pan\", \"Pan axes with left mouse, zoom with right\", \"fa fa-arrows icon-move\", \"pan\"], [\"Zoom\", \"Zoom to rectangle\", \"fa fa-square-o icon-check-empty\", \"zoom\"], [\"\", \"\", \"\", \"\"], [\"Download\", \"Download plot\", \"fa fa-floppy-o icon-save\", \"download\"]];\n",
       "\n",
       "mpl.extensions = [\"eps\", \"jpeg\", \"pdf\", \"png\", \"ps\", \"raw\", \"svg\", \"tif\"];\n",
       "\n",
       "mpl.default_extension = \"png\";var comm_websocket_adapter = function(comm) {\n",
       "    // Create a \"websocket\"-like object which calls the given IPython comm\n",
       "    // object with the appropriate methods. Currently this is a non binary\n",
       "    // socket, so there is still some room for performance tuning.\n",
       "    var ws = {};\n",
       "\n",
       "    ws.close = function() {\n",
       "        comm.close()\n",
       "    };\n",
       "    ws.send = function(m) {\n",
       "        //console.log('sending', m);\n",
       "        comm.send(m);\n",
       "    };\n",
       "    // Register the callback with on_msg.\n",
       "    comm.on_msg(function(msg) {\n",
       "        //console.log('receiving', msg['content']['data'], msg);\n",
       "        // Pass the mpl event to the overridden (by mpl) onmessage function.\n",
       "        ws.onmessage(msg['content']['data'])\n",
       "    });\n",
       "    return ws;\n",
       "}\n",
       "\n",
       "mpl.mpl_figure_comm = function(comm, msg) {\n",
       "    // This is the function which gets called when the mpl process\n",
       "    // starts-up an IPython Comm through the \"matplotlib\" channel.\n",
       "\n",
       "    var id = msg.content.data.id;\n",
       "    // Get hold of the div created by the display call when the Comm\n",
       "    // socket was opened in Python.\n",
       "    var element = $(\"#\" + id);\n",
       "    var ws_proxy = comm_websocket_adapter(comm)\n",
       "\n",
       "    function ondownload(figure, format) {\n",
       "        window.open(figure.imageObj.src);\n",
       "    }\n",
       "\n",
       "    var fig = new mpl.figure(id, ws_proxy,\n",
       "                           ondownload,\n",
       "                           element.get(0));\n",
       "\n",
       "    // Call onopen now - mpl needs it, as it is assuming we've passed it a real\n",
       "    // web socket which is closed, not our websocket->open comm proxy.\n",
       "    ws_proxy.onopen();\n",
       "\n",
       "    fig.parent_element = element.get(0);\n",
       "    fig.cell_info = mpl.find_output_cell(\"<div id='\" + id + \"'></div>\");\n",
       "    if (!fig.cell_info) {\n",
       "        console.error(\"Failed to find cell for figure\", id, fig);\n",
       "        return;\n",
       "    }\n",
       "\n",
       "    var output_index = fig.cell_info[2]\n",
       "    var cell = fig.cell_info[0];\n",
       "\n",
       "};\n",
       "\n",
       "mpl.figure.prototype.handle_close = function(fig, msg) {\n",
       "    var width = fig.canvas.width/mpl.ratio\n",
       "    fig.root.unbind('remove')\n",
       "\n",
       "    // Update the output cell to use the data from the current canvas.\n",
       "    fig.push_to_output();\n",
       "    var dataURL = fig.canvas.toDataURL();\n",
       "    // Re-enable the keyboard manager in IPython - without this line, in FF,\n",
       "    // the notebook keyboard shortcuts fail.\n",
       "    IPython.keyboard_manager.enable()\n",
       "    $(fig.parent_element).html('<img src=\"' + dataURL + '\" width=\"' + width + '\">');\n",
       "    fig.close_ws(fig, msg);\n",
       "}\n",
       "\n",
       "mpl.figure.prototype.close_ws = function(fig, msg){\n",
       "    fig.send_message('closing', msg);\n",
       "    // fig.ws.close()\n",
       "}\n",
       "\n",
       "mpl.figure.prototype.push_to_output = function(remove_interactive) {\n",
       "    // Turn the data on the canvas into data in the output cell.\n",
       "    var width = this.canvas.width/mpl.ratio\n",
       "    var dataURL = this.canvas.toDataURL();\n",
       "    this.cell_info[1]['text/html'] = '<img src=\"' + dataURL + '\" width=\"' + width + '\">';\n",
       "}\n",
       "\n",
       "mpl.figure.prototype.updated_canvas_event = function() {\n",
       "    // Tell IPython that the notebook contents must change.\n",
       "    IPython.notebook.set_dirty(true);\n",
       "    this.send_message(\"ack\", {});\n",
       "    var fig = this;\n",
       "    // Wait a second, then push the new image to the DOM so\n",
       "    // that it is saved nicely (might be nice to debounce this).\n",
       "    setTimeout(function () { fig.push_to_output() }, 1000);\n",
       "}\n",
       "\n",
       "mpl.figure.prototype._init_toolbar = function() {\n",
       "    var fig = this;\n",
       "\n",
       "    var nav_element = $('<div/>');\n",
       "    nav_element.attr('style', 'width: 100%');\n",
       "    this.root.append(nav_element);\n",
       "\n",
       "    // Define a callback function for later on.\n",
       "    function toolbar_event(event) {\n",
       "        return fig.toolbar_button_onclick(event['data']);\n",
       "    }\n",
       "    function toolbar_mouse_event(event) {\n",
       "        return fig.toolbar_button_onmouseover(event['data']);\n",
       "    }\n",
       "\n",
       "    for(var toolbar_ind in mpl.toolbar_items){\n",
       "        var name = mpl.toolbar_items[toolbar_ind][0];\n",
       "        var tooltip = mpl.toolbar_items[toolbar_ind][1];\n",
       "        var image = mpl.toolbar_items[toolbar_ind][2];\n",
       "        var method_name = mpl.toolbar_items[toolbar_ind][3];\n",
       "\n",
       "        if (!name) { continue; };\n",
       "\n",
       "        var button = $('<button class=\"btn btn-default\" href=\"#\" title=\"' + name + '\"><i class=\"fa ' + image + ' fa-lg\"></i></button>');\n",
       "        button.click(method_name, toolbar_event);\n",
       "        button.mouseover(tooltip, toolbar_mouse_event);\n",
       "        nav_element.append(button);\n",
       "    }\n",
       "\n",
       "    // Add the status bar.\n",
       "    var status_bar = $('<span class=\"mpl-message\" style=\"text-align:right; float: right;\"/>');\n",
       "    nav_element.append(status_bar);\n",
       "    this.message = status_bar[0];\n",
       "\n",
       "    // Add the close button to the window.\n",
       "    var buttongrp = $('<div class=\"btn-group inline pull-right\"></div>');\n",
       "    var button = $('<button class=\"btn btn-mini btn-primary\" href=\"#\" title=\"Stop Interaction\"><i class=\"fa fa-power-off icon-remove icon-large\"></i></button>');\n",
       "    button.click(function (evt) { fig.handle_close(fig, {}); } );\n",
       "    button.mouseover('Stop Interaction', toolbar_mouse_event);\n",
       "    buttongrp.append(button);\n",
       "    var titlebar = this.root.find($('.ui-dialog-titlebar'));\n",
       "    titlebar.prepend(buttongrp);\n",
       "}\n",
       "\n",
       "mpl.figure.prototype._root_extra_style = function(el){\n",
       "    var fig = this\n",
       "    el.on(\"remove\", function(){\n",
       "\tfig.close_ws(fig, {});\n",
       "    });\n",
       "}\n",
       "\n",
       "mpl.figure.prototype._canvas_extra_style = function(el){\n",
       "    // this is important to make the div 'focusable\n",
       "    el.attr('tabindex', 0)\n",
       "    // reach out to IPython and tell the keyboard manager to turn it's self\n",
       "    // off when our div gets focus\n",
       "\n",
       "    // location in version 3\n",
       "    if (IPython.notebook.keyboard_manager) {\n",
       "        IPython.notebook.keyboard_manager.register_events(el);\n",
       "    }\n",
       "    else {\n",
       "        // location in version 2\n",
       "        IPython.keyboard_manager.register_events(el);\n",
       "    }\n",
       "\n",
       "}\n",
       "\n",
       "mpl.figure.prototype._key_event_extra = function(event, name) {\n",
       "    var manager = IPython.notebook.keyboard_manager;\n",
       "    if (!manager)\n",
       "        manager = IPython.keyboard_manager;\n",
       "\n",
       "    // Check for shift+enter\n",
       "    if (event.shiftKey && event.which == 13) {\n",
       "        this.canvas_div.blur();\n",
       "        event.shiftKey = false;\n",
       "        // Send a \"J\" for go to next cell\n",
       "        event.which = 74;\n",
       "        event.keyCode = 74;\n",
       "        manager.command_mode();\n",
       "        manager.handle_keydown(event);\n",
       "    }\n",
       "}\n",
       "\n",
       "mpl.figure.prototype.handle_save = function(fig, msg) {\n",
       "    fig.ondownload(fig, null);\n",
       "}\n",
       "\n",
       "\n",
       "mpl.find_output_cell = function(html_output) {\n",
       "    // Return the cell and output element which can be found *uniquely* in the notebook.\n",
       "    // Note - this is a bit hacky, but it is done because the \"notebook_saving.Notebook\"\n",
       "    // IPython event is triggered only after the cells have been serialised, which for\n",
       "    // our purposes (turning an active figure into a static one), is too late.\n",
       "    var cells = IPython.notebook.get_cells();\n",
       "    var ncells = cells.length;\n",
       "    for (var i=0; i<ncells; i++) {\n",
       "        var cell = cells[i];\n",
       "        if (cell.cell_type === 'code'){\n",
       "            for (var j=0; j<cell.output_area.outputs.length; j++) {\n",
       "                var data = cell.output_area.outputs[j];\n",
       "                if (data.data) {\n",
       "                    // IPython >= 3 moved mimebundle to data attribute of output\n",
       "                    data = data.data;\n",
       "                }\n",
       "                if (data['text/html'] == html_output) {\n",
       "                    return [cell, data, j];\n",
       "                }\n",
       "            }\n",
       "        }\n",
       "    }\n",
       "}\n",
       "\n",
       "// Register the function which deals with the matplotlib target/channel.\n",
       "// The kernel may be null if the page has been refreshed.\n",
       "if (IPython.notebook.kernel != null) {\n",
       "    IPython.notebook.kernel.comm_manager.register_target('matplotlib', mpl.mpl_figure_comm);\n",
       "}\n"
      ],
      "text/plain": [
       "<IPython.core.display.Javascript object>"
      ]
     },
     "metadata": {},
     "output_type": "display_data"
    },
    {
     "data": {
      "text/html": [
       "<img src=\"data:image/png;base64,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\" width=\"640\">"
      ],
      "text/plain": [
       "<IPython.core.display.HTML object>"
      ]
     },
     "metadata": {},
     "output_type": "display_data"
    },
    {
     "data": {
      "text/plain": [
       "<matplotlib.legend.Legend at 0x7fa3bc1348d0>"
      ]
     },
     "execution_count": 16,
     "metadata": {},
     "output_type": "execute_result"
    }
   ],
   "source": [
    "fig, ax = plt.subplots()\n",
    "\n",
    "ax.plot(histo_eri[1][:-1], prob_eri, label=\"Original MO ERI\", linestyle=\"-.\")\n",
    "ax.plot(histo_df_eri[1][:-1], prob_df_eri, label=\"DF MO ERI\", linestyle=\":\")\n",
    "ax.plot(histo_dev[1][:-1], prob_dev, label=\"Deviation\")\n",
    "\n",
    "ax.set_xlabel(\"$\\mathrm{log}_{10} \\mathrm{MO\\, ERI}$\")\n",
    "ax.set_ylabel(\"Probability Distribution\")\n",
    "ax.set_title(\"MO ERI Distribution Status\")\n",
    "ax.legend()"
   ]
  },
  {
   "cell_type": "markdown",
   "metadata": {},
   "source": [
    "上图中，蓝色线是普通的 MO ERI，它与橙色线几乎重合，意味着两者数值上极为相近。同时，作为两者之差的绿色线的分布明显在更小的数量级上。"
   ]
  },
  {
   "cell_type": "markdown",
   "metadata": {},
   "source": [
    "### 积分转换的复杂度简单分析"
   ]
  },
  {
   "cell_type": "markdown",
   "metadata": {},
   "source": [
    "上述的复杂度是不难分析的。尽管 DF 与普通 MP2 所进行的积分转换都是 $O(N^5)$ 的复杂度；但细致地分析会发现，普通 MP2 的复杂度是 $O(n_\\mathrm{occ} n_\\mathrm{AO}^4)$，而 DF 的复杂度是 $O(n_\\mathrm{occ}^2 n_\\mathrm{vir}^2 n_\\mathrm{aux})$，两者的计算次数是远不相同的。"
   ]
  },
  {
   "cell_type": "markdown",
   "metadata": {},
   "source": [
    "我们有 `einsum_path` 的工具；通过该工具的 `Optimized FLOP count` 输出，我们能知道实际上 NumPy 将会计算多少次浮点计算。同时，`Largest intermediate` 会告诉我们在当前的张量缩并路径下，内存中需要使用的最大的中间张量大小。"
   ]
  },
  {
   "cell_type": "markdown",
   "metadata": {},
   "source": [
    "下述的缩并过程是普通 MP2 的分子轨道基组 ERI 计算过程\n",
    "\n",
    "$$\n",
    "(ia|jb) = C_{\\mu i} C_{\\nu a} (\\mu \\nu | \\kappa \\lambda) C_{\\kappa j} C_{\\lambda b}\n",
    "$$\n",
    "\n",
    "若使用朴素的 (Naive) 张量乘积 ($O(N^8)$ 复杂度)，那么需要进行 $5.131 \\times 10^{13}$ 次浮点计算。我们知道通常的 MP2 是 $O(N^5)$ 复杂度；其对应的浮点计算次数在当前的双氧水体系下是 $7.137 \\times 10^8$ 次。"
   ]
  },
  {
   "cell_type": "code",
   "execution_count": 17,
   "metadata": {},
   "outputs": [
    {
     "name": "stdout",
     "output_type": "stream",
     "text": [
      "  Complete contraction:  ui,va,uvkl,kj,lb->iajb\n",
      "         Naive scaling:  8\n",
      "     Optimized scaling:  5\n",
      "      Naive FLOP count:  5.131e+13\n",
      "  Optimized FLOP count:  7.137e+08\n",
      "   Theoretical speedup:  71892.409\n",
      "  Largest intermediate:  3.647e+06 elements\n",
      "--------------------------------------------------------------------------\n",
      "scaling                  current                                remaining\n",
      "--------------------------------------------------------------------------\n",
      "   5               uvkl,ui->iklv                      va,kj,lb,iklv->iajb\n",
      "   5               iklv,kj->ijlv                         va,lb,ijlv->iajb\n",
      "   5               ijlv,va->ijal                            lb,ijal->iajb\n",
      "   5               ijal,lb->iajb                               iajb->iajb\n"
     ]
    }
   ],
   "source": [
    "print(np.einsum_path(\"ui, va, uvkl, kj, lb -> iajb\", Co, Cv, mol.intor(\"int2e\"), Co, Cv, optimize=True)[1])"
   ]
  },
  {
   "cell_type": "markdown",
   "metadata": {},
   "source": [
    "而在 DF 近似于优化下，\n",
    "\n",
    "$$\n",
    "(ia|jb) \\simeq C_{\\mu i} C_{\\nu a} V_{\\mu \\nu, P}^\\mathrm{MP2} V_{\\kappa \\lambda, P}^\\mathrm{MP2} C_{\\kappa j} C_{\\lambda b}\n",
    "$$\n",
    "\n",
    "其对应的浮点计算次数则是 $1.920 \\times 10^8$。可以看到，DF 速度提升大约 3.72 倍。除此之外，积分转换对内存空间的需求还是普通 MP2 的 1/10.66 倍，因此可以说 DF MP2 是在损失比较小的精度的前提下，同时提升计算效率与内存利用，是一个很好的 Balance。"
   ]
  },
  {
   "cell_type": "code",
   "execution_count": 18,
   "metadata": {},
   "outputs": [
    {
     "name": "stdout",
     "output_type": "stream",
     "text": [
      "  Complete contraction:  ui,va,uvP,klP,kj,lb->iajb\n",
      "         Naive scaling:  9\n",
      "     Optimized scaling:  5\n",
      "      Naive FLOP count:  1.121e+16\n",
      "  Optimized FLOP count:  1.920e+08\n",
      "   Theoretical speedup:  58377026.800\n",
      "  Largest intermediate:  3.422e+05 elements\n",
      "--------------------------------------------------------------------------\n",
      "scaling                  current                                remaining\n",
      "--------------------------------------------------------------------------\n",
      "   4                 uvP,ui->ivP                   va,klP,kj,lb,ivP->iajb\n",
      "   4                 kj,klP->jlP                      va,lb,ivP,jlP->iajb\n",
      "   4                 ivP,va->iaP                         lb,jlP,iaP->iajb\n",
      "   4                 jlP,lb->jbP                            iaP,jbP->iajb\n",
      "   5               jbP,iaP->iajb                               iajb->iajb\n"
     ]
    }
   ],
   "source": [
    "print(np.einsum_path(\"ui, va, uvP, klP, kj, lb -> iajb\", Co, Cv, V_df_mp2, V_df_mp2, Co, Cv, optimize=True)[1])"
   ]
  },
  {
   "cell_type": "markdown",
   "metadata": {},
   "source": [
    "### DF MP2 相关能"
   ]
  },
  {
   "cell_type": "markdown",
   "metadata": {},
   "source": [
    "既然我们已经获得了 DF 近似的 $(ia|jb)$，那么后面的过程与普通的 MP2 并无差异：\n",
    "\n",
    "* $t_{ij}^{ab} = (ia|jb) / D_{ij}^{ab}$\n",
    "\n",
    "* $T_{ij}^{ab} = 2 t_{ij}^{ab} - t_{ij}^{ba}$\n",
    "\n",
    "* $E_\\mathrm{MP2, corr} = T_{ij}^{ab} t_{ij}^{ab} D_{ij}^{ab}$"
   ]
  },
  {
   "cell_type": "code",
   "execution_count": 19,
   "metadata": {},
   "outputs": [
    {
     "data": {
      "text/plain": [
       "-0.5377072684090779"
      ]
     },
     "execution_count": 19,
     "metadata": {},
     "output_type": "execute_result"
    }
   ],
   "source": [
    "t_iajb = eri_df_iajb / D_iajb\n",
    "T_iajb = (2 * t_iajb - t_iajb.swapaxes(-1, -3))\n",
    "mp2_df_corr = (T_iajb * t_iajb * D_iajb).sum()\n",
    "mp2_df_corr"
   ]
  },
  {
   "cell_type": "markdown",
   "metadata": {},
   "source": [
    "我们可以看到计算得到的 DF MP2 能量与 PySCF 所给出的 DF MP2 能量几乎完全相等。"
   ]
  },
  {
   "cell_type": "code",
   "execution_count": 20,
   "metadata": {},
   "outputs": [
    {
     "data": {
      "text/plain": [
       "-1.1102230246251565e-16"
      ]
     },
     "execution_count": 20,
     "metadata": {},
     "output_type": "execute_result"
    }
   ],
   "source": [
    "mp2_df_corr - mp2_df.e_corr"
   ]
  }
 ],
 "metadata": {
  "kernelspec": {
   "display_name": "Python 3",
   "language": "python",
   "name": "python3"
  },
  "language_info": {
   "codemirror_mode": {
    "name": "ipython",
    "version": 3
   },
   "file_extension": ".py",
   "mimetype": "text/x-python",
   "name": "python",
   "nbconvert_exporter": "python",
   "pygments_lexer": "ipython3",
   "version": "3.8.3"
  },
  "toc": {
   "base_numbering": 1,
   "nav_menu": {},
   "number_sections": true,
   "sideBar": true,
   "skip_h1_title": false,
   "title_cell": "Table of Contents",
   "title_sidebar": "Contents",
   "toc_cell": false,
   "toc_position": {},
   "toc_section_display": true,
   "toc_window_display": false
  }
 },
 "nbformat": 4,
 "nbformat_minor": 2
}
