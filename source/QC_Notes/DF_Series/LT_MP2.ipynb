{
 "cells": [
  {
   "cell_type": "markdown",
   "metadata": {},
   "source": [
    "# 简单理解 LT-DF SOS RMP2"
   ]
  },
  {
   "cell_type": "markdown",
   "metadata": {},
   "source": [
    "> 创建时间：2019-10-17；最后修改：2021-06-12"
   ]
  },
  {
   "cell_type": "markdown",
   "metadata": {},
   "source": [
    "这一节承接上一节对 DF-MP2 的讨论。我们知道 DF-MP2 的计算耗时尽管比传统 MP2 低但仍然是 $O(N^5)$；这一节作的 LT-DF SOS 近似则可以确实地将计算复杂度降低为 $O(N^4)$。"
   ]
  },
  {
   "cell_type": "markdown",
   "metadata": {},
   "source": [
    ":::{note}\n",
    "\n",
    "LT-DF SOS MP2 的写法并不是目前通用的写法；可能目前也没有通用的写法。\n",
    "\n",
    "该名称的含义是 Laplace-Transformation Density-Fitting Scaled Opposite-Spin Second Order Moller-Plesset。\n",
    "\n",
    "不要被这么长的名称吓到。除了 LT 之外，其它的过程或者非常容易实现 (SOS)，或者是我们已经理解的内容 (DF, MP2)。\n",
    "\n",
    ":::"
   ]
  },
  {
   "cell_type": "code",
   "execution_count": 1,
   "metadata": {},
   "outputs": [],
   "source": [
    "%matplotlib notebook\n",
    "\n",
    "import numpy as np\n",
    "import scipy\n",
    "import quadpy\n",
    "from functools import partial\n",
    "import matplotlib.pyplot as plt\n",
    "\n",
    "from pyscf import gto, scf, mp, df\n",
    "\n",
    "np.einsum = partial(np.einsum, optimize=[\"greedy\", 1024 ** 3 * 2 / 8])\n",
    "np.set_printoptions(8, linewidth=150, suppress=True)"
   ]
  },
  {
   "cell_type": "markdown",
   "metadata": {},
   "source": [
    "在这篇文档中，我们将会将测评体系更换为乙烯分子。这主要是为了与 Jung et al. [^Jung-Head-Gordon.JCP.2004.121] 文章中 Table I 的数据作比较。"
   ]
  },
  {
   "cell_type": "markdown",
   "metadata": {},
   "source": [
    ":::{admonition} 冻核近似说明\n",
    "\n",
    "这篇文章采用了 MP2 的冻核近似 (Frozen Core)；因此我们之后的 MP2 计算也需要相应地采用冻核近似。据我所知 PySCF 没有明确地写出冻核近似代码。因此，我们需要手动指定冻核。对于乙烯分子，两个碳原子有需要被冻结的 1s 轨道，因此被冻结的占据轨道数为 2；而非占轨道的冻结数为零。\n",
    "\n",
    "程序中使用 `sf` 表示冻结后的占据轨道分割，`Cf` 与 `ef` 表示冻结后的分子轨道系数与轨道能量。为了符号简便起见，其它的程序符号基本沿用上一篇文档。\n",
    "\n",
    ":::"
   ]
  },
  {
   "cell_type": "markdown",
   "metadata": {},
   "source": [
    ":::{admonition} 分子结构说明\n",
    "\n",
    "目前使用的分子结构是在 MP2/6-31G* 下优化的乙烯分子。优化使用 Gaussian 09 rev B01 实现。尽管能重复 Jung et al. [^Jung-Head-Gordon.JCP.2004.121] 文章中乙烯分子的结果，但会在相关能的第 4 位上有些微差距。我认为这并不影响讨论。\n",
    "\n",
    "MP2 结构优化输入卡 {download}`assets/C2H4-opt.gjf` QCISD(T) 能量输入卡 {download}`assets/C2H4-eng.gjf`\n",
    "\n",
    ":::"
   ]
  },
  {
   "cell_type": "code",
   "execution_count": 2,
   "metadata": {},
   "outputs": [],
   "source": [
    "mol = gto.Mole()\n",
    "mol.atom = \"\"\"\n",
    "C   -0.668188207     0.000000075    -0.0000028526\n",
    "C    0.668188207     0.0000000727    0.0000028526\n",
    "H   -1.2382848349   -0.0000000262   -0.9232789581\n",
    "H   -1.2382926466   -0.0000000483    0.9232684342\n",
    "H    1.2382848349   -0.0000000255    0.9232789581\n",
    "H    1.2382926466   -0.0000000477   -0.9232684342\n",
    "\"\"\"\n",
    "mol.basis = \"cc-pVTZ\"\n",
    "mol.verbose = 0\n",
    "mol.build()\n",
    "\n",
    "natm = mol.natm\n",
    "nao = nmo = mol.nao\n",
    "nocc = mol.nelec[0]\n",
    "nvir = nmo - nocc\n",
    "so, sv, sa = slice(0, nocc), slice(nocc, nmo), slice(0, nmo)\n",
    "sf = slice(2, nocc)"
   ]
  },
  {
   "cell_type": "markdown",
   "metadata": {},
   "source": [
    "## 参考值"
   ]
  },
  {
   "cell_type": "markdown",
   "metadata": {},
   "source": [
    "### 参考值与 SOS-MP2"
   ]
  },
  {
   "cell_type": "markdown",
   "metadata": {},
   "source": [
    "根据 Jung et al. [^Jung-Head-Gordon.JCP.2004.121] 文章的结果，我们给出下述参考值字典 `ref`；每个键值对应的数值单位是 mH (milli-Hartree)。"
   ]
  },
  {
   "cell_type": "code",
   "execution_count": 3,
   "metadata": {},
   "outputs": [],
   "source": [
    "ref = {\n",
    "    \"QCISDT\": -375.4,\n",
    "    \"SS\": -35.5,\n",
    "    \"OS\": -264.7,\n",
    "    \"MP2\": -375.4 * 0.894,\n",
    "    \"SCS\": -375.4 * 0.909,\n",
    "    \"SOS\": -375.4 * 0.917,\n",
    "}"
   ]
  },
  {
   "cell_type": "markdown",
   "metadata": {},
   "source": [
    "其中，键值 `MP2` (Second Order Moller-Plesset), `SCS` (Spin-Component Scaled) 与 `SOS` (Scaled Opposite-Spin) 原则上都可以通过 `SS` (Same-Spin) 与 `OS` (Opposite-Spin) 对相关能的贡献给出："
   ]
  },
  {
   "cell_type": "markdown",
   "metadata": {},
   "source": [
    "$$\n",
    "E_\\mathrm{MP2, corr} = 2 E_\\mathrm{SS} + E_\\mathrm{OS}\n",
    "$$"
   ]
  },
  {
   "cell_type": "code",
   "execution_count": 4,
   "metadata": {},
   "outputs": [
    {
     "name": "stdout",
     "output_type": "stream",
     "text": [
      "-335.6076\n",
      "-335.7\n"
     ]
    }
   ],
   "source": [
    "print(ref[\"MP2\"])\n",
    "print(ref[\"SS\"] * 2 + ref[\"OS\"] * 1)"
   ]
  },
  {
   "cell_type": "markdown",
   "metadata": {},
   "source": [
    "$$\n",
    "E_\\text{SCS-MP2, corr} = 2 \\times \\frac{1}{3} E_\\mathrm{SS} + \\frac{6}{5} E_\\mathrm{OS}\n",
    "$$"
   ]
  },
  {
   "cell_type": "code",
   "execution_count": 5,
   "metadata": {},
   "outputs": [
    {
     "name": "stdout",
     "output_type": "stream",
     "text": [
      "-341.23859999999996\n",
      "-341.3066666666667\n"
     ]
    }
   ],
   "source": [
    "print(ref[\"SCS\"])\n",
    "print(ref[\"SS\"] * 2 * 1/3 + ref[\"OS\"] * 6/5)"
   ]
  },
  {
   "cell_type": "markdown",
   "metadata": {},
   "source": [
    "$$\n",
    "E_\\text{SOS-MP2, corr} = 1.3 E_\\mathrm{OS}\n",
    "$$"
   ]
  },
  {
   "cell_type": "code",
   "execution_count": 6,
   "metadata": {},
   "outputs": [
    {
     "name": "stdout",
     "output_type": "stream",
     "text": [
      "-344.2418\n",
      "-344.11\n"
     ]
    }
   ],
   "source": [
    "print(ref[\"SOS\"])\n",
    "print(ref[\"OS\"] * 1.3)"
   ]
  },
  {
   "cell_type": "markdown",
   "metadata": {
    "scrolled": true
   },
   "source": [
    "关于这些方法的细节，我们不在这里细究。在这篇文档中，我们只关心到 SOS 方法只使用了 MP2 相关能中 OS 部分的贡献。这对我们后面的讨论至关重要。我们在这篇文档将要重复的就是 SOS-MP2。"
   ]
  },
  {
   "cell_type": "markdown",
   "metadata": {},
   "source": [
    "### SCF 计算"
   ]
  },
  {
   "cell_type": "markdown",
   "metadata": {},
   "source": [
    "在继续文档以前，我们需要给出乙烯分子的各种计算结果。大多数代码记号与公式都可以与前两篇文档比对。补充出来的记号除了冻结轨道近似的部分之外，还有\n",
    "\n",
    "* $D_i^a$ `D_ia`：$\\varepsilon_i - \\varepsilon_a$\n",
    "\n",
    "由于我们关心的是 MP2 部分的 DF，因此自洽场即使不使用 DF 也不影响我们的讨论。"
   ]
  },
  {
   "cell_type": "code",
   "execution_count": 7,
   "metadata": {},
   "outputs": [],
   "source": [
    "scf_normal = scf.RHF(mol).run()\n",
    "mp2_normal = mp.MP2(scf_normal).run()"
   ]
  },
  {
   "cell_type": "code",
   "execution_count": 8,
   "metadata": {},
   "outputs": [],
   "source": [
    "C, e = scf_normal.mo_coeff, scf_normal.mo_energy\n",
    "Cf, Cv = C[:, sf], C[:, sv]\n",
    "ef, ev = e[sf], e[sv]\n",
    "D_iajb = ef[:, None, None, None] - ev[None, :, None, None] + ef[None, None, :, None] - ev[None, None, None, :]\n",
    "D_ia = ef[:, None] - ev[None, :]"
   ]
  },
  {
   "cell_type": "markdown",
   "metadata": {},
   "source": [
    "### SS/OS 计算"
   ]
  },
  {
   "cell_type": "markdown",
   "metadata": {},
   "source": [
    "MP2 能量除了使用上一份文档的 $E_\\mathrm{MP2, corr} = T_{ij}^{ab} t_{ij}^{ab} D_{ij}^{ab}$ 之外，还可以使用下述的公式计算：\n",
    "\n",
    "$$\n",
    "E_\\mathrm{MP2, corr} = \\frac{1}{D_{ij}^{ab}} (ia|jb) \\big[ 2 (ia|jb) - (ib|ja) \\big]\n",
    "$$"
   ]
  },
  {
   "cell_type": "markdown",
   "metadata": {},
   "source": [
    "上式可以拆分为\n",
    "\n",
    "$$\n",
    "\\begin{align}\n",
    "E_\\mathrm{SS} &= \\frac{1}{2} \\frac{1}{D_{ij}^{ab}} (ia|jb) \\big[ (ia|jb) - (ib|ja) \\big] \\\\\n",
    "E_\\mathrm{OS} &= \\frac{1}{D_{ij}^{ab}} (ia|jb)^2 \\\\\n",
    "E_\\mathrm{MP2, corr} &= 2 E_\\mathrm{SS} + E_\\mathrm{OS}\n",
    "\\end{align}\n",
    "$$"
   ]
  },
  {
   "cell_type": "markdown",
   "metadata": {},
   "source": [
    "其拆分依据是通过自旋轨道下的 MP2 表达式产生而来，这里不作展开。为了计算 $E_\\mathrm{OS}$，除了 $D_{ij}^{ab}$ `(D_iajb)` 之外，我们还需要 $(ia|jb)$。该变量储存于 `eri_iajb` 中："
   ]
  },
  {
   "cell_type": "code",
   "execution_count": 9,
   "metadata": {},
   "outputs": [],
   "source": [
    "eri_iajb = np.einsum(\"ui, va, uvkl, kj, lb -> iajb\", Cf, Cv, mol.intor(\"int2e\"), Cf, Cv)"
   ]
  },
  {
   "cell_type": "markdown",
   "metadata": {},
   "source": [
    "随后我们就可以计算 $E_\\mathrm{SS}$ `E_SS_normal` 与 $E_\\mathrm{OS}$ `E_OS_normal` 了："
   ]
  },
  {
   "cell_type": "code",
   "execution_count": 10,
   "metadata": {},
   "outputs": [
    {
     "name": "stdout",
     "output_type": "stream",
     "text": [
      "E_SS       in mH:  -35.46668203417094\n",
      "E_OS       in mH:  -264.8091129392841\n",
      "E_MP2_corr in mH:  -335.742477007626\n"
     ]
    }
   ],
   "source": [
    "E_SS_normal = 0.5 * (eri_iajb * (eri_iajb - eri_iajb.swapaxes(-1, -3)) / D_iajb).sum()\n",
    "E_OS_normal = (eri_iajb ** 2 / D_iajb).sum()\n",
    "print(\"E_SS       in mH: \", E_SS_normal * 1000)\n",
    "print(\"E_OS       in mH: \", E_OS_normal * 1000)\n",
    "print(\"E_MP2_corr in mH: \", (E_OS_normal + 2 * E_SS_normal) * 1000)"
   ]
  },
  {
   "cell_type": "markdown",
   "metadata": {},
   "source": [
    "这篇文档的主要目标并非重复 $E_\\mathrm{MP2, corr}$，而是重复 $E_\\text{SOS-MP2, corr}$ `E_SOS_normal`："
   ]
  },
  {
   "cell_type": "code",
   "execution_count": 11,
   "metadata": {},
   "outputs": [
    {
     "name": "stdout",
     "output_type": "stream",
     "text": [
      "E_SOS_corr in mH:  -344.25184682106936\n"
     ]
    }
   ],
   "source": [
    "E_SOS_normal = 1.3 * E_OS_normal\n",
    "print(\"E_SOS_corr in mH: \", E_SOS_normal * 1000)"
   ]
  },
  {
   "cell_type": "markdown",
   "metadata": {},
   "source": [
    "## Laplace 变换 (LT) 原理"
   ]
  },
  {
   "cell_type": "markdown",
   "metadata": {},
   "source": [
    "### $x^{-1}$ LT 数值积分"
   ]
  },
  {
   "cell_type": "markdown",
   "metadata": {},
   "source": [
    "在这里，我们不讨论更为广泛的 LT 的原理，只讨论与 MP2 计算相关的 $x^{-1} = (D_{ij}^{ab})^{-1}$ 的计算问题。对于 LT 中涉及到 MP2 的问题会放在下一小节中讨论；这里我们只需要知道乙烯分子 $x$ 的取值范围大约会是"
   ]
  },
  {
   "cell_type": "code",
   "execution_count": 12,
   "metadata": {},
   "outputs": [
    {
     "name": "stdout",
     "output_type": "stream",
     "text": [
      "|D_iajb| max in Hartree:  31.40203636576501\n",
      "|D_iajb| min in Hartree:  1.0534258481856735\n"
     ]
    }
   ],
   "source": [
    "print(\"|D_iajb| max in Hartree: \", np.abs(D_iajb).max())\n",
    "print(\"|D_iajb| min in Hartree: \", np.abs(D_iajb).min())"
   ]
  },
  {
   "cell_type": "markdown",
   "metadata": {},
   "source": [
    "$x^{-1}$ 可以通过下述方式获得：\n",
    "\n",
    "$$\n",
    "x^{-1} = \\int_0^{+ \\infty} e^{- x t} \\, \\mathrm{d} t\n",
    "$$\n",
    "\n",
    "根据格点积分的原理，我们可以将上式在格点 $\\{g\\}$ 下重新写为\n",
    "\n",
    "$$\n",
    "x^{-1} \\simeq w_g e^{- x t_g}\n",
    "$$"
   ]
  },
  {
   "cell_type": "markdown",
   "metadata": {},
   "source": [
    "现在我们从程序的角度实现上述格点积分。我们知道，$e^{-xt}$ 函数在零点处的值较大，但在远离零点处的值较小。同时，由于 $e^{-xt}$ 本身就是一种指数形式，因此我们容易想到使用指数的方式构造格点。令坐标变量 $t_g$ `grid_points`\n",
    "\n",
    "$$\n",
    "t_g = a^g\n",
    "$$\n",
    "\n",
    "那么对应的格点权重 $w_g$ `grid_weights` 应当接近\n",
    "\n",
    "$$\n",
    "w_g \\simeq \\frac{\\partial}{\\partial g} t_g = \\log a \\cdot a^g\n",
    "$$"
   ]
  },
  {
   "cell_type": "markdown",
   "metadata": {},
   "source": [
    "在这里，我们取 $a = 2.5$，而 $g \\in \\left[ -10, 5 \\right)$。这种取法一定程度上是任意的，但考虑到我们希望对 $x \\in (0.1, 100)$ 的区间，特别是靠近 $x \\in (0.1, 2)$ 的区域有比较良好的近似 (MP2 中主要产生贡献的部分在分母 $x$ 值偏小的区域)，因此这些参数并不是彻底任意地选取的。"
   ]
  },
  {
   "cell_type": "code",
   "execution_count": 13,
   "metadata": {},
   "outputs": [
    {
     "data": {
      "text/plain": [
       "array([ 0.00001678,  0.00004194,  0.00010486,  0.00026214,  0.00065536,  0.0016384 ,  0.004096  ,  0.01024   ,  0.0256    ,  0.064     ,  0.16      ,\n",
       "        0.4       ,  1.        ,  2.5       ,  6.25      , 15.625     , 39.0625    , 97.65625   ])"
      ]
     },
     "execution_count": 13,
     "metadata": {},
     "output_type": "execute_result"
    }
   ],
   "source": [
    "grid_points = 2.5 ** np.arange(-12, 6)\n",
    "grid_weights = np.log(2.5) * grid_points\n",
    "grid_points"
   ]
  },
  {
   "cell_type": "markdown",
   "metadata": {},
   "source": [
    "举例来说，如果我们要用格点近似 $2^{-1} = 0.5 \\simeq w_g e^{- 2 t_g}$，那么程序可以编写如下："
   ]
  },
  {
   "cell_type": "code",
   "execution_count": 14,
   "metadata": {},
   "outputs": [
    {
     "data": {
      "text/plain": [
       "1.0001747291147214"
      ]
     },
     "execution_count": 14,
     "metadata": {},
     "output_type": "execute_result"
    }
   ],
   "source": [
    "(grid_weights * np.exp(- 1 * grid_points)).sum()"
   ]
  },
  {
   "cell_type": "markdown",
   "metadata": {},
   "source": [
    "这应该是一个比较有效的近似了。"
   ]
  },
  {
   "cell_type": "markdown",
   "metadata": {},
   "source": [
    "### LT 数值积分精度"
   ]
  },
  {
   "cell_type": "markdown",
   "metadata": {},
   "source": [
    "对于更广泛的数值精度分析，我们在上述 LT 格点的条件下，给出如下的图像："
   ]
  },
  {
   "cell_type": "code",
   "execution_count": 15,
   "metadata": {
    "scrolled": false
   },
   "outputs": [
    {
     "data": {
      "application/javascript": [
       "/* Put everything inside the global mpl namespace */\n",
       "window.mpl = {};\n",
       "\n",
       "\n",
       "mpl.get_websocket_type = function() {\n",
       "    if (typeof(WebSocket) !== 'undefined') {\n",
       "        return WebSocket;\n",
       "    } else if (typeof(MozWebSocket) !== 'undefined') {\n",
       "        return MozWebSocket;\n",
       "    } else {\n",
       "        alert('Your browser does not have WebSocket support. ' +\n",
       "              'Please try Chrome, Safari or Firefox ≥ 6. ' +\n",
       "              'Firefox 4 and 5 are also supported but you ' +\n",
       "              'have to enable WebSockets in about:config.');\n",
       "    };\n",
       "}\n",
       "\n",
       "mpl.figure = function(figure_id, websocket, ondownload, parent_element) {\n",
       "    this.id = figure_id;\n",
       "\n",
       "    this.ws = websocket;\n",
       "\n",
       "    this.supports_binary = (this.ws.binaryType != undefined);\n",
       "\n",
       "    if (!this.supports_binary) {\n",
       "        var warnings = document.getElementById(\"mpl-warnings\");\n",
       "        if (warnings) {\n",
       "            warnings.style.display = 'block';\n",
       "            warnings.textContent = (\n",
       "                \"This browser does not support binary websocket messages. \" +\n",
       "                    \"Performance may be slow.\");\n",
       "        }\n",
       "    }\n",
       "\n",
       "    this.imageObj = new Image();\n",
       "\n",
       "    this.context = undefined;\n",
       "    this.message = undefined;\n",
       "    this.canvas = undefined;\n",
       "    this.rubberband_canvas = undefined;\n",
       "    this.rubberband_context = undefined;\n",
       "    this.format_dropdown = undefined;\n",
       "\n",
       "    this.image_mode = 'full';\n",
       "\n",
       "    this.root = $('<div/>');\n",
       "    this._root_extra_style(this.root)\n",
       "    this.root.attr('style', 'display: inline-block');\n",
       "\n",
       "    $(parent_element).append(this.root);\n",
       "\n",
       "    this._init_header(this);\n",
       "    this._init_canvas(this);\n",
       "    this._init_toolbar(this);\n",
       "\n",
       "    var fig = this;\n",
       "\n",
       "    this.waiting = false;\n",
       "\n",
       "    this.ws.onopen =  function () {\n",
       "            fig.send_message(\"supports_binary\", {value: fig.supports_binary});\n",
       "            fig.send_message(\"send_image_mode\", {});\n",
       "            if (mpl.ratio != 1) {\n",
       "                fig.send_message(\"set_dpi_ratio\", {'dpi_ratio': mpl.ratio});\n",
       "            }\n",
       "            fig.send_message(\"refresh\", {});\n",
       "        }\n",
       "\n",
       "    this.imageObj.onload = function() {\n",
       "            if (fig.image_mode == 'full') {\n",
       "                // Full images could contain transparency (where diff images\n",
       "                // almost always do), so we need to clear the canvas so that\n",
       "                // there is no ghosting.\n",
       "                fig.context.clearRect(0, 0, fig.canvas.width, fig.canvas.height);\n",
       "            }\n",
       "            fig.context.drawImage(fig.imageObj, 0, 0);\n",
       "        };\n",
       "\n",
       "    this.imageObj.onunload = function() {\n",
       "        fig.ws.close();\n",
       "    }\n",
       "\n",
       "    this.ws.onmessage = this._make_on_message_function(this);\n",
       "\n",
       "    this.ondownload = ondownload;\n",
       "}\n",
       "\n",
       "mpl.figure.prototype._init_header = function() {\n",
       "    var titlebar = $(\n",
       "        '<div class=\"ui-dialog-titlebar ui-widget-header ui-corner-all ' +\n",
       "        'ui-helper-clearfix\"/>');\n",
       "    var titletext = $(\n",
       "        '<div class=\"ui-dialog-title\" style=\"width: 100%; ' +\n",
       "        'text-align: center; padding: 3px;\"/>');\n",
       "    titlebar.append(titletext)\n",
       "    this.root.append(titlebar);\n",
       "    this.header = titletext[0];\n",
       "}\n",
       "\n",
       "\n",
       "\n",
       "mpl.figure.prototype._canvas_extra_style = function(canvas_div) {\n",
       "\n",
       "}\n",
       "\n",
       "\n",
       "mpl.figure.prototype._root_extra_style = function(canvas_div) {\n",
       "\n",
       "}\n",
       "\n",
       "mpl.figure.prototype._init_canvas = function() {\n",
       "    var fig = this;\n",
       "\n",
       "    var canvas_div = $('<div/>');\n",
       "\n",
       "    canvas_div.attr('style', 'position: relative; clear: both; outline: 0');\n",
       "\n",
       "    function canvas_keyboard_event(event) {\n",
       "        return fig.key_event(event, event['data']);\n",
       "    }\n",
       "\n",
       "    canvas_div.keydown('key_press', canvas_keyboard_event);\n",
       "    canvas_div.keyup('key_release', canvas_keyboard_event);\n",
       "    this.canvas_div = canvas_div\n",
       "    this._canvas_extra_style(canvas_div)\n",
       "    this.root.append(canvas_div);\n",
       "\n",
       "    var canvas = $('<canvas/>');\n",
       "    canvas.addClass('mpl-canvas');\n",
       "    canvas.attr('style', \"left: 0; top: 0; z-index: 0; outline: 0\")\n",
       "\n",
       "    this.canvas = canvas[0];\n",
       "    this.context = canvas[0].getContext(\"2d\");\n",
       "\n",
       "    var backingStore = this.context.backingStorePixelRatio ||\n",
       "\tthis.context.webkitBackingStorePixelRatio ||\n",
       "\tthis.context.mozBackingStorePixelRatio ||\n",
       "\tthis.context.msBackingStorePixelRatio ||\n",
       "\tthis.context.oBackingStorePixelRatio ||\n",
       "\tthis.context.backingStorePixelRatio || 1;\n",
       "\n",
       "    mpl.ratio = (window.devicePixelRatio || 1) / backingStore;\n",
       "\n",
       "    var rubberband = $('<canvas/>');\n",
       "    rubberband.attr('style', \"position: absolute; left: 0; top: 0; z-index: 1;\")\n",
       "\n",
       "    var pass_mouse_events = true;\n",
       "\n",
       "    canvas_div.resizable({\n",
       "        start: function(event, ui) {\n",
       "            pass_mouse_events = false;\n",
       "        },\n",
       "        resize: function(event, ui) {\n",
       "            fig.request_resize(ui.size.width, ui.size.height);\n",
       "        },\n",
       "        stop: function(event, ui) {\n",
       "            pass_mouse_events = true;\n",
       "            fig.request_resize(ui.size.width, ui.size.height);\n",
       "        },\n",
       "    });\n",
       "\n",
       "    function mouse_event_fn(event) {\n",
       "        if (pass_mouse_events)\n",
       "            return fig.mouse_event(event, event['data']);\n",
       "    }\n",
       "\n",
       "    rubberband.mousedown('button_press', mouse_event_fn);\n",
       "    rubberband.mouseup('button_release', mouse_event_fn);\n",
       "    // Throttle sequential mouse events to 1 every 20ms.\n",
       "    rubberband.mousemove('motion_notify', mouse_event_fn);\n",
       "\n",
       "    rubberband.mouseenter('figure_enter', mouse_event_fn);\n",
       "    rubberband.mouseleave('figure_leave', mouse_event_fn);\n",
       "\n",
       "    canvas_div.on(\"wheel\", function (event) {\n",
       "        event = event.originalEvent;\n",
       "        event['data'] = 'scroll'\n",
       "        if (event.deltaY < 0) {\n",
       "            event.step = 1;\n",
       "        } else {\n",
       "            event.step = -1;\n",
       "        }\n",
       "        mouse_event_fn(event);\n",
       "    });\n",
       "\n",
       "    canvas_div.append(canvas);\n",
       "    canvas_div.append(rubberband);\n",
       "\n",
       "    this.rubberband = rubberband;\n",
       "    this.rubberband_canvas = rubberband[0];\n",
       "    this.rubberband_context = rubberband[0].getContext(\"2d\");\n",
       "    this.rubberband_context.strokeStyle = \"#000000\";\n",
       "\n",
       "    this._resize_canvas = function(width, height) {\n",
       "        // Keep the size of the canvas, canvas container, and rubber band\n",
       "        // canvas in synch.\n",
       "        canvas_div.css('width', width)\n",
       "        canvas_div.css('height', height)\n",
       "\n",
       "        canvas.attr('width', width * mpl.ratio);\n",
       "        canvas.attr('height', height * mpl.ratio);\n",
       "        canvas.attr('style', 'width: ' + width + 'px; height: ' + height + 'px;');\n",
       "\n",
       "        rubberband.attr('width', width);\n",
       "        rubberband.attr('height', height);\n",
       "    }\n",
       "\n",
       "    // Set the figure to an initial 600x600px, this will subsequently be updated\n",
       "    // upon first draw.\n",
       "    this._resize_canvas(600, 600);\n",
       "\n",
       "    // Disable right mouse context menu.\n",
       "    $(this.rubberband_canvas).bind(\"contextmenu\",function(e){\n",
       "        return false;\n",
       "    });\n",
       "\n",
       "    function set_focus () {\n",
       "        canvas.focus();\n",
       "        canvas_div.focus();\n",
       "    }\n",
       "\n",
       "    window.setTimeout(set_focus, 100);\n",
       "}\n",
       "\n",
       "mpl.figure.prototype._init_toolbar = function() {\n",
       "    var fig = this;\n",
       "\n",
       "    var nav_element = $('<div/>');\n",
       "    nav_element.attr('style', 'width: 100%');\n",
       "    this.root.append(nav_element);\n",
       "\n",
       "    // Define a callback function for later on.\n",
       "    function toolbar_event(event) {\n",
       "        return fig.toolbar_button_onclick(event['data']);\n",
       "    }\n",
       "    function toolbar_mouse_event(event) {\n",
       "        return fig.toolbar_button_onmouseover(event['data']);\n",
       "    }\n",
       "\n",
       "    for(var toolbar_ind in mpl.toolbar_items) {\n",
       "        var name = mpl.toolbar_items[toolbar_ind][0];\n",
       "        var tooltip = mpl.toolbar_items[toolbar_ind][1];\n",
       "        var image = mpl.toolbar_items[toolbar_ind][2];\n",
       "        var method_name = mpl.toolbar_items[toolbar_ind][3];\n",
       "\n",
       "        if (!name) {\n",
       "            // put a spacer in here.\n",
       "            continue;\n",
       "        }\n",
       "        var button = $('<button/>');\n",
       "        button.addClass('ui-button ui-widget ui-state-default ui-corner-all ' +\n",
       "                        'ui-button-icon-only');\n",
       "        button.attr('role', 'button');\n",
       "        button.attr('aria-disabled', 'false');\n",
       "        button.click(method_name, toolbar_event);\n",
       "        button.mouseover(tooltip, toolbar_mouse_event);\n",
       "\n",
       "        var icon_img = $('<span/>');\n",
       "        icon_img.addClass('ui-button-icon-primary ui-icon');\n",
       "        icon_img.addClass(image);\n",
       "        icon_img.addClass('ui-corner-all');\n",
       "\n",
       "        var tooltip_span = $('<span/>');\n",
       "        tooltip_span.addClass('ui-button-text');\n",
       "        tooltip_span.html(tooltip);\n",
       "\n",
       "        button.append(icon_img);\n",
       "        button.append(tooltip_span);\n",
       "\n",
       "        nav_element.append(button);\n",
       "    }\n",
       "\n",
       "    var fmt_picker_span = $('<span/>');\n",
       "\n",
       "    var fmt_picker = $('<select/>');\n",
       "    fmt_picker.addClass('mpl-toolbar-option ui-widget ui-widget-content');\n",
       "    fmt_picker_span.append(fmt_picker);\n",
       "    nav_element.append(fmt_picker_span);\n",
       "    this.format_dropdown = fmt_picker[0];\n",
       "\n",
       "    for (var ind in mpl.extensions) {\n",
       "        var fmt = mpl.extensions[ind];\n",
       "        var option = $(\n",
       "            '<option/>', {selected: fmt === mpl.default_extension}).html(fmt);\n",
       "        fmt_picker.append(option);\n",
       "    }\n",
       "\n",
       "    // Add hover states to the ui-buttons\n",
       "    $( \".ui-button\" ).hover(\n",
       "        function() { $(this).addClass(\"ui-state-hover\");},\n",
       "        function() { $(this).removeClass(\"ui-state-hover\");}\n",
       "    );\n",
       "\n",
       "    var status_bar = $('<span class=\"mpl-message\"/>');\n",
       "    nav_element.append(status_bar);\n",
       "    this.message = status_bar[0];\n",
       "}\n",
       "\n",
       "mpl.figure.prototype.request_resize = function(x_pixels, y_pixels) {\n",
       "    // Request matplotlib to resize the figure. Matplotlib will then trigger a resize in the client,\n",
       "    // which will in turn request a refresh of the image.\n",
       "    this.send_message('resize', {'width': x_pixels, 'height': y_pixels});\n",
       "}\n",
       "\n",
       "mpl.figure.prototype.send_message = function(type, properties) {\n",
       "    properties['type'] = type;\n",
       "    properties['figure_id'] = this.id;\n",
       "    this.ws.send(JSON.stringify(properties));\n",
       "}\n",
       "\n",
       "mpl.figure.prototype.send_draw_message = function() {\n",
       "    if (!this.waiting) {\n",
       "        this.waiting = true;\n",
       "        this.ws.send(JSON.stringify({type: \"draw\", figure_id: this.id}));\n",
       "    }\n",
       "}\n",
       "\n",
       "\n",
       "mpl.figure.prototype.handle_save = function(fig, msg) {\n",
       "    var format_dropdown = fig.format_dropdown;\n",
       "    var format = format_dropdown.options[format_dropdown.selectedIndex].value;\n",
       "    fig.ondownload(fig, format);\n",
       "}\n",
       "\n",
       "\n",
       "mpl.figure.prototype.handle_resize = function(fig, msg) {\n",
       "    var size = msg['size'];\n",
       "    if (size[0] != fig.canvas.width || size[1] != fig.canvas.height) {\n",
       "        fig._resize_canvas(size[0], size[1]);\n",
       "        fig.send_message(\"refresh\", {});\n",
       "    };\n",
       "}\n",
       "\n",
       "mpl.figure.prototype.handle_rubberband = function(fig, msg) {\n",
       "    var x0 = msg['x0'] / mpl.ratio;\n",
       "    var y0 = (fig.canvas.height - msg['y0']) / mpl.ratio;\n",
       "    var x1 = msg['x1'] / mpl.ratio;\n",
       "    var y1 = (fig.canvas.height - msg['y1']) / mpl.ratio;\n",
       "    x0 = Math.floor(x0) + 0.5;\n",
       "    y0 = Math.floor(y0) + 0.5;\n",
       "    x1 = Math.floor(x1) + 0.5;\n",
       "    y1 = Math.floor(y1) + 0.5;\n",
       "    var min_x = Math.min(x0, x1);\n",
       "    var min_y = Math.min(y0, y1);\n",
       "    var width = Math.abs(x1 - x0);\n",
       "    var height = Math.abs(y1 - y0);\n",
       "\n",
       "    fig.rubberband_context.clearRect(\n",
       "        0, 0, fig.canvas.width, fig.canvas.height);\n",
       "\n",
       "    fig.rubberband_context.strokeRect(min_x, min_y, width, height);\n",
       "}\n",
       "\n",
       "mpl.figure.prototype.handle_figure_label = function(fig, msg) {\n",
       "    // Updates the figure title.\n",
       "    fig.header.textContent = msg['label'];\n",
       "}\n",
       "\n",
       "mpl.figure.prototype.handle_cursor = function(fig, msg) {\n",
       "    var cursor = msg['cursor'];\n",
       "    switch(cursor)\n",
       "    {\n",
       "    case 0:\n",
       "        cursor = 'pointer';\n",
       "        break;\n",
       "    case 1:\n",
       "        cursor = 'default';\n",
       "        break;\n",
       "    case 2:\n",
       "        cursor = 'crosshair';\n",
       "        break;\n",
       "    case 3:\n",
       "        cursor = 'move';\n",
       "        break;\n",
       "    }\n",
       "    fig.rubberband_canvas.style.cursor = cursor;\n",
       "}\n",
       "\n",
       "mpl.figure.prototype.handle_message = function(fig, msg) {\n",
       "    fig.message.textContent = msg['message'];\n",
       "}\n",
       "\n",
       "mpl.figure.prototype.handle_draw = function(fig, msg) {\n",
       "    // Request the server to send over a new figure.\n",
       "    fig.send_draw_message();\n",
       "}\n",
       "\n",
       "mpl.figure.prototype.handle_image_mode = function(fig, msg) {\n",
       "    fig.image_mode = msg['mode'];\n",
       "}\n",
       "\n",
       "mpl.figure.prototype.updated_canvas_event = function() {\n",
       "    // Called whenever the canvas gets updated.\n",
       "    this.send_message(\"ack\", {});\n",
       "}\n",
       "\n",
       "// A function to construct a web socket function for onmessage handling.\n",
       "// Called in the figure constructor.\n",
       "mpl.figure.prototype._make_on_message_function = function(fig) {\n",
       "    return function socket_on_message(evt) {\n",
       "        if (evt.data instanceof Blob) {\n",
       "            /* FIXME: We get \"Resource interpreted as Image but\n",
       "             * transferred with MIME type text/plain:\" errors on\n",
       "             * Chrome.  But how to set the MIME type?  It doesn't seem\n",
       "             * to be part of the websocket stream */\n",
       "            evt.data.type = \"image/png\";\n",
       "\n",
       "            /* Free the memory for the previous frames */\n",
       "            if (fig.imageObj.src) {\n",
       "                (window.URL || window.webkitURL).revokeObjectURL(\n",
       "                    fig.imageObj.src);\n",
       "            }\n",
       "\n",
       "            fig.imageObj.src = (window.URL || window.webkitURL).createObjectURL(\n",
       "                evt.data);\n",
       "            fig.updated_canvas_event();\n",
       "            fig.waiting = false;\n",
       "            return;\n",
       "        }\n",
       "        else if (typeof evt.data === 'string' && evt.data.slice(0, 21) == \"data:image/png;base64\") {\n",
       "            fig.imageObj.src = evt.data;\n",
       "            fig.updated_canvas_event();\n",
       "            fig.waiting = false;\n",
       "            return;\n",
       "        }\n",
       "\n",
       "        var msg = JSON.parse(evt.data);\n",
       "        var msg_type = msg['type'];\n",
       "\n",
       "        // Call the  \"handle_{type}\" callback, which takes\n",
       "        // the figure and JSON message as its only arguments.\n",
       "        try {\n",
       "            var callback = fig[\"handle_\" + msg_type];\n",
       "        } catch (e) {\n",
       "            console.log(\"No handler for the '\" + msg_type + \"' message type: \", msg);\n",
       "            return;\n",
       "        }\n",
       "\n",
       "        if (callback) {\n",
       "            try {\n",
       "                // console.log(\"Handling '\" + msg_type + \"' message: \", msg);\n",
       "                callback(fig, msg);\n",
       "            } catch (e) {\n",
       "                console.log(\"Exception inside the 'handler_\" + msg_type + \"' callback:\", e, e.stack, msg);\n",
       "            }\n",
       "        }\n",
       "    };\n",
       "}\n",
       "\n",
       "// from http://stackoverflow.com/questions/1114465/getting-mouse-location-in-canvas\n",
       "mpl.findpos = function(e) {\n",
       "    //this section is from http://www.quirksmode.org/js/events_properties.html\n",
       "    var targ;\n",
       "    if (!e)\n",
       "        e = window.event;\n",
       "    if (e.target)\n",
       "        targ = e.target;\n",
       "    else if (e.srcElement)\n",
       "        targ = e.srcElement;\n",
       "    if (targ.nodeType == 3) // defeat Safari bug\n",
       "        targ = targ.parentNode;\n",
       "\n",
       "    // jQuery normalizes the pageX and pageY\n",
       "    // pageX,Y are the mouse positions relative to the document\n",
       "    // offset() returns the position of the element relative to the document\n",
       "    var x = e.pageX - $(targ).offset().left;\n",
       "    var y = e.pageY - $(targ).offset().top;\n",
       "\n",
       "    return {\"x\": x, \"y\": y};\n",
       "};\n",
       "\n",
       "/*\n",
       " * return a copy of an object with only non-object keys\n",
       " * we need this to avoid circular references\n",
       " * http://stackoverflow.com/a/24161582/3208463\n",
       " */\n",
       "function simpleKeys (original) {\n",
       "  return Object.keys(original).reduce(function (obj, key) {\n",
       "    if (typeof original[key] !== 'object')\n",
       "        obj[key] = original[key]\n",
       "    return obj;\n",
       "  }, {});\n",
       "}\n",
       "\n",
       "mpl.figure.prototype.mouse_event = function(event, name) {\n",
       "    var canvas_pos = mpl.findpos(event)\n",
       "\n",
       "    if (name === 'button_press')\n",
       "    {\n",
       "        this.canvas.focus();\n",
       "        this.canvas_div.focus();\n",
       "    }\n",
       "\n",
       "    var x = canvas_pos.x * mpl.ratio;\n",
       "    var y = canvas_pos.y * mpl.ratio;\n",
       "\n",
       "    this.send_message(name, {x: x, y: y, button: event.button,\n",
       "                             step: event.step,\n",
       "                             guiEvent: simpleKeys(event)});\n",
       "\n",
       "    /* This prevents the web browser from automatically changing to\n",
       "     * the text insertion cursor when the button is pressed.  We want\n",
       "     * to control all of the cursor setting manually through the\n",
       "     * 'cursor' event from matplotlib */\n",
       "    event.preventDefault();\n",
       "    return false;\n",
       "}\n",
       "\n",
       "mpl.figure.prototype._key_event_extra = function(event, name) {\n",
       "    // Handle any extra behaviour associated with a key event\n",
       "}\n",
       "\n",
       "mpl.figure.prototype.key_event = function(event, name) {\n",
       "\n",
       "    // Prevent repeat events\n",
       "    if (name == 'key_press')\n",
       "    {\n",
       "        if (event.which === this._key)\n",
       "            return;\n",
       "        else\n",
       "            this._key = event.which;\n",
       "    }\n",
       "    if (name == 'key_release')\n",
       "        this._key = null;\n",
       "\n",
       "    var value = '';\n",
       "    if (event.ctrlKey && event.which != 17)\n",
       "        value += \"ctrl+\";\n",
       "    if (event.altKey && event.which != 18)\n",
       "        value += \"alt+\";\n",
       "    if (event.shiftKey && event.which != 16)\n",
       "        value += \"shift+\";\n",
       "\n",
       "    value += 'k';\n",
       "    value += event.which.toString();\n",
       "\n",
       "    this._key_event_extra(event, name);\n",
       "\n",
       "    this.send_message(name, {key: value,\n",
       "                             guiEvent: simpleKeys(event)});\n",
       "    return false;\n",
       "}\n",
       "\n",
       "mpl.figure.prototype.toolbar_button_onclick = function(name) {\n",
       "    if (name == 'download') {\n",
       "        this.handle_save(this, null);\n",
       "    } else {\n",
       "        this.send_message(\"toolbar_button\", {name: name});\n",
       "    }\n",
       "};\n",
       "\n",
       "mpl.figure.prototype.toolbar_button_onmouseover = function(tooltip) {\n",
       "    this.message.textContent = tooltip;\n",
       "};\n",
       "mpl.toolbar_items = [[\"Home\", \"Reset original view\", \"fa fa-home icon-home\", \"home\"], [\"Back\", \"Back to previous view\", \"fa fa-arrow-left icon-arrow-left\", \"back\"], [\"Forward\", \"Forward to next view\", \"fa fa-arrow-right icon-arrow-right\", \"forward\"], [\"\", \"\", \"\", \"\"], [\"Pan\", \"Pan axes with left mouse, zoom with right\", \"fa fa-arrows icon-move\", \"pan\"], [\"Zoom\", \"Zoom to rectangle\", \"fa fa-square-o icon-check-empty\", \"zoom\"], [\"\", \"\", \"\", \"\"], [\"Download\", \"Download plot\", \"fa fa-floppy-o icon-save\", \"download\"]];\n",
       "\n",
       "mpl.extensions = [\"eps\", \"jpeg\", \"pdf\", \"png\", \"ps\", \"raw\", \"svg\", \"tif\"];\n",
       "\n",
       "mpl.default_extension = \"png\";var comm_websocket_adapter = function(comm) {\n",
       "    // Create a \"websocket\"-like object which calls the given IPython comm\n",
       "    // object with the appropriate methods. Currently this is a non binary\n",
       "    // socket, so there is still some room for performance tuning.\n",
       "    var ws = {};\n",
       "\n",
       "    ws.close = function() {\n",
       "        comm.close()\n",
       "    };\n",
       "    ws.send = function(m) {\n",
       "        //console.log('sending', m);\n",
       "        comm.send(m);\n",
       "    };\n",
       "    // Register the callback with on_msg.\n",
       "    comm.on_msg(function(msg) {\n",
       "        //console.log('receiving', msg['content']['data'], msg);\n",
       "        // Pass the mpl event to the overridden (by mpl) onmessage function.\n",
       "        ws.onmessage(msg['content']['data'])\n",
       "    });\n",
       "    return ws;\n",
       "}\n",
       "\n",
       "mpl.mpl_figure_comm = function(comm, msg) {\n",
       "    // This is the function which gets called when the mpl process\n",
       "    // starts-up an IPython Comm through the \"matplotlib\" channel.\n",
       "\n",
       "    var id = msg.content.data.id;\n",
       "    // Get hold of the div created by the display call when the Comm\n",
       "    // socket was opened in Python.\n",
       "    var element = $(\"#\" + id);\n",
       "    var ws_proxy = comm_websocket_adapter(comm)\n",
       "\n",
       "    function ondownload(figure, format) {\n",
       "        window.open(figure.imageObj.src);\n",
       "    }\n",
       "\n",
       "    var fig = new mpl.figure(id, ws_proxy,\n",
       "                           ondownload,\n",
       "                           element.get(0));\n",
       "\n",
       "    // Call onopen now - mpl needs it, as it is assuming we've passed it a real\n",
       "    // web socket which is closed, not our websocket->open comm proxy.\n",
       "    ws_proxy.onopen();\n",
       "\n",
       "    fig.parent_element = element.get(0);\n",
       "    fig.cell_info = mpl.find_output_cell(\"<div id='\" + id + \"'></div>\");\n",
       "    if (!fig.cell_info) {\n",
       "        console.error(\"Failed to find cell for figure\", id, fig);\n",
       "        return;\n",
       "    }\n",
       "\n",
       "    var output_index = fig.cell_info[2]\n",
       "    var cell = fig.cell_info[0];\n",
       "\n",
       "};\n",
       "\n",
       "mpl.figure.prototype.handle_close = function(fig, msg) {\n",
       "    var width = fig.canvas.width/mpl.ratio\n",
       "    fig.root.unbind('remove')\n",
       "\n",
       "    // Update the output cell to use the data from the current canvas.\n",
       "    fig.push_to_output();\n",
       "    var dataURL = fig.canvas.toDataURL();\n",
       "    // Re-enable the keyboard manager in IPython - without this line, in FF,\n",
       "    // the notebook keyboard shortcuts fail.\n",
       "    IPython.keyboard_manager.enable()\n",
       "    $(fig.parent_element).html('<img src=\"' + dataURL + '\" width=\"' + width + '\">');\n",
       "    fig.close_ws(fig, msg);\n",
       "}\n",
       "\n",
       "mpl.figure.prototype.close_ws = function(fig, msg){\n",
       "    fig.send_message('closing', msg);\n",
       "    // fig.ws.close()\n",
       "}\n",
       "\n",
       "mpl.figure.prototype.push_to_output = function(remove_interactive) {\n",
       "    // Turn the data on the canvas into data in the output cell.\n",
       "    var width = this.canvas.width/mpl.ratio\n",
       "    var dataURL = this.canvas.toDataURL();\n",
       "    this.cell_info[1]['text/html'] = '<img src=\"' + dataURL + '\" width=\"' + width + '\">';\n",
       "}\n",
       "\n",
       "mpl.figure.prototype.updated_canvas_event = function() {\n",
       "    // Tell IPython that the notebook contents must change.\n",
       "    IPython.notebook.set_dirty(true);\n",
       "    this.send_message(\"ack\", {});\n",
       "    var fig = this;\n",
       "    // Wait a second, then push the new image to the DOM so\n",
       "    // that it is saved nicely (might be nice to debounce this).\n",
       "    setTimeout(function () { fig.push_to_output() }, 1000);\n",
       "}\n",
       "\n",
       "mpl.figure.prototype._init_toolbar = function() {\n",
       "    var fig = this;\n",
       "\n",
       "    var nav_element = $('<div/>');\n",
       "    nav_element.attr('style', 'width: 100%');\n",
       "    this.root.append(nav_element);\n",
       "\n",
       "    // Define a callback function for later on.\n",
       "    function toolbar_event(event) {\n",
       "        return fig.toolbar_button_onclick(event['data']);\n",
       "    }\n",
       "    function toolbar_mouse_event(event) {\n",
       "        return fig.toolbar_button_onmouseover(event['data']);\n",
       "    }\n",
       "\n",
       "    for(var toolbar_ind in mpl.toolbar_items){\n",
       "        var name = mpl.toolbar_items[toolbar_ind][0];\n",
       "        var tooltip = mpl.toolbar_items[toolbar_ind][1];\n",
       "        var image = mpl.toolbar_items[toolbar_ind][2];\n",
       "        var method_name = mpl.toolbar_items[toolbar_ind][3];\n",
       "\n",
       "        if (!name) { continue; };\n",
       "\n",
       "        var button = $('<button class=\"btn btn-default\" href=\"#\" title=\"' + name + '\"><i class=\"fa ' + image + ' fa-lg\"></i></button>');\n",
       "        button.click(method_name, toolbar_event);\n",
       "        button.mouseover(tooltip, toolbar_mouse_event);\n",
       "        nav_element.append(button);\n",
       "    }\n",
       "\n",
       "    // Add the status bar.\n",
       "    var status_bar = $('<span class=\"mpl-message\" style=\"text-align:right; float: right;\"/>');\n",
       "    nav_element.append(status_bar);\n",
       "    this.message = status_bar[0];\n",
       "\n",
       "    // Add the close button to the window.\n",
       "    var buttongrp = $('<div class=\"btn-group inline pull-right\"></div>');\n",
       "    var button = $('<button class=\"btn btn-mini btn-primary\" href=\"#\" title=\"Stop Interaction\"><i class=\"fa fa-power-off icon-remove icon-large\"></i></button>');\n",
       "    button.click(function (evt) { fig.handle_close(fig, {}); } );\n",
       "    button.mouseover('Stop Interaction', toolbar_mouse_event);\n",
       "    buttongrp.append(button);\n",
       "    var titlebar = this.root.find($('.ui-dialog-titlebar'));\n",
       "    titlebar.prepend(buttongrp);\n",
       "}\n",
       "\n",
       "mpl.figure.prototype._root_extra_style = function(el){\n",
       "    var fig = this\n",
       "    el.on(\"remove\", function(){\n",
       "\tfig.close_ws(fig, {});\n",
       "    });\n",
       "}\n",
       "\n",
       "mpl.figure.prototype._canvas_extra_style = function(el){\n",
       "    // this is important to make the div 'focusable\n",
       "    el.attr('tabindex', 0)\n",
       "    // reach out to IPython and tell the keyboard manager to turn it's self\n",
       "    // off when our div gets focus\n",
       "\n",
       "    // location in version 3\n",
       "    if (IPython.notebook.keyboard_manager) {\n",
       "        IPython.notebook.keyboard_manager.register_events(el);\n",
       "    }\n",
       "    else {\n",
       "        // location in version 2\n",
       "        IPython.keyboard_manager.register_events(el);\n",
       "    }\n",
       "\n",
       "}\n",
       "\n",
       "mpl.figure.prototype._key_event_extra = function(event, name) {\n",
       "    var manager = IPython.notebook.keyboard_manager;\n",
       "    if (!manager)\n",
       "        manager = IPython.keyboard_manager;\n",
       "\n",
       "    // Check for shift+enter\n",
       "    if (event.shiftKey && event.which == 13) {\n",
       "        this.canvas_div.blur();\n",
       "        event.shiftKey = false;\n",
       "        // Send a \"J\" for go to next cell\n",
       "        event.which = 74;\n",
       "        event.keyCode = 74;\n",
       "        manager.command_mode();\n",
       "        manager.handle_keydown(event);\n",
       "    }\n",
       "}\n",
       "\n",
       "mpl.figure.prototype.handle_save = function(fig, msg) {\n",
       "    fig.ondownload(fig, null);\n",
       "}\n",
       "\n",
       "\n",
       "mpl.find_output_cell = function(html_output) {\n",
       "    // Return the cell and output element which can be found *uniquely* in the notebook.\n",
       "    // Note - this is a bit hacky, but it is done because the \"notebook_saving.Notebook\"\n",
       "    // IPython event is triggered only after the cells have been serialised, which for\n",
       "    // our purposes (turning an active figure into a static one), is too late.\n",
       "    var cells = IPython.notebook.get_cells();\n",
       "    var ncells = cells.length;\n",
       "    for (var i=0; i<ncells; i++) {\n",
       "        var cell = cells[i];\n",
       "        if (cell.cell_type === 'code'){\n",
       "            for (var j=0; j<cell.output_area.outputs.length; j++) {\n",
       "                var data = cell.output_area.outputs[j];\n",
       "                if (data.data) {\n",
       "                    // IPython >= 3 moved mimebundle to data attribute of output\n",
       "                    data = data.data;\n",
       "                }\n",
       "                if (data['text/html'] == html_output) {\n",
       "                    return [cell, data, j];\n",
       "                }\n",
       "            }\n",
       "        }\n",
       "    }\n",
       "}\n",
       "\n",
       "// Register the function which deals with the matplotlib target/channel.\n",
       "// The kernel may be null if the page has been refreshed.\n",
       "if (IPython.notebook.kernel != null) {\n",
       "    IPython.notebook.kernel.comm_manager.register_target('matplotlib', mpl.mpl_figure_comm);\n",
       "}\n"
      ],
      "text/plain": [
       "<IPython.core.display.Javascript object>"
      ]
     },
     "metadata": {},
     "output_type": "display_data"
    },
    {
     "data": {
      "text/html": [
       "<img src=\"data:image/png;base64,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\" width=\"640\">"
      ],
      "text/plain": [
       "<IPython.core.display.HTML object>"
      ]
     },
     "metadata": {},
     "output_type": "display_data"
    },
    {
     "data": {
      "text/plain": [
       "Text(0.5, 1.0, 'Ratio of $\\\\sum_g w_g e^{-x t_g}$ to $1/x$')"
      ]
     },
     "execution_count": 15,
     "metadata": {},
     "output_type": "execute_result"
    }
   ],
   "source": [
    "fig, ax = plt.subplots()\n",
    "\n",
    "x_axis = np.logspace(-2, 3, 100)\n",
    "y_axis = (grid_weights * np.exp(- x_axis[:, None] * grid_points)).sum(axis=-1) * x_axis\n",
    "ax.plot(x_axis, y_axis)\n",
    "ax.plot([1e-2, 1e3], [1.001, 1.001], color=\"C1\", linestyle=\":\")\n",
    "ax.plot([1e-2, 1e3], [1, 1], color=\"black\", linestyle=\":\")\n",
    "ax.plot([1e-2, 1e3], [0.999, 0.999], color=\"C1\", linestyle=\":\")\n",
    "ax.plot([1e-1, 1e-1], [0, 2], color=\"C2\", linestyle=\":\")\n",
    "ax.plot([1e2, 1e2], [0, 2], color=\"C2\", linestyle=\":\")\n",
    "ax.set_ylim(0.99,1.002)\n",
    "ax.set_xscale(\"log\")\n",
    "\n",
    "ax.set_xlabel(\"$x$\")\n",
    "ax.set_ylabel(\"Relative error\")\n",
    "ax.set_title(\"Ratio of $\\sum_g w_g e^{-x t_g}$ to $1/x$\")"
   ]
  },
  {
   "cell_type": "markdown",
   "metadata": {},
   "source": [
    "上图表示的是在不同 $x$ 取值下，我们所给出的格点积分 $w_g e^{-x t_g}$ 的精度；在 $x \\in (0.1, 100)$ 的区间内我们仍然能保证 $0.1\\%$ 的精度，但超过这些区域之后，结果就会迅速地变差。\n",
    "\n",
    "我们知道，若分子呈现近简并的情形，那么 $x = D_{ij}^{ab}$ 会非常小；在这种情况下，LT 所提供的格点积分就很可能无法正确地描述分母 $D_{ij}^{ab}$ 的行为，使得本来在近简并就无法正常计算的 MP2 的情况雪上加霜。但若分子的 HOMO/LUMO 的能级差足够大并且大于 $0.1$ 个 Hartree，那么我们应当预期当前格点下的 LT 近似可以几乎精确地给出相关能。"
   ]
  },
  {
   "cell_type": "markdown",
   "metadata": {},
   "source": [
    "### LT SOS MP2"
   ]
  },
  {
   "cell_type": "markdown",
   "metadata": {},
   "source": [
    "现在我们就可以用上刚才的技术，对 LT SOS MP2 进行计算。这并不会提升任何计算效率；这里只是用来验证我们方才作的 LT 近似的有效性。"
   ]
  },
  {
   "cell_type": "markdown",
   "metadata": {},
   "source": [
    "在 LT 近似下，SOS 能量可以表达为\n",
    "\n",
    "$$\n",
    "\\begin{align}\n",
    "E_\\text{SOS-MP2, corr} &= 1.3 \\frac{1}{D_{ij}^{ab}} (ia|jb)^2 \\\\\n",
    "&= - 1.3 (ia|jb)^2 \\int_0^{+\\infty} e^{D_{ij}^{ab} t} \\, \\mathrm{d} t \\\\\n",
    "&\\simeq -1.3 w_g (ia|jb)^2e^{D_{ij}^{ab} t_g}\n",
    "\\end{align}\n",
    "$$"
   ]
  },
  {
   "cell_type": "markdown",
   "metadata": {},
   "source": [
    "这里的公式的正负号可能不太直观。这是因为在这篇文档的记号下，$D_{ij}^{ab} < 0$。我们通过如下代码，给出 LT SOS MP2 能量："
   ]
  },
  {
   "cell_type": "code",
   "execution_count": 16,
   "metadata": {},
   "outputs": [
    {
     "name": "stdout",
     "output_type": "stream",
     "text": [
      "LT-SOS-MP2 corr      in mH:  -344.2429384155852\n",
      "Deviation to SOS-MP2 in mH:  0.00890840548417593\n"
     ]
    }
   ],
   "source": [
    "E_SOS_LT = - 1.3 * np.einsum(\"g, iajb, giajb ->\", grid_weights, eri_iajb**2, np.exp(D_iajb * grid_points[:, None, None, None, None]))\n",
    "print(\"LT-SOS-MP2 corr      in mH: \", E_SOS_LT * 1000)\n",
    "print(\"Deviation to SOS-MP2 in mH: \", (E_SOS_LT - E_SOS_normal) * 1000)"
   ]
  },
  {
   "cell_type": "markdown",
   "metadata": {},
   "source": [
    "我们可以发现这是一个有效的近似。"
   ]
  },
  {
   "cell_type": "markdown",
   "metadata": {},
   "source": [
    "## LT-DF SOS MP2"
   ]
  },
  {
   "cell_type": "markdown",
   "metadata": {},
   "source": [
    "### DF 环境设置"
   ]
  },
  {
   "cell_type": "markdown",
   "metadata": {},
   "source": [
    "在继续文档之前，我们需要对 DF 的环境作一些简单的设置。"
   ]
  },
  {
   "cell_type": "code",
   "execution_count": 17,
   "metadata": {},
   "outputs": [],
   "source": [
    "auxmol = mol.copy()\n",
    "auxmol.basis = \"cc-pvtz-ri\"\n",
    "auxmol.build()\n",
    "\n",
    "nao_df = auxmol.nao"
   ]
  },
  {
   "cell_type": "code",
   "execution_count": 18,
   "metadata": {},
   "outputs": [],
   "source": [
    "int2c2e = auxmol.intor(\"int2c2e\")\n",
    "int2c2e.shape\n",
    "int3c2e = df.incore.aux_e2(mol, auxmol)\n",
    "\n",
    "int2c2e_half = scipy.linalg.cholesky(int2c2e, lower=True)\n",
    "V_df_mp2 = scipy.linalg.solve_triangular(int2c2e_half, int3c2e.reshape(-1, nao_df).T, lower=True)\\\n",
    "               .reshape(nao_df, nao, nao).transpose((1, 2, 0))"
   ]
  },
  {
   "cell_type": "markdown",
   "metadata": {},
   "source": [
    "尽管这里的 $V_{ia, P}$ `V_df_ia` 与前一篇文档中的 $V_{ia, P}^\\mathrm{MP2}$ 是相同的，但需要注意到这里的轨道 $i$ 是价层的占据轨道，而不能是冻结的占据轨道。"
   ]
  },
  {
   "cell_type": "code",
   "execution_count": 19,
   "metadata": {},
   "outputs": [],
   "source": [
    "V_df_ia = np.einsum(\"uvP, ui, va -> iaP\", V_df_mp2, Cf, Cv)"
   ]
  },
  {
   "cell_type": "markdown",
   "metadata": {},
   "source": [
    "### LT-DF SOS MP2 表达式"
   ]
  },
  {
   "cell_type": "markdown",
   "metadata": {},
   "source": [
    "我们对上面提到的 LT SOS MP2 的近似表达式再作 DF 近似：\n",
    "\n",
    "$$\n",
    "\\begin{align}\n",
    "E_\\text{SOS-MP2, corr} &\\simeq -1.3 w_g (ia|jb)^2 e^{D_{ij}^{ab} t_g} \\\\\n",
    "&\\simeq -1.3 w_g V_{ia, P} V_{jb, P} V_{ia, Q} V_{jb, Q} e^{D_{ij}^{ab} t_g} \\\\\n",
    "&= -1.3 w_g V_{ia, P} V_{jb, P} V_{ia, Q} V_{jb, Q} e^{D_i^a t_g} e^{D_j^b t_g}\n",
    "\\end{align}\n",
    "$$\n",
    "\n",
    "注意到最后一个等号利用到 $D_{ij}^{ab} = D_i^a + D_j^b$。"
   ]
  },
  {
   "cell_type": "code",
   "execution_count": 20,
   "metadata": {},
   "outputs": [
    {
     "name": "stdout",
     "output_type": "stream",
     "text": [
      "LT-DF-SOS-MP2 corr   in mH:  -344.1316103156453\n",
      "Deviation to SOS-MP2 in mH:  0.12023650542408726\n"
     ]
    }
   ],
   "source": [
    "E_SOS_LTDF = - 1.3 * np.einsum(\"g, iaP, jbP, iaQ, jbQ, gia, gjb ->\",\n",
    "                               grid_weights, V_df_ia, V_df_ia, V_df_ia, V_df_ia,\n",
    "                               np.exp(D_ia * grid_points[:, None, None]),\n",
    "                               np.exp(D_ia * grid_points[:, None, None]))\n",
    "print(\"LT-DF-SOS-MP2 corr   in mH: \", E_SOS_LTDF * 1000)\n",
    "print(\"Deviation to SOS-MP2 in mH: \", (E_SOS_LTDF - E_SOS_normal) * 1000)"
   ]
  },
  {
   "cell_type": "markdown",
   "metadata": {},
   "source": [
    "我们认为这基本重复出了原始的 SOS MP2 能量了。"
   ]
  },
  {
   "cell_type": "markdown",
   "metadata": {},
   "source": [
    "### 简化公式表达"
   ]
  },
  {
   "cell_type": "markdown",
   "metadata": {},
   "source": [
    "显然上面的公式表达太过于繁杂。在实际实现时，一般先将其中的三个张量缩并为 `X_gPQ`：\n",
    "\n",
    "$$\n",
    "X_{gPQ} = V_{ia, P} V_{ia, Q} e^{D_i^a t_g}\n",
    "$$"
   ]
  },
  {
   "cell_type": "code",
   "execution_count": 21,
   "metadata": {},
   "outputs": [],
   "source": [
    "X_gPQ = np.einsum(\"iaP, iaQ, gia -> gPQ\", V_df_ia, V_df_ia, np.exp(D_ia * grid_points[:, None, None]))"
   ]
  },
  {
   "cell_type": "markdown",
   "metadata": {},
   "source": [
    "那么 LT-DF 近似后的 SOS MP2 表达式可以简写为\n",
    "\n",
    "$$\n",
    "E_\\text{SOS-MP2, corr} \\simeq -1.3 w_g X_{gPQ}^2\n",
    "$$"
   ]
  },
  {
   "cell_type": "code",
   "execution_count": 22,
   "metadata": {},
   "outputs": [
    {
     "name": "stdout",
     "output_type": "stream",
     "text": [
      "LT-DF-SOS-MP2 corr   in mH:  -344.13161031563544\n",
      "Deviation to SOS-MP2 in mH:  0.12023650543391273\n"
     ]
    }
   ],
   "source": [
    "E_SOS_LTDF_simp = - 1.3 * np.einsum(\"g, gPQ ->\", grid_weights, X_gPQ**2)\n",
    "print(\"LT-DF-SOS-MP2 corr   in mH: \", E_SOS_LTDF_simp * 1000)\n",
    "print(\"Deviation to SOS-MP2 in mH: \", (E_SOS_LTDF_simp - E_SOS_normal) * 1000)"
   ]
  },
  {
   "cell_type": "markdown",
   "metadata": {},
   "source": [
    "### 计算效率比较"
   ]
  },
  {
   "cell_type": "markdown",
   "metadata": {},
   "source": [
    "这里我们对 SOS MP2，LT SOS MP2 与 LT-DF SOS MP2 的计算效率进行比较，工具是 `np.einsum_path`。我们假定内存的空间是足够多的，并且不考虑为生成各种积分、或各种 DF 三中心积分所需要耗费的时间。"
   ]
  },
  {
   "cell_type": "markdown",
   "metadata": {},
   "source": [
    "**普通 MP2**\n",
    "\n",
    "效率耗时最大的部分在双电子积分转换过程。"
   ]
  },
  {
   "cell_type": "code",
   "execution_count": 23,
   "metadata": {
    "scrolled": true
   },
   "outputs": [
    {
     "name": "stdout",
     "output_type": "stream",
     "text": [
      "  Complete contraction:  ui,va,uvkl,kj,lb->iajb\n",
      "         Naive scaling:  8\n",
      "     Optimized scaling:  5\n",
      "      Naive FLOP count:  3.801e+14\n",
      "  Optimized FLOP count:  2.487e+09\n",
      "   Theoretical speedup:  152841.286\n",
      "  Largest intermediate:  9.365e+06 elements\n",
      "--------------------------------------------------------------------------\n",
      "scaling                  current                                remaining\n",
      "--------------------------------------------------------------------------\n",
      "   5               uvkl,ui->iklv                      va,kj,lb,iklv->iajb\n",
      "   5               iklv,kj->ijlv                         va,lb,ijlv->iajb\n",
      "   5               ijlv,va->ijal                            lb,ijal->iajb\n",
      "   5               ijal,lb->iajb                               iajb->iajb\n"
     ]
    }
   ],
   "source": [
    "print(np.einsum_path(\"ui, va, uvkl, kj, lb -> iajb\",\n",
    "    Cf, Cv, mol.intor(\"int2e\"), Cf, Cv,\n",
    "    optimize=[\"greedy\", 1024 ** 3 * 2 / 8])[1])  # Given 2GB memory space"
   ]
  },
  {
   "cell_type": "markdown",
   "metadata": {},
   "source": [
    "**DF SOS MP2**\n",
    "\n",
    "效率耗时最大的部分在从 3c2e 积分生成双电子积分过程。"
   ]
  },
  {
   "cell_type": "code",
   "execution_count": 24,
   "metadata": {},
   "outputs": [
    {
     "name": "stdout",
     "output_type": "stream",
     "text": [
      "  Complete contraction:  iaP,jbP->iajb\n",
      "         Naive scaling:  5\n",
      "     Optimized scaling:  5\n",
      "      Naive FLOP count:  2.368e+08\n",
      "  Optimized FLOP count:  2.368e+08\n",
      "   Theoretical speedup:  1.000\n",
      "  Largest intermediate:  4.199e+05 elements\n",
      "--------------------------------------------------------------------------\n",
      "scaling                  current                                remaining\n",
      "--------------------------------------------------------------------------\n",
      "   5               jbP,iaP->iajb                               iajb->iajb\n"
     ]
    }
   ],
   "source": [
    "print(np.einsum_path(\"iaP, jbP -> iajb\",\n",
    "    V_df_ia, V_df_ia, \n",
    "    optimize=[\"greedy\", 1024 ** 3 * 2 / 8])[1])  # Given 2GB memory space"
   ]
  },
  {
   "cell_type": "markdown",
   "metadata": {},
   "source": [
    "**LT-DF SOS MP2**\n",
    "\n",
    "效率耗时最大的部分在生成中间张量 $X_{gPQ}$ 的过程。"
   ]
  },
  {
   "cell_type": "code",
   "execution_count": 25,
   "metadata": {},
   "outputs": [
    {
     "name": "stdout",
     "output_type": "stream",
     "text": [
      "  Complete contraction:  iaP,iaQ,gia->gPQ\n",
      "         Naive scaling:  5\n",
      "     Optimized scaling:  5\n",
      "      Naive FLOP count:  2.783e+09\n",
      "  Optimized FLOP count:  1.858e+09\n",
      "   Theoretical speedup:  1.497\n",
      "  Largest intermediate:  3.289e+06 elements\n",
      "--------------------------------------------------------------------------\n",
      "scaling                  current                                remaining\n",
      "--------------------------------------------------------------------------\n",
      "   4               gia,iaP->igaP                            iaQ,igaP->gPQ\n",
      "   5               igaP,iaQ->gPQ                                 gPQ->gPQ\n"
     ]
    }
   ],
   "source": [
    "print(np.einsum_path(\"iaP, iaQ, gia -> gPQ\",\n",
    "    V_df_ia, V_df_ia, np.exp(D_ia * grid_points[:, None, None]),\n",
    "    optimize=[\"greedy\", 1024 ** 3 * 2 / 8])[1])  # Given 2GB memory space"
   ]
  },
  {
   "cell_type": "markdown",
   "metadata": {},
   "source": [
    "对于这个分子而言，放开优化张量缩并过程，结果反而会回到类似于 DF MP2 的缩并过程："
   ]
  },
  {
   "cell_type": "code",
   "execution_count": 26,
   "metadata": {},
   "outputs": [
    {
     "name": "stdout",
     "output_type": "stream",
     "text": [
      "  Complete contraction:  g,iaP,jbP,iaQ,jbQ,gia,gjb->\n",
      "         Naive scaling:  7\n",
      "     Optimized scaling:  5\n",
      "      Naive FLOP count:  4.207e+12\n",
      "  Optimized FLOP count:  4.892e+08\n",
      "   Theoretical speedup:  8600.264\n",
      "  Largest intermediate:  4.199e+05 elements\n",
      "--------------------------------------------------------------------------\n",
      "scaling                  current                                remaining\n",
      "--------------------------------------------------------------------------\n",
      "   3                  gia,g->iga                iaP,jbP,iaQ,jbQ,gjb,iga->\n",
      "   5               jbP,iaP->ijab                   iaQ,jbQ,gjb,iga,ijab->\n",
      "   5               jbQ,iaQ->ijab                      gjb,iga,ijab,ijab->\n",
      "   4             ijab,ijab->ijab                           gjb,iga,ijab->\n",
      "   5               ijab,gjb->iga                                iga,iga->\n",
      "   3                   iga,iga->                                       ->\n"
     ]
    }
   ],
   "source": [
    "print(np.einsum_path(\"g, iaP, jbP, iaQ, jbQ, gia, gjb ->\",\n",
    "    grid_weights, V_df_ia, V_df_ia, V_df_ia, V_df_ia,\n",
    "    np.exp(D_ia * grid_points[:, None, None]),\n",
    "    np.exp(D_ia * grid_points[:, None, None]),\n",
    "    optimize=[\"greedy\", 1024 ** 3 * 2 / 8])[1])  # Given 2GB memory space"
   ]
  },
  {
   "cell_type": "markdown",
   "metadata": {},
   "source": [
    "**简单总结**\n",
    "\n",
    "事实上，LT-DF SOS MP2 的优势并不体现在小分子的计算上，这从刚才的效率分析上就能看出来。但是，对于大分子 (占据电子数较多的情况，而非基组非常庞大的情况)，LT-DF MP2 就有不小的优势。这是因为耗时最大的部分的时间复杂度分别是\n",
    "\n",
    "* LT-DF SOS MP2: $O(n_\\mathrm{grid} n_\\mathrm{nocc} n_\\mathrm{nvir} n_\\mathrm{aux}^2)$\n",
    "\n",
    "* DF SOS MP2: $O(n_\\mathrm{occ}^2 n_\\mathrm{vir}^2 n_\\mathrm{aux})$\n",
    "\n",
    "我们可能会认为 $n_\\mathrm{occ} < n_\\mathrm{vir}$，而 $n_\\mathrm{aux}$ 在基组较大时是 $n_\\mathrm{vir}$ 的 3 倍左右。由于 $n_\\mathrm{grid}$ 不随体系增大而变化，因此在 $n_\\mathrm{grid} \\ll n_\\mathrm{occ}$ 的情况下，LT 的优势会凸显。"
   ]
  },
  {
   "cell_type": "markdown",
   "metadata": {},
   "source": [
    "## 备注"
   ]
  },
  {
   "cell_type": "markdown",
   "metadata": {},
   "source": [
    "这份文档颜文杰提供了 QChem 代码中关于 7 点 LT 格点的支持；尽管最终文档使用了自定义的等比级数格点，但 7 点 LT 格点帮助了文档的完成的过程。"
   ]
  },
  {
   "cell_type": "markdown",
   "metadata": {},
   "source": [
    "[^Jung-Head-Gordon.JCP.2004.121]: Jung, Y.; Lochan, R. C.; Dutoi, A. D.; Head-Gordon, M. Scaled Opposite-Spin Second Order Møller–Plesset Correlation Energy: An Economical Electronic Structure Method. *J. Chem. Phys.* **2004**, *121* (20), 9793–9802. doi: [10.1063/1.1809602](https://doi.org/10.1063/1.1809602)."
   ]
  }
 ],
 "metadata": {
  "celltoolbar": "Raw Cell Format",
  "kernelspec": {
   "display_name": "Python 3",
   "language": "python",
   "name": "python3"
  },
  "language_info": {
   "codemirror_mode": {
    "name": "ipython",
    "version": 3
   },
   "file_extension": ".py",
   "mimetype": "text/x-python",
   "name": "python",
   "nbconvert_exporter": "python",
   "pygments_lexer": "ipython3",
   "version": "3.8.3"
  },
  "toc": {
   "base_numbering": 1,
   "nav_menu": {},
   "number_sections": true,
   "sideBar": true,
   "skip_h1_title": false,
   "title_cell": "Table of Contents",
   "title_sidebar": "Contents",
   "toc_cell": false,
   "toc_position": {},
   "toc_section_display": true,
   "toc_window_display": false
  }
 },
 "nbformat": 4,
 "nbformat_minor": 2
}
