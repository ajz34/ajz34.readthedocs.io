{
 "cells": [
  {
   "cell_type": "markdown",
   "metadata": {},
   "source": [
    "# scsRPA 的频域与绝热耦合系数积分实现"
   ]
  },
  {
   "cell_type": "markdown",
   "metadata": {},
   "source": [
    "> 创建日期：2020-08-24"
   ]
  },
  {
   "cell_type": "markdown",
   "metadata": {},
   "source": [
    "这篇文档中，我们会回顾 scsRPA 的实现过程 Zhang, Xu [^Zhang-Xu.JPCL.2019.10]。对于其理论推导，我们基本不作的讨论。\n",
    "\n",
    "我们会大量使用 [前一篇文档](dRPA_Comprehense.ipynb) 的结论与程序。但需要注意，这篇文档中，我们所使用的参考态是 PBE0 而非 PBE，并且分子会选用开壳层分子。"
   ]
  },
  {
   "cell_type": "code",
   "execution_count": 117,
   "metadata": {},
   "outputs": [],
   "source": [
    "%matplotlib notebook\n",
    "\n",
    "from pyscf import gto, dft, scf, cc, mcscf, df\n",
    "import numpy as np\n",
    "import scipy\n",
    "from scipy.linalg import fractional_matrix_power\n",
    "from functools import partial\n",
    "from matplotlib import pyplot as plt\n",
    "\n",
    "np.set_printoptions(5, linewidth=120, suppress=True)\n",
    "np.einsum = partial(np.einsum, optimize=True)"
   ]
  },
  {
   "cell_type": "markdown",
   "metadata": {},
   "source": [
    "## 开壳层分子体系与 PBE0 计算"
   ]
  },
  {
   "cell_type": "markdown",
   "metadata": {},
   "source": [
    "由于算法的特殊性，我们需要使用上下自旋不定的开壳层分子来描述具体过程。因此，我们使用小体系 cc-pVTZ 基组下的 OH 自由基分子。"
   ]
  },
  {
   "cell_type": "code",
   "execution_count": 3,
   "metadata": {},
   "outputs": [
    {
     "data": {
      "text/plain": [
       "<pyscf.gto.mole.Mole at 0x7fb1e5206e20>"
      ]
     },
     "execution_count": 3,
     "metadata": {},
     "output_type": "execute_result"
    }
   ],
   "source": [
    "mol = gto.Mole()\n",
    "mol.atom = \"\"\"\n",
    "O  0. 0. 0.\n",
    "H  0. 0. 1.\n",
    "\"\"\"\n",
    "mol.basis = \"cc-pVTZ\"\n",
    "mol.verbose = 0\n",
    "mol.spin = 1\n",
    "mol.build()"
   ]
  },
  {
   "cell_type": "markdown",
   "metadata": {},
   "source": [
    "RI 基组选用 cc-pVTZ-ri 预定义基组。"
   ]
  },
  {
   "cell_type": "code",
   "execution_count": 4,
   "metadata": {},
   "outputs": [
    {
     "data": {
      "text/plain": [
       "<pyscf.gto.mole.Mole at 0x7fb2185a00d0>"
      ]
     },
     "execution_count": 4,
     "metadata": {},
     "output_type": "execute_result"
    }
   ],
   "source": [
    "mol_df = mol.copy()\n",
    "mol_df.basis = \"cc-pVTZ-ri\"\n",
    "mol_df.build()"
   ]
  },
  {
   "cell_type": "markdown",
   "metadata": {},
   "source": [
    "我们首先计算分子的 PBE0 能量，其目的是得到 PBE0 的分子轨道。该计算实例记在 `mf` 中。出于便利，我们使用未经过 DF (Density Fitting) 的自洽场。"
   ]
  },
  {
   "cell_type": "code",
   "execution_count": 5,
   "metadata": {},
   "outputs": [
    {
     "data": {
      "text/plain": [
       "-75.68100138443273"
      ]
     },
     "execution_count": 5,
     "metadata": {},
     "output_type": "execute_result"
    }
   ],
   "source": [
    "mf = dft.UKS(mol, xc=\"PBE0\").run()\n",
    "mf.e_tot"
   ]
  },
  {
   "cell_type": "markdown",
   "metadata": {},
   "source": [
    "我们随后需要定义与分子或方法有关的变量。大多数情况下，我们仍然使用 $i, j$ 表示占据分子轨道，$a, b$ 表示非占分子轨道，$p, q, r, s$ 表示全部分子轨道。这种表示方法并不是很严格，因为一般情况下开壳层应当使用类似于 $i_\\alpha, j_\\beta$ 等记号；但可以比较好地契合程序编写。\n",
    "\n",
    "$\\mu, \\nu, \\kappa, \\lambda$ 仍然表示原子轨道，$P, Q$ 仍然表示 DF 轨道。$\\sigma, \\gamma$ 在这篇文档中表示 (未指定的) 自旋；$\\alpha, \\beta$ 表示上、下自旋。\n",
    "\n",
    "- `nocc` $(n_\\mathrm{occ}^\\alpha, n_\\mathrm{occ}^\\beta)$ 占据轨道数\n",
    "\n",
    "- `nvir` $(n_\\mathrm{vir}^\\alpha, n_\\mathrm{vir}^\\beta)$ 未占轨道数\n",
    "\n",
    "- `dim_ov` $(n_\\mathrm{occ}^\\alpha n_\\mathrm{vir}^\\alpha, n_\\mathrm{occ}^\\beta n_\\mathrm{vir}^\\beta)$ 占据乘以未占轨道数\n",
    "\n",
    "- `nmo` $n_\\mathrm{MO}$ 分子轨道数，等于占据轨道数 `nao` $n_\\mathrm{AO}$\n",
    "\n",
    "- `naux` $n_\\mathrm{aux}$ Density Fitting 基组轨道数 (或者也称辅助基组 Auxiliary)\n",
    "\n",
    "- `so`, `sv`, `sa` 占据、未占、全轨道分割 (用于程序编写)，变量形式为 `Tuple[slice, slice]`\n",
    "\n",
    "- `eri0_ao` $(\\mu \\nu | \\kappa \\lambda)$ 原子轨道双电子排斥积分"
   ]
  },
  {
   "cell_type": "code",
   "execution_count": 22,
   "metadata": {},
   "outputs": [],
   "source": [
    "nocc, nmo, nao = mol.nelec, mol.nao, mol.nao\n",
    "naux = mol_df.nao\n",
    "nvir = (nmo - nocc[0], nmo - nocc[1])\n",
    "dim_ov = (nocc[0] * nvir[0], nocc[1] * nvir[1])\n",
    "so = slice(0, nocc[0]), slice(0, nocc[1])\n",
    "sv = slice(nocc[0], nmo), slice(nocc[1], nmo)\n",
    "eri0_ao = mol.intor(\"int2e\")"
   ]
  },
  {
   "cell_type": "markdown",
   "metadata": {},
   "source": [
    "- `e`, `eo`, `ev` $(e_p^\\alpha, e_p^\\beta)$ 全、占据、未占 PBE 轨道能\n",
    "\n",
    "- `C`, `Co`, `Cv` $(C_{\\mu p}^\\alpha, C_{\\mu p}^\\beta)$ 全、占据、未占 PBE 轨道系数"
   ]
  },
  {
   "cell_type": "code",
   "execution_count": 17,
   "metadata": {},
   "outputs": [],
   "source": [
    "e, C = mf.mo_energy, mf.mo_coeff\n",
    "eo, ev = (e[0][so[0]], e[1][so[1]]), (e[0][sv[0]], e[1][sv[1]])\n",
    "Co, Cv = (C[0][:, so[0]], C[1][:, so[1]]), (C[0][:, sv[0]], C[1][:, sv[1]])"
   ]
  },
  {
   "cell_type": "markdown",
   "metadata": {},
   "source": [
    "- `eng_xc` PBE0 交换相关能中，仅包含其 GGA 而没有杂化部分的能量 $E_\\mathrm{xc}^\\mathsf{GGA}$\n",
    "\n",
    "- `eng_exactX` 使用 PBE0 轨道所构建的精确交换能 $E_\\mathrm{x}^\\mathsf{exact}$\n",
    "\n",
    "- `eng_HXX` $E^\\mathsf{HXX} = E^\\mathsf{xxRPA}_\\mathrm{tot} - E^\\mathsf{xxRPA}_\\mathrm{c}$ 即除去 RPA 的总能量，它在杂化泛函中写为\n",
    "\n",
    "    $$\n",
    "    E^\\mathsf{HXX} = E^\\mathsf{hGGA} - E_\\mathrm{xc}^\\mathsf{GGA} + (1 - c_\\mathrm{x}) E_\\mathrm{x}^\\mathsf{exact}\n",
    "    $$"
   ]
  },
  {
   "cell_type": "code",
   "execution_count": 47,
   "metadata": {},
   "outputs": [
    {
     "data": {
      "text/plain": [
       "-6.671932093325463"
      ]
     },
     "execution_count": 47,
     "metadata": {},
     "output_type": "execute_result"
    }
   ],
   "source": [
    "ni = dft.numint.NumInt()\n",
    "eng_xc = ni.nr_uks(mol, mf.grids, \"PBE0\", mf.make_rdm1())[1]\n",
    "eng_xc"
   ]
  },
  {
   "cell_type": "code",
   "execution_count": 51,
   "metadata": {},
   "outputs": [
    {
     "data": {
      "text/plain": [
       "-8.539252705875096"
      ]
     },
     "execution_count": 51,
     "metadata": {},
     "output_type": "execute_result"
    }
   ],
   "source": [
    "eng_exactX = - 0.5 * (mf.get_k(mf.make_rdm1()) * mf.make_rdm1()).sum()\n",
    "eng_exactX"
   ]
  },
  {
   "cell_type": "code",
   "execution_count": 53,
   "metadata": {},
   "outputs": [
    {
     "data": {
      "text/plain": [
       "-75.41350882051358"
      ]
     },
     "execution_count": 53,
     "metadata": {},
     "output_type": "execute_result"
    }
   ],
   "source": [
    "eng_HXX = mf.e_tot - eng_xc + (1 - ni.hybrid_coeff(mf.xc)) * eng_exactX\n",
    "eng_HXX"
   ]
  },
  {
   "cell_type": "markdown",
   "metadata": {},
   "source": [
    "- `V_df_ia` $(V_{ia, P}^\\alpha, V_{ia, P}^\\beta)$ DF 3c-2e 积分的导出结果，其具有下述性质：\n",
    "\n",
    "    $$\n",
    "    \\sum_{P} V_{ia,P}^\\sigma V_{jb,P}^\\sigma \\simeq (ia|jb)^\\sigma\n",
    "    $$\n",
    "\n",
    "- `V` 上述张量重塑为矩阵，维度为 $(ia, P)$"
   ]
  },
  {
   "cell_type": "code",
   "execution_count": 18,
   "metadata": {},
   "outputs": [],
   "source": [
    "int2c2e = mol_df.intor(\"int2c2e\")\n",
    "int3c2e = df.incore.aux_e2(mol, mol_df)\n",
    "int2c2e_half = scipy.linalg.cholesky(int2c2e, lower=True)\n",
    "V_df_mp2 = scipy.linalg.solve_triangular(int2c2e_half, int3c2e.reshape(-1, naux).T, lower=True).reshape(naux, nao, nao).transpose((1, 2, 0))\n",
    "V_df_ia = (\n",
    "    np.einsum(\"uvP, ui, va -> iaP\", V_df_mp2, Co[0], Cv[0]),\n",
    "    np.einsum(\"uvP, ui, va -> iaP\", V_df_mp2, Co[1], Cv[1]))\n",
    "V = (V_df_ia[0].reshape(dim_ov[0], naux), V_df_ia[1].reshape(dim_ov[1], naux))"
   ]
  },
  {
   "cell_type": "markdown",
   "metadata": {},
   "source": [
    "- `D_ia` $(D_{ia}^\\alpha, D_{ia}^\\beta)$ 轨道能之差：\n",
    "\n",
    "    $$\n",
    "    D_{ia}^\\sigma = \\varepsilon_i^\\sigma - \\varepsilon_a^\\sigma\n",
    "    $$\n",
    "    \n",
    "    其是维度为 $(ia, )$ 的向量"
   ]
  },
  {
   "cell_type": "code",
   "execution_count": 20,
   "metadata": {},
   "outputs": [],
   "source": [
    "D_ia = (\n",
    "    - eo[0][:, None] + ev[0][None, :],\n",
    "    - eo[1][:, None] + ev[1][None, :])\n",
    "D = (D_ia[0].flatten(), D_ia[1].flatten())"
   ]
  },
  {
   "cell_type": "markdown",
   "metadata": {},
   "source": [
    "## dRPA 能量计算回顾"
   ]
  },
  {
   "cell_type": "markdown",
   "metadata": {},
   "source": [
    "我们在上一篇文档中，提及了 [RI 方法闭壳层 dRPA 相关能计算](dRPA_Comprehense.ipynb#程序实现：$O(N^4)$-的-RI-方法)。开壳层的计算方法也是非常类似的。我们定义函数 `Pi_alpha` 与 `Pi_beta`，它表示两种自旋下的\n",
    "\n",
    "$$\n",
    "\\Pi_{PQ}^\\sigma (\\tilde \\omega) = - \\sum_{ia \\in \\sigma} \\frac{2 V_{ia, P}^\\alpha V_{ia, Q}^\\sigma D_{ia}^\\sigma}{(D_{ia}^\\sigma)^2 + \\tilde \\omega^2}\n",
    "$$"
   ]
  },
  {
   "cell_type": "markdown",
   "metadata": {},
   "source": [
    "或者写为矩阵形式\n",
    "\n",
    "$$\n",
    "\\mathbf{\\Pi}^\\sigma (\\tilde \\omega) = - 2 \\mathbf{V}^{\\sigma \\dagger} \\mathbf{D}^{\\sigma, 1/2} (\\mathbf{D}^\\sigma + \\tilde \\omega^2 \\mathbf{I})^{-1} \\mathbf{D}^{\\sigma, 1/2} \\mathbf{V}^\\sigma\n",
    "$$"
   ]
  },
  {
   "cell_type": "code",
   "execution_count": 24,
   "metadata": {},
   "outputs": [],
   "source": [
    "Pi_alpha = lambda omega: - 2 * np.einsum(\"dP, d, dQ -> PQ\", V[0], D[0] / (D[0]**2 + omega**2), V[0])\n",
    "Pi_beta  = lambda omega: - 2 * np.einsum(\"dP, d, dQ -> PQ\", V[1], D[1] / (D[1]**2 + omega**2), V[1])"
   ]
  },
  {
   "cell_type": "markdown",
   "metadata": {},
   "source": [
    "我们额外定义 `Pi_dRPA` 为\n",
    "\n",
    "$$\n",
    "\\Pi_{PQ}^\\mathsf{dRPA} (\\tilde \\omega) = \\sum_{\\sigma \\in \\{ \\alpha, \\beta \\}} \\Pi_{PQ}^\\sigma (\\tilde \\omega) = \\Pi_{PQ}^\\alpha (\\tilde \\omega) + \\Pi_{PQ}^\\beta (\\tilde \\omega)\n",
    "$$"
   ]
  },
  {
   "cell_type": "markdown",
   "metadata": {},
   "source": [
    "或者写为矩阵形式\n",
    "\n",
    "$$\n",
    "\\mathbf{\\Pi}^\\mathsf{dRPA} (\\tilde \\omega) = \\mathbf{\\Pi}^\\alpha (\\tilde \\omega) + \\mathbf{\\Pi}^\\beta (\\tilde \\omega)\n",
    "$$"
   ]
  },
  {
   "cell_type": "code",
   "execution_count": 37,
   "metadata": {},
   "outputs": [],
   "source": [
    "Pi_dRPA = lambda omega: Pi_alpha(omega) + Pi_beta(omega)"
   ]
  },
  {
   "cell_type": "markdown",
   "metadata": {},
   "source": [
    "在频域上格点积分的格点 $\\tilde{\\omega}_g$ 与权重 $w (\\tilde{\\omega}_g)$ 可以通过下述函数获得："
   ]
  },
  {
   "cell_type": "code",
   "execution_count": 38,
   "metadata": {},
   "outputs": [],
   "source": [
    "def gen_leggauss_0_inf(ngrid):\n",
    "    x, w = np.polynomial.legendre.leggauss(ngrid)\n",
    "    return 0.5 * (1 + x) / (1 - x), w / (1 - x)**2"
   ]
  },
  {
   "cell_type": "markdown",
   "metadata": {},
   "source": [
    "那么，开壳层的 dRPA 能量 `eng_dRPA` 可以表述为\n",
    "\n",
    "$$\n",
    "\\begin{align}\n",
    "E_\\mathrm{c}^\\mathsf{dRPA}\n",
    "&= \\frac{1}{2 \\pi} \\int_{0}^{+ \\infty} \\big( \\log \\det \\big( \\mathbf{1} - \\mathbf{\\Pi}^\\mathsf{dRPA} (\\tilde \\omega) \\big) + \\mathrm{tr} \\big( \\mathbf{\\Pi}^\\mathsf{dRPA} (\\tilde \\omega) \\big) \\big) \\, \\mathrm{d} \\tilde \\omega \\\\\n",
    "&= \\frac{1}{2 \\pi} \\sum_{g} w(\\tilde{\\omega}_g) \\big( \\log \\det \\big( \\mathbf{1} - \\mathbf{\\Pi}^\\mathsf{dRPA} (\\tilde \\omega_g) \\big) + \\mathrm{tr} \\big( \\mathbf{\\Pi}^\\mathsf{dRPA} (\\tilde \\omega_g) \\big) \\big)\n",
    "\\end{align}\n",
    "$$\n",
    "\n",
    "下面的计算中，对 $\\tilde{\\omega}$ 的积分使用了 40 个格点。"
   ]
  },
  {
   "cell_type": "code",
   "execution_count": 41,
   "metadata": {},
   "outputs": [
    {
     "data": {
      "text/plain": [
       "-0.3287828424653143"
      ]
     },
     "execution_count": 41,
     "metadata": {},
     "output_type": "execute_result"
    }
   ],
   "source": [
    "eng_dRPA = 0\n",
    "for omega, w_omega in zip(*gen_leggauss_0_inf(40)):\n",
    "    eng_dRPA += 1 / (2 * np.pi) * w_omega * (np.log(np.linalg.det(np.eye(naux) - Pi_RPA(omega))) + Pi_RPA(omega).trace())\n",
    "eng_dRPA"
   ]
  },
  {
   "cell_type": "markdown",
   "metadata": {},
   "source": [
    "因此，dRPA 总能量为"
   ]
  },
  {
   "cell_type": "code",
   "execution_count": 54,
   "metadata": {},
   "outputs": [
    {
     "data": {
      "text/plain": [
       "-75.7422916629789"
      ]
     },
     "execution_count": 54,
     "metadata": {},
     "output_type": "execute_result"
    }
   ],
   "source": [
    "eng_HXX + eng_dRPA"
   ]
  },
  {
   "cell_type": "markdown",
   "metadata": {},
   "source": [
    "## ssRPA 相关能计算"
   ]
  },
  {
   "cell_type": "markdown",
   "metadata": {},
   "source": [
    "ssRPA (**S**ame-**S**pin **RPA**) 相关能计算式与 dRPA 能量计算式非常相似：\n",
    "\n",
    "$$\n",
    "E_\\mathrm{c}^\\mathsf{ssRPA}\n",
    "= \\frac{1}{2 \\pi} \\sum_{g} \\sum_\\sigma w(\\tilde{\\omega}_g) \\big( \\log \\det \\big( \\mathbf{1} - \\mathbf{\\Pi}^\\sigma (\\tilde \\omega_g) \\big) + \\mathrm{tr} \\big( \\mathbf{\\Pi}^\\sigma (\\tilde \\omega_g) \\big) \\big)\n",
    "$$"
   ]
  },
  {
   "cell_type": "code",
   "execution_count": 57,
   "metadata": {},
   "outputs": [
    {
     "data": {
      "text/plain": [
       "-0.19104532917053876"
      ]
     },
     "execution_count": 57,
     "metadata": {},
     "output_type": "execute_result"
    }
   ],
   "source": [
    "eng_ssRPA = 0\n",
    "for omega, w_omega in zip(*gen_leggauss_0_inf(40)):\n",
    "    eng_ssRPA += 1 / (2 * np.pi) * w_omega * (np.log(np.linalg.det(np.eye(naux) - Pi_alpha(omega))) + Pi_alpha(omega).trace())\n",
    "    eng_ssRPA += 1 / (2 * np.pi) * w_omega * (np.log(np.linalg.det(np.eye(naux) - Pi_beta(omega))) + Pi_beta(omega).trace())\n",
    "eng_ssRPA"
   ]
  },
  {
   "cell_type": "markdown",
   "metadata": {},
   "source": [
    "## osRPA1 相关能计算"
   ]
  },
  {
   "cell_type": "markdown",
   "metadata": {},
   "source": [
    "osRPA1 (**RPA**-type **O**pposite-**S**pin coupling Dyson equation terminated at the **First-order**) 所贡献的相关能计算式包含对耦合系数的积分。其较为基础的实现方式需要额外对绝热路径耦合系数 $\\lambda$ 作格点积分 (注意到前一篇文档中使用了 $\\alpha$ 作为耦合系数，但在这篇文档中已经被用作自旋向上记号)。"
   ]
  },
  {
   "cell_type": "markdown",
   "metadata": {},
   "source": [
    "### 耦合系数 $\\lambda$ 积分下的 dRPA 相关能"
   ]
  },
  {
   "cell_type": "markdown",
   "metadata": {},
   "source": [
    "我们再次回顾 dRPA 的计算。事实上，dRPA 在推导过程中，是先有了关于耦合系数 $\\lambda$ 的积分表达式，后面才有 log det 的表达式。我们现在就将关于 $\\lambda$ 重新写出："
   ]
  },
  {
   "cell_type": "markdown",
   "metadata": {},
   "source": [
    "$$\n",
    "E_\\mathrm{c}^\\mathsf{dRPA}\n",
    "= \\frac{1}{2 \\pi} \\int_{0}^{+ \\infty} \\mathrm{d} \\tilde \\omega \\, \\mathrm{tr} \\big( \\mathbf{\\Pi}^\\mathsf{dRPA} (\\tilde \\omega) \\big)\n",
    "- \\frac{1}{2 \\pi} \\int_{0}^{+ \\infty} \\mathrm{d} \\tilde \\omega \\int_0^1 \\mathrm{d} \\lambda \\, \\mathrm{tr} \\left( \\frac{\\mathbf{\\Pi}^\\mathsf{dRPA} (\\tilde \\omega)}{\\mathbf{1} - \\lambda \\mathbf{\\Pi}^\\mathsf{dRPA} (\\tilde \\omega)} \\right)\n",
    "$$"
   ]
  },
  {
   "cell_type": "markdown",
   "metadata": {},
   "source": [
    "上式第二项中，尽管矩阵除法的写法并不是很好，但由于我们求的是迹，因此实际写程序的时候我们不需要关心矩阵交换律是否满足。\n",
    "\n",
    "对于 $\\lambda$ 从 0 至 1 的积分可以使用线性缩放后的 Legendre-Gauss 格点实现。下述函数 `gen_leggauss_0_1` 会输出格点 $\\lambda_{g'}$ 与其权重 $w(\\lambda_{g'})$："
   ]
  },
  {
   "cell_type": "code",
   "execution_count": 55,
   "metadata": {},
   "outputs": [],
   "source": [
    "def gen_leggauss_0_1(ngrid):\n",
    "    x, w = np.polynomial.legendre.leggauss(ngrid)\n",
    "    return 0.5 * (x + 1), 0.5 * w"
   ]
  },
  {
   "cell_type": "markdown",
   "metadata": {},
   "source": [
    "因此，若将上述积分表达式更换为格点求和，则\n",
    "\n",
    "$$\n",
    "E_\\mathrm{c}^\\mathsf{dRPA}\n",
    "= \\frac{1}{2 \\pi} \\sum_g w(\\tilde{\\omega}_g) \\, \\mathrm{tr} \\big( \\mathbf{\\Pi}^\\mathsf{dRPA} (\\tilde{\\omega}_g) \\big)\n",
    "- \\frac{1}{2 \\pi} \\sum_g w(\\tilde{\\omega}_g) \\sum_{g'} w(\\lambda_{g'}) \\, \\mathrm{tr} \\left( \\frac{\\mathbf{\\Pi}^\\mathsf{dRPA} (\\tilde{\\omega}_g)}{\\mathbf{1} - \\lambda_{g'} \\mathbf{\\Pi}^\\mathsf{dRPA} (\\tilde{\\omega}_g)} \\right)\n",
    "$$"
   ]
  },
  {
   "cell_type": "markdown",
   "metadata": {},
   "source": [
    "下面的计算中，对 $\\lambda_{g'}$ 的积分使用了 10 个格点。"
   ]
  },
  {
   "cell_type": "code",
   "execution_count": 64,
   "metadata": {},
   "outputs": [
    {
     "data": {
      "text/plain": [
       "-0.3287828424662268"
      ]
     },
     "execution_count": 64,
     "metadata": {},
     "output_type": "execute_result"
    }
   ],
   "source": [
    "eng_dRPA_ac = 0\n",
    "for omega, w_omega in zip(*gen_leggauss_0_inf(40)):\n",
    "    # Term 1\n",
    "    Pi_dRPA_matrix = Pi_RPA(omega)\n",
    "    eng_dRPA_ac += 1 / (2 * np.pi) * w_omega * Pi_dRPA_matrix.trace()\n",
    "    # Term 2\n",
    "    W_matrix = np.zeros((naux, naux))\n",
    "    for lambd, w_lambd in zip(*gen_leggauss_0_1(10)):\n",
    "        W_matrix += w_lambd * np.linalg.inv(np.eye(naux) - lambd * Pi_dRPA_matrix)\n",
    "    eng_dRPA_ac -= 1 / (2 * np.pi) * w_omega * (W_matrix @ Pi_dRPA_matrix).trace()\n",
    "eng_dRPA_ac"
   ]
  },
  {
   "cell_type": "markdown",
   "metadata": {},
   "source": [
    "留意到上式中使用了中间变量 `W_matrix`:\n",
    "\n",
    "$$\n",
    "\\mathbf{W} (\\tilde \\omega) = \\int_0^1 \\mathrm{d} \\lambda \\big( \\mathbf{1} - \\lambda \\mathbf{\\Pi}^\\mathsf{dRPA} (\\tilde \\omega) \\big)^{-1}\n",
    "$$"
   ]
  },
  {
   "cell_type": "markdown",
   "metadata": {},
   "source": [
    "### osRPA1 相关能"
   ]
  },
  {
   "cell_type": "markdown",
   "metadata": {},
   "source": [
    "osRPA1 相关能可以写为"
   ]
  },
  {
   "cell_type": "markdown",
   "metadata": {},
   "source": [
    "$$\n",
    "E_\\mathrm{c}^\\mathsf{osRPA1}\n",
    "= \\frac{1}{2 \\pi} \\sum_{\\sigma \\in \\{ \\alpha, \\beta \\}} \\int_{0}^{+ \\infty} \\mathrm{d} \\tilde \\omega \\, \\mathrm{tr} \\big( \\mathbf{\\Pi}^\\sigma (\\tilde \\omega) \\big)\n",
    "- \\frac{1}{2 \\pi} \\sum_{\\substack{\\sigma, \\gamma \\in \\{ \\alpha, \\beta \\} \\\\ \\gamma \\neq \\sigma}} \\int_{0}^{+ \\infty} \\mathrm{d} \\tilde \\omega \\int_0^1 \\mathrm{d} \\lambda \\, \\mathrm{tr} \\left( \\frac{\\mathbf{\\Pi}^\\sigma (\\tilde \\omega)}{\\mathbf{1} - \\lambda \\mathbf{\\Pi}^\\gamma (\\tilde \\omega)} \\right)\n",
    "$$"
   ]
  },
  {
   "cell_type": "markdown",
   "metadata": {},
   "source": [
    "程序编写是类似的。对 $\\tilde{\\omega}_{g}$ 的积分使用 40 个格点，对 $\\lambda_{g'}$ 的积分使用 10 个格点。"
   ]
  },
  {
   "cell_type": "code",
   "execution_count": 71,
   "metadata": {},
   "outputs": [
    {
     "data": {
      "text/plain": [
       "-0.17888391093782954"
      ]
     },
     "execution_count": 71,
     "metadata": {},
     "output_type": "execute_result"
    }
   ],
   "source": [
    "eng_osRPA1 = 0\n",
    "for omega, w_omega in zip(*gen_leggauss_0_inf(40)):\n",
    "    # Term 1\n",
    "    Pi_alpha_matrix, Pi_beta_matrix = Pi_alpha(omega), Pi_beta(omega)\n",
    "    eng_osRPA1 += 1 / (2 * np.pi) * w_omega * (Pi_alpha_matrix.trace() + Pi_beta_matrix.trace())\n",
    "    # Term 2\n",
    "    W_alpha_matrix, W_beta_matrix = np.zeros((naux, naux)), np.zeros((naux, naux))\n",
    "    for lambd, w_lambd in zip(*gen_leggauss_0_1(10)):\n",
    "        W_alpha_matrix += w_lambd * np.linalg.inv(np.eye(naux) - lambd * Pi_alpha_matrix)\n",
    "        W_beta_matrix  += w_lambd * np.linalg.inv(np.eye(naux) - lambd * Pi_beta_matrix)\n",
    "    eng_osRPA1 += - 1 / (2 * np.pi) * w_omega * ((W_alpha_matrix @ Pi_beta_matrix).trace())\n",
    "    eng_osRPA1 += - 1 / (2 * np.pi) * w_omega * ((W_beta_matrix @ Pi_alpha_matrix).trace())\n",
    "eng_osRPA1"
   ]
  },
  {
   "cell_type": "markdown",
   "metadata": {},
   "source": [
    "上述过程的总计算复杂度是 $O(n_g n_\\mathrm{aux}^2 n_\\mathrm{occ} n_\\mathrm{vir} + n_g n_{g'} b n_\\mathrm{aux}^3)$，其中第一项是生成 $\\mathbf{\\Pi}^\\sigma (\\tilde \\omega)$ 的复杂度，第二项是格点积分外加矩阵求逆的复杂度，$b$ 代表矩阵求逆复杂度中的 $O(b n^3)$。"
   ]
  },
  {
   "cell_type": "markdown",
   "metadata": {},
   "source": [
    "### 闭壳层下 osRPA1 与 ssRPA 相关能等价的说明"
   ]
  },
  {
   "cell_type": "markdown",
   "metadata": {},
   "source": [
    "留意到对于闭壳层的情况，$\\mathbf{\\Pi}^\\alpha (\\tilde \\omega) = \\mathbf{\\Pi}^\\beta (\\tilde \\omega)$，因此可以使用简化式\n",
    "\n",
    "$$\n",
    "- \\int_0^1 \\mathrm{d} \\lambda \\, \\mathrm{tr} \\left( \\frac{\\mathbf{S}}{\\mathbf{1} - \\lambda \\mathbf{S}} \\right) = \\log \\det \\big( \\mathbf{1} - \\mathbf{S} \\big)\n",
    "$$\n",
    "\n",
    "其中，$\\mathbf{S}$ 是正定的对称矩阵。那么 osRPA1 的表达式很容易地会推到与 ssRPA 完全相同的形式。因此，闭壳层下 $E_\\mathrm{c}^\\mathsf{osRPA1} = E_\\mathrm{c}^\\mathsf{ssRPA}$。但开壳层下两者的数值会有不同。"
   ]
  },
  {
   "cell_type": "markdown",
   "metadata": {},
   "source": [
    "## scsRPA 能量结算"
   ]
  },
  {
   "cell_type": "markdown",
   "metadata": {},
   "source": [
    "随后，我们就可以计算得到各种贡献分项。\n",
    "\n",
    "$$\n",
    "\\begin{align}\n",
    "E_\\mathrm{c}^\\mathsf{osRPA} &= E_\\mathrm{c}^\\mathsf{dRPA} - E_\\mathrm{c}^\\mathsf{ssRPA} \\\\\n",
    "E_\\mathrm{c}^\\mathsf{osRPAr} &= E_\\mathrm{c}^\\mathsf{osRPA} - E_\\mathrm{c}^\\mathsf{osRPA1} \\\\\n",
    "E_\\mathrm{c}^\\mathsf{ssRPA+} &= E_\\mathrm{c}^\\mathsf{ssRPA} + E_\\mathrm{c}^\\mathsf{osRPAr}\n",
    "\\end{align}\n",
    "$$"
   ]
  },
  {
   "cell_type": "code",
   "execution_count": 79,
   "metadata": {},
   "outputs": [],
   "source": [
    "eng_osRPA  = eng_dRPA  - eng_ssRPA\n",
    "eng_osRPAr = eng_osRPA - eng_osRPA1\n",
    "eng_ssRPAp = eng_ssRPA + eng_osRPAr"
   ]
  },
  {
   "cell_type": "code",
   "execution_count": 82,
   "metadata": {},
   "outputs": [
    {
     "name": "stdout",
     "output_type": "stream",
     "text": [
      " dRPA      -0.32878284\n",
      "ssRPA      -0.19104533\n",
      "osRPA      -0.13773751\n",
      "osRPA1     -0.17888391\n",
      "osRPAr      0.04114640\n",
      "ssRPA+     -0.14989893\n"
     ]
    }
   ],
   "source": [
    "print(\"{:6}{:16.8f}\".format(\" dRPA\", eng_dRPA))\n",
    "print(\"{:6}{:16.8f}\".format(\"ssRPA\", eng_ssRPA))\n",
    "print(\"{:6}{:16.8f}\".format(\"osRPA\", eng_osRPA))\n",
    "print(\"{:6}{:16.8f}\".format(\"osRPA1\", eng_osRPA1))\n",
    "print(\"{:6}{:16.8f}\".format(\"osRPAr\", eng_osRPAr))\n",
    "print(\"{:6}{:16.8f}\".format(\"ssRPA+\", eng_ssRPAp))"
   ]
  },
  {
   "cell_type": "markdown",
   "metadata": {},
   "source": [
    "因此，scsRPA 能量可以写为\n",
    "\n",
    "$$\n",
    "E_\\mathrm{c}^\\mathsf{scsRPA} = \\frac{6}{5} E_\\mathrm{c}^\\mathsf{osRPA1} + \\frac{3}{4} E_\\mathrm{c}^\\mathsf{ssRPA+}\n",
    "$$"
   ]
  },
  {
   "cell_type": "code",
   "execution_count": 83,
   "metadata": {},
   "outputs": [
    {
     "data": {
      "text/plain": [
       "-0.327084891771009"
      ]
     },
     "execution_count": 83,
     "metadata": {},
     "output_type": "execute_result"
    }
   ],
   "source": [
    "eng_scsRPA = 6/5 * eng_osRPA1 + 3/4 * eng_ssRPAp\n",
    "eng_scsRPA"
   ]
  },
  {
   "cell_type": "markdown",
   "metadata": {},
   "source": [
    "事实上，上式也等价于\n",
    "\n",
    "$$\n",
    "E_\\mathrm{c}^\\mathsf{scsRPA} = \\frac{9}{20} E_\\mathrm{c}^\\mathsf{osRPA1} + \\frac{3}{4} E_\\mathrm{c}^\\mathsf{dRPA}\n",
    "$$"
   ]
  },
  {
   "cell_type": "code",
   "execution_count": 88,
   "metadata": {},
   "outputs": [
    {
     "data": {
      "text/plain": [
       "-0.327084891771009"
      ]
     },
     "execution_count": 88,
     "metadata": {},
     "output_type": "execute_result"
    }
   ],
   "source": [
    "eng_scsRPA = 9/20 * eng_osRPA1 + 3/4 * eng_dRPA\n",
    "eng_scsRPA"
   ]
  },
  {
   "cell_type": "markdown",
   "metadata": {},
   "source": [
    "那么 scsRPA 总能量则表示为"
   ]
  },
  {
   "cell_type": "code",
   "execution_count": 98,
   "metadata": {},
   "outputs": [
    {
     "data": {
      "text/plain": [
       "-75.74059371228459"
      ]
     },
     "execution_count": 98,
     "metadata": {},
     "output_type": "execute_result"
    }
   ],
   "source": [
    "eng_HXX + eng_scsRPA"
   ]
  },
  {
   "cell_type": "markdown",
   "metadata": {},
   "source": [
    "## 氮气解离曲线"
   ]
  },
  {
   "cell_type": "markdown",
   "metadata": {},
   "source": [
    "我们下面将会复现氮气解离曲线 (Zhang, Xu [^Zhang-Xu.JPCL.2019.10] 文献的 Figure 3)。我们会分别使用到闭壳层与开壳层 scsRPA 的计算结果。"
   ]
  },
  {
   "cell_type": "code",
   "execution_count": 270,
   "metadata": {
    "code_folding": []
   },
   "outputs": [],
   "source": [
    "def get_UscsRPA(mol, dfbasis=\"cc-pVTZ-ri\"):\n",
    "    # molecule preparation\n",
    "    mf = dft.UKS(mol, xc=\"PBE0\").run()\n",
    "    eng_PBE0 = mf.e_tot\n",
    "    mol_df = mol.copy()\n",
    "    mol_df.basis = dfbasis\n",
    "    mol_df.build()\n",
    "    # Basic information preparation\n",
    "    nocc, nmo, nao = mol.nelec, mol.nao, mol.nao\n",
    "    naux = mol_df.nao\n",
    "    nvir = (nmo - nocc[0], nmo - nocc[1])\n",
    "    dim_ov = (nocc[0] * nvir[0], nocc[1] * nvir[1])\n",
    "    so = slice(0, nocc[0]), slice(0, nocc[1])\n",
    "    sv = slice(nocc[0], nmo), slice(nocc[1], nmo)\n",
    "    eri0_ao = mol.intor(\"int2e\")\n",
    "    e, C = mf.mo_energy, mf.mo_coeff\n",
    "    eo, ev = (e[0][so[0]], e[1][so[1]]), (e[0][sv[0]], e[1][sv[1]])\n",
    "    Co, Cv = (C[0][:, so[0]], C[1][:, so[1]]), (C[0][:, sv[0]], C[1][:, sv[1]])\n",
    "    # eng_HXX calculation\n",
    "    ni = dft.numint.NumInt()\n",
    "    eng_xc = ni.nr_uks(mol, mf.grids, mf.xc, mf.make_rdm1())[1]\n",
    "    eng_exactX = - 0.5 * (mf.get_k(mf.make_rdm1()) * mf.make_rdm1()).sum()\n",
    "    eng_HXX = mf.e_tot - eng_xc + (1 - ni.hybrid_coeff(mf.xc)) * eng_exactX\n",
    "    # density fitting \n",
    "    int2c2e = mol_df.intor(\"int2c2e\")\n",
    "    int3c2e = df.incore.aux_e2(mol, mol_df)\n",
    "    int2c2e_half = scipy.linalg.cholesky(int2c2e, lower=True)\n",
    "    V_df_mp2 = scipy.linalg.solve_triangular(int2c2e_half, int3c2e.reshape(-1, naux).T, lower=True).reshape(naux, nao, nao).transpose((1, 2, 0))\n",
    "    V_df_ia = (\n",
    "        np.einsum(\"uvP, ui, va -> iaP\", V_df_mp2, Co[0], Cv[0]),\n",
    "        np.einsum(\"uvP, ui, va -> iaP\", V_df_mp2, Co[1], Cv[1]))\n",
    "    V = (V_df_ia[0].reshape(dim_ov[0], naux), V_df_ia[1].reshape(dim_ov[1], naux))\n",
    "    D_ia = (\n",
    "        - eo[0][:, None] + ev[0][None, :],\n",
    "        - eo[1][:, None] + ev[1][None, :])\n",
    "    D = (D_ia[0].flatten(), D_ia[1].flatten())\n",
    "    # dRPA Preparation\n",
    "    Pi_alpha = lambda omega: - 2 * np.einsum(\"dP, d, dQ -> PQ\", V[0], D[0] / (D[0]**2 + omega**2), V[0])\n",
    "    Pi_beta  = lambda omega: - 2 * np.einsum(\"dP, d, dQ -> PQ\", V[1], D[1] / (D[1]**2 + omega**2), V[1])\n",
    "    # dRPA, osRPA1 correlation energy calculation\n",
    "    eng_dRPA, eng_osRPA1, eng_ssRPA = 0, 0, 0\n",
    "    for omega, w_omega in zip(*gen_leggauss_0_inf(40)):\n",
    "        Pi_alpha_matrix, Pi_beta_matrix = Pi_alpha(omega), Pi_beta(omega)\n",
    "        Pi_dRPA_matrix = Pi_alpha_matrix + Pi_beta_matrix\n",
    "        eng_dRPA   += 1 / (2 * np.pi) * w_omega * (np.log(np.linalg.det(np.eye(naux) - Pi_dRPA_matrix )) + Pi_dRPA_matrix.trace() )\n",
    "        eng_ssRPA  += 1 / (2 * np.pi) * w_omega * (np.log(np.linalg.det(np.eye(naux) - Pi_alpha_matrix)) + Pi_alpha_matrix.trace())\n",
    "        eng_ssRPA  += 1 / (2 * np.pi) * w_omega * (np.log(np.linalg.det(np.eye(naux) - Pi_beta_matrix )) + Pi_beta_matrix.trace() )\n",
    "        eng_osRPA1 += 1 / (2 * np.pi) * w_omega * (Pi_alpha_matrix.trace() + Pi_beta_matrix.trace())\n",
    "        W_alpha_matrix, W_beta_matrix = np.zeros((naux, naux)), np.zeros((naux, naux))\n",
    "        for lambd, w_lambd in zip(*gen_leggauss_0_1(10)):\n",
    "            W_alpha_matrix += w_lambd * np.linalg.inv(np.eye(naux) - lambd * Pi_alpha_matrix)\n",
    "            W_beta_matrix  += w_lambd * np.linalg.inv(np.eye(naux) - lambd * Pi_beta_matrix)\n",
    "        eng_osRPA1 += - 1 / (2 * np.pi) * w_omega * ((W_alpha_matrix @ Pi_beta_matrix).trace())\n",
    "        eng_osRPA1 += - 1 / (2 * np.pi) * w_omega * ((W_beta_matrix @ Pi_alpha_matrix).trace())\n",
    "    eng_osRPA  = eng_dRPA  - eng_ssRPA\n",
    "    eng_scsRPA = 9/20 * eng_osRPA1 + 3/4 * eng_dRPA\n",
    "    return (\n",
    "        eng_PBE0,\n",
    "        eng_HXX + eng_osRPA,\n",
    "        eng_HXX + eng_dRPA,\n",
    "        eng_HXX + eng_osRPA1,\n",
    "        eng_HXX + eng_scsRPA,\n",
    "    )"
   ]
  },
  {
   "cell_type": "code",
   "execution_count": 297,
   "metadata": {},
   "outputs": [],
   "source": [
    "def get_RscsRPA(mol, dfbasis=\"cc-pVTZ-ri\"):\n",
    "    # molecule preparation\n",
    "    mf = dft.RKS(mol, xc=\"PBE0\").run()\n",
    "    eng_PBE0 = mf.e_tot\n",
    "    mol_df = mol.copy()\n",
    "    mol_df.basis = dfbasis\n",
    "    mol_df.build()\n",
    "    # Basic information preparation\n",
    "    nocc, nmo, nao = mol.nelec[0], mol.nao, mol.nao\n",
    "    naux = mol_df.nao\n",
    "    nvir = nmo - nocc\n",
    "    dim_ov = nocc * nvir\n",
    "    so, sv = slice(0, nocc), slice(nocc, nmo)\n",
    "    eri0_ao = mol.intor(\"int2e\")\n",
    "    e, C = mf.mo_energy, mf.mo_coeff\n",
    "    eo, ev = e[so], e[sv]\n",
    "    Co, Cv = C[:, so], C[:, sv]\n",
    "    # eng_HXX calculation\n",
    "    ni = dft.numint.NumInt()\n",
    "    eng_xc = ni.nr_rks(mol, mf.grids, mf.xc, mf.make_rdm1())[1]\n",
    "    eng_exactX = - 0.25 * (mf.get_k(mf.make_rdm1()) * mf.make_rdm1()).sum()\n",
    "    eng_HXX = mf.e_tot - eng_xc + (1 - ni.hybrid_coeff(mf.xc)) * eng_exactX\n",
    "    # density fitting \n",
    "    int2c2e = mol_df.intor(\"int2c2e\")\n",
    "    int3c2e = df.incore.aux_e2(mol, mol_df)\n",
    "    int2c2e_half = scipy.linalg.cholesky(int2c2e, lower=True)\n",
    "    V_df_mp2 = scipy.linalg.solve_triangular(int2c2e_half, int3c2e.reshape(-1, naux).T, lower=True).reshape(naux, nao, nao).transpose((1, 2, 0))\n",
    "    V_df_ia = np.einsum(\"uvP, ui, va -> iaP\", V_df_mp2, Co, Cv)\n",
    "    V = V_df_ia.reshape(dim_ov, naux)\n",
    "    D = (- eo[:, None] + ev[None, :]).flatten()\n",
    "    # dRPA Preparation\n",
    "    Pi_alpha = lambda omega: - 2 * np.einsum(\"dP, d, dQ -> PQ\", V, D / (D**2 + omega**2), V)\n",
    "    # dRPA, osRPA1 correlation energy calculation\n",
    "    eng_dRPA, eng_ssRPA = 0, 0\n",
    "    for omega, w_omega in zip(*gen_leggauss_0_inf(40)):\n",
    "        Pi_alpha_matrix = Pi_alpha(omega)\n",
    "        Pi_dRPA_matrix = 2 * Pi_alpha_matrix\n",
    "        eng_dRPA   += 1 / (2 * np.pi) * w_omega * (np.log(np.linalg.det(np.eye(naux) - Pi_dRPA_matrix )) + Pi_dRPA_matrix.trace() )\n",
    "        eng_ssRPA  += 1 / (2 * np.pi) * w_omega * (np.log(np.linalg.det(np.eye(naux) - Pi_alpha_matrix)) + Pi_alpha_matrix.trace()) * 2\n",
    "    eng_osRPA1 = eng_ssRPA\n",
    "    eng_osRPA  = eng_dRPA - eng_ssRPA\n",
    "    eng_scsRPA = 9/20 * eng_osRPA1 + 3/4 * eng_dRPA\n",
    "    return (\n",
    "        eng_PBE0,\n",
    "        eng_HXX + eng_osRPA,\n",
    "        eng_HXX + eng_dRPA,\n",
    "        eng_HXX + eng_osRPA1,\n",
    "        eng_HXX + eng_scsRPA,\n",
    "    )"
   ]
  },
  {
   "cell_type": "markdown",
   "metadata": {},
   "source": [
    "下述程序是计算处于解离态的氮原子能量。列表中的数值有 5 项，分别为 PBE0, osRPA, dRPA, osRPA1, scsRPA 的结果。"
   ]
  },
  {
   "cell_type": "code",
   "execution_count": 300,
   "metadata": {},
   "outputs": [],
   "source": [
    "def get_result_N():\n",
    "    mol = gto.M(atom=\"N 0 0 0\", basis=\"cc-pVTZ\", spin=3, verbose=0)\n",
    "    return get_UscsRPA(mol)\n",
    "\n",
    "result_N = np.array(get_result_N())"
   ]
  },
  {
   "cell_type": "markdown",
   "metadata": {},
   "source": [
    "下述程序是计算处于解离态的氮气能量。列表中的数值亦有 5 项。"
   ]
  },
  {
   "cell_type": "code",
   "execution_count": 302,
   "metadata": {},
   "outputs": [],
   "source": [
    "def get_result_N2(bond_length):\n",
    "    mol = gto.M(atom=\"N 0 0 0; N 0 0 {:16.8f}\".format(bond_length), basis=\"cc-pVTZ\", verbose=0)\n",
    "    return get_RscsRPA(mol)\n",
    "\n",
    "bond_length_list = np.logspace(np.log10(0.8), np.log10(4.0), 30)\n",
    "results_N2 = np.array([get_result_N2(length) for length in bond_length_list])"
   ]
  },
  {
   "cell_type": "markdown",
   "metadata": {},
   "source": [
    "最后我们就可以对计算所得到的能量作图。"
   ]
  },
  {
   "cell_type": "code",
   "execution_count": 312,
   "metadata": {},
   "outputs": [],
   "source": [
    "x_list = bond_length_list\n",
    "y_list = (results_N2 - 2 * result_N).T * 627.5"
   ]
  },
  {
   "cell_type": "code",
   "execution_count": 323,
   "metadata": {},
   "outputs": [
    {
     "data": {
      "application/javascript": [
       "/* Put everything inside the global mpl namespace */\n",
       "window.mpl = {};\n",
       "\n",
       "\n",
       "mpl.get_websocket_type = function() {\n",
       "    if (typeof(WebSocket) !== 'undefined') {\n",
       "        return WebSocket;\n",
       "    } else if (typeof(MozWebSocket) !== 'undefined') {\n",
       "        return MozWebSocket;\n",
       "    } else {\n",
       "        alert('Your browser does not have WebSocket support. ' +\n",
       "              'Please try Chrome, Safari or Firefox ≥ 6. ' +\n",
       "              'Firefox 4 and 5 are also supported but you ' +\n",
       "              'have to enable WebSockets in about:config.');\n",
       "    };\n",
       "}\n",
       "\n",
       "mpl.figure = function(figure_id, websocket, ondownload, parent_element) {\n",
       "    this.id = figure_id;\n",
       "\n",
       "    this.ws = websocket;\n",
       "\n",
       "    this.supports_binary = (this.ws.binaryType != undefined);\n",
       "\n",
       "    if (!this.supports_binary) {\n",
       "        var warnings = document.getElementById(\"mpl-warnings\");\n",
       "        if (warnings) {\n",
       "            warnings.style.display = 'block';\n",
       "            warnings.textContent = (\n",
       "                \"This browser does not support binary websocket messages. \" +\n",
       "                    \"Performance may be slow.\");\n",
       "        }\n",
       "    }\n",
       "\n",
       "    this.imageObj = new Image();\n",
       "\n",
       "    this.context = undefined;\n",
       "    this.message = undefined;\n",
       "    this.canvas = undefined;\n",
       "    this.rubberband_canvas = undefined;\n",
       "    this.rubberband_context = undefined;\n",
       "    this.format_dropdown = undefined;\n",
       "\n",
       "    this.image_mode = 'full';\n",
       "\n",
       "    this.root = $('<div/>');\n",
       "    this._root_extra_style(this.root)\n",
       "    this.root.attr('style', 'display: inline-block');\n",
       "\n",
       "    $(parent_element).append(this.root);\n",
       "\n",
       "    this._init_header(this);\n",
       "    this._init_canvas(this);\n",
       "    this._init_toolbar(this);\n",
       "\n",
       "    var fig = this;\n",
       "\n",
       "    this.waiting = false;\n",
       "\n",
       "    this.ws.onopen =  function () {\n",
       "            fig.send_message(\"supports_binary\", {value: fig.supports_binary});\n",
       "            fig.send_message(\"send_image_mode\", {});\n",
       "            if (mpl.ratio != 1) {\n",
       "                fig.send_message(\"set_dpi_ratio\", {'dpi_ratio': mpl.ratio});\n",
       "            }\n",
       "            fig.send_message(\"refresh\", {});\n",
       "        }\n",
       "\n",
       "    this.imageObj.onload = function() {\n",
       "            if (fig.image_mode == 'full') {\n",
       "                // Full images could contain transparency (where diff images\n",
       "                // almost always do), so we need to clear the canvas so that\n",
       "                // there is no ghosting.\n",
       "                fig.context.clearRect(0, 0, fig.canvas.width, fig.canvas.height);\n",
       "            }\n",
       "            fig.context.drawImage(fig.imageObj, 0, 0);\n",
       "        };\n",
       "\n",
       "    this.imageObj.onunload = function() {\n",
       "        fig.ws.close();\n",
       "    }\n",
       "\n",
       "    this.ws.onmessage = this._make_on_message_function(this);\n",
       "\n",
       "    this.ondownload = ondownload;\n",
       "}\n",
       "\n",
       "mpl.figure.prototype._init_header = function() {\n",
       "    var titlebar = $(\n",
       "        '<div class=\"ui-dialog-titlebar ui-widget-header ui-corner-all ' +\n",
       "        'ui-helper-clearfix\"/>');\n",
       "    var titletext = $(\n",
       "        '<div class=\"ui-dialog-title\" style=\"width: 100%; ' +\n",
       "        'text-align: center; padding: 3px;\"/>');\n",
       "    titlebar.append(titletext)\n",
       "    this.root.append(titlebar);\n",
       "    this.header = titletext[0];\n",
       "}\n",
       "\n",
       "\n",
       "\n",
       "mpl.figure.prototype._canvas_extra_style = function(canvas_div) {\n",
       "\n",
       "}\n",
       "\n",
       "\n",
       "mpl.figure.prototype._root_extra_style = function(canvas_div) {\n",
       "\n",
       "}\n",
       "\n",
       "mpl.figure.prototype._init_canvas = function() {\n",
       "    var fig = this;\n",
       "\n",
       "    var canvas_div = $('<div/>');\n",
       "\n",
       "    canvas_div.attr('style', 'position: relative; clear: both; outline: 0');\n",
       "\n",
       "    function canvas_keyboard_event(event) {\n",
       "        return fig.key_event(event, event['data']);\n",
       "    }\n",
       "\n",
       "    canvas_div.keydown('key_press', canvas_keyboard_event);\n",
       "    canvas_div.keyup('key_release', canvas_keyboard_event);\n",
       "    this.canvas_div = canvas_div\n",
       "    this._canvas_extra_style(canvas_div)\n",
       "    this.root.append(canvas_div);\n",
       "\n",
       "    var canvas = $('<canvas/>');\n",
       "    canvas.addClass('mpl-canvas');\n",
       "    canvas.attr('style', \"left: 0; top: 0; z-index: 0; outline: 0\")\n",
       "\n",
       "    this.canvas = canvas[0];\n",
       "    this.context = canvas[0].getContext(\"2d\");\n",
       "\n",
       "    var backingStore = this.context.backingStorePixelRatio ||\n",
       "\tthis.context.webkitBackingStorePixelRatio ||\n",
       "\tthis.context.mozBackingStorePixelRatio ||\n",
       "\tthis.context.msBackingStorePixelRatio ||\n",
       "\tthis.context.oBackingStorePixelRatio ||\n",
       "\tthis.context.backingStorePixelRatio || 1;\n",
       "\n",
       "    mpl.ratio = (window.devicePixelRatio || 1) / backingStore;\n",
       "\n",
       "    var rubberband = $('<canvas/>');\n",
       "    rubberband.attr('style', \"position: absolute; left: 0; top: 0; z-index: 1;\")\n",
       "\n",
       "    var pass_mouse_events = true;\n",
       "\n",
       "    canvas_div.resizable({\n",
       "        start: function(event, ui) {\n",
       "            pass_mouse_events = false;\n",
       "        },\n",
       "        resize: function(event, ui) {\n",
       "            fig.request_resize(ui.size.width, ui.size.height);\n",
       "        },\n",
       "        stop: function(event, ui) {\n",
       "            pass_mouse_events = true;\n",
       "            fig.request_resize(ui.size.width, ui.size.height);\n",
       "        },\n",
       "    });\n",
       "\n",
       "    function mouse_event_fn(event) {\n",
       "        if (pass_mouse_events)\n",
       "            return fig.mouse_event(event, event['data']);\n",
       "    }\n",
       "\n",
       "    rubberband.mousedown('button_press', mouse_event_fn);\n",
       "    rubberband.mouseup('button_release', mouse_event_fn);\n",
       "    // Throttle sequential mouse events to 1 every 20ms.\n",
       "    rubberband.mousemove('motion_notify', mouse_event_fn);\n",
       "\n",
       "    rubberband.mouseenter('figure_enter', mouse_event_fn);\n",
       "    rubberband.mouseleave('figure_leave', mouse_event_fn);\n",
       "\n",
       "    canvas_div.on(\"wheel\", function (event) {\n",
       "        event = event.originalEvent;\n",
       "        event['data'] = 'scroll'\n",
       "        if (event.deltaY < 0) {\n",
       "            event.step = 1;\n",
       "        } else {\n",
       "            event.step = -1;\n",
       "        }\n",
       "        mouse_event_fn(event);\n",
       "    });\n",
       "\n",
       "    canvas_div.append(canvas);\n",
       "    canvas_div.append(rubberband);\n",
       "\n",
       "    this.rubberband = rubberband;\n",
       "    this.rubberband_canvas = rubberband[0];\n",
       "    this.rubberband_context = rubberband[0].getContext(\"2d\");\n",
       "    this.rubberband_context.strokeStyle = \"#000000\";\n",
       "\n",
       "    this._resize_canvas = function(width, height) {\n",
       "        // Keep the size of the canvas, canvas container, and rubber band\n",
       "        // canvas in synch.\n",
       "        canvas_div.css('width', width)\n",
       "        canvas_div.css('height', height)\n",
       "\n",
       "        canvas.attr('width', width * mpl.ratio);\n",
       "        canvas.attr('height', height * mpl.ratio);\n",
       "        canvas.attr('style', 'width: ' + width + 'px; height: ' + height + 'px;');\n",
       "\n",
       "        rubberband.attr('width', width);\n",
       "        rubberband.attr('height', height);\n",
       "    }\n",
       "\n",
       "    // Set the figure to an initial 600x600px, this will subsequently be updated\n",
       "    // upon first draw.\n",
       "    this._resize_canvas(600, 600);\n",
       "\n",
       "    // Disable right mouse context menu.\n",
       "    $(this.rubberband_canvas).bind(\"contextmenu\",function(e){\n",
       "        return false;\n",
       "    });\n",
       "\n",
       "    function set_focus () {\n",
       "        canvas.focus();\n",
       "        canvas_div.focus();\n",
       "    }\n",
       "\n",
       "    window.setTimeout(set_focus, 100);\n",
       "}\n",
       "\n",
       "mpl.figure.prototype._init_toolbar = function() {\n",
       "    var fig = this;\n",
       "\n",
       "    var nav_element = $('<div/>');\n",
       "    nav_element.attr('style', 'width: 100%');\n",
       "    this.root.append(nav_element);\n",
       "\n",
       "    // Define a callback function for later on.\n",
       "    function toolbar_event(event) {\n",
       "        return fig.toolbar_button_onclick(event['data']);\n",
       "    }\n",
       "    function toolbar_mouse_event(event) {\n",
       "        return fig.toolbar_button_onmouseover(event['data']);\n",
       "    }\n",
       "\n",
       "    for(var toolbar_ind in mpl.toolbar_items) {\n",
       "        var name = mpl.toolbar_items[toolbar_ind][0];\n",
       "        var tooltip = mpl.toolbar_items[toolbar_ind][1];\n",
       "        var image = mpl.toolbar_items[toolbar_ind][2];\n",
       "        var method_name = mpl.toolbar_items[toolbar_ind][3];\n",
       "\n",
       "        if (!name) {\n",
       "            // put a spacer in here.\n",
       "            continue;\n",
       "        }\n",
       "        var button = $('<button/>');\n",
       "        button.addClass('ui-button ui-widget ui-state-default ui-corner-all ' +\n",
       "                        'ui-button-icon-only');\n",
       "        button.attr('role', 'button');\n",
       "        button.attr('aria-disabled', 'false');\n",
       "        button.click(method_name, toolbar_event);\n",
       "        button.mouseover(tooltip, toolbar_mouse_event);\n",
       "\n",
       "        var icon_img = $('<span/>');\n",
       "        icon_img.addClass('ui-button-icon-primary ui-icon');\n",
       "        icon_img.addClass(image);\n",
       "        icon_img.addClass('ui-corner-all');\n",
       "\n",
       "        var tooltip_span = $('<span/>');\n",
       "        tooltip_span.addClass('ui-button-text');\n",
       "        tooltip_span.html(tooltip);\n",
       "\n",
       "        button.append(icon_img);\n",
       "        button.append(tooltip_span);\n",
       "\n",
       "        nav_element.append(button);\n",
       "    }\n",
       "\n",
       "    var fmt_picker_span = $('<span/>');\n",
       "\n",
       "    var fmt_picker = $('<select/>');\n",
       "    fmt_picker.addClass('mpl-toolbar-option ui-widget ui-widget-content');\n",
       "    fmt_picker_span.append(fmt_picker);\n",
       "    nav_element.append(fmt_picker_span);\n",
       "    this.format_dropdown = fmt_picker[0];\n",
       "\n",
       "    for (var ind in mpl.extensions) {\n",
       "        var fmt = mpl.extensions[ind];\n",
       "        var option = $(\n",
       "            '<option/>', {selected: fmt === mpl.default_extension}).html(fmt);\n",
       "        fmt_picker.append(option);\n",
       "    }\n",
       "\n",
       "    // Add hover states to the ui-buttons\n",
       "    $( \".ui-button\" ).hover(\n",
       "        function() { $(this).addClass(\"ui-state-hover\");},\n",
       "        function() { $(this).removeClass(\"ui-state-hover\");}\n",
       "    );\n",
       "\n",
       "    var status_bar = $('<span class=\"mpl-message\"/>');\n",
       "    nav_element.append(status_bar);\n",
       "    this.message = status_bar[0];\n",
       "}\n",
       "\n",
       "mpl.figure.prototype.request_resize = function(x_pixels, y_pixels) {\n",
       "    // Request matplotlib to resize the figure. Matplotlib will then trigger a resize in the client,\n",
       "    // which will in turn request a refresh of the image.\n",
       "    this.send_message('resize', {'width': x_pixels, 'height': y_pixels});\n",
       "}\n",
       "\n",
       "mpl.figure.prototype.send_message = function(type, properties) {\n",
       "    properties['type'] = type;\n",
       "    properties['figure_id'] = this.id;\n",
       "    this.ws.send(JSON.stringify(properties));\n",
       "}\n",
       "\n",
       "mpl.figure.prototype.send_draw_message = function() {\n",
       "    if (!this.waiting) {\n",
       "        this.waiting = true;\n",
       "        this.ws.send(JSON.stringify({type: \"draw\", figure_id: this.id}));\n",
       "    }\n",
       "}\n",
       "\n",
       "\n",
       "mpl.figure.prototype.handle_save = function(fig, msg) {\n",
       "    var format_dropdown = fig.format_dropdown;\n",
       "    var format = format_dropdown.options[format_dropdown.selectedIndex].value;\n",
       "    fig.ondownload(fig, format);\n",
       "}\n",
       "\n",
       "\n",
       "mpl.figure.prototype.handle_resize = function(fig, msg) {\n",
       "    var size = msg['size'];\n",
       "    if (size[0] != fig.canvas.width || size[1] != fig.canvas.height) {\n",
       "        fig._resize_canvas(size[0], size[1]);\n",
       "        fig.send_message(\"refresh\", {});\n",
       "    };\n",
       "}\n",
       "\n",
       "mpl.figure.prototype.handle_rubberband = function(fig, msg) {\n",
       "    var x0 = msg['x0'] / mpl.ratio;\n",
       "    var y0 = (fig.canvas.height - msg['y0']) / mpl.ratio;\n",
       "    var x1 = msg['x1'] / mpl.ratio;\n",
       "    var y1 = (fig.canvas.height - msg['y1']) / mpl.ratio;\n",
       "    x0 = Math.floor(x0) + 0.5;\n",
       "    y0 = Math.floor(y0) + 0.5;\n",
       "    x1 = Math.floor(x1) + 0.5;\n",
       "    y1 = Math.floor(y1) + 0.5;\n",
       "    var min_x = Math.min(x0, x1);\n",
       "    var min_y = Math.min(y0, y1);\n",
       "    var width = Math.abs(x1 - x0);\n",
       "    var height = Math.abs(y1 - y0);\n",
       "\n",
       "    fig.rubberband_context.clearRect(\n",
       "        0, 0, fig.canvas.width / mpl.ratio, fig.canvas.height / mpl.ratio);\n",
       "\n",
       "    fig.rubberband_context.strokeRect(min_x, min_y, width, height);\n",
       "}\n",
       "\n",
       "mpl.figure.prototype.handle_figure_label = function(fig, msg) {\n",
       "    // Updates the figure title.\n",
       "    fig.header.textContent = msg['label'];\n",
       "}\n",
       "\n",
       "mpl.figure.prototype.handle_cursor = function(fig, msg) {\n",
       "    var cursor = msg['cursor'];\n",
       "    switch(cursor)\n",
       "    {\n",
       "    case 0:\n",
       "        cursor = 'pointer';\n",
       "        break;\n",
       "    case 1:\n",
       "        cursor = 'default';\n",
       "        break;\n",
       "    case 2:\n",
       "        cursor = 'crosshair';\n",
       "        break;\n",
       "    case 3:\n",
       "        cursor = 'move';\n",
       "        break;\n",
       "    }\n",
       "    fig.rubberband_canvas.style.cursor = cursor;\n",
       "}\n",
       "\n",
       "mpl.figure.prototype.handle_message = function(fig, msg) {\n",
       "    fig.message.textContent = msg['message'];\n",
       "}\n",
       "\n",
       "mpl.figure.prototype.handle_draw = function(fig, msg) {\n",
       "    // Request the server to send over a new figure.\n",
       "    fig.send_draw_message();\n",
       "}\n",
       "\n",
       "mpl.figure.prototype.handle_image_mode = function(fig, msg) {\n",
       "    fig.image_mode = msg['mode'];\n",
       "}\n",
       "\n",
       "mpl.figure.prototype.updated_canvas_event = function() {\n",
       "    // Called whenever the canvas gets updated.\n",
       "    this.send_message(\"ack\", {});\n",
       "}\n",
       "\n",
       "// A function to construct a web socket function for onmessage handling.\n",
       "// Called in the figure constructor.\n",
       "mpl.figure.prototype._make_on_message_function = function(fig) {\n",
       "    return function socket_on_message(evt) {\n",
       "        if (evt.data instanceof Blob) {\n",
       "            /* FIXME: We get \"Resource interpreted as Image but\n",
       "             * transferred with MIME type text/plain:\" errors on\n",
       "             * Chrome.  But how to set the MIME type?  It doesn't seem\n",
       "             * to be part of the websocket stream */\n",
       "            evt.data.type = \"image/png\";\n",
       "\n",
       "            /* Free the memory for the previous frames */\n",
       "            if (fig.imageObj.src) {\n",
       "                (window.URL || window.webkitURL).revokeObjectURL(\n",
       "                    fig.imageObj.src);\n",
       "            }\n",
       "\n",
       "            fig.imageObj.src = (window.URL || window.webkitURL).createObjectURL(\n",
       "                evt.data);\n",
       "            fig.updated_canvas_event();\n",
       "            fig.waiting = false;\n",
       "            return;\n",
       "        }\n",
       "        else if (typeof evt.data === 'string' && evt.data.slice(0, 21) == \"data:image/png;base64\") {\n",
       "            fig.imageObj.src = evt.data;\n",
       "            fig.updated_canvas_event();\n",
       "            fig.waiting = false;\n",
       "            return;\n",
       "        }\n",
       "\n",
       "        var msg = JSON.parse(evt.data);\n",
       "        var msg_type = msg['type'];\n",
       "\n",
       "        // Call the  \"handle_{type}\" callback, which takes\n",
       "        // the figure and JSON message as its only arguments.\n",
       "        try {\n",
       "            var callback = fig[\"handle_\" + msg_type];\n",
       "        } catch (e) {\n",
       "            console.log(\"No handler for the '\" + msg_type + \"' message type: \", msg);\n",
       "            return;\n",
       "        }\n",
       "\n",
       "        if (callback) {\n",
       "            try {\n",
       "                // console.log(\"Handling '\" + msg_type + \"' message: \", msg);\n",
       "                callback(fig, msg);\n",
       "            } catch (e) {\n",
       "                console.log(\"Exception inside the 'handler_\" + msg_type + \"' callback:\", e, e.stack, msg);\n",
       "            }\n",
       "        }\n",
       "    };\n",
       "}\n",
       "\n",
       "// from http://stackoverflow.com/questions/1114465/getting-mouse-location-in-canvas\n",
       "mpl.findpos = function(e) {\n",
       "    //this section is from http://www.quirksmode.org/js/events_properties.html\n",
       "    var targ;\n",
       "    if (!e)\n",
       "        e = window.event;\n",
       "    if (e.target)\n",
       "        targ = e.target;\n",
       "    else if (e.srcElement)\n",
       "        targ = e.srcElement;\n",
       "    if (targ.nodeType == 3) // defeat Safari bug\n",
       "        targ = targ.parentNode;\n",
       "\n",
       "    // jQuery normalizes the pageX and pageY\n",
       "    // pageX,Y are the mouse positions relative to the document\n",
       "    // offset() returns the position of the element relative to the document\n",
       "    var x = e.pageX - $(targ).offset().left;\n",
       "    var y = e.pageY - $(targ).offset().top;\n",
       "\n",
       "    return {\"x\": x, \"y\": y};\n",
       "};\n",
       "\n",
       "/*\n",
       " * return a copy of an object with only non-object keys\n",
       " * we need this to avoid circular references\n",
       " * http://stackoverflow.com/a/24161582/3208463\n",
       " */\n",
       "function simpleKeys (original) {\n",
       "  return Object.keys(original).reduce(function (obj, key) {\n",
       "    if (typeof original[key] !== 'object')\n",
       "        obj[key] = original[key]\n",
       "    return obj;\n",
       "  }, {});\n",
       "}\n",
       "\n",
       "mpl.figure.prototype.mouse_event = function(event, name) {\n",
       "    var canvas_pos = mpl.findpos(event)\n",
       "\n",
       "    if (name === 'button_press')\n",
       "    {\n",
       "        this.canvas.focus();\n",
       "        this.canvas_div.focus();\n",
       "    }\n",
       "\n",
       "    var x = canvas_pos.x * mpl.ratio;\n",
       "    var y = canvas_pos.y * mpl.ratio;\n",
       "\n",
       "    this.send_message(name, {x: x, y: y, button: event.button,\n",
       "                             step: event.step,\n",
       "                             guiEvent: simpleKeys(event)});\n",
       "\n",
       "    /* This prevents the web browser from automatically changing to\n",
       "     * the text insertion cursor when the button is pressed.  We want\n",
       "     * to control all of the cursor setting manually through the\n",
       "     * 'cursor' event from matplotlib */\n",
       "    event.preventDefault();\n",
       "    return false;\n",
       "}\n",
       "\n",
       "mpl.figure.prototype._key_event_extra = function(event, name) {\n",
       "    // Handle any extra behaviour associated with a key event\n",
       "}\n",
       "\n",
       "mpl.figure.prototype.key_event = function(event, name) {\n",
       "\n",
       "    // Prevent repeat events\n",
       "    if (name == 'key_press')\n",
       "    {\n",
       "        if (event.which === this._key)\n",
       "            return;\n",
       "        else\n",
       "            this._key = event.which;\n",
       "    }\n",
       "    if (name == 'key_release')\n",
       "        this._key = null;\n",
       "\n",
       "    var value = '';\n",
       "    if (event.ctrlKey && event.which != 17)\n",
       "        value += \"ctrl+\";\n",
       "    if (event.altKey && event.which != 18)\n",
       "        value += \"alt+\";\n",
       "    if (event.shiftKey && event.which != 16)\n",
       "        value += \"shift+\";\n",
       "\n",
       "    value += 'k';\n",
       "    value += event.which.toString();\n",
       "\n",
       "    this._key_event_extra(event, name);\n",
       "\n",
       "    this.send_message(name, {key: value,\n",
       "                             guiEvent: simpleKeys(event)});\n",
       "    return false;\n",
       "}\n",
       "\n",
       "mpl.figure.prototype.toolbar_button_onclick = function(name) {\n",
       "    if (name == 'download') {\n",
       "        this.handle_save(this, null);\n",
       "    } else {\n",
       "        this.send_message(\"toolbar_button\", {name: name});\n",
       "    }\n",
       "};\n",
       "\n",
       "mpl.figure.prototype.toolbar_button_onmouseover = function(tooltip) {\n",
       "    this.message.textContent = tooltip;\n",
       "};\n",
       "mpl.toolbar_items = [[\"Home\", \"Reset original view\", \"fa fa-home icon-home\", \"home\"], [\"Back\", \"Back to previous view\", \"fa fa-arrow-left icon-arrow-left\", \"back\"], [\"Forward\", \"Forward to next view\", \"fa fa-arrow-right icon-arrow-right\", \"forward\"], [\"\", \"\", \"\", \"\"], [\"Pan\", \"Pan axes with left mouse, zoom with right\", \"fa fa-arrows icon-move\", \"pan\"], [\"Zoom\", \"Zoom to rectangle\", \"fa fa-square-o icon-check-empty\", \"zoom\"], [\"\", \"\", \"\", \"\"], [\"Download\", \"Download plot\", \"fa fa-floppy-o icon-save\", \"download\"]];\n",
       "\n",
       "mpl.extensions = [\"eps\", \"jpeg\", \"pdf\", \"png\", \"ps\", \"raw\", \"svg\", \"tif\"];\n",
       "\n",
       "mpl.default_extension = \"png\";var comm_websocket_adapter = function(comm) {\n",
       "    // Create a \"websocket\"-like object which calls the given IPython comm\n",
       "    // object with the appropriate methods. Currently this is a non binary\n",
       "    // socket, so there is still some room for performance tuning.\n",
       "    var ws = {};\n",
       "\n",
       "    ws.close = function() {\n",
       "        comm.close()\n",
       "    };\n",
       "    ws.send = function(m) {\n",
       "        //console.log('sending', m);\n",
       "        comm.send(m);\n",
       "    };\n",
       "    // Register the callback with on_msg.\n",
       "    comm.on_msg(function(msg) {\n",
       "        //console.log('receiving', msg['content']['data'], msg);\n",
       "        // Pass the mpl event to the overridden (by mpl) onmessage function.\n",
       "        ws.onmessage(msg['content']['data'])\n",
       "    });\n",
       "    return ws;\n",
       "}\n",
       "\n",
       "mpl.mpl_figure_comm = function(comm, msg) {\n",
       "    // This is the function which gets called when the mpl process\n",
       "    // starts-up an IPython Comm through the \"matplotlib\" channel.\n",
       "\n",
       "    var id = msg.content.data.id;\n",
       "    // Get hold of the div created by the display call when the Comm\n",
       "    // socket was opened in Python.\n",
       "    var element = $(\"#\" + id);\n",
       "    var ws_proxy = comm_websocket_adapter(comm)\n",
       "\n",
       "    function ondownload(figure, format) {\n",
       "        window.open(figure.imageObj.src);\n",
       "    }\n",
       "\n",
       "    var fig = new mpl.figure(id, ws_proxy,\n",
       "                           ondownload,\n",
       "                           element.get(0));\n",
       "\n",
       "    // Call onopen now - mpl needs it, as it is assuming we've passed it a real\n",
       "    // web socket which is closed, not our websocket->open comm proxy.\n",
       "    ws_proxy.onopen();\n",
       "\n",
       "    fig.parent_element = element.get(0);\n",
       "    fig.cell_info = mpl.find_output_cell(\"<div id='\" + id + \"'></div>\");\n",
       "    if (!fig.cell_info) {\n",
       "        console.error(\"Failed to find cell for figure\", id, fig);\n",
       "        return;\n",
       "    }\n",
       "\n",
       "    var output_index = fig.cell_info[2]\n",
       "    var cell = fig.cell_info[0];\n",
       "\n",
       "};\n",
       "\n",
       "mpl.figure.prototype.handle_close = function(fig, msg) {\n",
       "    var width = fig.canvas.width/mpl.ratio\n",
       "    fig.root.unbind('remove')\n",
       "\n",
       "    // Update the output cell to use the data from the current canvas.\n",
       "    fig.push_to_output();\n",
       "    var dataURL = fig.canvas.toDataURL();\n",
       "    // Re-enable the keyboard manager in IPython - without this line, in FF,\n",
       "    // the notebook keyboard shortcuts fail.\n",
       "    IPython.keyboard_manager.enable()\n",
       "    $(fig.parent_element).html('<img src=\"' + dataURL + '\" width=\"' + width + '\">');\n",
       "    fig.close_ws(fig, msg);\n",
       "}\n",
       "\n",
       "mpl.figure.prototype.close_ws = function(fig, msg){\n",
       "    fig.send_message('closing', msg);\n",
       "    // fig.ws.close()\n",
       "}\n",
       "\n",
       "mpl.figure.prototype.push_to_output = function(remove_interactive) {\n",
       "    // Turn the data on the canvas into data in the output cell.\n",
       "    var width = this.canvas.width/mpl.ratio\n",
       "    var dataURL = this.canvas.toDataURL();\n",
       "    this.cell_info[1]['text/html'] = '<img src=\"' + dataURL + '\" width=\"' + width + '\">';\n",
       "}\n",
       "\n",
       "mpl.figure.prototype.updated_canvas_event = function() {\n",
       "    // Tell IPython that the notebook contents must change.\n",
       "    IPython.notebook.set_dirty(true);\n",
       "    this.send_message(\"ack\", {});\n",
       "    var fig = this;\n",
       "    // Wait a second, then push the new image to the DOM so\n",
       "    // that it is saved nicely (might be nice to debounce this).\n",
       "    setTimeout(function () { fig.push_to_output() }, 1000);\n",
       "}\n",
       "\n",
       "mpl.figure.prototype._init_toolbar = function() {\n",
       "    var fig = this;\n",
       "\n",
       "    var nav_element = $('<div/>');\n",
       "    nav_element.attr('style', 'width: 100%');\n",
       "    this.root.append(nav_element);\n",
       "\n",
       "    // Define a callback function for later on.\n",
       "    function toolbar_event(event) {\n",
       "        return fig.toolbar_button_onclick(event['data']);\n",
       "    }\n",
       "    function toolbar_mouse_event(event) {\n",
       "        return fig.toolbar_button_onmouseover(event['data']);\n",
       "    }\n",
       "\n",
       "    for(var toolbar_ind in mpl.toolbar_items){\n",
       "        var name = mpl.toolbar_items[toolbar_ind][0];\n",
       "        var tooltip = mpl.toolbar_items[toolbar_ind][1];\n",
       "        var image = mpl.toolbar_items[toolbar_ind][2];\n",
       "        var method_name = mpl.toolbar_items[toolbar_ind][3];\n",
       "\n",
       "        if (!name) { continue; };\n",
       "\n",
       "        var button = $('<button class=\"btn btn-default\" href=\"#\" title=\"' + name + '\"><i class=\"fa ' + image + ' fa-lg\"></i></button>');\n",
       "        button.click(method_name, toolbar_event);\n",
       "        button.mouseover(tooltip, toolbar_mouse_event);\n",
       "        nav_element.append(button);\n",
       "    }\n",
       "\n",
       "    // Add the status bar.\n",
       "    var status_bar = $('<span class=\"mpl-message\" style=\"text-align:right; float: right;\"/>');\n",
       "    nav_element.append(status_bar);\n",
       "    this.message = status_bar[0];\n",
       "\n",
       "    // Add the close button to the window.\n",
       "    var buttongrp = $('<div class=\"btn-group inline pull-right\"></div>');\n",
       "    var button = $('<button class=\"btn btn-mini btn-primary\" href=\"#\" title=\"Stop Interaction\"><i class=\"fa fa-power-off icon-remove icon-large\"></i></button>');\n",
       "    button.click(function (evt) { fig.handle_close(fig, {}); } );\n",
       "    button.mouseover('Stop Interaction', toolbar_mouse_event);\n",
       "    buttongrp.append(button);\n",
       "    var titlebar = this.root.find($('.ui-dialog-titlebar'));\n",
       "    titlebar.prepend(buttongrp);\n",
       "}\n",
       "\n",
       "mpl.figure.prototype._root_extra_style = function(el){\n",
       "    var fig = this\n",
       "    el.on(\"remove\", function(){\n",
       "\tfig.close_ws(fig, {});\n",
       "    });\n",
       "}\n",
       "\n",
       "mpl.figure.prototype._canvas_extra_style = function(el){\n",
       "    // this is important to make the div 'focusable\n",
       "    el.attr('tabindex', 0)\n",
       "    // reach out to IPython and tell the keyboard manager to turn it's self\n",
       "    // off when our div gets focus\n",
       "\n",
       "    // location in version 3\n",
       "    if (IPython.notebook.keyboard_manager) {\n",
       "        IPython.notebook.keyboard_manager.register_events(el);\n",
       "    }\n",
       "    else {\n",
       "        // location in version 2\n",
       "        IPython.keyboard_manager.register_events(el);\n",
       "    }\n",
       "\n",
       "}\n",
       "\n",
       "mpl.figure.prototype._key_event_extra = function(event, name) {\n",
       "    var manager = IPython.notebook.keyboard_manager;\n",
       "    if (!manager)\n",
       "        manager = IPython.keyboard_manager;\n",
       "\n",
       "    // Check for shift+enter\n",
       "    if (event.shiftKey && event.which == 13) {\n",
       "        this.canvas_div.blur();\n",
       "        // select the cell after this one\n",
       "        var index = IPython.notebook.find_cell_index(this.cell_info[0]);\n",
       "        IPython.notebook.select(index + 1);\n",
       "    }\n",
       "}\n",
       "\n",
       "mpl.figure.prototype.handle_save = function(fig, msg) {\n",
       "    fig.ondownload(fig, null);\n",
       "}\n",
       "\n",
       "\n",
       "mpl.find_output_cell = function(html_output) {\n",
       "    // Return the cell and output element which can be found *uniquely* in the notebook.\n",
       "    // Note - this is a bit hacky, but it is done because the \"notebook_saving.Notebook\"\n",
       "    // IPython event is triggered only after the cells have been serialised, which for\n",
       "    // our purposes (turning an active figure into a static one), is too late.\n",
       "    var cells = IPython.notebook.get_cells();\n",
       "    var ncells = cells.length;\n",
       "    for (var i=0; i<ncells; i++) {\n",
       "        var cell = cells[i];\n",
       "        if (cell.cell_type === 'code'){\n",
       "            for (var j=0; j<cell.output_area.outputs.length; j++) {\n",
       "                var data = cell.output_area.outputs[j];\n",
       "                if (data.data) {\n",
       "                    // IPython >= 3 moved mimebundle to data attribute of output\n",
       "                    data = data.data;\n",
       "                }\n",
       "                if (data['text/html'] == html_output) {\n",
       "                    return [cell, data, j];\n",
       "                }\n",
       "            }\n",
       "        }\n",
       "    }\n",
       "}\n",
       "\n",
       "// Register the function which deals with the matplotlib target/channel.\n",
       "// The kernel may be null if the page has been refreshed.\n",
       "if (IPython.notebook.kernel != null) {\n",
       "    IPython.notebook.kernel.comm_manager.register_target('matplotlib', mpl.mpl_figure_comm);\n",
       "}\n"
      ],
      "text/plain": [
       "<IPython.core.display.Javascript object>"
      ]
     },
     "metadata": {},
     "output_type": "display_data"
    },
    {
     "data": {
      "text/html": [
       "<img src=\"data:image/png;base64,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\" width=\"600\">"
      ],
      "text/plain": [
       "<IPython.core.display.HTML object>"
      ]
     },
     "metadata": {},
     "output_type": "display_data"
    }
   ],
   "source": [
    "fig, ax = plt.subplots(figsize=(6, 4))\n",
    "ax.plot(x_list, y_list[0], c=\"black\", linestyle=\"-.\", label=\"PBE0\")\n",
    "ax.plot(x_list, y_list[1], c=\"C2\", linestyle=\"-.\", label=\"osRPA\")\n",
    "ax.plot(x_list, y_list[2], c=\"C0\", linestyle=\"--\", label=\"dRPA\")\n",
    "ax.plot(x_list, y_list[3], c=\"C1\", linestyle=\"-\", label=\"osRPA1\")\n",
    "ax.plot(x_list, y_list[4], c=\"C6\", linestyle=\"-.\", label=\"scsRPA\")\n",
    "ax.plot(x_list, np.zeros_like(x_list), c=\"black\", linewidth=0.5)\n",
    "ax.set_ylim(-300, 400)\n",
    "ax.legend()\n",
    "ax.set_xlabel(\"Bond Length (Angstrom)\")\n",
    "ax.set_ylabel(\"Relative energy curves (kcal/mol)\")\n",
    "ax.set_title(\"$\\mathsf{N_2}$ dissociation curve without breaking spin symmetry\")\n",
    "fig.tight_layout()"
   ]
  },
  {
   "cell_type": "markdown",
   "metadata": {},
   "source": [
    "由于 CCSD 与 CASSCF 的收敛情况似乎容易存在问题，因此这里仅仅计算了这五条曲线。"
   ]
  },
  {
   "cell_type": "markdown",
   "metadata": {},
   "source": [
    "[^Zhang-Xu.JPCL.2019.10]: Zhang, I. Y.; Xu, X. Simultaneous Attenuation of Both Self-Interaction Error and Nondynamic Correlation Error in Density Functional Theory: A Spin-Pair Distinctive Adiabatic-Connection Approximation. J. Phys. Chem. Lett. 2019, 10 (10), 2617–2623. doi: [10.1021/acs.jpclett.9b00946](https://doi.org/10.1021/acs.jpclett.9b00946)."
   ]
  }
 ],
 "metadata": {
  "celltoolbar": "Raw Cell Format",
  "kernelspec": {
   "display_name": "Python 3",
   "language": "python",
   "name": "python3"
  },
  "language_info": {
   "codemirror_mode": {
    "name": "ipython",
    "version": 3
   },
   "file_extension": ".py",
   "mimetype": "text/x-python",
   "name": "python",
   "nbconvert_exporter": "python",
   "pygments_lexer": "ipython3",
   "version": "3.8.3"
  },
  "toc": {
   "base_numbering": 1,
   "nav_menu": {},
   "number_sections": true,
   "sideBar": true,
   "skip_h1_title": false,
   "title_cell": "Table of Contents",
   "title_sidebar": "Contents",
   "toc_cell": false,
   "toc_position": {},
   "toc_section_display": true,
   "toc_window_display": false
  }
 },
 "nbformat": 4,
 "nbformat_minor": 4
}
