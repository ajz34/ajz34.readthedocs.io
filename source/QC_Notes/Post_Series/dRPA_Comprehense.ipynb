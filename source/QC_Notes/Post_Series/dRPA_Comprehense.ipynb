{
 "cells": [
  {
   "cell_type": "markdown",
   "metadata": {},
   "source": [
    "# 简单理解两种 Direct RPA 相关能程序实现等价性"
   ]
  },
  {
   "cell_type": "markdown",
   "metadata": {},
   "source": [
    "这篇文档中，我们会讨论基于 Pure-GGA 参考态的 Direct RPA (dRPA) 相关能计算。理论推导着重从类 TD-KS 方程出发，而程序实现会讨论两种 $O(N^6)$ 与一种 $O(N^4)$ 方法。\n",
    "\n",
    "Direct RPA 可以看作是 Rung 5th 的密度泛函方法，其精度一般来说高于一般的杂化泛函 (B3LYP, PBE0 等)，计算复杂度大约为双杂化泛函 (XYG3, B2PLYP 等)，被认为可能对一些近简并体系能较为圆滑地处理。\n",
    "\n",
    "密度泛函的近似着重处理交换相关能。Direct RPA 的交换能一般通过 Exact 交换能 (不准确地说是 Hartree-Fock 交换能) 获得，而相关能的计算相对特殊。几乎所有量子化学软件具有计算 Direct RPA 的能力，但发行版中明确拥有这一特性的软件较少，一般来说有 Ren Xinguo 为代表的 FHI-Aims 与 Furche 为代表的 Turbomole。在较小的模型体系下，该文档的计算结果与这两个软件的结果作对比与核验。"
   ]
  },
  {
   "cell_type": "markdown",
   "metadata": {},
   "source": [
    "这篇文档中，既不引用也不加以证明的公式，有 TD-KS (Casida) 方程、Wick 二次量子化算符交换规则、Cauchy-Goursat 积分定理等。"
   ]
  },
  {
   "cell_type": "code",
   "execution_count": 1,
   "metadata": {},
   "outputs": [],
   "source": [
    "%matplotlib notebook\n",
    "\n",
    "from pyscf import gto, dft, scf, tdscf, df\n",
    "import numpy as np\n",
    "import scipy\n",
    "from scipy.linalg import fractional_matrix_power\n",
    "from functools import partial\n",
    "from matplotlib import pyplot as plt\n",
    "from IPython.display import Image\n",
    "\n",
    "np.set_printoptions(5, linewidth=120, suppress=True)\n",
    "np.einsum = partial(np.einsum, optimize=True)"
   ]
  },
  {
   "cell_type": "markdown",
   "metadata": {},
   "source": [
    "## 分子体系与 PBE 能量计算"
   ]
  },
  {
   "cell_type": "markdown",
   "metadata": {},
   "source": [
    "我们使用 cc-pVTZ 基组的水分子举例。格点使用 PySCF 的默认格点，即 prune 的氧原子 (75, 302)，氢原子 (50, 302) 格点。该分子实例记在 `mol` 中。"
   ]
  },
  {
   "cell_type": "code",
   "execution_count": 2,
   "metadata": {},
   "outputs": [
    {
     "data": {
      "text/plain": [
       "<pyscf.gto.mole.Mole at 0x7f5480a324f0>"
      ]
     },
     "execution_count": 2,
     "metadata": {},
     "output_type": "execute_result"
    }
   ],
   "source": [
    "mol = gto.Mole()\n",
    "mol.atom = \"\"\"\n",
    "O  0. 0. 0.\n",
    "H  0. 0. 1.\n",
    "H  0. 1. 0.\n",
    "\"\"\"\n",
    "mol.basis = \"cc-pVTZ\"\n",
    "mol.verbose = 0\n",
    "mol.build()"
   ]
  },
  {
   "cell_type": "markdown",
   "metadata": {},
   "source": [
    "我们在后文会使用到 RI (Resolution of Identity) 方法，因此需要定义 DF (Density Fitting) 基组。我们使用的 DF 基组是 cc-pVTZ-ri。该分子实例记在 `mol_df` 中。"
   ]
  },
  {
   "cell_type": "code",
   "execution_count": 3,
   "metadata": {},
   "outputs": [
    {
     "data": {
      "text/plain": [
       "<pyscf.gto.mole.Mole at 0x7f54b1a98850>"
      ]
     },
     "execution_count": 3,
     "metadata": {},
     "output_type": "execute_result"
    }
   ],
   "source": [
    "mol_df = mol.copy()\n",
    "mol_df.basis = \"cc-pVTZ-ri\"\n",
    "mol_df.build()"
   ]
  },
  {
   "cell_type": "markdown",
   "metadata": {},
   "source": [
    "我们首先计算分子的 PBE 能量，其目的是得到 PBE 的分子轨道。该计算实例记在 `mf` 中。出于便利，我们使用未经过 DF (Density Fitting) 的自洽场。"
   ]
  },
  {
   "cell_type": "code",
   "execution_count": 4,
   "metadata": {},
   "outputs": [
    {
     "data": {
      "text/plain": [
       "-76.36780110085748"
      ]
     },
     "execution_count": 4,
     "metadata": {},
     "output_type": "execute_result"
    }
   ],
   "source": [
    "mf = dft.RKS(mol, xc=\"PBE\").run()\n",
    "mf.e_tot"
   ]
  },
  {
   "cell_type": "markdown",
   "metadata": {},
   "source": [
    "我们随后需要定义与分子或方法有关的变量。我们使用 $i, j$ 表示占据分子轨道，$a, b$ 表示非占分子轨道，$p, q, r, s$ 表示全部分子轨道，$\\mu, \\nu, \\kappa, \\lambda$ 表示原子轨道，$P, Q$ 表示 DF 轨道。\n",
    "\n",
    "- `nocc` $n_\\mathrm{occ}$ 占据轨道数\n",
    "\n",
    "- `nvir` $n_\\mathrm{vir}$ 未占轨道数\n",
    "\n",
    "- `nmo` $n_\\mathrm{MO}$ 分子轨道数，等于占据轨道数 `nao` $n_\\mathrm{AO}$\n",
    "\n",
    "- `naux` $n_\\mathrm{aux}$ Density Fitting 基组轨道数 (或者也称辅助基组 Auxiliary)\n",
    "\n",
    "- `so`, `sv`, `sa` 占据、未占、全轨道分割 (用于程序编写)\n",
    "\n",
    "- `eri0_ao` $(\\mu \\nu | \\kappa \\lambda)$ 原子轨道双电子排斥积分"
   ]
  },
  {
   "cell_type": "code",
   "execution_count": 5,
   "metadata": {},
   "outputs": [],
   "source": [
    "nocc, nmo, nao = mol.nelec[0], mol.nao, mol.nao\n",
    "naux = mol_df.nao\n",
    "nvir = nmo - nocc\n",
    "so, sv, sa = slice(0, nocc), slice(nocc, nmo), slice(0, nmo)\n",
    "eri0_ao = mol.intor(\"int2e\")"
   ]
  },
  {
   "cell_type": "markdown",
   "metadata": {},
   "source": [
    "- `e`, `eo`, `ev` $e_{p}$ 全、占据、未占 PBE 轨道能\n",
    "\n",
    "- `C`, `Co`, `Cv` $C_{\\mu p}$ 全、占据、未占 PBE 轨道系数\n",
    "\n",
    "以往的文档中都会对密度矩阵作定义；但这篇文档中会有另一处记号与密度矩阵非常相似，并且通篇不太使用密度矩阵，因此不做定义。"
   ]
  },
  {
   "cell_type": "code",
   "execution_count": 6,
   "metadata": {},
   "outputs": [],
   "source": [
    "e, C = mf.mo_energy, mf.mo_coeff\n",
    "eo, ev = e[so], e[sv]\n",
    "Co, Cv = C[:, so], C[:, sv]"
   ]
  },
  {
   "cell_type": "markdown",
   "metadata": {},
   "source": [
    "- `eri0_mo` $(pq|rs)$ 分子轨道双电子排斥积分\n",
    "\n",
    "- `eri0_iajb` $(ia|jb)$ 上述张量的占据-非占-占据-非占的分割"
   ]
  },
  {
   "cell_type": "code",
   "execution_count": 7,
   "metadata": {},
   "outputs": [],
   "source": [
    "eri0_mo = np.einsum(\"uvkl, up, vq, kr, ls -> pqrs\", eri0_ao, C, C, C, C)\n",
    "eri0_iajb = eri0_mo[so, sv, so, sv]"
   ]
  },
  {
   "cell_type": "markdown",
   "metadata": {},
   "source": [
    "对于 Direct RPA，其矫正能并不是对 PBE 自洽场能直接作矫正，而是如下的形式：\n",
    "\n",
    "$$\n",
    "E^\\mathsf{dRPA}_\\mathrm{tot} = E^\\mathsf{PBE}_\\mathrm{tot} - E^\\mathsf{PBE}_\\mathrm{xc} + E^\\mathsf{exact}_\\mathrm{x} + E^\\mathsf{dRPA}_\\mathrm{c}\n",
    "$$\n",
    "\n",
    "我们首先给出 PBE 交换相关能 `eng_xc` $E^\\mathsf{PBE}_\\mathrm{xc}$："
   ]
  },
  {
   "cell_type": "code",
   "execution_count": 8,
   "metadata": {},
   "outputs": [
    {
     "data": {
      "text/plain": [
       "-9.218732082968408"
      ]
     },
     "execution_count": 8,
     "metadata": {},
     "output_type": "execute_result"
    }
   ],
   "source": [
    "ni = dft.numint.NumInt()\n",
    "eng_xc = ni.nr_vxc(mol, mf.grids, \"PBE\", mf.make_rdm1())[1]\n",
    "eng_xc"
   ]
  },
  {
   "cell_type": "markdown",
   "metadata": {},
   "source": [
    "以及 Exact 交换能 `eng_exactX` $E^\\mathsf{exact}_\\mathrm{x}$：\n",
    "\n",
    "$$\n",
    "E^\\mathsf{exact}_\\mathrm{x} = - \\sum_{\\mu \\nu \\kappa \\lambda} C_{\\mu i} C_{\\nu i} (\\mu \\kappa | \\nu \\lambda) C_{\\kappa j} C_{\\lambda j}\n",
    "$$"
   ]
  },
  {
   "cell_type": "code",
   "execution_count": 9,
   "metadata": {},
   "outputs": [
    {
     "data": {
      "text/plain": [
       "-8.887856003073837"
      ]
     },
     "execution_count": 9,
     "metadata": {},
     "output_type": "execute_result"
    }
   ],
   "source": [
    "eng_exactX = - np.einsum(\"ui, vi, ukvl, kj, lj ->\", Co, Co, eri0_ao, Co, Co)\n",
    "eng_exactX"
   ]
  },
  {
   "cell_type": "markdown",
   "metadata": {},
   "source": [
    "那么 dRPA 中，除了 $E^\\mathsf{dRPA}_\\mathrm{c}$ 之外的部分都是可求的。定义其为 HXX 能量：\n",
    "\n",
    "$$\n",
    "E^\\mathsf{dRPA}_\\mathrm{tot} = E^\\mathsf{HXX} + E^\\mathsf{dRPA}_\\mathrm{c}\n",
    "$$"
   ]
  },
  {
   "cell_type": "code",
   "execution_count": 10,
   "metadata": {},
   "outputs": [
    {
     "data": {
      "text/plain": [
       "-76.03692502096291"
      ]
     },
     "execution_count": 10,
     "metadata": {},
     "output_type": "execute_result"
    }
   ],
   "source": [
    "eng_HXX = mf.e_tot - eng_xc + eng_exactX\n",
    "eng_HXX"
   ]
  },
  {
   "cell_type": "markdown",
   "metadata": {},
   "source": [
    "这份文档随后的任务就是求取 $E^\\mathsf{dRPA}_\\mathrm{c}$。"
   ]
  },
  {
   "cell_type": "markdown",
   "metadata": {},
   "source": [
    "## 程序实现：类 TD-KS 方法"
   ]
  },
  {
   "cell_type": "markdown",
   "metadata": {
    "heading_collapsed": true
   },
   "source": [
    "### PySCF 程序实现"
   ]
  },
  {
   "cell_type": "markdown",
   "metadata": {
    "hidden": true
   },
   "source": [
    "我们可以使用 PySCF 现成的类简单地实现 $E^\\mathsf{dRPA}_\\mathrm{c}$。在 PySCF 中，通过计算 PySCF 所计算的 dRPA 与 dTDA 激发能，并对两者相减求和，就得到了 dRPA 相关能：\n",
    "\n",
    "$$\n",
    "E^\\mathsf{dRPA}_\\mathrm{c} = \\frac{1}{2} \\sum_n (\\omega_n^\\mathsf{dRPA} - \\omega_n^\\mathsf{dTDA}) \\tag{1}\n",
    "$$\n",
    "\n",
    "上式是对下标 $n$ 求和，其中 $n$ 表示基态向上的第 $n$ 个激发态，$\\omega_n^\\mathsf{dRPA}$ 表示 dRPA 激发近似下的第 $n$ 个激发态的激发能；$\\omega_n^\\mathsf{dTDA}$ 类似。\n",
    "\n",
    "但需要留意，PySCF (以及绝大多数量化软件) 的 TD-KS 的解通常只求 20 个以内，但我们原则上需要计算所有的激发能并求和，且最多求取 $n_\\mathrm{occ} \\times n_\\mathrm{vir}$。由于算力在当前体系下不成问题，因此我们就求取最多的激发态能量数。"
   ]
  },
  {
   "cell_type": "code",
   "execution_count": 11,
   "metadata": {
    "hidden": true
   },
   "outputs": [
    {
     "data": {
      "text/plain": [
       "<pyscf.tdscf.rks.dRPA at 0x7f547ee55370>"
      ]
     },
     "execution_count": 11,
     "metadata": {},
     "output_type": "execute_result"
    }
   ],
   "source": [
    "mf_dRPA = tdscf.dRPA(mf)\n",
    "mf_dRPA.nstates = nvir * nocc\n",
    "mf_dRPA.run()"
   ]
  },
  {
   "cell_type": "code",
   "execution_count": 12,
   "metadata": {
    "hidden": true
   },
   "outputs": [
    {
     "data": {
      "text/plain": [
       "<pyscf.tdscf.rks.dTDA at 0x7f547d1d2c70>"
      ]
     },
     "execution_count": 12,
     "metadata": {},
     "output_type": "execute_result"
    }
   ],
   "source": [
    "mf_dTDA = tdscf.dTDA(mf)\n",
    "mf_dTDA.nstates = nvir * nocc\n",
    "mf_dTDA.run()"
   ]
  },
  {
   "cell_type": "code",
   "execution_count": 13,
   "metadata": {
    "hidden": true
   },
   "outputs": [
    {
     "data": {
      "text/plain": [
       "-0.4313792211677736"
      ]
     },
     "execution_count": 13,
     "metadata": {},
     "output_type": "execute_result"
    }
   ],
   "source": [
    "eng_dRPA_tdks = 0.5 * (mf_dRPA.e - mf_dTDA.e).sum()\n",
    "eng_dRPA_tdks"
   ]
  },
  {
   "cell_type": "markdown",
   "metadata": {
    "hidden": true
   },
   "source": [
    "既然已经求出相关能，那么我们就可以求出总的 dRPA 能量 $E^\\mathsf{dRPA}_\\mathrm{tot}$："
   ]
  },
  {
   "cell_type": "code",
   "execution_count": 14,
   "metadata": {
    "hidden": true
   },
   "outputs": [
    {
     "data": {
      "text/plain": [
       "-76.46830424213069"
      ]
     },
     "execution_count": 14,
     "metadata": {},
     "output_type": "execute_result"
    }
   ],
   "source": [
    "eng_dRPA_tot = eng_HXX + eng_dRPA_tdks\n",
    "eng_dRPA_tot"
   ]
  },
  {
   "cell_type": "markdown",
   "metadata": {
    "hidden": true
   },
   "source": [
    "在这一段的最后，我们看一下每个激发态对相关能的贡献："
   ]
  },
  {
   "cell_type": "code",
   "execution_count": 15,
   "metadata": {
    "hidden": true
   },
   "outputs": [
    {
     "data": {
      "application/javascript": [
       "/* Put everything inside the global mpl namespace */\n",
       "window.mpl = {};\n",
       "\n",
       "\n",
       "mpl.get_websocket_type = function() {\n",
       "    if (typeof(WebSocket) !== 'undefined') {\n",
       "        return WebSocket;\n",
       "    } else if (typeof(MozWebSocket) !== 'undefined') {\n",
       "        return MozWebSocket;\n",
       "    } else {\n",
       "        alert('Your browser does not have WebSocket support. ' +\n",
       "              'Please try Chrome, Safari or Firefox ≥ 6. ' +\n",
       "              'Firefox 4 and 5 are also supported but you ' +\n",
       "              'have to enable WebSockets in about:config.');\n",
       "    };\n",
       "}\n",
       "\n",
       "mpl.figure = function(figure_id, websocket, ondownload, parent_element) {\n",
       "    this.id = figure_id;\n",
       "\n",
       "    this.ws = websocket;\n",
       "\n",
       "    this.supports_binary = (this.ws.binaryType != undefined);\n",
       "\n",
       "    if (!this.supports_binary) {\n",
       "        var warnings = document.getElementById(\"mpl-warnings\");\n",
       "        if (warnings) {\n",
       "            warnings.style.display = 'block';\n",
       "            warnings.textContent = (\n",
       "                \"This browser does not support binary websocket messages. \" +\n",
       "                    \"Performance may be slow.\");\n",
       "        }\n",
       "    }\n",
       "\n",
       "    this.imageObj = new Image();\n",
       "\n",
       "    this.context = undefined;\n",
       "    this.message = undefined;\n",
       "    this.canvas = undefined;\n",
       "    this.rubberband_canvas = undefined;\n",
       "    this.rubberband_context = undefined;\n",
       "    this.format_dropdown = undefined;\n",
       "\n",
       "    this.image_mode = 'full';\n",
       "\n",
       "    this.root = $('<div/>');\n",
       "    this._root_extra_style(this.root)\n",
       "    this.root.attr('style', 'display: inline-block');\n",
       "\n",
       "    $(parent_element).append(this.root);\n",
       "\n",
       "    this._init_header(this);\n",
       "    this._init_canvas(this);\n",
       "    this._init_toolbar(this);\n",
       "\n",
       "    var fig = this;\n",
       "\n",
       "    this.waiting = false;\n",
       "\n",
       "    this.ws.onopen =  function () {\n",
       "            fig.send_message(\"supports_binary\", {value: fig.supports_binary});\n",
       "            fig.send_message(\"send_image_mode\", {});\n",
       "            if (mpl.ratio != 1) {\n",
       "                fig.send_message(\"set_dpi_ratio\", {'dpi_ratio': mpl.ratio});\n",
       "            }\n",
       "            fig.send_message(\"refresh\", {});\n",
       "        }\n",
       "\n",
       "    this.imageObj.onload = function() {\n",
       "            if (fig.image_mode == 'full') {\n",
       "                // Full images could contain transparency (where diff images\n",
       "                // almost always do), so we need to clear the canvas so that\n",
       "                // there is no ghosting.\n",
       "                fig.context.clearRect(0, 0, fig.canvas.width, fig.canvas.height);\n",
       "            }\n",
       "            fig.context.drawImage(fig.imageObj, 0, 0);\n",
       "        };\n",
       "\n",
       "    this.imageObj.onunload = function() {\n",
       "        fig.ws.close();\n",
       "    }\n",
       "\n",
       "    this.ws.onmessage = this._make_on_message_function(this);\n",
       "\n",
       "    this.ondownload = ondownload;\n",
       "}\n",
       "\n",
       "mpl.figure.prototype._init_header = function() {\n",
       "    var titlebar = $(\n",
       "        '<div class=\"ui-dialog-titlebar ui-widget-header ui-corner-all ' +\n",
       "        'ui-helper-clearfix\"/>');\n",
       "    var titletext = $(\n",
       "        '<div class=\"ui-dialog-title\" style=\"width: 100%; ' +\n",
       "        'text-align: center; padding: 3px;\"/>');\n",
       "    titlebar.append(titletext)\n",
       "    this.root.append(titlebar);\n",
       "    this.header = titletext[0];\n",
       "}\n",
       "\n",
       "\n",
       "\n",
       "mpl.figure.prototype._canvas_extra_style = function(canvas_div) {\n",
       "\n",
       "}\n",
       "\n",
       "\n",
       "mpl.figure.prototype._root_extra_style = function(canvas_div) {\n",
       "\n",
       "}\n",
       "\n",
       "mpl.figure.prototype._init_canvas = function() {\n",
       "    var fig = this;\n",
       "\n",
       "    var canvas_div = $('<div/>');\n",
       "\n",
       "    canvas_div.attr('style', 'position: relative; clear: both; outline: 0');\n",
       "\n",
       "    function canvas_keyboard_event(event) {\n",
       "        return fig.key_event(event, event['data']);\n",
       "    }\n",
       "\n",
       "    canvas_div.keydown('key_press', canvas_keyboard_event);\n",
       "    canvas_div.keyup('key_release', canvas_keyboard_event);\n",
       "    this.canvas_div = canvas_div\n",
       "    this._canvas_extra_style(canvas_div)\n",
       "    this.root.append(canvas_div);\n",
       "\n",
       "    var canvas = $('<canvas/>');\n",
       "    canvas.addClass('mpl-canvas');\n",
       "    canvas.attr('style', \"left: 0; top: 0; z-index: 0; outline: 0\")\n",
       "\n",
       "    this.canvas = canvas[0];\n",
       "    this.context = canvas[0].getContext(\"2d\");\n",
       "\n",
       "    var backingStore = this.context.backingStorePixelRatio ||\n",
       "\tthis.context.webkitBackingStorePixelRatio ||\n",
       "\tthis.context.mozBackingStorePixelRatio ||\n",
       "\tthis.context.msBackingStorePixelRatio ||\n",
       "\tthis.context.oBackingStorePixelRatio ||\n",
       "\tthis.context.backingStorePixelRatio || 1;\n",
       "\n",
       "    mpl.ratio = (window.devicePixelRatio || 1) / backingStore;\n",
       "\n",
       "    var rubberband = $('<canvas/>');\n",
       "    rubberband.attr('style', \"position: absolute; left: 0; top: 0; z-index: 1;\")\n",
       "\n",
       "    var pass_mouse_events = true;\n",
       "\n",
       "    canvas_div.resizable({\n",
       "        start: function(event, ui) {\n",
       "            pass_mouse_events = false;\n",
       "        },\n",
       "        resize: function(event, ui) {\n",
       "            fig.request_resize(ui.size.width, ui.size.height);\n",
       "        },\n",
       "        stop: function(event, ui) {\n",
       "            pass_mouse_events = true;\n",
       "            fig.request_resize(ui.size.width, ui.size.height);\n",
       "        },\n",
       "    });\n",
       "\n",
       "    function mouse_event_fn(event) {\n",
       "        if (pass_mouse_events)\n",
       "            return fig.mouse_event(event, event['data']);\n",
       "    }\n",
       "\n",
       "    rubberband.mousedown('button_press', mouse_event_fn);\n",
       "    rubberband.mouseup('button_release', mouse_event_fn);\n",
       "    // Throttle sequential mouse events to 1 every 20ms.\n",
       "    rubberband.mousemove('motion_notify', mouse_event_fn);\n",
       "\n",
       "    rubberband.mouseenter('figure_enter', mouse_event_fn);\n",
       "    rubberband.mouseleave('figure_leave', mouse_event_fn);\n",
       "\n",
       "    canvas_div.on(\"wheel\", function (event) {\n",
       "        event = event.originalEvent;\n",
       "        event['data'] = 'scroll'\n",
       "        if (event.deltaY < 0) {\n",
       "            event.step = 1;\n",
       "        } else {\n",
       "            event.step = -1;\n",
       "        }\n",
       "        mouse_event_fn(event);\n",
       "    });\n",
       "\n",
       "    canvas_div.append(canvas);\n",
       "    canvas_div.append(rubberband);\n",
       "\n",
       "    this.rubberband = rubberband;\n",
       "    this.rubberband_canvas = rubberband[0];\n",
       "    this.rubberband_context = rubberband[0].getContext(\"2d\");\n",
       "    this.rubberband_context.strokeStyle = \"#000000\";\n",
       "\n",
       "    this._resize_canvas = function(width, height) {\n",
       "        // Keep the size of the canvas, canvas container, and rubber band\n",
       "        // canvas in synch.\n",
       "        canvas_div.css('width', width)\n",
       "        canvas_div.css('height', height)\n",
       "\n",
       "        canvas.attr('width', width * mpl.ratio);\n",
       "        canvas.attr('height', height * mpl.ratio);\n",
       "        canvas.attr('style', 'width: ' + width + 'px; height: ' + height + 'px;');\n",
       "\n",
       "        rubberband.attr('width', width);\n",
       "        rubberband.attr('height', height);\n",
       "    }\n",
       "\n",
       "    // Set the figure to an initial 600x600px, this will subsequently be updated\n",
       "    // upon first draw.\n",
       "    this._resize_canvas(600, 600);\n",
       "\n",
       "    // Disable right mouse context menu.\n",
       "    $(this.rubberband_canvas).bind(\"contextmenu\",function(e){\n",
       "        return false;\n",
       "    });\n",
       "\n",
       "    function set_focus () {\n",
       "        canvas.focus();\n",
       "        canvas_div.focus();\n",
       "    }\n",
       "\n",
       "    window.setTimeout(set_focus, 100);\n",
       "}\n",
       "\n",
       "mpl.figure.prototype._init_toolbar = function() {\n",
       "    var fig = this;\n",
       "\n",
       "    var nav_element = $('<div/>');\n",
       "    nav_element.attr('style', 'width: 100%');\n",
       "    this.root.append(nav_element);\n",
       "\n",
       "    // Define a callback function for later on.\n",
       "    function toolbar_event(event) {\n",
       "        return fig.toolbar_button_onclick(event['data']);\n",
       "    }\n",
       "    function toolbar_mouse_event(event) {\n",
       "        return fig.toolbar_button_onmouseover(event['data']);\n",
       "    }\n",
       "\n",
       "    for(var toolbar_ind in mpl.toolbar_items) {\n",
       "        var name = mpl.toolbar_items[toolbar_ind][0];\n",
       "        var tooltip = mpl.toolbar_items[toolbar_ind][1];\n",
       "        var image = mpl.toolbar_items[toolbar_ind][2];\n",
       "        var method_name = mpl.toolbar_items[toolbar_ind][3];\n",
       "\n",
       "        if (!name) {\n",
       "            // put a spacer in here.\n",
       "            continue;\n",
       "        }\n",
       "        var button = $('<button/>');\n",
       "        button.addClass('ui-button ui-widget ui-state-default ui-corner-all ' +\n",
       "                        'ui-button-icon-only');\n",
       "        button.attr('role', 'button');\n",
       "        button.attr('aria-disabled', 'false');\n",
       "        button.click(method_name, toolbar_event);\n",
       "        button.mouseover(tooltip, toolbar_mouse_event);\n",
       "\n",
       "        var icon_img = $('<span/>');\n",
       "        icon_img.addClass('ui-button-icon-primary ui-icon');\n",
       "        icon_img.addClass(image);\n",
       "        icon_img.addClass('ui-corner-all');\n",
       "\n",
       "        var tooltip_span = $('<span/>');\n",
       "        tooltip_span.addClass('ui-button-text');\n",
       "        tooltip_span.html(tooltip);\n",
       "\n",
       "        button.append(icon_img);\n",
       "        button.append(tooltip_span);\n",
       "\n",
       "        nav_element.append(button);\n",
       "    }\n",
       "\n",
       "    var fmt_picker_span = $('<span/>');\n",
       "\n",
       "    var fmt_picker = $('<select/>');\n",
       "    fmt_picker.addClass('mpl-toolbar-option ui-widget ui-widget-content');\n",
       "    fmt_picker_span.append(fmt_picker);\n",
       "    nav_element.append(fmt_picker_span);\n",
       "    this.format_dropdown = fmt_picker[0];\n",
       "\n",
       "    for (var ind in mpl.extensions) {\n",
       "        var fmt = mpl.extensions[ind];\n",
       "        var option = $(\n",
       "            '<option/>', {selected: fmt === mpl.default_extension}).html(fmt);\n",
       "        fmt_picker.append(option);\n",
       "    }\n",
       "\n",
       "    // Add hover states to the ui-buttons\n",
       "    $( \".ui-button\" ).hover(\n",
       "        function() { $(this).addClass(\"ui-state-hover\");},\n",
       "        function() { $(this).removeClass(\"ui-state-hover\");}\n",
       "    );\n",
       "\n",
       "    var status_bar = $('<span class=\"mpl-message\"/>');\n",
       "    nav_element.append(status_bar);\n",
       "    this.message = status_bar[0];\n",
       "}\n",
       "\n",
       "mpl.figure.prototype.request_resize = function(x_pixels, y_pixels) {\n",
       "    // Request matplotlib to resize the figure. Matplotlib will then trigger a resize in the client,\n",
       "    // which will in turn request a refresh of the image.\n",
       "    this.send_message('resize', {'width': x_pixels, 'height': y_pixels});\n",
       "}\n",
       "\n",
       "mpl.figure.prototype.send_message = function(type, properties) {\n",
       "    properties['type'] = type;\n",
       "    properties['figure_id'] = this.id;\n",
       "    this.ws.send(JSON.stringify(properties));\n",
       "}\n",
       "\n",
       "mpl.figure.prototype.send_draw_message = function() {\n",
       "    if (!this.waiting) {\n",
       "        this.waiting = true;\n",
       "        this.ws.send(JSON.stringify({type: \"draw\", figure_id: this.id}));\n",
       "    }\n",
       "}\n",
       "\n",
       "\n",
       "mpl.figure.prototype.handle_save = function(fig, msg) {\n",
       "    var format_dropdown = fig.format_dropdown;\n",
       "    var format = format_dropdown.options[format_dropdown.selectedIndex].value;\n",
       "    fig.ondownload(fig, format);\n",
       "}\n",
       "\n",
       "\n",
       "mpl.figure.prototype.handle_resize = function(fig, msg) {\n",
       "    var size = msg['size'];\n",
       "    if (size[0] != fig.canvas.width || size[1] != fig.canvas.height) {\n",
       "        fig._resize_canvas(size[0], size[1]);\n",
       "        fig.send_message(\"refresh\", {});\n",
       "    };\n",
       "}\n",
       "\n",
       "mpl.figure.prototype.handle_rubberband = function(fig, msg) {\n",
       "    var x0 = msg['x0'] / mpl.ratio;\n",
       "    var y0 = (fig.canvas.height - msg['y0']) / mpl.ratio;\n",
       "    var x1 = msg['x1'] / mpl.ratio;\n",
       "    var y1 = (fig.canvas.height - msg['y1']) / mpl.ratio;\n",
       "    x0 = Math.floor(x0) + 0.5;\n",
       "    y0 = Math.floor(y0) + 0.5;\n",
       "    x1 = Math.floor(x1) + 0.5;\n",
       "    y1 = Math.floor(y1) + 0.5;\n",
       "    var min_x = Math.min(x0, x1);\n",
       "    var min_y = Math.min(y0, y1);\n",
       "    var width = Math.abs(x1 - x0);\n",
       "    var height = Math.abs(y1 - y0);\n",
       "\n",
       "    fig.rubberband_context.clearRect(\n",
       "        0, 0, fig.canvas.width / mpl.ratio, fig.canvas.height / mpl.ratio);\n",
       "\n",
       "    fig.rubberband_context.strokeRect(min_x, min_y, width, height);\n",
       "}\n",
       "\n",
       "mpl.figure.prototype.handle_figure_label = function(fig, msg) {\n",
       "    // Updates the figure title.\n",
       "    fig.header.textContent = msg['label'];\n",
       "}\n",
       "\n",
       "mpl.figure.prototype.handle_cursor = function(fig, msg) {\n",
       "    var cursor = msg['cursor'];\n",
       "    switch(cursor)\n",
       "    {\n",
       "    case 0:\n",
       "        cursor = 'pointer';\n",
       "        break;\n",
       "    case 1:\n",
       "        cursor = 'default';\n",
       "        break;\n",
       "    case 2:\n",
       "        cursor = 'crosshair';\n",
       "        break;\n",
       "    case 3:\n",
       "        cursor = 'move';\n",
       "        break;\n",
       "    }\n",
       "    fig.rubberband_canvas.style.cursor = cursor;\n",
       "}\n",
       "\n",
       "mpl.figure.prototype.handle_message = function(fig, msg) {\n",
       "    fig.message.textContent = msg['message'];\n",
       "}\n",
       "\n",
       "mpl.figure.prototype.handle_draw = function(fig, msg) {\n",
       "    // Request the server to send over a new figure.\n",
       "    fig.send_draw_message();\n",
       "}\n",
       "\n",
       "mpl.figure.prototype.handle_image_mode = function(fig, msg) {\n",
       "    fig.image_mode = msg['mode'];\n",
       "}\n",
       "\n",
       "mpl.figure.prototype.updated_canvas_event = function() {\n",
       "    // Called whenever the canvas gets updated.\n",
       "    this.send_message(\"ack\", {});\n",
       "}\n",
       "\n",
       "// A function to construct a web socket function for onmessage handling.\n",
       "// Called in the figure constructor.\n",
       "mpl.figure.prototype._make_on_message_function = function(fig) {\n",
       "    return function socket_on_message(evt) {\n",
       "        if (evt.data instanceof Blob) {\n",
       "            /* FIXME: We get \"Resource interpreted as Image but\n",
       "             * transferred with MIME type text/plain:\" errors on\n",
       "             * Chrome.  But how to set the MIME type?  It doesn't seem\n",
       "             * to be part of the websocket stream */\n",
       "            evt.data.type = \"image/png\";\n",
       "\n",
       "            /* Free the memory for the previous frames */\n",
       "            if (fig.imageObj.src) {\n",
       "                (window.URL || window.webkitURL).revokeObjectURL(\n",
       "                    fig.imageObj.src);\n",
       "            }\n",
       "\n",
       "            fig.imageObj.src = (window.URL || window.webkitURL).createObjectURL(\n",
       "                evt.data);\n",
       "            fig.updated_canvas_event();\n",
       "            fig.waiting = false;\n",
       "            return;\n",
       "        }\n",
       "        else if (typeof evt.data === 'string' && evt.data.slice(0, 21) == \"data:image/png;base64\") {\n",
       "            fig.imageObj.src = evt.data;\n",
       "            fig.updated_canvas_event();\n",
       "            fig.waiting = false;\n",
       "            return;\n",
       "        }\n",
       "\n",
       "        var msg = JSON.parse(evt.data);\n",
       "        var msg_type = msg['type'];\n",
       "\n",
       "        // Call the  \"handle_{type}\" callback, which takes\n",
       "        // the figure and JSON message as its only arguments.\n",
       "        try {\n",
       "            var callback = fig[\"handle_\" + msg_type];\n",
       "        } catch (e) {\n",
       "            console.log(\"No handler for the '\" + msg_type + \"' message type: \", msg);\n",
       "            return;\n",
       "        }\n",
       "\n",
       "        if (callback) {\n",
       "            try {\n",
       "                // console.log(\"Handling '\" + msg_type + \"' message: \", msg);\n",
       "                callback(fig, msg);\n",
       "            } catch (e) {\n",
       "                console.log(\"Exception inside the 'handler_\" + msg_type + \"' callback:\", e, e.stack, msg);\n",
       "            }\n",
       "        }\n",
       "    };\n",
       "}\n",
       "\n",
       "// from http://stackoverflow.com/questions/1114465/getting-mouse-location-in-canvas\n",
       "mpl.findpos = function(e) {\n",
       "    //this section is from http://www.quirksmode.org/js/events_properties.html\n",
       "    var targ;\n",
       "    if (!e)\n",
       "        e = window.event;\n",
       "    if (e.target)\n",
       "        targ = e.target;\n",
       "    else if (e.srcElement)\n",
       "        targ = e.srcElement;\n",
       "    if (targ.nodeType == 3) // defeat Safari bug\n",
       "        targ = targ.parentNode;\n",
       "\n",
       "    // jQuery normalizes the pageX and pageY\n",
       "    // pageX,Y are the mouse positions relative to the document\n",
       "    // offset() returns the position of the element relative to the document\n",
       "    var x = e.pageX - $(targ).offset().left;\n",
       "    var y = e.pageY - $(targ).offset().top;\n",
       "\n",
       "    return {\"x\": x, \"y\": y};\n",
       "};\n",
       "\n",
       "/*\n",
       " * return a copy of an object with only non-object keys\n",
       " * we need this to avoid circular references\n",
       " * http://stackoverflow.com/a/24161582/3208463\n",
       " */\n",
       "function simpleKeys (original) {\n",
       "  return Object.keys(original).reduce(function (obj, key) {\n",
       "    if (typeof original[key] !== 'object')\n",
       "        obj[key] = original[key]\n",
       "    return obj;\n",
       "  }, {});\n",
       "}\n",
       "\n",
       "mpl.figure.prototype.mouse_event = function(event, name) {\n",
       "    var canvas_pos = mpl.findpos(event)\n",
       "\n",
       "    if (name === 'button_press')\n",
       "    {\n",
       "        this.canvas.focus();\n",
       "        this.canvas_div.focus();\n",
       "    }\n",
       "\n",
       "    var x = canvas_pos.x * mpl.ratio;\n",
       "    var y = canvas_pos.y * mpl.ratio;\n",
       "\n",
       "    this.send_message(name, {x: x, y: y, button: event.button,\n",
       "                             step: event.step,\n",
       "                             guiEvent: simpleKeys(event)});\n",
       "\n",
       "    /* This prevents the web browser from automatically changing to\n",
       "     * the text insertion cursor when the button is pressed.  We want\n",
       "     * to control all of the cursor setting manually through the\n",
       "     * 'cursor' event from matplotlib */\n",
       "    event.preventDefault();\n",
       "    return false;\n",
       "}\n",
       "\n",
       "mpl.figure.prototype._key_event_extra = function(event, name) {\n",
       "    // Handle any extra behaviour associated with a key event\n",
       "}\n",
       "\n",
       "mpl.figure.prototype.key_event = function(event, name) {\n",
       "\n",
       "    // Prevent repeat events\n",
       "    if (name == 'key_press')\n",
       "    {\n",
       "        if (event.which === this._key)\n",
       "            return;\n",
       "        else\n",
       "            this._key = event.which;\n",
       "    }\n",
       "    if (name == 'key_release')\n",
       "        this._key = null;\n",
       "\n",
       "    var value = '';\n",
       "    if (event.ctrlKey && event.which != 17)\n",
       "        value += \"ctrl+\";\n",
       "    if (event.altKey && event.which != 18)\n",
       "        value += \"alt+\";\n",
       "    if (event.shiftKey && event.which != 16)\n",
       "        value += \"shift+\";\n",
       "\n",
       "    value += 'k';\n",
       "    value += event.which.toString();\n",
       "\n",
       "    this._key_event_extra(event, name);\n",
       "\n",
       "    this.send_message(name, {key: value,\n",
       "                             guiEvent: simpleKeys(event)});\n",
       "    return false;\n",
       "}\n",
       "\n",
       "mpl.figure.prototype.toolbar_button_onclick = function(name) {\n",
       "    if (name == 'download') {\n",
       "        this.handle_save(this, null);\n",
       "    } else {\n",
       "        this.send_message(\"toolbar_button\", {name: name});\n",
       "    }\n",
       "};\n",
       "\n",
       "mpl.figure.prototype.toolbar_button_onmouseover = function(tooltip) {\n",
       "    this.message.textContent = tooltip;\n",
       "};\n",
       "mpl.toolbar_items = [[\"Home\", \"Reset original view\", \"fa fa-home icon-home\", \"home\"], [\"Back\", \"Back to previous view\", \"fa fa-arrow-left icon-arrow-left\", \"back\"], [\"Forward\", \"Forward to next view\", \"fa fa-arrow-right icon-arrow-right\", \"forward\"], [\"\", \"\", \"\", \"\"], [\"Pan\", \"Pan axes with left mouse, zoom with right\", \"fa fa-arrows icon-move\", \"pan\"], [\"Zoom\", \"Zoom to rectangle\", \"fa fa-square-o icon-check-empty\", \"zoom\"], [\"\", \"\", \"\", \"\"], [\"Download\", \"Download plot\", \"fa fa-floppy-o icon-save\", \"download\"]];\n",
       "\n",
       "mpl.extensions = [\"eps\", \"jpeg\", \"pdf\", \"png\", \"ps\", \"raw\", \"svg\", \"tif\"];\n",
       "\n",
       "mpl.default_extension = \"png\";var comm_websocket_adapter = function(comm) {\n",
       "    // Create a \"websocket\"-like object which calls the given IPython comm\n",
       "    // object with the appropriate methods. Currently this is a non binary\n",
       "    // socket, so there is still some room for performance tuning.\n",
       "    var ws = {};\n",
       "\n",
       "    ws.close = function() {\n",
       "        comm.close()\n",
       "    };\n",
       "    ws.send = function(m) {\n",
       "        //console.log('sending', m);\n",
       "        comm.send(m);\n",
       "    };\n",
       "    // Register the callback with on_msg.\n",
       "    comm.on_msg(function(msg) {\n",
       "        //console.log('receiving', msg['content']['data'], msg);\n",
       "        // Pass the mpl event to the overridden (by mpl) onmessage function.\n",
       "        ws.onmessage(msg['content']['data'])\n",
       "    });\n",
       "    return ws;\n",
       "}\n",
       "\n",
       "mpl.mpl_figure_comm = function(comm, msg) {\n",
       "    // This is the function which gets called when the mpl process\n",
       "    // starts-up an IPython Comm through the \"matplotlib\" channel.\n",
       "\n",
       "    var id = msg.content.data.id;\n",
       "    // Get hold of the div created by the display call when the Comm\n",
       "    // socket was opened in Python.\n",
       "    var element = $(\"#\" + id);\n",
       "    var ws_proxy = comm_websocket_adapter(comm)\n",
       "\n",
       "    function ondownload(figure, format) {\n",
       "        window.open(figure.imageObj.src);\n",
       "    }\n",
       "\n",
       "    var fig = new mpl.figure(id, ws_proxy,\n",
       "                           ondownload,\n",
       "                           element.get(0));\n",
       "\n",
       "    // Call onopen now - mpl needs it, as it is assuming we've passed it a real\n",
       "    // web socket which is closed, not our websocket->open comm proxy.\n",
       "    ws_proxy.onopen();\n",
       "\n",
       "    fig.parent_element = element.get(0);\n",
       "    fig.cell_info = mpl.find_output_cell(\"<div id='\" + id + \"'></div>\");\n",
       "    if (!fig.cell_info) {\n",
       "        console.error(\"Failed to find cell for figure\", id, fig);\n",
       "        return;\n",
       "    }\n",
       "\n",
       "    var output_index = fig.cell_info[2]\n",
       "    var cell = fig.cell_info[0];\n",
       "\n",
       "};\n",
       "\n",
       "mpl.figure.prototype.handle_close = function(fig, msg) {\n",
       "    var width = fig.canvas.width/mpl.ratio\n",
       "    fig.root.unbind('remove')\n",
       "\n",
       "    // Update the output cell to use the data from the current canvas.\n",
       "    fig.push_to_output();\n",
       "    var dataURL = fig.canvas.toDataURL();\n",
       "    // Re-enable the keyboard manager in IPython - without this line, in FF,\n",
       "    // the notebook keyboard shortcuts fail.\n",
       "    IPython.keyboard_manager.enable()\n",
       "    $(fig.parent_element).html('<img src=\"' + dataURL + '\" width=\"' + width + '\">');\n",
       "    fig.close_ws(fig, msg);\n",
       "}\n",
       "\n",
       "mpl.figure.prototype.close_ws = function(fig, msg){\n",
       "    fig.send_message('closing', msg);\n",
       "    // fig.ws.close()\n",
       "}\n",
       "\n",
       "mpl.figure.prototype.push_to_output = function(remove_interactive) {\n",
       "    // Turn the data on the canvas into data in the output cell.\n",
       "    var width = this.canvas.width/mpl.ratio\n",
       "    var dataURL = this.canvas.toDataURL();\n",
       "    this.cell_info[1]['text/html'] = '<img src=\"' + dataURL + '\" width=\"' + width + '\">';\n",
       "}\n",
       "\n",
       "mpl.figure.prototype.updated_canvas_event = function() {\n",
       "    // Tell IPython that the notebook contents must change.\n",
       "    IPython.notebook.set_dirty(true);\n",
       "    this.send_message(\"ack\", {});\n",
       "    var fig = this;\n",
       "    // Wait a second, then push the new image to the DOM so\n",
       "    // that it is saved nicely (might be nice to debounce this).\n",
       "    setTimeout(function () { fig.push_to_output() }, 1000);\n",
       "}\n",
       "\n",
       "mpl.figure.prototype._init_toolbar = function() {\n",
       "    var fig = this;\n",
       "\n",
       "    var nav_element = $('<div/>');\n",
       "    nav_element.attr('style', 'width: 100%');\n",
       "    this.root.append(nav_element);\n",
       "\n",
       "    // Define a callback function for later on.\n",
       "    function toolbar_event(event) {\n",
       "        return fig.toolbar_button_onclick(event['data']);\n",
       "    }\n",
       "    function toolbar_mouse_event(event) {\n",
       "        return fig.toolbar_button_onmouseover(event['data']);\n",
       "    }\n",
       "\n",
       "    for(var toolbar_ind in mpl.toolbar_items){\n",
       "        var name = mpl.toolbar_items[toolbar_ind][0];\n",
       "        var tooltip = mpl.toolbar_items[toolbar_ind][1];\n",
       "        var image = mpl.toolbar_items[toolbar_ind][2];\n",
       "        var method_name = mpl.toolbar_items[toolbar_ind][3];\n",
       "\n",
       "        if (!name) { continue; };\n",
       "\n",
       "        var button = $('<button class=\"btn btn-default\" href=\"#\" title=\"' + name + '\"><i class=\"fa ' + image + ' fa-lg\"></i></button>');\n",
       "        button.click(method_name, toolbar_event);\n",
       "        button.mouseover(tooltip, toolbar_mouse_event);\n",
       "        nav_element.append(button);\n",
       "    }\n",
       "\n",
       "    // Add the status bar.\n",
       "    var status_bar = $('<span class=\"mpl-message\" style=\"text-align:right; float: right;\"/>');\n",
       "    nav_element.append(status_bar);\n",
       "    this.message = status_bar[0];\n",
       "\n",
       "    // Add the close button to the window.\n",
       "    var buttongrp = $('<div class=\"btn-group inline pull-right\"></div>');\n",
       "    var button = $('<button class=\"btn btn-mini btn-primary\" href=\"#\" title=\"Stop Interaction\"><i class=\"fa fa-power-off icon-remove icon-large\"></i></button>');\n",
       "    button.click(function (evt) { fig.handle_close(fig, {}); } );\n",
       "    button.mouseover('Stop Interaction', toolbar_mouse_event);\n",
       "    buttongrp.append(button);\n",
       "    var titlebar = this.root.find($('.ui-dialog-titlebar'));\n",
       "    titlebar.prepend(buttongrp);\n",
       "}\n",
       "\n",
       "mpl.figure.prototype._root_extra_style = function(el){\n",
       "    var fig = this\n",
       "    el.on(\"remove\", function(){\n",
       "\tfig.close_ws(fig, {});\n",
       "    });\n",
       "}\n",
       "\n",
       "mpl.figure.prototype._canvas_extra_style = function(el){\n",
       "    // this is important to make the div 'focusable\n",
       "    el.attr('tabindex', 0)\n",
       "    // reach out to IPython and tell the keyboard manager to turn it's self\n",
       "    // off when our div gets focus\n",
       "\n",
       "    // location in version 3\n",
       "    if (IPython.notebook.keyboard_manager) {\n",
       "        IPython.notebook.keyboard_manager.register_events(el);\n",
       "    }\n",
       "    else {\n",
       "        // location in version 2\n",
       "        IPython.keyboard_manager.register_events(el);\n",
       "    }\n",
       "\n",
       "}\n",
       "\n",
       "mpl.figure.prototype._key_event_extra = function(event, name) {\n",
       "    var manager = IPython.notebook.keyboard_manager;\n",
       "    if (!manager)\n",
       "        manager = IPython.keyboard_manager;\n",
       "\n",
       "    // Check for shift+enter\n",
       "    if (event.shiftKey && event.which == 13) {\n",
       "        this.canvas_div.blur();\n",
       "        // select the cell after this one\n",
       "        var index = IPython.notebook.find_cell_index(this.cell_info[0]);\n",
       "        IPython.notebook.select(index + 1);\n",
       "    }\n",
       "}\n",
       "\n",
       "mpl.figure.prototype.handle_save = function(fig, msg) {\n",
       "    fig.ondownload(fig, null);\n",
       "}\n",
       "\n",
       "\n",
       "mpl.find_output_cell = function(html_output) {\n",
       "    // Return the cell and output element which can be found *uniquely* in the notebook.\n",
       "    // Note - this is a bit hacky, but it is done because the \"notebook_saving.Notebook\"\n",
       "    // IPython event is triggered only after the cells have been serialised, which for\n",
       "    // our purposes (turning an active figure into a static one), is too late.\n",
       "    var cells = IPython.notebook.get_cells();\n",
       "    var ncells = cells.length;\n",
       "    for (var i=0; i<ncells; i++) {\n",
       "        var cell = cells[i];\n",
       "        if (cell.cell_type === 'code'){\n",
       "            for (var j=0; j<cell.output_area.outputs.length; j++) {\n",
       "                var data = cell.output_area.outputs[j];\n",
       "                if (data.data) {\n",
       "                    // IPython >= 3 moved mimebundle to data attribute of output\n",
       "                    data = data.data;\n",
       "                }\n",
       "                if (data['text/html'] == html_output) {\n",
       "                    return [cell, data, j];\n",
       "                }\n",
       "            }\n",
       "        }\n",
       "    }\n",
       "}\n",
       "\n",
       "// Register the function which deals with the matplotlib target/channel.\n",
       "// The kernel may be null if the page has been refreshed.\n",
       "if (IPython.notebook.kernel != null) {\n",
       "    IPython.notebook.kernel.comm_manager.register_target('matplotlib', mpl.mpl_figure_comm);\n",
       "}\n"
      ],
      "text/plain": [
       "<IPython.core.display.Javascript object>"
      ]
     },
     "metadata": {},
     "output_type": "display_data"
    },
    {
     "data": {
      "text/html": [
       "<img src=\"data:image/png;base64,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\" width=\"800\">"
      ],
      "text/plain": [
       "<IPython.core.display.HTML object>"
      ]
     },
     "metadata": {},
     "output_type": "display_data"
    }
   ],
   "source": [
    "fig, ax = plt.subplots(figsize=(8, 3))\n",
    "ax.plot(np.arange(nvir * nocc), 0.5 * (mf_dRPA.e - mf_dTDA.e))\n",
    "ax.set_xlabel(\"Excite States $n$\")\n",
    "ax.set_ylabel(\"Contribution to $E^\\mathsf{dRPA}_\\mathrm{c}$ / a.u.\")\n",
    "fig.tight_layout()"
   ]
  },
  {
   "cell_type": "markdown",
   "metadata": {
    "hidden": true
   },
   "source": [
    "从这张图上，尽管能看到前若干个态的相关能贡献较大，但并不能简单地认为后几个态的贡献较小以至于能忽略。因此，我们必须计算所有 PySCF 中所定义的 dRPA 与 dTDA 激发能，才能得到相对来说精确的总 dRPA 相关矫正能。"
   ]
  },
  {
   "cell_type": "markdown",
   "metadata": {
    "heading_collapsed": true
   },
   "source": [
    "### PySCF 的 dRPA 与 dTDA 激发能"
   ]
  },
  {
   "cell_type": "markdown",
   "metadata": {
    "hidden": true
   },
   "source": [
    "在 PySCF 中，dRPA 能量是通过下述方程获得。首先，我们定义 dRPA 的激发与退激发张量：\n",
    "\n",
    "$$\n",
    "\\begin{align}\n",
    "A_{ia, jb}^\\mathsf{dRPA} &= - (\\varepsilon_i - \\varepsilon_a) \\delta_{ij} \\delta_{ab} + 2 (ia|jb) \\\\\n",
    "B_{ia, jb}^\\mathsf{dRPA} &= 2 (ia|jb) \\tag{2}\n",
    "\\end{align}\n",
    "$$"
   ]
  },
  {
   "cell_type": "markdown",
   "metadata": {
    "hidden": true
   },
   "source": [
    "随后求解下述本征问题：\n",
    "\n",
    "$$\n",
    "\\begin{equation}\n",
    "\\begin{pmatrix} \\mathbf{A}^\\mathsf{dRPA} & \\mathbf{B}^\\mathsf{dRPA} \\\\ - \\mathbf{B}^\\mathsf{dRPA} & - \\mathbf{A}^\\mathsf{dRPA} \\end{pmatrix}\n",
    "\\begin{pmatrix} \\mathbf{X}_n \\\\ \\mathbf{Y}_n \\end{pmatrix}\n",
    "= \\pm \\omega_n^\\mathsf{dRPA} \\begin{pmatrix} \\mathbf{X}_n \\\\ \\mathbf{Y}_n \\end{pmatrix} \\tag{3}\n",
    "\\end{equation}\n",
    "$$"
   ]
  },
  {
   "cell_type": "markdown",
   "metadata": {
    "hidden": true
   },
   "source": [
    "我们首先定义 dRPA 的 `A_dRPA` $A_{ia, jb}^\\mathsf{dRPA}$ 与 `B_dRPA` $B_{ia, jb}^\\mathsf{dRPA}$，它们尽管是以张量形式定义，但实际计算时使用 $(n_\\mathrm{occ} n_\\mathrm{vir}, n_\\mathrm{occ} n_\\mathrm{vir})$ 维度的矩阵来表达。"
   ]
  },
  {
   "cell_type": "code",
   "execution_count": 16,
   "metadata": {
    "hidden": true
   },
   "outputs": [],
   "source": [
    "delta_ij, delta_ab = np.eye(nocc), np.eye(nvir)\n",
    "A_dRPA = (\n",
    "    np.einsum(\"ia, ij, ab -> iajb\", - eo[:, None] + ev[None, :], delta_ij, delta_ab)\n",
    "    + 2 * eri0_iajb)\n",
    "B_dRPA = 2 * eri0_iajb\n",
    "A_dRPA, B_dRPA = A_dRPA.reshape(nocc*nvir, nocc*nvir), B_dRPA.reshape(nocc*nvir, nocc*nvir)"
   ]
  },
  {
   "cell_type": "markdown",
   "metadata": {
    "hidden": true
   },
   "source": [
    "该本征问题会求出正负对应的激发能。我们只需要求取其正激发能 $\\omega_n^\\mathsf{dRPA}$ 部分即可。"
   ]
  },
  {
   "cell_type": "code",
   "execution_count": 17,
   "metadata": {
    "hidden": true
   },
   "outputs": [],
   "source": [
    "AB_dRPA = np.block([\n",
    "    [ A_dRPA,  B_dRPA],\n",
    "    [-B_dRPA, -A_dRPA],\n",
    "])"
   ]
  },
  {
   "cell_type": "markdown",
   "metadata": {
    "hidden": true
   },
   "source": [
    "计算得到的激发能将从小到大储存到 `e_dRPA` 中。"
   ]
  },
  {
   "cell_type": "code",
   "execution_count": 18,
   "metadata": {
    "hidden": true
   },
   "outputs": [],
   "source": [
    "e_dRPA = np.linalg.eig(AB_dRPA)[0]\n",
    "e_dRPA.sort()\n",
    "e_dRPA = e_dRPA[nocc*nvir:]"
   ]
  },
  {
   "cell_type": "markdown",
   "metadata": {
    "hidden": true
   },
   "source": [
    "该激发能可以与 PySCF 所的到的激发能对照："
   ]
  },
  {
   "cell_type": "code",
   "execution_count": 19,
   "metadata": {
    "hidden": true
   },
   "outputs": [
    {
     "data": {
      "text/plain": [
       "True"
      ]
     },
     "execution_count": 19,
     "metadata": {},
     "output_type": "execute_result"
    }
   ],
   "source": [
    "np.allclose(e_dRPA, mf_dRPA.e)"
   ]
  },
  {
   "cell_type": "markdown",
   "metadata": {
    "hidden": true
   },
   "source": [
    "同样地，对 dTDA 激发也能作相应的验证。与 dRPA 激发的区别在于激发与退激发张量构造上有所不同："
   ]
  },
  {
   "cell_type": "markdown",
   "metadata": {
    "hidden": true
   },
   "source": [
    "$$\n",
    "\\begin{align}\n",
    "A_{ia, jb}^\\mathsf{dTDA} &= - (\\varepsilon_i - \\varepsilon_a) \\delta_{ij} \\delta_{ab} + 2 (ia|jb) = A_{ia, jb}^\\mathsf{dRPA} \\\\\n",
    "B_{ia, jb}^\\mathsf{dTDA} &= 0\n",
    "\\end{align}\n",
    "$$"
   ]
  },
  {
   "cell_type": "markdown",
   "metadata": {
    "hidden": true
   },
   "source": [
    "尽管其本征问题从构造上与 dRPA 激发可以一致，但也可以简化为\n",
    "\n",
    "$$\n",
    "\\begin{equation}\n",
    "\\mathbf{A}^\\mathsf{dTDA} \\mathbf{X}_n = \\omega^\\mathsf{dTDA}_n \\mathbf{X}_n \\tag{4}\n",
    "\\end{equation}\n",
    "$$"
   ]
  },
  {
   "cell_type": "code",
   "execution_count": 20,
   "metadata": {
    "hidden": true
   },
   "outputs": [],
   "source": [
    "A_dTDA = A_dRPA\n",
    "e_dTDA = np.linalg.eig(A_dRPA)[0]\n",
    "e_dTDA.sort()"
   ]
  },
  {
   "cell_type": "code",
   "execution_count": 21,
   "metadata": {
    "hidden": true
   },
   "outputs": [
    {
     "data": {
      "text/plain": [
       "True"
      ]
     },
     "execution_count": 21,
     "metadata": {},
     "output_type": "execute_result"
    }
   ],
   "source": [
    "np.allclose(e_dTDA, mf_dTDA.e)"
   ]
  },
  {
   "cell_type": "markdown",
   "metadata": {},
   "source": [
    "## 程序实现：$O(N^6)$ 直接实现方式"
   ]
  },
  {
   "cell_type": "markdown",
   "metadata": {
    "heading_collapsed": true
   },
   "source": [
    "### 程序实现"
   ]
  },
  {
   "cell_type": "markdown",
   "metadata": {
    "hidden": true
   },
   "source": [
    "从公式表达上，类似 TD-KS 方程的解并不是比较方便的写法。一种比较早期的实现方式在 <cite data-cite=\"Furche-Furche.PRB.2001.64\">Furche PRB 2001</cite> 的文章中提及，但比较友好的表达公式在 <cite data-cite=\"Eshuis-Furche.TCA.2012.131\">Eshuis TCA 2012</cite> (eq.76) 有所提及。其实现方式是"
   ]
  },
  {
   "cell_type": "markdown",
   "metadata": {
    "hidden": true
   },
   "source": [
    "$$\n",
    "\\begin{align}\n",
    "\\mathbf{M} &= (\\mathbf{A}^\\mathsf{dRPA} - \\mathbf{B}^\\mathsf{dRPA})^{1/2} (\\mathbf{A}^\\mathsf{dRPA} + \\mathbf{B}^\\mathsf{dRPA}) (\\mathbf{A}^\\mathsf{dRPA} - \\mathbf{B}^\\mathsf{dRPA})^{1/2} \\\\\n",
    "E^\\mathsf{dRPA}_\\mathrm{c} &= \\frac{1}{2} \\mathrm{tr} (\\mathbf{M}^{1/2} - \\mathbf{A}^\\mathsf{dTDA}) \\tag{5}\n",
    "\\end{align}\n",
    "$$"
   ]
  },
  {
   "cell_type": "markdown",
   "metadata": {
    "hidden": true
   },
   "source": [
    "其程序实现也非常方便。"
   ]
  },
  {
   "cell_type": "code",
   "execution_count": 22,
   "metadata": {
    "hidden": true
   },
   "outputs": [
    {
     "data": {
      "text/plain": [
       "-0.4313792211663592"
      ]
     },
     "execution_count": 22,
     "metadata": {},
     "output_type": "execute_result"
    }
   ],
   "source": [
    "AmB_1p2 = fractional_matrix_power(A_dRPA - B_dRPA, 0.5)\n",
    "M = AmB_1p2 @ (A_dRPA + B_dRPA) @ AmB_1p2\n",
    "eng_dRPA_direct = 0.5 * np.trace(fractional_matrix_power(M, 0.5) - A_dTDA)\n",
    "eng_dRPA_direct"
   ]
  },
  {
   "cell_type": "markdown",
   "metadata": {
    "hidden": true
   },
   "source": [
    "之所以说是 $O(N^6)$ 计算复杂度，是因为其中使用到了矩阵的分数幂次与乘积；而矩阵的长与宽都是 $n_\\mathrm{occ} n_\\mathrm{vir}$，因此其计算量复杂度是 $O(n_\\mathrm{occ}^3 n_\\mathrm{vir}^3)$ 的。"
   ]
  },
  {
   "cell_type": "markdown",
   "metadata": {
    "heading_collapsed": true
   },
   "source": [
    "### 与类 TD-KS 实现等价性的数学说明"
   ]
  },
  {
   "cell_type": "markdown",
   "metadata": {
    "hidden": true
   },
   "source": [
    "首先，我们作一些线性代数的基础知识补充。我们先定义两个 5 维度任意张量 `X`, `Y` $\\mathbf{X}, \\mathbf{Y}$，来表述问题。"
   ]
  },
  {
   "cell_type": "code",
   "execution_count": 23,
   "metadata": {
    "hidden": true
   },
   "outputs": [],
   "source": [
    "np.random.seed(0)\n",
    "X = np.random.randn(5, 5)\n",
    "Y = np.random.randn(5, 5)"
   ]
  },
  {
   "cell_type": "markdown",
   "metadata": {
    "hidden": true
   },
   "source": [
    "**(1)** 矩阵迹的和可以直接作拆分：\n",
    "\n",
    "$$\n",
    "\\mathrm{tr} (\\mathbf{X} + \\mathbf{Y}) = \\mathrm{tr} (\\mathbf{X}) + \\mathrm{tr} (\\mathbf{Y})\n",
    "$$"
   ]
  },
  {
   "cell_type": "code",
   "execution_count": 24,
   "metadata": {
    "hidden": true
   },
   "outputs": [
    {
     "data": {
      "text/plain": [
       "True"
      ]
     },
     "execution_count": 24,
     "metadata": {},
     "output_type": "execute_result"
    }
   ],
   "source": [
    "np.allclose((X + Y).trace(), X.trace() + Y.trace())"
   ]
  },
  {
   "cell_type": "markdown",
   "metadata": {
    "hidden": true
   },
   "source": [
    "**(2)** 交换律：\n",
    "\n",
    "$$\n",
    "\\mathrm{tr} (\\mathbf{X} \\mathbf{Y}) = \\mathrm{tr} (\\mathbf{Y} \\mathbf{X})\n",
    "$$"
   ]
  },
  {
   "cell_type": "code",
   "execution_count": 25,
   "metadata": {
    "hidden": true
   },
   "outputs": [
    {
     "data": {
      "text/plain": [
       "True"
      ]
     },
     "execution_count": 25,
     "metadata": {},
     "output_type": "execute_result"
    }
   ],
   "source": [
    "np.allclose((X @ Y).trace(), (Y @ X).trace())"
   ]
  },
  {
   "cell_type": "markdown",
   "metadata": {
    "hidden": true
   },
   "source": [
    "**(2)** 矩阵的迹等于其本征值的和：\n",
    "\n",
    "$$\n",
    "\\begin{align}\n",
    "\\mathbf{X} \\boldsymbol{f}_n &= \\omega_n \\boldsymbol{f}_n \\\\\n",
    "\\mathrm{tr} (\\mathbf{X}) &= \\sum_n \\omega_n\n",
    "\\end{align}\n",
    "$$"
   ]
  },
  {
   "cell_type": "code",
   "execution_count": 26,
   "metadata": {
    "hidden": true
   },
   "outputs": [
    {
     "data": {
      "text/plain": [
       "True"
      ]
     },
     "execution_count": 26,
     "metadata": {},
     "output_type": "execute_result"
    }
   ],
   "source": [
    "eig, F = np.linalg.eig(X)\n",
    "np.allclose(X.trace(), eig.sum())"
   ]
  },
  {
   "cell_type": "markdown",
   "metadata": {
    "hidden": true
   },
   "source": [
    "说明如下。如果我们定义矩阵 `F` $\\mathbf{F}$ 为列向量 $\\{ \\boldsymbol{f}_n \\}$ 的并，以及 `O` $\\mathbf{\\Omega}$ 是以本征值 `w` $\\{ \\omega_n \\}$ 为对角元的对角矩阵，那么\n",
    "\n",
    "$$\n",
    "\\mathbf{X} \\mathbf{F} = \\mathbf{F} \\mathbf{\\Omega}\n",
    "$$"
   ]
  },
  {
   "cell_type": "code",
   "execution_count": 27,
   "metadata": {
    "hidden": true
   },
   "outputs": [
    {
     "data": {
      "text/plain": [
       "True"
      ]
     },
     "execution_count": 27,
     "metadata": {},
     "output_type": "execute_result"
    }
   ],
   "source": [
    "O = np.diag(eig)\n",
    "np.allclose(X @ F, F @ O)"
   ]
  },
  {
   "cell_type": "markdown",
   "metadata": {
    "hidden": true
   },
   "source": [
    "因此，\n",
    "\n",
    "$$\n",
    "\\sum_n \\omega_n \\equiv \\sum_n \\Omega_{nn} = \\mathrm{tr} (\\mathbf{\\Omega}) = \\mathrm{tr} (\\mathbf{F}^{-1} \\mathbf{X} \\mathbf{F}) = \\mathrm{tr} (\\mathbf{F}^{-1} \\mathbf{F} \\mathbf{X}) = \\mathrm{tr} (\\mathbf{X})\n",
    "$$"
   ]
  },
  {
   "cell_type": "markdown",
   "metadata": {
    "hidden": true
   },
   "source": [
    "有上述的基础知识后，我们可以说明式 (5) 的 $O(N^6)$ 的公式表达与式 (1) 的类 TD-KS 方程实现是等价的。\n",
    "\n",
    "**(a)** $\\omega_n^\\mathsf{dRPA}$\n",
    "\n",
    "我们先回顾式 (3) 所导出的 dRPA 激发能：\n",
    "\n",
    "$$\n",
    "\\begin{pmatrix} \\mathbf{A}^\\mathsf{dRPA} & \\mathbf{B}^\\mathsf{dRPA} \\\\ - \\mathbf{B}^\\mathsf{dRPA} & - \\mathbf{A}^\\mathsf{dRPA} \\end{pmatrix}\n",
    "\\begin{pmatrix} \\mathbf{X}_n \\\\ \\mathbf{Y}_n \\end{pmatrix}\n",
    "= \\pm \\omega_n^\\mathsf{dRPA} \\begin{pmatrix} \\mathbf{X}_n \\\\ \\mathbf{Y}_n \\end{pmatrix}\n",
    "$$"
   ]
  },
  {
   "cell_type": "markdown",
   "metadata": {
    "hidden": true
   },
   "source": [
    "从矩阵转换为方程则表达为 (我们只考虑正激发能结果，因此去除上式的正负号 $\\pm$)：\n",
    "\n",
    "$$\n",
    "\\begin{align}\n",
    "\\mathbf{A}^\\mathsf{dRPA} \\mathbf{X}_n + \\mathbf{B}^\\mathsf{dRPA} \\mathbf{Y}_n &= \\omega_n^\\mathsf{dRPA} \\mathbf{X}_n \\\\\n",
    "\\mathbf{B}^\\mathsf{dRPA} \\mathbf{X}_n + \\mathbf{A}^\\mathsf{dRPA} \\mathbf{Y}_n &= - \\omega_n^\\mathsf{dRPA} \\mathbf{Y}_n\n",
    "\\end{align}\n",
    "$$"
   ]
  },
  {
   "cell_type": "markdown",
   "metadata": {
    "hidden": true
   },
   "source": [
    "将上两式作加减法，得到\n",
    "\n",
    "$$\n",
    "\\begin{align}\n",
    "(\\mathbf{A}^\\mathsf{dRPA} + \\mathbf{B}^\\mathsf{dRPA}) (\\mathbf{X}_n + \\mathbf{Y}_n) &= \\omega_n^\\mathsf{dRPA} (\\mathbf{X}_n - \\mathbf{Y}_n) \\\\\n",
    "(\\mathbf{A}^\\mathsf{dRPA} - \\mathbf{B}^\\mathsf{dRPA}) (\\mathbf{X}_n - \\mathbf{Y}_n) &= \\omega_n^\\mathsf{dRPA} (\\mathbf{X}_n + \\mathbf{Y}_n)\n",
    "\\end{align}\n",
    "$$"
   ]
  },
  {
   "cell_type": "markdown",
   "metadata": {
    "hidden": true
   },
   "source": [
    "将上两式左右相乘，可以得到\n",
    "\n",
    "$$\n",
    "\\big( (\\mathbf{A}^\\mathsf{dRPA} + \\mathbf{B}^\\mathsf{dRPA}) (\\mathbf{A}^\\mathsf{dRPA} - \\mathbf{B}^\\mathsf{dRPA}) \\big) (\\mathbf{X}_n^2 - \\mathbf{Y}_n^2) = (\\omega_n^\\mathsf{dRPA})^2 (\\mathbf{X}_n^2 - \\mathbf{Y}_n^2)\n",
    "$$"
   ]
  },
  {
   "cell_type": "markdown",
   "metadata": {
    "hidden": true
   },
   "source": [
    "对上式左右开根号，得到\n",
    "\n",
    "$$\n",
    "\\big( (\\mathbf{A}^\\mathsf{dRPA} + \\mathbf{B}^\\mathsf{dRPA}) (\\mathbf{A}^\\mathsf{dRPA} - \\mathbf{B}^\\mathsf{dRPA}) \\big)^{1/2} (\\mathbf{X}_n^2 - \\mathbf{Y}_n^2)^{1/2} = \\omega_n^\\mathsf{dRPA} (\\mathbf{X}_n^2 - \\mathbf{Y}_n^2)^{1/2}\n",
    "$$"
   ]
  },
  {
   "cell_type": "markdown",
   "metadata": {
    "hidden": true
   },
   "source": [
    "由于矩阵的迹等于其本征值的和，因此\n",
    "\n",
    "$$\n",
    "\\begin{align}\n",
    "\\sum_{n} \\omega_n^\\mathsf{dRPA} &= \\mathrm{tr} \\big[ \\big( (\\mathbf{A}^\\mathsf{dRPA} + \\mathbf{B}^\\mathsf{dRPA}) (\\mathbf{A}^\\mathsf{dRPA} - \\mathbf{B}^\\mathsf{dRPA}) \\big)^{1/2} \\big] \\\\\n",
    "&= \\mathrm{tr} \\big[ \\big( (\\mathbf{A}^\\mathsf{dRPA} - \\mathbf{B}^\\mathsf{dRPA})^{1/2} (\\mathbf{A}^\\mathsf{dRPA} + \\mathbf{B}^\\mathsf{dRPA}) (\\mathbf{A}^\\mathsf{dRPA} - \\mathbf{B}^\\mathsf{dRPA})^{1/2} \\big)^{1/2} \\big] \\\\\n",
    "&\\equiv \\mathrm{tr} (\\mathbf{M}^{1/2})\n",
    "\\end{align}\n",
    "$$"
   ]
  },
  {
   "cell_type": "markdown",
   "metadata": {
    "hidden": true
   },
   "source": [
    "**(2)** $\\omega^\\mathsf{dTDA}_n$"
   ]
  },
  {
   "cell_type": "markdown",
   "metadata": {
    "hidden": true
   },
   "source": [
    "回顾式 (5) 所导出的 dTDA 激发能：\n",
    "\n",
    "$$\n",
    "\\mathbf{A}^\\mathsf{dTDA} \\mathbf{X}_n = \\omega^\\mathsf{dTDA}_n \\mathbf{X}_n\n",
    "$$\n",
    "\n",
    "我们能立即利用矩阵的迹等于其本征值的和，得到\n",
    "\n",
    "$$\n",
    "\\sum_n \\omega^\\mathsf{dTDA}_n = \\mathrm{tr} (\\mathbf{A}^\\mathsf{dTDA})\n",
    "$$"
   ]
  },
  {
   "cell_type": "markdown",
   "metadata": {
    "hidden": true
   },
   "source": [
    "总结上述的结果，可以得到\n",
    "\n",
    "$$\n",
    "E^\\mathsf{dRPA}_\\mathrm{c} = \\frac{1}{2} \\sum_n (\\omega_n^\\mathsf{dRPA} - \\omega_n^\\mathsf{dTDA}) = \\frac{1}{2} \\big( \\mathrm{tr} (\\mathbf{M}^{1/2}) - \\mathrm{tr} (\\mathbf{A}^\\mathsf{dTDA}) \\big) = \\frac{1}{2} \\mathrm{tr} (\\mathbf{M}^{1/2} - \\mathbf{A}^\\mathsf{dTDA})\n",
    "$$"
   ]
  },
  {
   "cell_type": "markdown",
   "metadata": {},
   "source": [
    "## 简单理解 dRPA 相关能 (1)：绝热路径与密度涨落"
   ]
  },
  {
   "cell_type": "markdown",
   "metadata": {},
   "source": [
    "这里我们主要使用 <cite data-cite=\"Eshuis-Furche.TCA.2012.131\">Eshuis TCA 2012</cite> 的文章的思路来叙述；但这一段本身是 DFT 理论的基础，因此不仅是 dRPA，其它类型的相关能 (GGA, Hybrid, Double Hybrid) 都可以用下述框架作为基础推导。\n",
    "\n",
    "这里并非是对 DFT 理论的回顾，而是在对 DFT 理论有基础了解之后的一些补充理解。\n",
    "\n",
    "我们之后会提及，dRPA 具有两种解释方法。一种为类 TD-KS 方法，另一种为涨落耗散定理。从实现上，我们已经对类 TD-KS 方法做了说明。我们以后还会对涨落耗散定理的方法的实现作说明，并且会对这两种方法作推导。尽管这两种方法在公式表达上有巨大的差别，但结果相同；且其推导前提都是绝热路径与密度涨落。\n",
    "\n",
    "这一段完全是理论性的，不包含任何程序，也不包含任何近似 (除了 Kohn-Sham 图景本身或 Levy Constrained Search 之外)。"
   ]
  },
  {
   "cell_type": "markdown",
   "metadata": {
    "heading_collapsed": true
   },
   "source": [
    "### 绝热路径 (1)：定义"
   ]
  },
  {
   "cell_type": "markdown",
   "metadata": {
    "hidden": true
   },
   "source": [
    "关于绝热路径，较为基础但清晰的综述是 <cite data-cite=\"Perdew-Kurth.Springer.2003\">Perdew 2003</cite> (p.16)。我们首先定义关于变量 $\\alpha$ 的电子态波函数哈密顿算符 (不包含核互斥部分) (后文中的 $\\alpha$ 一般都不指代向上自旋的含义)\n",
    "\n",
    "$$\n",
    "\\hat H^\\alpha = \\hat T + \\alpha \\hat V_\\mathrm{ee} + \\hat V_\\mathrm{ext} + \\hat V^\\alpha\n",
    "$$"
   ]
  },
  {
   "cell_type": "markdown",
   "metadata": {
    "hidden": true
   },
   "source": [
    "其中，$\\hat T$ 为动能算符，$\\hat V_\\mathrm{ee}$ 为电子互斥算符 (下两式的 $i$ 暂时代表电子角标而非占据轨道)，$\\hat V_\\mathrm{ext}$ 在无外场的情况下定义为电子与原子互斥势算符 ($A$ 代表原子角标)：\n",
    "\n",
    "$$\n",
    "\\begin{align}\n",
    "\\hat T &= - \\frac{1}{2} \\sum_{i} \\nabla_{\\boldsymbol{r}_i}^2 \\\\\n",
    "\\hat V_\\mathrm{ee} &= \\frac{1}{2} \\sum_{i \\neq j} \\frac{1}{| \\boldsymbol{r}_i - \\boldsymbol{r}_j |} \\\\\n",
    "\\hat V_\\mathrm{exc} &= \\sum_i v_\\mathrm{exc} (\\boldsymbol{r}_i) = - \\sum_{Ai} \\frac{Z_A}{| \\boldsymbol{r}_i - \\boldsymbol{r}_A |}\n",
    "\\end{align}\n",
    "$$"
   ]
  },
  {
   "cell_type": "markdown",
   "metadata": {
    "hidden": true
   },
   "source": [
    "而第三个算符 $\\hat V^\\alpha$ 定义如下。若 $\\alpha = 1$，则定义为零。这种情况下，$\\hat H^{\\alpha = 1}$ 恰好是精确的电子态哈密顿算符 $\\hat T + \\hat V_\\mathrm{ee} + \\hat V_\\mathrm{ext}$；而若 $\\alpha = 0$，在 DFT 下则是需要被定义的量，各种 DFT 的近似的目标也是希望描述清楚 $\\hat V_\\mathrm{xc}$；在我们的实际计算中，$\\alpha = 0$ 的情况对应 PBE 参考态的计算。\n",
    "\n",
    "即定义为交换相关势相关量。这对应的是 Kohn-Sham 电子态哈密顿算符，且不包含交换部分。我们之前计算所用到的 PBE，或者 BLYP, SVWN5 等即可以看作对该算符 $\\hat V^{\\alpha = 0}$ 的近似；但 B3LYP 则包含 0.2 份了交换，因此近似的对象不是 $\\hat V^{\\alpha = 0}$ (近似对象很接近 $\\hat V^{\\alpha = 0.2}$，但严格来说并非如此，因为 $0.2 \\hat V_\\mathrm{ee}$ 本质是双电子算符，因此其精确求解还是与 $\\alpha = 1$ 的情形没有本质区别，而不可能是杂化 DFT 近似的做法)，也因此不再这篇文档的讨论范畴中。"
   ]
  },
  {
   "cell_type": "markdown",
   "metadata": {
    "hidden": true
   },
   "source": [
    "若 Kohn-Sham 图景下可以构造出完全精确的交换相关势，那么 $\\hat H^{\\alpha = 0}$ 即使与 $\\hat V^{\\alpha = 1}$ 具有不同的形式，导出不同的波函数\n",
    "\n",
    "$$\n",
    "\\begin{align}\n",
    "\\hat H^{\\alpha = 1} | \\hat \\Psi^{\\alpha = 1} \\rangle &= E_\\mathrm{elec} | \\hat \\Psi^{\\alpha = 1} \\rangle \\\\\n",
    "\\hat H^{\\alpha = 0} | \\hat \\Psi^{\\alpha = 0} \\rangle &= E_\\mathrm{elec} | \\hat \\Psi^{\\alpha = 0} \\rangle\n",
    "\\end{align}\n",
    "$$"
   ]
  },
  {
   "cell_type": "markdown",
   "metadata": {
    "hidden": true
   },
   "source": [
    "其中，$E_\\mathrm{elec}$ 是基态能量。\n",
    "\n",
    "之所以要这么绕弯子，是因为我们无法在较少计算量下得到真实的电子态波函数。从程序实现的角度讲，在 Kohn-Sham 图景下，假设真实的电子态密度 $\\rho = \\langle \\Psi^{\\alpha = 1} | \\hat \\rho | \\Psi^{\\alpha = 1} \\rangle$ 能够通过相互正交的、电子数量的关于电子坐标 $\\boldsymbol{r}$ 的函数 $\\phi_{i} (\\boldsymbol{r})$ 之和表示：$\\rho = \\langle \\Psi^{\\alpha = 0} | \\hat \\rho | \\Psi^{\\alpha = 0} \\rangle$。那么就存在势函数 $v^\\mathrm{xc} (\\boldsymbol{r}_i)$，使得 $\\hat H^{\\alpha = 0} | \\hat \\Psi^{\\alpha = 0} \\rangle$ 波函数的求解可以通过类似于 Hartree-Fock 的自洽场过程给出而不需要进行大计算量的 Post-HF 过程，但在这些有限的计算量下给出正确的密度。"
   ]
  },
  {
   "cell_type": "markdown",
   "metadata": {
    "hidden": true
   },
   "source": [
    "基于上述的定义，我们可以给出波函数 $| \\Psi^{\\alpha} \\rangle$ 关于 $\\alpha$ 变量的绝热路径。该“绝热路径”的守恒量是电子态密度，即对于任意 $\\alpha$，\n",
    "\n",
    "$$\n",
    "\\rho = \\langle \\Psi^\\alpha | \\hat \\rho | \\Psi^\\alpha \\rangle\n",
    "$$\n",
    "\n",
    "是完全相等的。"
   ]
  },
  {
   "cell_type": "markdown",
   "metadata": {
    "heading_collapsed": true
   },
   "source": [
    "### 绝热路径 (2)：与相关能的联系"
   ]
  },
  {
   "cell_type": "markdown",
   "metadata": {
    "hidden": true
   },
   "source": [
    "DFT 近似的主要目标是给出交换相关能；上述的绝热路径是一种从波函数角度出发一窥交换相关能构造的做法。\n",
    "\n",
    "首先，总电子态能量 $E_\\mathrm{elec}$ (不包含核互斥能) 可以拆分为单电子轨道动能 $T_\\mathrm{s} [\\rho]$、外势能 $V_\\mathrm{ext} [\\rho]$、库伦积分 $J [\\rho]$：\n",
    "\n",
    "$$\n",
    "\\begin{align}\n",
    "T_\\mathrm{s} [\\rho] &= \\langle \\Psi^{\\alpha = 0} | \\hat T | \\Psi^{\\alpha = 0} \\rangle \\\\\n",
    "V_\\mathrm{ext} [\\rho] &= \\int \\rho(\\boldsymbol{r}) v_\\mathrm{ext} (\\boldsymbol{r}) \\, \\mathrm{d} \\boldsymbol{r} \\\\\n",
    "U [\\rho] &= \\frac{1}{2} \\iint \\frac{\\rho(\\boldsymbol{r}) \\rho(\\boldsymbol{r}')}{| \\boldsymbol{r} - \\boldsymbol{r}' |} \\, \\mathrm{d} \\boldsymbol{r} \\, \\mathrm{d} \\boldsymbol{r}'\n",
    "\\end{align}\n",
    "$$"
   ]
  },
  {
   "cell_type": "markdown",
   "metadata": {
    "hidden": true
   },
   "source": [
    "上述三式是比较容易求取的。除此之外，定义交换能为\n",
    "\n",
    "$$\n",
    "E_\\mathrm{x} [\\rho] = \\langle \\Psi^{\\alpha = 0} | \\hat V_\\mathrm{ee} | \\Psi^{\\alpha = 0} \\rangle - U[\\rho]\n",
    "$$\n",
    "\n",
    "交换能可以通过类似与 Hartree-Fock 的方法给出。因此，上述四项都是程序容易实现，且应当仅与密度有关。"
   ]
  },
  {
   "cell_type": "markdown",
   "metadata": {
    "hidden": true
   },
   "source": [
    "下面我们就要给出相关能的表达式。它可以定义为\n",
    "\n",
    "$$\n",
    "\\begin{align}\n",
    "E_\\mathrm{c} [\\rho] &= E_\\mathrm{elec} [\\rho] - \\langle \\Psi^{\\alpha = 0} | \\hat H^{\\alpha = 1} | \\Psi^{\\alpha = 0} \\rangle \\\\\n",
    "&= \\langle \\Psi^{\\alpha = 0} | \\hat H^{\\alpha = 0} | \\Psi^{\\alpha = 0} \\rangle - \\langle \\Psi^{\\alpha = 0} | \\hat H^{\\alpha = 1} | \\Psi^{\\alpha = 0} \\rangle \\\\\n",
    "&= \\langle \\Psi^{\\alpha = 0} | \\hat V_\\mathrm{xc} | \\Psi^{\\alpha = 0} \\rangle - E_\\mathrm{x} [\\rho] \\tag{6}\n",
    "\\end{align}\n",
    "$$\n",
    "\n",
    "也可以定义为\n",
    "\n",
    "$$\n",
    "\\begin{align}\n",
    "E_\\mathrm{c} [\\rho] &= \\langle \\Psi^{\\alpha = 1} | \\hat H^{\\alpha = 1} | \\Psi^{\\alpha = 1} \\rangle - \\langle \\Psi^{\\alpha = 0} | \\hat H^{\\alpha = 1} | \\Psi^{\\alpha = 0} \\rangle \\\\\n",
    "&= \\langle \\Psi^{\\alpha = 1} | \\hat T + \\hat V_\\mathrm{ee} | \\Psi^{\\alpha = 1} \\rangle - T_\\mathrm{s} [\\rho] - U[\\rho] - E_\\mathrm{x} [\\rho] \\\\\n",
    "&= \\langle \\Psi^{\\alpha = 1} | \\hat T + \\hat V_\\mathrm{ee} | \\Psi^{\\alpha = 1} \\rangle - \\langle \\Psi^{\\alpha = 0} | \\hat T | \\Psi^{\\alpha = 0} \\rangle - \\langle \\Psi^{\\alpha=0} | \\hat V_\\mathrm{ee} | \\Psi^{\\alpha=0} \\rangle \\tag{7}\n",
    "\\end{align}\n",
    "$$"
   ]
  },
  {
   "cell_type": "markdown",
   "metadata": {
    "hidden": true
   },
   "source": [
    "上式的前两项可以看作是关于 $\\alpha$ 定积分的上下界，因此上式也可以表达为\n",
    "\n",
    "$$\n",
    "E_\\mathrm{c} [\\rho] = \\int_0^1 \\frac{\\mathrm{d}}{\\mathrm{d} \\alpha} \\langle \\Psi^{\\alpha} | \\hat T + \\alpha \\hat V_\\mathrm{ee} | \\Psi^{\\alpha} \\rangle \\, \\mathrm{d} \\alpha - \\langle \\Psi^{\\alpha=0} | \\hat V_\\mathrm{ee} | \\Psi^{\\alpha=0} \\rangle\n",
    "$$\n",
    "\n",
    "根据 (变分情形而非本征情形的) Hellmann-Feynman 定理，有\n",
    "\n",
    "$$\n",
    "\\begin{align}\n",
    "E_\\mathrm{c} [\\rho]\n",
    "&= \\int_0^1 \\frac{\\mathrm{d}}{\\mathrm{d} \\alpha} \\langle \\Psi^{\\alpha} | \\alpha \\hat V_\\mathrm{ee} | \\Psi^{\\alpha} \\rangle \\, \\mathrm{d} \\alpha - \\langle \\Psi^{\\alpha=0} | \\hat V_\\mathrm{ee} | \\Psi^{\\alpha=0} \\rangle \\\\\n",
    "&= \\int_0^1 \\langle \\Psi^{\\alpha} | \\hat V_\\mathrm{ee} | \\Psi^{\\alpha} \\rangle \\, \\mathrm{d} \\alpha - U[\\rho] - E_\\mathrm{x} [\\rho] \\tag{8}\n",
    "\\end{align}\n",
    "$$"
   ]
  },
  {
   "cell_type": "markdown",
   "metadata": {
    "hidden": true
   },
   "source": [
    "式 (6) 是 Kohn-Sham 方式下最直观的交换能定义；它不包含真实波函数 $| \\Psi^{\\alpha = 1} \\rangle$ 的信息，但有目前只能依靠近似才能获得的 $\\hat V_\\mathrm{xc}$ 算符。式 (7) 或 (8) 则不包含 $\\hat V_\\mathrm{xc}$，但具有 $| \\Psi^{\\alpha = 1} \\rangle$。我们或许会认为后者的公式包含的已知或可知信息更多一些 (获取 $| \\Psi^{\\alpha = 1} \\rangle$ 计算量巨大的，避免获取之也是 DFT 近似的发展动力，但它在小体系有限基组下仍然是可求得的，并且更容易进行后自洽行为的分析)，因此我们将着重对式 (8) 进行考察。"
   ]
  },
  {
   "cell_type": "markdown",
   "metadata": {
    "heading_collapsed": true
   },
   "source": [
    "### 二次量子化 (1)：$\\hat V_\\mathrm{ee}$ 与 $\\hat \\rho (\\boldsymbol{r})$ 的定义"
   ]
  },
  {
   "cell_type": "markdown",
   "metadata": {
    "hidden": true
   },
   "source": [
    "这里我们参考 <cite data-cite=\"Helgaker-Jorgensen.Wiley.2013\">Helgaker Wiley 2013</cite> 的说明。由于我们推导的是闭壳层的情形，因此我们需要引入单重激发算符 (仅在下式中的 $\\alpha$ 代表自旋的含义)\n",
    "\n",
    "$$\n",
    "\\hat E_{pq} = a_{p \\alpha}^\\dagger a_{q \\alpha} + a_{p \\beta}^\\dagger a_{q \\beta}\n",
    "$$\n",
    "\n",
    "这里规定，当 $a$ 字母不在角标处时，则表示产生或湮灭算符。由此出发，我们能定义双电子算符 (Helgaker, eq 2.2.15)：\n",
    "\n",
    "$$\n",
    "\\hat V_\\mathrm{ee} = \\frac{1}{2} \\sum_{\\sigma, \\sigma'} \\sum_{pq, rs} (pq|rs) a_{p \\sigma}^\\dagger a_{r \\sigma}^\\dagger a_{s \\sigma'} a_{q \\sigma'} = \\frac{1}{2} \\sum_{pq, rs} (pq|rs) (\\hat E_{pq} \\hat E_{rs} - \\delta_{pr} \\hat E_{qs})\n",
    "$$"
   ]
  },
  {
   "cell_type": "markdown",
   "metadata": {
    "hidden": true
   },
   "source": [
    "随后，我们定义密度算符 $\\hat \\rho(\\boldsymbol{r})$ (Eshuis, eq 11) (需要留意，Helgaker 的算符定义应都出于程序实现的要求，不会出现关于坐标呈变值的算符)：\n",
    "\n",
    "$$\n",
    "\\hat \\rho (\\boldsymbol{r}) = \\sum_{pq} \\hat E_{pq} \\phi_p (\\boldsymbol{r}) \\phi_q (\\boldsymbol{r})\n",
    "$$\n",
    "\n",
    "其中，$\\phi_p (\\boldsymbol{r})$ 表示轨道 $p$ 的分子轨道函数。这里的分子轨道指代的是作为 $\\alpha = 0$ 参考态的轨道。容易知道密度算符具有下述性质：\n",
    "\n",
    "$$\n",
    "\\rho (\\boldsymbol{r}) = \\langle \\Psi^{\\alpha} | \\hat \\rho(\\boldsymbol{r}) | \\Psi^{\\alpha} \\rangle\n",
    "$$\n",
    "\n",
    "但需要注意到，下述不等号一般情况下是成立的：\n",
    "\n",
    "$$\n",
    "\\rho (\\boldsymbol{r}) \\rho (\\boldsymbol{r}') \\neq \\langle \\Psi^{\\alpha} | \\hat \\rho(\\boldsymbol{r}) \\hat \\rho(\\boldsymbol{r}') | \\Psi^{\\alpha} \\rangle\n",
    "$$"
   ]
  },
  {
   "cell_type": "markdown",
   "metadata": {
    "hidden": true
   },
   "source": [
    "我们或许还需要定义双坐标密度算符 $\\hat \\rho (\\boldsymbol{r}, \\boldsymbol{r}')$：\n",
    "\n",
    "$$\n",
    "\\hat \\rho (\\boldsymbol{r}, \\boldsymbol{r}') = \\sum_{pq} \\hat E_{pq} \\phi_p (\\boldsymbol{r}) \\phi_q (\\boldsymbol{r}')\n",
    "$$"
   ]
  },
  {
   "cell_type": "markdown",
   "metadata": {
    "hidden": true
   },
   "source": [
    "以及 delta 算符 $\\hat \\delta (\\boldsymbol{r}, \\boldsymbol{r}')$，注意到下述定义与 Dirac Delta 函数应当是等价的：\n",
    "\n",
    "$$\n",
    "\\hat \\delta (\\boldsymbol{r}, \\boldsymbol{r}') = \\sum_{pq} \\delta_{pq} \\phi_p (\\boldsymbol{r}) \\phi_q (\\boldsymbol{r}') = \\delta (\\boldsymbol{r} - \\boldsymbol{r}')\n",
    "$$"
   ]
  },
  {
   "cell_type": "markdown",
   "metadata": {
    "hidden": true
   },
   "source": [
    "因此，我们可以重述算符 $\\hat V_\\mathrm{ee}$ 为\n",
    "\n",
    "$$\n",
    "\\begin{align}\n",
    "\\hat V_\\mathrm{ee} &= \\frac{1}{2} \\iint \\frac{\\hat \\rho(\\boldsymbol{r}) \\hat \\rho(\\boldsymbol{r}') - \\hat \\delta (\\boldsymbol{r}, \\boldsymbol{r}') \\hat \\rho(\\boldsymbol{r}, \\boldsymbol{r}')}{| \\boldsymbol{r} - \\boldsymbol{r}' |} \\, \\mathrm{d} \\boldsymbol{r} \\, \\mathrm{d} \\boldsymbol{r}' \\\\\n",
    "&= \\frac{1}{2} \\iint \\frac{\\hat \\rho(\\boldsymbol{r}) \\hat \\rho(\\boldsymbol{r}') - \\delta(\\boldsymbol{r} - \\boldsymbol{r}') \\hat \\rho(\\boldsymbol{r})}{| \\boldsymbol{r} - \\boldsymbol{r}' |} \\, \\mathrm{d} \\boldsymbol{r} \\, \\mathrm{d} \\boldsymbol{r}'\n",
    "\\end{align}\n",
    "$$"
   ]
  },
  {
   "cell_type": "markdown",
   "metadata": {
    "hidden": true
   },
   "source": [
    "上述等式中或许存在一项非常特殊的表达式：\n",
    "\n",
    "$$\n",
    "\\hat V_\\mathrm{ee} \\leftarrow\n",
    "- \\frac{1}{2} \\iint \\frac{\\delta(\\boldsymbol{r} - \\boldsymbol{r}') \\hat \\rho(\\boldsymbol{r})}{| \\boldsymbol{r} - \\boldsymbol{r}' |} \\, \\mathrm{d} \\boldsymbol{r} \\, \\mathrm{d} \\boldsymbol{r}' = - \\frac{1}{2} \\int \\frac{\\hat \\rho(\\boldsymbol{r})}{0} \\, \\mathrm{d} \\boldsymbol{r} = \\mathrm{NaN}\n",
    "$$\n",
    "\n",
    "这项中，无论左乘右乘何种波函数，$\\hat \\rho (\\boldsymbol{r})$ 具体表达式如何，其结果一定为非数 (NaN, Not a Number)。如果将 $\\delta$ 函数当作一种逼近极限的话，应当认为上述值比起 NaN 来说更接近 $- \\infty$。"
   ]
  },
  {
   "cell_type": "markdown",
   "metadata": {
    "hidden": true
   },
   "source": [
    "显然，我们知道 $\\langle \\Psi^{\\alpha} | \\hat V_\\mathrm{ee} | \\Psi^{\\alpha} \\rangle$ 是有界的，且在 $\\alpha = 0$ 时代表库伦积分与交换能之和。但上述分项为 NaN，那么一定也就意味着\n",
    "\n",
    "$$\n",
    "\\hat V_\\mathrm{ee} \\leftarrow\n",
    "- \\frac{1}{2} \\iint \\frac{\\hat \\rho(\\boldsymbol{r}) \\hat \\rho(\\boldsymbol{r}')}{| \\boldsymbol{r} - \\boldsymbol{r}' |} \\, \\mathrm{d} \\boldsymbol{r} \\, \\mathrm{d} \\boldsymbol{r}' = \\mathrm{NaN}\n",
    "$$"
   ]
  },
  {
   "cell_type": "markdown",
   "metadata": {
    "heading_collapsed": true
   },
   "source": [
    "### 二次量子化 (2)：密度涨落算符 $\\Delta \\hat \\rho (\\boldsymbol{r})$"
   ]
  },
  {
   "cell_type": "markdown",
   "metadata": {
    "hidden": true
   },
   "source": [
    "随后我们引入密度涨落算符\n",
    "\n",
    "$$\n",
    "\\Delta \\hat \\rho(\\boldsymbol{r}) = \\hat \\rho(\\boldsymbol{r}) - \\rho(\\boldsymbol{r})\n",
    "$$\n",
    "\n",
    "密度涨落算符并不是一定要引入的算符；这我们会在后面一段推导时会提及。类似地，我们也能了解到性质\n",
    "\n",
    "$$\n",
    "0 = \\langle \\Psi^{\\alpha} | \\Delta \\hat \\rho(\\boldsymbol{r}) | \\Psi^{\\alpha} \\rangle\n",
    "$$"
   ]
  },
  {
   "cell_type": "markdown",
   "metadata": {
    "hidden": true
   },
   "source": [
    "将密度涨落算符的定义代入，我们还可以重述算符 $\\hat V_\\mathrm{ee}$ 为\n",
    "\n",
    "$$\n",
    "\\begin{align}\n",
    "\\hat V_\\mathrm{ee} &=\n",
    "\\frac{1}{2} \\iint \\frac{\\Delta \\hat \\rho(\\boldsymbol{r}) \\Delta \\hat \\rho(\\boldsymbol{r}')}{| \\boldsymbol{r} - \\boldsymbol{r}' |} \\, \\mathrm{d} \\boldsymbol{r} \\, \\mathrm{d} \\boldsymbol{r}' \\\\\n",
    "&\\quad + \\frac{1}{2} \\iint \\frac{\\Delta \\hat \\rho(\\boldsymbol{r}) \\rho(\\boldsymbol{r}')}{| \\boldsymbol{r} - \\boldsymbol{r}' |} \\, \\mathrm{d} \\boldsymbol{r} \\, \\mathrm{d} \\boldsymbol{r}'\n",
    "+ \\frac{1}{2} \\iint \\frac{\\rho(\\boldsymbol{r}) \\Delta \\hat \\rho(\\boldsymbol{r}')}{| \\boldsymbol{r} - \\boldsymbol{r}' |} \\, \\mathrm{d} \\boldsymbol{r} \\, \\mathrm{d} \\boldsymbol{r}' \\\\\n",
    "&\\quad - \\frac{1}{2} \\iint \\frac{\\delta(\\boldsymbol{r} - \\boldsymbol{r}') \\hat \\rho(\\boldsymbol{r})}{| \\boldsymbol{r} - \\boldsymbol{r}' |} \\, \\mathrm{d} \\boldsymbol{r} \\, \\mathrm{d} \\boldsymbol{r}'\n",
    "+ U[\\rho]\n",
    "\\end{align}\n",
    "$$"
   ]
  },
  {
   "cell_type": "markdown",
   "metadata": {
    "hidden": true
   },
   "source": [
    "我们在这里指出，由于后四个贡献项都仅与单个密度算符、或密度涨落算符有关，因此在左乘 $\\langle \\Psi^{\\alpha} |$ 右乘 $| \\Psi^{\\alpha} \\rangle$ 后，不论 $\\alpha$ 的值是多少，其结果都应当相等 (因为对任意 $\\alpha$ 的 $| \\Psi^{\\alpha} \\rangle$，其密度相等)。举其中一个例子而言，\n",
    "\n",
    "$$\n",
    "\\frac{1}{2} \\langle \\Psi^\\alpha | \\iint \\frac{\\Delta \\hat \\rho(\\boldsymbol{r}) \\rho(\\boldsymbol{r}')}{| \\boldsymbol{r} - \\boldsymbol{r}' |} \\, \\mathrm{d} \\boldsymbol{r} \\, \\mathrm{d} \\boldsymbol{r}' | \\Psi^\\alpha \\rangle\n",
    "= \\iint \\frac{\\rho(\\boldsymbol{r}')}{| \\boldsymbol{r} - \\boldsymbol{r}' |} \\langle \\Psi^\\alpha | \\Delta \\hat \\rho(\\boldsymbol{r}) | \\Psi^\\alpha \\rangle  \\, \\mathrm{d} \\boldsymbol{r}\\, \\mathrm{d} \\boldsymbol{r}'\n",
    "= 0\n",
    "$$\n",
    "\n",
    "之所以上式中对 $\\boldsymbol{r}, \\boldsymbol{r}'$ 的积分，与左右矢符号可以交换，是借了二次量子化算符 $a_p^\\dagger, a_p$ 等算符与电子坐标 $\\boldsymbol{r}$ 无关的便利。因此，能真正区别不同波函数的算符贡献项，只有上式中的第一项。"
   ]
  },
  {
   "cell_type": "markdown",
   "metadata": {
    "hidden": true
   },
   "source": [
    "根据上述说明，我们可以对绝热路径与相关能的关联式 (8) 重新写为\n",
    "\n",
    "$$\n",
    "\\begin{align}\n",
    "E_\\mathrm{c} [\\rho]\n",
    "&= \\int_0^1 \\langle \\Psi^{\\alpha} | \\hat V_\\mathrm{ee} | \\Psi^{\\alpha} \\rangle \\, \\mathrm{d} \\alpha - \\langle \\Psi^{\\alpha=0} | \\hat V_\\mathrm{ee} | \\Psi^{\\alpha=0} \\rangle \\\\\n",
    "&= \\int_0^1 \\big( \\langle \\Psi^{\\alpha} | \\hat V_\\mathrm{ee} | \\Psi^{\\alpha} \\rangle - \\langle \\Psi^{\\alpha=0} | \\hat V_\\mathrm{ee} | \\Psi^{\\alpha=0} \\rangle \\big) \\, \\mathrm{d} \\alpha \\\\\n",
    "&= \\frac{1}{2} \\int_0^1 \\, \\mathrm{d} \\alpha \\iint \\, \\mathrm{d} \\boldsymbol{r}\\, \\mathrm{d} \\boldsymbol{r}' \\frac{\\langle \\Psi^{\\alpha} | \\Delta \\hat \\rho (\\boldsymbol{r}) \\Delta \\hat \\rho (\\boldsymbol{r}') | \\Psi^{\\alpha} \\rangle - \\langle \\Psi^{\\alpha=0} | \\Delta \\hat \\rho (\\boldsymbol{r}) \\Delta \\hat \\rho (\\boldsymbol{r}') | \\Psi^{\\alpha=0} \\rangle}{| \\boldsymbol{r} - \\boldsymbol{r}' |} \\tag{9}\n",
    "\\end{align}\n",
    "$$"
   ]
  },
  {
   "cell_type": "markdown",
   "metadata": {
    "heading_collapsed": true
   },
   "source": [
    "### 幺元分解：建立相关能与激发态的联系"
   ]
  },
  {
   "cell_type": "markdown",
   "metadata": {
    "hidden": true
   },
   "source": [
    "在波函数空间下，我们将所有满足定态方程\n",
    "\n",
    "$$\n",
    "\\hat H^\\alpha | \\Psi_n^\\alpha \\rangle = (E_\\mathrm{elec} + \\omega_n^\\alpha) | \\Psi_n^\\alpha \\rangle\n",
    "$$\n",
    "\n",
    "的波函数 $| \\Psi_n^\\alpha \\rangle$ 归并在一起 $\\{ | \\Psi_n^\\alpha \\rangle \\}$；该解空间与 $\\{ | \\Psi^\\alpha \\rangle \\}$ 的并集假定认为是完备的。其中，$\\omega_n^\\alpha$ 称作在绝热路径 $\\alpha$ 基态波函数上的第 $n$ 个激发态的激发能量。我们不把基态列入 $n$ 的角标范围中，或者说 $n$ 不能取到 0；这种记号可能有别于一些文章。"
   ]
  },
  {
   "cell_type": "markdown",
   "metadata": {
    "hidden": true
   },
   "source": [
    "定义了上述记号并作完备性的假定后，尽管不很严谨，但我们指出存在下述幺元分解 (RI, Resolution of Identity)：\n",
    "\n",
    "$$\n",
    "| \\Psi^\\alpha \\rangle \\langle \\Psi^\\alpha | + \\sum_{n} | \\Psi_n^\\alpha \\rangle \\langle \\Psi_n^\\alpha | = 1\n",
    "$$"
   ]
  },
  {
   "cell_type": "markdown",
   "metadata": {
    "hidden": true
   },
   "source": [
    "因此，我们可以将式 (9) 中的一部分分项写作\n",
    "\n",
    "$$\n",
    "\\begin{align}\n",
    "\\langle \\Psi^{\\alpha} | \\Delta \\hat \\rho (\\boldsymbol{r}) \\Delta \\hat \\rho (\\boldsymbol{r}') | \\Psi^{\\alpha} \\rangle\n",
    "&= \\langle \\Psi^{\\alpha} | \\Delta \\hat \\rho (\\boldsymbol{r}) | \\Psi^\\alpha \\rangle \\langle \\Psi^\\alpha | \\Delta \\hat \\rho (\\boldsymbol{r}') | \\Psi^{\\alpha} \\rangle + \\sum_n \\langle \\Psi^{\\alpha} | \\Delta \\hat \\rho (\\boldsymbol{r}) | \\Psi_n^\\alpha \\rangle \\langle \\Psi_n^\\alpha | \\Delta \\hat \\rho (\\boldsymbol{r}') | \\Psi^{\\alpha} \\rangle \\\\\n",
    "&= \\sum_{n} \\langle \\Psi^{\\alpha} | \\Delta \\hat \\rho (\\boldsymbol{r}) | \\Psi_n^\\alpha \\rangle \\langle \\Psi_n^\\alpha | \\Delta \\hat \\rho (\\boldsymbol{r}') | \\Psi^{\\alpha} \\rangle\n",
    "\\end{align}\n",
    "$$\n",
    "\n",
    "上式的第二个等号利用的是基态波函数的 $\\langle \\Psi^{\\alpha} | \\Delta \\hat \\rho (\\boldsymbol{r}) | \\Psi^\\alpha \\rangle = 0$。这样，我们就将相关能与激发态之间建立了联系。我们也会记跃迁密度为\n",
    "\n",
    "$$\n",
    "\\rho_{0n}^\\mathrm{\\alpha} (\\boldsymbol{r}) = \\langle \\Psi^{\\alpha} | \\Delta \\hat \\rho (\\boldsymbol{r}) | \\Psi_n^\\alpha \\rangle = \\langle \\Psi^{\\alpha} | \\hat \\rho (\\boldsymbol{r}) | \\Psi_n^\\alpha \\rangle \n",
    "$$"
   ]
  },
  {
   "cell_type": "markdown",
   "metadata": {
    "hidden": true
   },
   "source": [
    "之所以说“完备性”是假定，是因为并不是所有激发态都被囊括了进来；譬如三重态激发在推导与程序中就不在其中。当然，我们考虑一般的跃迁密度时，单重到三重的激发是禁阻的，因此三重激发也不需要出现在幺元分解式中。因此，这种“完备性”尽管一点都不完备，但基本是够用的。"
   ]
  },
  {
   "cell_type": "markdown",
   "metadata": {
    "hidden": true
   },
   "source": [
    "事实上，从上式中能看出，由于在描述基态到激发态的跃迁过程时，$\\Delta \\hat \\rho (\\boldsymbol{r})$ 与 $\\hat \\rho (\\boldsymbol{r})$ 没有本质区别，因此会说额外定义密度涨落算符不一定非常实际的意义；当然，用涨落算符会在公式中更加凸显相关能与密度波动之间的联系。"
   ]
  },
  {
   "cell_type": "markdown",
   "metadata": {
    "hidden": true
   },
   "source": [
    "最后，我们需要指出，单看下式的话，\n",
    "\n",
    "$$\n",
    "\\langle \\Psi^{\\alpha} | \\Delta \\hat \\rho (\\boldsymbol{r}) \\Delta \\hat \\rho (\\boldsymbol{r}') | \\Psi^{\\alpha} \\rangle = \\mathrm{NaN}\n",
    "$$"
   ]
  },
  {
   "cell_type": "markdown",
   "metadata": {
    "hidden": true
   },
   "source": [
    "如果从跃迁密度的角度讲，上式相当于对所有激发态的跃迁密度平方的求和：\n",
    "\n",
    "$$\n",
    "\\langle \\Psi^{\\alpha} | \\Delta \\hat \\rho (\\boldsymbol{r}) \\Delta \\hat \\rho (\\boldsymbol{r}') | \\Psi^{\\alpha} \\rangle = \\sum_{n} \\rho_{0n}^{\\alpha} (\\boldsymbol{r}) \\rho_{0n}^{\\alpha, \\dagger} (\\boldsymbol{r}')\n",
    "$$\n",
    "\n",
    "上式的 $\\dagger$ 表示的是复共轭。显然，每个激发态相对于基态密度的扰动都是比较大的，因此每个跃迁密度本身不可能是无穷小量；加之激发态数量无限，因此上述求和也是无限的，不可能是有界量。(当然，对于有限基组而言这显然是有界量)"
   ]
  },
  {
   "cell_type": "markdown",
   "metadata": {
    "hidden": true
   },
   "source": [
    "而如果从 $\\hat V_\\mathrm{ee}$ 的拆分角度来讲也是同样的。我们之前指出过，\n",
    "\n",
    "$$\n",
    "\\hat V_\\mathrm{ee} \\leftarrow\n",
    "- \\frac{1}{2} \\iint \\frac{\\hat \\rho(\\boldsymbol{r}) \\hat \\rho(\\boldsymbol{r}')}{| \\boldsymbol{r} - \\boldsymbol{r}' |} \\, \\mathrm{d} \\boldsymbol{r} \\, \\mathrm{d} \\boldsymbol{r}' = \\mathrm{NaN}\n",
    "$$\n",
    "\n",
    "只需要一些简单的分析，应当不难知道\n",
    "\n",
    "$$\n",
    "\\frac{1}{2} \\langle \\Psi^\\alpha | \\iint \\frac{\\hat \\rho(\\boldsymbol{r}) \\hat \\rho(\\boldsymbol{r}')}{| \\boldsymbol{r} - \\boldsymbol{r}' |} \\, \\mathrm{d} \\boldsymbol{r} \\, \\mathrm{d} \\boldsymbol{r}' | \\Psi^\\alpha \\rangle\n",
    "= \\frac{1}{2} \\langle \\Psi^\\alpha | \\iint \\frac{\\Delta \\hat \\rho(\\boldsymbol{r}) \\Delta \\hat \\rho(\\boldsymbol{r}')}{| \\boldsymbol{r} - \\boldsymbol{r}' |} \\, \\mathrm{d} \\boldsymbol{r} \\, \\mathrm{d} \\boldsymbol{r}' | \\Psi^\\alpha \\rangle + U[\\rho]\n",
    "$$\n",
    "\n",
    "因此我们应当预期 $\\Delta \\hat \\rho(\\boldsymbol{r}) \\Delta \\hat \\rho(\\boldsymbol{r}')$ 与 $\\hat \\rho(\\boldsymbol{r}) \\hat \\rho(\\boldsymbol{r}')$ 具有比较接近的性质。"
   ]
  },
  {
   "cell_type": "markdown",
   "metadata": {
    "hidden": true
   },
   "source": [
    "因此，单就讨论 $\\langle \\Psi^{\\alpha} | \\Delta \\hat \\rho (\\boldsymbol{r}) \\Delta \\hat \\rho (\\boldsymbol{r}') | \\Psi^{\\alpha} \\rangle$ 本身是不能得到结论的，而需要与 $\\langle \\Psi^{\\alpha = 0} | \\Delta \\hat \\rho (\\boldsymbol{r}) \\Delta \\hat \\rho (\\boldsymbol{r}') | \\Psi^{\\alpha = 0} \\rangle$ 相减才能得到有界的相关能。最后指出，我们可以将相关能式 (9) 写作\n",
    "\n",
    "$$\n",
    "\\begin{align}\n",
    "E_\\mathrm{c} [\\rho]\n",
    "&= \\frac{1}{2} \\int_0^1 \\, \\mathrm{d} \\alpha \\iint \\, \\mathrm{d} \\boldsymbol{r}\\, \\mathrm{d} \\boldsymbol{r}' \\left( \\sum_{n} \\frac{\\rho_{0n}^{\\alpha} (\\boldsymbol{r}) \\rho_{0n}^{\\alpha, \\dagger} (\\boldsymbol{r}')}{| \\boldsymbol{r} - \\boldsymbol{r}' |} - \\sum_{n} \\frac{\\rho_{0n}^{\\alpha=0} (\\boldsymbol{r}) \\rho_{0n}^{\\alpha=0, \\dagger} (\\boldsymbol{r}')}{| \\boldsymbol{r} - \\boldsymbol{r}' |} \\right) \\tag{10}\n",
    "\\end{align}\n",
    "$$"
   ]
  },
  {
   "cell_type": "markdown",
   "metadata": {
    "hidden": true
   },
   "source": [
    "从程序实现来说，跃迁密度不会是非实数量，因此共轭记号 $\\dagger$ 一般是可以去掉的。"
   ]
  },
  {
   "cell_type": "markdown",
   "metadata": {},
   "source": [
    "## 简单理解 dRPA 相关能 (2)：类 TD-KS 方法"
   ]
  },
  {
   "cell_type": "markdown",
   "metadata": {},
   "source": [
    "dRPA 相关能的推导一般可以有三种方式，为类 TD-KS (Time-Dependent Kohn-Sham) 方法、涨落耗散理论 (Fluctuation Dissipation Theory)、以及格林函数 (GW, Green's Wavefunction) 途径。在这篇文档中，我们只讨论前两种方法；他们的共同基础是上面的绝热路径与密度涨落。通过密度涨落，我们建立了相关能与激发态的联系。\n",
    "\n",
    "激发态很容易地与 TD-KS 方法产生直观的联系。我们下面就会讨论如何从 TD-KS 近似得到 dRPA 相关能。我们仍然按照 <cite data-cite=\"Eshuis-Furche.TCA.2012.131\">Eshuis TCA 2012</cite> 的思路来理解。"
   ]
  },
  {
   "cell_type": "markdown",
   "metadata": {
    "heading_collapsed": true
   },
   "source": [
    "### TD Hartree 近似与跃迁密度的联系"
   ]
  },
  {
   "cell_type": "markdown",
   "metadata": {
    "hidden": true
   },
   "source": [
    "在这里我们不陈述 TD-KS 方程是如何推导的，只说明结论。\n",
    "\n",
    "首先，如前所述，dRPA 相关能的交换部分是通过精确交换能表达式给出的；因此之后我们的讨论中就不引入交换能。我们考察的波函数 $| \\Psi^{\\alpha = 0} \\rangle$ 作为仅包含单电子算符贡献的 Kohn-Sham 等效哈密顿算符 $\\hat H^{\\alpha = 0}$ 的本征态，其形式并不取用 Slater 行列式，而令其为 Hartree 连乘积。"
   ]
  },
  {
   "cell_type": "markdown",
   "metadata": {
    "hidden": true
   },
   "source": [
    "对于波函数 $| \\Psi^{\\alpha = 0} \\rangle$，其 TD-KS 方程 (Casida 方程) 列为\n",
    "\n",
    "$$\n",
    "\\begin{equation}\n",
    "\\begin{pmatrix} \\mathbf{A}^\\alpha & \\mathbf{B}^\\alpha \\\\ - \\mathbf{B}^\\alpha & - \\mathbf{A}^\\alpha \\end{pmatrix}\n",
    "\\begin{pmatrix} \\mathbf{X}_n^\\alpha \\\\ \\mathbf{Y}_n^\\alpha \\end{pmatrix}\n",
    "= \\pm \\omega_n^\\alpha \\begin{pmatrix} \\mathbf{X}_n^\\alpha \\\\ \\mathbf{Y}_n^\\alpha \\end{pmatrix} \\tag{11}\n",
    "\\end{equation}\n",
    "$$\n",
    "\n",
    "其中，\n",
    "\n",
    "$$\n",
    "\\begin{align}\n",
    "A_{ia, jb}^\\alpha &= - (\\varepsilon_i - \\varepsilon_a) \\delta_{ij} \\delta_{ab} + 2 \\alpha (ia|jb) + f^{\\mathrm{xc}, \\alpha}_{ia, jb} \\\\\n",
    "B_{ia, jb}^\\alpha &= 2 \\alpha (ia|jb) + f^{\\mathrm{xc}, \\alpha}_{ia, jb} \\tag{12}\n",
    "\\end{align}\n",
    "$$"
   ]
  },
  {
   "cell_type": "markdown",
   "metadata": {
    "hidden": true
   },
   "source": [
    "如果我们将交换相关能对 TD-KS 方程的贡献全部抹去，那么上式就化为 TD Hartree 的情况：\n",
    "\n",
    "$$\n",
    "\\begin{align}\n",
    "A_{ia, jb}^\\alpha &\\simeq - (\\varepsilon_i - \\varepsilon_a) \\delta_{ij} \\delta_{ab} + 2 \\alpha (ia|jb) \\\\\n",
    "B_{ia, jb}^\\alpha &\\simeq 2 \\alpha (ia|jb) \\tag{13}\n",
    "\\end{align}\n",
    "$$"
   ]
  },
  {
   "cell_type": "markdown",
   "metadata": {
    "hidden": true
   },
   "source": [
    "尽管这一段大体是公式推导，但我们顺便在此定义一些程序计算用的函数。定义函数 `A` $A_{ia, jb}^\\alpha$, `B` $B_{ia, jb}^\\alpha$，它们通过输入参数 $\\alpha$ 给出张量。"
   ]
  },
  {
   "cell_type": "code",
   "execution_count": 28,
   "metadata": {
    "hidden": true
   },
   "outputs": [],
   "source": [
    "def A(alpha):\n",
    "    return (np.einsum(\"ia, ij, ab -> iajb\", - eo[:, None] + ev[None, :], delta_ij, delta_ab) + 2 * alpha * eri0_iajb).reshape(nocc*nvir, nocc*nvir)\n",
    "\n",
    "def B(alpha):\n",
    "    return (2 * alpha * eri0_iajb).reshape(nocc*nvir, nocc*nvir)"
   ]
  },
  {
   "cell_type": "markdown",
   "metadata": {
    "hidden": true
   },
   "source": [
    "同时，我们定义函数 `omega_list`，通过分别输入 A 与 B 张量对应的 $\\alpha$ 值，给出其 TD 方程的正频率列表。"
   ]
  },
  {
   "cell_type": "code",
   "execution_count": 29,
   "metadata": {
    "hidden": true
   },
   "outputs": [],
   "source": [
    "def omega_list(alpha1, alpha2=None):\n",
    "    alpha2 = alpha2 if alpha2 is not None else alpha1\n",
    "    A_, B_ = A(alpha1), B(alpha2)\n",
    "    eig = np.linalg.eig((A_ + B_) @ (A_ - B_))[0]\n",
    "    eig.sort()\n",
    "    return np.sqrt(eig)"
   ]
  },
  {
   "cell_type": "markdown",
   "metadata": {
    "hidden": true
   },
   "source": [
    "上述函数能直接计算 dRPA 相关能：\n",
    "\n",
    "$$\n",
    "E^\\mathsf{dRPA}_\\mathrm{c} = \\frac{1}{2} \\sum_n (\\omega_n^\\mathsf{dRPA} - \\omega_n^\\mathsf{dTDA})\n",
    "$$\n",
    "\n",
    "我们留意到 dRPA 激发使用的是 $A_{ia, jb}^{\\alpha = 1}$, $B_{ia, jb}^{\\alpha = 1}$，而 dTDA 激发使用的是 $A_{ia, jb}^{\\alpha = 1}$, $B_{ia, jb}^{\\alpha = 0}$："
   ]
  },
  {
   "cell_type": "code",
   "execution_count": 30,
   "metadata": {
    "hidden": true
   },
   "outputs": [
    {
     "data": {
      "text/plain": [
       "-0.4313792211675036"
      ]
     },
     "execution_count": 30,
     "metadata": {},
     "output_type": "execute_result"
    }
   ],
   "source": [
    "0.5 * (omega_list(1).sum() - omega_list(1, 0).sum())"
   ]
  },
  {
   "cell_type": "markdown",
   "metadata": {
    "hidden": true
   },
   "source": [
    "我们在这篇文档中不对作为本征向量的 $X_{n, ia}^\\alpha$ 与 $Y_{n, ia}^\\alpha$ 作程序上的定义，仅作讨论。该本征向量在 PySCF 的程序中作下述归一化定义：\n",
    "\n",
    "$$\n",
    "\\sum_{ia} \\big( (X_{n, ia}^\\alpha)^2 - (Y_{n, ia}^\\alpha)^2 \\big) = \\frac{1}{2}\n",
    "$$"
   ]
  },
  {
   "cell_type": "markdown",
   "metadata": {
    "hidden": true
   },
   "source": [
    "基于上述定义，闭壳层下的 TD 跃迁密度可以定义为 (这也参考 PySCF 的跃迁偶极矩定义)：\n",
    "\n",
    "$$\n",
    "\\rho_{0n}^\\alpha (\\boldsymbol{r}) = 2 \\sum_{ia} (X_{n, ia}^\\alpha + Y_{n, ia}^\\alpha) \\phi_i (\\boldsymbol{r}) \\phi_a (\\boldsymbol{r})\n",
    "$$\n",
    "\n",
    "其中的 2 倍源于闭壳层下的两种自旋贡献之和。"
   ]
  },
  {
   "cell_type": "markdown",
   "metadata": {
    "heading_collapsed": true
   },
   "source": [
    "### TD 左右矢定义"
   ]
  },
  {
   "cell_type": "markdown",
   "metadata": {
    "hidden": true
   },
   "source": [
    "在后文中，为了公式推导与表达的便利，这里借用 <cite data-cite=\"Eshuis-Furche.TCA.2012.131\">Eshuis TCA 2012</cite> 中的符号；但需要留意，实际闭壳层程序与原文开壳层的推导在一些细节上有出入。"
   ]
  },
  {
   "cell_type": "markdown",
   "metadata": {
    "hidden": true
   },
   "source": [
    "我们可以定义下述与 TD 方程等价的表达式：\n",
    "\n",
    "$$\n",
    "( \\mathbf{\\Lambda}^\\alpha - \\omega_n^\\alpha \\mathbf{\\Delta} ) | \\mathbf{X}_n^\\alpha, \\mathbf{Y}_n^\\alpha \\rangle = 0\n",
    "$$"
   ]
  },
  {
   "cell_type": "markdown",
   "metadata": {
    "hidden": true
   },
   "source": [
    "其中，上式定义\n",
    "\n",
    "$$\n",
    "\\mathbf{\\Lambda}^\\alpha = \\begin{pmatrix} \\mathbf{A}^\\alpha & \\mathbf{B}^\\alpha \\\\ \\mathbf{B}^\\alpha & \\mathbf{A}^\\alpha \\end{pmatrix} , \\quad\n",
    "\\mathbf{\\Delta} = \\begin{pmatrix} \\mathbf{1} & \\mathbf{0} \\\\ \\mathbf{0} & -\\mathbf{1} \\end{pmatrix}\n",
    "$$\n",
    "\n",
    "以及右矢 $| \\mathbf{X}_n^\\alpha, \\mathbf{Y}_n^\\alpha \\rangle$ 可以看作列向量；相对应地，左矢 $\\langle \\mathbf{X}_n^\\alpha, \\mathbf{Y}_n^\\alpha |$ 可以看作行向量。"
   ]
  },
  {
   "cell_type": "markdown",
   "metadata": {
    "hidden": true
   },
   "source": [
    "经过上述定义，特征向量的归一化条件可以写为\n",
    "\n",
    "$$\n",
    "\\langle \\mathbf{X}_n^\\alpha, \\mathbf{Y}_n^\\alpha | \\mathbf{\\Delta} | \\mathbf{X}_n^\\alpha, \\mathbf{Y}_n^\\alpha \\rangle = \\frac{1}{2}\n",
    "$$"
   ]
  },
  {
   "cell_type": "markdown",
   "metadata": {
    "hidden": true
   },
   "source": [
    "因此，我们可以从相关能表达式 (10) 出发，写出其中的第一项贡献：\n",
    "\n",
    "$$\n",
    "\\begin{align}\n",
    "E_\\mathrm{c} [\\rho]\n",
    "&\\leftarrow \\frac{1}{2} \\int_0^1 \\, \\mathrm{d} \\alpha \\iint \\, \\mathrm{d} \\boldsymbol{r}\\, \\mathrm{d} \\boldsymbol{r}' \\sum_{n} \\frac{\\rho_{0n}^{\\alpha} (\\boldsymbol{r}) \\rho_{0n}^{\\alpha, \\dagger} (\\boldsymbol{r}')}{| \\boldsymbol{r} - \\boldsymbol{r}' |} \\\\\n",
    "&= \\frac{1}{2} \\cdot 4 \\int_0^1 \\, \\mathrm{d} \\alpha \\iint \\, \\mathrm{d} \\boldsymbol{r}\\, \\mathrm{d} \\boldsymbol{r}' \\sum_{n} (X_{n, ia}^\\alpha + Y_{n, ia}^\\alpha) \\cdot \\sum_{ia, jb} \\frac{\\phi_i (\\boldsymbol{r}) \\phi_a (\\boldsymbol{r}) \\phi_j (\\boldsymbol{r}') \\phi_b (\\boldsymbol{r}')}{| \\boldsymbol{r} - \\boldsymbol{r}' |} \\cdot (X_{n, jb}^\\alpha + Y_{n, jb}^\\alpha) \\\\\n",
    "&= \\frac{1}{2} \\cdot 4 \\int_0^1 \\sum_{n} \\langle \\mathbf{X}_n^\\alpha, \\mathbf{Y}_n^\\alpha | \\mathbf{g} \\mathbf{I} | \\mathbf{X}_n^\\alpha, \\mathbf{Y}_n^\\alpha \\rangle \\, \\mathrm{d} \\alpha \n",
    "\\end{align}\n",
    "$$"
   ]
  },
  {
   "cell_type": "markdown",
   "metadata": {
    "hidden": true
   },
   "source": [
    "其中，我们定义了双电子张量以及分块单位矩阵\n",
    "\n",
    "$$\n",
    "g_{ia, jb} = (ia|jb), \\quad \\mathbf{I} = \\begin{pmatrix} \\mathbf{1} & \\mathbf{1} \\\\ \\mathbf{1} & \\mathbf{1} \\end{pmatrix}\n",
    "$$\n",
    "\n",
    "那么我们会写\n",
    "\n",
    "$$\n",
    "\\mathbf{g} \\mathbf{I} = \\begin{pmatrix} \\mathbf{g} & \\mathbf{g} \\\\ \\mathbf{g} & \\mathbf{g} \\end{pmatrix}\n",
    "$$\n",
    "\n",
    "以及上式的 4 倍是从两个闭壳层跃迁密度的 2 倍系数相乘获得的。"
   ]
  },
  {
   "cell_type": "markdown",
   "metadata": {
    "hidden": true
   },
   "source": [
    "对于式 (10) 的第二项同理。因此，我们可以写\n",
    "\n",
    "$$\n",
    "\\begin{equation}\n",
    "E_\\mathrm{c} [\\rho]\n",
    "= \\frac{1}{2} \\cdot 4 \\int_0^1 \\sum_{n} \\langle \\mathbf{X}_n^\\alpha, \\mathbf{Y}_n^\\alpha | \\mathbf{gI} | \\mathbf{X}_n^\\alpha, \\mathbf{Y}_n^\\alpha \\rangle \\, \\mathrm{d} \\alpha\n",
    "- \\frac{1}{2} \\cdot 4 \\sum_{n} \\langle \\mathbf{X}_n^{\\alpha=0}, \\mathbf{Y}_n^{\\alpha=0} | \\mathbf{gI} | \\mathbf{X}_n^{\\alpha=0}, \\mathbf{Y}_n^{\\alpha=0} \\rangle \\tag{14}\n",
    "\\end{equation}\n",
    "$$"
   ]
  },
  {
   "cell_type": "markdown",
   "metadata": {
    "heading_collapsed": true
   },
   "source": [
    "### TD 方程的 Hellmann-Feynman 定理应用"
   ]
  },
  {
   "cell_type": "markdown",
   "metadata": {
    "hidden": true
   },
   "source": [
    "对于上式 (14)，其第一项中的关于绝热路径参数 $\\alpha$ 的积分相对来说比较难处理。但很有意思的是，对 TD 方程应用 Hellmann-Feynman 定理求取关于 $\\alpha$ 的母函数，可以解决这个问题。\n",
    "\n",
    "$$\n",
    "\\begin{align}\n",
    "0 &= \\frac{\\mathrm{d}}{\\mathrm{d} \\alpha} \\langle \\mathbf{X}_n^\\alpha, \\mathbf{Y}_n^\\alpha | ( \\mathbf{\\Lambda}^\\alpha - \\omega_n^\\alpha \\mathbf{\\Delta} ) | \\mathbf{X}_n^\\alpha, \\mathbf{Y}_n^\\alpha \\rangle \\\\\n",
    "&= \\langle \\mathbf{X}_n^\\alpha, \\mathbf{Y}_n^\\alpha | \\frac{\\mathrm{d}}{\\mathrm{d} \\alpha} ( \\mathbf{\\Lambda}^\\alpha - \\omega_n^\\alpha \\mathbf{\\Delta} ) | \\mathbf{X}_n^\\alpha, \\mathbf{Y}_n^\\alpha \\rangle \\\\\n",
    "&= \\langle \\mathbf{X}_n^\\alpha, \\mathbf{Y}_n^\\alpha | \\frac{\\mathrm{d}}{\\mathrm{d} \\alpha} \\mathbf{\\Lambda}^\\alpha | \\mathbf{X}_n^\\alpha, \\mathbf{Y}_n^\\alpha \\rangle - \\frac{1}{2} \\frac{\\mathrm{d} \\omega_n^\\alpha}{\\mathrm{d} \\alpha}\n",
    "\\end{align}\n",
    "$$"
   ]
  },
  {
   "cell_type": "markdown",
   "metadata": {
    "hidden": true
   },
   "source": [
    "我们之前提到过，在 dRPA 相关能计算中会将 $f^{\\mathrm{xc}, \\alpha}_{ia, jb}$ 完全近似为零，因此\n",
    "\n",
    "$$\n",
    "\\frac{\\mathrm{d}}{\\mathrm{d} \\alpha} \\mathbf{\\Lambda}^\\alpha = \\frac{\\mathrm{d}}{\\mathrm{d} \\alpha} \\begin{pmatrix} \\mathbf{A}^\\alpha & \\mathbf{B}^\\alpha \\\\ \\mathbf{B}^\\alpha & \\mathbf{A}^\\alpha \\end{pmatrix} \\simeq 2 \\mathbf{g} \\begin{pmatrix} \\mathbf{1} & \\mathbf{1} \\\\ \\mathbf{1} & \\mathbf{1} \\end{pmatrix} = 2 \\mathbf{gI}\n",
    "$$"
   ]
  },
  {
   "cell_type": "markdown",
   "metadata": {
    "hidden": true
   },
   "source": [
    "因此，\n",
    "\n",
    "$$\n",
    "\\frac{\\mathrm{d} \\omega_n^\\alpha}{\\mathrm{d} \\alpha} \\simeq 4 \\langle \\mathbf{X}_n^\\alpha, \\mathbf{Y}_n^\\alpha | \\mathbf{gI} | \\mathbf{X}_n^\\alpha, \\mathbf{Y}_n^\\alpha \\rangle\n",
    "$$"
   ]
  },
  {
   "cell_type": "markdown",
   "metadata": {
    "hidden": true
   },
   "source": [
    "基于上述推导，我们可以将式 (14) 的相关能再写作\n",
    "\n",
    "$$\n",
    "\\begin{align}\n",
    "E_\\mathrm{c} [\\rho]\n",
    "&\\simeq \\frac{1}{2} \\int_0^1 \\sum_{n} \\frac{\\mathrm{d} \\omega_n^\\alpha}{\\mathrm{d} \\alpha} \\, \\mathrm{d} \\alpha - \\frac{1}{2} \\cdot 4 \\sum_{n} \\langle \\mathbf{X}_n^{\\alpha=0}, \\mathbf{Y}_n^{\\alpha=0} | \\mathbf{gI} | \\mathbf{X}_n^{\\alpha=0}, \\mathbf{Y}_n^{\\alpha=0} \\rangle \\\\\n",
    "&= \\frac{1}{2} \\left( \\sum_{n} \\omega_n^{\\alpha = 1} - \\sum_{n} \\omega_n^{\\alpha = 0} \\right) - \\frac{1}{2} \\cdot 4 \\sum_{n} \\langle \\mathbf{X}_n^{\\alpha=0}, \\mathbf{Y}_n^{\\alpha=0} | \\mathbf{gI} | \\mathbf{X}_n^{\\alpha=0}, \\mathbf{Y}_n^{\\alpha=0} \\rangle \\tag{15}\n",
    "\\end{align}\n",
    "$$"
   ]
  },
  {
   "cell_type": "markdown",
   "metadata": {
    "hidden": true
   },
   "source": [
    "上式的 $\\alpha = 1$ 的情形对应的即是 PySCF 的 dRPA 方法，这在前文中已经作了足够多描述了。而事实上，上式中所有 $\\alpha = 0$ 部分的贡献之和的相反数恰好是 PySCF 的 dTDA 方法对应的激发频率之和。我们马上说明这个问题。"
   ]
  },
  {
   "cell_type": "markdown",
   "metadata": {
    "heading_collapsed": true
   },
   "source": [
    "### 绝热路径 $\\alpha = 0$ 贡献与 dTDA 激发频率的关系"
   ]
  },
  {
   "cell_type": "markdown",
   "metadata": {
    "hidden": true
   },
   "source": [
    "式 (15) 所表达的相关能从表达上，显然可以简化为\n",
    "\n",
    "$$\n",
    "E_\\mathrm{c} [\\rho] \\simeq \\frac{1}{2} \\left( \\sum_{n} \\omega_n^{\\alpha = 1} - \\sum_{n} \\omega_n^{\\alpha = 0} \\right) - \\frac{1}{2} \\sum_{n} \\frac{\\mathrm{d} \\omega_n^{\\alpha = 0}}{\\mathrm{d} \\alpha}\n",
    "$$"
   ]
  },
  {
   "cell_type": "markdown",
   "metadata": {
    "hidden": true
   },
   "source": [
    "但我们刻意没有使用该式。我们知道，对于 $\\omega_n^{\\alpha = 1}, \\omega_n^{\\alpha = 0}$，是可以用类 TD-KS 方程求解的，并且我们将 $f_{ia, jb}^{\\mathrm{xc}, \\alpha}$ 近似为零，因此相当于是已知量了。但 $\\mathrm{d} \\omega_n^{\\alpha = 0} / \\mathrm{d} \\alpha$ 表现的是一种随着 $\\alpha$ 值变化的趋势；我们对 $\\alpha$ 固定的情况可以有充分的了解，但其变化我们很难把握。事实上，之前的公式都是在尽力避免出现可变的 $\\alpha$ 值，而尽量将 $\\alpha$ 变为 0 或 1。因此，我们之后的尝试不应是对表现 $\\alpha$ 趋势的 $\\mathrm{d} \\omega_n^{\\alpha = 0} / \\mathrm{d} \\alpha$ 作讨论，而是对固定了 $\\alpha = 0$ 的 $\\langle \\mathbf{X}_n^{\\alpha=0}, \\mathbf{Y}_n^{\\alpha=0} | \\mathbf{g} | \\mathbf{X}_n^{\\alpha=0}, \\mathbf{Y}_n^{\\alpha=0} \\rangle$ 作讨论。"
   ]
  },
  {
   "cell_type": "markdown",
   "metadata": {
    "hidden": true
   },
   "source": [
    "我们首先考察 $\\alpha = 0$ 的 A、B 张量：\n",
    "\n",
    "$$\n",
    "A_{ia, jb}^{\\alpha = 0} = - (\\varepsilon_i - \\varepsilon_a) \\delta_{ij} \\delta_{ab}, \\quad B_{ia, jb}^\\alpha = 0\n",
    "$$"
   ]
  },
  {
   "cell_type": "markdown",
   "metadata": {
    "hidden": true
   },
   "source": [
    "对于有限基组，$n$ 作为激发态的角标，其维度是 $n_\\mathrm{occ} n_\\mathrm{vir}$；并且事实上，该角标在 $\\alpha = 0$ 是确实地可以与 $ia$ 角标作对应；我们应当很容易地定义并推知，\n",
    "\n",
    "$$\n",
    "\\omega_{ia}^{\\alpha = 0} = - (\\varepsilon_i - \\varepsilon_a)\n",
    "$$\n",
    "\n",
    "就等价于轨道能的差减。其本征函数也是非常容易推知的：\n",
    "\n",
    "$$\n",
    "X_{jb, ia}^{\\alpha = 0} = \\frac{1}{\\sqrt{2}} \\delta_{ij} \\delta_{ab}, \\quad Y_{jb, ia}^{\\alpha = 0} = 0\n",
    "$$"
   ]
  },
  {
   "cell_type": "markdown",
   "metadata": {
    "hidden": true
   },
   "source": [
    "上式的 $1/\\sqrt{2}$ 的意义在于满足归一化条件 $\\langle \\mathbf{X}_n^{\\alpha = 0}, \\mathbf{Y}_n^{\\alpha = 0} | \\mathbf{\\Delta} | \\mathbf{X}_n^{\\alpha = 0}, \\mathbf{Y}_n^{\\alpha = 0} \\rangle = 1 / 2$。因此，\n",
    "\n",
    "$$\n",
    "\\begin{align}\n",
    "&\\quad 4 \\sum_{n} \\langle \\mathbf{X}_n^{\\alpha=0}, \\mathbf{Y}_n^{\\alpha=0} | \\mathbf{gI} | \\mathbf{X}_n^{\\alpha=0}, \\mathbf{Y}_n^{\\alpha=0} \\rangle \\\\\n",
    "&= 4 \\sum_{ia, jb, n=kc} (X_{kc, ia}^{\\alpha = 0} + Y_{kc, ia}^{\\alpha = 0}) (ia|jb) (X_{kc, jb}^{\\alpha = 0} + Y_{kc, jb}^{\\alpha = 0}) \\\\\n",
    "&= 2 \\sum_{ia, jb, kc} \\delta_{ki} \\delta_{ca} (ia|jb) \\delta_{kj} \\delta_{cb} = 2 \\sum_{kc} (kc|kc) \\\\\n",
    "&= 2 \\sum_{ia} (ia|ia)\n",
    "\\end{align}\n",
    "$$"
   ]
  },
  {
   "cell_type": "markdown",
   "metadata": {
    "hidden": true
   },
   "source": [
    "因此，\n",
    "\n",
    "$$\n",
    "\\sum_{n \\neq 0} \\big( \\omega_n^{\\alpha = 0} + 4 \\langle \\mathbf{X}_n^{\\alpha=0}, \\mathbf{Y}_n^{\\alpha=0} | \\mathbf{gI} | \\mathbf{X}_n^{\\alpha=0}, \\mathbf{Y}_n^{\\alpha=0} \\rangle \\big) = \\sum_{ia} \\big( - (\\varepsilon_i - \\varepsilon_a) + 2 (ia|ia) \\big)\n",
    "$$"
   ]
  },
  {
   "cell_type": "markdown",
   "metadata": {
    "hidden": true
   },
   "source": [
    "我们再回顾一下 dTDA 激发能的公式：\n",
    "\n",
    "$$\n",
    "\\sum_n \\omega^\\mathsf{dTDA}_n = \\mathrm{tr} (\\mathbf{A}^\\mathsf{dTDA})\n",
    "$$"
   ]
  },
  {
   "cell_type": "markdown",
   "metadata": {
    "hidden": true
   },
   "source": [
    "而 $A_{ia, jb}^\\mathsf{dTDA} = - (\\varepsilon_i - \\varepsilon_a) \\delta_{ij} \\delta_{ab} + 2 (ia|jb)$，因此其迹恰好就有\n",
    "\n",
    "$$\n",
    "\\sum_{n \\neq 0} \\big( \\omega_n^{\\alpha = 0} + 4 \\langle \\mathbf{X}_n^{\\alpha=0}, \\mathbf{Y}_n^{\\alpha=0} | \\mathbf{gI} | \\mathbf{X}_n^{\\alpha=0}, \\mathbf{Y}_n^{\\alpha=0} \\rangle \\big) = \\mathrm{tr} (\\mathbf{A}^\\mathsf{dTDA}) = \\sum_n \\omega^\\mathsf{dTDA}_n\n",
    "$$"
   ]
  },
  {
   "cell_type": "markdown",
   "metadata": {
    "hidden": true
   },
   "source": [
    "而我们又陈述过 $\\omega_n^\\alpha = \\omega_n^\\mathsf{dRPA}$，因此式 (15) 所表达的相关能则可以写为\n",
    "\n",
    "$$\n",
    "E_\\mathrm{c} [\\rho] = \\frac{1}{2} \\sum_{n} ( \\omega_n^\\mathsf{dRPA} - \\omega_n^\\mathsf{dTDA} )\n",
    "$$"
   ]
  },
  {
   "cell_type": "markdown",
   "metadata": {
    "hidden": true
   },
   "source": [
    "事实上，上述推导过程并没有真正地用到 dTDA 激发近似的原理和思路，只是结论上恰好一致而已。真正用到的近似是 dRPA 激发近似，即将 $f_{ia, jb}^{\\mathrm{xc}, \\alpha}$ 近似为零。\n",
    "\n",
    "至此，从类 TD-KS 方程角度出发解释的相关能推导，就已经全部完成了。"
   ]
  },
  {
   "cell_type": "markdown",
   "metadata": {},
   "source": [
    "## 程序实现：$O(N^4)$ 的 RI 方法"
   ]
  },
  {
   "cell_type": "markdown",
   "metadata": {},
   "source": [
    "关于该方法的程序实现，主要是参考 <cite data-cite=\"Ren-Scheffler.NJP.2012.14\">Ren NJP 2012</cite> 的文献。但该文献中的一些公式的表达不太友好，也有部分公式错误，阅读时可能需要留些心眼。"
   ]
  },
  {
   "cell_type": "markdown",
   "metadata": {
    "heading_collapsed": true
   },
   "source": [
    "### 拓展的 Gauss-Legendre 格点"
   ]
  },
  {
   "cell_type": "markdown",
   "metadata": {
    "hidden": true
   },
   "source": [
    "关于该 RI 的实现，我们需要先对格点积分作了解。在这里我们采用 Gauss-Legendre 格点。\n",
    "\n",
    "Gauss-Legendre 格点的使用区间是 $(-1, 1)$。如果我们定义格点下标是 $g$，以及坐标是 $x_g$ 与对应的权重 $w_g$，那么连续积分可以近似为格点积分\n",
    "\n",
    "$$\n",
    "\\int_{-1}^1 f(x) \\, \\mathrm{d} x \\simeq \\sum_g w_g f(x_g)\n",
    "$$"
   ]
  },
  {
   "cell_type": "markdown",
   "metadata": {
    "hidden": true
   },
   "source": [
    "Gauss-Legendre 格点坐标 `x` 与权重 `w` 在 numpy 中可以通过如下方式生成 (定义格点数量为 `ngrid` $n_\\mathrm{grid} = 100$)："
   ]
  },
  {
   "cell_type": "code",
   "execution_count": 31,
   "metadata": {
    "hidden": true
   },
   "outputs": [],
   "source": [
    "ngrid = 100\n",
    "x, w = np.polynomial.legendre.leggauss(ngrid)"
   ]
  },
  {
   "cell_type": "markdown",
   "metadata": {
    "hidden": true
   },
   "source": [
    "我们可以拿 $f(x) = x^2$ 作尝试。其在 $(-1, 1)$ 区间中的积分值应为 $2/3$："
   ]
  },
  {
   "cell_type": "code",
   "execution_count": 32,
   "metadata": {
    "hidden": true
   },
   "outputs": [
    {
     "data": {
      "text/plain": [
       "0.6666666666666605"
      ]
     },
     "execution_count": 32,
     "metadata": {},
     "output_type": "execute_result"
    }
   ],
   "source": [
    "f = lambda x: x**2\n",
    "(w * f(x)).sum()"
   ]
  },
  {
   "cell_type": "markdown",
   "metadata": {
    "hidden": true
   },
   "source": [
    "但我们实际需要处理的格点是 $(0, +\\infty)$ 的区间。为此，我们需要对格点作一些变动。首先我们作映射 $h: (-1, 1) \\mapsto (0, +\\infty)$\n",
    "\n",
    "$$\n",
    "\\tilde \\omega = h(x) = \\frac{1}{2} \\frac{1 + x}{1 - x}\n",
    "$$"
   ]
  },
  {
   "cell_type": "markdown",
   "metadata": {
    "hidden": true
   },
   "source": [
    "那么原先的积分就可以写为\n",
    "\n",
    "$$\n",
    "\\int_0^{+\\infty} f(\\tilde \\omega) \\, \\mathrm{d} \\tilde \\omega = \\int_{-1}^1 f(\\tilde \\omega) h'(x) \\, \\mathrm{d} x \\simeq \\sum_g h'(x_g) w_g f(\\tilde \\omega_g)\n",
    "$$"
   ]
  },
  {
   "cell_type": "markdown",
   "metadata": {
    "hidden": true
   },
   "source": [
    "我们就随后定义作映射后的坐标格点 `ot` $\\tilde \\omega_g$ 与权重格点 `wt` $\\tilde w_g$。其定义很容易从上两式推知：\n",
    "\n",
    "$$\n",
    "\\tilde \\omega_g = \\frac{1}{2} \\frac{1 + x_g}{1 - x_g}, \\quad \\tilde w_g = h'(x_g) w_g = \\frac{w_g}{{1 - x_g}^2}\n",
    "$$"
   ]
  },
  {
   "cell_type": "code",
   "execution_count": 33,
   "metadata": {
    "hidden": true
   },
   "outputs": [],
   "source": [
    "ot = 0.5 * (1 + x) / (1 - x)\n",
    "wt = w / (1 - x)**2"
   ]
  },
  {
   "cell_type": "markdown",
   "metadata": {
    "hidden": true
   },
   "source": [
    "我们可以拿 $f(\\tilde \\omega) = \\exp(- \\tilde \\omega^2)$ 作尝试。其在 $(0, +\\infty)$ 区间中的积分值应为 $\\sqrt{\\pi} / 2$："
   ]
  },
  {
   "cell_type": "code",
   "execution_count": 34,
   "metadata": {
    "hidden": true
   },
   "outputs": [
    {
     "data": {
      "text/plain": [
       "0.8862269254527606"
      ]
     },
     "execution_count": 34,
     "metadata": {},
     "output_type": "execute_result"
    }
   ],
   "source": [
    "f = lambda x : np.exp(-x**2)\n",
    "(wt * f(ot)).sum()"
   ]
  },
  {
   "cell_type": "code",
   "execution_count": 35,
   "metadata": {
    "hidden": true
   },
   "outputs": [
    {
     "data": {
      "text/plain": [
       "0.8862269254527579"
      ]
     },
     "execution_count": 35,
     "metadata": {},
     "output_type": "execute_result"
    }
   ],
   "source": [
    "np.sqrt(np.pi) / 2"
   ]
  },
  {
   "cell_type": "markdown",
   "metadata": {
    "hidden": true
   },
   "source": [
    "以后的积分中，会使用到上述经过拓展的 Gauss-Legendre 格点坐标 $\\tilde \\omega_g$ 与权重 $\\tilde w_g$ 组成的数值导数。"
   ]
  },
  {
   "cell_type": "markdown",
   "metadata": {
    "heading_collapsed": true
   },
   "source": [
    "### 程序实现"
   ]
  },
  {
   "cell_type": "markdown",
   "metadata": {
    "hidden": true
   },
   "source": [
    "我们首先要给出 DF (Density Fitting) 下的原子轨道与分子轨道积分。这里用的是与 [Density Fitting MP2](../DF_Series/DF_MP2.ipynb#ERI-积分转换) 比较相似的记号与变量名。\n",
    "\n",
    "- `int2c2e` $\\displaystyle J_{PQ} = (P|r_{12}^{-1}|Q) = \\iint \\frac{\\chi_P (\\boldsymbol{r}) \\chi_Q (\\boldsymbol{r}')}{| \\boldsymbol{r} - \\boldsymbol{r}' |} \\, \\mathrm{d} \\boldsymbol{r} \\, \\mathrm{d} \\boldsymbol{r}'$\n",
    "\n",
    "- `int3c2e` $\\displaystyle (\\mu \\nu | P) = \\iint \\frac{\\phi_\\mu (\\boldsymbol{r}) \\phi_\\nu (\\boldsymbol{r}) \\chi_Q (\\boldsymbol{r}')}{| \\boldsymbol{r} - \\boldsymbol{r}' |} \\, \\mathrm{d} \\boldsymbol{r} \\, \\mathrm{d} \\boldsymbol{r}'$\n",
    "\n",
    "- `int2c2e_half` $\\mathbf{J}^{1/2}$；分数幂次的定义可以具有多种，这里的定义是通过 Cholesky 分解得到的下三角矩阵，满足性质 $\\mathbf{J}^{1/2} (\\mathbf{J}^{1/2})^\\dagger = \\mathbf{J}$\n",
    "\n",
    "- `V_df_mp2` $V_{\\mu \\nu, P} = \\sum_Q (\\mu \\nu | Q) (\\mathbf{J}^{-1/2})_{QP}$\n",
    "\n",
    "- `V_df_ia` $V_{ia, P} = \\sum_{\\mu \\nu} V_{\\mu \\nu, Q} C_{\\mu i} C_{\\nu a}$"
   ]
  },
  {
   "cell_type": "code",
   "execution_count": 36,
   "metadata": {
    "hidden": true
   },
   "outputs": [],
   "source": [
    "int2c2e = mol_df.intor(\"int2c2e\")\n",
    "int2c2e.shape\n",
    "int3c2e = df.incore.aux_e2(mol, mol_df)\n",
    "int2c2e_half = scipy.linalg.cholesky(int2c2e, lower=True)\n",
    "V_df_mp2 = scipy.linalg.solve_triangular(int2c2e_half, int3c2e.reshape(-1, naux).T, lower=True).reshape(naux, nao, nao).transpose((1, 2, 0))\n",
    "V_df_ia = np.einsum(\"uvP, ui, va -> iaP\", V_df_mp2, Co, Cv)"
   ]
  },
  {
   "cell_type": "markdown",
   "metadata": {
    "hidden": true
   },
   "source": [
    "其中，积分 `V_df_ia` $V_{ia,P}$ 具有比较容易验证的下述性质：\n",
    "\n",
    "$$\n",
    "\\sum_{P} V_{ia,P} V_{jb,P} \\simeq (ia|jb)\n",
    "$$\n",
    "\n",
    "由于格点求和与 RI 的近似是一种数值上的近似，其大小预期不会很大；因此我们自此以后对这些情况都会直接用等号而非近似等号。\n",
    "\n",
    "上述积分中，求取计算复杂度最大的应是 $V_{\\mu \\nu, P}$ 一项 ($O(T n_\\mathrm{AO}^2 n_\\mathrm{aux}^2)$，其中 $T$ 表示的是方程求解的迭代次数，体系较小时可以看作常数)。"
   ]
  },
  {
   "cell_type": "markdown",
   "metadata": {
    "hidden": true
   },
   "source": [
    "随后我们定义函数 `Pi` $\\Pi_{PQ} (\\tilde \\omega)$ (输出矩阵维度为 $(P, Q)$)\n",
    "\n",
    "$$\n",
    "\\Pi_{PQ} (\\tilde \\omega) = - \\sum_{ia} \\frac{4 V_{ia, P} V_{ia, Q} D_{ia}}{(D_{ia})^2 + \\tilde \\omega^2}\n",
    "$$\n",
    "\n",
    "其中，`D_ia` $D_{ia} = - \\varepsilon_i + \\varepsilon_a$，对应的是 $\\alpha = 0$ 时的激发能。注意该记号不是密度矩阵记号。处于方便，我们同时定义 `D` $D_{ia, jb} = D_{ia} \\delta_{ij} \\delta_{ab}$，以后表示为矩阵的粗体 $\\mathbf{D}$ 一般指代以 $D_{ia, jb}$ 为矩阵元的矩阵。"
   ]
  },
  {
   "cell_type": "code",
   "execution_count": 37,
   "metadata": {
    "hidden": true
   },
   "outputs": [],
   "source": [
    "D_ia = - eo[:, None] + ev[None, :]\n",
    "D = D_ia.flatten() * np.eye(nocc*nvir)"
   ]
  },
  {
   "cell_type": "markdown",
   "metadata": {
    "hidden": true
   },
   "source": [
    "我们也定义变量 `V` $V_{ia, P}$ 为两维度 $(ia, P)$："
   ]
  },
  {
   "cell_type": "code",
   "execution_count": 38,
   "metadata": {
    "hidden": true
   },
   "outputs": [],
   "source": [
    "V = V_df_ia.reshape(nocc*nvir, naux)"
   ]
  },
  {
   "cell_type": "markdown",
   "metadata": {
    "hidden": true
   },
   "source": [
    "那么 `Pi` $\\Pi_{PQ} (\\tilde \\omega)$ 的函数就可以定义为 (注意到 $\\mathbf{D}$ 是对角阵，因此矩阵逆等价于元素倒数)：\n",
    "\n",
    "$$\n",
    "\\begin{equation}\n",
    "\\mathbf{\\Pi} (\\tilde \\omega) = - 4 \\mathbf{V}^\\dagger \\mathbf{D}^{1/2} (\\mathbf{D} + \\tilde \\omega^2 \\mathbf{I})^{-1} \\mathbf{D}^{1/2} \\mathbf{V} \\tag{16}\n",
    "\\end{equation}\n",
    "$$"
   ]
  },
  {
   "cell_type": "code",
   "execution_count": 39,
   "metadata": {
    "hidden": true
   },
   "outputs": [],
   "source": [
    "Pi = lambda omega: - 4 * V.T @ D**0.5 @ (np.eye(nocc*nvir) / (D**2 + omega**2)) @ D**0.5 @ V"
   ]
  },
  {
   "cell_type": "markdown",
   "metadata": {
    "hidden": true
   },
   "source": [
    "上述计算的复杂度为 $O(n_\\mathrm{occ} n_\\mathrm{vir} n_\\mathrm{aux}^2)$；由于后续还有格点积分，因此该方法的总复杂度应为 $O(n_\\mathrm{grid} n_\\mathrm{occ} n_\\mathrm{vir} n_\\mathrm{aux}^2)$。但若我们将格点大小看作常量，那么该方法的计算量相当于是代价稍大的 $O(N^4)$。"
   ]
  },
  {
   "cell_type": "markdown",
   "metadata": {
    "hidden": true
   },
   "source": [
    "dRPA 相关能可以用下述方式给出 (Ren, NJP, eq 60)：\n",
    "\n",
    "$$\n",
    "\\begin{align}\n",
    "E_\\mathrm{c}^\\mathsf{dRPA} [\\rho]\n",
    "&= \\frac{1}{2 \\pi} \\int_{0}^{+ \\infty} \\big( \\log \\det \\big( \\mathbf{1} - \\mathbf{\\Pi} (\\tilde \\omega) \\big) + \\mathrm{tr} \\big( \\mathbf{\\Pi} (\\tilde \\omega) \\big) \\big) \\, \\mathrm{d} \\tilde \\omega \\\\\n",
    "&= \\frac{1}{2 \\pi} \\sum_{g} \\tilde w_g \\big( \\log \\det \\big( \\mathbf{1} - \\mathbf{\\Pi} (\\tilde \\omega_g) \\big) + \\mathrm{tr} \\big( \\mathbf{\\Pi} (\\tilde \\omega_g) \\big) \\big)\n",
    "\\end{align}\n",
    "$$"
   ]
  },
  {
   "cell_type": "code",
   "execution_count": 40,
   "metadata": {
    "hidden": true
   },
   "outputs": [
    {
     "data": {
      "text/plain": [
       "-0.4312694046712164"
      ]
     },
     "execution_count": 40,
     "metadata": {},
     "output_type": "execute_result"
    }
   ],
   "source": [
    "eng_dRPA_RI = 0\n",
    "for omega, weight in zip(ot, wt):\n",
    "    eng_dRPA_RI += 1 / (2 * np.pi) * weight * (np.log(np.linalg.det(np.eye(naux) - Pi(omega))) + Pi(omega).trace())\n",
    "eng_dRPA_RI"
   ]
  },
  {
   "cell_type": "markdown",
   "metadata": {
    "hidden": true
   },
   "source": [
    "这是非常有意思的结论。我们不妨对照一下 $O(N^6)$ 的计算式 (5)，只是用 $\\alpha = 1$ 替换了方法上标：\n",
    "\n",
    "$$\n",
    "E^\\mathsf{dRPA}_\\mathrm{c} = \\frac{1}{2} \\mathrm{tr} \\big( ((\\mathbf{A}^{\\alpha = 1} - \\mathbf{B}^{\\alpha = 1}) (\\mathbf{A}^{\\alpha = 1} + \\mathbf{B}^{\\alpha = 1}))^{1/2} - \\mathbf{A}^{\\alpha = 1} \\big)\n",
    "$$"
   ]
  },
  {
   "cell_type": "code",
   "execution_count": 41,
   "metadata": {
    "hidden": true,
    "scrolled": true
   },
   "outputs": [
    {
     "data": {
      "text/plain": [
       "-0.43137922116708344"
      ]
     },
     "execution_count": 41,
     "metadata": {},
     "output_type": "execute_result"
    }
   ],
   "source": [
    "0.5 * (fractional_matrix_power((A(1) - B(1)) @ (A(1) + B(1)), 0.5) - A(1)).trace()"
   ]
  },
  {
   "cell_type": "markdown",
   "metadata": {
    "hidden": true
   },
   "source": [
    "这两个值非常接近；只是 RI 与格点积分上有数值上的误差，其中 RI 的误差应当认为要更大；但从公式的表达上，相差可谓巨大。事实上，如果我们定义下述 RI 近似下的 $\\mathbf{A}^{\\alpha = 1}$ 与 $\\mathbf{B}^{\\alpha = 1}$，这两种方法之间的值近乎于是一致的 (误差小于 $10^{-9}$)，即从数学的表达上，两种计算方法严格等价而非近似相等。"
   ]
  },
  {
   "cell_type": "code",
   "execution_count": 42,
   "metadata": {
    "hidden": true
   },
   "outputs": [
    {
     "data": {
      "text/plain": [
       "-0.4312694046826844"
      ]
     },
     "execution_count": 42,
     "metadata": {},
     "output_type": "execute_result"
    }
   ],
   "source": [
    "A_RI = D + 2 * V @ V.T\n",
    "B_RI = 2 * V @ V.T\n",
    "0.5 * np.trace(fractional_matrix_power((A_RI - B_RI) @ (A_RI + B_RI), 0.5) - A_RI)"
   ]
  },
  {
   "cell_type": "markdown",
   "metadata": {},
   "source": [
    "## 数学说明：RI 方法与直接方法等价"
   ]
  },
  {
   "cell_type": "markdown",
   "metadata": {},
   "source": [
    "如果我们用涨落耗散理论 (FDT, Fluctuation Dissipation Theorem)，那么或许会很容易地导出 $E_\\mathrm{c}^\\mathsf{dRPA} [\\rho]$ 关于拟频率 $\\tilde \\omega$ 的积分表达式 (之所以称为拟频率，是因为它本身未必具有真实的物理意义)。我们之后也会提到涨落耗散理论的推导方式，它与类 TD-KS 方程一样，都是将 $f_{ia, jb}^\\mathrm{xc}$ 完全近似为零；但严格的等价性未必容易证明。\n",
    "\n",
    "这里用数学的方式，对这两种不同途径的等价性作较为严格的证明。"
   ]
  },
  {
   "cell_type": "markdown",
   "metadata": {
    "heading_collapsed": true
   },
   "source": [
    "### 背景知识：矩阵函数"
   ]
  },
  {
   "cell_type": "markdown",
   "metadata": {
    "hidden": true
   },
   "source": [
    "我们需要一些加深的矩阵代数知识。首先我们要对矩阵函数进行考察。但不像数学的推导，我们会大幅地以当前的问题来限制讨论的范畴，譬如要求一些变量具有对称实方形矩阵、只处理复函数的一个单值支、函数具有大体全纯的性质等等。\n",
    "\n",
    "若有函数 $f : \\mathbb{C} \\mapsto \\mathbb{C}$，那么定义 $f(\\mathbf{S})$ 为方形矩阵到其相同维度矩阵的映射：\n",
    "\n",
    "$$\n",
    "f(\\mathbf{S}) = \\mathbf{F} f(\\mathbf{\\Lambda}) \\mathbf{F}^\\dagger\n",
    "$$"
   ]
  },
  {
   "cell_type": "markdown",
   "metadata": {
    "hidden": true
   },
   "source": [
    "其中，$\\mathbf{S}$ 为对称方形矩阵，$\\mathbf{\\Lambda}$ 为 $\\mathbf{S}$ 的本征值为对角元的对角矩阵，$\\lambda_i$ 表示其本征值，$\\mathbf{F}$ 为其对应的本征向量的列并矩阵；对于对角矩阵 $\\mathbf{\\Lambda}$，其矩阵函数定义为 (这里的 $i$ 仅仅是任意角标的意义，与占据轨道暂时无关)\n",
    "\n",
    "$$\n",
    "f(\\mathbf{\\Lambda})_{ii} = f(\\lambda_{i})\n",
    "$$\n",
    "\n",
    "上式左边是矩阵函数，右边则是复函数。"
   ]
  },
  {
   "cell_type": "markdown",
   "metadata": {
    "hidden": true
   },
   "source": [
    "一个容易证明的性质，是矩阵函数与复函数在级数展开上具有近乎相同的形式。如果复函数具有展开式 (Taylor)\n",
    "\n",
    "$$\n",
    "f(z) = \\sum_{n = 0}^\\infty \\frac{a_n}{n!} z^n\n",
    "$$"
   ]
  },
  {
   "cell_type": "markdown",
   "metadata": {
    "hidden": true
   },
   "source": [
    "那么就有\n",
    "\n",
    "$$\n",
    "f(\\mathbf{\\Lambda})_{ii} = f(\\lambda_i) = \\sum_{n = 0}^\\infty \\frac{a_n}{n!} \\lambda_i^n = \\sum_{n = 0}^\\infty \\frac{a_n}{n!} (\\mathbf{\\Lambda}^n)_{ii} = \\left( \\sum_{n = 0}^\\infty \\frac{a_n}{n!} \\mathbf{\\Lambda}^n \\right)_{ii}\n",
    "$$\n",
    "\n",
    "即\n",
    "\n",
    "$$\n",
    "\\quad f(\\mathbf{\\Lambda}) = \\sum_{n = 0}^\\infty \\frac{a_n}{n!} \\mathbf{\\Lambda}^n\n",
    "$$"
   ]
  },
  {
   "cell_type": "markdown",
   "metadata": {
    "hidden": true
   },
   "source": [
    "从而，任意对称方形矩阵下，\n",
    "\n",
    "$$\n",
    "f(\\mathbf{S}) = \\mathbf{F} f(\\mathbf{\\Lambda}) \\mathbf{F}^\\dagger\n",
    "= \\sum_{n = 0}^\\infty \\frac{a_n}{n!} \\mathbf{F} \\mathbf{\\Lambda}^n \\mathbf{F}^\\dagger\n",
    "= \\sum_{n = 0}^\\infty \\frac{a_n}{n!} (\\mathbf{F} \\mathbf{\\Lambda} \\mathbf{F}^\\dagger)^n\n",
    "= \\sum_{n = 0}^\\infty \\frac{a_n}{n!} \\mathbf{S}^n\n",
    "$$"
   ]
  },
  {
   "cell_type": "markdown",
   "metadata": {
    "hidden": true
   },
   "source": [
    "尽管若使用级数展开形式定义矩阵函数会更加直观，但由于收敛域，有许多函数是无法通过 Taylor 展开式在全复平面定义，譬如 $1 / (1 - z)$ 或 $\\log (1 - z)$ (它们的收敛域都是 $U(0, 1)$ 即以 $0$ 为圆心，$1$ 为半径的区域)。在后续的推导中，我们也会利用到这些函数；因此，我们不能用普通的 Taylor 级数来定义矩阵函数。"
   ]
  },
  {
   "cell_type": "markdown",
   "metadata": {
    "hidden": true
   },
   "source": [
    "下面我们举一个实际的例子。我们令 `S` $\\mathbf{S}$ 为对称矩阵，其本征向量列并矩阵为 `F` $\\mathbf{F}$，本征值为 `eig` $\\mathbf{\\lambda}$："
   ]
  },
  {
   "cell_type": "code",
   "execution_count": 43,
   "metadata": {
    "hidden": true
   },
   "outputs": [
    {
     "data": {
      "text/plain": [
       "array([[ 3.5281 , -0.57712,  1.12278,  2.57457, -0.68543],\n",
       "       [-0.57712,  1.90018,  1.30292,  1.39086,  1.06422],\n",
       "       [ 1.12278,  1.30292,  1.52208, -0.08348,  1.3083 ],\n",
       "       [ 2.57457,  1.39086, -0.08348,  0.62614, -1.59626],\n",
       "       [-0.68543,  1.06422,  1.3083 , -1.59626,  4.53951]])"
      ]
     },
     "execution_count": 43,
     "metadata": {},
     "output_type": "execute_result"
    }
   ],
   "source": [
    "S = X + X.T\n",
    "S"
   ]
  },
  {
   "cell_type": "code",
   "execution_count": 44,
   "metadata": {
    "hidden": true
   },
   "outputs": [
    {
     "data": {
      "text/plain": [
       "array([-2.04798,  0.5282 ,  2.32882,  4.94627,  6.36069])"
      ]
     },
     "execution_count": 44,
     "metadata": {},
     "output_type": "execute_result"
    }
   ],
   "source": [
    "eig, F = np.linalg.eigh(S)\n",
    "eig"
   ]
  },
  {
   "cell_type": "markdown",
   "metadata": {
    "hidden": true
   },
   "source": [
    "我们注意到其中一个本征值为负值。现在我们希望求取 $\\log (\\mathbf{S})$。这里的 $\\log$ 是自然对数；矩阵的自然对数可以通过 `scipy.linalg.logm` 实现："
   ]
  },
  {
   "cell_type": "code",
   "execution_count": 45,
   "metadata": {
    "hidden": true
   },
   "outputs": [
    {
     "data": {
      "text/plain": [
       "array([[ 1.3316 +0.54623j,  0.03852+0.58344j,  0.30552-0.33227j,  0.32127-0.96179j, -0.25551-0.20449j],\n",
       "       [ 0.03852+0.58344j,  0.91848+0.62318j,  0.3704 -0.35491j, -0.01582-1.02731j,  0.15069-0.21842j],\n",
       "       [ 0.30552-0.33227j,  0.3704 -0.35491j,  0.0302 +0.20212j,  0.48283+0.58506j,  0.7177 +0.12439j],\n",
       "       [ 0.32127-0.96179j, -0.01582-1.02731j,  0.48283+0.58506j,  0.8125 +1.69351j, -0.42136+0.36006j],\n",
       "       [-0.25551-0.20449j,  0.15069-0.21842j,  0.7177 +0.12439j, -0.42136+0.36006j,  1.27993+0.07655j]])"
      ]
     },
     "execution_count": 45,
     "metadata": {},
     "output_type": "execute_result"
    }
   ],
   "source": [
    "scipy.linalg.logm(S)"
   ]
  },
  {
   "cell_type": "markdown",
   "metadata": {
    "hidden": true
   },
   "source": [
    "可以看出这是一个复数矩阵。如果我们定义 $\\log$ 函数为 (该定义可以通过 `np.lib.scimath.log` 实现)\n",
    "\n",
    "$$\n",
    "\\log (z) = \\log(r) + i \\theta\n",
    "$$\n",
    "\n",
    "其中，$z = r e^{i \\theta}$，$r$, $\\theta$ 分别是复数 $z$ 的模与幅角，$\\theta \\in (-\\pi, \\pi]$。"
   ]
  },
  {
   "cell_type": "code",
   "execution_count": 46,
   "metadata": {
    "hidden": true
   },
   "outputs": [
    {
     "data": {
      "text/plain": [
       "array([ 0.71685+3.14159j, -0.63828+0.j     ,  0.84536+0.j     ,  1.59863+0.j     ,  1.85014+0.j     ])"
      ]
     },
     "execution_count": 46,
     "metadata": {},
     "output_type": "execute_result"
    }
   ],
   "source": [
    "np.lib.scimath.log(eig)"
   ]
  },
  {
   "cell_type": "markdown",
   "metadata": {
    "hidden": true
   },
   "source": [
    "那么我们通过 $\\log (\\mathbf{S}) = \\mathbf{F} \\log (\\mathbf{\\Lambda}) \\mathbf{F}^\\dagger$ 就可以给出任意实对称矩阵的对数了。"
   ]
  },
  {
   "cell_type": "code",
   "execution_count": 47,
   "metadata": {
    "hidden": true
   },
   "outputs": [
    {
     "data": {
      "text/plain": [
       "True"
      ]
     },
     "execution_count": 47,
     "metadata": {},
     "output_type": "execute_result"
    }
   ],
   "source": [
    "np.allclose(\n",
    "    F @ np.diag(np.lib.scimath.log(eig)) @ F.T,\n",
    "    scipy.linalg.logm(S)\n",
    ")"
   ]
  },
  {
   "cell_type": "markdown",
   "metadata": {
    "hidden": true
   },
   "source": [
    "最后指出，对于非对称的方形矩阵，可以使用 Jordan 标准型来定义。因此，对于任意复数的矩阵 $\\mathbf{S} \\in \\mathbb{C}^{n \\times n}$，其函数矩阵一般总是可以被定义。当然，我们之后还是讨论对称实方形矩阵的情况。"
   ]
  },
  {
   "cell_type": "markdown",
   "metadata": {
    "heading_collapsed": true
   },
   "source": [
    "### 矩阵函数性质：对数迹与行列式的关系"
   ]
  },
  {
   "cell_type": "markdown",
   "metadata": {
    "hidden": true
   },
   "source": [
    "我们接下来陈述一个结论：\n",
    "\n",
    "$$\n",
    "\\mathrm{tr} (\\log(\\mathbf{S})) = \\log (\\det (\\mathbf{S}))\n",
    "$$"
   ]
  },
  {
   "cell_type": "code",
   "execution_count": 48,
   "metadata": {
    "hidden": true
   },
   "outputs": [
    {
     "data": {
      "text/plain": [
       "(4.37270601078762+3.141592653589795j)"
      ]
     },
     "execution_count": 48,
     "metadata": {},
     "output_type": "execute_result"
    }
   ],
   "source": [
    "scipy.linalg.logm(S).trace()"
   ]
  },
  {
   "cell_type": "code",
   "execution_count": 49,
   "metadata": {
    "hidden": true
   },
   "outputs": [
    {
     "data": {
      "text/plain": [
       "(4.372706010787613+3.141592653589793j)"
      ]
     },
     "execution_count": 49,
     "metadata": {},
     "output_type": "execute_result"
    }
   ],
   "source": [
    "np.lib.scimath.log(np.linalg.det(S))"
   ]
  },
  {
   "cell_type": "markdown",
   "metadata": {
    "hidden": true
   },
   "source": [
    "简述如下。注意到作为本征向量列并矩阵，有性质 $\\mathbf{F} \\mathbf{F}^\\dagger = \\mathbf{F}^\\dagger \\mathbf{F} = \\mathbf{I}$，因此\n",
    "\n",
    "$$\n",
    "\\begin{align}\n",
    "\\mathrm{tr} (\\log (\\mathbf{S})) &= \\mathrm{tr} (\\log (\\mathbf{F \\Lambda F}^\\dagger)) = \\mathrm{tr} (\\mathbf{F} \\log (\\mathbf{\\Lambda}) \\mathbf{F}^\\dagger) = \\mathrm{tr} (\\log (\\mathbf{\\Lambda})) \\\\\n",
    "&= \\sum_i \\log (\\lambda_i) = \\log \\left( \\prod_i \\lambda_i \\right) \\\\\n",
    "&= \\log (\\det (\\mathbf{\\Lambda})) = \\log (\\det (\\mathbf{S})) \\tag{17}\n",
    "\\end{align}\n",
    "$$"
   ]
  },
  {
   "cell_type": "markdown",
   "metadata": {
    "heading_collapsed": true
   },
   "source": [
    "### Cauchy 积分定理与 $z^{-1/2}$ 的积分展开"
   ]
  },
  {
   "cell_type": "markdown",
   "metadata": {
    "hidden": true
   },
   "source": [
    "我们首先陈述复函数的 Cauchy-Goursat 积分定理：\n",
    "\n",
    "$$\n",
    "f(z) = \\frac{1}{2 \\pi i} \\int_{\\partial \\Omega} \\frac{f(\\zeta)}{\\zeta - z} \\, \\mathrm{d} \\zeta\n",
    "$$"
   ]
  },
  {
   "cell_type": "markdown",
   "metadata": {
    "hidden": true
   },
   "source": [
    "上式中，$\\Omega$ 为复平面的开集，其边界是分段光滑的 (简单的)，其边界有向曲线令为 $\\partial \\Omega$ (定义边界的左边围起区域 $\\Omega$)。$f \\in \\mathscr{O} (\\Omega)$ 即在 $\\Omega$ 上全纯 (或称为解析的，analytical，即复可微或称满足 Cauchy-Riemann 方程的)，在闭集 $\\bar \\Omega = \\Omega \\cup \\partial \\Omega$ 上连续。\n",
    "\n",
    "在继续讨论之前，我们指出上述定理是著名的 Cauchy 积分定理的强化。Cauchy 积分定理的条件是 $f \\in \\mathscr{O} (\\bar \\Omega)$，条件更为苛刻也更为适用。我们在这篇文档中只会用到 Cauchy 积分定理，但了解 Cauchy-Goursat 的应用条件仍然是有意义的。"
   ]
  },
  {
   "cell_type": "markdown",
   "metadata": {
    "hidden": true
   },
   "source": [
    "我们实际会使用到的例子是 $f(z) = z^{-1/2}$，其中 $z > 0$。由于我们讨论的是复平面函数，因此我们有必要对该函数作更为清晰的定义。"
   ]
  },
  {
   "cell_type": "code",
   "execution_count": 50,
   "metadata": {
    "hidden": true
   },
   "outputs": [
    {
     "data": {
      "image/png": "[encoded data removed]",
      "text/plain": [
       "<IPython.core.display.Image object>"
      ]
     },
     "execution_count": 50,
     "metadata": {
      "image/png": {
       "width": 400
      }
     },
     "output_type": "execute_result"
    }
   ],
   "source": [
    "Image(filename=\"assets/integral_path.png\", width=400)"
   ]
  },
  {
   "cell_type": "markdown",
   "metadata": {
    "hidden": true
   },
   "source": [
    "该函数是一个多值函数，需要确定其单值支。如果我们仍然令 $z = r e^{i \\theta}$，其中模长 $r \\geqslant 0$，幅角 $\\theta \\in (-\\pi, \\pi]$。以及，\n",
    "\n",
    "$$\n",
    "f(z) = \\frac{1}{\\sqrt{z}} = \\frac{1}{\\sqrt{r}} e^{- i \\frac{\\theta}{2}}\n",
    "$$\n",
    "\n",
    "由于该函数存在单值支的问题，在 $\\{ z = r e^{i \\theta} | r = 0 \\text{ or } \\theta = \\pi \\}$ 下 (即上图的红色点线)，函数是不连续的。在 $r = 0$ 处是因为 $r^{-1/2}$ 处未定义；$\\theta = \\pi$ 处是因为举例来说，对于复平面上比较相邻的两个数 $\\omega + i \\eta, \\omega - i \\eta$ (实数轴上方与下方些微处的两点)，其中 $\\omega < 0, \\eta > 0$，则\n",
    "\n",
    "$$\n",
    "\\lim_{\\eta \\rightarrow 0^+} \\big( f(\\omega + i \\eta) - f(\\omega - i \\eta) \\big) = - \\pi\n",
    "$$\n",
    "\n",
    "因此显然在 $z = x < 0$ 点处是不可导的。对于其它位置，$f(x)$ 是全纯的，以及单值支的确切定义，在此不作说明。"
   ]
  },
  {
   "cell_type": "markdown",
   "metadata": {
    "hidden": true
   },
   "source": [
    "接下来，我们讨论当 $z > 0$ 时，利用 Cauchy 积分定理计算 $f(z)$ 的值的问题。我们定义如上图所示的 $\\partial \\Omega = \\Gamma_1 \\cup \\Gamma_r \\cup \\Gamma_2 \\cup \\Gamma_R$ 为下述有向曲线 (围道)：\n",
    "\n",
    "$$\n",
    "\\begin{equation}\\begin{aligned}\n",
    "\\Gamma_r &: \\zeta(t) = r e^{- i t} && t \\in [- \\pi + \\arccos(\\eta / r), \\pi - \\arccos(\\eta / r)] \\\\\n",
    "\\Gamma_R &: \\zeta(t) = R e^{i t} && t \\in [- \\pi + \\arccos(\\eta / R), \\pi - \\arccos(\\eta / R)] \\\\\n",
    "\\Gamma_1 &: \\zeta(t) = \\omega + i \\eta, t = \\omega && t \\in (-R, -\\sqrt{r^2 - \\eta^2}) \\\\\n",
    "\\Gamma_2 &: \\zeta(t) = \\omega - i \\eta, t = -\\omega && t \\in (-R, -\\sqrt{r^2 - \\eta^2}) \\\\\n",
    "\\end{aligned}\\end{equation}\n",
    "$$\n",
    "\n",
    "其中，$0 < \\eta < r < z < R$，且 $\\eta, r$ 应尽可能小，$R$ 应尽可能大。"
   ]
  },
  {
   "cell_type": "markdown",
   "metadata": {
    "hidden": true
   },
   "source": [
    "我们一根一根有向曲线分析。对于 $\\Gamma_r$ 而言，\n",
    "\n",
    "$$\n",
    "\\begin{align}\n",
    "f(z) &\\leftarrow \\lim_{\\eta < r \\rightarrow 0^+} \\left| \\frac{1}{2 \\pi i} \\int_{\\Gamma_r} \\frac{f(\\zeta)}{\\zeta - z} \\, \\mathrm{d} \\zeta \\right| \\\\\n",
    "&= \\lim_{\\eta < r \\rightarrow 0^+} \\left| \\frac{1}{2 \\pi i} \\int_{- \\pi + \\arccos (\\eta / r)}^{\\pi - \\arccos (\\eta / r)} \\frac{r^{-1/2} e^{it / 2}}{r e^{-it} - z} r (-i) e^{-it} \\, \\mathrm{d} t \\right| \\\\\n",
    "&= \\lim_{\\eta < r \\rightarrow 0^+} \\left| - \\frac{1}{2 \\pi} \\frac{|r^{1/2} e^{- it / 2}|}{|r e^{-it} - z|} \\int_{- \\pi + \\arccos (\\eta / r)}^{\\pi - \\arccos (\\eta / r)} \\, \\mathrm{d} t \\right| \\\\\n",
    "&\\leqslant \\lim_{\\eta < r \\rightarrow 0^+} \\frac{1}{2 \\pi} \\frac{r^{1/2}}{r + z} (2 \\pi - 2 \\arccos(\\eta / r)) \\\\\n",
    "&< \\lim_{r \\rightarrow 0^+} \\frac{r^{1/2}}{r + z} = 0\n",
    "\\end{align}\n",
    "$$\n",
    "\n",
    "对 $\\Gamma_R$ 的分析也是非常类似的，可以证明其贡献也为零。"
   ]
  },
  {
   "cell_type": "markdown",
   "metadata": {
    "hidden": true
   },
   "source": [
    "随后我们考虑 $\\Gamma_1$ 上的积分：\n",
    "\n",
    "$$\n",
    "\\begin{align}\n",
    "f(z) &\\leftarrow \\lim_{\\substack{\\eta < r \\rightarrow 0^+ \\\\ R \\rightarrow + \\infty}} \\frac{1}{2 \\pi i} \\int_{\\Gamma_1} \\frac{f(\\zeta)}{\\zeta - z} \\, \\mathrm{d} \\zeta \\\\\n",
    "&= \\lim_{\\substack{\\eta < r \\rightarrow 0^+ \\\\ R \\rightarrow + \\infty}} \\frac{1}{2 \\pi i} \\int_{-R}^{-\\sqrt{r^2 - \\eta^2}} \\frac{(\\omega + i \\eta)^{-1/2}}{\\omega + i \\eta - z} \\, \\mathrm{d} \\omega \\\\\n",
    "&= \\lim_{r \\rightarrow 0^+} \\frac{1}{2 \\pi i} \\int_{-\\infty}^{-r} \\frac{\\omega^{-1/2}}{\\omega - z} \\, \\mathrm{d} \\omega\n",
    "\\end{align}\n",
    "$$"
   ]
  },
  {
   "cell_type": "markdown",
   "metadata": {
    "hidden": true
   },
   "source": [
    "如果我们令 $\\omega = (i \\tilde \\omega)^2$，其中 $\\tilde \\omega > 0$，则 $\\Gamma_1$ 的贡献值为\n",
    "\n",
    "$$\n",
    "\\begin{align}\n",
    "f(z) &\\leftarrow \\lim_{r \\rightarrow 0^+} \\frac{1}{2 \\pi i} \\int_{+\\infty}^{\\sqrt{r}} \\frac{- i \\tilde \\omega^{-1}}{- \\tilde \\omega^2 - z} (- \\tilde \\omega) \\, \\mathrm{d} \\tilde \\omega = \\lim_{r \\rightarrow 0^+} \\frac{1}{\\pi} \\int_{\\sqrt{r}}^{+\\infty} \\frac{1}{\\tilde \\omega^2 + z} \\, \\mathrm{d} \\tilde \\omega \\\\\n",
    "&= \\frac{1}{\\pi} \\int_{0}^{+\\infty} \\frac{1}{\\tilde \\omega^2 + z} \\, \\mathrm{d} \\tilde \\omega\n",
    "\\end{align}\n",
    "$$"
   ]
  },
  {
   "cell_type": "markdown",
   "metadata": {
    "hidden": true
   },
   "source": [
    "对于 $\\Gamma_2$ 的积分也是相同的。因此，最终有\n",
    "\n",
    "$$\n",
    "\\begin{equation}\n",
    "f(z) = \\sqrt{\\frac{1}{z}} = \\frac{2}{\\pi} \\int_0^{+\\infty} \\frac{1}{\\tilde \\omega^2 + z} \\, \\mathrm{d} \\tilde \\omega \\tag{18}\n",
    "\\end{equation}\n",
    "$$"
   ]
  },
  {
   "cell_type": "markdown",
   "metadata": {
    "hidden": true
   },
   "source": [
    "这看起来是一个非常平凡的结论，因为反向的推导是非常容易的：\n",
    "\n",
    "$$\n",
    "\\int \\frac{1}{\\tilde \\omega^2 + z} \\, \\mathrm{d} \\tilde \\omega = \\sqrt{\\frac{1}{z}} \\arctan \\sqrt{\\frac{w^2}{z}} + C\n",
    "$$"
   ]
  },
  {
   "cell_type": "markdown",
   "metadata": {
    "hidden": true
   },
   "source": [
    "但它的意义在于，它可以对无法通过 Taylor (或者更广泛地 Laurent) 展开的函数 $z^{-1/2}$ (或者类似地，$z^{-1} \\log z$)，通过积分的方式化为可展开的形式。"
   ]
  },
  {
   "cell_type": "markdown",
   "metadata": {
    "heading_collapsed": true
   },
   "source": [
    "### $\\mathbf{M}^{-1/2}$ 的积分展开"
   ]
  },
  {
   "cell_type": "markdown",
   "metadata": {
    "hidden": true
   },
   "source": [
    "当引入矩阵函数后，我们按照式 (18)，对于任意实对称 **正定** 矩阵 $\\mathbf{S}$，可以写为\n",
    "\n",
    "$$\n",
    "\\begin{equation}\n",
    "\\mathbf{S}^{-1/2} = \\frac{2}{\\pi} \\int_0^{+\\infty} \\frac{1}{\\mathbf{S} + \\tilde \\omega^2 \\mathbf{I}} \\, \\mathrm{d} \\tilde \\omega \\tag{19}\n",
    "\\end{equation}\n",
    "$$\n",
    "\n",
    "这里我们引入了正定矩阵的要求，是因为之前我们的讨论中一直要求 $z > 0$，否则 $\\Gamma_1$, $\\Gamma_2$ 的围道积分就不成立了；因此到矩阵函数时，就要求本征值大于零。比如之前定义的 `S` 矩阵，就有一个小于零的本征值，因此不满足上式："
   ]
  },
  {
   "cell_type": "code",
   "execution_count": 51,
   "metadata": {
    "hidden": true
   },
   "outputs": [
    {
     "data": {
      "text/plain": [
       "False"
      ]
     },
     "execution_count": 51,
     "metadata": {},
     "output_type": "execute_result"
    }
   ],
   "source": [
    "mat = np.zeros((5, 5))\n",
    "for (omega, weight) in zip(ot, wt):\n",
    "    mat += weight * 2 / np.pi * np.linalg.inv(S + omega**2 * np.eye(5))\n",
    "np.allclose(mat, fractional_matrix_power(S, -0.5))"
   ]
  },
  {
   "cell_type": "markdown",
   "metadata": {
    "hidden": true
   },
   "source": [
    "如果我们定义 (回顾上一节 $O(N^4)$ 程序实现部分的矩阵定义)\n",
    "\n",
    "$$\n",
    "\\begin{align}\n",
    "\\mathbf{M} (\\alpha) &= (\\mathbf{A}^\\alpha - \\mathbf{B}^\\alpha)^{1/2} (\\mathbf{A}^\\alpha + \\mathbf{B}^\\alpha) (\\mathbf{A}^\\alpha - \\mathbf{B}^\\alpha)^{1/2} \\\\\n",
    "&= \\mathbf{D}^{1/2} (\\mathbf{D} + 2 \\alpha \\mathbf{V} \\mathbf{V}^\\dagger) \\mathbf{D}^{1/2} \\\\\n",
    "&= \\mathbf{D}^2 + 2 \\alpha \\mathbf{D}^{1/2} \\mathbf{V} \\mathbf{V}^\\dagger \\mathbf{D}^{1/2}\n",
    "\\tag{20}\n",
    "\\end{align}\n",
    "$$\n",
    "\n",
    "对于 $\\alpha = 1, 0$ 的情形，它就是正定的矩阵；因此满足式 (18)；我们拿 $\\alpha = 1$ 的情形来验证："
   ]
  },
  {
   "cell_type": "code",
   "execution_count": 52,
   "metadata": {
    "hidden": true
   },
   "outputs": [
    {
     "data": {
      "text/plain": [
       "True"
      ]
     },
     "execution_count": 52,
     "metadata": {},
     "output_type": "execute_result"
    }
   ],
   "source": [
    "mat = np.zeros((nocc*nvir, nocc*nvir))\n",
    "for (omega, weight) in zip(ot, wt):\n",
    "    mat += weight * 2 / np.pi * np.linalg.inv(M + omega**2 * np.eye(nocc*nvir))\n",
    "np.allclose(mat, fractional_matrix_power(M, -0.5))"
   ]
  },
  {
   "cell_type": "markdown",
   "metadata": {},
   "source": [
    "### 建立关于耦合常数 $\\alpha$ 的积分"
   ]
  },
  {
   "cell_type": "markdown",
   "metadata": {},
   "source": [
    "我们已经建立了从 $\\mathbf{M}^{-1/2}$ 到 $\\mathbf{M}$ 的联系，即将分数幂次转为整数幂次的积分展开。但我们记得相关能表达式为\n",
    "\n",
    "$$\n",
    "\\begin{align}\n",
    "E_\\mathrm{c}^\\mathsf{dRPA} [\\rho]\n",
    "&= \\frac{1}{2} \\mathrm{tr} \\big( (\\mathbf{M}^{1/2}) - \\mathrm{tr} (\\mathbf{A}^{\\alpha = 1}) \\big) \\\\\n",
    "&= \\frac{1}{2 \\pi} \\int_{0}^{+ \\infty} \\big( \\log \\det \\big( \\mathbf{1} - \\mathbf{\\Pi} (\\tilde \\omega_g) \\big) + \\mathrm{tr} \\big( \\mathbf{\\Pi} (\\tilde \\omega_g) \\big) \\big) \\, \\mathrm{d} \\tilde \\omega\n",
    "\\end{align}\n",
    "$$"
   ]
  },
  {
   "cell_type": "markdown",
   "metadata": {},
   "source": [
    "因此我们还要建立某种联系，使得表达式中存在 $\\log$。\n",
    "\n",
    "这种联系的构建的方式与 Hellmann-Feynman 定理非常相似。我们首先表明，\n",
    "\n",
    "$$\n",
    "A_{ia, ia}^{\\alpha = 1} = - \\varepsilon_i + 2 \\varepsilon_a + (ia|ia) = D_{ia} + 2 \\sum_P V_{ia, P} V_{ia, P}\n",
    "$$"
   ]
  },
  {
   "cell_type": "markdown",
   "metadata": {},
   "source": [
    "因此，\n",
    "\n",
    "$$\n",
    "\\mathrm{tr} (\\mathbf{A}^{\\alpha = 1}) = \\mathrm{tr} (\\mathbf{D} + 2 \\mathbf{V} \\mathbf{V}^\\dagger) = \\mathrm{tr} ((\\mathbf{D}^2)^{1/2}) + 2 \\mathrm{tr} (\\mathbf{V}^\\dagger \\mathbf{V})\n",
    "$$"
   ]
  },
  {
   "cell_type": "markdown",
   "metadata": {},
   "source": [
    "我们留意到上一小节 $\\mathbf{M}(\\alpha)$ 的定义，知道 $\\mathbf{M}(0) = \\mathbf{D}^2, \\mathbf{M}(1) = \\mathbf{M}$，因此相关能可以写为\n",
    "\n",
    "$$\n",
    "\\begin{align}\n",
    "E_\\mathrm{c}^\\mathsf{dRPA} [\\rho] &= \\frac{1}{2} \\big( \\mathrm{tr} (\\mathbf{M}^{1/2}) - \\mathrm{tr} (\\mathbf{A}^{\\alpha = 1}) \\big)\n",
    "= \\frac{1}{2} \\big( \\mathrm{tr} (\\mathbf{M}(1)^{1/2}) - \\mathrm{tr} (\\mathbf{M}(0)^{1/2}) - 2 \\mathrm{tr} (\\mathbf{V}^\\dagger \\mathbf{V}) \\big) \\\\\n",
    "&= \\frac{1}{2} \\mathrm{tr} \\left( \\int_0^1 \\frac{\\mathrm{d} \\mathbf{M} (\\alpha)^{1/2}}{\\mathrm{d} \\alpha} \\, \\mathrm{d} \\alpha \\right) - \\mathrm{tr} (\\mathbf{V}^\\dagger \\mathbf{V}) \\tag{21}\n",
    "\\end{align}\n",
    "$$"
   ]
  },
  {
   "cell_type": "markdown",
   "metadata": {},
   "source": [
    "我们回顾到在推导 $O(N^6)$ 计算量方法时，曾经使用 Hellmann-Feynman 定理，将 $\\mathrm{d} \\omega_n^\\alpha / \\mathrm{d} \\alpha$ 转为 $\\omega_n^{\\alpha = 1} - \\omega_n^{\\alpha = 0}$，从而将不容易求取的关于 $\\alpha$ 的积分转为可以通过类 CP-KS 方程可以求得的频率。但我们在 $O(N^4)$ 方法时，由于矩阵的导数比较容易求取，因此反而使用了相反的过程。"
   ]
  },
  {
   "cell_type": "markdown",
   "metadata": {},
   "source": [
    "首先，我们处理矩阵的导数迹。现在对于矩阵及其本征分解式 $\\mathbf{S} = \\mathbf{F} \\mathbf{\\Lambda} \\mathbf{F}^\\dagger$，如果 $\\mathbf{S}$ 可以看作关于 $\\alpha$ 的矩阵变量，那么\n",
    "\n",
    "$$\n",
    "\\begin{align}\n",
    "\\mathrm{tr} \\left( \\frac{\\mathrm{d} \\mathbf{S}}{\\mathrm{d} \\alpha} \\right)\n",
    "&= \\mathrm{tr} \\left( \\frac{\\mathrm{d} \\mathbf{F}}{\\mathrm{d} \\alpha} \\mathbf{\\Lambda} \\mathbf{F}^\\dagger + \\mathbf{F} \\frac{\\mathrm{d} \\mathbf{\\Lambda}}{\\mathrm{d} \\alpha} \\mathbf{F}^\\dagger + \\mathbf{F} \\mathbf{\\Lambda} \\frac{\\mathrm{d} \\mathbf{F}^\\dagger}{\\mathrm{d} \\alpha} \\right) \\\\\n",
    "&= \\mathrm{tr} \\left( \\frac{\\mathrm{d} (\\mathbf{FF}^\\dagger)}{\\mathrm{d} \\alpha} \\mathbf{\\Lambda} \\right) + \\mathrm{tr} \\left( \\frac{\\mathrm{d} \\mathbf{\\Lambda}}{\\mathrm{d} \\alpha} \\right) \\\\\n",
    "&= \\mathrm{tr} \\left( \\frac{\\mathrm{d} \\mathbf{\\Lambda}}{\\mathrm{d} \\alpha} \\right)\n",
    "\\end{align}\n",
    "$$"
   ]
  },
  {
   "cell_type": "markdown",
   "metadata": {},
   "source": [
    "类似地，\n",
    "\n",
    "$$\n",
    "\\begin{align}\n",
    "\\mathrm{tr} \\left( \\frac{\\mathrm{d} \\mathbf{S}^{1/2}}{\\mathrm{d} \\alpha} \\right)\n",
    "= \\mathrm{tr} \\left( \\frac{\\mathrm{d} \\mathbf{\\Lambda}^{1/2}}{\\mathrm{d} \\alpha} \\right)\n",
    "= \\frac{1}{2} \\mathrm{tr} \\left( \\frac{\\mathrm{d} \\mathbf{\\Lambda}}{\\mathrm{d} \\alpha} \\mathbf{\\Lambda}^{-1/2} \\right)\n",
    "= \\frac{1}{2} \\mathrm{tr} \\left( \\frac{\\mathrm{d} \\mathbf{S}}{\\mathrm{d} \\alpha} \\mathbf{S}^{-1/2} \\right)\n",
    "\\end{align}\n",
    "$$"
   ]
  },
  {
   "cell_type": "markdown",
   "metadata": {},
   "source": [
    "同时注意到 $\\mathbf{M} (\\alpha)$ 的定义式 (20)，可知\n",
    "\n",
    "$$\n",
    "\\frac{\\mathrm{d} \\mathbf{M(\\alpha)}}{\\mathbf{d} \\alpha} = 4 \\mathbf{D}^{1/2} \\mathbf{V} \\mathbf{V}^\\dagger \\mathbf{D}^{1/2}\n",
    "$$\n",
    "\n",
    "将 (19) 式代入可知，\n",
    "\n",
    "$$\n",
    "\\begin{align}\n",
    "&\\quad \\frac{1}{2} \\mathrm{tr} \\left( \\int_0^1 \\frac{\\mathrm{d} \\mathbf{M} (\\alpha)^{1/2}}{\\mathrm{d} \\alpha} \\, \\mathrm{d} \\alpha \\right)\n",
    "= \\frac{1}{4} \\int_0^1 \\mathrm{tr} \\left( \\frac{\\mathrm{d} \\mathbf{M} (\\alpha)}{\\mathrm{d} \\alpha} \\mathbf{M} (\\alpha)^{-1/2} \\right) \\, \\mathrm{d} \\alpha \\\\\n",
    "&= \\frac{1}{2 \\pi} \\int_{0}^{+\\infty} \\, \\mathrm{d} \\tilde \\omega \\int_0^1 \\, \\mathrm{d} \\alpha \\cdot \\mathrm{tr} \\left( 4 \\mathbf{D}^{1/2} \\mathbf{V} \\mathbf{V}^\\dagger \\mathbf{D}^{1/2} (\\mathbf{D}^2 + \\tilde \\omega^2 \\mathbf{I} + 4 \\alpha \\mathbf{D}^{1/2} \\mathbf{V} \\mathbf{V}^\\dagger \\mathbf{D}^{1/2})^{-1} \\right)\n",
    "\\end{align}\n",
    "$$"
   ]
  },
  {
   "cell_type": "markdown",
   "metadata": {},
   "source": [
    "如果我们令对称矩阵 (对比式 (16) 所定义的 $\\mathbf{\\Pi} (\\tilde \\omega)$)\n",
    "\n",
    "$$\n",
    "\\begin{equation}\n",
    "\\tilde{\\mathbf{\\Pi}} (\\tilde \\omega) = - 4 (\\mathbf{D} + \\tilde \\omega^2 \\mathbf{I})^{-1/2} \\mathbf{D}^{1/2} \\mathbf{V} \\mathbf{V}^\\dagger \\mathbf{D}^{1/2} (\\mathbf{D} + \\tilde \\omega^2 \\mathbf{I})^{-1/2} \\tag{22}\n",
    "\\end{equation}\n",
    "$$\n",
    "\n",
    "那么，\n",
    "\n",
    "$$\n",
    "\\frac{1}{2} \\mathrm{tr} \\left( \\int_0^1 \\frac{\\mathrm{d} \\mathbf{M} (\\alpha)^{1/2}}{\\mathrm{d} \\alpha} \\, \\mathrm{d} \\alpha \\right)\n",
    "= - \\frac{1}{2 \\pi} \\int_{0}^{+\\infty} \\, \\mathrm{d} \\tilde \\omega \\int_0^1 \\, \\mathrm{d} \\alpha \\cdot \\mathrm{tr} \\left( \\tilde{\\mathbf{\\Pi}} (\\tilde \\omega) (\\mathbf{I} - \\alpha \\tilde{\\mathbf{\\Pi}} (\\tilde \\omega) )^{-1} \\right)\n",
    "$$"
   ]
  },
  {
   "cell_type": "markdown",
   "metadata": {},
   "source": [
    "如果我们现在令\n",
    "\n",
    "$$\n",
    "\\tilde f(x) = \\frac{x}{1 - \\alpha x}\n",
    "$$\n",
    "\n",
    "有必要指出，\n",
    "\n",
    "$$\n",
    "\\begin{align}\n",
    "\\tilde f(\\mathbf{S}) &= \\mathbf{F} \\tilde f(\\mathbf{\\Lambda}) \\mathbf{F}^\\dagger\n",
    "= \\mathbf{F} \\mathbf{\\Lambda} (\\mathbf{I} - \\alpha \\mathbf{\\Lambda})^{-1} \\mathbf{F}^\\dagger \\\\\n",
    "&= \\mathbf{F} \\mathbf{\\Lambda} \\mathbf{F}^\\dagger (\\mathbf{I} - \\alpha \\mathbf{F}^\\dagger \\mathbf{\\Lambda} \\mathbf{F})^{-1} \\\\\n",
    "&\\neq \\mathbf{S} (\\mathbf{I} - \\alpha \\mathbf{S})^{-1}\n",
    "\\end{align}\n",
    "$$"
   ]
  },
  {
   "cell_type": "markdown",
   "metadata": {},
   "source": [
    "但根据 $\\mathbf{F}$ 作为正交矩阵的性质，容易推知\n",
    "\n",
    "$$\n",
    "\\mathrm{tr} \\big( \\tilde f (\\mathbf{S}) \\big) = \\mathrm{tr} \\big( \\mathbf{S} (\\mathbf{I} - \\alpha \\mathbf{S})^{-1} \\big)\n",
    "$$"
   ]
  },
  {
   "cell_type": "markdown",
   "metadata": {},
   "source": [
    "同时，我们注意到\n",
    "\n",
    "$$\n",
    "\\int_0^1 \\frac{x}{1 - \\alpha x} \\, \\mathrm{d} \\alpha = - \\log (1 - x) , \\quad x < 1\n",
    "$$"
   ]
  },
  {
   "cell_type": "markdown",
   "metadata": {},
   "source": [
    "同时利用到式 (17) 的 $\\mathrm{tr} \\log = \\log \\det$ 的关系式，可知\n",
    "\n",
    "$$\n",
    "\\begin{align}\n",
    "&\\quad \\frac{1}{2} \\mathrm{tr} \\left( \\int_0^1 \\frac{\\mathrm{d} \\mathbf{M} (\\alpha)^{1/2}}{\\mathrm{d} \\alpha} \\, \\mathrm{d} \\alpha \\right)\n",
    "= \\frac{1}{2 \\pi} \\int_{0}^{+\\infty} \\, \\mathrm{d} \\tilde \\omega \\cdot \\mathrm{tr} \\left( \\int_0^1 \\tilde f(\\tilde{\\mathbf{\\Pi}} (\\tilde \\omega)) \\, \\mathrm{d} \\alpha \\right) \\\\\n",
    "&= \\frac{1}{2 \\pi} \\int_{0}^{+\\infty} \\mathrm{tr} \\log (\\mathbf{I} - \\tilde{\\mathbf{\\Pi}}(\\tilde \\omega)) \\, \\mathrm{d} \\tilde \\omega\n",
    "= \\frac{1}{2 \\pi} \\int_{0}^{+\\infty} \\log \\det (\\mathbf{I} - \\tilde{\\mathbf{\\Pi}}(\\tilde \\omega)) \\, \\mathrm{d} \\tilde \\omega\n",
    "\\end{align}\n",
    "$$"
   ]
  },
  {
   "cell_type": "markdown",
   "metadata": {
    "heading_collapsed": true
   },
   "source": [
    "### 最终结果的导出"
   ]
  },
  {
   "cell_type": "markdown",
   "metadata": {
    "hidden": true
   },
   "source": [
    "最后我们作收尾工作。首先，依据下述结论 (<cite data-cite=\"Yao-Wu.Fudan.2008\">姚慕生，高等代数学</cite> 6.1 节习题 9)：\n",
    "\n",
    "$$\n",
    "\\det (\\lambda \\mathbf{I} - \\mathbf{X} \\mathbf{Y}) = \\lambda^{m - n} \\det (\\lambda \\mathbf{I} - \\mathbf{Y} \\mathbf{X})\n",
    "$$"
   ]
  },
  {
   "cell_type": "markdown",
   "metadata": {
    "hidden": true
   },
   "source": [
    "上式中，$\\mathbf{X} \\in \\mathbb{R}^{m \\times n}, \\mathbf{Y} \\in \\mathbb{R}^{n \\times m}, m \\geqslant n$，两处 $\\mathbf{I}$ 是不同的。以此可以表明，$\\mathbf{XY}$ 的本征值与 $\\mathbf{YX}$ 的本征值“相同”，即 $\\mathbf{XY}$ 有 $n$ 个本征值是 $\\mathbf{YX}$ 的本征值，而剩下的 $m - n$ 个本征值是 0。\n",
    "\n",
    "套用在我们目前的问题中，则表现为 $\\tilde{\\mathbf{\\Pi}} (\\tilde \\omega)$ 与 $\\mathbf{\\Pi} (\\tilde \\omega)$ 在相同的 $\\tilde \\omega$ 情况下，$n_\\mathrm{aux}$ 本征值相同；其它 $n_\\mathrm{occ} n_\\mathrm{vir} - n_\\mathrm{aux}$ 个本征值则为零。这可以很容易地令 $\\mathbf{X} = \\mathbf{Y}^\\dagger = (\\mathbf{D} + \\tilde \\omega^2 \\mathbf{I})^{-1/2} \\mathbf{D}^{1/2} \\mathbf{V}$ 来说明。"
   ]
  },
  {
   "cell_type": "markdown",
   "metadata": {
    "hidden": true
   },
   "source": [
    "也因此，$\\mathbf{I} - \\tilde{\\mathbf{\\Pi}} (\\tilde \\omega)$ 与 $\\mathbf{\\Pi} (\\tilde \\omega)$ 的 $n_\\mathrm{aux}$ 本征值相同，其它 $n_\\mathrm{occ} n_\\mathrm{vir} - n_\\mathrm{aux}$ 个本征值则为 1；从而这些本征值的乘积 (即行列式值) 相等。因此，\n",
    "\n",
    "$$\n",
    "\\log \\det (\\mathbf{I} - \\tilde{\\mathbf{\\Pi}}(\\tilde \\omega)) = \\log \\det (\\mathbf{I} - {\\mathbf{\\Pi}}(\\tilde \\omega))\n",
    "$$"
   ]
  },
  {
   "cell_type": "markdown",
   "metadata": {
    "hidden": true
   },
   "source": [
    "另一个需要证明的问题是式 (21) 中出现的\n",
    "\n",
    "$$\n",
    "\\mathrm{tr} (\\mathbf{V}^\\dagger \\mathbf{V}) = - \\frac{1}{2 \\pi} \\int_{0}^{+ \\infty} \\mathrm{tr} \\big( \\mathbf{\\Pi} (\\tilde \\omega_g) \\big) \\, \\mathrm{d} \\tilde \\omega\n",
    "$$"
   ]
  },
  {
   "cell_type": "markdown",
   "metadata": {
    "hidden": true
   },
   "source": [
    "这只需要插入\n",
    "\n",
    "$$\n",
    "\\mathbf{D}^{-1} = (\\mathbf{D}^2)^{-1/2} = \\frac{2}{\\pi} \\int_0^{+\\infty} \\frac{1}{\\mathbf{D}^2 + \\tilde \\omega^2 \\mathbf{I}} \\, \\mathrm{d} \\tilde \\omega\n",
    "$$"
   ]
  },
  {
   "cell_type": "markdown",
   "metadata": {
    "hidden": true
   },
   "source": [
    "那么\n",
    "\n",
    "$$\n",
    "\\begin{align}\n",
    "\\mathrm{tr} (\\mathbf{V}^\\dagger \\mathbf{V}) &= \\mathrm{tr} (\\mathbf{V}^\\dagger \\mathbf{D}^{1/2} \\mathbf{D}^{-1} \\mathbf{D}^{1/2} \\mathbf{V}) \\\\\n",
    "&= - \\frac{1}{2 \\pi} \\int_0^{+\\infty} \\mathrm{tr} \\left( - \\mathbf{V}^\\dagger \\mathbf{D}^{1/2} \\frac{4}{\\mathbf{D}^2 + \\tilde \\omega^2 \\mathbf{I}} \\mathbf{D}^{1/2} \\mathbf{V} \\right) \\, \\mathrm{d} \\tilde \\omega \\\\\n",
    "&= - \\frac{1}{2 \\pi} \\int_{0}^{+ \\infty} \\mathrm{tr} \\big( \\mathbf{\\Pi} (\\tilde \\omega_g) \\big) \\, \\mathrm{d} \\tilde \\omega\n",
    "\\end{align}\n",
    "$$"
   ]
  },
  {
   "cell_type": "markdown",
   "metadata": {
    "hidden": true
   },
   "source": [
    "至此，$O(N^4)$ 与 $O(N^6)$ 两种计算复杂度表达式\n",
    "\n",
    "$$\n",
    "E_\\mathrm{c}^\\mathsf{dRPA} [\\rho] = \\frac{1}{2} \\mathrm{tr} (\\mathbf{M}^{1/2}) - \\mathrm{tr} (\\mathbf{A}^{\\alpha = 1}) \\big)\n",
    "= \\frac{1}{2 \\pi} \\int_{0}^{+ \\infty} \\big( \\log \\det \\big( \\mathbf{1} - \\mathbf{\\Pi} (\\tilde \\omega_g) \\big) + \\mathrm{tr} \\big( \\mathbf{\\Pi} (\\tilde \\omega_g) \\big) \\big) \\, \\mathrm{d} \\tilde \\omega\n",
    "$$\n",
    "\n",
    "的等价性证明就完成了。"
   ]
  },
  {
   "cell_type": "markdown",
   "metadata": {},
   "source": [
    "## 参考文献"
   ]
  },
  {
   "cell_type": "raw",
   "metadata": {
    "raw_mimetype": "text/restructuredtext"
   },
   "source": [
    ".. bibliography:: dRPA_Comprehense.bib\n",
    "    :cited:\n",
    "    :style: alpha"
   ]
  }
 ],
 "metadata": {
  "celltoolbar": "Raw Cell Format",
  "kernelspec": {
   "display_name": "Python 3",
   "language": "python",
   "name": "python3"
  },
  "language_info": {
   "codemirror_mode": {
    "name": "ipython",
    "version": 3
   },
   "file_extension": ".py",
   "mimetype": "text/x-python",
   "name": "python",
   "nbconvert_exporter": "python",
   "pygments_lexer": "ipython3",
   "version": "3.8.1"
  },
  "toc": {
   "base_numbering": 1,
   "nav_menu": {},
   "number_sections": true,
   "sideBar": true,
   "skip_h1_title": false,
   "title_cell": "Table of Contents",
   "title_sidebar": "Contents",
   "toc_cell": false,
   "toc_position": {
    "height": "calc(100% - 180px)",
    "left": "10px",
    "top": "150px",
    "width": "230.2px"
   },
   "toc_section_display": true,
   "toc_window_display": false
  }
 },
 "nbformat": 4,
 "nbformat_minor": 4
}
