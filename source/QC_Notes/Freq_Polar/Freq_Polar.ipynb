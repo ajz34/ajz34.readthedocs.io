{
 "cells": [
  {
   "cell_type": "markdown",
   "metadata": {},
   "source": [
    "# 简单理解 RHF 含频极化率及其与 TD-HF 间的关系"
   ]
  },
  {
   "cell_type": "markdown",
   "metadata": {},
   "source": [
    "含频极化率在非线性光学中有所应用。这里指的频率是入射激发光频率，而非分子振动频率。含频极化率英文是 Frequency-Dependent Polarizability，也有时使用动态 Dynamic 替代含频 Frequency-Dependent；相对地，没有入射激发光给出的极化率称为静态 Static 极化率。\n",
    "\n",
    "但这也只是道听途说。对于我来讲更直接的意义会是，含频极化率对坐标的一阶导数可以用于计算含频 Raman 光谱。\n",
    "\n",
    "写这篇文档一开始的原因是，曾经在尝试计算简单的 SERS 光谱时，发现 [文献](https://dx.doi.org/10.1021/jz4012383) 的含频 Raman 光谱计算的文章提到使用 TD-DFT (time-dependent density functional theory)；其它文献也几乎无一例外。这多少对我来说有点意外。Raman 光谱的计算通过求取极化率对简正坐标的导数 (不管是解析的还是数值的) 得到，而极化率则可以通过 CP-HF (coupled-perturbated Hartree-Fock) 方程给出。此前我确实地成功得到了 Gaussian 所给出的 RKS (GGA level) 极化率，并且并没有使用 TD-DFT 计算，而是 CP-KS (coupled-perturbated Kohn-Sham) 方程计算得到的极化率；我曾经一度以为这是 ADF 软件与 Gaussian 软件两者的区别。后来在各路同学的提醒下，才渐渐明白极化率与含时分析 (TD) 之间的关系。\n",
    "\n",
    "这篇文档将会忽略大部分与公式推导有关的问题；这是由于 TD-DFT 或 TD-HF 的公式推导并不简单；在短时间之内我重复不出让我自己信服的推导。这篇文档不讨论与复数有关的话题，变量与公式全部采用实数与实函数。\n",
    "\n",
    "我们会使用非对称的双氧水分子作为演示分子，基组使用 6-31G。计算程序使用 PySCF 提供电子积分，并与 Gaussian 的含频极化率、PySCF 的激发频率计算结果作对应。"
   ]
  },
  {
   "cell_type": "code",
   "execution_count": 1,
   "metadata": {},
   "outputs": [],
   "source": [
    "%matplotlib notebook\n",
    "\n",
    "import numpy as np\n",
    "import scipy\n",
    "from pyscf import gto, scf, tdscf\n",
    "from functools import partial\n",
    "import matplotlib.pyplot as plt\n",
    "from matplotlib import patches\n",
    "from formchk_interface import FormchkInterface\n",
    "\n",
    "np.einsum = partial(np.einsum, optimize=[\"greedy\", 1024 ** 3 * 2 / 8])\n",
    "np.set_printoptions(5, linewidth=150, suppress=True)"
   ]
  },
  {
   "cell_type": "markdown",
   "metadata": {},
   "source": [
    "全文使用以下记号：\n",
    "\n",
    "- $p, q, r, s, m$ 表示全部轨道\n",
    "\n",
    "- $i, j$ 表示占据分子轨道\n",
    "\n",
    "- $a, b$ 表示非占分子轨道\n",
    "\n",
    "- $\\mu, \\nu, \\kappa, \\lambda$ 表示原子轨道\n",
    "\n",
    "- $t, s$ 在不引起歧义的情况下表示空间取向 $x, y, z$\n",
    "\n",
    "- $P, Q, R, S$ 在这篇文档表示类似于 $ai$ 的组合下标\n",
    "\n",
    "- $n$ 表示 TD-HF 激发态\n",
    "\n",
    "全文使用简化与不严格的 Einstein Summation Convention。"
   ]
  },
  {
   "cell_type": "markdown",
   "metadata": {},
   "source": [
    "下面补充一个原子单位能量 $E_\\mathrm{h}$ 到波数 $\\mathrm{cm}^{-1}$ 的换算 `Eh_cm`：\n",
    "\n",
    "$$\n",
    "1 \\, E_\\mathrm{h} = 219474.6 \\, \\mathrm{cm}^{-1}\n",
    "$$"
   ]
  },
  {
   "cell_type": "code",
   "execution_count": 2,
   "metadata": {},
   "outputs": [
    {
     "data": {
      "text/plain": [
       "219474.6313702"
      ]
     },
     "execution_count": 2,
     "metadata": {},
     "output_type": "execute_result"
    }
   ],
   "source": [
    "from scipy.constants import physical_constants\n",
    "Eh_cm = physical_constants[\"hartree-inverse meter relationship\"][0] / 100\n",
    "Eh_cm"
   ]
  },
  {
   "cell_type": "markdown",
   "metadata": {},
   "source": [
    "## 分子体系与标准结果"
   ]
  },
  {
   "cell_type": "markdown",
   "metadata": {},
   "source": [
    "<div class=\"alert alert-info\">\n",
    "\n",
    "**阅读提示**\n",
    "\n",
    "我们会花很长的时间进行分子体系与标准结果的定义。如果对代码与文本阅读能力有信心，这段可以跳过。\n",
    "\n",
    "</div>"
   ]
  },
  {
   "cell_type": "markdown",
   "metadata": {},
   "source": [
    "### PySCF 体系定义"
   ]
  },
  {
   "cell_type": "markdown",
   "metadata": {},
   "source": [
    "在进入下面的讨论前，我们先定义如下变量：\n",
    "\n",
    "- `mol` PySCF 分子实例"
   ]
  },
  {
   "cell_type": "code",
   "execution_count": 3,
   "metadata": {},
   "outputs": [
    {
     "data": {
      "text/plain": [
       "<pyscf.gto.mole.Mole at 0x7f3f188440f0>"
      ]
     },
     "execution_count": 3,
     "metadata": {},
     "output_type": "execute_result"
    }
   ],
   "source": [
    "mol = gto.Mole()\n",
    "mol.atom = \"\"\"\n",
    "O  0.0  0.0  0.0\n",
    "O  0.0  0.0  1.5\n",
    "H  1.0  0.0  0.0\n",
    "H  0.0  0.7  1.0\n",
    "\"\"\"\n",
    "mol.basis = \"6-31G\"\n",
    "mol.verbose = 0\n",
    "mol.build()"
   ]
  },
  {
   "cell_type": "markdown",
   "metadata": {},
   "source": [
    "- `nao` 轨道数量 $n_\\mathrm{AO}$, `nocc` 占据轨道数 $n_\\mathrm{occ}$, `nvir` 非占轨道数 $n_\\mathrm{vir}$\n",
    "\n",
    "- `so` 占据轨道分割，`sv` 非占轨道分割，`sa` 全轨道分割\n",
    "\n",
    "- `eri0_ao` 原子轨道基组双电子积分 ERI (electron repulsion integral)\n",
    "\n",
    "    $$\n",
    "    (\\mu \\nu | \\kappa \\lambda) = \\int \\phi_\\mu (\\boldsymbol{r}) \\phi_\\nu (\\boldsymbol{r}) \\frac{1}{|\\boldsymbol{r} - \\boldsymbol{r}'|} \\phi_\\kappa (\\boldsymbol{r}') \\phi_\\lambda (\\boldsymbol{r}') \\, \\mathrm{d} \\boldsymbol{r} \\, \\mathrm{d} \\boldsymbol{r}'\n",
    "    $$\n",
    "\n",
    "- `d_ao` 偶极积分，其中下述的 $t$ 或后文会出现的 $s$ 表示偶极积分的方向 $x, y$ 或 $z$\n",
    "\n",
    "    $$\n",
    "    d_{\\mu \\nu}^t = - \\langle \\mu | t | \\nu \\rangle = \\int \\phi_\\mu (\\boldsymbol{r}) t \\phi_\\nu (\\boldsymbol{r}) \\, \\mathrm{d} \\boldsymbol{r}\n",
    "    $$"
   ]
  },
  {
   "cell_type": "code",
   "execution_count": 4,
   "metadata": {},
   "outputs": [],
   "source": [
    "nao = nmo = mol.nao\n",
    "nocc = mol.nelec[0]\n",
    "nvir = nmo - nocc\n",
    "so, sv, sa = slice(0, nocc), slice(nocc, nmo), slice(0, nmo)"
   ]
  },
  {
   "cell_type": "code",
   "execution_count": 5,
   "metadata": {},
   "outputs": [],
   "source": [
    "eri0_ao = mol.intor(\"int2e\")\n",
    "d_ao = - mol.intor(\"int1e_r\")"
   ]
  },
  {
   "cell_type": "markdown",
   "metadata": {},
   "source": [
    "- `scf_eng` PySCF 的 RHF 计算实例"
   ]
  },
  {
   "cell_type": "code",
   "execution_count": 6,
   "metadata": {},
   "outputs": [],
   "source": [
    "scf_eng = scf.RHF(mol).run()"
   ]
  },
  {
   "cell_type": "markdown",
   "metadata": {},
   "source": [
    "- `C` $C_{\\mu p}$ 分子轨道系数\n",
    "\n",
    "- `e` $e_p$ RHF 轨道能量\n",
    "\n",
    "- `D` $D_{\\mu \\nu} = 2 C_{\\mu i} C_{\\nu i}$ RHF 电子态密度"
   ]
  },
  {
   "cell_type": "code",
   "execution_count": 7,
   "metadata": {},
   "outputs": [],
   "source": [
    "C, e = scf_eng.mo_coeff, scf_eng.mo_energy\n",
    "D = 2 * C[:, so] @ C[:, so].T"
   ]
  },
  {
   "cell_type": "markdown",
   "metadata": {},
   "source": [
    "- `eri0_mo` 分子轨道双电子 ERI $(pq|rs) = C_{\\mu p} C_{\\nu q} (\\mu \\nu | \\kappa \\lambda) C_{\\kappa r} C_{\\lambda s}$\n",
    "\n",
    "- `d_mo` 分子轨道偶极积分 $d^t_{pq} = C_{\\mu p} d^t_{\\mu \\nu} C_{\\nu q}$\n",
    "\n",
    "- `d_ia` 占据-非占的分子轨道偶极积分 $d^t_{ia}$\n",
    "\n",
    "- `d_P` 以双下标 $P = ia$ 为记号的占据-非占分子轨道偶极积分 $d^t_P$"
   ]
  },
  {
   "cell_type": "code",
   "execution_count": 8,
   "metadata": {},
   "outputs": [],
   "source": [
    "eri0_mo = np.einsum(\"up, vq, uvkl, kr, ls -> pqrs\", C, C, eri0_ao, C, C)\n",
    "d_mo = np.einsum(\"up, tuv, vq -> tpq\", C, d_ao, C)\n",
    "d_ia = d_mo[:, so, sv]\n",
    "d_P = d_ia.reshape(3, nocc*nvir)"
   ]
  },
  {
   "cell_type": "markdown",
   "metadata": {},
   "source": [
    "- `scf_td` PySCF 的 TD-RHF 计算实例"
   ]
  },
  {
   "cell_type": "code",
   "execution_count": 9,
   "metadata": {},
   "outputs": [
    {
     "data": {
      "text/plain": [
       "<pyscf.tdscf.rhf.TDHF at 0x7f3ee1b0e630>"
      ]
     },
     "execution_count": 9,
     "metadata": {},
     "output_type": "execute_result"
    }
   ],
   "source": [
    "scf_td = tdscf.TDHF(scf_eng)\n",
    "scf_td.nstates = nvir * nocc\n",
    "scf_td.run()"
   ]
  },
  {
   "cell_type": "markdown",
   "metadata": {},
   "source": [
    "就我目前所知，PySCF 可以计算极化率；但与含频极化率有关的计算，我在这里采用下文所述的、与 Gaussian 可以大致匹配结果的程序。"
   ]
  },
  {
   "cell_type": "markdown",
   "metadata": {},
   "source": [
    "### Gaussian 计算含频极化率"
   ]
  },
  {
   "cell_type": "markdown",
   "metadata": {},
   "source": [
    "我们需要一个可以核验结果的结果与工具。Gaussian 事实上提供了含频的极化率的选项。这一小段我们简单了解如何使用 Gaussian 来计算含频极化率。\n",
    "\n",
    "我们首先给给出一个示范的例子。这个例子只是演示，并不能代表真实的物理。"
   ]
  },
  {
   "cell_type": "markdown",
   "metadata": {},
   "source": [
    "Gaussian 的 [输入卡](assets/H2O2_freq_polar_example.gjf) 如下："
   ]
  },
  {
   "cell_type": "code",
   "execution_count": 10,
   "metadata": {
    "scrolled": true
   },
   "outputs": [
    {
     "name": "stdout",
     "output_type": "stream",
     "text": [
      "%chk=H2O2_freq_polar_example.chk\n",
      "# RHF/6-31G NoSymm Freq(Raman) CPHF=RdFreq\n",
      "\n",
      "H2O2 Frequency-Dependent Polarizability (Raman)\n",
      "\n",
      "0 1\n",
      "O  0.0  0.0  0.0\n",
      "O  0.0  0.0  1.5\n",
      "H  1.0  0.0  0.0\n",
      "H  0.0  0.7  1.0\n",
      "\n",
      "1nm\n"
     ]
    }
   ],
   "source": [
    "with open(\"assets/H2O2_freq_polar_example.gjf\", \"r\") as f:\n",
    "    print(f.read()[:-1])"
   ]
  },
  {
   "cell_type": "markdown",
   "metadata": {},
   "source": [
    "事实上这段程序不只计算了含频极化率，还计算了含频 Raman；但这份文档只讨论极化率问题。这里的“含频”指的是两个频率，其一为静态 (static) 极化率，其二是入射光线为 $\\omega = 1 \\, \\mathrm{nm}$ 频率下的极化率。后者是一个相当极端的例子，因为通常可能没有人会想到用 X-Ray 照射一个普通的液体分子。"
   ]
  },
  {
   "cell_type": "markdown",
   "metadata": {},
   "source": [
    "Gaussian 程序默认会输出 .out 或 .log 文件作为文本信息输出，其输出文件在 [H2O2_freq_polar_example.out](assets/H2O2_freq_polar_example.out) 中。我们还要求 Gaussian 输出 .chk 文件，该文件只包含单纯的计算数据信息，其通过 Gaussian Utility `formchk` 导出为 ASCII 格式的文件在 [H2O2_freq_polar_example.fch](assets/H2O2_freq_polar_example.fch)。\n",
    "\n",
    "对于 .out 文件，我们可以用下述命令仅查看含频极化率："
   ]
  },
  {
   "cell_type": "code",
   "execution_count": 11,
   "metadata": {},
   "outputs": [
    {
     "name": "stdout",
     "output_type": "stream",
     "text": [
      " Property number 1 -- Alpha(-w,w) frequency  1    0.000000:\n",
      "                 1             2             3 \n",
      "      1   0.658142D+01 -0.841017D-01 -0.145378D+01\n",
      "      2  -0.841017D-01  0.426836D+01  0.399688D+00\n",
      "      3  -0.145378D+01  0.399688D+00  0.178903D+02\n",
      " Property number 1 -- Alpha(-w,w) frequency  2   45.563353:\n",
      "                 1             2             3 \n",
      "      1  -0.339006D-02  0.323942D-04 -0.262886D-04\n",
      "      2   0.323942D-04 -0.353767D-02  0.379883D-03\n",
      "      3  -0.262886D-04  0.379883D-03 -0.437398D-02\n"
     ]
    }
   ],
   "source": [
    "with open(\"assets/H2O2_freq_polar_example.out\", \"r\") as f:\n",
    "    while f.readable():\n",
    "        line = f.readline()\n",
    "        if \"Alpha(-w,w) frequency\" in line:\n",
    "            print(line[:-1])\n",
    "            for _ in range(4):\n",
    "                print(f.readline()[:-1])\n",
    "        if \"Beta(-w,w,0) frequency\" in line:\n",
    "            break"
   ]
  },
  {
   "cell_type": "markdown",
   "metadata": {},
   "source": [
    "对于每个频率，程序会给出一个 $3 \\times 3$ 大小的矩阵；这就是极化率张量 $\\alpha_{ts} (-\\omega, \\omega)$，其中 $t, s$ 可以是 $x, y, z$。以后的文档中，我们会简记 $\\alpha_{ts} (-\\omega, \\omega)$ 为 $\\alpha_{ts} (\\omega)$。\n",
    "\n",
    "极化率单位是原子单位；关于极化率原子单位与 SI 单位制的转换，参考下述 [NIST 网页](https://www.physics.nist.gov/cgi-bin/cuu/Value?auepol)。\n",
    "\n",
    "上述出现的两个频率值 `0.000000`, `45.563353` 并不是以 $\\mathrm{nm}$ 为单位，而是以 $E_\\mathrm{h}$ Hartree 为单位。关于上述单位换算的过程，我们采用下述代码来说明："
   ]
  },
  {
   "cell_type": "code",
   "execution_count": 12,
   "metadata": {},
   "outputs": [
    {
     "data": {
      "text/plain": [
       "45.56335252766616"
      ]
     },
     "execution_count": 12,
     "metadata": {},
     "output_type": "execute_result"
    }
   ],
   "source": [
    "1 / Eh_cm * 1e7"
   ]
  },
  {
   "cell_type": "markdown",
   "metadata": {},
   "source": [
    "上面出现的 `Eh_cm` 已经在文档开头有所解释。这样我们就完成了 .out 文件的含频极化率的读取。"
   ]
  },
  {
   "cell_type": "markdown",
   "metadata": {},
   "source": [
    "但在后面的文档中，我们将会利用 .chk 文件 (或者几乎等价的 .fch 文件) 的信息，来给出 Gaussian 计算的标准结果。在这份文档中，我们会利用到的键值有两段：`Frequencies for FD properties` 储存了以 $E_\\mathrm{h}$ Hartree 为单位的频率 $\\omega$，`Alpha(-w,w)` 储存了以原子单位储存的极化率张量 $\\alpha_{ts} (\\omega)$。"
   ]
  },
  {
   "cell_type": "code",
   "execution_count": 13,
   "metadata": {},
   "outputs": [
    {
     "name": "stdout",
     "output_type": "stream",
     "text": [
      "Frequencies for FD properties              R   N=           2\n",
      "  0.00000000E+00  4.55633525E+01\n",
      "Alpha(-w,w)                                R   N=          18\n",
      "  6.58141820E+00 -8.41017140E-02 -1.45378248E+00 -8.41017140E-02  4.26835620E+00\n",
      "  3.99687823E-01 -1.45378248E+00  3.99687823E-01  1.78903287E+01 -3.39006427E-03\n",
      "  3.23941556E-05 -2.62886421E-05  3.23941556E-05 -3.53766531E-03  3.79883414E-04\n",
      " -2.62886421E-05  3.79883414E-04 -4.37398325E-03\n"
     ]
    }
   ],
   "source": [
    "with open(\"assets/H2O2_freq_polar_example.fch\", \"r\") as f:\n",
    "    print_flag = False\n",
    "    while f.readable():\n",
    "        line = f.readline()\n",
    "        if \"Frequencies for FD properties\" in line:\n",
    "            print_flag = True\n",
    "        if \"Beta(-w,w,0)\" in line:\n",
    "            break\n",
    "        if print_flag is True:\n",
    "            print(line[:-1])"
   ]
  },
  {
   "cell_type": "markdown",
   "metadata": {},
   "source": [
    "我们可以看到，至少从程序输出的角度来讲，包含频率的极化率很可能与不含极化率的频率值相去甚远。当然，至于在 $1 \\, \\mathrm{nm}$ 如此高的光能量下，这个含频极化率是否在物理上正确，不是这篇文档讨论的问题。"
   ]
  },
  {
   "cell_type": "markdown",
   "metadata": {},
   "source": [
    "通过我们导入的 `FormchkInterface` (取自 [pyxdh 项目](https://github.com/ajz34/Py_xDH/blob/master/pyxdh/Utilities/formchk_interface.py))，我们也可以对上述数值导入到 numpy 向量中。譬如我们需要提取所有频率，那么下面的代码就可以给出："
   ]
  },
  {
   "cell_type": "code",
   "execution_count": 14,
   "metadata": {},
   "outputs": [
    {
     "data": {
      "text/plain": [
       "array([ 0.     , 45.56335])"
      ]
     },
     "execution_count": 14,
     "metadata": {},
     "output_type": "execute_result"
    }
   ],
   "source": [
    "fchk_helper = FormchkInterface(\"assets/H2O2_freq_polar_example.fch\")\n",
    "fchk_helper.key_to_value(\"Frequencies for FD properties\")"
   ]
  },
  {
   "cell_type": "markdown",
   "metadata": {},
   "source": [
    "下面是 Gaussian 所给出的静态极化率 `ref_alpha_static` $\\alpha_{ts} (-\\omega, \\omega)$。下一段我们会先回顾如何通过 CP-HF 方程，得到静态极化率。下述的矩阵将可以是我们计算结果的参考值。"
   ]
  },
  {
   "cell_type": "code",
   "execution_count": 15,
   "metadata": {},
   "outputs": [
    {
     "data": {
      "text/plain": [
       "array([[ 6.58142, -0.0841 , -1.45378],\n",
       "       [-0.0841 ,  4.26836,  0.39969],\n",
       "       [-1.45378,  0.39969, 17.89033]])"
      ]
     },
     "execution_count": 15,
     "metadata": {},
     "output_type": "execute_result"
    }
   ],
   "source": [
    "ref_alpha_static = fchk_helper.key_to_value(\"Alpha(-w,w)\")[:9].reshape(3, 3)\n",
    "ref_alpha_static"
   ]
  },
  {
   "cell_type": "markdown",
   "metadata": {},
   "source": [
    "再之后的段落，我们会需要计算含频极化率。Gaussian 一次性至多计算 100 个频率下的光学性质，否则程序会报错；因此我们的输入文件将会是多个文件，这里不列举其超链接。我们用 `freq_all_list` 表示含频极化率对应的频率，而 `alpha_all_list` 表示这些频率下的极化率。"
   ]
  },
  {
   "cell_type": "code",
   "execution_count": 16,
   "metadata": {},
   "outputs": [],
   "source": [
    "freq_full_list = []\n",
    "alpha_full_list = []\n",
    "for idx in (1, 2, 3):\n",
    "    fchk_helper = FormchkInterface(\"assets/H2O2_freq_polar_{:1d}.fch\".format(idx))\n",
    "    freq_full_list.append(fchk_helper.key_to_value(\"Frequencies for FD properties\")[1:])\n",
    "    alpha_full_list.append(fchk_helper.key_to_value(\"Alpha(-w,w)\").reshape(-1, 3, 3)[1:])\n",
    "freq_full_list = np.concatenate(freq_full_list)\n",
    "alpha_full_list = np.concatenate(alpha_full_list)"
   ]
  },
  {
   "cell_type": "markdown",
   "metadata": {},
   "source": [
    "将所获得的含频极化率 (仅绘制其中一个分量 $\\alpha_{zz} (\\omega)$) 绘图可以得到："
   ]
  },
  {
   "cell_type": "code",
   "execution_count": 17,
   "metadata": {},
   "outputs": [
    {
     "data": {
      "application/javascript": [
       "/* Put everything inside the global mpl namespace */\n",
       "window.mpl = {};\n",
       "\n",
       "\n",
       "mpl.get_websocket_type = function() {\n",
       "    if (typeof(WebSocket) !== 'undefined') {\n",
       "        return WebSocket;\n",
       "    } else if (typeof(MozWebSocket) !== 'undefined') {\n",
       "        return MozWebSocket;\n",
       "    } else {\n",
       "        alert('Your browser does not have WebSocket support. ' +\n",
       "              'Please try Chrome, Safari or Firefox ≥ 6. ' +\n",
       "              'Firefox 4 and 5 are also supported but you ' +\n",
       "              'have to enable WebSockets in about:config.');\n",
       "    };\n",
       "}\n",
       "\n",
       "mpl.figure = function(figure_id, websocket, ondownload, parent_element) {\n",
       "    this.id = figure_id;\n",
       "\n",
       "    this.ws = websocket;\n",
       "\n",
       "    this.supports_binary = (this.ws.binaryType != undefined);\n",
       "\n",
       "    if (!this.supports_binary) {\n",
       "        var warnings = document.getElementById(\"mpl-warnings\");\n",
       "        if (warnings) {\n",
       "            warnings.style.display = 'block';\n",
       "            warnings.textContent = (\n",
       "                \"This browser does not support binary websocket messages. \" +\n",
       "                    \"Performance may be slow.\");\n",
       "        }\n",
       "    }\n",
       "\n",
       "    this.imageObj = new Image();\n",
       "\n",
       "    this.context = undefined;\n",
       "    this.message = undefined;\n",
       "    this.canvas = undefined;\n",
       "    this.rubberband_canvas = undefined;\n",
       "    this.rubberband_context = undefined;\n",
       "    this.format_dropdown = undefined;\n",
       "\n",
       "    this.image_mode = 'full';\n",
       "\n",
       "    this.root = $('<div/>');\n",
       "    this._root_extra_style(this.root)\n",
       "    this.root.attr('style', 'display: inline-block');\n",
       "\n",
       "    $(parent_element).append(this.root);\n",
       "\n",
       "    this._init_header(this);\n",
       "    this._init_canvas(this);\n",
       "    this._init_toolbar(this);\n",
       "\n",
       "    var fig = this;\n",
       "\n",
       "    this.waiting = false;\n",
       "\n",
       "    this.ws.onopen =  function () {\n",
       "            fig.send_message(\"supports_binary\", {value: fig.supports_binary});\n",
       "            fig.send_message(\"send_image_mode\", {});\n",
       "            if (mpl.ratio != 1) {\n",
       "                fig.send_message(\"set_dpi_ratio\", {'dpi_ratio': mpl.ratio});\n",
       "            }\n",
       "            fig.send_message(\"refresh\", {});\n",
       "        }\n",
       "\n",
       "    this.imageObj.onload = function() {\n",
       "            if (fig.image_mode == 'full') {\n",
       "                // Full images could contain transparency (where diff images\n",
       "                // almost always do), so we need to clear the canvas so that\n",
       "                // there is no ghosting.\n",
       "                fig.context.clearRect(0, 0, fig.canvas.width, fig.canvas.height);\n",
       "            }\n",
       "            fig.context.drawImage(fig.imageObj, 0, 0);\n",
       "        };\n",
       "\n",
       "    this.imageObj.onunload = function() {\n",
       "        fig.ws.close();\n",
       "    }\n",
       "\n",
       "    this.ws.onmessage = this._make_on_message_function(this);\n",
       "\n",
       "    this.ondownload = ondownload;\n",
       "}\n",
       "\n",
       "mpl.figure.prototype._init_header = function() {\n",
       "    var titlebar = $(\n",
       "        '<div class=\"ui-dialog-titlebar ui-widget-header ui-corner-all ' +\n",
       "        'ui-helper-clearfix\"/>');\n",
       "    var titletext = $(\n",
       "        '<div class=\"ui-dialog-title\" style=\"width: 100%; ' +\n",
       "        'text-align: center; padding: 3px;\"/>');\n",
       "    titlebar.append(titletext)\n",
       "    this.root.append(titlebar);\n",
       "    this.header = titletext[0];\n",
       "}\n",
       "\n",
       "\n",
       "\n",
       "mpl.figure.prototype._canvas_extra_style = function(canvas_div) {\n",
       "\n",
       "}\n",
       "\n",
       "\n",
       "mpl.figure.prototype._root_extra_style = function(canvas_div) {\n",
       "\n",
       "}\n",
       "\n",
       "mpl.figure.prototype._init_canvas = function() {\n",
       "    var fig = this;\n",
       "\n",
       "    var canvas_div = $('<div/>');\n",
       "\n",
       "    canvas_div.attr('style', 'position: relative; clear: both; outline: 0');\n",
       "\n",
       "    function canvas_keyboard_event(event) {\n",
       "        return fig.key_event(event, event['data']);\n",
       "    }\n",
       "\n",
       "    canvas_div.keydown('key_press', canvas_keyboard_event);\n",
       "    canvas_div.keyup('key_release', canvas_keyboard_event);\n",
       "    this.canvas_div = canvas_div\n",
       "    this._canvas_extra_style(canvas_div)\n",
       "    this.root.append(canvas_div);\n",
       "\n",
       "    var canvas = $('<canvas/>');\n",
       "    canvas.addClass('mpl-canvas');\n",
       "    canvas.attr('style', \"left: 0; top: 0; z-index: 0; outline: 0\")\n",
       "\n",
       "    this.canvas = canvas[0];\n",
       "    this.context = canvas[0].getContext(\"2d\");\n",
       "\n",
       "    var backingStore = this.context.backingStorePixelRatio ||\n",
       "\tthis.context.webkitBackingStorePixelRatio ||\n",
       "\tthis.context.mozBackingStorePixelRatio ||\n",
       "\tthis.context.msBackingStorePixelRatio ||\n",
       "\tthis.context.oBackingStorePixelRatio ||\n",
       "\tthis.context.backingStorePixelRatio || 1;\n",
       "\n",
       "    mpl.ratio = (window.devicePixelRatio || 1) / backingStore;\n",
       "\n",
       "    var rubberband = $('<canvas/>');\n",
       "    rubberband.attr('style', \"position: absolute; left: 0; top: 0; z-index: 1;\")\n",
       "\n",
       "    var pass_mouse_events = true;\n",
       "\n",
       "    canvas_div.resizable({\n",
       "        start: function(event, ui) {\n",
       "            pass_mouse_events = false;\n",
       "        },\n",
       "        resize: function(event, ui) {\n",
       "            fig.request_resize(ui.size.width, ui.size.height);\n",
       "        },\n",
       "        stop: function(event, ui) {\n",
       "            pass_mouse_events = true;\n",
       "            fig.request_resize(ui.size.width, ui.size.height);\n",
       "        },\n",
       "    });\n",
       "\n",
       "    function mouse_event_fn(event) {\n",
       "        if (pass_mouse_events)\n",
       "            return fig.mouse_event(event, event['data']);\n",
       "    }\n",
       "\n",
       "    rubberband.mousedown('button_press', mouse_event_fn);\n",
       "    rubberband.mouseup('button_release', mouse_event_fn);\n",
       "    // Throttle sequential mouse events to 1 every 20ms.\n",
       "    rubberband.mousemove('motion_notify', mouse_event_fn);\n",
       "\n",
       "    rubberband.mouseenter('figure_enter', mouse_event_fn);\n",
       "    rubberband.mouseleave('figure_leave', mouse_event_fn);\n",
       "\n",
       "    canvas_div.on(\"wheel\", function (event) {\n",
       "        event = event.originalEvent;\n",
       "        event['data'] = 'scroll'\n",
       "        if (event.deltaY < 0) {\n",
       "            event.step = 1;\n",
       "        } else {\n",
       "            event.step = -1;\n",
       "        }\n",
       "        mouse_event_fn(event);\n",
       "    });\n",
       "\n",
       "    canvas_div.append(canvas);\n",
       "    canvas_div.append(rubberband);\n",
       "\n",
       "    this.rubberband = rubberband;\n",
       "    this.rubberband_canvas = rubberband[0];\n",
       "    this.rubberband_context = rubberband[0].getContext(\"2d\");\n",
       "    this.rubberband_context.strokeStyle = \"#000000\";\n",
       "\n",
       "    this._resize_canvas = function(width, height) {\n",
       "        // Keep the size of the canvas, canvas container, and rubber band\n",
       "        // canvas in synch.\n",
       "        canvas_div.css('width', width)\n",
       "        canvas_div.css('height', height)\n",
       "\n",
       "        canvas.attr('width', width * mpl.ratio);\n",
       "        canvas.attr('height', height * mpl.ratio);\n",
       "        canvas.attr('style', 'width: ' + width + 'px; height: ' + height + 'px;');\n",
       "\n",
       "        rubberband.attr('width', width);\n",
       "        rubberband.attr('height', height);\n",
       "    }\n",
       "\n",
       "    // Set the figure to an initial 600x600px, this will subsequently be updated\n",
       "    // upon first draw.\n",
       "    this._resize_canvas(600, 600);\n",
       "\n",
       "    // Disable right mouse context menu.\n",
       "    $(this.rubberband_canvas).bind(\"contextmenu\",function(e){\n",
       "        return false;\n",
       "    });\n",
       "\n",
       "    function set_focus () {\n",
       "        canvas.focus();\n",
       "        canvas_div.focus();\n",
       "    }\n",
       "\n",
       "    window.setTimeout(set_focus, 100);\n",
       "}\n",
       "\n",
       "mpl.figure.prototype._init_toolbar = function() {\n",
       "    var fig = this;\n",
       "\n",
       "    var nav_element = $('<div/>');\n",
       "    nav_element.attr('style', 'width: 100%');\n",
       "    this.root.append(nav_element);\n",
       "\n",
       "    // Define a callback function for later on.\n",
       "    function toolbar_event(event) {\n",
       "        return fig.toolbar_button_onclick(event['data']);\n",
       "    }\n",
       "    function toolbar_mouse_event(event) {\n",
       "        return fig.toolbar_button_onmouseover(event['data']);\n",
       "    }\n",
       "\n",
       "    for(var toolbar_ind in mpl.toolbar_items) {\n",
       "        var name = mpl.toolbar_items[toolbar_ind][0];\n",
       "        var tooltip = mpl.toolbar_items[toolbar_ind][1];\n",
       "        var image = mpl.toolbar_items[toolbar_ind][2];\n",
       "        var method_name = mpl.toolbar_items[toolbar_ind][3];\n",
       "\n",
       "        if (!name) {\n",
       "            // put a spacer in here.\n",
       "            continue;\n",
       "        }\n",
       "        var button = $('<button/>');\n",
       "        button.addClass('ui-button ui-widget ui-state-default ui-corner-all ' +\n",
       "                        'ui-button-icon-only');\n",
       "        button.attr('role', 'button');\n",
       "        button.attr('aria-disabled', 'false');\n",
       "        button.click(method_name, toolbar_event);\n",
       "        button.mouseover(tooltip, toolbar_mouse_event);\n",
       "\n",
       "        var icon_img = $('<span/>');\n",
       "        icon_img.addClass('ui-button-icon-primary ui-icon');\n",
       "        icon_img.addClass(image);\n",
       "        icon_img.addClass('ui-corner-all');\n",
       "\n",
       "        var tooltip_span = $('<span/>');\n",
       "        tooltip_span.addClass('ui-button-text');\n",
       "        tooltip_span.html(tooltip);\n",
       "\n",
       "        button.append(icon_img);\n",
       "        button.append(tooltip_span);\n",
       "\n",
       "        nav_element.append(button);\n",
       "    }\n",
       "\n",
       "    var fmt_picker_span = $('<span/>');\n",
       "\n",
       "    var fmt_picker = $('<select/>');\n",
       "    fmt_picker.addClass('mpl-toolbar-option ui-widget ui-widget-content');\n",
       "    fmt_picker_span.append(fmt_picker);\n",
       "    nav_element.append(fmt_picker_span);\n",
       "    this.format_dropdown = fmt_picker[0];\n",
       "\n",
       "    for (var ind in mpl.extensions) {\n",
       "        var fmt = mpl.extensions[ind];\n",
       "        var option = $(\n",
       "            '<option/>', {selected: fmt === mpl.default_extension}).html(fmt);\n",
       "        fmt_picker.append(option);\n",
       "    }\n",
       "\n",
       "    // Add hover states to the ui-buttons\n",
       "    $( \".ui-button\" ).hover(\n",
       "        function() { $(this).addClass(\"ui-state-hover\");},\n",
       "        function() { $(this).removeClass(\"ui-state-hover\");}\n",
       "    );\n",
       "\n",
       "    var status_bar = $('<span class=\"mpl-message\"/>');\n",
       "    nav_element.append(status_bar);\n",
       "    this.message = status_bar[0];\n",
       "}\n",
       "\n",
       "mpl.figure.prototype.request_resize = function(x_pixels, y_pixels) {\n",
       "    // Request matplotlib to resize the figure. Matplotlib will then trigger a resize in the client,\n",
       "    // which will in turn request a refresh of the image.\n",
       "    this.send_message('resize', {'width': x_pixels, 'height': y_pixels});\n",
       "}\n",
       "\n",
       "mpl.figure.prototype.send_message = function(type, properties) {\n",
       "    properties['type'] = type;\n",
       "    properties['figure_id'] = this.id;\n",
       "    this.ws.send(JSON.stringify(properties));\n",
       "}\n",
       "\n",
       "mpl.figure.prototype.send_draw_message = function() {\n",
       "    if (!this.waiting) {\n",
       "        this.waiting = true;\n",
       "        this.ws.send(JSON.stringify({type: \"draw\", figure_id: this.id}));\n",
       "    }\n",
       "}\n",
       "\n",
       "\n",
       "mpl.figure.prototype.handle_save = function(fig, msg) {\n",
       "    var format_dropdown = fig.format_dropdown;\n",
       "    var format = format_dropdown.options[format_dropdown.selectedIndex].value;\n",
       "    fig.ondownload(fig, format);\n",
       "}\n",
       "\n",
       "\n",
       "mpl.figure.prototype.handle_resize = function(fig, msg) {\n",
       "    var size = msg['size'];\n",
       "    if (size[0] != fig.canvas.width || size[1] != fig.canvas.height) {\n",
       "        fig._resize_canvas(size[0], size[1]);\n",
       "        fig.send_message(\"refresh\", {});\n",
       "    };\n",
       "}\n",
       "\n",
       "mpl.figure.prototype.handle_rubberband = function(fig, msg) {\n",
       "    var x0 = msg['x0'] / mpl.ratio;\n",
       "    var y0 = (fig.canvas.height - msg['y0']) / mpl.ratio;\n",
       "    var x1 = msg['x1'] / mpl.ratio;\n",
       "    var y1 = (fig.canvas.height - msg['y1']) / mpl.ratio;\n",
       "    x0 = Math.floor(x0) + 0.5;\n",
       "    y0 = Math.floor(y0) + 0.5;\n",
       "    x1 = Math.floor(x1) + 0.5;\n",
       "    y1 = Math.floor(y1) + 0.5;\n",
       "    var min_x = Math.min(x0, x1);\n",
       "    var min_y = Math.min(y0, y1);\n",
       "    var width = Math.abs(x1 - x0);\n",
       "    var height = Math.abs(y1 - y0);\n",
       "\n",
       "    fig.rubberband_context.clearRect(\n",
       "        0, 0, fig.canvas.width, fig.canvas.height);\n",
       "\n",
       "    fig.rubberband_context.strokeRect(min_x, min_y, width, height);\n",
       "}\n",
       "\n",
       "mpl.figure.prototype.handle_figure_label = function(fig, msg) {\n",
       "    // Updates the figure title.\n",
       "    fig.header.textContent = msg['label'];\n",
       "}\n",
       "\n",
       "mpl.figure.prototype.handle_cursor = function(fig, msg) {\n",
       "    var cursor = msg['cursor'];\n",
       "    switch(cursor)\n",
       "    {\n",
       "    case 0:\n",
       "        cursor = 'pointer';\n",
       "        break;\n",
       "    case 1:\n",
       "        cursor = 'default';\n",
       "        break;\n",
       "    case 2:\n",
       "        cursor = 'crosshair';\n",
       "        break;\n",
       "    case 3:\n",
       "        cursor = 'move';\n",
       "        break;\n",
       "    }\n",
       "    fig.rubberband_canvas.style.cursor = cursor;\n",
       "}\n",
       "\n",
       "mpl.figure.prototype.handle_message = function(fig, msg) {\n",
       "    fig.message.textContent = msg['message'];\n",
       "}\n",
       "\n",
       "mpl.figure.prototype.handle_draw = function(fig, msg) {\n",
       "    // Request the server to send over a new figure.\n",
       "    fig.send_draw_message();\n",
       "}\n",
       "\n",
       "mpl.figure.prototype.handle_image_mode = function(fig, msg) {\n",
       "    fig.image_mode = msg['mode'];\n",
       "}\n",
       "\n",
       "mpl.figure.prototype.updated_canvas_event = function() {\n",
       "    // Called whenever the canvas gets updated.\n",
       "    this.send_message(\"ack\", {});\n",
       "}\n",
       "\n",
       "// A function to construct a web socket function for onmessage handling.\n",
       "// Called in the figure constructor.\n",
       "mpl.figure.prototype._make_on_message_function = function(fig) {\n",
       "    return function socket_on_message(evt) {\n",
       "        if (evt.data instanceof Blob) {\n",
       "            /* FIXME: We get \"Resource interpreted as Image but\n",
       "             * transferred with MIME type text/plain:\" errors on\n",
       "             * Chrome.  But how to set the MIME type?  It doesn't seem\n",
       "             * to be part of the websocket stream */\n",
       "            evt.data.type = \"image/png\";\n",
       "\n",
       "            /* Free the memory for the previous frames */\n",
       "            if (fig.imageObj.src) {\n",
       "                (window.URL || window.webkitURL).revokeObjectURL(\n",
       "                    fig.imageObj.src);\n",
       "            }\n",
       "\n",
       "            fig.imageObj.src = (window.URL || window.webkitURL).createObjectURL(\n",
       "                evt.data);\n",
       "            fig.updated_canvas_event();\n",
       "            fig.waiting = false;\n",
       "            return;\n",
       "        }\n",
       "        else if (typeof evt.data === 'string' && evt.data.slice(0, 21) == \"data:image/png;base64\") {\n",
       "            fig.imageObj.src = evt.data;\n",
       "            fig.updated_canvas_event();\n",
       "            fig.waiting = false;\n",
       "            return;\n",
       "        }\n",
       "\n",
       "        var msg = JSON.parse(evt.data);\n",
       "        var msg_type = msg['type'];\n",
       "\n",
       "        // Call the  \"handle_{type}\" callback, which takes\n",
       "        // the figure and JSON message as its only arguments.\n",
       "        try {\n",
       "            var callback = fig[\"handle_\" + msg_type];\n",
       "        } catch (e) {\n",
       "            console.log(\"No handler for the '\" + msg_type + \"' message type: \", msg);\n",
       "            return;\n",
       "        }\n",
       "\n",
       "        if (callback) {\n",
       "            try {\n",
       "                // console.log(\"Handling '\" + msg_type + \"' message: \", msg);\n",
       "                callback(fig, msg);\n",
       "            } catch (e) {\n",
       "                console.log(\"Exception inside the 'handler_\" + msg_type + \"' callback:\", e, e.stack, msg);\n",
       "            }\n",
       "        }\n",
       "    };\n",
       "}\n",
       "\n",
       "// from http://stackoverflow.com/questions/1114465/getting-mouse-location-in-canvas\n",
       "mpl.findpos = function(e) {\n",
       "    //this section is from http://www.quirksmode.org/js/events_properties.html\n",
       "    var targ;\n",
       "    if (!e)\n",
       "        e = window.event;\n",
       "    if (e.target)\n",
       "        targ = e.target;\n",
       "    else if (e.srcElement)\n",
       "        targ = e.srcElement;\n",
       "    if (targ.nodeType == 3) // defeat Safari bug\n",
       "        targ = targ.parentNode;\n",
       "\n",
       "    // jQuery normalizes the pageX and pageY\n",
       "    // pageX,Y are the mouse positions relative to the document\n",
       "    // offset() returns the position of the element relative to the document\n",
       "    var x = e.pageX - $(targ).offset().left;\n",
       "    var y = e.pageY - $(targ).offset().top;\n",
       "\n",
       "    return {\"x\": x, \"y\": y};\n",
       "};\n",
       "\n",
       "/*\n",
       " * return a copy of an object with only non-object keys\n",
       " * we need this to avoid circular references\n",
       " * http://stackoverflow.com/a/24161582/3208463\n",
       " */\n",
       "function simpleKeys (original) {\n",
       "  return Object.keys(original).reduce(function (obj, key) {\n",
       "    if (typeof original[key] !== 'object')\n",
       "        obj[key] = original[key]\n",
       "    return obj;\n",
       "  }, {});\n",
       "}\n",
       "\n",
       "mpl.figure.prototype.mouse_event = function(event, name) {\n",
       "    var canvas_pos = mpl.findpos(event)\n",
       "\n",
       "    if (name === 'button_press')\n",
       "    {\n",
       "        this.canvas.focus();\n",
       "        this.canvas_div.focus();\n",
       "    }\n",
       "\n",
       "    var x = canvas_pos.x * mpl.ratio;\n",
       "    var y = canvas_pos.y * mpl.ratio;\n",
       "\n",
       "    this.send_message(name, {x: x, y: y, button: event.button,\n",
       "                             step: event.step,\n",
       "                             guiEvent: simpleKeys(event)});\n",
       "\n",
       "    /* This prevents the web browser from automatically changing to\n",
       "     * the text insertion cursor when the button is pressed.  We want\n",
       "     * to control all of the cursor setting manually through the\n",
       "     * 'cursor' event from matplotlib */\n",
       "    event.preventDefault();\n",
       "    return false;\n",
       "}\n",
       "\n",
       "mpl.figure.prototype._key_event_extra = function(event, name) {\n",
       "    // Handle any extra behaviour associated with a key event\n",
       "}\n",
       "\n",
       "mpl.figure.prototype.key_event = function(event, name) {\n",
       "\n",
       "    // Prevent repeat events\n",
       "    if (name == 'key_press')\n",
       "    {\n",
       "        if (event.which === this._key)\n",
       "            return;\n",
       "        else\n",
       "            this._key = event.which;\n",
       "    }\n",
       "    if (name == 'key_release')\n",
       "        this._key = null;\n",
       "\n",
       "    var value = '';\n",
       "    if (event.ctrlKey && event.which != 17)\n",
       "        value += \"ctrl+\";\n",
       "    if (event.altKey && event.which != 18)\n",
       "        value += \"alt+\";\n",
       "    if (event.shiftKey && event.which != 16)\n",
       "        value += \"shift+\";\n",
       "\n",
       "    value += 'k';\n",
       "    value += event.which.toString();\n",
       "\n",
       "    this._key_event_extra(event, name);\n",
       "\n",
       "    this.send_message(name, {key: value,\n",
       "                             guiEvent: simpleKeys(event)});\n",
       "    return false;\n",
       "}\n",
       "\n",
       "mpl.figure.prototype.toolbar_button_onclick = function(name) {\n",
       "    if (name == 'download') {\n",
       "        this.handle_save(this, null);\n",
       "    } else {\n",
       "        this.send_message(\"toolbar_button\", {name: name});\n",
       "    }\n",
       "};\n",
       "\n",
       "mpl.figure.prototype.toolbar_button_onmouseover = function(tooltip) {\n",
       "    this.message.textContent = tooltip;\n",
       "};\n",
       "mpl.toolbar_items = [[\"Home\", \"Reset original view\", \"fa fa-home icon-home\", \"home\"], [\"Back\", \"Back to previous view\", \"fa fa-arrow-left icon-arrow-left\", \"back\"], [\"Forward\", \"Forward to next view\", \"fa fa-arrow-right icon-arrow-right\", \"forward\"], [\"\", \"\", \"\", \"\"], [\"Pan\", \"Pan axes with left mouse, zoom with right\", \"fa fa-arrows icon-move\", \"pan\"], [\"Zoom\", \"Zoom to rectangle\", \"fa fa-square-o icon-check-empty\", \"zoom\"], [\"\", \"\", \"\", \"\"], [\"Download\", \"Download plot\", \"fa fa-floppy-o icon-save\", \"download\"]];\n",
       "\n",
       "mpl.extensions = [\"eps\", \"jpeg\", \"pdf\", \"png\", \"ps\", \"raw\", \"svg\", \"tif\"];\n",
       "\n",
       "mpl.default_extension = \"png\";var comm_websocket_adapter = function(comm) {\n",
       "    // Create a \"websocket\"-like object which calls the given IPython comm\n",
       "    // object with the appropriate methods. Currently this is a non binary\n",
       "    // socket, so there is still some room for performance tuning.\n",
       "    var ws = {};\n",
       "\n",
       "    ws.close = function() {\n",
       "        comm.close()\n",
       "    };\n",
       "    ws.send = function(m) {\n",
       "        //console.log('sending', m);\n",
       "        comm.send(m);\n",
       "    };\n",
       "    // Register the callback with on_msg.\n",
       "    comm.on_msg(function(msg) {\n",
       "        //console.log('receiving', msg['content']['data'], msg);\n",
       "        // Pass the mpl event to the overridden (by mpl) onmessage function.\n",
       "        ws.onmessage(msg['content']['data'])\n",
       "    });\n",
       "    return ws;\n",
       "}\n",
       "\n",
       "mpl.mpl_figure_comm = function(comm, msg) {\n",
       "    // This is the function which gets called when the mpl process\n",
       "    // starts-up an IPython Comm through the \"matplotlib\" channel.\n",
       "\n",
       "    var id = msg.content.data.id;\n",
       "    // Get hold of the div created by the display call when the Comm\n",
       "    // socket was opened in Python.\n",
       "    var element = $(\"#\" + id);\n",
       "    var ws_proxy = comm_websocket_adapter(comm)\n",
       "\n",
       "    function ondownload(figure, format) {\n",
       "        window.open(figure.imageObj.src);\n",
       "    }\n",
       "\n",
       "    var fig = new mpl.figure(id, ws_proxy,\n",
       "                           ondownload,\n",
       "                           element.get(0));\n",
       "\n",
       "    // Call onopen now - mpl needs it, as it is assuming we've passed it a real\n",
       "    // web socket which is closed, not our websocket->open comm proxy.\n",
       "    ws_proxy.onopen();\n",
       "\n",
       "    fig.parent_element = element.get(0);\n",
       "    fig.cell_info = mpl.find_output_cell(\"<div id='\" + id + \"'></div>\");\n",
       "    if (!fig.cell_info) {\n",
       "        console.error(\"Failed to find cell for figure\", id, fig);\n",
       "        return;\n",
       "    }\n",
       "\n",
       "    var output_index = fig.cell_info[2]\n",
       "    var cell = fig.cell_info[0];\n",
       "\n",
       "};\n",
       "\n",
       "mpl.figure.prototype.handle_close = function(fig, msg) {\n",
       "    var width = fig.canvas.width/mpl.ratio\n",
       "    fig.root.unbind('remove')\n",
       "\n",
       "    // Update the output cell to use the data from the current canvas.\n",
       "    fig.push_to_output();\n",
       "    var dataURL = fig.canvas.toDataURL();\n",
       "    // Re-enable the keyboard manager in IPython - without this line, in FF,\n",
       "    // the notebook keyboard shortcuts fail.\n",
       "    IPython.keyboard_manager.enable()\n",
       "    $(fig.parent_element).html('<img src=\"' + dataURL + '\" width=\"' + width + '\">');\n",
       "    fig.close_ws(fig, msg);\n",
       "}\n",
       "\n",
       "mpl.figure.prototype.close_ws = function(fig, msg){\n",
       "    fig.send_message('closing', msg);\n",
       "    // fig.ws.close()\n",
       "}\n",
       "\n",
       "mpl.figure.prototype.push_to_output = function(remove_interactive) {\n",
       "    // Turn the data on the canvas into data in the output cell.\n",
       "    var width = this.canvas.width/mpl.ratio\n",
       "    var dataURL = this.canvas.toDataURL();\n",
       "    this.cell_info[1]['text/html'] = '<img src=\"' + dataURL + '\" width=\"' + width + '\">';\n",
       "}\n",
       "\n",
       "mpl.figure.prototype.updated_canvas_event = function() {\n",
       "    // Tell IPython that the notebook contents must change.\n",
       "    IPython.notebook.set_dirty(true);\n",
       "    this.send_message(\"ack\", {});\n",
       "    var fig = this;\n",
       "    // Wait a second, then push the new image to the DOM so\n",
       "    // that it is saved nicely (might be nice to debounce this).\n",
       "    setTimeout(function () { fig.push_to_output() }, 1000);\n",
       "}\n",
       "\n",
       "mpl.figure.prototype._init_toolbar = function() {\n",
       "    var fig = this;\n",
       "\n",
       "    var nav_element = $('<div/>');\n",
       "    nav_element.attr('style', 'width: 100%');\n",
       "    this.root.append(nav_element);\n",
       "\n",
       "    // Define a callback function for later on.\n",
       "    function toolbar_event(event) {\n",
       "        return fig.toolbar_button_onclick(event['data']);\n",
       "    }\n",
       "    function toolbar_mouse_event(event) {\n",
       "        return fig.toolbar_button_onmouseover(event['data']);\n",
       "    }\n",
       "\n",
       "    for(var toolbar_ind in mpl.toolbar_items){\n",
       "        var name = mpl.toolbar_items[toolbar_ind][0];\n",
       "        var tooltip = mpl.toolbar_items[toolbar_ind][1];\n",
       "        var image = mpl.toolbar_items[toolbar_ind][2];\n",
       "        var method_name = mpl.toolbar_items[toolbar_ind][3];\n",
       "\n",
       "        if (!name) { continue; };\n",
       "\n",
       "        var button = $('<button class=\"btn btn-default\" href=\"#\" title=\"' + name + '\"><i class=\"fa ' + image + ' fa-lg\"></i></button>');\n",
       "        button.click(method_name, toolbar_event);\n",
       "        button.mouseover(tooltip, toolbar_mouse_event);\n",
       "        nav_element.append(button);\n",
       "    }\n",
       "\n",
       "    // Add the status bar.\n",
       "    var status_bar = $('<span class=\"mpl-message\" style=\"text-align:right; float: right;\"/>');\n",
       "    nav_element.append(status_bar);\n",
       "    this.message = status_bar[0];\n",
       "\n",
       "    // Add the close button to the window.\n",
       "    var buttongrp = $('<div class=\"btn-group inline pull-right\"></div>');\n",
       "    var button = $('<button class=\"btn btn-mini btn-primary\" href=\"#\" title=\"Stop Interaction\"><i class=\"fa fa-power-off icon-remove icon-large\"></i></button>');\n",
       "    button.click(function (evt) { fig.handle_close(fig, {}); } );\n",
       "    button.mouseover('Stop Interaction', toolbar_mouse_event);\n",
       "    buttongrp.append(button);\n",
       "    var titlebar = this.root.find($('.ui-dialog-titlebar'));\n",
       "    titlebar.prepend(buttongrp);\n",
       "}\n",
       "\n",
       "mpl.figure.prototype._root_extra_style = function(el){\n",
       "    var fig = this\n",
       "    el.on(\"remove\", function(){\n",
       "\tfig.close_ws(fig, {});\n",
       "    });\n",
       "}\n",
       "\n",
       "mpl.figure.prototype._canvas_extra_style = function(el){\n",
       "    // this is important to make the div 'focusable\n",
       "    el.attr('tabindex', 0)\n",
       "    // reach out to IPython and tell the keyboard manager to turn it's self\n",
       "    // off when our div gets focus\n",
       "\n",
       "    // location in version 3\n",
       "    if (IPython.notebook.keyboard_manager) {\n",
       "        IPython.notebook.keyboard_manager.register_events(el);\n",
       "    }\n",
       "    else {\n",
       "        // location in version 2\n",
       "        IPython.keyboard_manager.register_events(el);\n",
       "    }\n",
       "\n",
       "}\n",
       "\n",
       "mpl.figure.prototype._key_event_extra = function(event, name) {\n",
       "    var manager = IPython.notebook.keyboard_manager;\n",
       "    if (!manager)\n",
       "        manager = IPython.keyboard_manager;\n",
       "\n",
       "    // Check for shift+enter\n",
       "    if (event.shiftKey && event.which == 13) {\n",
       "        this.canvas_div.blur();\n",
       "        event.shiftKey = false;\n",
       "        // Send a \"J\" for go to next cell\n",
       "        event.which = 74;\n",
       "        event.keyCode = 74;\n",
       "        manager.command_mode();\n",
       "        manager.handle_keydown(event);\n",
       "    }\n",
       "}\n",
       "\n",
       "mpl.figure.prototype.handle_save = function(fig, msg) {\n",
       "    fig.ondownload(fig, null);\n",
       "}\n",
       "\n",
       "\n",
       "mpl.find_output_cell = function(html_output) {\n",
       "    // Return the cell and output element which can be found *uniquely* in the notebook.\n",
       "    // Note - this is a bit hacky, but it is done because the \"notebook_saving.Notebook\"\n",
       "    // IPython event is triggered only after the cells have been serialised, which for\n",
       "    // our purposes (turning an active figure into a static one), is too late.\n",
       "    var cells = IPython.notebook.get_cells();\n",
       "    var ncells = cells.length;\n",
       "    for (var i=0; i<ncells; i++) {\n",
       "        var cell = cells[i];\n",
       "        if (cell.cell_type === 'code'){\n",
       "            for (var j=0; j<cell.output_area.outputs.length; j++) {\n",
       "                var data = cell.output_area.outputs[j];\n",
       "                if (data.data) {\n",
       "                    // IPython >= 3 moved mimebundle to data attribute of output\n",
       "                    data = data.data;\n",
       "                }\n",
       "                if (data['text/html'] == html_output) {\n",
       "                    return [cell, data, j];\n",
       "                }\n",
       "            }\n",
       "        }\n",
       "    }\n",
       "}\n",
       "\n",
       "// Register the function which deals with the matplotlib target/channel.\n",
       "// The kernel may be null if the page has been refreshed.\n",
       "if (IPython.notebook.kernel != null) {\n",
       "    IPython.notebook.kernel.comm_manager.register_target('matplotlib', mpl.mpl_figure_comm);\n",
       "}\n"
      ],
      "text/plain": [
       "<IPython.core.display.Javascript object>"
      ]
     },
     "metadata": {},
     "output_type": "display_data"
    },
    {
     "data": {
      "text/html": [
       "<img src=\"data:image/png;base64,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\" width=\"640\">"
      ],
      "text/plain": [
       "<IPython.core.display.HTML object>"
      ]
     },
     "metadata": {},
     "output_type": "display_data"
    }
   ],
   "source": [
    "fig, ax = plt.subplots()\n",
    "ax.plot(freq_full_list, alpha_full_list[:, 2, 2])\n",
    "rect = patches.Rectangle((0.184, -24), 0.01, 78, linewidth=1, edgecolor='C1', facecolor='C1', alpha=.25)\n",
    "ax.add_patch(rect)\n",
    "ax.set_ylim(-25, 75)\n",
    "ax.set_xlabel(r\"$\\omega$ / $E_\\mathrm{h}$\")\n",
    "ax.set_ylabel(r\"$\\alpha_{zz} (\\omega)$ / a.u.\")\n",
    "ax.set_title(\"Frequency-Dependent Polarizability of $\\mathrm{H_2O_2}$ (RHF/6-31G)\")\n",
    "fig.show()"
   ]
  },
  {
   "cell_type": "markdown",
   "metadata": {},
   "source": [
    "含频极化率的图像在处于分子的激发态区域会呈剧烈振荡。在后续文档中，我们会先更多地看上图中橙色区域表示的前两个激发态。由于上图对橙色部分的描述不很精细，我们下面做一份更精细的极化率图绘制。"
   ]
  },
  {
   "cell_type": "code",
   "execution_count": 18,
   "metadata": {},
   "outputs": [],
   "source": [
    "fchk_helper = FormchkInterface(\"assets/H2O2_freq_polar_small_range.fch\")\n",
    "freq_small_list = fchk_helper.key_to_value(\"Frequencies for FD properties\")[1:]\n",
    "alpha_small_list = fchk_helper.key_to_value(\"Alpha(-w,w)\").reshape(-1, 3, 3)[1:]"
   ]
  },
  {
   "cell_type": "code",
   "execution_count": 19,
   "metadata": {},
   "outputs": [
    {
     "data": {
      "application/javascript": [
       "/* Put everything inside the global mpl namespace */\n",
       "window.mpl = {};\n",
       "\n",
       "\n",
       "mpl.get_websocket_type = function() {\n",
       "    if (typeof(WebSocket) !== 'undefined') {\n",
       "        return WebSocket;\n",
       "    } else if (typeof(MozWebSocket) !== 'undefined') {\n",
       "        return MozWebSocket;\n",
       "    } else {\n",
       "        alert('Your browser does not have WebSocket support. ' +\n",
       "              'Please try Chrome, Safari or Firefox ≥ 6. ' +\n",
       "              'Firefox 4 and 5 are also supported but you ' +\n",
       "              'have to enable WebSockets in about:config.');\n",
       "    };\n",
       "}\n",
       "\n",
       "mpl.figure = function(figure_id, websocket, ondownload, parent_element) {\n",
       "    this.id = figure_id;\n",
       "\n",
       "    this.ws = websocket;\n",
       "\n",
       "    this.supports_binary = (this.ws.binaryType != undefined);\n",
       "\n",
       "    if (!this.supports_binary) {\n",
       "        var warnings = document.getElementById(\"mpl-warnings\");\n",
       "        if (warnings) {\n",
       "            warnings.style.display = 'block';\n",
       "            warnings.textContent = (\n",
       "                \"This browser does not support binary websocket messages. \" +\n",
       "                    \"Performance may be slow.\");\n",
       "        }\n",
       "    }\n",
       "\n",
       "    this.imageObj = new Image();\n",
       "\n",
       "    this.context = undefined;\n",
       "    this.message = undefined;\n",
       "    this.canvas = undefined;\n",
       "    this.rubberband_canvas = undefined;\n",
       "    this.rubberband_context = undefined;\n",
       "    this.format_dropdown = undefined;\n",
       "\n",
       "    this.image_mode = 'full';\n",
       "\n",
       "    this.root = $('<div/>');\n",
       "    this._root_extra_style(this.root)\n",
       "    this.root.attr('style', 'display: inline-block');\n",
       "\n",
       "    $(parent_element).append(this.root);\n",
       "\n",
       "    this._init_header(this);\n",
       "    this._init_canvas(this);\n",
       "    this._init_toolbar(this);\n",
       "\n",
       "    var fig = this;\n",
       "\n",
       "    this.waiting = false;\n",
       "\n",
       "    this.ws.onopen =  function () {\n",
       "            fig.send_message(\"supports_binary\", {value: fig.supports_binary});\n",
       "            fig.send_message(\"send_image_mode\", {});\n",
       "            if (mpl.ratio != 1) {\n",
       "                fig.send_message(\"set_dpi_ratio\", {'dpi_ratio': mpl.ratio});\n",
       "            }\n",
       "            fig.send_message(\"refresh\", {});\n",
       "        }\n",
       "\n",
       "    this.imageObj.onload = function() {\n",
       "            if (fig.image_mode == 'full') {\n",
       "                // Full images could contain transparency (where diff images\n",
       "                // almost always do), so we need to clear the canvas so that\n",
       "                // there is no ghosting.\n",
       "                fig.context.clearRect(0, 0, fig.canvas.width, fig.canvas.height);\n",
       "            }\n",
       "            fig.context.drawImage(fig.imageObj, 0, 0);\n",
       "        };\n",
       "\n",
       "    this.imageObj.onunload = function() {\n",
       "        fig.ws.close();\n",
       "    }\n",
       "\n",
       "    this.ws.onmessage = this._make_on_message_function(this);\n",
       "\n",
       "    this.ondownload = ondownload;\n",
       "}\n",
       "\n",
       "mpl.figure.prototype._init_header = function() {\n",
       "    var titlebar = $(\n",
       "        '<div class=\"ui-dialog-titlebar ui-widget-header ui-corner-all ' +\n",
       "        'ui-helper-clearfix\"/>');\n",
       "    var titletext = $(\n",
       "        '<div class=\"ui-dialog-title\" style=\"width: 100%; ' +\n",
       "        'text-align: center; padding: 3px;\"/>');\n",
       "    titlebar.append(titletext)\n",
       "    this.root.append(titlebar);\n",
       "    this.header = titletext[0];\n",
       "}\n",
       "\n",
       "\n",
       "\n",
       "mpl.figure.prototype._canvas_extra_style = function(canvas_div) {\n",
       "\n",
       "}\n",
       "\n",
       "\n",
       "mpl.figure.prototype._root_extra_style = function(canvas_div) {\n",
       "\n",
       "}\n",
       "\n",
       "mpl.figure.prototype._init_canvas = function() {\n",
       "    var fig = this;\n",
       "\n",
       "    var canvas_div = $('<div/>');\n",
       "\n",
       "    canvas_div.attr('style', 'position: relative; clear: both; outline: 0');\n",
       "\n",
       "    function canvas_keyboard_event(event) {\n",
       "        return fig.key_event(event, event['data']);\n",
       "    }\n",
       "\n",
       "    canvas_div.keydown('key_press', canvas_keyboard_event);\n",
       "    canvas_div.keyup('key_release', canvas_keyboard_event);\n",
       "    this.canvas_div = canvas_div\n",
       "    this._canvas_extra_style(canvas_div)\n",
       "    this.root.append(canvas_div);\n",
       "\n",
       "    var canvas = $('<canvas/>');\n",
       "    canvas.addClass('mpl-canvas');\n",
       "    canvas.attr('style', \"left: 0; top: 0; z-index: 0; outline: 0\")\n",
       "\n",
       "    this.canvas = canvas[0];\n",
       "    this.context = canvas[0].getContext(\"2d\");\n",
       "\n",
       "    var backingStore = this.context.backingStorePixelRatio ||\n",
       "\tthis.context.webkitBackingStorePixelRatio ||\n",
       "\tthis.context.mozBackingStorePixelRatio ||\n",
       "\tthis.context.msBackingStorePixelRatio ||\n",
       "\tthis.context.oBackingStorePixelRatio ||\n",
       "\tthis.context.backingStorePixelRatio || 1;\n",
       "\n",
       "    mpl.ratio = (window.devicePixelRatio || 1) / backingStore;\n",
       "\n",
       "    var rubberband = $('<canvas/>');\n",
       "    rubberband.attr('style', \"position: absolute; left: 0; top: 0; z-index: 1;\")\n",
       "\n",
       "    var pass_mouse_events = true;\n",
       "\n",
       "    canvas_div.resizable({\n",
       "        start: function(event, ui) {\n",
       "            pass_mouse_events = false;\n",
       "        },\n",
       "        resize: function(event, ui) {\n",
       "            fig.request_resize(ui.size.width, ui.size.height);\n",
       "        },\n",
       "        stop: function(event, ui) {\n",
       "            pass_mouse_events = true;\n",
       "            fig.request_resize(ui.size.width, ui.size.height);\n",
       "        },\n",
       "    });\n",
       "\n",
       "    function mouse_event_fn(event) {\n",
       "        if (pass_mouse_events)\n",
       "            return fig.mouse_event(event, event['data']);\n",
       "    }\n",
       "\n",
       "    rubberband.mousedown('button_press', mouse_event_fn);\n",
       "    rubberband.mouseup('button_release', mouse_event_fn);\n",
       "    // Throttle sequential mouse events to 1 every 20ms.\n",
       "    rubberband.mousemove('motion_notify', mouse_event_fn);\n",
       "\n",
       "    rubberband.mouseenter('figure_enter', mouse_event_fn);\n",
       "    rubberband.mouseleave('figure_leave', mouse_event_fn);\n",
       "\n",
       "    canvas_div.on(\"wheel\", function (event) {\n",
       "        event = event.originalEvent;\n",
       "        event['data'] = 'scroll'\n",
       "        if (event.deltaY < 0) {\n",
       "            event.step = 1;\n",
       "        } else {\n",
       "            event.step = -1;\n",
       "        }\n",
       "        mouse_event_fn(event);\n",
       "    });\n",
       "\n",
       "    canvas_div.append(canvas);\n",
       "    canvas_div.append(rubberband);\n",
       "\n",
       "    this.rubberband = rubberband;\n",
       "    this.rubberband_canvas = rubberband[0];\n",
       "    this.rubberband_context = rubberband[0].getContext(\"2d\");\n",
       "    this.rubberband_context.strokeStyle = \"#000000\";\n",
       "\n",
       "    this._resize_canvas = function(width, height) {\n",
       "        // Keep the size of the canvas, canvas container, and rubber band\n",
       "        // canvas in synch.\n",
       "        canvas_div.css('width', width)\n",
       "        canvas_div.css('height', height)\n",
       "\n",
       "        canvas.attr('width', width * mpl.ratio);\n",
       "        canvas.attr('height', height * mpl.ratio);\n",
       "        canvas.attr('style', 'width: ' + width + 'px; height: ' + height + 'px;');\n",
       "\n",
       "        rubberband.attr('width', width);\n",
       "        rubberband.attr('height', height);\n",
       "    }\n",
       "\n",
       "    // Set the figure to an initial 600x600px, this will subsequently be updated\n",
       "    // upon first draw.\n",
       "    this._resize_canvas(600, 600);\n",
       "\n",
       "    // Disable right mouse context menu.\n",
       "    $(this.rubberband_canvas).bind(\"contextmenu\",function(e){\n",
       "        return false;\n",
       "    });\n",
       "\n",
       "    function set_focus () {\n",
       "        canvas.focus();\n",
       "        canvas_div.focus();\n",
       "    }\n",
       "\n",
       "    window.setTimeout(set_focus, 100);\n",
       "}\n",
       "\n",
       "mpl.figure.prototype._init_toolbar = function() {\n",
       "    var fig = this;\n",
       "\n",
       "    var nav_element = $('<div/>');\n",
       "    nav_element.attr('style', 'width: 100%');\n",
       "    this.root.append(nav_element);\n",
       "\n",
       "    // Define a callback function for later on.\n",
       "    function toolbar_event(event) {\n",
       "        return fig.toolbar_button_onclick(event['data']);\n",
       "    }\n",
       "    function toolbar_mouse_event(event) {\n",
       "        return fig.toolbar_button_onmouseover(event['data']);\n",
       "    }\n",
       "\n",
       "    for(var toolbar_ind in mpl.toolbar_items) {\n",
       "        var name = mpl.toolbar_items[toolbar_ind][0];\n",
       "        var tooltip = mpl.toolbar_items[toolbar_ind][1];\n",
       "        var image = mpl.toolbar_items[toolbar_ind][2];\n",
       "        var method_name = mpl.toolbar_items[toolbar_ind][3];\n",
       "\n",
       "        if (!name) {\n",
       "            // put a spacer in here.\n",
       "            continue;\n",
       "        }\n",
       "        var button = $('<button/>');\n",
       "        button.addClass('ui-button ui-widget ui-state-default ui-corner-all ' +\n",
       "                        'ui-button-icon-only');\n",
       "        button.attr('role', 'button');\n",
       "        button.attr('aria-disabled', 'false');\n",
       "        button.click(method_name, toolbar_event);\n",
       "        button.mouseover(tooltip, toolbar_mouse_event);\n",
       "\n",
       "        var icon_img = $('<span/>');\n",
       "        icon_img.addClass('ui-button-icon-primary ui-icon');\n",
       "        icon_img.addClass(image);\n",
       "        icon_img.addClass('ui-corner-all');\n",
       "\n",
       "        var tooltip_span = $('<span/>');\n",
       "        tooltip_span.addClass('ui-button-text');\n",
       "        tooltip_span.html(tooltip);\n",
       "\n",
       "        button.append(icon_img);\n",
       "        button.append(tooltip_span);\n",
       "\n",
       "        nav_element.append(button);\n",
       "    }\n",
       "\n",
       "    var fmt_picker_span = $('<span/>');\n",
       "\n",
       "    var fmt_picker = $('<select/>');\n",
       "    fmt_picker.addClass('mpl-toolbar-option ui-widget ui-widget-content');\n",
       "    fmt_picker_span.append(fmt_picker);\n",
       "    nav_element.append(fmt_picker_span);\n",
       "    this.format_dropdown = fmt_picker[0];\n",
       "\n",
       "    for (var ind in mpl.extensions) {\n",
       "        var fmt = mpl.extensions[ind];\n",
       "        var option = $(\n",
       "            '<option/>', {selected: fmt === mpl.default_extension}).html(fmt);\n",
       "        fmt_picker.append(option);\n",
       "    }\n",
       "\n",
       "    // Add hover states to the ui-buttons\n",
       "    $( \".ui-button\" ).hover(\n",
       "        function() { $(this).addClass(\"ui-state-hover\");},\n",
       "        function() { $(this).removeClass(\"ui-state-hover\");}\n",
       "    );\n",
       "\n",
       "    var status_bar = $('<span class=\"mpl-message\"/>');\n",
       "    nav_element.append(status_bar);\n",
       "    this.message = status_bar[0];\n",
       "}\n",
       "\n",
       "mpl.figure.prototype.request_resize = function(x_pixels, y_pixels) {\n",
       "    // Request matplotlib to resize the figure. Matplotlib will then trigger a resize in the client,\n",
       "    // which will in turn request a refresh of the image.\n",
       "    this.send_message('resize', {'width': x_pixels, 'height': y_pixels});\n",
       "}\n",
       "\n",
       "mpl.figure.prototype.send_message = function(type, properties) {\n",
       "    properties['type'] = type;\n",
       "    properties['figure_id'] = this.id;\n",
       "    this.ws.send(JSON.stringify(properties));\n",
       "}\n",
       "\n",
       "mpl.figure.prototype.send_draw_message = function() {\n",
       "    if (!this.waiting) {\n",
       "        this.waiting = true;\n",
       "        this.ws.send(JSON.stringify({type: \"draw\", figure_id: this.id}));\n",
       "    }\n",
       "}\n",
       "\n",
       "\n",
       "mpl.figure.prototype.handle_save = function(fig, msg) {\n",
       "    var format_dropdown = fig.format_dropdown;\n",
       "    var format = format_dropdown.options[format_dropdown.selectedIndex].value;\n",
       "    fig.ondownload(fig, format);\n",
       "}\n",
       "\n",
       "\n",
       "mpl.figure.prototype.handle_resize = function(fig, msg) {\n",
       "    var size = msg['size'];\n",
       "    if (size[0] != fig.canvas.width || size[1] != fig.canvas.height) {\n",
       "        fig._resize_canvas(size[0], size[1]);\n",
       "        fig.send_message(\"refresh\", {});\n",
       "    };\n",
       "}\n",
       "\n",
       "mpl.figure.prototype.handle_rubberband = function(fig, msg) {\n",
       "    var x0 = msg['x0'] / mpl.ratio;\n",
       "    var y0 = (fig.canvas.height - msg['y0']) / mpl.ratio;\n",
       "    var x1 = msg['x1'] / mpl.ratio;\n",
       "    var y1 = (fig.canvas.height - msg['y1']) / mpl.ratio;\n",
       "    x0 = Math.floor(x0) + 0.5;\n",
       "    y0 = Math.floor(y0) + 0.5;\n",
       "    x1 = Math.floor(x1) + 0.5;\n",
       "    y1 = Math.floor(y1) + 0.5;\n",
       "    var min_x = Math.min(x0, x1);\n",
       "    var min_y = Math.min(y0, y1);\n",
       "    var width = Math.abs(x1 - x0);\n",
       "    var height = Math.abs(y1 - y0);\n",
       "\n",
       "    fig.rubberband_context.clearRect(\n",
       "        0, 0, fig.canvas.width, fig.canvas.height);\n",
       "\n",
       "    fig.rubberband_context.strokeRect(min_x, min_y, width, height);\n",
       "}\n",
       "\n",
       "mpl.figure.prototype.handle_figure_label = function(fig, msg) {\n",
       "    // Updates the figure title.\n",
       "    fig.header.textContent = msg['label'];\n",
       "}\n",
       "\n",
       "mpl.figure.prototype.handle_cursor = function(fig, msg) {\n",
       "    var cursor = msg['cursor'];\n",
       "    switch(cursor)\n",
       "    {\n",
       "    case 0:\n",
       "        cursor = 'pointer';\n",
       "        break;\n",
       "    case 1:\n",
       "        cursor = 'default';\n",
       "        break;\n",
       "    case 2:\n",
       "        cursor = 'crosshair';\n",
       "        break;\n",
       "    case 3:\n",
       "        cursor = 'move';\n",
       "        break;\n",
       "    }\n",
       "    fig.rubberband_canvas.style.cursor = cursor;\n",
       "}\n",
       "\n",
       "mpl.figure.prototype.handle_message = function(fig, msg) {\n",
       "    fig.message.textContent = msg['message'];\n",
       "}\n",
       "\n",
       "mpl.figure.prototype.handle_draw = function(fig, msg) {\n",
       "    // Request the server to send over a new figure.\n",
       "    fig.send_draw_message();\n",
       "}\n",
       "\n",
       "mpl.figure.prototype.handle_image_mode = function(fig, msg) {\n",
       "    fig.image_mode = msg['mode'];\n",
       "}\n",
       "\n",
       "mpl.figure.prototype.updated_canvas_event = function() {\n",
       "    // Called whenever the canvas gets updated.\n",
       "    this.send_message(\"ack\", {});\n",
       "}\n",
       "\n",
       "// A function to construct a web socket function for onmessage handling.\n",
       "// Called in the figure constructor.\n",
       "mpl.figure.prototype._make_on_message_function = function(fig) {\n",
       "    return function socket_on_message(evt) {\n",
       "        if (evt.data instanceof Blob) {\n",
       "            /* FIXME: We get \"Resource interpreted as Image but\n",
       "             * transferred with MIME type text/plain:\" errors on\n",
       "             * Chrome.  But how to set the MIME type?  It doesn't seem\n",
       "             * to be part of the websocket stream */\n",
       "            evt.data.type = \"image/png\";\n",
       "\n",
       "            /* Free the memory for the previous frames */\n",
       "            if (fig.imageObj.src) {\n",
       "                (window.URL || window.webkitURL).revokeObjectURL(\n",
       "                    fig.imageObj.src);\n",
       "            }\n",
       "\n",
       "            fig.imageObj.src = (window.URL || window.webkitURL).createObjectURL(\n",
       "                evt.data);\n",
       "            fig.updated_canvas_event();\n",
       "            fig.waiting = false;\n",
       "            return;\n",
       "        }\n",
       "        else if (typeof evt.data === 'string' && evt.data.slice(0, 21) == \"data:image/png;base64\") {\n",
       "            fig.imageObj.src = evt.data;\n",
       "            fig.updated_canvas_event();\n",
       "            fig.waiting = false;\n",
       "            return;\n",
       "        }\n",
       "\n",
       "        var msg = JSON.parse(evt.data);\n",
       "        var msg_type = msg['type'];\n",
       "\n",
       "        // Call the  \"handle_{type}\" callback, which takes\n",
       "        // the figure and JSON message as its only arguments.\n",
       "        try {\n",
       "            var callback = fig[\"handle_\" + msg_type];\n",
       "        } catch (e) {\n",
       "            console.log(\"No handler for the '\" + msg_type + \"' message type: \", msg);\n",
       "            return;\n",
       "        }\n",
       "\n",
       "        if (callback) {\n",
       "            try {\n",
       "                // console.log(\"Handling '\" + msg_type + \"' message: \", msg);\n",
       "                callback(fig, msg);\n",
       "            } catch (e) {\n",
       "                console.log(\"Exception inside the 'handler_\" + msg_type + \"' callback:\", e, e.stack, msg);\n",
       "            }\n",
       "        }\n",
       "    };\n",
       "}\n",
       "\n",
       "// from http://stackoverflow.com/questions/1114465/getting-mouse-location-in-canvas\n",
       "mpl.findpos = function(e) {\n",
       "    //this section is from http://www.quirksmode.org/js/events_properties.html\n",
       "    var targ;\n",
       "    if (!e)\n",
       "        e = window.event;\n",
       "    if (e.target)\n",
       "        targ = e.target;\n",
       "    else if (e.srcElement)\n",
       "        targ = e.srcElement;\n",
       "    if (targ.nodeType == 3) // defeat Safari bug\n",
       "        targ = targ.parentNode;\n",
       "\n",
       "    // jQuery normalizes the pageX and pageY\n",
       "    // pageX,Y are the mouse positions relative to the document\n",
       "    // offset() returns the position of the element relative to the document\n",
       "    var x = e.pageX - $(targ).offset().left;\n",
       "    var y = e.pageY - $(targ).offset().top;\n",
       "\n",
       "    return {\"x\": x, \"y\": y};\n",
       "};\n",
       "\n",
       "/*\n",
       " * return a copy of an object with only non-object keys\n",
       " * we need this to avoid circular references\n",
       " * http://stackoverflow.com/a/24161582/3208463\n",
       " */\n",
       "function simpleKeys (original) {\n",
       "  return Object.keys(original).reduce(function (obj, key) {\n",
       "    if (typeof original[key] !== 'object')\n",
       "        obj[key] = original[key]\n",
       "    return obj;\n",
       "  }, {});\n",
       "}\n",
       "\n",
       "mpl.figure.prototype.mouse_event = function(event, name) {\n",
       "    var canvas_pos = mpl.findpos(event)\n",
       "\n",
       "    if (name === 'button_press')\n",
       "    {\n",
       "        this.canvas.focus();\n",
       "        this.canvas_div.focus();\n",
       "    }\n",
       "\n",
       "    var x = canvas_pos.x * mpl.ratio;\n",
       "    var y = canvas_pos.y * mpl.ratio;\n",
       "\n",
       "    this.send_message(name, {x: x, y: y, button: event.button,\n",
       "                             step: event.step,\n",
       "                             guiEvent: simpleKeys(event)});\n",
       "\n",
       "    /* This prevents the web browser from automatically changing to\n",
       "     * the text insertion cursor when the button is pressed.  We want\n",
       "     * to control all of the cursor setting manually through the\n",
       "     * 'cursor' event from matplotlib */\n",
       "    event.preventDefault();\n",
       "    return false;\n",
       "}\n",
       "\n",
       "mpl.figure.prototype._key_event_extra = function(event, name) {\n",
       "    // Handle any extra behaviour associated with a key event\n",
       "}\n",
       "\n",
       "mpl.figure.prototype.key_event = function(event, name) {\n",
       "\n",
       "    // Prevent repeat events\n",
       "    if (name == 'key_press')\n",
       "    {\n",
       "        if (event.which === this._key)\n",
       "            return;\n",
       "        else\n",
       "            this._key = event.which;\n",
       "    }\n",
       "    if (name == 'key_release')\n",
       "        this._key = null;\n",
       "\n",
       "    var value = '';\n",
       "    if (event.ctrlKey && event.which != 17)\n",
       "        value += \"ctrl+\";\n",
       "    if (event.altKey && event.which != 18)\n",
       "        value += \"alt+\";\n",
       "    if (event.shiftKey && event.which != 16)\n",
       "        value += \"shift+\";\n",
       "\n",
       "    value += 'k';\n",
       "    value += event.which.toString();\n",
       "\n",
       "    this._key_event_extra(event, name);\n",
       "\n",
       "    this.send_message(name, {key: value,\n",
       "                             guiEvent: simpleKeys(event)});\n",
       "    return false;\n",
       "}\n",
       "\n",
       "mpl.figure.prototype.toolbar_button_onclick = function(name) {\n",
       "    if (name == 'download') {\n",
       "        this.handle_save(this, null);\n",
       "    } else {\n",
       "        this.send_message(\"toolbar_button\", {name: name});\n",
       "    }\n",
       "};\n",
       "\n",
       "mpl.figure.prototype.toolbar_button_onmouseover = function(tooltip) {\n",
       "    this.message.textContent = tooltip;\n",
       "};\n",
       "mpl.toolbar_items = [[\"Home\", \"Reset original view\", \"fa fa-home icon-home\", \"home\"], [\"Back\", \"Back to previous view\", \"fa fa-arrow-left icon-arrow-left\", \"back\"], [\"Forward\", \"Forward to next view\", \"fa fa-arrow-right icon-arrow-right\", \"forward\"], [\"\", \"\", \"\", \"\"], [\"Pan\", \"Pan axes with left mouse, zoom with right\", \"fa fa-arrows icon-move\", \"pan\"], [\"Zoom\", \"Zoom to rectangle\", \"fa fa-square-o icon-check-empty\", \"zoom\"], [\"\", \"\", \"\", \"\"], [\"Download\", \"Download plot\", \"fa fa-floppy-o icon-save\", \"download\"]];\n",
       "\n",
       "mpl.extensions = [\"eps\", \"jpeg\", \"pdf\", \"png\", \"ps\", \"raw\", \"svg\", \"tif\"];\n",
       "\n",
       "mpl.default_extension = \"png\";var comm_websocket_adapter = function(comm) {\n",
       "    // Create a \"websocket\"-like object which calls the given IPython comm\n",
       "    // object with the appropriate methods. Currently this is a non binary\n",
       "    // socket, so there is still some room for performance tuning.\n",
       "    var ws = {};\n",
       "\n",
       "    ws.close = function() {\n",
       "        comm.close()\n",
       "    };\n",
       "    ws.send = function(m) {\n",
       "        //console.log('sending', m);\n",
       "        comm.send(m);\n",
       "    };\n",
       "    // Register the callback with on_msg.\n",
       "    comm.on_msg(function(msg) {\n",
       "        //console.log('receiving', msg['content']['data'], msg);\n",
       "        // Pass the mpl event to the overridden (by mpl) onmessage function.\n",
       "        ws.onmessage(msg['content']['data'])\n",
       "    });\n",
       "    return ws;\n",
       "}\n",
       "\n",
       "mpl.mpl_figure_comm = function(comm, msg) {\n",
       "    // This is the function which gets called when the mpl process\n",
       "    // starts-up an IPython Comm through the \"matplotlib\" channel.\n",
       "\n",
       "    var id = msg.content.data.id;\n",
       "    // Get hold of the div created by the display call when the Comm\n",
       "    // socket was opened in Python.\n",
       "    var element = $(\"#\" + id);\n",
       "    var ws_proxy = comm_websocket_adapter(comm)\n",
       "\n",
       "    function ondownload(figure, format) {\n",
       "        window.open(figure.imageObj.src);\n",
       "    }\n",
       "\n",
       "    var fig = new mpl.figure(id, ws_proxy,\n",
       "                           ondownload,\n",
       "                           element.get(0));\n",
       "\n",
       "    // Call onopen now - mpl needs it, as it is assuming we've passed it a real\n",
       "    // web socket which is closed, not our websocket->open comm proxy.\n",
       "    ws_proxy.onopen();\n",
       "\n",
       "    fig.parent_element = element.get(0);\n",
       "    fig.cell_info = mpl.find_output_cell(\"<div id='\" + id + \"'></div>\");\n",
       "    if (!fig.cell_info) {\n",
       "        console.error(\"Failed to find cell for figure\", id, fig);\n",
       "        return;\n",
       "    }\n",
       "\n",
       "    var output_index = fig.cell_info[2]\n",
       "    var cell = fig.cell_info[0];\n",
       "\n",
       "};\n",
       "\n",
       "mpl.figure.prototype.handle_close = function(fig, msg) {\n",
       "    var width = fig.canvas.width/mpl.ratio\n",
       "    fig.root.unbind('remove')\n",
       "\n",
       "    // Update the output cell to use the data from the current canvas.\n",
       "    fig.push_to_output();\n",
       "    var dataURL = fig.canvas.toDataURL();\n",
       "    // Re-enable the keyboard manager in IPython - without this line, in FF,\n",
       "    // the notebook keyboard shortcuts fail.\n",
       "    IPython.keyboard_manager.enable()\n",
       "    $(fig.parent_element).html('<img src=\"' + dataURL + '\" width=\"' + width + '\">');\n",
       "    fig.close_ws(fig, msg);\n",
       "}\n",
       "\n",
       "mpl.figure.prototype.close_ws = function(fig, msg){\n",
       "    fig.send_message('closing', msg);\n",
       "    // fig.ws.close()\n",
       "}\n",
       "\n",
       "mpl.figure.prototype.push_to_output = function(remove_interactive) {\n",
       "    // Turn the data on the canvas into data in the output cell.\n",
       "    var width = this.canvas.width/mpl.ratio\n",
       "    var dataURL = this.canvas.toDataURL();\n",
       "    this.cell_info[1]['text/html'] = '<img src=\"' + dataURL + '\" width=\"' + width + '\">';\n",
       "}\n",
       "\n",
       "mpl.figure.prototype.updated_canvas_event = function() {\n",
       "    // Tell IPython that the notebook contents must change.\n",
       "    IPython.notebook.set_dirty(true);\n",
       "    this.send_message(\"ack\", {});\n",
       "    var fig = this;\n",
       "    // Wait a second, then push the new image to the DOM so\n",
       "    // that it is saved nicely (might be nice to debounce this).\n",
       "    setTimeout(function () { fig.push_to_output() }, 1000);\n",
       "}\n",
       "\n",
       "mpl.figure.prototype._init_toolbar = function() {\n",
       "    var fig = this;\n",
       "\n",
       "    var nav_element = $('<div/>');\n",
       "    nav_element.attr('style', 'width: 100%');\n",
       "    this.root.append(nav_element);\n",
       "\n",
       "    // Define a callback function for later on.\n",
       "    function toolbar_event(event) {\n",
       "        return fig.toolbar_button_onclick(event['data']);\n",
       "    }\n",
       "    function toolbar_mouse_event(event) {\n",
       "        return fig.toolbar_button_onmouseover(event['data']);\n",
       "    }\n",
       "\n",
       "    for(var toolbar_ind in mpl.toolbar_items){\n",
       "        var name = mpl.toolbar_items[toolbar_ind][0];\n",
       "        var tooltip = mpl.toolbar_items[toolbar_ind][1];\n",
       "        var image = mpl.toolbar_items[toolbar_ind][2];\n",
       "        var method_name = mpl.toolbar_items[toolbar_ind][3];\n",
       "\n",
       "        if (!name) { continue; };\n",
       "\n",
       "        var button = $('<button class=\"btn btn-default\" href=\"#\" title=\"' + name + '\"><i class=\"fa ' + image + ' fa-lg\"></i></button>');\n",
       "        button.click(method_name, toolbar_event);\n",
       "        button.mouseover(tooltip, toolbar_mouse_event);\n",
       "        nav_element.append(button);\n",
       "    }\n",
       "\n",
       "    // Add the status bar.\n",
       "    var status_bar = $('<span class=\"mpl-message\" style=\"text-align:right; float: right;\"/>');\n",
       "    nav_element.append(status_bar);\n",
       "    this.message = status_bar[0];\n",
       "\n",
       "    // Add the close button to the window.\n",
       "    var buttongrp = $('<div class=\"btn-group inline pull-right\"></div>');\n",
       "    var button = $('<button class=\"btn btn-mini btn-primary\" href=\"#\" title=\"Stop Interaction\"><i class=\"fa fa-power-off icon-remove icon-large\"></i></button>');\n",
       "    button.click(function (evt) { fig.handle_close(fig, {}); } );\n",
       "    button.mouseover('Stop Interaction', toolbar_mouse_event);\n",
       "    buttongrp.append(button);\n",
       "    var titlebar = this.root.find($('.ui-dialog-titlebar'));\n",
       "    titlebar.prepend(buttongrp);\n",
       "}\n",
       "\n",
       "mpl.figure.prototype._root_extra_style = function(el){\n",
       "    var fig = this\n",
       "    el.on(\"remove\", function(){\n",
       "\tfig.close_ws(fig, {});\n",
       "    });\n",
       "}\n",
       "\n",
       "mpl.figure.prototype._canvas_extra_style = function(el){\n",
       "    // this is important to make the div 'focusable\n",
       "    el.attr('tabindex', 0)\n",
       "    // reach out to IPython and tell the keyboard manager to turn it's self\n",
       "    // off when our div gets focus\n",
       "\n",
       "    // location in version 3\n",
       "    if (IPython.notebook.keyboard_manager) {\n",
       "        IPython.notebook.keyboard_manager.register_events(el);\n",
       "    }\n",
       "    else {\n",
       "        // location in version 2\n",
       "        IPython.keyboard_manager.register_events(el);\n",
       "    }\n",
       "\n",
       "}\n",
       "\n",
       "mpl.figure.prototype._key_event_extra = function(event, name) {\n",
       "    var manager = IPython.notebook.keyboard_manager;\n",
       "    if (!manager)\n",
       "        manager = IPython.keyboard_manager;\n",
       "\n",
       "    // Check for shift+enter\n",
       "    if (event.shiftKey && event.which == 13) {\n",
       "        this.canvas_div.blur();\n",
       "        event.shiftKey = false;\n",
       "        // Send a \"J\" for go to next cell\n",
       "        event.which = 74;\n",
       "        event.keyCode = 74;\n",
       "        manager.command_mode();\n",
       "        manager.handle_keydown(event);\n",
       "    }\n",
       "}\n",
       "\n",
       "mpl.figure.prototype.handle_save = function(fig, msg) {\n",
       "    fig.ondownload(fig, null);\n",
       "}\n",
       "\n",
       "\n",
       "mpl.find_output_cell = function(html_output) {\n",
       "    // Return the cell and output element which can be found *uniquely* in the notebook.\n",
       "    // Note - this is a bit hacky, but it is done because the \"notebook_saving.Notebook\"\n",
       "    // IPython event is triggered only after the cells have been serialised, which for\n",
       "    // our purposes (turning an active figure into a static one), is too late.\n",
       "    var cells = IPython.notebook.get_cells();\n",
       "    var ncells = cells.length;\n",
       "    for (var i=0; i<ncells; i++) {\n",
       "        var cell = cells[i];\n",
       "        if (cell.cell_type === 'code'){\n",
       "            for (var j=0; j<cell.output_area.outputs.length; j++) {\n",
       "                var data = cell.output_area.outputs[j];\n",
       "                if (data.data) {\n",
       "                    // IPython >= 3 moved mimebundle to data attribute of output\n",
       "                    data = data.data;\n",
       "                }\n",
       "                if (data['text/html'] == html_output) {\n",
       "                    return [cell, data, j];\n",
       "                }\n",
       "            }\n",
       "        }\n",
       "    }\n",
       "}\n",
       "\n",
       "// Register the function which deals with the matplotlib target/channel.\n",
       "// The kernel may be null if the page has been refreshed.\n",
       "if (IPython.notebook.kernel != null) {\n",
       "    IPython.notebook.kernel.comm_manager.register_target('matplotlib', mpl.mpl_figure_comm);\n",
       "}\n"
      ],
      "text/plain": [
       "<IPython.core.display.Javascript object>"
      ]
     },
     "metadata": {},
     "output_type": "display_data"
    },
    {
     "data": {
      "text/html": [
       "<img src=\"data:image/png;base64,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\" width=\"640\">"
      ],
      "text/plain": [
       "<IPython.core.display.HTML object>"
      ]
     },
     "metadata": {},
     "output_type": "display_data"
    }
   ],
   "source": [
    "fig, ax = plt.subplots()\n",
    "ax.plot(freq_small_list, alpha_small_list[:, 2, 2])\n",
    "ax.set_xlabel(r\"$\\omega$ / $E_\\mathrm{h}$\")\n",
    "ax.set_ylabel(r\"$\\alpha_{zz} (\\omega)$ / a.u.\")\n",
    "ax.set_title(\"Frequency-Dependent Polarizability of $\\mathrm{H_2O_2}$ (RHF/6-31G)\\nFor First Two Excited States\")\n",
    "fig.show()"
   ]
  },
  {
   "cell_type": "markdown",
   "metadata": {},
   "source": [
    "从这两张图的纵坐标的缩放关系来看，事实上，对于每一个振荡峰，其振荡是趋于无穷大的；并且其对应的频率恰好是分子 TD-HF 计算得到的激发能。这将会在后面的文档中叙述并验证。"
   ]
  },
  {
   "cell_type": "markdown",
   "metadata": {},
   "source": [
    "## TD-HF 方程过程回顾"
   ]
  },
  {
   "cell_type": "markdown",
   "metadata": {},
   "source": [
    "### TD-HF 方程与激发能"
   ]
  },
  {
   "cell_type": "markdown",
   "metadata": {},
   "source": [
    "一般会认为，TD 方法是用于求解与电子激发过程有关的方法。最常用的应用即是求解激发能与跃迁偶极矩。我们在这一段先回顾这两者的计算过程。"
   ]
  },
  {
   "cell_type": "markdown",
   "metadata": {},
   "source": [
    "在进行后续的描述前，我们会定义下述与 TD-HF 方程有关的张量或矩阵 `A` $\\mathbb{A}_{ia, jb}$ 与 `B` $\\mathbb{B}_{ia, jb}$：\n",
    "\n",
    "$$\n",
    "\\begin{align}\n",
    "\\mathbb{A}_{ia, jb} &= (\\varepsilon_a - \\varepsilon_i) \\delta_{ij} \\delta_{ab} + 2 (ia|jb) - (ij|ab) \\\\\n",
    "\\mathbb{B}_{ia, jb} &= 2 (ia|jb) - (ib|ja)\n",
    "\\end{align}\n",
    "$$"
   ]
  },
  {
   "cell_type": "markdown",
   "metadata": {},
   "source": [
    "其中两个辅助变量为：\n",
    "\n",
    "- `delta_ij` $\\delta_{ij}$ 为占据轨道数维度的单位矩阵\n",
    "\n",
    "- `delta_ab` $\\delta_{ab}$ 为非占轨道数维度的单位矩阵"
   ]
  },
  {
   "cell_type": "code",
   "execution_count": 20,
   "metadata": {},
   "outputs": [],
   "source": [
    "delta_ij, delta_ab = np.eye(nocc), np.eye(nvir)"
   ]
  },
  {
   "cell_type": "code",
   "execution_count": 21,
   "metadata": {},
   "outputs": [],
   "source": [
    "A_iajb = (\n",
    "    np.einsum(\"ia, ij, ab -> iajb\", - e[so, None] + e[sv], delta_ij, delta_ab)\n",
    "    + 2 * eri0_mo[so, sv, so, sv]\n",
    "    - eri0_mo[so, so, sv, sv].swapaxes(1, 2))\n",
    "B_iajb = (\n",
    "    + 2 * eri0_mo[so, sv, so, sv]\n",
    "    - eri0_mo[so, sv, so, sv].swapaxes(1, 3))"
   ]
  },
  {
   "cell_type": "markdown",
   "metadata": {},
   "source": [
    "为了后文的代码方便，我们把双下标的矩阵记为 `A` $A_{PQ}$ 与 `B` $B_{PQ}$："
   ]
  },
  {
   "cell_type": "code",
   "execution_count": 22,
   "metadata": {},
   "outputs": [],
   "source": [
    "A = A_iajb.reshape(nocc*nvir, nocc*nvir)\n",
    "B = B_iajb.reshape(nocc*nvir, nocc*nvir)"
   ]
  },
  {
   "cell_type": "markdown",
   "metadata": {},
   "source": [
    "根据 TD-DFT 中的 Casida 方程 (TD-DFT 可以看作是 TD-HF 情形的扩展)，我们可以写出 TD-HF 的频率及其对应的本征向量为 $\\omega_n, X_{ia}^n, Y_{ia}^n$，或者双下标记号的 $X_{P}^n, Y_{P}^n$。其中，$X_{ia}^n$ 有时称为第 $n$ 个激发态的激发矩阵，$Y_{ia}^n$ 则称退激发矩阵。这几者之间满足下述 TD-HF 矩阵方程。\n",
    "\n",
    "$$\n",
    "\\begin{pmatrix} \\mathbb{A} & \\mathbb{B} \\\\ - \\mathbb{B} & - \\mathbb{A} \\end{pmatrix}\n",
    "\\begin{pmatrix} \\mathbf{X}^n \\\\ \\mathbf{Y}^n \\end{pmatrix}\n",
    "= \\omega_n \\begin{pmatrix} \\mathbf{X}^n \\\\ \\mathbf{Y}^n \\end{pmatrix}\n",
    "$$\n",
    "\n",
    "我们在程序上，记等式左边的大矩阵为 `AB`。"
   ]
  },
  {
   "cell_type": "code",
   "execution_count": 23,
   "metadata": {},
   "outputs": [
    {
     "data": {
      "text/plain": [
       "(234, 234)"
      ]
     },
     "execution_count": 23,
     "metadata": {},
     "output_type": "execute_result"
    }
   ],
   "source": [
    "AB = np.block([\n",
    "    [  A,   B],\n",
    "    [- B, - A]\n",
    "])\n",
    "AB.shape"
   ]
  },
  {
   "cell_type": "markdown",
   "metadata": {},
   "source": [
    "我们首先解出上述矩阵的本征值 `eigs` 与本征向量 `xys`："
   ]
  },
  {
   "cell_type": "code",
   "execution_count": 24,
   "metadata": {},
   "outputs": [],
   "source": [
    "eigs, xys = np.linalg.eig(AB)"
   ]
  },
  {
   "cell_type": "markdown",
   "metadata": {},
   "source": [
    "但我们会发现，我们本来预期的在 6-31G 基组下可解的激发态数量只有 $n_\\mathrm{occ} n_\\mathrm{vir} = 117$，但本征值数量却是 234 个。我们需要舍去所有负值的本征值。事实上，负值的本征值与正值的本征值之间有一一对应的关系。"
   ]
  },
  {
   "cell_type": "code",
   "execution_count": 25,
   "metadata": {},
   "outputs": [
    {
     "data": {
      "text/plain": [
       "117"
      ]
     },
     "execution_count": 25,
     "metadata": {},
     "output_type": "execute_result"
    }
   ],
   "source": [
    "(eigs < 0).sum()"
   ]
  },
  {
   "cell_type": "markdown",
   "metadata": {},
   "source": [
    "我们舍去负本征值及其对应的本征向量，并对本征值作排序，得到正的本征值 `eigs_sorted` 及其相对应的本征向量 `xys_sorted`："
   ]
  },
  {
   "cell_type": "code",
   "execution_count": 26,
   "metadata": {},
   "outputs": [],
   "source": [
    "eigs_sorted = eigs[eigs.argsort()[int(eigs.size / 2):]]\n",
    "xys_sorted = xys[:, eigs.argsort()[int(eigs.size / 2):]]"
   ]
  },
  {
   "cell_type": "markdown",
   "metadata": {},
   "source": [
    "我们应当可以验证，上述本征值与本征向量确实满足 TD-HF 矩阵方程："
   ]
  },
  {
   "cell_type": "code",
   "execution_count": 27,
   "metadata": {},
   "outputs": [
    {
     "data": {
      "text/plain": [
       "True"
      ]
     },
     "execution_count": 27,
     "metadata": {},
     "output_type": "execute_result"
    }
   ],
   "source": [
    "np.allclose(AB @ xys_sorted, eigs_sorted * xys_sorted)"
   ]
  },
  {
   "cell_type": "markdown",
   "metadata": {},
   "source": [
    "最后，我们用 `td_eig` $\\omega_n$、`td_x_unnormed` 未归一化的 $X^n_P$、`td_y_unnormed` 未归一化的 $Y^n_P$ 来重新整理上述的结果 `eigs_sorted` 与 `xys_sorted`。需要注意，变量 `td_x_unnormed` 的两个维度中，第一个维度为激发态 $n$，第二个维度为双下标 $P = ia$；尽管两个维度的大小都是 $n_\\mathrm{occ} n_\\mathrm{vir} = 117$，但意义完全不同。"
   ]
  },
  {
   "cell_type": "code",
   "execution_count": 28,
   "metadata": {},
   "outputs": [],
   "source": [
    "td_eig = eigs_sorted\n",
    "td_x_unnormed = xys_sorted.T[:, :nvir*nocc]\n",
    "td_y_unnormed = xys_sorted.T[:, nvir*nocc:]"
   ]
  },
  {
   "cell_type": "markdown",
   "metadata": {},
   "source": [
    "我们简单看一下最低激发能的几个激发态的能级大小，单位是原子单位或 Hartree $E_\\mathrm{h}$："
   ]
  },
  {
   "cell_type": "code",
   "execution_count": 29,
   "metadata": {},
   "outputs": [
    {
     "data": {
      "text/plain": [
       "array([0.18674, 0.19114, 0.35357, 0.39384, 0.41744, 0.42516, 0.45701, 0.4702 , 0.50732, 0.55833])"
      ]
     },
     "execution_count": 29,
     "metadata": {},
     "output_type": "execute_result"
    }
   ],
   "source": [
    "eigs_sorted[:10]"
   ]
  },
  {
   "cell_type": "markdown",
   "metadata": {},
   "source": [
    "我们能看到最低的激发态中，有 0.187 与 0.191；这恰好与上面 Gaussian 绘制出来的含频极化率图中的两个振荡峰位置恰好吻合。这并非是偶然，并且我们会在后文进行更详细的描述。"
   ]
  },
  {
   "cell_type": "markdown",
   "metadata": {},
   "source": [
    "### TD-HF 跃迁偶极矩"
   ]
  },
  {
   "cell_type": "markdown",
   "metadata": {},
   "source": [
    "从基态波函数 $| 0 \\rangle$ 到激发态波函数 $| n \\rangle$ 的跃迁偶极矩可以写作 $\\langle 0 | \\hat d{}^t | n \\rangle$ 或等价的 $- \\langle 0 | t | n \\rangle$；留意到 $t \\in \\{ x, y, z \\}$。但实施上，我们尚不能写出激发态波函数 $| n \\rangle$ 的具体形式。这个激发态波函数需要通过激发矩阵 $X_{ia}^n$ 与退激发矩阵 $Y_{ia}^n$ 来描述。\n",
    "\n",
    "刚才的计算中，我们得到的本征向量是未经归一化的；它乘以任何非零常数，仍然会是 TD-HF 矩阵方程的本征向量。但我们可以使用激发与退激发，赋予这个本征向量以物理含义。其归一化条件是，态 $| n \\rangle$ 的电子数守恒，即与 $| 0 \\rangle$ 的电子数相同。在 RHF 问题下，这要求\n",
    "\n",
    "$$\n",
    "(X_{ia}^n)^2 - (Y_{ia}^n)^2 = 2\n",
    "$$\n",
    "\n",
    "我们令归一化过程中的中间量为 `td_renorm` $N_n = \\frac{1}{2} \\left( (X_{ia}^n)^2 - (Y_{ia}^n)^2 \\right)$："
   ]
  },
  {
   "cell_type": "code",
   "execution_count": 30,
   "metadata": {},
   "outputs": [],
   "source": [
    "td_renorm = ((td_x_unnormed**2).sum(axis=1) - (td_y_unnormed**2).sum(axis=1)) / 2"
   ]
  },
  {
   "cell_type": "markdown",
   "metadata": {},
   "source": [
    "那么重新归一化后的 `X` $X_P^n$ 与 `Y` $Y_P^n$ 为"
   ]
  },
  {
   "cell_type": "code",
   "execution_count": 31,
   "metadata": {},
   "outputs": [],
   "source": [
    "X = td_x_unnormed / np.sqrt(td_renorm)[:, None]\n",
    "Y = td_y_unnormed / np.sqrt(td_renorm)[:, None]"
   ]
  },
  {
   "cell_type": "markdown",
   "metadata": {},
   "source": [
    "为了处理一些问题的便利，我们声明变量 `X_ia` $X_{ia}^n$ 与 `Y_ia` $Y_{ia}^n$；它们的维度均是 $(n, i, a)$："
   ]
  },
  {
   "cell_type": "code",
   "execution_count": 32,
   "metadata": {},
   "outputs": [
    {
     "data": {
      "text/plain": [
       "(117, 9, 13)"
      ]
     },
     "execution_count": 32,
     "metadata": {},
     "output_type": "execute_result"
    }
   ],
   "source": [
    "X_ia = X.reshape(nocc*nvir, nocc, nvir)\n",
    "Y_ia = Y.reshape(nocc*nvir, nocc, nvir)\n",
    "X_ia.shape"
   ]
  },
  {
   "cell_type": "markdown",
   "metadata": {},
   "source": [
    "以此为基础，我们可以写出 TD-HF 的跃迁偶极矩 `td_transdip`\n",
    "\n",
    "$$\n",
    "\\langle 0 | \\hat d{}^t | n \\rangle = d_{ia}^t (X_{ia}^n + Y_{ia}^n)\n",
    "$$\n",
    "\n",
    "我们会打印出最低能级的 5 个激发态的跃迁偶极矩："
   ]
  },
  {
   "cell_type": "code",
   "execution_count": 33,
   "metadata": {},
   "outputs": [
    {
     "data": {
      "text/plain": [
       "array([[-0.00096,  0.01194, -0.10696],\n",
       "       [-0.01912, -0.02168,  0.07287],\n",
       "       [ 0.01189,  0.06348, -0.09044],\n",
       "       [ 0.28032, -0.11958, -1.16236],\n",
       "       [-0.11797,  0.0042 , -0.50674]])"
      ]
     },
     "execution_count": 33,
     "metadata": {},
     "output_type": "execute_result"
    }
   ],
   "source": [
    "td_transdip = np.einsum(\"tia, nia -> nt\", d_ia, X_ia + Y_ia)\n",
    "td_transdip[:5]"
   ]
  },
  {
   "cell_type": "markdown",
   "metadata": {},
   "source": [
    "这与 PySCF 所给出的跃迁偶极矩几乎是相同的，但符号上会有差异。我们认为这已经完整并成功地重复了跃迁偶极矩了。"
   ]
  },
  {
   "cell_type": "code",
   "execution_count": 34,
   "metadata": {},
   "outputs": [
    {
     "data": {
      "text/plain": [
       "array([[-0.00096,  0.01194, -0.10696],\n",
       "       [ 0.01912,  0.02168, -0.07287],\n",
       "       [-0.01189, -0.06348,  0.09044],\n",
       "       [-0.28032,  0.11958,  1.16236],\n",
       "       [ 0.11797, -0.0042 ,  0.50674]])"
      ]
     },
     "execution_count": 34,
     "metadata": {},
     "output_type": "execute_result"
    }
   ],
   "source": [
    "scf_td.transition_dipole()[:5]"
   ]
  },
  {
   "cell_type": "markdown",
   "metadata": {},
   "source": [
    "需要注意，这可能与 Gaussian 计算得到的跃迁偶极矩的值接近但并不完全相等。这可能与 Gaussian 默认的 TD-HF 精度偏低有关。"
   ]
  },
  {
   "cell_type": "markdown",
   "metadata": {},
   "source": [
    "## 静态极化率"
   ]
  },
  {
   "cell_type": "markdown",
   "metadata": {},
   "source": [
    "### 偶极微扰下的 CP-HF 方程"
   ]
  },
  {
   "cell_type": "markdown",
   "metadata": {},
   "source": [
    "这篇文档的一个目的是将 CP-HF 方程与 TD-HF 方程之间的关系作一个联系。因此，我们需要首先了解 CP-HF 方程在静态极化率中的工作过程。"
   ]
  },
  {
   "cell_type": "markdown",
   "metadata": {},
   "source": [
    "<div class=\"alert alert-warning\">\n",
    "\n",
    "**提醒**\n",
    "\n",
    "尽管我们确实可以用后续文档中的代码或公式计算得到一些结果，但这并不意味着成型的量化软件也使用这些算法。譬如对于 RHF 下静态极化率计算，通常更高效的做法是使用类似于 CP-HF 方程的 Z-Vector 方程。\n",
    "\n",
    "</div>"
   ]
  },
  {
   "cell_type": "markdown",
   "metadata": {},
   "source": [
    "由此，我们会写偶极微扰下的 CP-HF 方程为\n",
    "\n",
    "$$\n",
    "A'_{ia, jb} U^t_{jb} = d^t_{ia}\n",
    "$$"
   ]
  },
  {
   "cell_type": "markdown",
   "metadata": {},
   "source": [
    "下面简单但不严谨地回顾 CP-HF 方程的推导思路。我们在分子体系上，外加一个微扰偶极场，其大小是分子轨道基组下的 $d_{pq}^t$ 偶极矩阵，微扰哈密顿量为 $t$ (即单位方向为 $t$ 的电场微扰)。根据 RHF 的变分条件，任何外加微扰的哈密顿量 $t$ 都应该满足\n",
    "\n",
    "$$\n",
    "\\frac{\\partial F_{pq}}{\\partial t} = 0\n",
    "$$\n",
    "\n",
    "通过该式，几乎可以直接得到 CP-HF 方程。方程的左边定义上是偶极积分，右边的 `A_p` $A'_{ia, jb}$ 为\n",
    "\n",
    "$$\n",
    "A'_{ia, jb} = (\\varepsilon_a - \\varepsilon_i) \\delta_{ij} \\delta_{ab} + 4 (ia|jb) - (ij|ab) - (ib|ja)\n",
    "$$\n",
    "\n",
    "而 `U_ia` $U_{jb}^t$ 称为 U 矩阵，表示的是与电子态密度在外加偶极微扰影响下的变化有关的量；一种导出式如下：\n",
    "\n",
    "$$\n",
    "\\frac{\\partial D_{pq}}{\\partial t} = D_{pm} U^t_{mq} + D_{mq} U^t_{mp}\n",
    "$$\n",
    "\n",
    "因此，CP-HF 的一种直观的解释思路是，它求取的是分子受到外加偶极的微扰 $d^t_{ia}$ 下，电子态密度形变的大小，而这个大小是由 $U_{jb}^t$ U 矩阵刻画的。很容易想到的性质是，若外加偶极微扰趋于零，那么外加的形变微扰也趋于零矩阵。"
   ]
  },
  {
   "cell_type": "markdown",
   "metadata": {},
   "source": [
    "下面我们来求取 CP-HF 方程，给出 `A_p` $A'_{PQ} = A'_{ia, jb}$ 与 `U_ia` $U_{jb}^t$。需要注意在这份文档中，角标顺序是 $ia, jb$ 而非 $ai, bj$；这可能与其它课本或文档的顺序不太相同，在一些矩阵的正负号上也可能存在差异。"
   ]
  },
  {
   "cell_type": "code",
   "execution_count": 35,
   "metadata": {},
   "outputs": [],
   "source": [
    "A_p = (\n",
    "    + np.einsum(\"ia, ij, ab -> iajb\", - e[so, None] + e[sv], delta_ij, delta_ab)\n",
    "    + 4 * eri0_mo[so, sv, so, sv]\n",
    "    - eri0_mo[so, so, sv, sv].swapaxes(1, 2)\n",
    "    - eri0_mo[so, sv, so, sv].swapaxes(1, 3)\n",
    ").reshape(nvir*nocc, nvir*nocc)"
   ]
  },
  {
   "cell_type": "code",
   "execution_count": 36,
   "metadata": {},
   "outputs": [],
   "source": [
    "U_ia = np.einsum(\"PQ, sQ -> sP\", np.linalg.inv(A_p), d_P)\n",
    "U_ia.shape = (3, nocc, nvir)"
   ]
  },
  {
   "cell_type": "markdown",
   "metadata": {},
   "source": [
    "随后，根据求导法则与矩阵的对称性、反对称性的应用，应当可以得到静态极化率表达式为\n",
    "\n",
    "$$\n",
    "\\alpha_{ts} (0) = \\frac{\\partial^2 E_\\mathrm{RHF}}{\\partial t \\partial s} = \\frac{\\partial D_{ij} d^t_{ij} \\delta_{ij}}{\\partial s} = 4 d^t_{ia} U^s_{ia}\n",
    "$$"
   ]
  },
  {
   "cell_type": "code",
   "execution_count": 37,
   "metadata": {},
   "outputs": [
    {
     "data": {
      "text/plain": [
       "array([[ 6.58142, -0.0841 , -1.45378],\n",
       "       [-0.0841 ,  4.26835,  0.39969],\n",
       "       [-1.45378,  0.39969, 17.89033]])"
      ]
     },
     "execution_count": 37,
     "metadata": {},
     "output_type": "execute_result"
    }
   ],
   "source": [
    "4 * np.einsum(\"tia, sia -> ts\", d_ia, U_ia)"
   ]
  },
  {
   "cell_type": "markdown",
   "metadata": {},
   "source": [
    "上述的结果与 Gaussian 计算所得到的静态极化率 `ref_alpha_static` 完全一致。"
   ]
  },
  {
   "cell_type": "code",
   "execution_count": 38,
   "metadata": {},
   "outputs": [
    {
     "data": {
      "text/plain": [
       "True"
      ]
     },
     "execution_count": 38,
     "metadata": {},
     "output_type": "execute_result"
    }
   ],
   "source": [
    "np.allclose(\n",
    "    4 * np.einsum(\"tia, sia -> ts\", d_ia, U_ia),\n",
    "    ref_alpha_static)"
   ]
  },
  {
   "cell_type": "markdown",
   "metadata": {},
   "source": [
    "### 矩阵求逆直接获得静态极化率"
   ]
  },
  {
   "cell_type": "markdown",
   "metadata": {},
   "source": [
    "根据我们所写的 CP-HF 方程\n",
    "\n",
    "$$\n",
    "A'_{ia, jb} U^t_{jb} = d^t_{ia}\n",
    "$$\n",
    "\n",
    "我们应当很容易地想到，如果我们有足够的计算能力，可以对四脚标矩阵 $A'_{ia, jb}$ 求逆，那么我们不一定需要明确写出 U 矩阵，也一样可以求得静态极化率：\n",
    "\n",
    "$$\n",
    "\\alpha_{ts} (0) = 4 d^t_{ia} (A'{}^{-1})_{ia, jb} d^s_{ia}\n",
    "$$\n",
    "\n",
    "当然，上面的计算过程实际上是用双下标 ($P = ia$, $Q = jb$) 表达式实现的：\n",
    "\n",
    "$$\n",
    "\\alpha_{ts} (0) = 4 d^t_{P} (A'{}^{-1})_{PQ} d^s_{Q}\n",
    "$$"
   ]
  },
  {
   "cell_type": "code",
   "execution_count": 39,
   "metadata": {},
   "outputs": [
    {
     "data": {
      "text/plain": [
       "True"
      ]
     },
     "execution_count": 39,
     "metadata": {},
     "output_type": "execute_result"
    }
   ],
   "source": [
    "np.allclose(4 * np.einsum(\"tP, PQ, sQ -> ts\", d_P, np.linalg.inv(A_p), d_P), ref_alpha_static)"
   ]
  },
  {
   "cell_type": "markdown",
   "metadata": {},
   "source": [
    "### 跃迁偶极矩获得静态极化率"
   ]
  },
  {
   "cell_type": "markdown",
   "metadata": {},
   "source": [
    "CP-HF 方程求解静态极化率的思路是非常直观的；但静态极化率还可以通过 TD-HF 的方式求得。表面上，这两种推导思路和前提几乎完全不同；但我们却可以得到数值上 **完全** (而非近似) 相等的静态极化率。这里我们会作说明。"
   ]
  },
  {
   "cell_type": "markdown",
   "metadata": {},
   "source": [
    "我们首先不加说明地直接给出 TD-HF 方式给出的静态极化率公式：\n",
    "\n",
    "$$\n",
    "\\alpha_{ts} (0) = 2 \\frac{\\langle 0 | \\hat d{}^t | n \\rangle \\langle n | \\hat d{}^s | 0 \\rangle}{\\omega_n}\n",
    "$$\n",
    "\n",
    "它很容易化为程序表达式："
   ]
  },
  {
   "cell_type": "code",
   "execution_count": 40,
   "metadata": {},
   "outputs": [
    {
     "data": {
      "text/plain": [
       "array([[ 6.58142, -0.0841 , -1.45378],\n",
       "       [-0.0841 ,  4.26835,  0.39969],\n",
       "       [-1.45378,  0.39969, 17.89033]])"
      ]
     },
     "execution_count": 40,
     "metadata": {},
     "output_type": "execute_result"
    }
   ],
   "source": [
    "2 * np.einsum(\"nt, n, ns -> ts\", td_transdip, 1 / td_eig, td_transdip)"
   ]
  },
  {
   "cell_type": "markdown",
   "metadata": {},
   "source": [
    "我们与上面用 CP-HF 方式计算得到的静态极化率作对比，不难发现两者的值是完全相等的。可以用下述程序与 Gaussian 的计算结果作对比："
   ]
  },
  {
   "cell_type": "code",
   "execution_count": 41,
   "metadata": {},
   "outputs": [
    {
     "data": {
      "text/plain": [
       "True"
      ]
     },
     "execution_count": 41,
     "metadata": {},
     "output_type": "execute_result"
    }
   ],
   "source": [
    "np.allclose(2 * np.einsum(\"nt, n, ns -> ts\", td_transdip, 1 / td_eig, td_transdip), ref_alpha_static)"
   ]
  },
  {
   "cell_type": "markdown",
   "metadata": {},
   "source": [
    "这说明，对于静态极化率问题，TD-HF 与 CP-HF 方法之间有着确实的联系。我们下面就使用 TD-HF 方程来导出 CP-HF 方程的结果，或者说从简单的线性代数角度证明：\n",
    "\n",
    "$$\n",
    "\\alpha_{ts} (0) = 2 \\frac{\\langle 0 | \\hat d{}^t | n \\rangle \\langle n | \\hat d{}^s | 0 \\rangle}{\\omega_n} = 4 d^t_{P} (A'{}^{-1})_{PQ} d^s_{Q}\n",
    "$$"
   ]
  },
  {
   "cell_type": "markdown",
   "metadata": {},
   "source": [
    "### 静态极化率下 TD-HF 方程与 CP-HF 方程的等价推导"
   ]
  },
  {
   "cell_type": "markdown",
   "metadata": {},
   "source": [
    "这里我们会给出静态情况下，TD-HF 与 CP-HF 方程的推演过程。对于动态 (含频) 过程的推演，我们会放在文档的后面描述。"
   ]
  },
  {
   "cell_type": "markdown",
   "metadata": {},
   "source": [
    "首先，我们会说明 TD-HF 方程的 `A` $\\mathbb{A}_{PQ}$ 与 `B` $\\mathbb{B}_{PQ}$ 之和，恰好是 CP-HF 方程的 `A_p` $A'_{PQ}$：\n",
    "\n",
    "$$\n",
    "A'_{PQ} = \\mathbb{A}_{PQ} + \\mathbb{B}_{PQ}\n",
    "$$"
   ]
  },
  {
   "cell_type": "code",
   "execution_count": 42,
   "metadata": {},
   "outputs": [
    {
     "data": {
      "text/plain": [
       "True"
      ]
     },
     "execution_count": 42,
     "metadata": {},
     "output_type": "execute_result"
    }
   ],
   "source": [
    "np.allclose(A + B, A_p)"
   ]
  },
  {
   "cell_type": "markdown",
   "metadata": {},
   "source": [
    "利用 $\\langle 0 | \\hat d{}^t | n \\rangle = d_{ia}^t (X_{ia}^n + Y_{ia}^n)$，我们重新用 $X_P^n, Y_P^n$ 的形式写一下 TD-HF 方程所给出的极化率公式：\n",
    "\n",
    "$$\n",
    "\\alpha_{ts} (0) = 2 \\frac{d_P^t d_Q^s (X_P^n + Y_P^n) (X_Q^n + Y_Q^n)}{\\omega_n}\n",
    "$$"
   ]
  },
  {
   "cell_type": "code",
   "execution_count": 43,
   "metadata": {},
   "outputs": [
    {
     "data": {
      "text/plain": [
       "True"
      ]
     },
     "execution_count": 43,
     "metadata": {},
     "output_type": "execute_result"
    }
   ],
   "source": [
    "np.allclose(2 * np.einsum(\"tP, sQ, nP, nQ, n -> ts\", d_P, d_P, X + Y, X + Y, 1 / td_eig), ref_alpha_static)"
   ]
  },
  {
   "cell_type": "markdown",
   "metadata": {},
   "source": [
    "回顾到 TD-HF 方程\n",
    "\n",
    "$$\n",
    "\\begin{pmatrix} \\mathbb{A} & \\mathbb{B} \\\\ - \\mathbb{B} & - \\mathbb{A} \\end{pmatrix}\n",
    "\\begin{pmatrix} \\mathbf{X}^n \\\\ \\mathbf{Y}^n \\end{pmatrix}\n",
    "= \\omega_n \\begin{pmatrix} \\mathbf{X}^n \\\\ \\mathbf{Y}^n \\end{pmatrix}\n",
    "$$\n",
    "\n",
    "我们可以推知，$(\\mathbb{A} + \\mathbb{B}) (\\mathbf{X}^n + \\mathbf{Y}^n) = \\omega_n (\\mathbf{X}^n - \\mathbf{Y}^n)$，或者写为角标求和的形式，\n",
    "\n",
    "$$\n",
    "(\\mathbb{A} + \\mathbb{B})_{RQ} (\\mathbf{X}^n + \\mathbf{Y}^n)_Q = \\omega_n (\\mathbf{X}^n - \\mathbf{Y}^n)_R\n",
    "$$"
   ]
  },
  {
   "cell_type": "markdown",
   "metadata": {},
   "source": [
    "那么我们可以将上式，以及矩阵逆关系 $(\\mathbb{A} + \\mathbb{B})^{-1} (\\mathbb{A} + \\mathbb{B}) = \\mathbb{1}$ 即\n",
    "\n",
    "$$\n",
    "(\\mathbb{A} + \\mathbb{B})^{-1}_{SR} (\\mathbb{A} + \\mathbb{B})_{RQ} = \\delta_{SQ}\n",
    "$$\n",
    "\n",
    "代入到上面提到的 TD-HF 的极化率公式中，得到\n",
    "\n",
    "$$\n",
    "\\begin{align}\n",
    "\\alpha_{ts} (0)\n",
    "&= 2 \\frac{d_P^t d_Q^s (X_P^n + Y_P^n) (\\mathbb{A} + \\mathbb{B})^{-1}_{QR} (\\mathbb{A} + \\mathbb{B})_{RQ} (X_Q^n + Y_Q^n)}{\\omega_n} \\\\\n",
    "&= 2 d_P^t d_Q^s (X_P^n + Y_P^n) (\\mathbb{A} + \\mathbb{B})^{-1}_{QR} (X_R^n - Y_R^n)\n",
    "\\end{align}\n",
    "$$"
   ]
  },
  {
   "cell_type": "markdown",
   "metadata": {},
   "source": [
    "随后我们需要利用 $\\mathbf{X}^n, \\mathbf{Y}^n$ 的正交化条件。正交化条件我们曾经在给出 $\\mathbf{X}^n, \\mathbf{Y}^n$ 时确实利用到过，但其更有用的推论是 $(\\mathbf{X} + \\mathbf{Y})^\\dagger (\\mathbf{X} - \\mathbf{Y}) = 2 \\cdot \\mathbb{1}$\n",
    "\n",
    "$$\n",
    "(\\mathbf{X}^n + \\mathbf{Y}^n)_P (\\mathbf{X}^n - \\mathbf{Y}^n)_R = 2 \\delta_{PR}\n",
    "$$\n",
    "\n",
    "我们可以用下面的程序来说明这一问题："
   ]
  },
  {
   "cell_type": "code",
   "execution_count": 44,
   "metadata": {},
   "outputs": [
    {
     "data": {
      "text/plain": [
       "array([[ 2., -0., -0., ..., -0., -0.,  0.],\n",
       "       [-0.,  2.,  0., ..., -0., -0., -0.],\n",
       "       [-0.,  0.,  2., ..., -0., -0., -0.],\n",
       "       ...,\n",
       "       [-0., -0.,  0., ...,  2.,  0.,  0.],\n",
       "       [ 0., -0., -0., ...,  0.,  2., -0.],\n",
       "       [-0.,  0.,  0., ...,  0., -0.,  2.]])"
      ]
     },
     "execution_count": 44,
     "metadata": {},
     "output_type": "execute_result"
    }
   ],
   "source": [
    "np.einsum(\"nP, nQ -> PQ\", X + Y, X - Y)"
   ]
  },
  {
   "cell_type": "markdown",
   "metadata": {},
   "source": [
    "那么我们就可以将上面的极化率公式化为\n",
    "\n",
    "$$\n",
    "\\begin{align}\n",
    "\\alpha_{ts} (0)\n",
    "&= 2 d_P^t d_Q^s (\\mathbb{A} + \\mathbb{B})^{-1}_{QR} \\cdot 2 \\delta_{PR} \\\\\n",
    "&= 4 d_Q^s (\\mathbb{A} + \\mathbb{B})^{-1}_{QP} d_P^t \\\\\n",
    "&= 4 d_Q^s (A'{}^{-1})_{QP} d^t_P\n",
    "\\end{align}\n",
    "$$"
   ]
  },
  {
   "cell_type": "markdown",
   "metadata": {},
   "source": [
    "我们知道，上式的等式左边是对 $Q, P$ 双下标进行求和。作为被求和的两个下标是可以被交换的，因此我们可以将上式写为\n",
    "\n",
    "$$\n",
    "\\alpha_{ts} (0) = 4 d_P^s (A'{}^{-1})_{PQ} d^t_Q\n",
    "$$"
   ]
  },
  {
   "cell_type": "code",
   "execution_count": 45,
   "metadata": {},
   "outputs": [
    {
     "data": {
      "text/plain": [
       "True"
      ]
     },
     "execution_count": 45,
     "metadata": {},
     "output_type": "execute_result"
    }
   ],
   "source": [
    "np.allclose(4 * np.einsum(\"sP, PQ, tQ -> ts\", d_P, np.linalg.inv(A_p), d_P), ref_alpha_static)"
   ]
  },
  {
   "cell_type": "markdown",
   "metadata": {},
   "source": [
    "上述推导并没有结束。我们回顾到刚才 CP-HF 所给出的极化率并不是上述的表达式，而是交换了 $t, s$ 两者的极化率：\n",
    "\n",
    "$$\n",
    "\\alpha_{ts} (0) = 4 d_P^t (A'{}^{-1})_{PQ} d^s_Q\n",
    "$$"
   ]
  },
  {
   "cell_type": "code",
   "execution_count": 46,
   "metadata": {},
   "outputs": [
    {
     "data": {
      "text/plain": [
       "True"
      ]
     },
     "execution_count": 46,
     "metadata": {},
     "output_type": "execute_result"
    }
   ],
   "source": [
    "np.allclose(4 * np.einsum(\"tP, PQ, sQ -> ts\", d_P, np.linalg.inv(A_p), d_P), ref_alpha_static)"
   ]
  },
  {
   "cell_type": "markdown",
   "metadata": {},
   "source": [
    "从极化率作为能量的二阶梯度的角度来说，这是因为被求导量可交换，因此极化率具有 Hermite 性质：\n",
    "\n",
    "$$\n",
    "\\alpha_{ts} (\\omega) = \\alpha_{st} (\\omega)\n",
    "$$\n",
    "\n",
    "到这一步为止，从 TD-HF 方程给出的极化率，成功地推导出了 CP-HF 方程所给出的极化率。"
   ]
  },
  {
   "cell_type": "markdown",
   "metadata": {},
   "source": [
    "## 含频极化率"
   ]
  },
  {
   "cell_type": "markdown",
   "metadata": {},
   "source": [
    "### 跃迁偶极矩获得含频极化率"
   ]
  },
  {
   "cell_type": "markdown",
   "metadata": {},
   "source": [
    "我们先不对含频极化率作公式上的分析，先只看数值的结果，并与 Gaussian 输出的结果进行比较。\n",
    "\n",
    "我们仍然不加说明地直接给出 TD-HF 方式给出的含频极化率公式：\n",
    "\n",
    "$$\n",
    "\\alpha_{ts} (\\omega_n) = \\frac{\\langle 0 | \\hat d{}^t | n \\rangle \\langle n | \\hat d{}^s | 0 \\rangle}{\\omega_n - \\omega} + \\frac{\\langle 0 | \\hat d{}^t | n \\rangle \\langle n | \\hat d{}^s | 0 \\rangle}{\\omega_n + \\omega}\n",
    "$$\n",
    "\n",
    "需要留意的是，$\\omega_n$ 为分子通过 TD-HF 方程解出来的激发能，而 $\\omega$ 是外加的、任意的激发光束频率；两者除了单位一致外几乎完全无关。\n",
    "\n",
    "上述公式中，前一项称为共振项 (resonance term)，后一项称为非共振项。这两项在不同频率下的行为可以很容易地用图片表示出来；当 $\\omega$ 接近激发频率 $\\omega_n$ 时产生断点行为的项是共振项。\n",
    "\n",
    "它也很容易化为程序表达式。我们用下述函数 `freq_to_alpha`，输入 `omega` $\\omega$ 来返回含频频率 $\\alpha_{ts} (\\omega_n)$；并将其中的共振项与非共振项拆分为函数 `freq_to_res` 与 `freq_to_nonres`："
   ]
  },
  {
   "cell_type": "code",
   "execution_count": 47,
   "metadata": {},
   "outputs": [],
   "source": [
    "freq_to_res    = lambda omega: np.einsum(\"nt, n, ns -> ts\", td_transdip, 1 / (td_eig - omega), td_transdip)\n",
    "freq_to_nonres = lambda omega: np.einsum(\"nt, n, ns -> ts\", td_transdip, 1 / (td_eig + omega), td_transdip)\n",
    "freq_to_alpha  = lambda omega: freq_to_res(omega) + freq_to_nonres(omega)"
   ]
  },
  {
   "cell_type": "markdown",
   "metadata": {},
   "source": [
    "若外加激发光束频率为 0，那么将退化到静态极化率的情形中："
   ]
  },
  {
   "cell_type": "code",
   "execution_count": 48,
   "metadata": {},
   "outputs": [
    {
     "data": {
      "text/plain": [
       "array([[ 6.58142, -0.0841 , -1.45378],\n",
       "       [-0.0841 ,  4.26835,  0.39969],\n",
       "       [-1.45378,  0.39969, 17.89033]])"
      ]
     },
     "execution_count": 48,
     "metadata": {},
     "output_type": "execute_result"
    }
   ],
   "source": [
    "freq_to_alpha(0)"
   ]
  },
  {
   "cell_type": "code",
   "execution_count": 49,
   "metadata": {
    "scrolled": true
   },
   "outputs": [
    {
     "data": {
      "text/plain": [
       "True"
      ]
     },
     "execution_count": 49,
     "metadata": {},
     "output_type": "execute_result"
    }
   ],
   "source": [
    "np.allclose(freq_to_alpha(0), ref_alpha_static)"
   ]
  },
  {
   "cell_type": "markdown",
   "metadata": {},
   "source": [
    "在静态情况下，共振项与非共振项对总极化率的贡献是相等的："
   ]
  },
  {
   "cell_type": "code",
   "execution_count": 50,
   "metadata": {
    "scrolled": true
   },
   "outputs": [
    {
     "data": {
      "text/plain": [
       "array([[ 3.29071, -0.04205, -0.72689],\n",
       "       [-0.04205,  2.13418,  0.19984],\n",
       "       [-0.72689,  0.19984,  8.94517]])"
      ]
     },
     "execution_count": 50,
     "metadata": {},
     "output_type": "execute_result"
    }
   ],
   "source": [
    "freq_to_res(0)"
   ]
  },
  {
   "cell_type": "markdown",
   "metadata": {},
   "source": [
    "我们现在想要尝试与 Gaussian 的数据进行核对并绘制图片。回顾到我们曾经定义过 `freq_full_list` 为较广的频率范围，其对应的 Gaussian 计算的极化率在 `alpha_full_list`。我们将用 `freq_to_alpha` 函数绘制的 $\\alpha_{zz} (\\omega)$ 极化率分量放在 numpy 张量列表 `alpha_zz_full_calc` 中；并将其共振项与非共振项分别放在 `alpha_zz_full_res` 与 `alpha_zz_full_nonres`："
   ]
  },
  {
   "cell_type": "code",
   "execution_count": 51,
   "metadata": {},
   "outputs": [],
   "source": [
    "alpha_zz_full_calc   = np.vectorize(lambda omega: freq_to_alpha (omega)[2, 2])(freq_full_list)\n",
    "alpha_zz_full_res    = np.vectorize(lambda omega: freq_to_res   (omega)[2, 2])(freq_full_list)\n",
    "alpha_zz_full_nonres = np.vectorize(lambda omega: freq_to_nonres(omega)[2, 2])(freq_full_list)"
   ]
  },
  {
   "cell_type": "markdown",
   "metadata": {},
   "source": [
    "下面我们绘制在这个频率区间内，Gaussian 计算得到的结果与我们用上面跃迁偶极矩的公式获得的结果作比较。尽管在断点附近两者表现略有不同，但稳定区间的含频极化率与 Gaussian 的结果基本上是一致的。"
   ]
  },
  {
   "cell_type": "code",
   "execution_count": 52,
   "metadata": {},
   "outputs": [
    {
     "data": {
      "application/javascript": [
       "/* Put everything inside the global mpl namespace */\n",
       "window.mpl = {};\n",
       "\n",
       "\n",
       "mpl.get_websocket_type = function() {\n",
       "    if (typeof(WebSocket) !== 'undefined') {\n",
       "        return WebSocket;\n",
       "    } else if (typeof(MozWebSocket) !== 'undefined') {\n",
       "        return MozWebSocket;\n",
       "    } else {\n",
       "        alert('Your browser does not have WebSocket support. ' +\n",
       "              'Please try Chrome, Safari or Firefox ≥ 6. ' +\n",
       "              'Firefox 4 and 5 are also supported but you ' +\n",
       "              'have to enable WebSockets in about:config.');\n",
       "    };\n",
       "}\n",
       "\n",
       "mpl.figure = function(figure_id, websocket, ondownload, parent_element) {\n",
       "    this.id = figure_id;\n",
       "\n",
       "    this.ws = websocket;\n",
       "\n",
       "    this.supports_binary = (this.ws.binaryType != undefined);\n",
       "\n",
       "    if (!this.supports_binary) {\n",
       "        var warnings = document.getElementById(\"mpl-warnings\");\n",
       "        if (warnings) {\n",
       "            warnings.style.display = 'block';\n",
       "            warnings.textContent = (\n",
       "                \"This browser does not support binary websocket messages. \" +\n",
       "                    \"Performance may be slow.\");\n",
       "        }\n",
       "    }\n",
       "\n",
       "    this.imageObj = new Image();\n",
       "\n",
       "    this.context = undefined;\n",
       "    this.message = undefined;\n",
       "    this.canvas = undefined;\n",
       "    this.rubberband_canvas = undefined;\n",
       "    this.rubberband_context = undefined;\n",
       "    this.format_dropdown = undefined;\n",
       "\n",
       "    this.image_mode = 'full';\n",
       "\n",
       "    this.root = $('<div/>');\n",
       "    this._root_extra_style(this.root)\n",
       "    this.root.attr('style', 'display: inline-block');\n",
       "\n",
       "    $(parent_element).append(this.root);\n",
       "\n",
       "    this._init_header(this);\n",
       "    this._init_canvas(this);\n",
       "    this._init_toolbar(this);\n",
       "\n",
       "    var fig = this;\n",
       "\n",
       "    this.waiting = false;\n",
       "\n",
       "    this.ws.onopen =  function () {\n",
       "            fig.send_message(\"supports_binary\", {value: fig.supports_binary});\n",
       "            fig.send_message(\"send_image_mode\", {});\n",
       "            if (mpl.ratio != 1) {\n",
       "                fig.send_message(\"set_dpi_ratio\", {'dpi_ratio': mpl.ratio});\n",
       "            }\n",
       "            fig.send_message(\"refresh\", {});\n",
       "        }\n",
       "\n",
       "    this.imageObj.onload = function() {\n",
       "            if (fig.image_mode == 'full') {\n",
       "                // Full images could contain transparency (where diff images\n",
       "                // almost always do), so we need to clear the canvas so that\n",
       "                // there is no ghosting.\n",
       "                fig.context.clearRect(0, 0, fig.canvas.width, fig.canvas.height);\n",
       "            }\n",
       "            fig.context.drawImage(fig.imageObj, 0, 0);\n",
       "        };\n",
       "\n",
       "    this.imageObj.onunload = function() {\n",
       "        fig.ws.close();\n",
       "    }\n",
       "\n",
       "    this.ws.onmessage = this._make_on_message_function(this);\n",
       "\n",
       "    this.ondownload = ondownload;\n",
       "}\n",
       "\n",
       "mpl.figure.prototype._init_header = function() {\n",
       "    var titlebar = $(\n",
       "        '<div class=\"ui-dialog-titlebar ui-widget-header ui-corner-all ' +\n",
       "        'ui-helper-clearfix\"/>');\n",
       "    var titletext = $(\n",
       "        '<div class=\"ui-dialog-title\" style=\"width: 100%; ' +\n",
       "        'text-align: center; padding: 3px;\"/>');\n",
       "    titlebar.append(titletext)\n",
       "    this.root.append(titlebar);\n",
       "    this.header = titletext[0];\n",
       "}\n",
       "\n",
       "\n",
       "\n",
       "mpl.figure.prototype._canvas_extra_style = function(canvas_div) {\n",
       "\n",
       "}\n",
       "\n",
       "\n",
       "mpl.figure.prototype._root_extra_style = function(canvas_div) {\n",
       "\n",
       "}\n",
       "\n",
       "mpl.figure.prototype._init_canvas = function() {\n",
       "    var fig = this;\n",
       "\n",
       "    var canvas_div = $('<div/>');\n",
       "\n",
       "    canvas_div.attr('style', 'position: relative; clear: both; outline: 0');\n",
       "\n",
       "    function canvas_keyboard_event(event) {\n",
       "        return fig.key_event(event, event['data']);\n",
       "    }\n",
       "\n",
       "    canvas_div.keydown('key_press', canvas_keyboard_event);\n",
       "    canvas_div.keyup('key_release', canvas_keyboard_event);\n",
       "    this.canvas_div = canvas_div\n",
       "    this._canvas_extra_style(canvas_div)\n",
       "    this.root.append(canvas_div);\n",
       "\n",
       "    var canvas = $('<canvas/>');\n",
       "    canvas.addClass('mpl-canvas');\n",
       "    canvas.attr('style', \"left: 0; top: 0; z-index: 0; outline: 0\")\n",
       "\n",
       "    this.canvas = canvas[0];\n",
       "    this.context = canvas[0].getContext(\"2d\");\n",
       "\n",
       "    var backingStore = this.context.backingStorePixelRatio ||\n",
       "\tthis.context.webkitBackingStorePixelRatio ||\n",
       "\tthis.context.mozBackingStorePixelRatio ||\n",
       "\tthis.context.msBackingStorePixelRatio ||\n",
       "\tthis.context.oBackingStorePixelRatio ||\n",
       "\tthis.context.backingStorePixelRatio || 1;\n",
       "\n",
       "    mpl.ratio = (window.devicePixelRatio || 1) / backingStore;\n",
       "\n",
       "    var rubberband = $('<canvas/>');\n",
       "    rubberband.attr('style', \"position: absolute; left: 0; top: 0; z-index: 1;\")\n",
       "\n",
       "    var pass_mouse_events = true;\n",
       "\n",
       "    canvas_div.resizable({\n",
       "        start: function(event, ui) {\n",
       "            pass_mouse_events = false;\n",
       "        },\n",
       "        resize: function(event, ui) {\n",
       "            fig.request_resize(ui.size.width, ui.size.height);\n",
       "        },\n",
       "        stop: function(event, ui) {\n",
       "            pass_mouse_events = true;\n",
       "            fig.request_resize(ui.size.width, ui.size.height);\n",
       "        },\n",
       "    });\n",
       "\n",
       "    function mouse_event_fn(event) {\n",
       "        if (pass_mouse_events)\n",
       "            return fig.mouse_event(event, event['data']);\n",
       "    }\n",
       "\n",
       "    rubberband.mousedown('button_press', mouse_event_fn);\n",
       "    rubberband.mouseup('button_release', mouse_event_fn);\n",
       "    // Throttle sequential mouse events to 1 every 20ms.\n",
       "    rubberband.mousemove('motion_notify', mouse_event_fn);\n",
       "\n",
       "    rubberband.mouseenter('figure_enter', mouse_event_fn);\n",
       "    rubberband.mouseleave('figure_leave', mouse_event_fn);\n",
       "\n",
       "    canvas_div.on(\"wheel\", function (event) {\n",
       "        event = event.originalEvent;\n",
       "        event['data'] = 'scroll'\n",
       "        if (event.deltaY < 0) {\n",
       "            event.step = 1;\n",
       "        } else {\n",
       "            event.step = -1;\n",
       "        }\n",
       "        mouse_event_fn(event);\n",
       "    });\n",
       "\n",
       "    canvas_div.append(canvas);\n",
       "    canvas_div.append(rubberband);\n",
       "\n",
       "    this.rubberband = rubberband;\n",
       "    this.rubberband_canvas = rubberband[0];\n",
       "    this.rubberband_context = rubberband[0].getContext(\"2d\");\n",
       "    this.rubberband_context.strokeStyle = \"#000000\";\n",
       "\n",
       "    this._resize_canvas = function(width, height) {\n",
       "        // Keep the size of the canvas, canvas container, and rubber band\n",
       "        // canvas in synch.\n",
       "        canvas_div.css('width', width)\n",
       "        canvas_div.css('height', height)\n",
       "\n",
       "        canvas.attr('width', width * mpl.ratio);\n",
       "        canvas.attr('height', height * mpl.ratio);\n",
       "        canvas.attr('style', 'width: ' + width + 'px; height: ' + height + 'px;');\n",
       "\n",
       "        rubberband.attr('width', width);\n",
       "        rubberband.attr('height', height);\n",
       "    }\n",
       "\n",
       "    // Set the figure to an initial 600x600px, this will subsequently be updated\n",
       "    // upon first draw.\n",
       "    this._resize_canvas(600, 600);\n",
       "\n",
       "    // Disable right mouse context menu.\n",
       "    $(this.rubberband_canvas).bind(\"contextmenu\",function(e){\n",
       "        return false;\n",
       "    });\n",
       "\n",
       "    function set_focus () {\n",
       "        canvas.focus();\n",
       "        canvas_div.focus();\n",
       "    }\n",
       "\n",
       "    window.setTimeout(set_focus, 100);\n",
       "}\n",
       "\n",
       "mpl.figure.prototype._init_toolbar = function() {\n",
       "    var fig = this;\n",
       "\n",
       "    var nav_element = $('<div/>');\n",
       "    nav_element.attr('style', 'width: 100%');\n",
       "    this.root.append(nav_element);\n",
       "\n",
       "    // Define a callback function for later on.\n",
       "    function toolbar_event(event) {\n",
       "        return fig.toolbar_button_onclick(event['data']);\n",
       "    }\n",
       "    function toolbar_mouse_event(event) {\n",
       "        return fig.toolbar_button_onmouseover(event['data']);\n",
       "    }\n",
       "\n",
       "    for(var toolbar_ind in mpl.toolbar_items) {\n",
       "        var name = mpl.toolbar_items[toolbar_ind][0];\n",
       "        var tooltip = mpl.toolbar_items[toolbar_ind][1];\n",
       "        var image = mpl.toolbar_items[toolbar_ind][2];\n",
       "        var method_name = mpl.toolbar_items[toolbar_ind][3];\n",
       "\n",
       "        if (!name) {\n",
       "            // put a spacer in here.\n",
       "            continue;\n",
       "        }\n",
       "        var button = $('<button/>');\n",
       "        button.addClass('ui-button ui-widget ui-state-default ui-corner-all ' +\n",
       "                        'ui-button-icon-only');\n",
       "        button.attr('role', 'button');\n",
       "        button.attr('aria-disabled', 'false');\n",
       "        button.click(method_name, toolbar_event);\n",
       "        button.mouseover(tooltip, toolbar_mouse_event);\n",
       "\n",
       "        var icon_img = $('<span/>');\n",
       "        icon_img.addClass('ui-button-icon-primary ui-icon');\n",
       "        icon_img.addClass(image);\n",
       "        icon_img.addClass('ui-corner-all');\n",
       "\n",
       "        var tooltip_span = $('<span/>');\n",
       "        tooltip_span.addClass('ui-button-text');\n",
       "        tooltip_span.html(tooltip);\n",
       "\n",
       "        button.append(icon_img);\n",
       "        button.append(tooltip_span);\n",
       "\n",
       "        nav_element.append(button);\n",
       "    }\n",
       "\n",
       "    var fmt_picker_span = $('<span/>');\n",
       "\n",
       "    var fmt_picker = $('<select/>');\n",
       "    fmt_picker.addClass('mpl-toolbar-option ui-widget ui-widget-content');\n",
       "    fmt_picker_span.append(fmt_picker);\n",
       "    nav_element.append(fmt_picker_span);\n",
       "    this.format_dropdown = fmt_picker[0];\n",
       "\n",
       "    for (var ind in mpl.extensions) {\n",
       "        var fmt = mpl.extensions[ind];\n",
       "        var option = $(\n",
       "            '<option/>', {selected: fmt === mpl.default_extension}).html(fmt);\n",
       "        fmt_picker.append(option);\n",
       "    }\n",
       "\n",
       "    // Add hover states to the ui-buttons\n",
       "    $( \".ui-button\" ).hover(\n",
       "        function() { $(this).addClass(\"ui-state-hover\");},\n",
       "        function() { $(this).removeClass(\"ui-state-hover\");}\n",
       "    );\n",
       "\n",
       "    var status_bar = $('<span class=\"mpl-message\"/>');\n",
       "    nav_element.append(status_bar);\n",
       "    this.message = status_bar[0];\n",
       "}\n",
       "\n",
       "mpl.figure.prototype.request_resize = function(x_pixels, y_pixels) {\n",
       "    // Request matplotlib to resize the figure. Matplotlib will then trigger a resize in the client,\n",
       "    // which will in turn request a refresh of the image.\n",
       "    this.send_message('resize', {'width': x_pixels, 'height': y_pixels});\n",
       "}\n",
       "\n",
       "mpl.figure.prototype.send_message = function(type, properties) {\n",
       "    properties['type'] = type;\n",
       "    properties['figure_id'] = this.id;\n",
       "    this.ws.send(JSON.stringify(properties));\n",
       "}\n",
       "\n",
       "mpl.figure.prototype.send_draw_message = function() {\n",
       "    if (!this.waiting) {\n",
       "        this.waiting = true;\n",
       "        this.ws.send(JSON.stringify({type: \"draw\", figure_id: this.id}));\n",
       "    }\n",
       "}\n",
       "\n",
       "\n",
       "mpl.figure.prototype.handle_save = function(fig, msg) {\n",
       "    var format_dropdown = fig.format_dropdown;\n",
       "    var format = format_dropdown.options[format_dropdown.selectedIndex].value;\n",
       "    fig.ondownload(fig, format);\n",
       "}\n",
       "\n",
       "\n",
       "mpl.figure.prototype.handle_resize = function(fig, msg) {\n",
       "    var size = msg['size'];\n",
       "    if (size[0] != fig.canvas.width || size[1] != fig.canvas.height) {\n",
       "        fig._resize_canvas(size[0], size[1]);\n",
       "        fig.send_message(\"refresh\", {});\n",
       "    };\n",
       "}\n",
       "\n",
       "mpl.figure.prototype.handle_rubberband = function(fig, msg) {\n",
       "    var x0 = msg['x0'] / mpl.ratio;\n",
       "    var y0 = (fig.canvas.height - msg['y0']) / mpl.ratio;\n",
       "    var x1 = msg['x1'] / mpl.ratio;\n",
       "    var y1 = (fig.canvas.height - msg['y1']) / mpl.ratio;\n",
       "    x0 = Math.floor(x0) + 0.5;\n",
       "    y0 = Math.floor(y0) + 0.5;\n",
       "    x1 = Math.floor(x1) + 0.5;\n",
       "    y1 = Math.floor(y1) + 0.5;\n",
       "    var min_x = Math.min(x0, x1);\n",
       "    var min_y = Math.min(y0, y1);\n",
       "    var width = Math.abs(x1 - x0);\n",
       "    var height = Math.abs(y1 - y0);\n",
       "\n",
       "    fig.rubberband_context.clearRect(\n",
       "        0, 0, fig.canvas.width, fig.canvas.height);\n",
       "\n",
       "    fig.rubberband_context.strokeRect(min_x, min_y, width, height);\n",
       "}\n",
       "\n",
       "mpl.figure.prototype.handle_figure_label = function(fig, msg) {\n",
       "    // Updates the figure title.\n",
       "    fig.header.textContent = msg['label'];\n",
       "}\n",
       "\n",
       "mpl.figure.prototype.handle_cursor = function(fig, msg) {\n",
       "    var cursor = msg['cursor'];\n",
       "    switch(cursor)\n",
       "    {\n",
       "    case 0:\n",
       "        cursor = 'pointer';\n",
       "        break;\n",
       "    case 1:\n",
       "        cursor = 'default';\n",
       "        break;\n",
       "    case 2:\n",
       "        cursor = 'crosshair';\n",
       "        break;\n",
       "    case 3:\n",
       "        cursor = 'move';\n",
       "        break;\n",
       "    }\n",
       "    fig.rubberband_canvas.style.cursor = cursor;\n",
       "}\n",
       "\n",
       "mpl.figure.prototype.handle_message = function(fig, msg) {\n",
       "    fig.message.textContent = msg['message'];\n",
       "}\n",
       "\n",
       "mpl.figure.prototype.handle_draw = function(fig, msg) {\n",
       "    // Request the server to send over a new figure.\n",
       "    fig.send_draw_message();\n",
       "}\n",
       "\n",
       "mpl.figure.prototype.handle_image_mode = function(fig, msg) {\n",
       "    fig.image_mode = msg['mode'];\n",
       "}\n",
       "\n",
       "mpl.figure.prototype.updated_canvas_event = function() {\n",
       "    // Called whenever the canvas gets updated.\n",
       "    this.send_message(\"ack\", {});\n",
       "}\n",
       "\n",
       "// A function to construct a web socket function for onmessage handling.\n",
       "// Called in the figure constructor.\n",
       "mpl.figure.prototype._make_on_message_function = function(fig) {\n",
       "    return function socket_on_message(evt) {\n",
       "        if (evt.data instanceof Blob) {\n",
       "            /* FIXME: We get \"Resource interpreted as Image but\n",
       "             * transferred with MIME type text/plain:\" errors on\n",
       "             * Chrome.  But how to set the MIME type?  It doesn't seem\n",
       "             * to be part of the websocket stream */\n",
       "            evt.data.type = \"image/png\";\n",
       "\n",
       "            /* Free the memory for the previous frames */\n",
       "            if (fig.imageObj.src) {\n",
       "                (window.URL || window.webkitURL).revokeObjectURL(\n",
       "                    fig.imageObj.src);\n",
       "            }\n",
       "\n",
       "            fig.imageObj.src = (window.URL || window.webkitURL).createObjectURL(\n",
       "                evt.data);\n",
       "            fig.updated_canvas_event();\n",
       "            fig.waiting = false;\n",
       "            return;\n",
       "        }\n",
       "        else if (typeof evt.data === 'string' && evt.data.slice(0, 21) == \"data:image/png;base64\") {\n",
       "            fig.imageObj.src = evt.data;\n",
       "            fig.updated_canvas_event();\n",
       "            fig.waiting = false;\n",
       "            return;\n",
       "        }\n",
       "\n",
       "        var msg = JSON.parse(evt.data);\n",
       "        var msg_type = msg['type'];\n",
       "\n",
       "        // Call the  \"handle_{type}\" callback, which takes\n",
       "        // the figure and JSON message as its only arguments.\n",
       "        try {\n",
       "            var callback = fig[\"handle_\" + msg_type];\n",
       "        } catch (e) {\n",
       "            console.log(\"No handler for the '\" + msg_type + \"' message type: \", msg);\n",
       "            return;\n",
       "        }\n",
       "\n",
       "        if (callback) {\n",
       "            try {\n",
       "                // console.log(\"Handling '\" + msg_type + \"' message: \", msg);\n",
       "                callback(fig, msg);\n",
       "            } catch (e) {\n",
       "                console.log(\"Exception inside the 'handler_\" + msg_type + \"' callback:\", e, e.stack, msg);\n",
       "            }\n",
       "        }\n",
       "    };\n",
       "}\n",
       "\n",
       "// from http://stackoverflow.com/questions/1114465/getting-mouse-location-in-canvas\n",
       "mpl.findpos = function(e) {\n",
       "    //this section is from http://www.quirksmode.org/js/events_properties.html\n",
       "    var targ;\n",
       "    if (!e)\n",
       "        e = window.event;\n",
       "    if (e.target)\n",
       "        targ = e.target;\n",
       "    else if (e.srcElement)\n",
       "        targ = e.srcElement;\n",
       "    if (targ.nodeType == 3) // defeat Safari bug\n",
       "        targ = targ.parentNode;\n",
       "\n",
       "    // jQuery normalizes the pageX and pageY\n",
       "    // pageX,Y are the mouse positions relative to the document\n",
       "    // offset() returns the position of the element relative to the document\n",
       "    var x = e.pageX - $(targ).offset().left;\n",
       "    var y = e.pageY - $(targ).offset().top;\n",
       "\n",
       "    return {\"x\": x, \"y\": y};\n",
       "};\n",
       "\n",
       "/*\n",
       " * return a copy of an object with only non-object keys\n",
       " * we need this to avoid circular references\n",
       " * http://stackoverflow.com/a/24161582/3208463\n",
       " */\n",
       "function simpleKeys (original) {\n",
       "  return Object.keys(original).reduce(function (obj, key) {\n",
       "    if (typeof original[key] !== 'object')\n",
       "        obj[key] = original[key]\n",
       "    return obj;\n",
       "  }, {});\n",
       "}\n",
       "\n",
       "mpl.figure.prototype.mouse_event = function(event, name) {\n",
       "    var canvas_pos = mpl.findpos(event)\n",
       "\n",
       "    if (name === 'button_press')\n",
       "    {\n",
       "        this.canvas.focus();\n",
       "        this.canvas_div.focus();\n",
       "    }\n",
       "\n",
       "    var x = canvas_pos.x * mpl.ratio;\n",
       "    var y = canvas_pos.y * mpl.ratio;\n",
       "\n",
       "    this.send_message(name, {x: x, y: y, button: event.button,\n",
       "                             step: event.step,\n",
       "                             guiEvent: simpleKeys(event)});\n",
       "\n",
       "    /* This prevents the web browser from automatically changing to\n",
       "     * the text insertion cursor when the button is pressed.  We want\n",
       "     * to control all of the cursor setting manually through the\n",
       "     * 'cursor' event from matplotlib */\n",
       "    event.preventDefault();\n",
       "    return false;\n",
       "}\n",
       "\n",
       "mpl.figure.prototype._key_event_extra = function(event, name) {\n",
       "    // Handle any extra behaviour associated with a key event\n",
       "}\n",
       "\n",
       "mpl.figure.prototype.key_event = function(event, name) {\n",
       "\n",
       "    // Prevent repeat events\n",
       "    if (name == 'key_press')\n",
       "    {\n",
       "        if (event.which === this._key)\n",
       "            return;\n",
       "        else\n",
       "            this._key = event.which;\n",
       "    }\n",
       "    if (name == 'key_release')\n",
       "        this._key = null;\n",
       "\n",
       "    var value = '';\n",
       "    if (event.ctrlKey && event.which != 17)\n",
       "        value += \"ctrl+\";\n",
       "    if (event.altKey && event.which != 18)\n",
       "        value += \"alt+\";\n",
       "    if (event.shiftKey && event.which != 16)\n",
       "        value += \"shift+\";\n",
       "\n",
       "    value += 'k';\n",
       "    value += event.which.toString();\n",
       "\n",
       "    this._key_event_extra(event, name);\n",
       "\n",
       "    this.send_message(name, {key: value,\n",
       "                             guiEvent: simpleKeys(event)});\n",
       "    return false;\n",
       "}\n",
       "\n",
       "mpl.figure.prototype.toolbar_button_onclick = function(name) {\n",
       "    if (name == 'download') {\n",
       "        this.handle_save(this, null);\n",
       "    } else {\n",
       "        this.send_message(\"toolbar_button\", {name: name});\n",
       "    }\n",
       "};\n",
       "\n",
       "mpl.figure.prototype.toolbar_button_onmouseover = function(tooltip) {\n",
       "    this.message.textContent = tooltip;\n",
       "};\n",
       "mpl.toolbar_items = [[\"Home\", \"Reset original view\", \"fa fa-home icon-home\", \"home\"], [\"Back\", \"Back to previous view\", \"fa fa-arrow-left icon-arrow-left\", \"back\"], [\"Forward\", \"Forward to next view\", \"fa fa-arrow-right icon-arrow-right\", \"forward\"], [\"\", \"\", \"\", \"\"], [\"Pan\", \"Pan axes with left mouse, zoom with right\", \"fa fa-arrows icon-move\", \"pan\"], [\"Zoom\", \"Zoom to rectangle\", \"fa fa-square-o icon-check-empty\", \"zoom\"], [\"\", \"\", \"\", \"\"], [\"Download\", \"Download plot\", \"fa fa-floppy-o icon-save\", \"download\"]];\n",
       "\n",
       "mpl.extensions = [\"eps\", \"jpeg\", \"pdf\", \"png\", \"ps\", \"raw\", \"svg\", \"tif\"];\n",
       "\n",
       "mpl.default_extension = \"png\";var comm_websocket_adapter = function(comm) {\n",
       "    // Create a \"websocket\"-like object which calls the given IPython comm\n",
       "    // object with the appropriate methods. Currently this is a non binary\n",
       "    // socket, so there is still some room for performance tuning.\n",
       "    var ws = {};\n",
       "\n",
       "    ws.close = function() {\n",
       "        comm.close()\n",
       "    };\n",
       "    ws.send = function(m) {\n",
       "        //console.log('sending', m);\n",
       "        comm.send(m);\n",
       "    };\n",
       "    // Register the callback with on_msg.\n",
       "    comm.on_msg(function(msg) {\n",
       "        //console.log('receiving', msg['content']['data'], msg);\n",
       "        // Pass the mpl event to the overridden (by mpl) onmessage function.\n",
       "        ws.onmessage(msg['content']['data'])\n",
       "    });\n",
       "    return ws;\n",
       "}\n",
       "\n",
       "mpl.mpl_figure_comm = function(comm, msg) {\n",
       "    // This is the function which gets called when the mpl process\n",
       "    // starts-up an IPython Comm through the \"matplotlib\" channel.\n",
       "\n",
       "    var id = msg.content.data.id;\n",
       "    // Get hold of the div created by the display call when the Comm\n",
       "    // socket was opened in Python.\n",
       "    var element = $(\"#\" + id);\n",
       "    var ws_proxy = comm_websocket_adapter(comm)\n",
       "\n",
       "    function ondownload(figure, format) {\n",
       "        window.open(figure.imageObj.src);\n",
       "    }\n",
       "\n",
       "    var fig = new mpl.figure(id, ws_proxy,\n",
       "                           ondownload,\n",
       "                           element.get(0));\n",
       "\n",
       "    // Call onopen now - mpl needs it, as it is assuming we've passed it a real\n",
       "    // web socket which is closed, not our websocket->open comm proxy.\n",
       "    ws_proxy.onopen();\n",
       "\n",
       "    fig.parent_element = element.get(0);\n",
       "    fig.cell_info = mpl.find_output_cell(\"<div id='\" + id + \"'></div>\");\n",
       "    if (!fig.cell_info) {\n",
       "        console.error(\"Failed to find cell for figure\", id, fig);\n",
       "        return;\n",
       "    }\n",
       "\n",
       "    var output_index = fig.cell_info[2]\n",
       "    var cell = fig.cell_info[0];\n",
       "\n",
       "};\n",
       "\n",
       "mpl.figure.prototype.handle_close = function(fig, msg) {\n",
       "    var width = fig.canvas.width/mpl.ratio\n",
       "    fig.root.unbind('remove')\n",
       "\n",
       "    // Update the output cell to use the data from the current canvas.\n",
       "    fig.push_to_output();\n",
       "    var dataURL = fig.canvas.toDataURL();\n",
       "    // Re-enable the keyboard manager in IPython - without this line, in FF,\n",
       "    // the notebook keyboard shortcuts fail.\n",
       "    IPython.keyboard_manager.enable()\n",
       "    $(fig.parent_element).html('<img src=\"' + dataURL + '\" width=\"' + width + '\">');\n",
       "    fig.close_ws(fig, msg);\n",
       "}\n",
       "\n",
       "mpl.figure.prototype.close_ws = function(fig, msg){\n",
       "    fig.send_message('closing', msg);\n",
       "    // fig.ws.close()\n",
       "}\n",
       "\n",
       "mpl.figure.prototype.push_to_output = function(remove_interactive) {\n",
       "    // Turn the data on the canvas into data in the output cell.\n",
       "    var width = this.canvas.width/mpl.ratio\n",
       "    var dataURL = this.canvas.toDataURL();\n",
       "    this.cell_info[1]['text/html'] = '<img src=\"' + dataURL + '\" width=\"' + width + '\">';\n",
       "}\n",
       "\n",
       "mpl.figure.prototype.updated_canvas_event = function() {\n",
       "    // Tell IPython that the notebook contents must change.\n",
       "    IPython.notebook.set_dirty(true);\n",
       "    this.send_message(\"ack\", {});\n",
       "    var fig = this;\n",
       "    // Wait a second, then push the new image to the DOM so\n",
       "    // that it is saved nicely (might be nice to debounce this).\n",
       "    setTimeout(function () { fig.push_to_output() }, 1000);\n",
       "}\n",
       "\n",
       "mpl.figure.prototype._init_toolbar = function() {\n",
       "    var fig = this;\n",
       "\n",
       "    var nav_element = $('<div/>');\n",
       "    nav_element.attr('style', 'width: 100%');\n",
       "    this.root.append(nav_element);\n",
       "\n",
       "    // Define a callback function for later on.\n",
       "    function toolbar_event(event) {\n",
       "        return fig.toolbar_button_onclick(event['data']);\n",
       "    }\n",
       "    function toolbar_mouse_event(event) {\n",
       "        return fig.toolbar_button_onmouseover(event['data']);\n",
       "    }\n",
       "\n",
       "    for(var toolbar_ind in mpl.toolbar_items){\n",
       "        var name = mpl.toolbar_items[toolbar_ind][0];\n",
       "        var tooltip = mpl.toolbar_items[toolbar_ind][1];\n",
       "        var image = mpl.toolbar_items[toolbar_ind][2];\n",
       "        var method_name = mpl.toolbar_items[toolbar_ind][3];\n",
       "\n",
       "        if (!name) { continue; };\n",
       "\n",
       "        var button = $('<button class=\"btn btn-default\" href=\"#\" title=\"' + name + '\"><i class=\"fa ' + image + ' fa-lg\"></i></button>');\n",
       "        button.click(method_name, toolbar_event);\n",
       "        button.mouseover(tooltip, toolbar_mouse_event);\n",
       "        nav_element.append(button);\n",
       "    }\n",
       "\n",
       "    // Add the status bar.\n",
       "    var status_bar = $('<span class=\"mpl-message\" style=\"text-align:right; float: right;\"/>');\n",
       "    nav_element.append(status_bar);\n",
       "    this.message = status_bar[0];\n",
       "\n",
       "    // Add the close button to the window.\n",
       "    var buttongrp = $('<div class=\"btn-group inline pull-right\"></div>');\n",
       "    var button = $('<button class=\"btn btn-mini btn-primary\" href=\"#\" title=\"Stop Interaction\"><i class=\"fa fa-power-off icon-remove icon-large\"></i></button>');\n",
       "    button.click(function (evt) { fig.handle_close(fig, {}); } );\n",
       "    button.mouseover('Stop Interaction', toolbar_mouse_event);\n",
       "    buttongrp.append(button);\n",
       "    var titlebar = this.root.find($('.ui-dialog-titlebar'));\n",
       "    titlebar.prepend(buttongrp);\n",
       "}\n",
       "\n",
       "mpl.figure.prototype._root_extra_style = function(el){\n",
       "    var fig = this\n",
       "    el.on(\"remove\", function(){\n",
       "\tfig.close_ws(fig, {});\n",
       "    });\n",
       "}\n",
       "\n",
       "mpl.figure.prototype._canvas_extra_style = function(el){\n",
       "    // this is important to make the div 'focusable\n",
       "    el.attr('tabindex', 0)\n",
       "    // reach out to IPython and tell the keyboard manager to turn it's self\n",
       "    // off when our div gets focus\n",
       "\n",
       "    // location in version 3\n",
       "    if (IPython.notebook.keyboard_manager) {\n",
       "        IPython.notebook.keyboard_manager.register_events(el);\n",
       "    }\n",
       "    else {\n",
       "        // location in version 2\n",
       "        IPython.keyboard_manager.register_events(el);\n",
       "    }\n",
       "\n",
       "}\n",
       "\n",
       "mpl.figure.prototype._key_event_extra = function(event, name) {\n",
       "    var manager = IPython.notebook.keyboard_manager;\n",
       "    if (!manager)\n",
       "        manager = IPython.keyboard_manager;\n",
       "\n",
       "    // Check for shift+enter\n",
       "    if (event.shiftKey && event.which == 13) {\n",
       "        this.canvas_div.blur();\n",
       "        event.shiftKey = false;\n",
       "        // Send a \"J\" for go to next cell\n",
       "        event.which = 74;\n",
       "        event.keyCode = 74;\n",
       "        manager.command_mode();\n",
       "        manager.handle_keydown(event);\n",
       "    }\n",
       "}\n",
       "\n",
       "mpl.figure.prototype.handle_save = function(fig, msg) {\n",
       "    fig.ondownload(fig, null);\n",
       "}\n",
       "\n",
       "\n",
       "mpl.find_output_cell = function(html_output) {\n",
       "    // Return the cell and output element which can be found *uniquely* in the notebook.\n",
       "    // Note - this is a bit hacky, but it is done because the \"notebook_saving.Notebook\"\n",
       "    // IPython event is triggered only after the cells have been serialised, which for\n",
       "    // our purposes (turning an active figure into a static one), is too late.\n",
       "    var cells = IPython.notebook.get_cells();\n",
       "    var ncells = cells.length;\n",
       "    for (var i=0; i<ncells; i++) {\n",
       "        var cell = cells[i];\n",
       "        if (cell.cell_type === 'code'){\n",
       "            for (var j=0; j<cell.output_area.outputs.length; j++) {\n",
       "                var data = cell.output_area.outputs[j];\n",
       "                if (data.data) {\n",
       "                    // IPython >= 3 moved mimebundle to data attribute of output\n",
       "                    data = data.data;\n",
       "                }\n",
       "                if (data['text/html'] == html_output) {\n",
       "                    return [cell, data, j];\n",
       "                }\n",
       "            }\n",
       "        }\n",
       "    }\n",
       "}\n",
       "\n",
       "// Register the function which deals with the matplotlib target/channel.\n",
       "// The kernel may be null if the page has been refreshed.\n",
       "if (IPython.notebook.kernel != null) {\n",
       "    IPython.notebook.kernel.comm_manager.register_target('matplotlib', mpl.mpl_figure_comm);\n",
       "}\n"
      ],
      "text/plain": [
       "<IPython.core.display.Javascript object>"
      ]
     },
     "metadata": {},
     "output_type": "display_data"
    },
    {
     "data": {
      "text/html": [
       "<img src=\"data:image/png;base64,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\" width=\"640\">"
      ],
      "text/plain": [
       "<IPython.core.display.HTML object>"
      ]
     },
     "metadata": {},
     "output_type": "display_data"
    }
   ],
   "source": [
    "fig, ax = plt.subplots()\n",
    "ax.plot(freq_full_list, alpha_full_list[:, 2, 2], label=\"Gaussian\")\n",
    "ax.plot(freq_full_list, alpha_zz_full_res, linestyle=\"-.\", c=\"C2\", label=\"Resonance\")\n",
    "ax.plot(freq_full_list, alpha_zz_full_nonres, linestyle=\"-.\", c=\"C3\", label=\"Non-Resonance\")\n",
    "ax.plot(freq_full_list, alpha_zz_full_calc, linestyle=\":\", label=\"Calculated\")\n",
    "rect = patches.Rectangle((0.184, -24), 0.01, 78, linewidth=1, edgecolor='C4', facecolor='C4', alpha=.25)\n",
    "ax.add_patch(rect)\n",
    "ax.set_ylim(-25, 75)\n",
    "ax.set_xlabel(r\"$\\omega$ / $E_\\mathrm{h}$\")\n",
    "ax.set_ylabel(r\"$\\alpha_{zz} (\\omega)$ / a.u.\")\n",
    "ax.set_title(\"Frequency-Dependent Polarizability of $\\mathrm{H_2O_2}$ (RHF/6-31G)\")\n",
    "ax.legend()\n",
    "fig.show()"
   ]
  },
  {
   "cell_type": "markdown",
   "metadata": {},
   "source": [
    "对于前两个激发态能量的窄区间中，我们的结果在非断点附近其实与 Gaussian 的结果也基本一致："
   ]
  },
  {
   "cell_type": "code",
   "execution_count": 53,
   "metadata": {},
   "outputs": [],
   "source": [
    "alpha_zz_small_calc   = np.vectorize(lambda omega: freq_to_alpha (omega)[2, 2])(freq_small_list)\n",
    "alpha_zz_small_res    = np.vectorize(lambda omega: freq_to_res   (omega)[2, 2])(freq_small_list)\n",
    "alpha_zz_small_nonres = np.vectorize(lambda omega: freq_to_nonres(omega)[2, 2])(freq_small_list)"
   ]
  },
  {
   "cell_type": "code",
   "execution_count": 54,
   "metadata": {},
   "outputs": [
    {
     "data": {
      "application/javascript": [
       "/* Put everything inside the global mpl namespace */\n",
       "window.mpl = {};\n",
       "\n",
       "\n",
       "mpl.get_websocket_type = function() {\n",
       "    if (typeof(WebSocket) !== 'undefined') {\n",
       "        return WebSocket;\n",
       "    } else if (typeof(MozWebSocket) !== 'undefined') {\n",
       "        return MozWebSocket;\n",
       "    } else {\n",
       "        alert('Your browser does not have WebSocket support. ' +\n",
       "              'Please try Chrome, Safari or Firefox ≥ 6. ' +\n",
       "              'Firefox 4 and 5 are also supported but you ' +\n",
       "              'have to enable WebSockets in about:config.');\n",
       "    };\n",
       "}\n",
       "\n",
       "mpl.figure = function(figure_id, websocket, ondownload, parent_element) {\n",
       "    this.id = figure_id;\n",
       "\n",
       "    this.ws = websocket;\n",
       "\n",
       "    this.supports_binary = (this.ws.binaryType != undefined);\n",
       "\n",
       "    if (!this.supports_binary) {\n",
       "        var warnings = document.getElementById(\"mpl-warnings\");\n",
       "        if (warnings) {\n",
       "            warnings.style.display = 'block';\n",
       "            warnings.textContent = (\n",
       "                \"This browser does not support binary websocket messages. \" +\n",
       "                    \"Performance may be slow.\");\n",
       "        }\n",
       "    }\n",
       "\n",
       "    this.imageObj = new Image();\n",
       "\n",
       "    this.context = undefined;\n",
       "    this.message = undefined;\n",
       "    this.canvas = undefined;\n",
       "    this.rubberband_canvas = undefined;\n",
       "    this.rubberband_context = undefined;\n",
       "    this.format_dropdown = undefined;\n",
       "\n",
       "    this.image_mode = 'full';\n",
       "\n",
       "    this.root = $('<div/>');\n",
       "    this._root_extra_style(this.root)\n",
       "    this.root.attr('style', 'display: inline-block');\n",
       "\n",
       "    $(parent_element).append(this.root);\n",
       "\n",
       "    this._init_header(this);\n",
       "    this._init_canvas(this);\n",
       "    this._init_toolbar(this);\n",
       "\n",
       "    var fig = this;\n",
       "\n",
       "    this.waiting = false;\n",
       "\n",
       "    this.ws.onopen =  function () {\n",
       "            fig.send_message(\"supports_binary\", {value: fig.supports_binary});\n",
       "            fig.send_message(\"send_image_mode\", {});\n",
       "            if (mpl.ratio != 1) {\n",
       "                fig.send_message(\"set_dpi_ratio\", {'dpi_ratio': mpl.ratio});\n",
       "            }\n",
       "            fig.send_message(\"refresh\", {});\n",
       "        }\n",
       "\n",
       "    this.imageObj.onload = function() {\n",
       "            if (fig.image_mode == 'full') {\n",
       "                // Full images could contain transparency (where diff images\n",
       "                // almost always do), so we need to clear the canvas so that\n",
       "                // there is no ghosting.\n",
       "                fig.context.clearRect(0, 0, fig.canvas.width, fig.canvas.height);\n",
       "            }\n",
       "            fig.context.drawImage(fig.imageObj, 0, 0);\n",
       "        };\n",
       "\n",
       "    this.imageObj.onunload = function() {\n",
       "        fig.ws.close();\n",
       "    }\n",
       "\n",
       "    this.ws.onmessage = this._make_on_message_function(this);\n",
       "\n",
       "    this.ondownload = ondownload;\n",
       "}\n",
       "\n",
       "mpl.figure.prototype._init_header = function() {\n",
       "    var titlebar = $(\n",
       "        '<div class=\"ui-dialog-titlebar ui-widget-header ui-corner-all ' +\n",
       "        'ui-helper-clearfix\"/>');\n",
       "    var titletext = $(\n",
       "        '<div class=\"ui-dialog-title\" style=\"width: 100%; ' +\n",
       "        'text-align: center; padding: 3px;\"/>');\n",
       "    titlebar.append(titletext)\n",
       "    this.root.append(titlebar);\n",
       "    this.header = titletext[0];\n",
       "}\n",
       "\n",
       "\n",
       "\n",
       "mpl.figure.prototype._canvas_extra_style = function(canvas_div) {\n",
       "\n",
       "}\n",
       "\n",
       "\n",
       "mpl.figure.prototype._root_extra_style = function(canvas_div) {\n",
       "\n",
       "}\n",
       "\n",
       "mpl.figure.prototype._init_canvas = function() {\n",
       "    var fig = this;\n",
       "\n",
       "    var canvas_div = $('<div/>');\n",
       "\n",
       "    canvas_div.attr('style', 'position: relative; clear: both; outline: 0');\n",
       "\n",
       "    function canvas_keyboard_event(event) {\n",
       "        return fig.key_event(event, event['data']);\n",
       "    }\n",
       "\n",
       "    canvas_div.keydown('key_press', canvas_keyboard_event);\n",
       "    canvas_div.keyup('key_release', canvas_keyboard_event);\n",
       "    this.canvas_div = canvas_div\n",
       "    this._canvas_extra_style(canvas_div)\n",
       "    this.root.append(canvas_div);\n",
       "\n",
       "    var canvas = $('<canvas/>');\n",
       "    canvas.addClass('mpl-canvas');\n",
       "    canvas.attr('style', \"left: 0; top: 0; z-index: 0; outline: 0\")\n",
       "\n",
       "    this.canvas = canvas[0];\n",
       "    this.context = canvas[0].getContext(\"2d\");\n",
       "\n",
       "    var backingStore = this.context.backingStorePixelRatio ||\n",
       "\tthis.context.webkitBackingStorePixelRatio ||\n",
       "\tthis.context.mozBackingStorePixelRatio ||\n",
       "\tthis.context.msBackingStorePixelRatio ||\n",
       "\tthis.context.oBackingStorePixelRatio ||\n",
       "\tthis.context.backingStorePixelRatio || 1;\n",
       "\n",
       "    mpl.ratio = (window.devicePixelRatio || 1) / backingStore;\n",
       "\n",
       "    var rubberband = $('<canvas/>');\n",
       "    rubberband.attr('style', \"position: absolute; left: 0; top: 0; z-index: 1;\")\n",
       "\n",
       "    var pass_mouse_events = true;\n",
       "\n",
       "    canvas_div.resizable({\n",
       "        start: function(event, ui) {\n",
       "            pass_mouse_events = false;\n",
       "        },\n",
       "        resize: function(event, ui) {\n",
       "            fig.request_resize(ui.size.width, ui.size.height);\n",
       "        },\n",
       "        stop: function(event, ui) {\n",
       "            pass_mouse_events = true;\n",
       "            fig.request_resize(ui.size.width, ui.size.height);\n",
       "        },\n",
       "    });\n",
       "\n",
       "    function mouse_event_fn(event) {\n",
       "        if (pass_mouse_events)\n",
       "            return fig.mouse_event(event, event['data']);\n",
       "    }\n",
       "\n",
       "    rubberband.mousedown('button_press', mouse_event_fn);\n",
       "    rubberband.mouseup('button_release', mouse_event_fn);\n",
       "    // Throttle sequential mouse events to 1 every 20ms.\n",
       "    rubberband.mousemove('motion_notify', mouse_event_fn);\n",
       "\n",
       "    rubberband.mouseenter('figure_enter', mouse_event_fn);\n",
       "    rubberband.mouseleave('figure_leave', mouse_event_fn);\n",
       "\n",
       "    canvas_div.on(\"wheel\", function (event) {\n",
       "        event = event.originalEvent;\n",
       "        event['data'] = 'scroll'\n",
       "        if (event.deltaY < 0) {\n",
       "            event.step = 1;\n",
       "        } else {\n",
       "            event.step = -1;\n",
       "        }\n",
       "        mouse_event_fn(event);\n",
       "    });\n",
       "\n",
       "    canvas_div.append(canvas);\n",
       "    canvas_div.append(rubberband);\n",
       "\n",
       "    this.rubberband = rubberband;\n",
       "    this.rubberband_canvas = rubberband[0];\n",
       "    this.rubberband_context = rubberband[0].getContext(\"2d\");\n",
       "    this.rubberband_context.strokeStyle = \"#000000\";\n",
       "\n",
       "    this._resize_canvas = function(width, height) {\n",
       "        // Keep the size of the canvas, canvas container, and rubber band\n",
       "        // canvas in synch.\n",
       "        canvas_div.css('width', width)\n",
       "        canvas_div.css('height', height)\n",
       "\n",
       "        canvas.attr('width', width * mpl.ratio);\n",
       "        canvas.attr('height', height * mpl.ratio);\n",
       "        canvas.attr('style', 'width: ' + width + 'px; height: ' + height + 'px;');\n",
       "\n",
       "        rubberband.attr('width', width);\n",
       "        rubberband.attr('height', height);\n",
       "    }\n",
       "\n",
       "    // Set the figure to an initial 600x600px, this will subsequently be updated\n",
       "    // upon first draw.\n",
       "    this._resize_canvas(600, 600);\n",
       "\n",
       "    // Disable right mouse context menu.\n",
       "    $(this.rubberband_canvas).bind(\"contextmenu\",function(e){\n",
       "        return false;\n",
       "    });\n",
       "\n",
       "    function set_focus () {\n",
       "        canvas.focus();\n",
       "        canvas_div.focus();\n",
       "    }\n",
       "\n",
       "    window.setTimeout(set_focus, 100);\n",
       "}\n",
       "\n",
       "mpl.figure.prototype._init_toolbar = function() {\n",
       "    var fig = this;\n",
       "\n",
       "    var nav_element = $('<div/>');\n",
       "    nav_element.attr('style', 'width: 100%');\n",
       "    this.root.append(nav_element);\n",
       "\n",
       "    // Define a callback function for later on.\n",
       "    function toolbar_event(event) {\n",
       "        return fig.toolbar_button_onclick(event['data']);\n",
       "    }\n",
       "    function toolbar_mouse_event(event) {\n",
       "        return fig.toolbar_button_onmouseover(event['data']);\n",
       "    }\n",
       "\n",
       "    for(var toolbar_ind in mpl.toolbar_items) {\n",
       "        var name = mpl.toolbar_items[toolbar_ind][0];\n",
       "        var tooltip = mpl.toolbar_items[toolbar_ind][1];\n",
       "        var image = mpl.toolbar_items[toolbar_ind][2];\n",
       "        var method_name = mpl.toolbar_items[toolbar_ind][3];\n",
       "\n",
       "        if (!name) {\n",
       "            // put a spacer in here.\n",
       "            continue;\n",
       "        }\n",
       "        var button = $('<button/>');\n",
       "        button.addClass('ui-button ui-widget ui-state-default ui-corner-all ' +\n",
       "                        'ui-button-icon-only');\n",
       "        button.attr('role', 'button');\n",
       "        button.attr('aria-disabled', 'false');\n",
       "        button.click(method_name, toolbar_event);\n",
       "        button.mouseover(tooltip, toolbar_mouse_event);\n",
       "\n",
       "        var icon_img = $('<span/>');\n",
       "        icon_img.addClass('ui-button-icon-primary ui-icon');\n",
       "        icon_img.addClass(image);\n",
       "        icon_img.addClass('ui-corner-all');\n",
       "\n",
       "        var tooltip_span = $('<span/>');\n",
       "        tooltip_span.addClass('ui-button-text');\n",
       "        tooltip_span.html(tooltip);\n",
       "\n",
       "        button.append(icon_img);\n",
       "        button.append(tooltip_span);\n",
       "\n",
       "        nav_element.append(button);\n",
       "    }\n",
       "\n",
       "    var fmt_picker_span = $('<span/>');\n",
       "\n",
       "    var fmt_picker = $('<select/>');\n",
       "    fmt_picker.addClass('mpl-toolbar-option ui-widget ui-widget-content');\n",
       "    fmt_picker_span.append(fmt_picker);\n",
       "    nav_element.append(fmt_picker_span);\n",
       "    this.format_dropdown = fmt_picker[0];\n",
       "\n",
       "    for (var ind in mpl.extensions) {\n",
       "        var fmt = mpl.extensions[ind];\n",
       "        var option = $(\n",
       "            '<option/>', {selected: fmt === mpl.default_extension}).html(fmt);\n",
       "        fmt_picker.append(option);\n",
       "    }\n",
       "\n",
       "    // Add hover states to the ui-buttons\n",
       "    $( \".ui-button\" ).hover(\n",
       "        function() { $(this).addClass(\"ui-state-hover\");},\n",
       "        function() { $(this).removeClass(\"ui-state-hover\");}\n",
       "    );\n",
       "\n",
       "    var status_bar = $('<span class=\"mpl-message\"/>');\n",
       "    nav_element.append(status_bar);\n",
       "    this.message = status_bar[0];\n",
       "}\n",
       "\n",
       "mpl.figure.prototype.request_resize = function(x_pixels, y_pixels) {\n",
       "    // Request matplotlib to resize the figure. Matplotlib will then trigger a resize in the client,\n",
       "    // which will in turn request a refresh of the image.\n",
       "    this.send_message('resize', {'width': x_pixels, 'height': y_pixels});\n",
       "}\n",
       "\n",
       "mpl.figure.prototype.send_message = function(type, properties) {\n",
       "    properties['type'] = type;\n",
       "    properties['figure_id'] = this.id;\n",
       "    this.ws.send(JSON.stringify(properties));\n",
       "}\n",
       "\n",
       "mpl.figure.prototype.send_draw_message = function() {\n",
       "    if (!this.waiting) {\n",
       "        this.waiting = true;\n",
       "        this.ws.send(JSON.stringify({type: \"draw\", figure_id: this.id}));\n",
       "    }\n",
       "}\n",
       "\n",
       "\n",
       "mpl.figure.prototype.handle_save = function(fig, msg) {\n",
       "    var format_dropdown = fig.format_dropdown;\n",
       "    var format = format_dropdown.options[format_dropdown.selectedIndex].value;\n",
       "    fig.ondownload(fig, format);\n",
       "}\n",
       "\n",
       "\n",
       "mpl.figure.prototype.handle_resize = function(fig, msg) {\n",
       "    var size = msg['size'];\n",
       "    if (size[0] != fig.canvas.width || size[1] != fig.canvas.height) {\n",
       "        fig._resize_canvas(size[0], size[1]);\n",
       "        fig.send_message(\"refresh\", {});\n",
       "    };\n",
       "}\n",
       "\n",
       "mpl.figure.prototype.handle_rubberband = function(fig, msg) {\n",
       "    var x0 = msg['x0'] / mpl.ratio;\n",
       "    var y0 = (fig.canvas.height - msg['y0']) / mpl.ratio;\n",
       "    var x1 = msg['x1'] / mpl.ratio;\n",
       "    var y1 = (fig.canvas.height - msg['y1']) / mpl.ratio;\n",
       "    x0 = Math.floor(x0) + 0.5;\n",
       "    y0 = Math.floor(y0) + 0.5;\n",
       "    x1 = Math.floor(x1) + 0.5;\n",
       "    y1 = Math.floor(y1) + 0.5;\n",
       "    var min_x = Math.min(x0, x1);\n",
       "    var min_y = Math.min(y0, y1);\n",
       "    var width = Math.abs(x1 - x0);\n",
       "    var height = Math.abs(y1 - y0);\n",
       "\n",
       "    fig.rubberband_context.clearRect(\n",
       "        0, 0, fig.canvas.width, fig.canvas.height);\n",
       "\n",
       "    fig.rubberband_context.strokeRect(min_x, min_y, width, height);\n",
       "}\n",
       "\n",
       "mpl.figure.prototype.handle_figure_label = function(fig, msg) {\n",
       "    // Updates the figure title.\n",
       "    fig.header.textContent = msg['label'];\n",
       "}\n",
       "\n",
       "mpl.figure.prototype.handle_cursor = function(fig, msg) {\n",
       "    var cursor = msg['cursor'];\n",
       "    switch(cursor)\n",
       "    {\n",
       "    case 0:\n",
       "        cursor = 'pointer';\n",
       "        break;\n",
       "    case 1:\n",
       "        cursor = 'default';\n",
       "        break;\n",
       "    case 2:\n",
       "        cursor = 'crosshair';\n",
       "        break;\n",
       "    case 3:\n",
       "        cursor = 'move';\n",
       "        break;\n",
       "    }\n",
       "    fig.rubberband_canvas.style.cursor = cursor;\n",
       "}\n",
       "\n",
       "mpl.figure.prototype.handle_message = function(fig, msg) {\n",
       "    fig.message.textContent = msg['message'];\n",
       "}\n",
       "\n",
       "mpl.figure.prototype.handle_draw = function(fig, msg) {\n",
       "    // Request the server to send over a new figure.\n",
       "    fig.send_draw_message();\n",
       "}\n",
       "\n",
       "mpl.figure.prototype.handle_image_mode = function(fig, msg) {\n",
       "    fig.image_mode = msg['mode'];\n",
       "}\n",
       "\n",
       "mpl.figure.prototype.updated_canvas_event = function() {\n",
       "    // Called whenever the canvas gets updated.\n",
       "    this.send_message(\"ack\", {});\n",
       "}\n",
       "\n",
       "// A function to construct a web socket function for onmessage handling.\n",
       "// Called in the figure constructor.\n",
       "mpl.figure.prototype._make_on_message_function = function(fig) {\n",
       "    return function socket_on_message(evt) {\n",
       "        if (evt.data instanceof Blob) {\n",
       "            /* FIXME: We get \"Resource interpreted as Image but\n",
       "             * transferred with MIME type text/plain:\" errors on\n",
       "             * Chrome.  But how to set the MIME type?  It doesn't seem\n",
       "             * to be part of the websocket stream */\n",
       "            evt.data.type = \"image/png\";\n",
       "\n",
       "            /* Free the memory for the previous frames */\n",
       "            if (fig.imageObj.src) {\n",
       "                (window.URL || window.webkitURL).revokeObjectURL(\n",
       "                    fig.imageObj.src);\n",
       "            }\n",
       "\n",
       "            fig.imageObj.src = (window.URL || window.webkitURL).createObjectURL(\n",
       "                evt.data);\n",
       "            fig.updated_canvas_event();\n",
       "            fig.waiting = false;\n",
       "            return;\n",
       "        }\n",
       "        else if (typeof evt.data === 'string' && evt.data.slice(0, 21) == \"data:image/png;base64\") {\n",
       "            fig.imageObj.src = evt.data;\n",
       "            fig.updated_canvas_event();\n",
       "            fig.waiting = false;\n",
       "            return;\n",
       "        }\n",
       "\n",
       "        var msg = JSON.parse(evt.data);\n",
       "        var msg_type = msg['type'];\n",
       "\n",
       "        // Call the  \"handle_{type}\" callback, which takes\n",
       "        // the figure and JSON message as its only arguments.\n",
       "        try {\n",
       "            var callback = fig[\"handle_\" + msg_type];\n",
       "        } catch (e) {\n",
       "            console.log(\"No handler for the '\" + msg_type + \"' message type: \", msg);\n",
       "            return;\n",
       "        }\n",
       "\n",
       "        if (callback) {\n",
       "            try {\n",
       "                // console.log(\"Handling '\" + msg_type + \"' message: \", msg);\n",
       "                callback(fig, msg);\n",
       "            } catch (e) {\n",
       "                console.log(\"Exception inside the 'handler_\" + msg_type + \"' callback:\", e, e.stack, msg);\n",
       "            }\n",
       "        }\n",
       "    };\n",
       "}\n",
       "\n",
       "// from http://stackoverflow.com/questions/1114465/getting-mouse-location-in-canvas\n",
       "mpl.findpos = function(e) {\n",
       "    //this section is from http://www.quirksmode.org/js/events_properties.html\n",
       "    var targ;\n",
       "    if (!e)\n",
       "        e = window.event;\n",
       "    if (e.target)\n",
       "        targ = e.target;\n",
       "    else if (e.srcElement)\n",
       "        targ = e.srcElement;\n",
       "    if (targ.nodeType == 3) // defeat Safari bug\n",
       "        targ = targ.parentNode;\n",
       "\n",
       "    // jQuery normalizes the pageX and pageY\n",
       "    // pageX,Y are the mouse positions relative to the document\n",
       "    // offset() returns the position of the element relative to the document\n",
       "    var x = e.pageX - $(targ).offset().left;\n",
       "    var y = e.pageY - $(targ).offset().top;\n",
       "\n",
       "    return {\"x\": x, \"y\": y};\n",
       "};\n",
       "\n",
       "/*\n",
       " * return a copy of an object with only non-object keys\n",
       " * we need this to avoid circular references\n",
       " * http://stackoverflow.com/a/24161582/3208463\n",
       " */\n",
       "function simpleKeys (original) {\n",
       "  return Object.keys(original).reduce(function (obj, key) {\n",
       "    if (typeof original[key] !== 'object')\n",
       "        obj[key] = original[key]\n",
       "    return obj;\n",
       "  }, {});\n",
       "}\n",
       "\n",
       "mpl.figure.prototype.mouse_event = function(event, name) {\n",
       "    var canvas_pos = mpl.findpos(event)\n",
       "\n",
       "    if (name === 'button_press')\n",
       "    {\n",
       "        this.canvas.focus();\n",
       "        this.canvas_div.focus();\n",
       "    }\n",
       "\n",
       "    var x = canvas_pos.x * mpl.ratio;\n",
       "    var y = canvas_pos.y * mpl.ratio;\n",
       "\n",
       "    this.send_message(name, {x: x, y: y, button: event.button,\n",
       "                             step: event.step,\n",
       "                             guiEvent: simpleKeys(event)});\n",
       "\n",
       "    /* This prevents the web browser from automatically changing to\n",
       "     * the text insertion cursor when the button is pressed.  We want\n",
       "     * to control all of the cursor setting manually through the\n",
       "     * 'cursor' event from matplotlib */\n",
       "    event.preventDefault();\n",
       "    return false;\n",
       "}\n",
       "\n",
       "mpl.figure.prototype._key_event_extra = function(event, name) {\n",
       "    // Handle any extra behaviour associated with a key event\n",
       "}\n",
       "\n",
       "mpl.figure.prototype.key_event = function(event, name) {\n",
       "\n",
       "    // Prevent repeat events\n",
       "    if (name == 'key_press')\n",
       "    {\n",
       "        if (event.which === this._key)\n",
       "            return;\n",
       "        else\n",
       "            this._key = event.which;\n",
       "    }\n",
       "    if (name == 'key_release')\n",
       "        this._key = null;\n",
       "\n",
       "    var value = '';\n",
       "    if (event.ctrlKey && event.which != 17)\n",
       "        value += \"ctrl+\";\n",
       "    if (event.altKey && event.which != 18)\n",
       "        value += \"alt+\";\n",
       "    if (event.shiftKey && event.which != 16)\n",
       "        value += \"shift+\";\n",
       "\n",
       "    value += 'k';\n",
       "    value += event.which.toString();\n",
       "\n",
       "    this._key_event_extra(event, name);\n",
       "\n",
       "    this.send_message(name, {key: value,\n",
       "                             guiEvent: simpleKeys(event)});\n",
       "    return false;\n",
       "}\n",
       "\n",
       "mpl.figure.prototype.toolbar_button_onclick = function(name) {\n",
       "    if (name == 'download') {\n",
       "        this.handle_save(this, null);\n",
       "    } else {\n",
       "        this.send_message(\"toolbar_button\", {name: name});\n",
       "    }\n",
       "};\n",
       "\n",
       "mpl.figure.prototype.toolbar_button_onmouseover = function(tooltip) {\n",
       "    this.message.textContent = tooltip;\n",
       "};\n",
       "mpl.toolbar_items = [[\"Home\", \"Reset original view\", \"fa fa-home icon-home\", \"home\"], [\"Back\", \"Back to previous view\", \"fa fa-arrow-left icon-arrow-left\", \"back\"], [\"Forward\", \"Forward to next view\", \"fa fa-arrow-right icon-arrow-right\", \"forward\"], [\"\", \"\", \"\", \"\"], [\"Pan\", \"Pan axes with left mouse, zoom with right\", \"fa fa-arrows icon-move\", \"pan\"], [\"Zoom\", \"Zoom to rectangle\", \"fa fa-square-o icon-check-empty\", \"zoom\"], [\"\", \"\", \"\", \"\"], [\"Download\", \"Download plot\", \"fa fa-floppy-o icon-save\", \"download\"]];\n",
       "\n",
       "mpl.extensions = [\"eps\", \"jpeg\", \"pdf\", \"png\", \"ps\", \"raw\", \"svg\", \"tif\"];\n",
       "\n",
       "mpl.default_extension = \"png\";var comm_websocket_adapter = function(comm) {\n",
       "    // Create a \"websocket\"-like object which calls the given IPython comm\n",
       "    // object with the appropriate methods. Currently this is a non binary\n",
       "    // socket, so there is still some room for performance tuning.\n",
       "    var ws = {};\n",
       "\n",
       "    ws.close = function() {\n",
       "        comm.close()\n",
       "    };\n",
       "    ws.send = function(m) {\n",
       "        //console.log('sending', m);\n",
       "        comm.send(m);\n",
       "    };\n",
       "    // Register the callback with on_msg.\n",
       "    comm.on_msg(function(msg) {\n",
       "        //console.log('receiving', msg['content']['data'], msg);\n",
       "        // Pass the mpl event to the overridden (by mpl) onmessage function.\n",
       "        ws.onmessage(msg['content']['data'])\n",
       "    });\n",
       "    return ws;\n",
       "}\n",
       "\n",
       "mpl.mpl_figure_comm = function(comm, msg) {\n",
       "    // This is the function which gets called when the mpl process\n",
       "    // starts-up an IPython Comm through the \"matplotlib\" channel.\n",
       "\n",
       "    var id = msg.content.data.id;\n",
       "    // Get hold of the div created by the display call when the Comm\n",
       "    // socket was opened in Python.\n",
       "    var element = $(\"#\" + id);\n",
       "    var ws_proxy = comm_websocket_adapter(comm)\n",
       "\n",
       "    function ondownload(figure, format) {\n",
       "        window.open(figure.imageObj.src);\n",
       "    }\n",
       "\n",
       "    var fig = new mpl.figure(id, ws_proxy,\n",
       "                           ondownload,\n",
       "                           element.get(0));\n",
       "\n",
       "    // Call onopen now - mpl needs it, as it is assuming we've passed it a real\n",
       "    // web socket which is closed, not our websocket->open comm proxy.\n",
       "    ws_proxy.onopen();\n",
       "\n",
       "    fig.parent_element = element.get(0);\n",
       "    fig.cell_info = mpl.find_output_cell(\"<div id='\" + id + \"'></div>\");\n",
       "    if (!fig.cell_info) {\n",
       "        console.error(\"Failed to find cell for figure\", id, fig);\n",
       "        return;\n",
       "    }\n",
       "\n",
       "    var output_index = fig.cell_info[2]\n",
       "    var cell = fig.cell_info[0];\n",
       "\n",
       "};\n",
       "\n",
       "mpl.figure.prototype.handle_close = function(fig, msg) {\n",
       "    var width = fig.canvas.width/mpl.ratio\n",
       "    fig.root.unbind('remove')\n",
       "\n",
       "    // Update the output cell to use the data from the current canvas.\n",
       "    fig.push_to_output();\n",
       "    var dataURL = fig.canvas.toDataURL();\n",
       "    // Re-enable the keyboard manager in IPython - without this line, in FF,\n",
       "    // the notebook keyboard shortcuts fail.\n",
       "    IPython.keyboard_manager.enable()\n",
       "    $(fig.parent_element).html('<img src=\"' + dataURL + '\" width=\"' + width + '\">');\n",
       "    fig.close_ws(fig, msg);\n",
       "}\n",
       "\n",
       "mpl.figure.prototype.close_ws = function(fig, msg){\n",
       "    fig.send_message('closing', msg);\n",
       "    // fig.ws.close()\n",
       "}\n",
       "\n",
       "mpl.figure.prototype.push_to_output = function(remove_interactive) {\n",
       "    // Turn the data on the canvas into data in the output cell.\n",
       "    var width = this.canvas.width/mpl.ratio\n",
       "    var dataURL = this.canvas.toDataURL();\n",
       "    this.cell_info[1]['text/html'] = '<img src=\"' + dataURL + '\" width=\"' + width + '\">';\n",
       "}\n",
       "\n",
       "mpl.figure.prototype.updated_canvas_event = function() {\n",
       "    // Tell IPython that the notebook contents must change.\n",
       "    IPython.notebook.set_dirty(true);\n",
       "    this.send_message(\"ack\", {});\n",
       "    var fig = this;\n",
       "    // Wait a second, then push the new image to the DOM so\n",
       "    // that it is saved nicely (might be nice to debounce this).\n",
       "    setTimeout(function () { fig.push_to_output() }, 1000);\n",
       "}\n",
       "\n",
       "mpl.figure.prototype._init_toolbar = function() {\n",
       "    var fig = this;\n",
       "\n",
       "    var nav_element = $('<div/>');\n",
       "    nav_element.attr('style', 'width: 100%');\n",
       "    this.root.append(nav_element);\n",
       "\n",
       "    // Define a callback function for later on.\n",
       "    function toolbar_event(event) {\n",
       "        return fig.toolbar_button_onclick(event['data']);\n",
       "    }\n",
       "    function toolbar_mouse_event(event) {\n",
       "        return fig.toolbar_button_onmouseover(event['data']);\n",
       "    }\n",
       "\n",
       "    for(var toolbar_ind in mpl.toolbar_items){\n",
       "        var name = mpl.toolbar_items[toolbar_ind][0];\n",
       "        var tooltip = mpl.toolbar_items[toolbar_ind][1];\n",
       "        var image = mpl.toolbar_items[toolbar_ind][2];\n",
       "        var method_name = mpl.toolbar_items[toolbar_ind][3];\n",
       "\n",
       "        if (!name) { continue; };\n",
       "\n",
       "        var button = $('<button class=\"btn btn-default\" href=\"#\" title=\"' + name + '\"><i class=\"fa ' + image + ' fa-lg\"></i></button>');\n",
       "        button.click(method_name, toolbar_event);\n",
       "        button.mouseover(tooltip, toolbar_mouse_event);\n",
       "        nav_element.append(button);\n",
       "    }\n",
       "\n",
       "    // Add the status bar.\n",
       "    var status_bar = $('<span class=\"mpl-message\" style=\"text-align:right; float: right;\"/>');\n",
       "    nav_element.append(status_bar);\n",
       "    this.message = status_bar[0];\n",
       "\n",
       "    // Add the close button to the window.\n",
       "    var buttongrp = $('<div class=\"btn-group inline pull-right\"></div>');\n",
       "    var button = $('<button class=\"btn btn-mini btn-primary\" href=\"#\" title=\"Stop Interaction\"><i class=\"fa fa-power-off icon-remove icon-large\"></i></button>');\n",
       "    button.click(function (evt) { fig.handle_close(fig, {}); } );\n",
       "    button.mouseover('Stop Interaction', toolbar_mouse_event);\n",
       "    buttongrp.append(button);\n",
       "    var titlebar = this.root.find($('.ui-dialog-titlebar'));\n",
       "    titlebar.prepend(buttongrp);\n",
       "}\n",
       "\n",
       "mpl.figure.prototype._root_extra_style = function(el){\n",
       "    var fig = this\n",
       "    el.on(\"remove\", function(){\n",
       "\tfig.close_ws(fig, {});\n",
       "    });\n",
       "}\n",
       "\n",
       "mpl.figure.prototype._canvas_extra_style = function(el){\n",
       "    // this is important to make the div 'focusable\n",
       "    el.attr('tabindex', 0)\n",
       "    // reach out to IPython and tell the keyboard manager to turn it's self\n",
       "    // off when our div gets focus\n",
       "\n",
       "    // location in version 3\n",
       "    if (IPython.notebook.keyboard_manager) {\n",
       "        IPython.notebook.keyboard_manager.register_events(el);\n",
       "    }\n",
       "    else {\n",
       "        // location in version 2\n",
       "        IPython.keyboard_manager.register_events(el);\n",
       "    }\n",
       "\n",
       "}\n",
       "\n",
       "mpl.figure.prototype._key_event_extra = function(event, name) {\n",
       "    var manager = IPython.notebook.keyboard_manager;\n",
       "    if (!manager)\n",
       "        manager = IPython.keyboard_manager;\n",
       "\n",
       "    // Check for shift+enter\n",
       "    if (event.shiftKey && event.which == 13) {\n",
       "        this.canvas_div.blur();\n",
       "        event.shiftKey = false;\n",
       "        // Send a \"J\" for go to next cell\n",
       "        event.which = 74;\n",
       "        event.keyCode = 74;\n",
       "        manager.command_mode();\n",
       "        manager.handle_keydown(event);\n",
       "    }\n",
       "}\n",
       "\n",
       "mpl.figure.prototype.handle_save = function(fig, msg) {\n",
       "    fig.ondownload(fig, null);\n",
       "}\n",
       "\n",
       "\n",
       "mpl.find_output_cell = function(html_output) {\n",
       "    // Return the cell and output element which can be found *uniquely* in the notebook.\n",
       "    // Note - this is a bit hacky, but it is done because the \"notebook_saving.Notebook\"\n",
       "    // IPython event is triggered only after the cells have been serialised, which for\n",
       "    // our purposes (turning an active figure into a static one), is too late.\n",
       "    var cells = IPython.notebook.get_cells();\n",
       "    var ncells = cells.length;\n",
       "    for (var i=0; i<ncells; i++) {\n",
       "        var cell = cells[i];\n",
       "        if (cell.cell_type === 'code'){\n",
       "            for (var j=0; j<cell.output_area.outputs.length; j++) {\n",
       "                var data = cell.output_area.outputs[j];\n",
       "                if (data.data) {\n",
       "                    // IPython >= 3 moved mimebundle to data attribute of output\n",
       "                    data = data.data;\n",
       "                }\n",
       "                if (data['text/html'] == html_output) {\n",
       "                    return [cell, data, j];\n",
       "                }\n",
       "            }\n",
       "        }\n",
       "    }\n",
       "}\n",
       "\n",
       "// Register the function which deals with the matplotlib target/channel.\n",
       "// The kernel may be null if the page has been refreshed.\n",
       "if (IPython.notebook.kernel != null) {\n",
       "    IPython.notebook.kernel.comm_manager.register_target('matplotlib', mpl.mpl_figure_comm);\n",
       "}\n"
      ],
      "text/plain": [
       "<IPython.core.display.Javascript object>"
      ]
     },
     "metadata": {},
     "output_type": "display_data"
    },
    {
     "data": {
      "text/html": [
       "<img src=\"data:image/png;base64,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\" width=\"640\">"
      ],
      "text/plain": [
       "<IPython.core.display.HTML object>"
      ]
     },
     "metadata": {},
     "output_type": "display_data"
    }
   ],
   "source": [
    "fig, ax = plt.subplots()\n",
    "ax.plot(freq_small_list, alpha_small_list[:, 2, 2], label=\"Gaussian\")\n",
    "ax.plot(freq_small_list, alpha_zz_small_res, linestyle=\"-.\", c=\"C2\", label=\"Resonance\")\n",
    "ax.plot(freq_small_list, alpha_zz_small_nonres, linestyle=\"-.\", c=\"C3\", label=\"Non-Resonance\")\n",
    "ax.plot(freq_small_list, alpha_zz_small_calc, linestyle=\":\", label=\"Calculated\")\n",
    "ax.set_xlabel(r\"$\\omega$ / $E_\\mathrm{h}$\")\n",
    "ax.set_ylabel(r\"$\\alpha_{zz} (\\omega)$ / a.u.\")\n",
    "ax.set_title(\"Frequency-Dependent Polarizability of $\\mathrm{H_2O_2}$ (RHF/6-31G)\\nFor First Two Excited States\")\n",
    "ax.legend()\n",
    "fig.show()"
   ]
  },
  {
   "cell_type": "markdown",
   "metadata": {},
   "source": [
    "我们认为我们确实正确计算了含频极化率。在断点附近的行为应当被认为是数值上的微小差别；并且我们认为，在断点 (共振) 处附近产生的极化率的主要贡献部分应为极化率的共振项所产生。"
   ]
  },
  {
   "cell_type": "markdown",
   "metadata": {},
   "source": [
    "### TD-HF 方程含频极化率及其与跃迁偶极矩的关联"
   ]
  },
  {
   "cell_type": "markdown",
   "metadata": {},
   "source": [
    "上一大段中，我们仅仅是用了 TD-HF 给出的跃迁偶极矩结果，反推出了 CP-HF 的公式。但我们并没有介绍过最原始的 TD-HF 极化率表达式。下面我们会从最普遍的公式，推导含频极化率的表达式。下面的推导过程中，程序的部分会少一些。"
   ]
  },
  {
   "cell_type": "markdown",
   "metadata": {},
   "source": [
    "我们从 TD-DFT 的 Casida 方程开始；Casida 方程可以简单地退化到 TD-HF 的情形。我们上面在推演激发频率 $\\omega_n$ 时，也提到了 Casida 方程；\n",
    "\n",
    "$$\n",
    "\\begin{pmatrix} \\mathbb{A} & \\mathbb{B} \\\\ - \\mathbb{B} & - \\mathbb{A} \\end{pmatrix}\n",
    "\\begin{pmatrix} \\mathbf{X}^n \\\\ \\mathbf{Y}^n \\end{pmatrix}\n",
    "= \\omega_n \\begin{pmatrix} \\mathbf{X}^n \\\\ \\mathbf{Y}^n \\end{pmatrix}\n",
    "\\tag{1}\n",
    "$$\n",
    "\n",
    "但下面的 Casida 方程具有更为广泛的适用情形。我们引入外加的偶极微扰 `d_P` $\\mathbf{d}^t$ 与外加激发光束频率 `omega` $\\omega$ 的微扰，则有\n",
    "\n",
    "$$\n",
    "\\begin{pmatrix} \\mathbb{A} & \\mathbb{B} \\\\ \\mathbb{B} & \\mathbb{A} \\end{pmatrix}\n",
    "\\begin{pmatrix} \\mathbf{X}'{}^t \\\\ \\mathbf{Y}'{}^t \\end{pmatrix}\n",
    "= \\omega \\begin{pmatrix} \\mathbf{X}'{}^t \\\\ - \\mathbf{Y}'{}^t \\end{pmatrix} +\n",
    "\\begin{pmatrix} 2 \\mathbf{d}^t \\\\ 2 \\mathbf{d}^t \\end{pmatrix}\n",
    "\\tag{2}\n",
    "$$"
   ]
  },
  {
   "cell_type": "markdown",
   "metadata": {},
   "source": [
    "这里有不少符号上的区别。首先，(1) 式的激发态频率 $\\omega_n$ 与 (2) 式的外加光束的频率 $\\omega$ 并不相同；但 (2) 在一种情形下确实地可以退化到 (1) 式。若现在没有外加偶极微扰 $\\mathbf{d}^t$，那么外加光束必须要恰好处于分子电子的激发频率上，分子的电子云微扰变化才能被允许 (即使时间非常短，这对应的是紫外光谱电子态的平均寿命)。而电子的激发频率不一定只有一个，因此会产生上下标 $n$ 表示不同的激发频率；第 $n$ 个激发态电子云微扰的形变大小和取向由 $\\mathbf{X}^n$ 与 $\\mathbf{Y}^n$ 共同决定；它们将会产生第 $n$ 个激发态的跃迁密度 $\\rho^n (\\boldsymbol{r}, \\omega)$ (下式对 $i, a$ 求和)：\n",
    "\n",
    "$$\n",
    "\\rho^n (\\boldsymbol{r}, \\omega_n) = (X_{ia}^n + Y_{ia}^n) \\phi_i (\\boldsymbol{r}) \\phi_a (\\boldsymbol{r})\n",
    "$$\n",
    "\n",
    "其次，(2) 式的 $\\mathbf{X}'{}^t$ 若不看偶极激发方向 $t$，它还比 (1) 式的 $\\mathbf{X}^n$ 少了 $n$ 并多了一撇；多的一撇是为了区分两者。之所以这里没有 $n$，我们可以这样考虑：在某一个特定的外加偶极微扰 $\\mathbf{d}^t$ 与频率 $\\omega$ 微扰下，分子的电子云确实会发生改变；但这种改变的方式一般是唯一的 (简并情况我们不作讨论)。这种形变所产生的密度形式也是类似的 (下式对 $i, a$ 求和)：\n",
    "\n",
    "$$\n",
    "\\rho (\\boldsymbol{r}, \\mathbf{d}^t, \\omega) = (X_{ia}'{}^t + Y_{ia}'{}^t) \\phi_i (\\boldsymbol{r}) \\phi_a (\\boldsymbol{r})\n",
    "$$"
   ]
  },
  {
   "cell_type": "markdown",
   "metadata": {},
   "source": [
    "含频极化率可以通过上述的形变密度在偶极算符的作用下给出：\n",
    "\n",
    "$$\n",
    "\\alpha_{ts} (\\omega)\n",
    "= \\int -s \\cdot \\rho (\\boldsymbol{r}, \\mathbf{d}^t, \\omega) \\, \\mathrm{d} \\boldsymbol{r}\n",
    "= (X_{ia}'{}^t + Y_{ia}'{}^t) \\int -s \\cdot \\phi_i (\\boldsymbol{r}) \\phi_a (\\boldsymbol{r}) \\, \\mathrm{d} \\boldsymbol{r}\n",
    "= (X_{ia}'{}^t + Y_{ia}'{}^t) d_{ia}^s = (X_P'{}^t + Y_P'{}^t) d_P^s\n",
    "$$"
   ]
  },
  {
   "cell_type": "markdown",
   "metadata": {},
   "source": [
    "其中关于 $X_P'{}^t, Y_P'{}^t$ 需要通过 Casida 方程求取。(2) 式经过简单的代数处理后得到 (3) 式：\n",
    "\n",
    "$$\n",
    "\\begin{pmatrix} \\mathbb{A} - \\omega \\mathbb{1} & \\mathbb{B} \\\\ - \\mathbb{B} & - \\mathbb{A} - \\omega \\mathbb{1} \\end{pmatrix}\n",
    "\\begin{pmatrix} \\mathbf{X}'{}^t \\\\ \\mathbf{Y}'{}^t \\end{pmatrix}\n",
    "= \\begin{pmatrix} 2 \\mathbf{d}^t \\\\ - 2 \\mathbf{d}^t \\end{pmatrix}\n",
    "\\tag{3}\n",
    "$$"
   ]
  },
  {
   "cell_type": "markdown",
   "metadata": {},
   "source": [
    "那么我们有\n",
    "\n",
    "$$\n",
    "\\alpha_{ts} (\\omega) = (X_P'{}^t + Y_P'{}^t) d_P^s\n",
    "= \\begin{pmatrix} \\mathbf{d}^s & \\mathbf{d}^s \\end{pmatrix} \\begin{pmatrix} \\mathbf{X}'{}^t \\\\ \\mathbf{Y}'{}^t \\end{pmatrix}\n",
    "= \\begin{pmatrix} \\mathbf{d}^s & \\mathbf{d}^s \\end{pmatrix}\n",
    "\\begin{pmatrix} \\mathbb{A} - \\omega \\mathbb{1} & \\mathbb{B} \\\\ - \\mathbb{B} & - \\mathbb{A} - \\omega \\mathbb{1} \\end{pmatrix}^{-1}\n",
    "\\begin{pmatrix} 2 \\mathbf{d}^t \\\\ - 2 \\mathbf{d}^t \\end{pmatrix}\n",
    "\\tag{4}\n",
    "$$"
   ]
  },
  {
   "cell_type": "markdown",
   "metadata": {},
   "source": [
    "对于不带频率的情形，我们可以用下面的代码验证："
   ]
  },
  {
   "cell_type": "code",
   "execution_count": 55,
   "metadata": {},
   "outputs": [
    {
     "data": {
      "text/plain": [
       "array([[ 6.58142, -0.0841 , -1.45378],\n",
       "       [-0.0841 ,  4.26835,  0.39969],\n",
       "       [-1.45378,  0.39969, 17.89033]])"
      ]
     },
     "execution_count": 55,
     "metadata": {},
     "output_type": "execute_result"
    }
   ],
   "source": [
    "np.einsum(\"tP, PQ, sQ -> ts\",\n",
    "          np.concatenate([d_P, d_P], axis=1),\n",
    "          np.linalg.inv(AB),\n",
    "          np.concatenate([2 * d_P, - 2 * d_P], axis=1))"
   ]
  },
  {
   "cell_type": "markdown",
   "metadata": {},
   "source": [
    "而对于带频率的情形，我们可以举一个 $\\omega = 0.186 \\, E_\\mathrm{h}$ 的例子："
   ]
  },
  {
   "cell_type": "code",
   "execution_count": 56,
   "metadata": {},
   "outputs": [
    {
     "data": {
      "text/plain": [
       "array([[ 7.28458, -0.05683, -2.08145],\n",
       "       [-0.05683,  4.79845, -1.39731],\n",
       "       [-2.08145, -1.39731, 37.73368]])"
      ]
     },
     "execution_count": 56,
     "metadata": {},
     "output_type": "execute_result"
    }
   ],
   "source": [
    "omega = 0.186\n",
    "np.einsum(\"tP, PQ, sQ -> ts\",\n",
    "          np.concatenate([d_P, d_P], axis=1),\n",
    "          np.linalg.inv(AB - np.eye(nvir*nocc*2) * omega),\n",
    "          np.concatenate([2 * d_P, - 2 * d_P], axis=1))"
   ]
  },
  {
   "cell_type": "markdown",
   "metadata": {},
   "source": [
    "但这样的表达式 (4) 并没有出现跃迁偶极矩。下面我们需要简化表达式。\n",
    "\n",
    "首先，我们回顾式 (3)，得到方程组\n",
    "\n",
    "$$\n",
    "\\begin{align}\n",
    "\\mathbb{A} \\mathbf{X}'{}^t + \\mathbb{B} \\mathbf{Y}'{}^t - \\omega \\mathbf{X}'{}^t &= 2 \\mathbf{d}^t \\\\\n",
    "\\mathbb{B} \\mathbf{X}'{}^t + \\mathbb{A} \\mathbf{Y}'{}^t + \\omega \\mathbf{Y}'{}^t &= 2 \\mathbf{d}^t\n",
    "\\end{align}\n",
    "$$"
   ]
  },
  {
   "cell_type": "markdown",
   "metadata": {},
   "source": [
    "两式加减后，可以得到\n",
    "\n",
    "$$\n",
    "\\begin{align}\n",
    "(\\mathbb{A} + \\mathbb{B}) (\\mathbf{X}'{}^t + \\mathbf{Y}'{}^t) - \\omega (\\mathbf{X}'{}^t - \\mathbf{Y}'{}^t) &= 4 \\mathbf{d}^t \\tag{5} \\\\\n",
    "(\\mathbb{A} - \\mathbb{B}) (\\mathbf{X}'{}^t - \\mathbf{Y}'{}^t) &= \\omega (\\mathbf{X}'{}^t + \\mathbf{Y}'{}^t) \\tag{6}\n",
    "\\end{align}\n",
    "$$"
   ]
  },
  {
   "cell_type": "markdown",
   "metadata": {},
   "source": [
    "利用 (6) 式替换 (5) 式中出现的 $(\\mathbf{X}'{}^t - \\mathbf{Y}'{}^t)$，有\n",
    "\n",
    "$$\n",
    "(\\mathbb{A} - \\mathbb{B}) (\\mathbb{A} + \\mathbb{B}) (\\mathbf{X}'{}^t + \\mathbf{Y}'{}^t) - \\omega^2 (\\mathbf{X}'{}^t + \\mathbf{Y}'{}^t) = 4 (\\mathbb{A} - \\mathbb{B}) \\mathbf{d}^t\n",
    "$$"
   ]
  },
  {
   "cell_type": "markdown",
   "metadata": {},
   "source": [
    "或者，等价地，\n",
    "\n",
    "$$\n",
    "(\\mathbf{X}'{}^t + \\mathbf{Y}'{}^t) = 4 \\left( (\\mathbb{A} - \\mathbb{B}) (\\mathbb{A} + \\mathbb{B}) - \\omega^2 \\mathbb{1} \\right)^{-1} (\\mathbb{A} - \\mathbb{B}) \\mathbf{d}^t\n",
    "$$"
   ]
  },
  {
   "cell_type": "markdown",
   "metadata": {},
   "source": [
    "两边再乘上 $\\mathbf{d}^s$，就得到了含频极化率："
   ]
  },
  {
   "cell_type": "markdown",
   "metadata": {},
   "source": [
    "$$\n",
    "\\alpha_{ts} (\\omega) = 4 \\mathbf{d}^s{}^\\dagger \\left( (\\mathbb{A} - \\mathbb{B}) (\\mathbb{A} + \\mathbb{B}) - \\omega^2 \\mathbb{1} \\right)^{-1} (\\mathbb{A} - \\mathbb{B}) \\mathbf{d}^t \\tag{7}\n",
    "$$"
   ]
  },
  {
   "cell_type": "markdown",
   "metadata": {},
   "source": [
    "以 $\\omega = 0.186 \\, E_\\mathrm{h}$ 来表达上式，则有"
   ]
  },
  {
   "cell_type": "code",
   "execution_count": 57,
   "metadata": {},
   "outputs": [
    {
     "data": {
      "text/plain": [
       "array([[ 7.28458, -0.05683, -2.08145],\n",
       "       [-0.05683,  4.79845, -1.39731],\n",
       "       [-2.08145, -1.39731, 37.73368]])"
      ]
     },
     "execution_count": 57,
     "metadata": {},
     "output_type": "execute_result"
    }
   ],
   "source": [
    "4 * np.einsum(\"tP, PR, RQ, sQ -> ts\", d_P, np.linalg.inv((A - B) @ (A + B) - omega**2 * np.eye(nvir*nocc)), A - B, d_P)"
   ]
  },
  {
   "cell_type": "markdown",
   "metadata": {},
   "source": [
    "上述结果与通过式 (4) 给出的结果一致。\n",
    "\n",
    "下面我们引入一个技巧。我们将会对矩阵 $(\\mathbb{A} - \\mathbb{B}) (\\mathbb{A} + \\mathbb{B}) - \\omega^2 \\mathbb{1}$ 作逆矩阵分解。我们采用的做法是分析矩阵的特征值与特征向量。依据我们对式 (1) 形式的 Casida 方程的讨论，我们应当容易推知\n",
    "\n",
    "$$\n",
    "(\\mathbb{A} - \\mathbb{B}) (\\mathbb{A} + \\mathbb{B}) (\\mathbf{X}^n + \\mathbf{Y}^n) = \\omega_n^2 (\\mathbf{X}^n + \\mathbf{Y}^n) \\tag{8}\n",
    "$$"
   ]
  },
  {
   "cell_type": "code",
   "execution_count": 58,
   "metadata": {},
   "outputs": [
    {
     "data": {
      "text/plain": [
       "True"
      ]
     },
     "execution_count": 58,
     "metadata": {},
     "output_type": "execute_result"
    }
   ],
   "source": [
    "np.allclose((A - B) @ (A + B) @ (X + Y).T, td_eig**2 * (X + Y).T)"
   ]
  },
  {
   "cell_type": "markdown",
   "metadata": {},
   "source": [
    "我们曾经指出过正交条件为 $(\\mathbf{X} + \\mathbf{Y})^\\dagger (\\mathbf{X} - \\mathbf{Y}) = 2 \\cdot \\mathbb{1}$，因此，若将 $\\mathbf{X}, \\mathbf{Y}$ 分别看作是横向维度 $n$ 表示激发态，纵向维度 $P$ 表示激发和退激发分量的方形矩阵：\n",
    "\n",
    "$$\n",
    "\\mathbf{X} = \\begin{pmatrix} \\mathbf{X}^1{}^\\dagger \\\\ \\mathbf{X}^2{}^\\dagger \\\\ \\vdots \\\\ \\mathbf{X}^{n_\\mathrm{occ} n_\\mathrm{vir}}{}^\\dagger \\end{pmatrix}\n",
    "$$\n",
    "\n",
    "那么 $(\\mathbf{X} + \\mathbf{Y})$ 与 $(\\mathbf{X} - \\mathbf{Y})$ 之间存在互逆关系：\n",
    "\n",
    "$$\n",
    "(\\mathbf{X} + \\mathbf{Y})^{-1} = \\frac{1}{2} (\\mathbf{X} - \\mathbf{Y})^\\dagger\n",
    "$$"
   ]
  },
  {
   "cell_type": "code",
   "execution_count": 59,
   "metadata": {},
   "outputs": [
    {
     "data": {
      "text/plain": [
       "True"
      ]
     },
     "execution_count": 59,
     "metadata": {},
     "output_type": "execute_result"
    }
   ],
   "source": [
    "np.allclose(np.linalg.inv(X + Y), 0.5 * (X - Y).T)"
   ]
  },
  {
   "cell_type": "markdown",
   "metadata": {},
   "source": [
    "因此，一定程度上，我们可以认为 $(\\mathbf{X} + \\mathbf{Y})$ 与 $(\\mathbf{X} - \\mathbf{Y})$ 两者是相互对偶的向量组。注意区别这里的 $\\mathbf{X}$ 引入的目的是为了刻画 $\\mathbb{A}, \\mathbb{B}$ 的性质，而与 $\\mathbf{X}'{}^t$ 没有直接关联。\n",
    "\n",
    "这种向量组满足下述特征向量分解公式：\n",
    "\n",
    "$$\n",
    "(\\mathbb{A} - \\mathbb{B}) (\\mathbb{A} + \\mathbb{B}) = \\frac{1}{2} (\\mathbf{X} + \\mathbf{Y}) \\mathbf{\\Omega}^2 (\\mathbf{X} - \\mathbf{Y})^\\dagger\n",
    "$$\n",
    "\n",
    "其中，\n",
    "\n",
    "$$\n",
    "\\mathbf{\\Omega} =\n",
    "\\begin{pmatrix}\n",
    "\\omega_1 & 0 & \\cdots & 0 \\\\\n",
    "0 & \\omega_2 & \\cdots & 0 \\\\\n",
    "\\vdots & \\vdots & \\ddots & \\vdots \\\\\n",
    "0 & 0 & \\cdots & \\omega_{n_\\mathrm{occ} n_\\mathrm{vir}}\n",
    "\\end{pmatrix}\n",
    "$$"
   ]
  },
  {
   "cell_type": "code",
   "execution_count": 60,
   "metadata": {},
   "outputs": [
    {
     "data": {
      "text/plain": [
       "True"
      ]
     },
     "execution_count": 60,
     "metadata": {},
     "output_type": "execute_result"
    }
   ],
   "source": [
    "np.allclose(\n",
    "    0.5 * np.einsum(\"nP, n, nQ -> PQ\", X + Y, td_eig**2, X - Y),\n",
    "    (A - B) @ (A + B))"
   ]
  },
  {
   "cell_type": "markdown",
   "metadata": {},
   "source": [
    "下面我们来讨论矩阵 $(\\mathbb{A} - \\mathbb{B}) (\\mathbb{A} + \\mathbb{B}) - \\omega^2 \\mathbb{1}$。我们容易从式 (8) 推得\n",
    "\n",
    "$$\n",
    "\\left( (\\mathbb{A} - \\mathbb{B}) (\\mathbb{A} + \\mathbb{B}) - \\omega^2 \\mathbb{1} \\right) (\\mathbf{X}^n + \\mathbf{Y}^n) = (\\omega_n^2 - \\omega^2) (\\mathbf{X}^n + \\mathbf{Y}^n)\n",
    "$$\n",
    "\n",
    "即上述方程的本征向量仍然是 $(\\mathbf{X}^n + \\mathbf{Y}^n)$，但本征值却变为 $\\omega_n^2 - \\omega^2$。因此，\n",
    "\n",
    "$$\n",
    "\\left( (\\mathbb{A} - \\mathbb{B}) (\\mathbb{A} + \\mathbb{B}) - \\omega^2 \\mathbb{1} \\right)^{-1} = \\left( \\frac{1}{2} (\\mathbf{X} + \\mathbf{Y}) (\\mathbf{\\Omega}^2 - \\omega^2 \\mathbb{1}) (\\mathbf{X} - \\mathbf{Y})^\\dagger \\right)^{-1} = \\frac{1}{2} (\\mathbf{X} + \\mathbf{Y}) (\\mathbf{\\Omega}^2 - \\omega^2 \\mathbb{1})^{-1} (\\mathbf{X} - \\mathbf{Y})^\\dagger \\tag{9}\n",
    "$$"
   ]
  },
  {
   "cell_type": "markdown",
   "metadata": {},
   "source": [
    "上式中 $(\\mathbf{\\Omega}^2 - \\omega^2 \\mathbb{1})^{-1}$ 是一个极为容易计算的对角矩阵。$\\omega = 0.186 \\, E_\\mathrm{h}$ 下，程序表示上述过程则为"
   ]
  },
  {
   "cell_type": "code",
   "execution_count": 61,
   "metadata": {},
   "outputs": [
    {
     "data": {
      "text/plain": [
       "True"
      ]
     },
     "execution_count": 61,
     "metadata": {},
     "output_type": "execute_result"
    }
   ],
   "source": [
    "np.allclose(\n",
    "    0.5 * np.einsum(\"nP, n, nQ -> PQ\", X + Y, 1 / (td_eig**2 - omega**2), X - Y),\n",
    "    np.linalg.inv((A - B) @ (A + B) - omega**2 * np.eye(nvir*nocc)))"
   ]
  },
  {
   "cell_type": "markdown",
   "metadata": {},
   "source": [
    "将式 (9) 代入到式 (7)，得到\n",
    "\n",
    "$$\n",
    "\\alpha_{ts} (\\omega) = 2 \\mathbf{d}^s{}^\\dagger (\\mathbf{X} + \\mathbf{Y}) (\\mathbf{\\Omega}^2 - \\omega^2 \\mathbb{1})^{-1} (\\mathbf{X} - \\mathbf{Y})^\\dagger (\\mathbb{A} - \\mathbb{B}) \\mathbf{d}^t\n",
    "$$"
   ]
  },
  {
   "cell_type": "markdown",
   "metadata": {},
   "source": [
    "利用极化率的 Hermite 性，并将上述矩阵表达式展开为求和式，得到\n",
    "\n",
    "$$\n",
    "\\alpha_{ts} (\\omega) = 2 d_P^t (\\mathbf{X}^n + \\mathbf{Y}^n)_P \\cdot \\frac{1}{\\omega_n^2 - \\omega^2} \\cdot (\\mathbf{X}^n - \\mathbf{Y}^n)_R (\\mathbb{A} - \\mathbb{B})_{RQ} d_Q^s\n",
    "$$"
   ]
  },
  {
   "cell_type": "code",
   "execution_count": 62,
   "metadata": {},
   "outputs": [
    {
     "data": {
      "text/plain": [
       "array([[ 7.28458, -0.05683, -2.08145],\n",
       "       [-0.05683,  4.79845, -1.39731],\n",
       "       [-2.08145, -1.39731, 37.73368]])"
      ]
     },
     "execution_count": 62,
     "metadata": {},
     "output_type": "execute_result"
    }
   ],
   "source": [
    "2 * np.einsum(\"tP, nP, n, nR, RQ, sQ\", d_P, X + Y, 1 / (td_eig**2 - omega**2), X - Y, A - B, d_P)"
   ]
  },
  {
   "cell_type": "markdown",
   "metadata": {},
   "source": [
    "若要化简上式，首先需要利用 $(\\mathbb{A} - \\mathbb{B})_{RQ}$ 事实上恰好是一个 Hermite 矩阵："
   ]
  },
  {
   "cell_type": "code",
   "execution_count": 63,
   "metadata": {},
   "outputs": [
    {
     "data": {
      "text/plain": [
       "True"
      ]
     },
     "execution_count": 63,
     "metadata": {},
     "output_type": "execute_result"
    }
   ],
   "source": [
    "np.allclose(A - B, (A - B).T)"
   ]
  },
  {
   "cell_type": "markdown",
   "metadata": {},
   "source": [
    "随后注意到 $(\\mathbb{A} - \\mathbb{B})_{QR} (\\mathbf{X}^n - \\mathbf{Y}^n)_R = \\omega_n (\\mathbf{X}^n + \\mathbf{Y}^n)_Q$；于是上式化为\n",
    "\n",
    "$$\n",
    "\\alpha_{ts} (\\omega) = 2 d_P^t (\\mathbf{X}^n + \\mathbf{Y}^n)_P \\cdot \\frac{\\omega_n}{\\omega_n^2 - \\omega^2} \\cdot (\\mathbf{X}^n + \\mathbf{Y}^n)_Q d_Q^s\n",
    "$$"
   ]
  },
  {
   "cell_type": "markdown",
   "metadata": {},
   "source": [
    "我们留意到跃迁偶极矩的定义是 $\\langle 0 | \\hat d{}^t | n \\rangle = d_P^t (\\mathbf{X}^n + \\mathbf{Y}^n)_P$，并且利用下面的小技巧：\n",
    "\n",
    "$$\n",
    "\\frac{\\omega_n}{\\omega_n^2 - \\omega^2} = \\frac{1}{2} \\left( \\frac{1}{\\omega_n - \\omega} - \\frac{1}{\\omega_n + \\omega} \\right)\n",
    "$$\n",
    "\n",
    "我们就可以推知，\n",
    "\n",
    "$$\n",
    "\\alpha_{ts} (\\omega) = \\frac{\\langle 0 | \\hat d{}^t | n \\rangle \\langle n | \\hat d{}^s | 0 \\rangle}{\\omega_n - \\omega} + \\frac{\\langle 0 | \\hat d{}^t | n \\rangle \\langle n | \\hat d{}^s | 0 \\rangle}{\\omega_n + \\omega}\n",
    "$$"
   ]
  },
  {
   "cell_type": "code",
   "execution_count": 64,
   "metadata": {},
   "outputs": [
    {
     "data": {
      "text/plain": [
       "array([[ 7.28458, -0.05683, -2.08145],\n",
       "       [-0.05683,  4.79845, -1.39731],\n",
       "       [-2.08145, -1.39731, 37.73368]])"
      ]
     },
     "execution_count": 64,
     "metadata": {},
     "output_type": "execute_result"
    }
   ],
   "source": [
    "(\n",
    "    + np.einsum(\"tP, nP, n, nQ, sQ -> ts\", d_P, X + Y, 1 / (td_eig - omega), X + Y, d_P)\n",
    "    + np.einsum(\"tP, nP, n, nQ, sQ -> ts\", d_P, X + Y, 1 / (td_eig + omega), X + Y, d_P)\n",
    ")"
   ]
  },
  {
   "cell_type": "markdown",
   "metadata": {},
   "source": [
    "这就完成了从普适的 Casida 方程推演得到跃迁偶极矩表示的极化率的公式了。\n",
    "\n",
    "若接受 Casida 方程的假设前提，那么上述的推演将会是严格的。"
   ]
  },
  {
   "cell_type": "markdown",
   "metadata": {},
   "source": [
    "### TD-HF 方程含频极化率与 CP-HF 方程间的关系"
   ]
  },
  {
   "cell_type": "markdown",
   "metadata": {},
   "source": [
    "我们先回顾静态极化率求取时所使用的 CP-HF 方程：\n",
    "\n",
    "$$\n",
    "A'_{ia, jb} U^t_{jb} = d^t_{ia}\n",
    "$$\n",
    "\n",
    "写为双下标的形式，则为\n",
    "\n",
    "$$\n",
    "A'_{PQ} U^t_Q = d^t_P\n",
    "$$\n",
    "\n",
    "写为矩阵形式，则为\n",
    "\n",
    "$$\n",
    "\\mathbf{A}' \\mathbf{U}^t = \\mathbf{d}^t\n",
    "$$\n",
    "\n",
    "留意到 $A'_{PQ} = (\\mathbb{A} + \\mathbb{B})_{PQ}$，因此上式这对应到 Casida 方程的一个导出式 (5)。若 $\\omega = 0$，则\n",
    "\n",
    "$$\n",
    "(\\mathbb{A} + \\mathbb{B}) (\\mathbf{X}'{}^t + \\mathbf{Y}'{}^t) = 4 \\mathbf{d}^t\n",
    "$$\n",
    "\n",
    "因此，在静态情形 $\\omega = 0$ 下，$\\mathbf{U}^t = \\frac{1}{4} (\\mathbf{X}' + \\mathbf{Y}')$。"
   ]
  },
  {
   "cell_type": "markdown",
   "metadata": {},
   "source": [
    "但若 $\\omega \\neq 0$，那么式 (5) 应写作\n",
    "\n",
    "$$\n",
    "\\left( (\\mathbb{A} + \\mathbb{B}) - \\omega (\\mathbb{A} - \\mathbb{B})^{-1} \\right) (\\mathbf{X}'{}^t + \\mathbf{Y}'{}^t) = 4 \\mathbf{d}^t\n",
    "$$"
   ]
  },
  {
   "cell_type": "markdown",
   "metadata": {},
   "source": [
    "若我们拓展 CP-HF 方程为含频形式\n",
    "\n",
    "$$\n",
    "\\mathbf{A}' (\\omega) \\mathbf{U}^t (\\omega) = \\mathbf{d}^t\n",
    "$$"
   ]
  },
  {
   "cell_type": "markdown",
   "metadata": {},
   "source": [
    "并且极化率可以写为\n",
    "\n",
    "$$\n",
    "\\alpha_{ts} (\\omega) = 4 \\mathbf{U}^t (\\omega)^\\dagger \\mathbf{d}^t\n",
    "$$"
   ]
  },
  {
   "cell_type": "markdown",
   "metadata": {},
   "source": [
    "那么\n",
    "\n",
    "$$\n",
    "\\begin{align}\n",
    "\\mathbf{A}' (\\omega) &= (\\mathbb{A} + \\mathbb{B}) - \\omega (\\mathbb{A} - \\mathbb{B})^{-1} \\\\\n",
    "\\mathbf{U}^t (\\omega) &= \\frac{1}{4} (\\mathbf{X}'{}^t + \\mathbf{Y}'{}^t)\n",
    "\\end{align}\n",
    "$$\n",
    "\n",
    "需要留意尽管我们之前一直没有引入 $(\\omega)$ 记号来强调，但 $\\mathbf{X}'{}^t, \\mathbf{Y}'{}^t$ 是随频率变化而变化的。"
   ]
  },
  {
   "cell_type": "markdown",
   "metadata": {},
   "source": [
    "这就在含频情形下，将 CP-HF 与 TD-HF 的公式联系在了一起。"
   ]
  },
  {
   "cell_type": "markdown",
   "metadata": {},
   "source": [
    "## 总结"
   ]
  },
  {
   "cell_type": "markdown",
   "metadata": {},
   "source": [
    "这篇文档我们简单且不太严格和完整地回顾了静态与含频极化率的计算，通过 Casida 方程推导了含频极化率，并将 TD-HF 分析方法与 CP-HF 方法联系起来。一些主要的结论和拓展思路会是："
   ]
  },
  {
   "cell_type": "markdown",
   "metadata": {},
   "source": [
    "- TD-HF 方程与 CP-HF 方程在静态极化率情形下有极为紧密的联系，两种表达式完全等价；而含频极化率情形下，TD-HF 方程 (Casida 方程) 可以导出与 CP-HF 方程形式类似的方程。这可能是 Frequency-Dependent CP-HF 方程的原型。\n",
    "\n",
    "- 从 CP 的角度讲，根据下式\n",
    "\n",
    "    $$\n",
    "    (\\mathbb{A} + \\mathbb{B}) (\\mathbf{X}'{}^t + \\mathbf{Y}'{}^t) = 4 \\mathbf{d}^t + \\omega (\\mathbb{A} - \\mathbb{B})^{-1} (\\mathbf{X}'{}^t + \\mathbf{Y}'{}^t)\n",
    "    $$\n",
    "    \n",
    "    或\n",
    "    \n",
    "    $$\n",
    "    \\mathbf{A}' (\\omega) \\mathbf{U}^t (\\omega) = \\mathbf{d}^t + \\omega (\\mathbb{A} - \\mathbb{B})^{-1} \\mathbf{U}^t (\\omega)\n",
    "    $$\n",
    "\n",
    "    我们可以想到等式左边是电子云的弛豫过程；等式右边是电子云所受到的外加微扰场。因此电子云的激发过程可以看作外场微扰。\n",
    "    \n",
    "    若退化为没有偶极微扰的分子激发过程，从 CP 的角度看，电子云变形的弛豫效应 (等式左边) 应当恰好能补足电子云激发所导致的变形外场 (等式右边)。当两者自洽时，电子云能态的激发成立。"
   ]
  },
  {
   "cell_type": "markdown",
   "metadata": {},
   "source": [
    "- 上述所述的 TD-HF 方程是 TD 分析中的 Linear Response 关系。事实上，TD 还具有更高阶的分析过程，但这里我们并没有涉及。\n",
    "\n",
    "    一个显而易见的问题会是，电子云已经在外加偶极场中，因此电子云的性质应当已经发生变化；但 Linear Response 给出的 TD-HF 方程 (Casida 方程) 却告诉我们体系的激发能 $\\omega_n$ 并没有变化，无论偶极场的值有多大。这显然违背我们的物理直觉。这也可能意味着以 MP2、CC 为底层量化方法，若外加的相关能密度微扰近似场没有把握住物理实在，那么含频极化率也可能面临激发能 $\\omega_n$ 还仍然是 TD-HF 激发能的情况。"
   ]
  },
  {
   "cell_type": "markdown",
   "metadata": {},
   "source": [
    "- 文档中没有画出，但确实存在的情况是，若入射频率恰好处在分子的激发态密集区，那么单个入射频率下的含频极化率的计算很可能是没有意义的；因为在激发态密集区，含频极化率曲线的振荡情况及其严重，不仅近乎毫无规律可言，其绝对值也大到非常离谱。\n",
    "\n",
    "    Raman 光谱可以认为是含频极化率对分子的简正坐标导数得来。从实验的角度来讲，这可能是表面增强 Raman (SERS) 中化学增强效应的一个很好的性质。若有机物负载在银原子簇上，入射的激发光处于银原子簇的激发能带但又不破坏有机物分子，或让银原子簇与有机物分子产生电荷转移时，Raman 信号确实可以成千上万倍地增强。但从计算的角度来讲，这可能是非常令人绝望的，因为计算过程中的误差把控近乎于不存在；若使用不同的密度泛函近似，即使得到相差 0.1 eV 的激发能带差，即使定性上结果正确，但计算得到的 Raman 信号也可能会有成百上千的误差。\n",
    "    \n",
    "    因此，这可能需要我们对入射光作某种频率增宽，以平缓极化率断点，得到相对定量的数值结果；或者将极化率当作原子可加性的物理性质，进行类似于 AIM (Atomic in Molecule) 的极化率拆分的定性近似分析。"
   ]
  }
 ],
 "metadata": {
  "kernelspec": {
   "display_name": "Python 3",
   "language": "python",
   "name": "python3"
  },
  "language_info": {
   "codemirror_mode": {
    "name": "ipython",
    "version": 3
   },
   "file_extension": ".py",
   "mimetype": "text/x-python",
   "name": "python",
   "nbconvert_exporter": "python",
   "pygments_lexer": "ipython3",
   "version": "3.7.3"
  },
  "toc": {
   "base_numbering": 1,
   "nav_menu": {},
   "number_sections": true,
   "sideBar": true,
   "skip_h1_title": false,
   "title_cell": "Table of Contents",
   "title_sidebar": "Contents",
   "toc_cell": false,
   "toc_position": {},
   "toc_section_display": true,
   "toc_window_display": false
  }
 },
 "nbformat": 4,
 "nbformat_minor": 2
}
