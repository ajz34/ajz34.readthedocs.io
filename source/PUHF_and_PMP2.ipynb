{
 "cells": [
  {
   "cell_type": "markdown",
   "metadata": {},
   "source": [
    "# Gaussian 中的 PUHF/PMP2 结果的重新实现"
   ]
  },
  {
   "cell_type": "markdown",
   "metadata": {},
   "source": [
    "在这一份笔记中，我们将使用 PySCF 的功能与 NumPy 重复 Gaussian 中计算的 PUHF 与 PMP2 能量结果。"
   ]
  },
  {
   "cell_type": "markdown",
   "metadata": {},
   "source": [
    "<div class=\"alert alert-warning\">\n",
    "\n",
    "**请求**\n",
    "\n",
    "尽管这份文档应当成功地重复了 Gaussian 所给出的 PUHF 与 PMP2 能量，但作者目前并不知道这两个能量结果的理论基础。若读者对理论背景有所了解，欢迎前往 [文档的 github](https://github.com/ajz34/ajz34.readthedocs.io/issues) 提 issue。\n",
    "\n",
    "</div>"
   ]
  },
  {
   "cell_type": "code",
   "execution_count": 1,
   "metadata": {},
   "outputs": [],
   "source": [
    "from pyscf import gto, scf, mp"
   ]
  },
  {
   "cell_type": "markdown",
   "metadata": {},
   "source": [
    "## 结果与体系定义"
   ]
  },
  {
   "cell_type": "markdown",
   "metadata": {},
   "source": [
    "### Gaussian 结果"
   ]
  },
  {
   "cell_type": "markdown",
   "metadata": {},
   "source": [
    "在 Gaussian 中，我们使用以下输入卡可以得到 PUHF/PMP2 能量：\n",
    "\n",
    "```\n",
    "#p UMP2(Full)/6-31G nosymm\n",
    "\n",
    "H2O\n",
    "\n",
    "1 2\n",
    "O 0. 0. 0.\n",
    "H 1. 0. 0.\n",
    "H 0. 1. 0.\n",
    "```"
   ]
  },
  {
   "cell_type": "markdown",
   "metadata": {},
   "source": [
    "对于上述分子，其中一些重要的输出结果是\n",
    "\n",
    "1. $E_\\mathrm{UHF}$：-75.5663698168\n",
    "\n",
    "2. $E_\\mathrm{UMP2, corr}$: -0.09541598704\n",
    "\n",
    "3. $E_\\mathrm{UMP2}$: -75.661785803869\n",
    "\n",
    "4. $\\langle S_z \\rangle$: 0.5\n",
    "\n",
    "5. $\\langle S^{2(0)} \\rangle$: 0.75677\n",
    "\n",
    "6. $\\langle S^{2(0)} \\rangle + \\langle S^{2(1)} \\rangle$: 0.75288\n",
    "\n",
    "7. $E_\\mathrm{PUHF}$：-75.568214846\n",
    "\n",
    "8. $E_\\mathrm{PMP2}$: -75.663102325\n",
    "\n",
    "输出文件参见 [PUHF_and_PMP2.out](assets/PUHF_and_PMP2.out)；其中，有效的数据可以通过下述的代码获得："
   ]
  },
  {
   "cell_type": "code",
   "execution_count": 2,
   "metadata": {
    "scrolled": true
   },
   "outputs": [
    {
     "name": "stdout",
     "output_type": "stream",
     "text": [
      "line 349:  SCF Done:  E(UHF) =  -75.5663698168     A.U. after   12 cycles\n",
      "line 351:  <Sx>= 0.0000 <Sy>= 0.0000 <Sz>= 0.5000 <S**2>= 0.7568 S= 0.5034\n",
      "line 383:  (S**2,0)=  0.75677D+00           (S**2,1)=  0.75288D+00\n",
      "line 384:  E(PUHF)=      -0.75568214846D+02        E(PMP2)=      -0.75663102325D+02\n",
      "line 386:  E2 =    -0.9541598704D-01 EUMP2 =    -0.75661785803869D+02\n"
     ]
    }
   ],
   "source": [
    "with open(\"assets/PUHF_and_PMP2.out\", \"r\") as output:\n",
    "    output_lines = output.read().split(\"\\n\")\n",
    "\n",
    "for line_num, line_text in enumerate(output_lines):\n",
    "    if any([keyword in line_text for keyword in\n",
    "            [\"SCF Done\", \"EUMP2\", \"<S**2>\", \"(S**2,1)\", \"E(PMP2)\"]]) \\\n",
    "        and \"Initial guess\" not in line_text:\n",
    "        print(\"line {:03d}: {}\".format(line_num, line_text))"
   ]
  },
  {
   "cell_type": "markdown",
   "metadata": {},
   "source": [
    "我们的目标就是近乎准确无误地重复上述八个结果。"
   ]
  },
  {
   "cell_type": "markdown",
   "metadata": {},
   "source": [
    "### PySCF 体系定义"
   ]
  },
  {
   "cell_type": "markdown",
   "metadata": {},
   "source": [
    "为了获得与 Gaussian 相同的结果，我们需要定义相同的分子与电荷、多重度环境："
   ]
  },
  {
   "cell_type": "code",
   "execution_count": 3,
   "metadata": {},
   "outputs": [
    {
     "data": {
      "text/plain": [
       "<pyscf.gto.mole.Mole at 0x7fae647a4390>"
      ]
     },
     "execution_count": 3,
     "metadata": {},
     "output_type": "execute_result"
    }
   ],
   "source": [
    "mol = gto.Mole()\n",
    "mol.atom = \"\"\"\n",
    "O 0. 0. 0.\n",
    "H 1. 0. 0.\n",
    "H 0. 1. 0.\n",
    "\"\"\"\n",
    "mol.charge = 1\n",
    "mol.spin = 1\n",
    "mol.basis = \"6-31G\"\n",
    "mol.build()"
   ]
  },
  {
   "cell_type": "markdown",
   "metadata": {},
   "source": [
    "通过 PySCF 计算 UHF 能量："
   ]
  },
  {
   "cell_type": "code",
   "execution_count": 4,
   "metadata": {},
   "outputs": [
    {
     "name": "stdout",
     "output_type": "stream",
     "text": [
      "converged SCF energy = -75.5663698072169  <S^2> = 0.75677134  2S+1 = 2.0067599\n"
     ]
    }
   ],
   "source": [
    "scf_eng = scf.UHF(mol)\n",
    "scf_eng.run();"
   ]
  },
  {
   "cell_type": "markdown",
   "metadata": {},
   "source": [
    "上述结果应当能与 $E_\\mathrm{UHF}$ 和 $\\langle S^{2(0)} \\rangle$ 对应。$\\langle S_z \\rangle = 0.5$ 几乎是显然的。不过，我们仍然不了解 $\\langle S^{2(0)} \\rangle$ 是如何生成的。"
   ]
  },
  {
   "cell_type": "markdown",
   "metadata": {},
   "source": [
    "通过 PySCF 计算 UMP2 能量："
   ]
  },
  {
   "cell_type": "code",
   "execution_count": 5,
   "metadata": {},
   "outputs": [
    {
     "name": "stdout",
     "output_type": "stream",
     "text": [
      "E(UMP2) = -75.6617858050029  E_corr = -0.0954159977860057\n"
     ]
    }
   ],
   "source": [
    "mp2_eng = mp.UMP2(scf_eng)\n",
    "mp2_eng.run();"
   ]
  },
  {
   "cell_type": "markdown",
   "metadata": {},
   "source": [
    "上述结果应当能与 $E_\\mathrm{UMP2, corr}$ 和 $E_\\mathrm{UMP2}$ 对应。"
   ]
  },
  {
   "cell_type": "markdown",
   "metadata": {},
   "source": [
    "因此，当前的问题将是回答：如何重复\n",
    "\n",
    "1. $\\langle S^{2(0)} \\rangle$: 0.75677\n",
    "\n",
    "2. $\\langle S^{2(0)} \\rangle + \\langle S^{2(1)} \\rangle$: 0.75288\n",
    "\n",
    "3. $E_\\mathrm{PUHF}$：-75.568214846\n",
    "\n",
    "4. $E_\\mathrm{PMP2}$: -75.663102325"
   ]
  },
  {
   "cell_type": "markdown",
   "metadata": {},
   "source": [
    "### 部分变量定义"
   ]
  },
  {
   "cell_type": "markdown",
   "metadata": {},
   "source": [
    "首先，我们遵从大多数量化文章中的记号\n",
    "\n",
    "- $i, j$ 代表占据分子轨道\n",
    "\n",
    "- $a, b$ 代表非占分子轨道\n",
    "\n",
    "- $p, q$ 代表任意分子轨道\n",
    "\n",
    "- $\\alpha, \\beta$ 代表任意原子轨道"
   ]
  },
  {
   "cell_type": "markdown",
   "metadata": {},
   "source": [
    "<center><b>Table 1. 分子相关变量</b></center>\n",
    "\n",
    "| 变量名 | 元素记号 | 意义与注解 | 标量或区间 |\n",
    "|-|-|-|-|\n",
    "| `nocc_a` | $n_\\mathrm{occ}^\\alpha$ | $\\alpha$ 自旋电子数 | $5$ |\n",
    "| `nocc_b` | $n_\\mathrm{occ}^\\beta$ | $\\beta$ 自旋电子数 | $4$ |\n",
    "| `nmo` | $n_\\mathrm{MO}$ | 分子轨道数 | $13$ |\n",
    "| `nao` | $n_\\mathrm{AO}$ | 原子轨道数 | $13$ |\n",
    "| `S` | $S_{\\mu \\nu}$ | 重叠积分 | - |\n",
    "| `so_a` | - | $\\alpha$ 占据轨道分割 | $[0, 5)$ |\n",
    "| `so_b` | - | $\\beta$ 占据轨道分割 | $[0, 4)$ |\n",
    "| `sv_a` | - | $\\alpha$ 非占轨道分割 | $[5, 13)$ |\n",
    "| `sv_b` | - | $\\beta$ 非占轨道分割 | $[4, 13)$ |\n",
    "| `Sx` | $S_x$ | $x$ 分量自旋 | $0$ |\n",
    "| `Sy` | $S_y$ | $y$ 分量自旋 | $0$ |\n",
    "| `Sz` | $S_z$ | $z$ 分量自旋 | $1/2$ |"
   ]
  },
  {
   "cell_type": "markdown",
   "metadata": {},
   "source": [
    "<center><b>Table 2. UHF 计算相关变量</b></center>\n",
    "\n",
    "| 变量名 | 元素记号 | 意义与注解 |\n",
    "|-|-|-|\n",
    "| `C_a` | $C_{\\mu p}^\\alpha$ | $\\alpha$ 系数矩阵 |\n",
    "| `C_b` | $C_{\\mu p}^\\beta$ | $\\beta$ 系数矩阵 |\n",
    "| `D_a` | $C_{\\mu \\nu}^\\alpha$ | $\\alpha$ 密度矩阵 |\n",
    "| `D_b` | $D_{\\mu \\nu}^\\beta$ | $\\beta$ 密度矩阵 |\n",
    "| `e_a` | $e_{p}^\\alpha$ | $\\alpha$ 轨道能 |\n",
    "| `e_b` | $e_{p}^\\beta$ | $\\alpha$ 轨道能 |\n",
    "| `eo_a` | $e_{i}^\\alpha$ | $\\beta$ 占据轨道能 |\n",
    "| `eo_b` | $e_{i}^\\beta$ | $\\alpha$ 占据轨道能 |\n",
    "| `ev_a` | $e_{a}^\\alpha$ | $\\alpha$ 非占轨道能 |\n",
    "| `ev_b` | $e_{a}^\\beta$ | $\\beta$ 非占轨道能 |\n",
    "| `D2_aa` | $D_{ij}^{ab, \\alpha \\alpha}$ | $\\alpha, \\alpha$ 轨道能差 |\n",
    "| `D2_ab` | $D_{ij}^{ab, \\alpha \\beta}$ | $\\alpha, \\beta$ 轨道能差 |\n",
    "| `D2_bb` | $D_{ij}^{ab, \\beta \\beta}$ | $\\beta, \\beta$ 轨道能差 |"
   ]
  },
  {
   "cell_type": "markdown",
   "metadata": {},
   "source": [
    "<center><b>Table 3. UMP2 计算相关变量</b></center>\n",
    "\n",
    "| 变量名 | 元素记号 | 意义与注解 |\n",
    "|-|-|-|\n",
    "| `t2_aa` | $t_{ij}^{ab, \\alpha \\alpha}$ | $\\alpha, \\alpha$ MP2 激发系数 |\n",
    "| `t2_ab` | $t_{ij}^{ab, \\alpha \\beta}$ | $\\alpha, \\beta$ MP2 激发系数 |\n",
    "| `t2_bb` | $t_{ij}^{ab, \\beta \\beta}$ | $\\beta, \\beta$ MP2 激发系数 |\n",
    "| `D2_aa` | $D_{ij}^{ab, \\alpha \\alpha}$ | $\\alpha, \\alpha$ MP2 激发系数分母 |\n",
    "| `D2_ab` | $D_{ij}^{ab, \\alpha \\beta}$ | $\\alpha, \\beta$ MP2 激发系数分母 |\n",
    "| `D2_bb` | $D_{ij}^{ab, \\beta \\beta}$ | $\\beta, \\beta$ MP2 激发系数分母 |"
   ]
  },
  {
   "cell_type": "markdown",
   "metadata": {},
   "source": [
    "上述需要补充说明的公式有：\n",
    "\n",
    "$$\n",
    "S_z = \\frac{1}{2} (n_\\mathrm{occ}^\\alpha - n_\\mathrm{occ}^\\beta)\n",
    "$$\n",
    "\n",
    "$$\n",
    "D_{ij}^{ab, \\sigma \\sigma'} = e_i^{\\sigma} + e_j^{\\sigma'} - e_a^{\\sigma} - e_b^{\\sigma'}\n",
    "$$"
   ]
  },
  {
   "cell_type": "markdown",
   "metadata": {},
   "source": [
    "需要指出：\n",
    "\n",
    "- 程序中四角标 $D_{ij}^{ab, \\sigma \\sigma'}$ 或 $t_{ij}^{ab, \\sigma \\sigma'}$ 张量的索引顺序是 $i, j, a, b$；这与我以前的 [pyxdh 项目](https://github.com/ajz34/Py_xDH) 的顺序 $i, a, j, b$ 不同。\n",
    "- 轨道记号 $i, j, a, b, p, q$ 在这里应当是自旋轨道，这里出于简化公式表示的目的，就没有在其旁边补上自选方向；取而代之地，矩阵或张量的右上角会说明轨道的自旋。\n",
    "    - 对于类似 $R_{p}^\\sigma$ 或 $R_{\\mu p}^\\sigma$ 的记号，只有一个分子轨道 $p$，因此 $p$ 指代 $\\sigma$ 自旋；\n",
    "    - 对于类似 $R_{pq}^{\\sigma \\sigma'}$ 或 $R_{pq}^{rs, \\sigma \\sigma'}$ 的记号，左侧的 $p, r$ 指代 $\\sigma$ 自旋，而右侧的 $q, s$ 指代 $\\sigma'$ 自旋。"
   ]
  },
  {
   "cell_type": "code",
   "execution_count": 6,
   "metadata": {},
   "outputs": [],
   "source": [
    "# === Molecular\n",
    "# --- Definition\n",
    "nocc_a, nocc_b = mol.nelec\n",
    "nmo = nao = mol.nao\n",
    "S = mol.intor(\"int1e_ovlp\")\n",
    "# --- Derivative\n",
    "so_a, so_b = slice(0, nocc_a), slice(0, nocc_b)\n",
    "sv_a, sv_b = slice(nocc_a, nmo), slice(nocc_b, nmo)\n",
    "Sx, Sy, Sz = 0, 0, 0.5 * (nocc_a - nocc_b)\n",
    "\n",
    "# === UHF Calculation\n",
    "# --- Definition\n",
    "C_a, C_b = scf_eng.mo_coeff\n",
    "D_a, D_b = scf_eng.make_rdm1()\n",
    "e_a, e_b = scf_eng.mo_energy\n",
    "# --- Derivative\n",
    "eo_a, eo_b = e_a[so_a], e_b[so_b]\n",
    "ev_a, ev_b = e_a[sv_a], e_b[sv_b]\n",
    "D2_aa = eo_a[:, None, None, None] + eo_a[None, :, None, None] - ev_a[None, None, :, None] - ev_a[None, None, None, :]\n",
    "D2_ab = eo_a[:, None, None, None] + eo_b[None, :, None, None] - ev_a[None, None, :, None] - ev_b[None, None, None, :]\n",
    "D2_bb = eo_b[:, None, None, None] + eo_b[None, :, None, None] - ev_b[None, None, :, None] - ev_b[None, None, None, :]\n",
    "\n",
    "# === MP2 Calculation\n",
    "t2_aa, t2_ab, t2_bb = mp2_eng.t2"
   ]
  },
  {
   "cell_type": "markdown",
   "metadata": {},
   "source": [
    "作为对四脚标张量性质的验证，我们计算 MP2 相关能 $E_\\mathrm{MP2, corr}$ 如下：\n",
    "\n",
    "$$\n",
    "E_\\mathrm{MP2, corr} =\n",
    "\\frac{1}{4} \\sum_{i^\\alpha j^\\alpha a^\\alpha b^\\alpha} (t_{ij}^{ab, \\alpha \\alpha})^2 D_{ij}^{ab, \\alpha \\alpha} +\n",
    "\\frac{1}{4} \\sum_{i^\\beta j^\\beta a^\\beta b^\\beta} (t_{ij}^{ab, \\beta \\beta})^2 D_{ij}^{ab, \\beta \\beta} +\n",
    "\\sum_{i^\\alpha j^\\beta a^\\alpha b^\\beta} (t_{ij}^{ab, \\alpha \\beta})^2 D_{ij}^{ab, \\alpha \\beta}\n",
    "$$"
   ]
  },
  {
   "cell_type": "code",
   "execution_count": 7,
   "metadata": {},
   "outputs": [
    {
     "data": {
      "text/plain": [
       "-0.09541599778600572"
      ]
     },
     "execution_count": 7,
     "metadata": {},
     "output_type": "execute_result"
    }
   ],
   "source": [
    "(+ 0.25 * (t2_aa**2 * D2_aa).sum()\n",
    " + 0.25 * (t2_bb**2 * D2_bb).sum()\n",
    " + (t2_ab**2 * D2_ab).sum())"
   ]
  },
  {
   "cell_type": "markdown",
   "metadata": {},
   "source": [
    "而 PySCF 所给出的 $E_\\mathrm{MP2, corr}$："
   ]
  },
  {
   "cell_type": "code",
   "execution_count": 8,
   "metadata": {},
   "outputs": [
    {
     "data": {
      "text/plain": [
       "-0.09541599778600571"
      ]
     },
     "execution_count": 8,
     "metadata": {},
     "output_type": "execute_result"
    }
   ],
   "source": [
    "mp2_eng.e_corr"
   ]
  },
  {
   "cell_type": "markdown",
   "metadata": {},
   "source": [
    "## UHF 相关计算"
   ]
  },
  {
   "cell_type": "markdown",
   "metadata": {},
   "source": [
    "### `S_pq` $S_{pq}^{\\alpha \\beta}$"
   ]
  },
  {
   "cell_type": "markdown",
   "metadata": {},
   "source": [
    "$$\n",
    "S_{pq}^{\\alpha \\beta} = \\sum_{\\mu \\nu} C_{\\mu p}^\\alpha S_{\\mu \\nu} C_{\\nu q}^\\beta\n",
    "$$\n",
    "\n",
    "若用量子力学记号，上述矩阵元素可能表示为\n",
    "\n",
    "$$\n",
    "S_{pq}^{\\alpha \\beta} = \\langle p^\\alpha | q^\\beta \\rangle\n",
    "$$"
   ]
  },
  {
   "cell_type": "code",
   "execution_count": 9,
   "metadata": {},
   "outputs": [
    {
     "data": {
      "text/plain": [
       "(13, 13)"
      ]
     },
     "execution_count": 9,
     "metadata": {},
     "output_type": "execute_result"
    }
   ],
   "source": [
    "S_pq = C_a.T @ S @ C_b\n",
    "S_pq.shape"
   ]
  },
  {
   "cell_type": "markdown",
   "metadata": {},
   "source": [
    "我们以后还会使用上述矩阵的占据-占据部分 `S_ij` $S_{ij}^{\\alpha \\beta}$："
   ]
  },
  {
   "cell_type": "code",
   "execution_count": 10,
   "metadata": {},
   "outputs": [
    {
     "data": {
      "text/plain": [
       "(5, 4)"
      ]
     },
     "execution_count": 10,
     "metadata": {},
     "output_type": "execute_result"
    }
   ],
   "source": [
    "S_ij = S_pq[so_a, so_b]\n",
    "S_ij.shape"
   ]
  },
  {
   "cell_type": "markdown",
   "metadata": {},
   "source": [
    "### `S2_0` $\\langle S^{2(0)} \\rangle$"
   ]
  },
  {
   "cell_type": "markdown",
   "metadata": {},
   "source": [
    "$\\langle S^{2(0)} \\rangle$ 在程序中通常写为 `<S^2>` 或 `<S**2>`。在 Gaussian 计算 PUHF 处，还写为 `(S**2,0)`。这意味着是 UHF 波函数的 $\\langle S^2 \\rangle_\\mathrm{UHF}$。相对地，UMP2 波函数给出的对 $\\langle S^2 \\rangle$ 的矫正将记作 $\\langle S^{2(1)} \\rangle$。\n",
    "\n",
    "$$\n",
    "\\langle S^{2(0)} \\rangle = \\frac{1}{2} (n_\\mathrm{occ}^\\alpha + n_\\mathrm{occ}^\\beta) + S_x^2 + S_y^2 + S_z^2 - \\sum_{i^\\alpha j^\\beta} (S_{ij}^{\\alpha \\beta})^2\n",
    "$$"
   ]
  },
  {
   "cell_type": "code",
   "execution_count": 11,
   "metadata": {},
   "outputs": [
    {
     "data": {
      "text/plain": [
       "0.7567713384723822"
      ]
     },
     "execution_count": 11,
     "metadata": {},
     "output_type": "execute_result"
    }
   ],
   "source": [
    "S2_0 = 0.5 * (nocc_a + nocc_b) + Sx**2 + Sy**2 + Sz**2 - (S_ij**2).sum()\n",
    "S2_0"
   ]
  },
  {
   "cell_type": "markdown",
   "metadata": {},
   "source": [
    "### `S4SD` $\\texttt{S4SD}$"
   ]
  },
  {
   "cell_type": "markdown",
   "metadata": {},
   "source": [
    "`S4SD` 的表达式较为复杂，我们也直接使用 $\\texttt{S4SD}$ 而不用其他记号表示该项：\n",
    "\n",
    "$$\n",
    "\\begin{align}\n",
    "\\texttt{S4SD} =\n",
    "&(S_z (S_z + 1) + n_\\mathrm{occ}^\\beta)^2 + n_\\mathrm{occ}^\\alpha n_\\mathrm{occ}^\\beta + 2 \\, \\sum_{i^\\alpha j^\\beta} \\big( S_{ij}^{\\alpha \\beta} \\big)^2 \\\\\n",
    "&+ \\big( 2 S_z^2 + 2 (n_\\mathrm{occ}^\\alpha + n_\\mathrm{occ}^\\beta) - 2 \\big) \\, \\sum_{i^\\alpha j^\\beta} \\big( S_{ij}^{\\alpha \\beta} \\big)^2 \\\\\n",
    "&- 2 \\sum_{i^\\alpha j^\\beta k^\\alpha l^\\beta} S_{ij}^{\\alpha \\beta} S_{kj}^{\\alpha \\beta} S_{kl}^{\\alpha \\beta} S_{il}^{\\alpha \\beta}\n",
    "\\end{align}\n",
    "$$"
   ]
  },
  {
   "cell_type": "markdown",
   "metadata": {},
   "source": [
    "由于上述公式比较复杂，我们按如下方式定义分项：\n",
    "\n",
    "$$\n",
    "\\begin{align}\n",
    "\\texttt{RD} &= S_z (S_z + 1) + n_\\mathrm{occ}^\\beta \\\\\n",
    "\\texttt{TT2} &= 2 S_z^2 + 2 (n_\\mathrm{occ}^\\alpha + n_\\mathrm{occ}^\\beta) - 2 \\\\\n",
    "\\texttt{TrPQ1} &= \\sum_{i^\\alpha j^\\beta} \\big( S_{ij}^{\\alpha \\beta} \\big)^2 = \\sum_{i^\\alpha j^\\beta} \\langle i^\\alpha | j^\\beta \\rangle \\langle j^\\beta | i^\\alpha \\rangle \\\\\n",
    "\\texttt{TrPQ2} &= \\sum_{i^\\alpha j^\\beta k^\\alpha l^\\beta} S_{ij}^{\\alpha \\beta} S_{kj}^{\\alpha \\beta} S_{kl}^{\\alpha \\beta} S_{il}^{\\alpha \\beta} \\\\\n",
    "&= \\sum_{i^\\alpha j^\\beta k^\\alpha l^\\beta} \\langle i^\\alpha | j^\\beta \\rangle \\langle j^\\beta | k^\\alpha \\rangle \\langle k^\\alpha | l^\\beta \\rangle \\langle l^\\beta | i^\\alpha \\rangle\n",
    "\\end{align}\n",
    "$$\n",
    "\n",
    "那么\n",
    "\n",
    "$$\n",
    "\\texttt{S4SD} = \\texttt{RD}^2 + n_\\mathrm{occ}^\\alpha n_\\mathrm{occ}^\\beta + 2 \\times \\texttt{TrPQ1}^2 + \\texttt{TT2} \\times \\texttt{TrPQ1} - 2 \\times \\texttt{TrPQ2}\n",
    "$$"
   ]
  },
  {
   "cell_type": "code",
   "execution_count": 12,
   "metadata": {},
   "outputs": [],
   "source": [
    "RD = Sz * (Sz + 1) + nocc_b\n",
    "TT2 = 2 * Sz**2 + 2 * (nocc_a + nocc_b) - 2\n",
    "TrPQ1 = (S_ij**2).sum()\n",
    "TrPQ2 = (S_ij @ S_ij.T @ S_ij @ S_ij.T).trace()"
   ]
  },
  {
   "cell_type": "code",
   "execution_count": 13,
   "metadata": {},
   "outputs": [
    {
     "data": {
      "text/plain": [
       "0.5930233835502321"
      ]
     },
     "execution_count": 13,
     "metadata": {},
     "output_type": "execute_result"
    }
   ],
   "source": [
    "S4SD = RD**2 + nocc_a * nocc_b + 2 * TrPQ1**2 - 2 * TrPQ2 - TT2 * TrPQ1\n",
    "S4SD"
   ]
  },
  {
   "cell_type": "markdown",
   "metadata": {},
   "source": [
    "## UMP2 相关计算"
   ]
  },
  {
   "cell_type": "markdown",
   "metadata": {},
   "source": [
    "### `S2_1` $\\langle S^{2(1)} \\rangle$"
   ]
  },
  {
   "cell_type": "markdown",
   "metadata": {},
   "source": [
    "$$\n",
    "\\langle S^{2(1)} \\rangle = - 2 \\sum_{i^\\alpha j^\\beta a^\\alpha b^\\beta} t_{ij}^{ab, \\alpha \\beta} S_{ib}^{\\alpha \\beta} S_{aj}^{\\alpha \\beta} = - 2 \\sum_{i^\\alpha j^\\beta a^\\alpha b^\\beta} t_{ij}^{ab, \\alpha \\beta} \\langle i^\\alpha | b^\\beta \\rangle \\langle a^\\alpha | j^\\beta \\rangle\n",
    "$$"
   ]
  },
  {
   "cell_type": "code",
   "execution_count": 14,
   "metadata": {},
   "outputs": [
    {
     "data": {
      "text/plain": [
       "-0.0038892907027640506"
      ]
     },
     "execution_count": 14,
     "metadata": {},
     "output_type": "execute_result"
    }
   ],
   "source": [
    "S2_1 = - 2 * (t2_ab * S_pq[so_a, None, None, sv_b] * S_pq.T[None, so_b, sv_a, None]).sum()\n",
    "S2_1"
   ]
  },
  {
   "cell_type": "markdown",
   "metadata": {},
   "source": [
    "因此，UMP2 矫正过的 $\\langle S^2 \\rangle_\\mathrm{UMP2} = \\langle S^{2(0)} \\rangle + \\langle S^{2(1)} \\rangle$ 的结果是"
   ]
  },
  {
   "cell_type": "code",
   "execution_count": 15,
   "metadata": {},
   "outputs": [
    {
     "data": {
      "text/plain": [
       "0.7528820477696182"
      ]
     },
     "execution_count": 15,
     "metadata": {},
     "output_type": "execute_result"
    }
   ],
   "source": [
    "S2_0 + S2_1"
   ]
  },
  {
   "cell_type": "markdown",
   "metadata": {},
   "source": [
    "Gaussian 的参考值是 0.75288。"
   ]
  },
  {
   "cell_type": "markdown",
   "metadata": {},
   "source": [
    "### `PUHF` $\\texttt{PUHF}$"
   ]
  },
  {
   "cell_type": "markdown",
   "metadata": {},
   "source": [
    "$$\n",
    "\\texttt{PUHF} = - \\sum_{i^\\alpha j^\\beta a^\\alpha b^\\beta} t_{ij}^{ab, \\alpha \\beta} D_{ij}^{ab, \\alpha \\beta} S_{ib}^{\\alpha \\beta} S_{aj}^{\\alpha \\beta}\n",
    "= - \\sum_{i^\\alpha j^\\beta a^\\alpha b^\\beta} \\langle i^\\alpha j^\\beta \\Vert a^\\alpha b^\\beta \\rangle \\langle i^\\alpha | b^\\beta \\rangle \\langle a^\\alpha | j^\\beta \\rangle\n",
    "$$"
   ]
  },
  {
   "cell_type": "code",
   "execution_count": 16,
   "metadata": {},
   "outputs": [],
   "source": [
    "PUHF = - (t2_ab * D2_ab * S_pq[so_a, None, None, sv_b] * S_pq.T[None, so_b, sv_a, None]).sum()"
   ]
  },
  {
   "cell_type": "markdown",
   "metadata": {},
   "source": [
    "该 `PUHF` $\\texttt{PUHF}$ 是一个中间变量，**并非**经过自旋污染矫正的能量 $E_\\mathrm{PUHF}$。"
   ]
  },
  {
   "cell_type": "markdown",
   "metadata": {},
   "source": [
    "## 自旋污染矫正能量计算"
   ]
  },
  {
   "cell_type": "markdown",
   "metadata": {},
   "source": [
    "### `EPUHF` $E_\\mathrm{PUHF}$"
   ]
  },
  {
   "cell_type": "markdown",
   "metadata": {},
   "source": [
    "为了程序方便，定义下述临时变量\n",
    "\n",
    "$$\n",
    "\\texttt{Y} = \\langle S^{2(0)} \\rangle - (S_z + 1) (S_z + 2)\n",
    "$$\n",
    "\n",
    "那么\n",
    "\n",
    "$$\n",
    "E_\\mathrm{PUHF} = E_\\mathrm{UHF} + \\frac{\\texttt{PUHF}}{\\texttt{Y}}\n",
    "= E_\\mathrm{UHF} - \\frac{\\sum_{i^\\alpha j^\\beta a^\\alpha b^\\beta} \\langle i^\\alpha j^\\beta \\Vert a^\\alpha b^\\beta \\rangle \\langle i^\\alpha | b^\\beta \\rangle \\langle a^\\alpha | j^\\beta \\rangle}{\\langle S^{2(0)} \\rangle - (S_z + 1) (S_z + 2)}\n",
    "$$"
   ]
  },
  {
   "cell_type": "code",
   "execution_count": 17,
   "metadata": {},
   "outputs": [
    {
     "data": {
      "text/plain": [
       "-75.56821484772901"
      ]
     },
     "execution_count": 17,
     "metadata": {},
     "output_type": "execute_result"
    }
   ],
   "source": [
    "Y = S2_0 - (Sz + 1) * (Sz + 2)\n",
    "EPUHF = scf_eng.e_tot + PUHF / Y\n",
    "EPUHF"
   ]
  },
  {
   "cell_type": "markdown",
   "metadata": {},
   "source": [
    "Gaussian 的参考值是 -75.568214846。"
   ]
  },
  {
   "cell_type": "markdown",
   "metadata": {},
   "source": [
    "### `EPMP2` $E_\\mathrm{PMP2}$"
   ]
  },
  {
   "cell_type": "markdown",
   "metadata": {},
   "source": [
    "$$\n",
    "\\begin{align}\n",
    "E_\\mathrm{PMP2} &= E_\\mathrm{PUHF} + E_\\mathrm{MP2, corr} - \\frac{\\texttt{PUHF}}{2} \\frac{\\langle S^{2(1)} \\rangle}{\\texttt{S4SD} - \\langle S^{2(0)} \\rangle^2} \\\\\n",
    "&= E_\\mathrm{PUHF} + E_\\mathrm{MP2, corr} + \\frac{1}{2} \\frac{\\langle S^{2(1)} \\rangle}{\\texttt{S4SD} - \\langle S^{2(0)} \\rangle^2} \\sum_{i^\\alpha j^\\beta a^\\alpha b^\\beta} \\langle i^\\alpha j^\\beta \\Vert a^\\alpha b^\\beta \\rangle \\langle i^\\alpha | b^\\beta \\rangle \\langle a^\\alpha | j^\\beta \\rangle\n",
    "\\end{align}\n",
    "$$"
   ]
  },
  {
   "cell_type": "code",
   "execution_count": 18,
   "metadata": {},
   "outputs": [
    {
     "data": {
      "text/plain": [
       "-75.66310233784893"
      ]
     },
     "execution_count": 18,
     "metadata": {},
     "output_type": "execute_result"
    }
   ],
   "source": [
    "EPMP2 = EPUHF + mp2_eng.e_corr - 0.5 * PUHF * S2_1 / (S4SD - S2_0**2)\n",
    "EPMP2"
   ]
  },
  {
   "cell_type": "markdown",
   "metadata": {},
   "source": [
    "Gaussian 的参考值是 -75.663102325。\n",
    "\n",
    "至此，我们已经完成了使用 PySCF 的功能与 NumPy 重复 Gaussian 的 PUHF、PMP2 的能量结果了。"
   ]
  }
 ],
 "metadata": {
  "kernelspec": {
   "display_name": "Python 3",
   "language": "python",
   "name": "python3"
  },
  "language_info": {
   "codemirror_mode": {
    "name": "ipython",
    "version": 3
   },
   "file_extension": ".py",
   "mimetype": "text/x-python",
   "name": "python",
   "nbconvert_exporter": "python",
   "pygments_lexer": "ipython3",
   "version": "3.7.3"
  },
  "toc": {
   "base_numbering": 1,
   "nav_menu": {},
   "number_sections": true,
   "sideBar": true,
   "skip_h1_title": false,
   "title_cell": "Table of Contents",
   "title_sidebar": "Contents",
   "toc_cell": false,
   "toc_position": {},
   "toc_section_display": true,
   "toc_window_display": false
  }
 },
 "nbformat": 4,
 "nbformat_minor": 2
}
